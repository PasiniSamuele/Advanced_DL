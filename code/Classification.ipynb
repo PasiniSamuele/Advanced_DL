{
 "cells": [
  {
   "cell_type": "markdown",
   "id": "64b0897f",
   "metadata": {},
   "source": [
    "# Classifier"
   ]
  },
  {
   "cell_type": "markdown",
   "id": "08a9de04",
   "metadata": {},
   "source": [
    "## Import libraries"
   ]
  },
  {
   "cell_type": "code",
   "execution_count": 31,
   "id": "f30487ab-c2a7-4231-80cd-942fbc97e0a4",
   "metadata": {},
   "outputs": [],
   "source": [
    "import torch\n",
    "import torch.nn as nn\n",
    "import torch.nn.functional as F\n",
    "import torch.optim as optim\n",
    "import os\n",
    "import sys\n",
    "from tqdm.notebook import tqdm, trange\n",
    "from time import sleep\n",
    "from torchvision.io import read_image\n",
    "from torchvision.transforms import ToTensor\n",
    "from torchvision import transforms\n",
    "from torchsummary import summary\n",
    "from torch.utils.data import DataLoader\n",
    "from torchvision.datasets import ImageFolder\n",
    "from collections import Counter\n",
    "import numpy as np\n",
    "from sklearn.metrics import roc_curve, auc\n",
    "from sklearn import datasets\n",
    "from sklearn.multiclass import OneVsRestClassifier\n",
    "from sklearn.svm import LinearSVC\n",
    "from sklearn.preprocessing import label_binarize\n",
    "from sklearn.model_selection import train_test_split\n",
    "import matplotlib.pyplot as plt\n",
    "import pandas as pd\n",
    "from sklearn.model_selection import StratifiedKFold\n",
    "\n",
    "import winsound\n"
   ]
  },
  {
   "cell_type": "code",
   "execution_count": 32,
   "id": "b0cc28d1",
   "metadata": {},
   "outputs": [],
   "source": [
    "seed = 23\n",
    "save_model = True\n",
    "load_model = False\n",
    "\n",
    "models_directory = \"models\"\n",
    "metrics_directory = \"metrics\"\n",
    "metrics_name = \"metrics_filtered_early.csv\"\n",
    "dataset_name = \"Fer2013_merge_selected_85_uniform_aug_surprise_100\"\n",
    "train_df_path = f\"../datasets/{dataset_name}/train\"\n",
    "test_df_path = f\"../datasets/{dataset_name}/test\"\n",
    "\n",
    "batch_size = 64"
   ]
  },
  {
   "cell_type": "code",
   "execution_count": 33,
   "id": "51d3e35d",
   "metadata": {},
   "outputs": [],
   "source": [
    "if not os.path.isdir(models_directory):\n",
    "    os.makedirs(name = models_directory)\n",
    "models_directory_data = os.path.join(models_directory,dataset_name)\n",
    "if not os.path.isdir(models_directory_data):\n",
    "    os.makedirs(name = models_directory_data)"
   ]
  },
  {
   "cell_type": "markdown",
   "id": "ed5c4b34",
   "metadata": {},
   "source": [
    "## Functions definition"
   ]
  },
  {
   "cell_type": "code",
   "execution_count": 34,
   "id": "084cd3c3-e57c-434e-9669-2ff06fa1d080",
   "metadata": {},
   "outputs": [],
   "source": [
    "def get_default_device():\n",
    "    \"\"\"Pick GPU if available, else CPU\"\"\"\n",
    "    if torch.cuda.is_available():\n",
    "        return torch.device('cuda')\n",
    "    else:\n",
    "        return torch.device('cpu')\n",
    "    \n",
    "def to_device(data, device):\n",
    "    \"\"\"Move tensor(s) to chosen device\"\"\"\n",
    "    if isinstance(data, (list,tuple)):\n",
    "        return [to_device(x, device) for x in data]\n",
    "    return data.to(device, non_blocking=True)"
   ]
  },
  {
   "cell_type": "code",
   "execution_count": 35,
   "id": "e0a6ad2d-46c4-4553-94e6-5459666c6a9e",
   "metadata": {},
   "outputs": [],
   "source": [
    "@torch.no_grad()\n",
    "def evaluate(model, val_loader):\n",
    "    model.eval()\n",
    "    outputs = [model.validation_step(batch) for batch in val_loader]\n",
    "    return model.validation_epoch_end(outputs)\n",
    "\n",
    "def get_lr(optimizer):\n",
    "    for param_group in optimizer.param_groups:\n",
    "        return param_group['lr']\n",
    "\n",
    "def fit(epochs, patience, lr, model, train_loader, val_loader, opt_func=torch.optim.SGD, scheduler_func=None, fold = None):\n",
    "    history = []\n",
    "    optimizer = opt_func(model.parameters(), lr, betas=(0.5,0.999))\n",
    "    scheduler = scheduler_func(optimizer, mode='min', patience=3)\n",
    "    min_val_loss = sys.float_info.max\n",
    "    patience_cnt = 0\n",
    "    for epoch in tqdm(range(epochs), desc = \"Current Epoch\"):\n",
    "        # Training Phase \n",
    "        model.train()\n",
    "        train_losses = []\n",
    "        for batch in tqdm(train_loader, desc = f\"Epoch: {epoch}\", leave= False):\n",
    "            optimizer.zero_grad()\n",
    "            loss = model.training_step(batch)\n",
    "            train_losses.append(loss)\n",
    "            loss.backward()\n",
    "            optimizer.step()\n",
    "        # Validation phase\n",
    "        result = evaluate(model, val_loader)\n",
    "        result['train_loss'] = torch.stack(train_losses).mean().item()\n",
    "\n",
    "        scheduler.step(result['val_loss'])\n",
    "        result['lrate'] = get_lr(optimizer)\n",
    "\n",
    "        if epoch > 0 and min_val_loss - result['val_loss'] >= 1e-4:\n",
    "            patience_cnt = 0\n",
    "        else:\n",
    "            patience_cnt += 1\n",
    "            \n",
    "        if result['val_loss'] <= min_val_loss:\n",
    "            min_val_loss = result['val_loss']\n",
    "            min_val_epoch = epoch\n",
    "            model_path = os.path.join(models_directory_data,f\"classifier_fold_{fold}.pt\")\n",
    "            torch.save(model.state_dict(), model_path)\n",
    "\n",
    "        if patience_cnt >= patience:\n",
    "            print('Early stopping')\n",
    "            break\n",
    "\n",
    "        model.epoch_end(epoch, result)\n",
    "        history.append(result)\n",
    "    model.load_state_dict(torch.load(os.path.join(models_directory_data,f\"classifier_fold_{fold}.pt\")))\n",
    "    return history"
   ]
  },
  {
   "cell_type": "markdown",
   "id": "ca246c54",
   "metadata": {},
   "source": [
    "## Class definition"
   ]
  },
  {
   "cell_type": "code",
   "execution_count": 36,
   "id": "30e57e57",
   "metadata": {},
   "outputs": [],
   "source": [
    "class DeviceDataLoader():\n",
    "    \"\"\"Wrap a dataloader to move data to a device\"\"\"\n",
    "    def __init__(self, dl, device):\n",
    "        self.dl = dl\n",
    "        self.device = device\n",
    "        \n",
    "    def __iter__(self):\n",
    "        \"\"\"Yield a batch of data after moving it to device\"\"\"\n",
    "        for b in self.dl: \n",
    "            yield to_device(b, self.device)\n",
    "\n",
    "    def __len__(self):\n",
    "        \"\"\"Number of batches\"\"\"\n",
    "        return len(self.dl)"
   ]
  },
  {
   "cell_type": "code",
   "execution_count": 37,
   "id": "1042dd71-2d30-4b9e-b7fd-dc0178421675",
   "metadata": {},
   "outputs": [],
   "source": [
    "class Metric():\n",
    "    def __init__(self, name):\n",
    "        self.name = name\n",
    "    \n",
    "    def eval(self, outputs, labels):\n",
    "        pass"
   ]
  },
  {
   "cell_type": "code",
   "execution_count": 38,
   "id": "6ab563e9-aeac-45c8-a5da-e99f8cbc54ca",
   "metadata": {},
   "outputs": [],
   "source": [
    "class Accuracy(Metric):\n",
    "    \n",
    "    def eval(self, outputs, labels):\n",
    "        _, preds = torch.max(outputs, dim=1)\n",
    "        return torch.tensor(torch.sum(preds == labels).item() / len(preds))"
   ]
  },
  {
   "cell_type": "code",
   "execution_count": 39,
   "id": "1977248f-bcac-4d98-806b-013f3fa7e6f4",
   "metadata": {},
   "outputs": [],
   "source": [
    "class ImageClassificationBase(nn.Module):\n",
    "    \n",
    "    def __init__(self, loss_function, metrics):\n",
    "        super().__init__()\n",
    "        self.loss_function = loss_function\n",
    "        self.metrics = metrics\n",
    "    \n",
    "    def training_step(self, batch):\n",
    "        images, labels = batch \n",
    "        out = self(images)                  # Generate predictions\n",
    "        loss = self.loss_function(out, labels) # Calculate loss\n",
    "        return loss\n",
    "    \n",
    "    def validation_step(self, batch):\n",
    "        images, labels = batch \n",
    "        out = self(images)                    # Generate predictions\n",
    "        loss = self.loss_function(out, labels)   # Calculate loss\n",
    "        result = {'val_loss': loss.detach()}\n",
    "        \n",
    "        for m in self.metrics:\n",
    "            result[m.name] = m.eval(out, labels)           # Calculate metrics\n",
    "            \n",
    "        return result\n",
    "        \n",
    "    def validation_epoch_end(self, outputs):\n",
    "        batch_losses = [x['val_loss'] for x in outputs]\n",
    "        epoch_loss = torch.stack(batch_losses).mean()   # Combine losses\n",
    "        \n",
    "        result = {'val_loss': epoch_loss.item()}\n",
    "        \n",
    "        for m in self.metrics:\n",
    "            batch = [x[m.name] for x in outputs]\n",
    "            epoch = torch.stack(batch).mean()      # Combine metrics\n",
    "            result[m.name] = epoch.item()\n",
    "            \n",
    "        return result\n",
    "    \n",
    "    def epoch_end(self, epoch, result):\n",
    "        out = f\"Epoch [{epoch}]\"\n",
    "        vals = list(result.keys())\n",
    "        for v in vals:\n",
    "            out += f\", {v}: {result[v]:.3e}\"\n",
    "        print(out)\n",
    "        "
   ]
  },
  {
   "cell_type": "code",
   "execution_count": 40,
   "id": "125ec41f-92e5-4844-bc89-6eeb84c08eb6",
   "metadata": {},
   "outputs": [],
   "source": [
    "class Net(ImageClassificationBase):\n",
    "    \n",
    "    def __init__(self, loss_function, metrics, out_size):\n",
    "        super().__init__(loss_function, metrics)\n",
    "        self.conv1 = nn.Conv2d(in_channels=1, out_channels=32, kernel_size=3, stride=1)\n",
    "        self.pool1 = nn.MaxPool2d(kernel_size=3,stride=2, padding=1)\n",
    "        self.norm1 = nn.BatchNorm2d(32)\n",
    "        self.conv2 = nn.Conv2d(in_channels=32, out_channels=64, kernel_size=3, stride=1)\n",
    "        self.pool2 = nn.MaxPool2d(kernel_size=3,stride=2, padding=1)\n",
    "        self.norm2 = nn.BatchNorm2d(64)\n",
    "        self.conv3 = nn.Conv2d(in_channels=64, out_channels=128, kernel_size=3, stride=1)\n",
    "        self.pool3 = nn.MaxPool2d(kernel_size=3, stride=2, padding=1)\n",
    "        self.norm3 = nn.BatchNorm2d(128)\n",
    "        self.fc1 = nn.Linear(in_features=128*5*5, out_features=256)\n",
    "        #self.fc2 = nn.Linear(in_features=256, out_features=256)\n",
    "        self.fc = nn.Linear(256, out_size)\n",
    "\n",
    "    def forward(self, input):\n",
    "        output = self.norm1(self.pool1(F.relu(self.conv1(input))))\n",
    "        output = self.norm2(self.pool2(F.relu(self.conv2((output)))))\n",
    "        output = self.norm3(self.pool3(F.relu(self.conv3((output)))))\n",
    "        output = output.view(-1, 128*5*5)\n",
    "        output = F.relu(self.fc1(output))\n",
    "        #output = F.relu(self.fc2(output))\n",
    "        output = self.fc(output)\n",
    "        output = F.softmax(input = output, dim=-1)\n",
    "        return output"
   ]
  },
  {
   "cell_type": "code",
   "execution_count": 41,
   "id": "1bb92e60",
   "metadata": {},
   "outputs": [
    {
     "name": "stdout",
     "output_type": "stream",
     "text": [
      "cuda\n"
     ]
    }
   ],
   "source": [
    "device = get_default_device()\n",
    "print(device)"
   ]
  },
  {
   "cell_type": "markdown",
   "id": "76ef2e5b",
   "metadata": {},
   "source": [
    "## Dataset loading"
   ]
  },
  {
   "cell_type": "code",
   "execution_count": 42,
   "id": "5f983610-8ba7-4afc-81b4-44c255c5257c",
   "metadata": {},
   "outputs": [],
   "source": [
    "df_train = ImageFolder(root=train_df_path, transform=transforms.Compose([transforms.Grayscale(num_output_channels=1),\n",
    "                                     transforms.ToTensor()]))\n",
    "df_test = ImageFolder(root=test_df_path, transform=transforms.Compose([transforms.Grayscale(num_output_channels=1),\n",
    "                                     transforms.ToTensor()]))"
   ]
  },
  {
   "cell_type": "code",
   "execution_count": 43,
   "id": "e8d4b406",
   "metadata": {},
   "outputs": [],
   "source": [
    "train_dl = DeviceDataLoader(DataLoader(df_train, batch_size=batch_size),device)\n",
    "test_dl = DeviceDataLoader(DataLoader(df_test, batch_size=batch_size, shuffle=False),device)"
   ]
  },
  {
   "cell_type": "code",
   "execution_count": 44,
   "id": "72f96e28-c09a-4c5f-836b-51ea2ae0ed52",
   "metadata": {},
   "outputs": [
    {
     "data": {
      "text/plain": [
       "['angry', 'disgust', 'fear', 'happy', 'neutral', 'sad', 'surprise']"
      ]
     },
     "execution_count": 44,
     "metadata": {},
     "output_type": "execute_result"
    }
   ],
   "source": [
    "classes = df_train.classes\n",
    "classes"
   ]
  },
  {
   "cell_type": "code",
   "execution_count": 45,
   "id": "48aa05f0",
   "metadata": {},
   "outputs": [
    {
     "name": "stdout",
     "output_type": "stream",
     "text": [
      "{0: 4110, 1: 365, 2: 4252, 3: 7540, 4: 5168, 5: 5065, 6: 3409}\n",
      "tensor([0.0888, 1.0000, 0.0858, 0.0484, 0.0706, 0.0721, 0.1071])\n"
     ]
    }
   ],
   "source": [
    "counts = dict(Counter(df_train.targets))\n",
    "print(counts)\n",
    "weights = np.array(list(counts.values()))\n",
    "weights = torch.Tensor( min(weights)/weights)\n",
    "print(weights)"
   ]
  },
  {
   "cell_type": "markdown",
   "id": "793bf2de",
   "metadata": {},
   "source": [
    "## Model design and Training"
   ]
  },
  {
   "cell_type": "code",
   "execution_count": 46,
   "id": "62f2c2a4",
   "metadata": {},
   "outputs": [],
   "source": [
    "loss_function = nn.CrossEntropyLoss(weight = weights)\n",
    "metrics = []\n",
    "optimizer = optim.Adam\n",
    "scheduler = optim.lr_scheduler.ReduceLROnPlateau\n",
    "\n",
    "lr = 0.0001\n",
    "num_epochs = 30\n",
    "patience = 5"
   ]
  },
  {
   "cell_type": "code",
   "execution_count": 47,
   "id": "94ef4dba-0260-4d4a-947b-52ecf388c783",
   "metadata": {},
   "outputs": [
    {
     "name": "stdout",
     "output_type": "stream",
     "text": [
      "------------fold no---------0----------------------\n"
     ]
    },
    {
     "data": {
      "application/vnd.jupyter.widget-view+json": {
       "model_id": "bb70a332522246fc84a6825cb2e85239",
       "version_major": 2,
       "version_minor": 0
      },
      "text/plain": [
       "Current Epoch:   0%|          | 0/30 [00:00<?, ?it/s]"
      ]
     },
     "metadata": {},
     "output_type": "display_data"
    },
    {
     "data": {
      "application/vnd.jupyter.widget-view+json": {
       "model_id": "7b4f214e18b1463e8b016682ae21d757",
       "version_major": 2,
       "version_minor": 0
      },
      "text/plain": [
       "Epoch: 0:   0%|          | 0/351 [00:00<?, ?it/s]"
      ]
     },
     "metadata": {},
     "output_type": "display_data"
    },
    {
     "name": "stdout",
     "output_type": "stream",
     "text": [
      "Epoch [0], val_loss: 1.706e+00, train_loss: 1.784e+00, lrate: 1.000e-04\n"
     ]
    },
    {
     "data": {
      "application/vnd.jupyter.widget-view+json": {
       "model_id": "294f6b4030784ebba134b84da72a836f",
       "version_major": 2,
       "version_minor": 0
      },
      "text/plain": [
       "Epoch: 1:   0%|          | 0/351 [00:00<?, ?it/s]"
      ]
     },
     "metadata": {},
     "output_type": "display_data"
    },
    {
     "name": "stdout",
     "output_type": "stream",
     "text": [
      "Epoch [1], val_loss: 1.660e+00, train_loss: 1.662e+00, lrate: 1.000e-04\n"
     ]
    },
    {
     "data": {
      "application/vnd.jupyter.widget-view+json": {
       "model_id": "5ea398cb1a60418aba41ab907e7a7b48",
       "version_major": 2,
       "version_minor": 0
      },
      "text/plain": [
       "Epoch: 2:   0%|          | 0/351 [00:00<?, ?it/s]"
      ]
     },
     "metadata": {},
     "output_type": "display_data"
    },
    {
     "name": "stdout",
     "output_type": "stream",
     "text": [
      "Epoch [2], val_loss: 1.638e+00, train_loss: 1.602e+00, lrate: 1.000e-04\n"
     ]
    },
    {
     "data": {
      "application/vnd.jupyter.widget-view+json": {
       "model_id": "220c6652cc1f4fd7ad54b9aef0853563",
       "version_major": 2,
       "version_minor": 0
      },
      "text/plain": [
       "Epoch: 3:   0%|          | 0/351 [00:00<?, ?it/s]"
      ]
     },
     "metadata": {},
     "output_type": "display_data"
    },
    {
     "name": "stdout",
     "output_type": "stream",
     "text": [
      "Epoch [3], val_loss: 1.624e+00, train_loss: 1.563e+00, lrate: 1.000e-04\n"
     ]
    },
    {
     "data": {
      "application/vnd.jupyter.widget-view+json": {
       "model_id": "07babe8de21b4d8f9bf41ae0301a15f2",
       "version_major": 2,
       "version_minor": 0
      },
      "text/plain": [
       "Epoch: 4:   0%|          | 0/351 [00:00<?, ?it/s]"
      ]
     },
     "metadata": {},
     "output_type": "display_data"
    },
    {
     "name": "stdout",
     "output_type": "stream",
     "text": [
      "Epoch [4], val_loss: 1.612e+00, train_loss: 1.534e+00, lrate: 1.000e-04\n"
     ]
    },
    {
     "data": {
      "application/vnd.jupyter.widget-view+json": {
       "model_id": "9d7dd6a32dea46c68b90e07397657b02",
       "version_major": 2,
       "version_minor": 0
      },
      "text/plain": [
       "Epoch: 5:   0%|          | 0/351 [00:00<?, ?it/s]"
      ]
     },
     "metadata": {},
     "output_type": "display_data"
    },
    {
     "name": "stdout",
     "output_type": "stream",
     "text": [
      "Epoch [5], val_loss: 1.617e+00, train_loss: 1.502e+00, lrate: 1.000e-04\n"
     ]
    },
    {
     "data": {
      "application/vnd.jupyter.widget-view+json": {
       "model_id": "c0c0f545df2b45719aa42ec31ddcfc84",
       "version_major": 2,
       "version_minor": 0
      },
      "text/plain": [
       "Epoch: 6:   0%|          | 0/351 [00:00<?, ?it/s]"
      ]
     },
     "metadata": {},
     "output_type": "display_data"
    },
    {
     "name": "stdout",
     "output_type": "stream",
     "text": [
      "Epoch [6], val_loss: 1.609e+00, train_loss: 1.476e+00, lrate: 1.000e-04\n"
     ]
    },
    {
     "data": {
      "application/vnd.jupyter.widget-view+json": {
       "model_id": "4bdc11c6944643399f80c8d96b4b5240",
       "version_major": 2,
       "version_minor": 0
      },
      "text/plain": [
       "Epoch: 7:   0%|          | 0/351 [00:00<?, ?it/s]"
      ]
     },
     "metadata": {},
     "output_type": "display_data"
    },
    {
     "name": "stdout",
     "output_type": "stream",
     "text": [
      "Epoch [7], val_loss: 1.600e+00, train_loss: 1.452e+00, lrate: 1.000e-04\n"
     ]
    },
    {
     "data": {
      "application/vnd.jupyter.widget-view+json": {
       "model_id": "a53aa7cde98c45d7b1035f0f0e880a47",
       "version_major": 2,
       "version_minor": 0
      },
      "text/plain": [
       "Epoch: 8:   0%|          | 0/351 [00:00<?, ?it/s]"
      ]
     },
     "metadata": {},
     "output_type": "display_data"
    },
    {
     "name": "stdout",
     "output_type": "stream",
     "text": [
      "Epoch [8], val_loss: 1.603e+00, train_loss: 1.431e+00, lrate: 1.000e-04\n"
     ]
    },
    {
     "data": {
      "application/vnd.jupyter.widget-view+json": {
       "model_id": "9fb3b928b3584a5e951b92154ac23b30",
       "version_major": 2,
       "version_minor": 0
      },
      "text/plain": [
       "Epoch: 9:   0%|          | 0/351 [00:00<?, ?it/s]"
      ]
     },
     "metadata": {},
     "output_type": "display_data"
    },
    {
     "name": "stdout",
     "output_type": "stream",
     "text": [
      "Epoch [9], val_loss: 1.597e+00, train_loss: 1.416e+00, lrate: 1.000e-04\n"
     ]
    },
    {
     "data": {
      "application/vnd.jupyter.widget-view+json": {
       "model_id": "5555c1bf94394770aaf9d848d0ba856f",
       "version_major": 2,
       "version_minor": 0
      },
      "text/plain": [
       "Epoch: 10:   0%|          | 0/351 [00:00<?, ?it/s]"
      ]
     },
     "metadata": {},
     "output_type": "display_data"
    },
    {
     "name": "stdout",
     "output_type": "stream",
     "text": [
      "Epoch [10], val_loss: 1.605e+00, train_loss: 1.399e+00, lrate: 1.000e-04\n"
     ]
    },
    {
     "data": {
      "application/vnd.jupyter.widget-view+json": {
       "model_id": "36460c533cff44818f2389422dbff79c",
       "version_major": 2,
       "version_minor": 0
      },
      "text/plain": [
       "Epoch: 11:   0%|          | 0/351 [00:00<?, ?it/s]"
      ]
     },
     "metadata": {},
     "output_type": "display_data"
    },
    {
     "name": "stdout",
     "output_type": "stream",
     "text": [
      "Epoch [11], val_loss: 1.608e+00, train_loss: 1.383e+00, lrate: 1.000e-04\n"
     ]
    },
    {
     "data": {
      "application/vnd.jupyter.widget-view+json": {
       "model_id": "078d48d5c4b4460dafbdf1453c6f14fe",
       "version_major": 2,
       "version_minor": 0
      },
      "text/plain": [
       "Epoch: 12:   0%|          | 0/351 [00:00<?, ?it/s]"
      ]
     },
     "metadata": {},
     "output_type": "display_data"
    },
    {
     "name": "stdout",
     "output_type": "stream",
     "text": [
      "Epoch [12], val_loss: 1.598e+00, train_loss: 1.370e+00, lrate: 1.000e-04\n"
     ]
    },
    {
     "data": {
      "application/vnd.jupyter.widget-view+json": {
       "model_id": "84384757b0ce404ba1bc4ff341468ca0",
       "version_major": 2,
       "version_minor": 0
      },
      "text/plain": [
       "Epoch: 13:   0%|          | 0/351 [00:00<?, ?it/s]"
      ]
     },
     "metadata": {},
     "output_type": "display_data"
    },
    {
     "name": "stdout",
     "output_type": "stream",
     "text": [
      "Epoch [13], val_loss: 1.601e+00, train_loss: 1.362e+00, lrate: 1.000e-05\n"
     ]
    },
    {
     "data": {
      "application/vnd.jupyter.widget-view+json": {
       "model_id": "5c8e037957ae404e87dafde79dfcd3cd",
       "version_major": 2,
       "version_minor": 0
      },
      "text/plain": [
       "Epoch: 14:   0%|          | 0/351 [00:00<?, ?it/s]"
      ]
     },
     "metadata": {},
     "output_type": "display_data"
    },
    {
     "name": "stdout",
     "output_type": "stream",
     "text": [
      "Epoch [14], val_loss: 1.594e+00, train_loss: 1.341e+00, lrate: 1.000e-05\n"
     ]
    },
    {
     "data": {
      "application/vnd.jupyter.widget-view+json": {
       "model_id": "45f86638ba2b4150957ca5a703e6ee02",
       "version_major": 2,
       "version_minor": 0
      },
      "text/plain": [
       "Epoch: 15:   0%|          | 0/351 [00:00<?, ?it/s]"
      ]
     },
     "metadata": {},
     "output_type": "display_data"
    },
    {
     "name": "stdout",
     "output_type": "stream",
     "text": [
      "Epoch [15], val_loss: 1.593e+00, train_loss: 1.336e+00, lrate: 1.000e-05\n"
     ]
    },
    {
     "data": {
      "application/vnd.jupyter.widget-view+json": {
       "model_id": "41edaadcc1b84d9ba6d228046ce81e1e",
       "version_major": 2,
       "version_minor": 0
      },
      "text/plain": [
       "Epoch: 16:   0%|          | 0/351 [00:00<?, ?it/s]"
      ]
     },
     "metadata": {},
     "output_type": "display_data"
    },
    {
     "name": "stdout",
     "output_type": "stream",
     "text": [
      "Epoch [16], val_loss: 1.594e+00, train_loss: 1.332e+00, lrate: 1.000e-05\n"
     ]
    },
    {
     "data": {
      "application/vnd.jupyter.widget-view+json": {
       "model_id": "1cd22833572e4991a661a23e58f2dbb3",
       "version_major": 2,
       "version_minor": 0
      },
      "text/plain": [
       "Epoch: 17:   0%|          | 0/351 [00:00<?, ?it/s]"
      ]
     },
     "metadata": {},
     "output_type": "display_data"
    },
    {
     "name": "stdout",
     "output_type": "stream",
     "text": [
      "Epoch [17], val_loss: 1.592e+00, train_loss: 1.331e+00, lrate: 1.000e-05\n"
     ]
    },
    {
     "data": {
      "application/vnd.jupyter.widget-view+json": {
       "model_id": "12859984e25d4aeeb7b255e0693170ce",
       "version_major": 2,
       "version_minor": 0
      },
      "text/plain": [
       "Epoch: 18:   0%|          | 0/351 [00:00<?, ?it/s]"
      ]
     },
     "metadata": {},
     "output_type": "display_data"
    },
    {
     "name": "stdout",
     "output_type": "stream",
     "text": [
      "Epoch [18], val_loss: 1.593e+00, train_loss: 1.328e+00, lrate: 1.000e-05\n"
     ]
    },
    {
     "data": {
      "application/vnd.jupyter.widget-view+json": {
       "model_id": "65cf72d0dbce4dc5976c3b95b148b82f",
       "version_major": 2,
       "version_minor": 0
      },
      "text/plain": [
       "Epoch: 19:   0%|          | 0/351 [00:00<?, ?it/s]"
      ]
     },
     "metadata": {},
     "output_type": "display_data"
    },
    {
     "name": "stdout",
     "output_type": "stream",
     "text": [
      "Epoch [19], val_loss: 1.594e+00, train_loss: 1.326e+00, lrate: 1.000e-05\n"
     ]
    },
    {
     "data": {
      "application/vnd.jupyter.widget-view+json": {
       "model_id": "f16432f8951d4355aca9386e9535b768",
       "version_major": 2,
       "version_minor": 0
      },
      "text/plain": [
       "Epoch: 20:   0%|          | 0/351 [00:00<?, ?it/s]"
      ]
     },
     "metadata": {},
     "output_type": "display_data"
    },
    {
     "name": "stdout",
     "output_type": "stream",
     "text": [
      "Epoch [20], val_loss: 1.595e+00, train_loss: 1.325e+00, lrate: 1.000e-05\n"
     ]
    },
    {
     "data": {
      "application/vnd.jupyter.widget-view+json": {
       "model_id": "75bba96487df4a39833e6016e324c497",
       "version_major": 2,
       "version_minor": 0
      },
      "text/plain": [
       "Epoch: 21:   0%|          | 0/351 [00:00<?, ?it/s]"
      ]
     },
     "metadata": {},
     "output_type": "display_data"
    },
    {
     "name": "stdout",
     "output_type": "stream",
     "text": [
      "Epoch [21], val_loss: 1.597e+00, train_loss: 1.322e+00, lrate: 1.000e-06\n"
     ]
    },
    {
     "data": {
      "application/vnd.jupyter.widget-view+json": {
       "model_id": "1a3bac4c7cab4586873839d0bf304c0e",
       "version_major": 2,
       "version_minor": 0
      },
      "text/plain": [
       "Epoch: 22:   0%|          | 0/351 [00:00<?, ?it/s]"
      ]
     },
     "metadata": {},
     "output_type": "display_data"
    },
    {
     "name": "stdout",
     "output_type": "stream",
     "text": [
      "Early stopping\n",
      "------------fold no---------1----------------------\n"
     ]
    },
    {
     "data": {
      "application/vnd.jupyter.widget-view+json": {
       "model_id": "3b8c001f1a7e45aebb91af0c93fda1e0",
       "version_major": 2,
       "version_minor": 0
      },
      "text/plain": [
       "Current Epoch:   0%|          | 0/30 [00:00<?, ?it/s]"
      ]
     },
     "metadata": {},
     "output_type": "display_data"
    },
    {
     "data": {
      "application/vnd.jupyter.widget-view+json": {
       "model_id": "bad74aac55cb446bafc87e834ae5b622",
       "version_major": 2,
       "version_minor": 0
      },
      "text/plain": [
       "Epoch: 0:   0%|          | 0/351 [00:00<?, ?it/s]"
      ]
     },
     "metadata": {},
     "output_type": "display_data"
    },
    {
     "name": "stdout",
     "output_type": "stream",
     "text": [
      "Epoch [0], val_loss: 1.731e+00, train_loss: 1.784e+00, lrate: 1.000e-04\n"
     ]
    },
    {
     "data": {
      "application/vnd.jupyter.widget-view+json": {
       "model_id": "1391cad992384aba9d824a7408cbfad7",
       "version_major": 2,
       "version_minor": 0
      },
      "text/plain": [
       "Epoch: 1:   0%|          | 0/351 [00:00<?, ?it/s]"
      ]
     },
     "metadata": {},
     "output_type": "display_data"
    },
    {
     "name": "stdout",
     "output_type": "stream",
     "text": [
      "Epoch [1], val_loss: 1.662e+00, train_loss: 1.658e+00, lrate: 1.000e-04\n"
     ]
    },
    {
     "data": {
      "application/vnd.jupyter.widget-view+json": {
       "model_id": "93a948502fc34ac489b4269941c6d631",
       "version_major": 2,
       "version_minor": 0
      },
      "text/plain": [
       "Epoch: 2:   0%|          | 0/351 [00:00<?, ?it/s]"
      ]
     },
     "metadata": {},
     "output_type": "display_data"
    },
    {
     "name": "stdout",
     "output_type": "stream",
     "text": [
      "Epoch [2], val_loss: 1.637e+00, train_loss: 1.602e+00, lrate: 1.000e-04\n"
     ]
    },
    {
     "data": {
      "application/vnd.jupyter.widget-view+json": {
       "model_id": "0ba308dcc8964ee48bd8f1a15e94bc2f",
       "version_major": 2,
       "version_minor": 0
      },
      "text/plain": [
       "Epoch: 3:   0%|          | 0/351 [00:00<?, ?it/s]"
      ]
     },
     "metadata": {},
     "output_type": "display_data"
    },
    {
     "name": "stdout",
     "output_type": "stream",
     "text": [
      "Epoch [3], val_loss: 1.619e+00, train_loss: 1.562e+00, lrate: 1.000e-04\n"
     ]
    },
    {
     "data": {
      "application/vnd.jupyter.widget-view+json": {
       "model_id": "6f6db685f7e84c8f87ffbf59a7e98754",
       "version_major": 2,
       "version_minor": 0
      },
      "text/plain": [
       "Epoch: 4:   0%|          | 0/351 [00:00<?, ?it/s]"
      ]
     },
     "metadata": {},
     "output_type": "display_data"
    },
    {
     "name": "stdout",
     "output_type": "stream",
     "text": [
      "Epoch [4], val_loss: 1.617e+00, train_loss: 1.531e+00, lrate: 1.000e-04\n"
     ]
    },
    {
     "data": {
      "application/vnd.jupyter.widget-view+json": {
       "model_id": "fe6dedafd47344048e618c8de2798ae0",
       "version_major": 2,
       "version_minor": 0
      },
      "text/plain": [
       "Epoch: 5:   0%|          | 0/351 [00:00<?, ?it/s]"
      ]
     },
     "metadata": {},
     "output_type": "display_data"
    },
    {
     "name": "stdout",
     "output_type": "stream",
     "text": [
      "Epoch [5], val_loss: 1.605e+00, train_loss: 1.503e+00, lrate: 1.000e-04\n"
     ]
    },
    {
     "data": {
      "application/vnd.jupyter.widget-view+json": {
       "model_id": "0b9319dad4244fb8b74bf048dd1695f1",
       "version_major": 2,
       "version_minor": 0
      },
      "text/plain": [
       "Epoch: 6:   0%|          | 0/351 [00:00<?, ?it/s]"
      ]
     },
     "metadata": {},
     "output_type": "display_data"
    },
    {
     "name": "stdout",
     "output_type": "stream",
     "text": [
      "Epoch [6], val_loss: 1.606e+00, train_loss: 1.479e+00, lrate: 1.000e-04\n"
     ]
    },
    {
     "data": {
      "application/vnd.jupyter.widget-view+json": {
       "model_id": "844905e44b264ff98d00710e217a0697",
       "version_major": 2,
       "version_minor": 0
      },
      "text/plain": [
       "Epoch: 7:   0%|          | 0/351 [00:00<?, ?it/s]"
      ]
     },
     "metadata": {},
     "output_type": "display_data"
    },
    {
     "name": "stdout",
     "output_type": "stream",
     "text": [
      "Epoch [7], val_loss: 1.612e+00, train_loss: 1.458e+00, lrate: 1.000e-04\n"
     ]
    },
    {
     "data": {
      "application/vnd.jupyter.widget-view+json": {
       "model_id": "a7774ff1519f4502ae68a8548b4ff791",
       "version_major": 2,
       "version_minor": 0
      },
      "text/plain": [
       "Epoch: 8:   0%|          | 0/351 [00:00<?, ?it/s]"
      ]
     },
     "metadata": {},
     "output_type": "display_data"
    },
    {
     "name": "stdout",
     "output_type": "stream",
     "text": [
      "Epoch [8], val_loss: 1.595e+00, train_loss: 1.437e+00, lrate: 1.000e-04\n"
     ]
    },
    {
     "data": {
      "application/vnd.jupyter.widget-view+json": {
       "model_id": "0e680b2978ee4cb685784e2fed856310",
       "version_major": 2,
       "version_minor": 0
      },
      "text/plain": [
       "Epoch: 9:   0%|          | 0/351 [00:00<?, ?it/s]"
      ]
     },
     "metadata": {},
     "output_type": "display_data"
    },
    {
     "name": "stdout",
     "output_type": "stream",
     "text": [
      "Epoch [9], val_loss: 1.600e+00, train_loss: 1.418e+00, lrate: 1.000e-04\n"
     ]
    },
    {
     "data": {
      "application/vnd.jupyter.widget-view+json": {
       "model_id": "6350eae3f23c45b0abc2309adca550ed",
       "version_major": 2,
       "version_minor": 0
      },
      "text/plain": [
       "Epoch: 10:   0%|          | 0/351 [00:00<?, ?it/s]"
      ]
     },
     "metadata": {},
     "output_type": "display_data"
    },
    {
     "name": "stdout",
     "output_type": "stream",
     "text": [
      "Epoch [10], val_loss: 1.593e+00, train_loss: 1.402e+00, lrate: 1.000e-04\n"
     ]
    },
    {
     "data": {
      "application/vnd.jupyter.widget-view+json": {
       "model_id": "ac84154b50254602b15eaa7e7ddd5261",
       "version_major": 2,
       "version_minor": 0
      },
      "text/plain": [
       "Epoch: 11:   0%|          | 0/351 [00:00<?, ?it/s]"
      ]
     },
     "metadata": {},
     "output_type": "display_data"
    },
    {
     "name": "stdout",
     "output_type": "stream",
     "text": [
      "Epoch [11], val_loss: 1.596e+00, train_loss: 1.388e+00, lrate: 1.000e-04\n"
     ]
    },
    {
     "data": {
      "application/vnd.jupyter.widget-view+json": {
       "model_id": "15d79a1dd12b4d548cbf6938af2ae039",
       "version_major": 2,
       "version_minor": 0
      },
      "text/plain": [
       "Epoch: 12:   0%|          | 0/351 [00:00<?, ?it/s]"
      ]
     },
     "metadata": {},
     "output_type": "display_data"
    },
    {
     "name": "stdout",
     "output_type": "stream",
     "text": [
      "Epoch [12], val_loss: 1.599e+00, train_loss: 1.374e+00, lrate: 1.000e-04\n"
     ]
    },
    {
     "data": {
      "application/vnd.jupyter.widget-view+json": {
       "model_id": "f6170da68cf248489f5b691aa515db89",
       "version_major": 2,
       "version_minor": 0
      },
      "text/plain": [
       "Epoch: 13:   0%|          | 0/351 [00:00<?, ?it/s]"
      ]
     },
     "metadata": {},
     "output_type": "display_data"
    },
    {
     "name": "stdout",
     "output_type": "stream",
     "text": [
      "Epoch [13], val_loss: 1.601e+00, train_loss: 1.364e+00, lrate: 1.000e-04\n"
     ]
    },
    {
     "data": {
      "application/vnd.jupyter.widget-view+json": {
       "model_id": "cefd7f82eb2e40b999fe6f0374aa5903",
       "version_major": 2,
       "version_minor": 0
      },
      "text/plain": [
       "Epoch: 14:   0%|          | 0/351 [00:00<?, ?it/s]"
      ]
     },
     "metadata": {},
     "output_type": "display_data"
    },
    {
     "name": "stdout",
     "output_type": "stream",
     "text": [
      "Epoch [14], val_loss: 1.597e+00, train_loss: 1.353e+00, lrate: 1.000e-05\n"
     ]
    },
    {
     "data": {
      "application/vnd.jupyter.widget-view+json": {
       "model_id": "ffd9c0c9270043e7acf7faf472aad565",
       "version_major": 2,
       "version_minor": 0
      },
      "text/plain": [
       "Epoch: 15:   0%|          | 0/351 [00:00<?, ?it/s]"
      ]
     },
     "metadata": {},
     "output_type": "display_data"
    },
    {
     "name": "stdout",
     "output_type": "stream",
     "text": [
      "Early stopping\n",
      "------------fold no---------2----------------------\n"
     ]
    },
    {
     "data": {
      "application/vnd.jupyter.widget-view+json": {
       "model_id": "3ef5727d70c040d3a7832de7fff91145",
       "version_major": 2,
       "version_minor": 0
      },
      "text/plain": [
       "Current Epoch:   0%|          | 0/30 [00:00<?, ?it/s]"
      ]
     },
     "metadata": {},
     "output_type": "display_data"
    },
    {
     "data": {
      "application/vnd.jupyter.widget-view+json": {
       "model_id": "5ae07bf4333f4251b19b0355ae582ef3",
       "version_major": 2,
       "version_minor": 0
      },
      "text/plain": [
       "Epoch: 0:   0%|          | 0/351 [00:00<?, ?it/s]"
      ]
     },
     "metadata": {},
     "output_type": "display_data"
    },
    {
     "name": "stdout",
     "output_type": "stream",
     "text": [
      "Epoch [0], val_loss: 1.735e+00, train_loss: 1.794e+00, lrate: 1.000e-04\n"
     ]
    },
    {
     "data": {
      "application/vnd.jupyter.widget-view+json": {
       "model_id": "f71decebeff941208c50b99871c4d5c6",
       "version_major": 2,
       "version_minor": 0
      },
      "text/plain": [
       "Epoch: 1:   0%|          | 0/351 [00:00<?, ?it/s]"
      ]
     },
     "metadata": {},
     "output_type": "display_data"
    },
    {
     "name": "stdout",
     "output_type": "stream",
     "text": [
      "Epoch [1], val_loss: 1.684e+00, train_loss: 1.671e+00, lrate: 1.000e-04\n"
     ]
    },
    {
     "data": {
      "application/vnd.jupyter.widget-view+json": {
       "model_id": "a2867e519c9d4bb0b8ed7e1a5e02cfaf",
       "version_major": 2,
       "version_minor": 0
      },
      "text/plain": [
       "Epoch: 2:   0%|          | 0/351 [00:00<?, ?it/s]"
      ]
     },
     "metadata": {},
     "output_type": "display_data"
    },
    {
     "name": "stdout",
     "output_type": "stream",
     "text": [
      "Epoch [2], val_loss: 1.663e+00, train_loss: 1.612e+00, lrate: 1.000e-04\n"
     ]
    },
    {
     "data": {
      "application/vnd.jupyter.widget-view+json": {
       "model_id": "f48c12f65acb4c0cae4a124db6be40cc",
       "version_major": 2,
       "version_minor": 0
      },
      "text/plain": [
       "Epoch: 3:   0%|          | 0/351 [00:00<?, ?it/s]"
      ]
     },
     "metadata": {},
     "output_type": "display_data"
    },
    {
     "name": "stdout",
     "output_type": "stream",
     "text": [
      "Epoch [3], val_loss: 1.649e+00, train_loss: 1.571e+00, lrate: 1.000e-04\n"
     ]
    },
    {
     "data": {
      "application/vnd.jupyter.widget-view+json": {
       "model_id": "477149683ce24cd1a946eb238a565385",
       "version_major": 2,
       "version_minor": 0
      },
      "text/plain": [
       "Epoch: 4:   0%|          | 0/351 [00:00<?, ?it/s]"
      ]
     },
     "metadata": {},
     "output_type": "display_data"
    },
    {
     "name": "stdout",
     "output_type": "stream",
     "text": [
      "Epoch [4], val_loss: 1.642e+00, train_loss: 1.537e+00, lrate: 1.000e-04\n"
     ]
    },
    {
     "data": {
      "application/vnd.jupyter.widget-view+json": {
       "model_id": "168b380b620a4c3bb23ea911d6e5329d",
       "version_major": 2,
       "version_minor": 0
      },
      "text/plain": [
       "Epoch: 5:   0%|          | 0/351 [00:00<?, ?it/s]"
      ]
     },
     "metadata": {},
     "output_type": "display_data"
    },
    {
     "name": "stdout",
     "output_type": "stream",
     "text": [
      "Epoch [5], val_loss: 1.625e+00, train_loss: 1.509e+00, lrate: 1.000e-04\n"
     ]
    },
    {
     "data": {
      "application/vnd.jupyter.widget-view+json": {
       "model_id": "6c1e3e0b346c49cba8c6e8b8d1e31f19",
       "version_major": 2,
       "version_minor": 0
      },
      "text/plain": [
       "Epoch: 6:   0%|          | 0/351 [00:00<?, ?it/s]"
      ]
     },
     "metadata": {},
     "output_type": "display_data"
    },
    {
     "name": "stdout",
     "output_type": "stream",
     "text": [
      "Epoch [6], val_loss: 1.625e+00, train_loss: 1.480e+00, lrate: 1.000e-04\n"
     ]
    },
    {
     "data": {
      "application/vnd.jupyter.widget-view+json": {
       "model_id": "84889cced99e4da2869d390c3a9199df",
       "version_major": 2,
       "version_minor": 0
      },
      "text/plain": [
       "Epoch: 7:   0%|          | 0/351 [00:00<?, ?it/s]"
      ]
     },
     "metadata": {},
     "output_type": "display_data"
    },
    {
     "name": "stdout",
     "output_type": "stream",
     "text": [
      "Epoch [7], val_loss: 1.611e+00, train_loss: 1.456e+00, lrate: 1.000e-04\n"
     ]
    },
    {
     "data": {
      "application/vnd.jupyter.widget-view+json": {
       "model_id": "098263c8fe5d42a0b068fa91e56e28f4",
       "version_major": 2,
       "version_minor": 0
      },
      "text/plain": [
       "Epoch: 8:   0%|          | 0/351 [00:00<?, ?it/s]"
      ]
     },
     "metadata": {},
     "output_type": "display_data"
    },
    {
     "name": "stdout",
     "output_type": "stream",
     "text": [
      "Epoch [8], val_loss: 1.601e+00, train_loss: 1.434e+00, lrate: 1.000e-04\n"
     ]
    },
    {
     "data": {
      "application/vnd.jupyter.widget-view+json": {
       "model_id": "48a2fbd60f0244c5b8d06d0905314275",
       "version_major": 2,
       "version_minor": 0
      },
      "text/plain": [
       "Epoch: 9:   0%|          | 0/351 [00:00<?, ?it/s]"
      ]
     },
     "metadata": {},
     "output_type": "display_data"
    },
    {
     "name": "stdout",
     "output_type": "stream",
     "text": [
      "Epoch [9], val_loss: 1.602e+00, train_loss: 1.415e+00, lrate: 1.000e-04\n"
     ]
    },
    {
     "data": {
      "application/vnd.jupyter.widget-view+json": {
       "model_id": "3ee91f3e13e042eb83c541f29c641d4a",
       "version_major": 2,
       "version_minor": 0
      },
      "text/plain": [
       "Epoch: 10:   0%|          | 0/351 [00:00<?, ?it/s]"
      ]
     },
     "metadata": {},
     "output_type": "display_data"
    },
    {
     "name": "stdout",
     "output_type": "stream",
     "text": [
      "Epoch [10], val_loss: 1.599e+00, train_loss: 1.400e+00, lrate: 1.000e-04\n"
     ]
    },
    {
     "data": {
      "application/vnd.jupyter.widget-view+json": {
       "model_id": "e69f083a1c874f488061b4296e87bfc3",
       "version_major": 2,
       "version_minor": 0
      },
      "text/plain": [
       "Epoch: 11:   0%|          | 0/351 [00:00<?, ?it/s]"
      ]
     },
     "metadata": {},
     "output_type": "display_data"
    },
    {
     "name": "stdout",
     "output_type": "stream",
     "text": [
      "Epoch [11], val_loss: 1.604e+00, train_loss: 1.383e+00, lrate: 1.000e-04\n"
     ]
    },
    {
     "data": {
      "application/vnd.jupyter.widget-view+json": {
       "model_id": "717d6ba5998445f28302d2ad232e6d87",
       "version_major": 2,
       "version_minor": 0
      },
      "text/plain": [
       "Epoch: 12:   0%|          | 0/351 [00:00<?, ?it/s]"
      ]
     },
     "metadata": {},
     "output_type": "display_data"
    },
    {
     "name": "stdout",
     "output_type": "stream",
     "text": [
      "Epoch [12], val_loss: 1.605e+00, train_loss: 1.368e+00, lrate: 1.000e-04\n"
     ]
    },
    {
     "data": {
      "application/vnd.jupyter.widget-view+json": {
       "model_id": "0cacfb64a23c4ad3b52662c236ab0700",
       "version_major": 2,
       "version_minor": 0
      },
      "text/plain": [
       "Epoch: 13:   0%|          | 0/351 [00:00<?, ?it/s]"
      ]
     },
     "metadata": {},
     "output_type": "display_data"
    },
    {
     "name": "stdout",
     "output_type": "stream",
     "text": [
      "Epoch [13], val_loss: 1.603e+00, train_loss: 1.358e+00, lrate: 1.000e-04\n"
     ]
    },
    {
     "data": {
      "application/vnd.jupyter.widget-view+json": {
       "model_id": "28266a374f784c80887eab23bff930ad",
       "version_major": 2,
       "version_minor": 0
      },
      "text/plain": [
       "Epoch: 14:   0%|          | 0/351 [00:00<?, ?it/s]"
      ]
     },
     "metadata": {},
     "output_type": "display_data"
    },
    {
     "name": "stdout",
     "output_type": "stream",
     "text": [
      "Epoch [14], val_loss: 1.603e+00, train_loss: 1.345e+00, lrate: 1.000e-05\n"
     ]
    },
    {
     "data": {
      "application/vnd.jupyter.widget-view+json": {
       "model_id": "7fe21cce9b0b42f594b952e77f2784cc",
       "version_major": 2,
       "version_minor": 0
      },
      "text/plain": [
       "Epoch: 15:   0%|          | 0/351 [00:00<?, ?it/s]"
      ]
     },
     "metadata": {},
     "output_type": "display_data"
    },
    {
     "name": "stdout",
     "output_type": "stream",
     "text": [
      "Early stopping\n",
      "------------fold no---------3----------------------\n"
     ]
    },
    {
     "data": {
      "application/vnd.jupyter.widget-view+json": {
       "model_id": "7305fdb20eb54605aa85629486ec9ad7",
       "version_major": 2,
       "version_minor": 0
      },
      "text/plain": [
       "Current Epoch:   0%|          | 0/30 [00:00<?, ?it/s]"
      ]
     },
     "metadata": {},
     "output_type": "display_data"
    },
    {
     "data": {
      "application/vnd.jupyter.widget-view+json": {
       "model_id": "f698acdc12b540eeb570d6e51958ed7e",
       "version_major": 2,
       "version_minor": 0
      },
      "text/plain": [
       "Epoch: 0:   0%|          | 0/351 [00:00<?, ?it/s]"
      ]
     },
     "metadata": {},
     "output_type": "display_data"
    },
    {
     "name": "stdout",
     "output_type": "stream",
     "text": [
      "Epoch [0], val_loss: 1.735e+00, train_loss: 1.800e+00, lrate: 1.000e-04\n"
     ]
    },
    {
     "data": {
      "application/vnd.jupyter.widget-view+json": {
       "model_id": "9002c6c2cfb84a76a010b3107a3a6bca",
       "version_major": 2,
       "version_minor": 0
      },
      "text/plain": [
       "Epoch: 1:   0%|          | 0/351 [00:00<?, ?it/s]"
      ]
     },
     "metadata": {},
     "output_type": "display_data"
    },
    {
     "name": "stdout",
     "output_type": "stream",
     "text": [
      "Epoch [1], val_loss: 1.683e+00, train_loss: 1.673e+00, lrate: 1.000e-04\n"
     ]
    },
    {
     "data": {
      "application/vnd.jupyter.widget-view+json": {
       "model_id": "9e7cd60b781a41afa4d6d58660bf5c2d",
       "version_major": 2,
       "version_minor": 0
      },
      "text/plain": [
       "Epoch: 2:   0%|          | 0/351 [00:00<?, ?it/s]"
      ]
     },
     "metadata": {},
     "output_type": "display_data"
    },
    {
     "name": "stdout",
     "output_type": "stream",
     "text": [
      "Epoch [2], val_loss: 1.663e+00, train_loss: 1.613e+00, lrate: 1.000e-04\n"
     ]
    },
    {
     "data": {
      "application/vnd.jupyter.widget-view+json": {
       "model_id": "8912f86e8a854f28868c412256686662",
       "version_major": 2,
       "version_minor": 0
      },
      "text/plain": [
       "Epoch: 3:   0%|          | 0/351 [00:00<?, ?it/s]"
      ]
     },
     "metadata": {},
     "output_type": "display_data"
    },
    {
     "name": "stdout",
     "output_type": "stream",
     "text": [
      "Epoch [3], val_loss: 1.644e+00, train_loss: 1.573e+00, lrate: 1.000e-04\n"
     ]
    },
    {
     "data": {
      "application/vnd.jupyter.widget-view+json": {
       "model_id": "0dd11451db3048e4b4df3c857e218891",
       "version_major": 2,
       "version_minor": 0
      },
      "text/plain": [
       "Epoch: 4:   0%|          | 0/351 [00:00<?, ?it/s]"
      ]
     },
     "metadata": {},
     "output_type": "display_data"
    },
    {
     "name": "stdout",
     "output_type": "stream",
     "text": [
      "Epoch [4], val_loss: 1.632e+00, train_loss: 1.541e+00, lrate: 1.000e-04\n"
     ]
    },
    {
     "data": {
      "application/vnd.jupyter.widget-view+json": {
       "model_id": "697bb1d0bbdf40f59984ba362cad811d",
       "version_major": 2,
       "version_minor": 0
      },
      "text/plain": [
       "Epoch: 5:   0%|          | 0/351 [00:00<?, ?it/s]"
      ]
     },
     "metadata": {},
     "output_type": "display_data"
    },
    {
     "name": "stdout",
     "output_type": "stream",
     "text": [
      "Epoch [5], val_loss: 1.626e+00, train_loss: 1.514e+00, lrate: 1.000e-04\n"
     ]
    },
    {
     "data": {
      "application/vnd.jupyter.widget-view+json": {
       "model_id": "9c1842b864484fea9042a70d4bb2e64b",
       "version_major": 2,
       "version_minor": 0
      },
      "text/plain": [
       "Epoch: 6:   0%|          | 0/351 [00:00<?, ?it/s]"
      ]
     },
     "metadata": {},
     "output_type": "display_data"
    },
    {
     "name": "stdout",
     "output_type": "stream",
     "text": [
      "Epoch [6], val_loss: 1.622e+00, train_loss: 1.488e+00, lrate: 1.000e-04\n"
     ]
    },
    {
     "data": {
      "application/vnd.jupyter.widget-view+json": {
       "model_id": "46cf2aada957466a9c6109b33a58e2d8",
       "version_major": 2,
       "version_minor": 0
      },
      "text/plain": [
       "Epoch: 7:   0%|          | 0/351 [00:00<?, ?it/s]"
      ]
     },
     "metadata": {},
     "output_type": "display_data"
    },
    {
     "name": "stdout",
     "output_type": "stream",
     "text": [
      "Epoch [7], val_loss: 1.617e+00, train_loss: 1.465e+00, lrate: 1.000e-04\n"
     ]
    },
    {
     "data": {
      "application/vnd.jupyter.widget-view+json": {
       "model_id": "8fa87ccf8684425bbc49443e871b5663",
       "version_major": 2,
       "version_minor": 0
      },
      "text/plain": [
       "Epoch: 8:   0%|          | 0/351 [00:00<?, ?it/s]"
      ]
     },
     "metadata": {},
     "output_type": "display_data"
    },
    {
     "name": "stdout",
     "output_type": "stream",
     "text": [
      "Epoch [8], val_loss: 1.619e+00, train_loss: 1.445e+00, lrate: 1.000e-04\n"
     ]
    },
    {
     "data": {
      "application/vnd.jupyter.widget-view+json": {
       "model_id": "006d5aaf9d714d38a8355db3a4d091d4",
       "version_major": 2,
       "version_minor": 0
      },
      "text/plain": [
       "Epoch: 9:   0%|          | 0/351 [00:00<?, ?it/s]"
      ]
     },
     "metadata": {},
     "output_type": "display_data"
    },
    {
     "name": "stdout",
     "output_type": "stream",
     "text": [
      "Epoch [9], val_loss: 1.620e+00, train_loss: 1.425e+00, lrate: 1.000e-04\n"
     ]
    },
    {
     "data": {
      "application/vnd.jupyter.widget-view+json": {
       "model_id": "5757969a05d24459881e0767d2e62cc8",
       "version_major": 2,
       "version_minor": 0
      },
      "text/plain": [
       "Epoch: 10:   0%|          | 0/351 [00:00<?, ?it/s]"
      ]
     },
     "metadata": {},
     "output_type": "display_data"
    },
    {
     "name": "stdout",
     "output_type": "stream",
     "text": [
      "Epoch [10], val_loss: 1.620e+00, train_loss: 1.410e+00, lrate: 1.000e-04\n"
     ]
    },
    {
     "data": {
      "application/vnd.jupyter.widget-view+json": {
       "model_id": "ba53740b3bd6496496f7976b7706fe7f",
       "version_major": 2,
       "version_minor": 0
      },
      "text/plain": [
       "Epoch: 11:   0%|          | 0/351 [00:00<?, ?it/s]"
      ]
     },
     "metadata": {},
     "output_type": "display_data"
    },
    {
     "name": "stdout",
     "output_type": "stream",
     "text": [
      "Epoch [11], val_loss: 1.616e+00, train_loss: 1.395e+00, lrate: 1.000e-04\n"
     ]
    },
    {
     "data": {
      "application/vnd.jupyter.widget-view+json": {
       "model_id": "8c57b7ee3bb54a76b25454ca37499fb9",
       "version_major": 2,
       "version_minor": 0
      },
      "text/plain": [
       "Epoch: 12:   0%|          | 0/351 [00:00<?, ?it/s]"
      ]
     },
     "metadata": {},
     "output_type": "display_data"
    },
    {
     "name": "stdout",
     "output_type": "stream",
     "text": [
      "Epoch [12], val_loss: 1.621e+00, train_loss: 1.380e+00, lrate: 1.000e-04\n"
     ]
    },
    {
     "data": {
      "application/vnd.jupyter.widget-view+json": {
       "model_id": "429153342447421a9aa5177c3ddb5cd5",
       "version_major": 2,
       "version_minor": 0
      },
      "text/plain": [
       "Epoch: 13:   0%|          | 0/351 [00:00<?, ?it/s]"
      ]
     },
     "metadata": {},
     "output_type": "display_data"
    },
    {
     "name": "stdout",
     "output_type": "stream",
     "text": [
      "Epoch [13], val_loss: 1.625e+00, train_loss: 1.368e+00, lrate: 1.000e-04\n"
     ]
    },
    {
     "data": {
      "application/vnd.jupyter.widget-view+json": {
       "model_id": "2be68a710b13429487f24fc8a743ef69",
       "version_major": 2,
       "version_minor": 0
      },
      "text/plain": [
       "Epoch: 14:   0%|          | 0/351 [00:00<?, ?it/s]"
      ]
     },
     "metadata": {},
     "output_type": "display_data"
    },
    {
     "name": "stdout",
     "output_type": "stream",
     "text": [
      "Epoch [14], val_loss: 1.616e+00, train_loss: 1.359e+00, lrate: 1.000e-04\n"
     ]
    },
    {
     "data": {
      "application/vnd.jupyter.widget-view+json": {
       "model_id": "da8bfb5ac18248f29ef52f36daa4524a",
       "version_major": 2,
       "version_minor": 0
      },
      "text/plain": [
       "Epoch: 15:   0%|          | 0/351 [00:00<?, ?it/s]"
      ]
     },
     "metadata": {},
     "output_type": "display_data"
    },
    {
     "name": "stdout",
     "output_type": "stream",
     "text": [
      "Epoch [15], val_loss: 1.612e+00, train_loss: 1.350e+00, lrate: 1.000e-04\n"
     ]
    },
    {
     "data": {
      "application/vnd.jupyter.widget-view+json": {
       "model_id": "4439b6ef1c764631a61e47edf6bdf857",
       "version_major": 2,
       "version_minor": 0
      },
      "text/plain": [
       "Epoch: 16:   0%|          | 0/351 [00:00<?, ?it/s]"
      ]
     },
     "metadata": {},
     "output_type": "display_data"
    },
    {
     "name": "stdout",
     "output_type": "stream",
     "text": [
      "Epoch [16], val_loss: 1.623e+00, train_loss: 1.342e+00, lrate: 1.000e-04\n"
     ]
    },
    {
     "data": {
      "application/vnd.jupyter.widget-view+json": {
       "model_id": "45ab4bf50b044118a4e5baa07221e8e0",
       "version_major": 2,
       "version_minor": 0
      },
      "text/plain": [
       "Epoch: 17:   0%|          | 0/351 [00:00<?, ?it/s]"
      ]
     },
     "metadata": {},
     "output_type": "display_data"
    },
    {
     "name": "stdout",
     "output_type": "stream",
     "text": [
      "Epoch [17], val_loss: 1.610e+00, train_loss: 1.337e+00, lrate: 1.000e-04\n"
     ]
    },
    {
     "data": {
      "application/vnd.jupyter.widget-view+json": {
       "model_id": "2081b24cb3564717a06ec04d57e45f91",
       "version_major": 2,
       "version_minor": 0
      },
      "text/plain": [
       "Epoch: 18:   0%|          | 0/351 [00:00<?, ?it/s]"
      ]
     },
     "metadata": {},
     "output_type": "display_data"
    },
    {
     "name": "stdout",
     "output_type": "stream",
     "text": [
      "Epoch [18], val_loss: 1.610e+00, train_loss: 1.327e+00, lrate: 1.000e-04\n"
     ]
    },
    {
     "data": {
      "application/vnd.jupyter.widget-view+json": {
       "model_id": "592f5259c4fe44c9b8bc52fa82e97b17",
       "version_major": 2,
       "version_minor": 0
      },
      "text/plain": [
       "Epoch: 19:   0%|          | 0/351 [00:00<?, ?it/s]"
      ]
     },
     "metadata": {},
     "output_type": "display_data"
    },
    {
     "name": "stdout",
     "output_type": "stream",
     "text": [
      "Epoch [19], val_loss: 1.616e+00, train_loss: 1.321e+00, lrate: 1.000e-04\n"
     ]
    },
    {
     "data": {
      "application/vnd.jupyter.widget-view+json": {
       "model_id": "fcd6cd77899c4cafb6b96151f83f51fe",
       "version_major": 2,
       "version_minor": 0
      },
      "text/plain": [
       "Epoch: 20:   0%|          | 0/351 [00:00<?, ?it/s]"
      ]
     },
     "metadata": {},
     "output_type": "display_data"
    },
    {
     "name": "stdout",
     "output_type": "stream",
     "text": [
      "Epoch [20], val_loss: 1.618e+00, train_loss: 1.317e+00, lrate: 1.000e-04\n"
     ]
    },
    {
     "data": {
      "application/vnd.jupyter.widget-view+json": {
       "model_id": "1d3728dc31464a7897816d0751302043",
       "version_major": 2,
       "version_minor": 0
      },
      "text/plain": [
       "Epoch: 21:   0%|          | 0/351 [00:00<?, ?it/s]"
      ]
     },
     "metadata": {},
     "output_type": "display_data"
    },
    {
     "name": "stdout",
     "output_type": "stream",
     "text": [
      "Epoch [21], val_loss: 1.618e+00, train_loss: 1.312e+00, lrate: 1.000e-05\n"
     ]
    },
    {
     "data": {
      "application/vnd.jupyter.widget-view+json": {
       "model_id": "65d7f2d4719446d7b8c9536181594914",
       "version_major": 2,
       "version_minor": 0
      },
      "text/plain": [
       "Epoch: 22:   0%|          | 0/351 [00:00<?, ?it/s]"
      ]
     },
     "metadata": {},
     "output_type": "display_data"
    },
    {
     "name": "stdout",
     "output_type": "stream",
     "text": [
      "Early stopping\n",
      "----------------------------------------------------------------\n",
      "        Layer (type)               Output Shape         Param #\n",
      "================================================================\n",
      "            Conv2d-1           [-1, 32, 46, 46]             320\n",
      "         MaxPool2d-2           [-1, 32, 23, 23]               0\n",
      "       BatchNorm2d-3           [-1, 32, 23, 23]              64\n",
      "            Conv2d-4           [-1, 64, 21, 21]          18,496\n",
      "         MaxPool2d-5           [-1, 64, 11, 11]               0\n",
      "       BatchNorm2d-6           [-1, 64, 11, 11]             128\n",
      "            Conv2d-7            [-1, 128, 9, 9]          73,856\n",
      "         MaxPool2d-8            [-1, 128, 5, 5]               0\n",
      "       BatchNorm2d-9            [-1, 128, 5, 5]             256\n",
      "           Linear-10                  [-1, 256]         819,456\n",
      "           Linear-11                    [-1, 7]           1,799\n",
      "================================================================\n",
      "Total params: 914,375\n",
      "Trainable params: 914,375\n",
      "Non-trainable params: 0\n",
      "----------------------------------------------------------------\n",
      "Input size (MB): 0.01\n",
      "Forward/backward pass size (MB): 1.24\n",
      "Params size (MB): 3.49\n",
      "Estimated Total Size (MB): 4.74\n",
      "----------------------------------------------------------------\n"
     ]
    }
   ],
   "source": [
    "splits = 4\n",
    "skf = StratifiedKFold(n_splits=splits, random_state=seed, shuffle=True)\n",
    "histories = []\n",
    "\n",
    "for fold,(train_idx,val_idx) in enumerate(skf.split(df_train,train_dl.dl.dataset.targets)):\n",
    "    print('------------fold no---------{}----------------------'.format(fold))\n",
    "    \n",
    "    net = Net(loss_function, metrics, len(classes))\n",
    "    net.to(device)\n",
    "    \n",
    "    train_subsampler = torch.utils.data.SubsetRandomSampler(train_idx)\n",
    "    val_subsampler = torch.utils.data.SubsetRandomSampler(val_idx)\n",
    "\n",
    "    train_fold_dl = DeviceDataLoader(DataLoader(df_train, batch_size=batch_size,  sampler=train_subsampler),device)\n",
    "    val_fold_dl = DeviceDataLoader(DataLoader(df_train, batch_size=batch_size,  sampler=val_subsampler),device)\n",
    "    #print(np.unique(np.array(train_fold_dl.dl.dataset.targets)[train_subsampler.indices],return_counts=True))\n",
    "    #print(np.unique(np.array(train_fold_dl.dl.dataset.targets)[test_subsampler.indices],return_counts=True))\n",
    "    #print(train_dl[train_subsampler.indices])\n",
    "    history = dict()\n",
    "    history[\"losses\"] = fit(num_epochs, patience, lr, net, train_fold_dl, val_fold_dl, optimizer, scheduler, fold)\n",
    "    history[\"model\"] = net\n",
    "    histories.append(history)\n",
    "\n",
    "summary(net,(1,48,48))"
   ]
  },
  {
   "cell_type": "markdown",
   "id": "bb2ca953",
   "metadata": {},
   "source": [
    "## Save/Load model"
   ]
  },
  {
   "cell_type": "code",
   "execution_count": 48,
   "id": "5f28e342",
   "metadata": {},
   "outputs": [],
   "source": [
    "if save_model:\n",
    "    for fold,h in enumerate(histories):\n",
    "        model_path = os.path.join(models_directory_data,f\"classifier_fold_{fold}.pt\")\n",
    "        torch.save(h[\"model\"].state_dict(), model_path)"
   ]
  },
  {
   "cell_type": "code",
   "execution_count": 49,
   "id": "e9cc002d",
   "metadata": {},
   "outputs": [],
   "source": [
    "if load_model:\n",
    "    histories = []\n",
    "\n",
    "    for fold, model in enumerate(os.listdir(models_directory_data)):\n",
    "        net = Net(loss_function, metrics, len(classes))\n",
    "        net.load_state_dict(torch.load(os.path.join(models_directory_data,model)))\n",
    "        net.eval()\n",
    "        net.cuda()\n",
    "        histories.append( {\"model\": net } )"
   ]
  },
  {
   "cell_type": "markdown",
   "id": "236fc3f4",
   "metadata": {},
   "source": [
    "## Model testing"
   ]
  },
  {
   "cell_type": "code",
   "execution_count": 50,
   "id": "1403cef9-c12a-4e66-9565-7f8b7eaf2f38",
   "metadata": {},
   "outputs": [],
   "source": [
    "def get_model_predicitons(model, dataset):\n",
    "    y_test = []\n",
    "    y_scores = []\n",
    "\n",
    "    # since we're not training, we don't need to calculate the gradients for our outputs\n",
    "    with torch.no_grad():\n",
    "        for data in tqdm(dataset):\n",
    "            images, labels = data[0].to(device), data[1].to(device)\n",
    "            # calculate outputs by running images through the network\n",
    "            outputs = model(images)\n",
    "\n",
    "            # the class with the highest energy is what we choose as prediction\n",
    "            _, predicted = torch.max(outputs.data, 1)\n",
    "\n",
    "            y_test.extend(labels.tolist())\n",
    "            y_scores.extend(outputs.tolist())\n",
    "\n",
    "    y_test = np.array(y_test)\n",
    "    y_scores = np.array(y_scores)\n",
    "\n",
    "    return y_test, y_scores\n"
   ]
  },
  {
   "cell_type": "markdown",
   "id": "fdc366c3",
   "metadata": {},
   "source": [
    "### Network Accuracy"
   ]
  },
  {
   "cell_type": "code",
   "execution_count": 51,
   "id": "158b7789-29fe-43c3-9821-11cb5215fb60",
   "metadata": {},
   "outputs": [],
   "source": [
    "def evaluate_accuracy(y_test, y_scores, classes, verbose=False):\n",
    "    # Overall accuracy\n",
    "\n",
    "    n_test = y_test.shape[0]\n",
    "    predicted = np.argmax(y_scores,axis=1)\n",
    "    mean_acc = np.sum(predicted == y_test) / n_test\n",
    "    class_acc = []\n",
    "    \n",
    "    # Accuracy per class\n",
    "\n",
    "    correct_pred = {classname: 0 for classname in classes}\n",
    "    total_pred = {classname: 0 for classname in classes}\n",
    "\n",
    "    # collect the correct predictions for each class\n",
    "    for label, prediction in zip(y_test, predicted):\n",
    "        if label == prediction:\n",
    "            correct_pred[classes[label]] += 1\n",
    "        total_pred[classes[label]] += 1\n",
    "\n",
    "    for classname, correct_count in correct_pred.items():\n",
    "        accuracy = float(correct_count) / total_pred[classname]\n",
    "        class_acc.append(accuracy)\n",
    "\n",
    "    if verbose:\n",
    "        print(f'Overall accuracy: {100 * mean_acc } %')\n",
    "\n",
    "        print(\"Accuracy per class:\")\n",
    "        for i,c in enumerate(classes):\n",
    "            print(f'{c:9s} : {class_acc[i] * 100:.1f} %')\n",
    "        \n",
    "    return mean_acc, class_acc"
   ]
  },
  {
   "cell_type": "markdown",
   "id": "7478b8a1",
   "metadata": {},
   "source": [
    "# ROC/AUC"
   ]
  },
  {
   "cell_type": "code",
   "execution_count": 52,
   "id": "a8017ba3",
   "metadata": {},
   "outputs": [],
   "source": [
    "\n",
    "def evaluate_roc_auc(y_test, y_scores, classes, plot=False, verbose=False):\n",
    "    # Compute ROC curve and ROC area for each class\n",
    "    fpr = dict()\n",
    "    tpr = dict()\n",
    "    ths = dict()\n",
    "    roc_auc = dict()\n",
    "    for i,_ in enumerate(classes):\n",
    "        fpr[i], tpr[i], ths[i] = roc_curve(y_test == i, y_scores[:,i])\n",
    "        roc_auc[i] = auc(fpr[i], tpr[i])\n",
    "\n",
    "    if plot:\n",
    "        # Plot of a ROC curve for a specific class\n",
    "        for i,c in enumerate(classes):\n",
    "            plt.figure()\n",
    "            plt.plot(fpr[i], tpr[i], label='ROC curve (area = %0.2f)' % roc_auc[i])\n",
    "            plt.plot([0, 1], [0, 1], 'k--')\n",
    "            plt.xlim([0.0, 1.0])\n",
    "            plt.ylim([0.0, 1.05])\n",
    "            plt.xlabel('False Positive Rate')\n",
    "            plt.ylabel('True Positive Rate')\n",
    "            plt.title(f'ROC {c}')\n",
    "            plt.legend(loc=\"lower right\")\n",
    "            plt.show()\n",
    "\n",
    "    mean_auc = np.mean(list(roc_auc.values()))\n",
    "\n",
    "    if verbose:\n",
    "        print(f\"Mean AUC: { mean_auc * 100} %\")\n",
    "\n",
    "        print(\"Per classs AUC:\")\n",
    "        for i,c in enumerate(classes):\n",
    "            print(f'{c:9s} : {roc_auc[i]*100:.2f} %')\n",
    "\n",
    "    return mean_auc, roc_auc"
   ]
  },
  {
   "cell_type": "code",
   "execution_count": 53,
   "id": "686e4867",
   "metadata": {},
   "outputs": [
    {
     "data": {
      "application/vnd.jupyter.widget-view+json": {
       "model_id": "f3bce6ff94fd4ecc81f8d1280c9ec788",
       "version_major": 2,
       "version_minor": 0
      },
      "text/plain": [
       "  0%|          | 0/11 [00:00<?, ?it/s]"
      ]
     },
     "metadata": {},
     "output_type": "display_data"
    },
    {
     "data": {
      "application/vnd.jupyter.widget-view+json": {
       "model_id": "8494715b5c3a495cbf562c50423d0d4f",
       "version_major": 2,
       "version_minor": 0
      },
      "text/plain": [
       "  0%|          | 0/11 [00:00<?, ?it/s]"
      ]
     },
     "metadata": {},
     "output_type": "display_data"
    },
    {
     "data": {
      "application/vnd.jupyter.widget-view+json": {
       "model_id": "d2aad8a79c644f25b1068bfcd031e21f",
       "version_major": 2,
       "version_minor": 0
      },
      "text/plain": [
       "  0%|          | 0/11 [00:00<?, ?it/s]"
      ]
     },
     "metadata": {},
     "output_type": "display_data"
    },
    {
     "data": {
      "application/vnd.jupyter.widget-view+json": {
       "model_id": "cdf851f4e3b644c690680413aedae6a6",
       "version_major": 2,
       "version_minor": 0
      },
      "text/plain": [
       "  0%|          | 0/11 [00:00<?, ?it/s]"
      ]
     },
     "metadata": {},
     "output_type": "display_data"
    }
   ],
   "source": [
    "y_test = dict()\n",
    "y_scores = dict()\n",
    "\n",
    "for fold,h in enumerate(histories):\n",
    "    y_test[fold], y_scores[fold] = get_model_predicitons(h[\"model\"],test_dl)"
   ]
  },
  {
   "cell_type": "code",
   "execution_count": 54,
   "id": "aa2f66f9",
   "metadata": {},
   "outputs": [
    {
     "data": {
      "text/html": [
       "<div>\n",
       "<style scoped>\n",
       "    .dataframe tbody tr th:only-of-type {\n",
       "        vertical-align: middle;\n",
       "    }\n",
       "\n",
       "    .dataframe tbody tr th {\n",
       "        vertical-align: top;\n",
       "    }\n",
       "\n",
       "    .dataframe thead th {\n",
       "        text-align: right;\n",
       "    }\n",
       "</style>\n",
       "<table border=\"1\" class=\"dataframe\">\n",
       "  <thead>\n",
       "    <tr style=\"text-align: right;\">\n",
       "      <th></th>\n",
       "      <th>mean AUC</th>\n",
       "      <th>angry AUC</th>\n",
       "      <th>disgust AUC</th>\n",
       "      <th>fear AUC</th>\n",
       "      <th>happy AUC</th>\n",
       "      <th>neautral AUC</th>\n",
       "      <th>sad AUC</th>\n",
       "      <th>surprise AUC</th>\n",
       "      <th>mean ACC</th>\n",
       "      <th>angry ACC</th>\n",
       "      <th>disgust ACC</th>\n",
       "      <th>fear ACC</th>\n",
       "      <th>happy ACC</th>\n",
       "      <th>neautral ACC</th>\n",
       "      <th>sad ACC</th>\n",
       "      <th>surprise ACC</th>\n",
       "    </tr>\n",
       "  </thead>\n",
       "  <tbody>\n",
       "    <tr>\n",
       "      <th>Fer2013_merge_selected_85_uniform_aug_surprise_100 fold 0</th>\n",
       "      <td>0.854021</td>\n",
       "      <td>0.789183</td>\n",
       "      <td>0.916983</td>\n",
       "      <td>0.755017</td>\n",
       "      <td>0.922250</td>\n",
       "      <td>0.863250</td>\n",
       "      <td>0.810900</td>\n",
       "      <td>0.920567</td>\n",
       "      <td>0.561429</td>\n",
       "      <td>0.500</td>\n",
       "      <td>0.5100</td>\n",
       "      <td>0.4200</td>\n",
       "      <td>0.730</td>\n",
       "      <td>0.6000</td>\n",
       "      <td>0.3800</td>\n",
       "      <td>0.790</td>\n",
       "    </tr>\n",
       "    <tr>\n",
       "      <th>Fer2013_merge_selected_85_uniform_aug_surprise_100 fold 1</th>\n",
       "      <td>0.854896</td>\n",
       "      <td>0.814450</td>\n",
       "      <td>0.914017</td>\n",
       "      <td>0.734783</td>\n",
       "      <td>0.922117</td>\n",
       "      <td>0.856917</td>\n",
       "      <td>0.825667</td>\n",
       "      <td>0.916325</td>\n",
       "      <td>0.564286</td>\n",
       "      <td>0.510</td>\n",
       "      <td>0.5200</td>\n",
       "      <td>0.2700</td>\n",
       "      <td>0.760</td>\n",
       "      <td>0.5900</td>\n",
       "      <td>0.5100</td>\n",
       "      <td>0.790</td>\n",
       "    </tr>\n",
       "    <tr>\n",
       "      <th>Fer2013_merge_selected_85_uniform_aug_surprise_100 fold 2</th>\n",
       "      <td>0.849142</td>\n",
       "      <td>0.790867</td>\n",
       "      <td>0.906950</td>\n",
       "      <td>0.753817</td>\n",
       "      <td>0.905325</td>\n",
       "      <td>0.875183</td>\n",
       "      <td>0.792550</td>\n",
       "      <td>0.919300</td>\n",
       "      <td>0.555714</td>\n",
       "      <td>0.500</td>\n",
       "      <td>0.5700</td>\n",
       "      <td>0.3900</td>\n",
       "      <td>0.770</td>\n",
       "      <td>0.5600</td>\n",
       "      <td>0.3500</td>\n",
       "      <td>0.750</td>\n",
       "    </tr>\n",
       "    <tr>\n",
       "      <th>Fer2013_merge_selected_85_uniform_aug_surprise_100 fold 3</th>\n",
       "      <td>0.844864</td>\n",
       "      <td>0.826517</td>\n",
       "      <td>0.908467</td>\n",
       "      <td>0.716817</td>\n",
       "      <td>0.920508</td>\n",
       "      <td>0.850450</td>\n",
       "      <td>0.792967</td>\n",
       "      <td>0.898325</td>\n",
       "      <td>0.550000</td>\n",
       "      <td>0.470</td>\n",
       "      <td>0.4900</td>\n",
       "      <td>0.3300</td>\n",
       "      <td>0.760</td>\n",
       "      <td>0.5800</td>\n",
       "      <td>0.4500</td>\n",
       "      <td>0.770</td>\n",
       "    </tr>\n",
       "    <tr>\n",
       "      <th>Fer2013_merge_selected_85_uniform_aug_surprise_100 mean</th>\n",
       "      <td>0.850731</td>\n",
       "      <td>0.805254</td>\n",
       "      <td>0.911604</td>\n",
       "      <td>0.740108</td>\n",
       "      <td>0.917550</td>\n",
       "      <td>0.861450</td>\n",
       "      <td>0.805521</td>\n",
       "      <td>0.913629</td>\n",
       "      <td>0.557857</td>\n",
       "      <td>0.495</td>\n",
       "      <td>0.5225</td>\n",
       "      <td>0.3525</td>\n",
       "      <td>0.755</td>\n",
       "      <td>0.5825</td>\n",
       "      <td>0.4225</td>\n",
       "      <td>0.775</td>\n",
       "    </tr>\n",
       "  </tbody>\n",
       "</table>\n",
       "</div>"
      ],
      "text/plain": [
       "                                                    mean AUC  angry AUC  \\\n",
       "Fer2013_merge_selected_85_uniform_aug_surprise_...  0.854021   0.789183   \n",
       "Fer2013_merge_selected_85_uniform_aug_surprise_...  0.854896   0.814450   \n",
       "Fer2013_merge_selected_85_uniform_aug_surprise_...  0.849142   0.790867   \n",
       "Fer2013_merge_selected_85_uniform_aug_surprise_...  0.844864   0.826517   \n",
       "Fer2013_merge_selected_85_uniform_aug_surprise_...  0.850731   0.805254   \n",
       "\n",
       "                                                    disgust AUC  fear AUC  \\\n",
       "Fer2013_merge_selected_85_uniform_aug_surprise_...     0.916983  0.755017   \n",
       "Fer2013_merge_selected_85_uniform_aug_surprise_...     0.914017  0.734783   \n",
       "Fer2013_merge_selected_85_uniform_aug_surprise_...     0.906950  0.753817   \n",
       "Fer2013_merge_selected_85_uniform_aug_surprise_...     0.908467  0.716817   \n",
       "Fer2013_merge_selected_85_uniform_aug_surprise_...     0.911604  0.740108   \n",
       "\n",
       "                                                    happy AUC  neautral AUC  \\\n",
       "Fer2013_merge_selected_85_uniform_aug_surprise_...   0.922250      0.863250   \n",
       "Fer2013_merge_selected_85_uniform_aug_surprise_...   0.922117      0.856917   \n",
       "Fer2013_merge_selected_85_uniform_aug_surprise_...   0.905325      0.875183   \n",
       "Fer2013_merge_selected_85_uniform_aug_surprise_...   0.920508      0.850450   \n",
       "Fer2013_merge_selected_85_uniform_aug_surprise_...   0.917550      0.861450   \n",
       "\n",
       "                                                     sad AUC  surprise AUC  \\\n",
       "Fer2013_merge_selected_85_uniform_aug_surprise_...  0.810900      0.920567   \n",
       "Fer2013_merge_selected_85_uniform_aug_surprise_...  0.825667      0.916325   \n",
       "Fer2013_merge_selected_85_uniform_aug_surprise_...  0.792550      0.919300   \n",
       "Fer2013_merge_selected_85_uniform_aug_surprise_...  0.792967      0.898325   \n",
       "Fer2013_merge_selected_85_uniform_aug_surprise_...  0.805521      0.913629   \n",
       "\n",
       "                                                    mean ACC  angry ACC  \\\n",
       "Fer2013_merge_selected_85_uniform_aug_surprise_...  0.561429      0.500   \n",
       "Fer2013_merge_selected_85_uniform_aug_surprise_...  0.564286      0.510   \n",
       "Fer2013_merge_selected_85_uniform_aug_surprise_...  0.555714      0.500   \n",
       "Fer2013_merge_selected_85_uniform_aug_surprise_...  0.550000      0.470   \n",
       "Fer2013_merge_selected_85_uniform_aug_surprise_...  0.557857      0.495   \n",
       "\n",
       "                                                    disgust ACC  fear ACC  \\\n",
       "Fer2013_merge_selected_85_uniform_aug_surprise_...       0.5100    0.4200   \n",
       "Fer2013_merge_selected_85_uniform_aug_surprise_...       0.5200    0.2700   \n",
       "Fer2013_merge_selected_85_uniform_aug_surprise_...       0.5700    0.3900   \n",
       "Fer2013_merge_selected_85_uniform_aug_surprise_...       0.4900    0.3300   \n",
       "Fer2013_merge_selected_85_uniform_aug_surprise_...       0.5225    0.3525   \n",
       "\n",
       "                                                    happy ACC  neautral ACC  \\\n",
       "Fer2013_merge_selected_85_uniform_aug_surprise_...      0.730        0.6000   \n",
       "Fer2013_merge_selected_85_uniform_aug_surprise_...      0.760        0.5900   \n",
       "Fer2013_merge_selected_85_uniform_aug_surprise_...      0.770        0.5600   \n",
       "Fer2013_merge_selected_85_uniform_aug_surprise_...      0.760        0.5800   \n",
       "Fer2013_merge_selected_85_uniform_aug_surprise_...      0.755        0.5825   \n",
       "\n",
       "                                                    sad ACC  surprise ACC  \n",
       "Fer2013_merge_selected_85_uniform_aug_surprise_...   0.3800         0.790  \n",
       "Fer2013_merge_selected_85_uniform_aug_surprise_...   0.5100         0.790  \n",
       "Fer2013_merge_selected_85_uniform_aug_surprise_...   0.3500         0.750  \n",
       "Fer2013_merge_selected_85_uniform_aug_surprise_...   0.4500         0.770  \n",
       "Fer2013_merge_selected_85_uniform_aug_surprise_...   0.4225         0.775  "
      ]
     },
     "execution_count": 54,
     "metadata": {},
     "output_type": "execute_result"
    }
   ],
   "source": [
    "columns=[\"mean AUC\", \"angry AUC\", \"disgust AUC\", \"fear AUC\", \"happy AUC\", \"neautral AUC\", \"sad AUC\", \"surprise AUC\", \"mean ACC\", \"angry ACC\", \"disgust ACC\", \"fear ACC\", \"happy ACC\", \"neautral ACC\", \"sad ACC\", \"surprise ACC\"]\n",
    "df = pd.DataFrame(columns = columns)\n",
    "\n",
    "for fold,_ in enumerate(histories):\n",
    "    mean_acc,class_acc = evaluate_accuracy(y_test[fold], y_scores[fold], classes)\n",
    "    mean_auc,roc_auc = evaluate_roc_auc(y_test[fold], y_scores[fold], classes)\n",
    "\n",
    "    exp = [mean_auc]\n",
    "    exp += list(roc_auc.values())\n",
    "    exp += [mean_acc]\n",
    "    exp += class_acc\n",
    "\n",
    "    df_new = pd.DataFrame( np.array([exp]),[f\"{dataset_name} fold {fold}\"], columns=columns)\n",
    "    df = pd.concat([df,df_new])\n",
    "    df = df.astype('float')\n",
    "\n",
    "mean_df = df.mean(0).to_frame().transpose().set_index(pd.Index([f\"{dataset_name} mean\"]))\n",
    "df = pd.concat([df,mean_df])\n",
    "df\n"
   ]
  },
  {
   "cell_type": "markdown",
   "id": "bbe8f59a",
   "metadata": {},
   "source": [
    "## Save metrics"
   ]
  },
  {
   "cell_type": "code",
   "execution_count": 55,
   "id": "6dfac9df",
   "metadata": {},
   "outputs": [
    {
     "data": {
      "text/html": [
       "<div>\n",
       "<style scoped>\n",
       "    .dataframe tbody tr th:only-of-type {\n",
       "        vertical-align: middle;\n",
       "    }\n",
       "\n",
       "    .dataframe tbody tr th {\n",
       "        vertical-align: top;\n",
       "    }\n",
       "\n",
       "    .dataframe thead th {\n",
       "        text-align: right;\n",
       "    }\n",
       "</style>\n",
       "<table border=\"1\" class=\"dataframe\">\n",
       "  <thead>\n",
       "    <tr style=\"text-align: right;\">\n",
       "      <th></th>\n",
       "      <th>mean AUC</th>\n",
       "      <th>angry AUC</th>\n",
       "      <th>disgust AUC</th>\n",
       "      <th>fear AUC</th>\n",
       "      <th>happy AUC</th>\n",
       "      <th>neautral AUC</th>\n",
       "      <th>sad AUC</th>\n",
       "      <th>surprise AUC</th>\n",
       "      <th>mean ACC</th>\n",
       "      <th>angry ACC</th>\n",
       "      <th>disgust ACC</th>\n",
       "      <th>fear ACC</th>\n",
       "      <th>happy ACC</th>\n",
       "      <th>neautral ACC</th>\n",
       "      <th>sad ACC</th>\n",
       "      <th>surprise ACC</th>\n",
       "    </tr>\n",
       "  </thead>\n",
       "  <tbody>\n",
       "    <tr>\n",
       "      <th>Fer2013_merge_selected_85_uniform_aug_disgust xval-4</th>\n",
       "      <td>0.851951</td>\n",
       "      <td>0.802933</td>\n",
       "      <td>0.897417</td>\n",
       "      <td>0.746271</td>\n",
       "      <td>0.921156</td>\n",
       "      <td>0.866823</td>\n",
       "      <td>0.820529</td>\n",
       "      <td>0.908527</td>\n",
       "      <td>0.565714</td>\n",
       "      <td>0.4850</td>\n",
       "      <td>0.5150</td>\n",
       "      <td>0.4175</td>\n",
       "      <td>0.7225</td>\n",
       "      <td>0.6025</td>\n",
       "      <td>0.4625</td>\n",
       "      <td>0.7550</td>\n",
       "    </tr>\n",
       "    <tr>\n",
       "      <th>Fer2013_merge_selected_85_uniform_aug_disgust xval-4</th>\n",
       "      <td>0.851527</td>\n",
       "      <td>0.810425</td>\n",
       "      <td>0.901646</td>\n",
       "      <td>0.748487</td>\n",
       "      <td>0.920058</td>\n",
       "      <td>0.867377</td>\n",
       "      <td>0.814950</td>\n",
       "      <td>0.897748</td>\n",
       "      <td>0.558214</td>\n",
       "      <td>0.4825</td>\n",
       "      <td>0.5000</td>\n",
       "      <td>0.3975</td>\n",
       "      <td>0.7375</td>\n",
       "      <td>0.5750</td>\n",
       "      <td>0.4625</td>\n",
       "      <td>0.7525</td>\n",
       "    </tr>\n",
       "    <tr>\n",
       "      <th>Fer2013_merge_selected_85_uniform_aug_disgust xval-4</th>\n",
       "      <td>0.852117</td>\n",
       "      <td>0.820917</td>\n",
       "      <td>0.898250</td>\n",
       "      <td>0.751125</td>\n",
       "      <td>0.923150</td>\n",
       "      <td>0.865158</td>\n",
       "      <td>0.803012</td>\n",
       "      <td>0.903208</td>\n",
       "      <td>0.566429</td>\n",
       "      <td>0.5175</td>\n",
       "      <td>0.4900</td>\n",
       "      <td>0.4350</td>\n",
       "      <td>0.7225</td>\n",
       "      <td>0.6100</td>\n",
       "      <td>0.4425</td>\n",
       "      <td>0.7475</td>\n",
       "    </tr>\n",
       "    <tr>\n",
       "      <th>Fer2013_merge_selected_85_uniform xval-4</th>\n",
       "      <td>0.850587</td>\n",
       "      <td>0.811165</td>\n",
       "      <td>0.903354</td>\n",
       "      <td>0.750200</td>\n",
       "      <td>0.915410</td>\n",
       "      <td>0.864867</td>\n",
       "      <td>0.812550</td>\n",
       "      <td>0.896560</td>\n",
       "      <td>0.565357</td>\n",
       "      <td>0.5175</td>\n",
       "      <td>0.5050</td>\n",
       "      <td>0.3875</td>\n",
       "      <td>0.7200</td>\n",
       "      <td>0.5975</td>\n",
       "      <td>0.4750</td>\n",
       "      <td>0.7550</td>\n",
       "    </tr>\n",
       "    <tr>\n",
       "      <th>Fer2013_merge_selected_85_uniform_aug_disgust_5000 xval-4</th>\n",
       "      <td>0.855798</td>\n",
       "      <td>0.822617</td>\n",
       "      <td>0.886883</td>\n",
       "      <td>0.749129</td>\n",
       "      <td>0.920315</td>\n",
       "      <td>0.867692</td>\n",
       "      <td>0.833283</td>\n",
       "      <td>0.910665</td>\n",
       "      <td>0.567500</td>\n",
       "      <td>0.4725</td>\n",
       "      <td>0.4875</td>\n",
       "      <td>0.4525</td>\n",
       "      <td>0.7150</td>\n",
       "      <td>0.6225</td>\n",
       "      <td>0.4750</td>\n",
       "      <td>0.7475</td>\n",
       "    </tr>\n",
       "    <tr>\n",
       "      <th>Fer2013_merge_selected_85_uniform_aug_surprise xval-4</th>\n",
       "      <td>0.850800</td>\n",
       "      <td>0.814192</td>\n",
       "      <td>0.906971</td>\n",
       "      <td>0.737621</td>\n",
       "      <td>0.921637</td>\n",
       "      <td>0.864408</td>\n",
       "      <td>0.806792</td>\n",
       "      <td>0.903977</td>\n",
       "      <td>0.558571</td>\n",
       "      <td>0.4875</td>\n",
       "      <td>0.5025</td>\n",
       "      <td>0.3500</td>\n",
       "      <td>0.7300</td>\n",
       "      <td>0.6000</td>\n",
       "      <td>0.4675</td>\n",
       "      <td>0.7725</td>\n",
       "    </tr>\n",
       "    <tr>\n",
       "      <th>Fer2013_merge_selected_85_uniform_aug_surprise xval-4</th>\n",
       "      <td>0.849465</td>\n",
       "      <td>0.809892</td>\n",
       "      <td>0.895792</td>\n",
       "      <td>0.741225</td>\n",
       "      <td>0.923658</td>\n",
       "      <td>0.856435</td>\n",
       "      <td>0.818304</td>\n",
       "      <td>0.900946</td>\n",
       "      <td>0.565357</td>\n",
       "      <td>0.5100</td>\n",
       "      <td>0.5175</td>\n",
       "      <td>0.3625</td>\n",
       "      <td>0.7200</td>\n",
       "      <td>0.5950</td>\n",
       "      <td>0.4875</td>\n",
       "      <td>0.7650</td>\n",
       "    </tr>\n",
       "    <tr>\n",
       "      <th>Fer2013_merge_selected_85_uniform_aug_surprise_500 xval-4</th>\n",
       "      <td>0.846230</td>\n",
       "      <td>0.802542</td>\n",
       "      <td>0.905979</td>\n",
       "      <td>0.728835</td>\n",
       "      <td>0.907238</td>\n",
       "      <td>0.861575</td>\n",
       "      <td>0.812129</td>\n",
       "      <td>0.905310</td>\n",
       "      <td>0.554643</td>\n",
       "      <td>0.4675</td>\n",
       "      <td>0.5200</td>\n",
       "      <td>0.3650</td>\n",
       "      <td>0.7050</td>\n",
       "      <td>0.6125</td>\n",
       "      <td>0.4675</td>\n",
       "      <td>0.7450</td>\n",
       "    </tr>\n",
       "  </tbody>\n",
       "</table>\n",
       "</div>"
      ],
      "text/plain": [
       "                                                    mean AUC  angry AUC  \\\n",
       "Fer2013_merge_selected_85_uniform_aug_disgust x...  0.851951   0.802933   \n",
       "Fer2013_merge_selected_85_uniform_aug_disgust x...  0.851527   0.810425   \n",
       "Fer2013_merge_selected_85_uniform_aug_disgust x...  0.852117   0.820917   \n",
       "Fer2013_merge_selected_85_uniform xval-4            0.850587   0.811165   \n",
       "Fer2013_merge_selected_85_uniform_aug_disgust_5...  0.855798   0.822617   \n",
       "Fer2013_merge_selected_85_uniform_aug_surprise ...  0.850800   0.814192   \n",
       "Fer2013_merge_selected_85_uniform_aug_surprise ...  0.849465   0.809892   \n",
       "Fer2013_merge_selected_85_uniform_aug_surprise_...  0.846230   0.802542   \n",
       "\n",
       "                                                    disgust AUC  fear AUC  \\\n",
       "Fer2013_merge_selected_85_uniform_aug_disgust x...     0.897417  0.746271   \n",
       "Fer2013_merge_selected_85_uniform_aug_disgust x...     0.901646  0.748487   \n",
       "Fer2013_merge_selected_85_uniform_aug_disgust x...     0.898250  0.751125   \n",
       "Fer2013_merge_selected_85_uniform xval-4               0.903354  0.750200   \n",
       "Fer2013_merge_selected_85_uniform_aug_disgust_5...     0.886883  0.749129   \n",
       "Fer2013_merge_selected_85_uniform_aug_surprise ...     0.906971  0.737621   \n",
       "Fer2013_merge_selected_85_uniform_aug_surprise ...     0.895792  0.741225   \n",
       "Fer2013_merge_selected_85_uniform_aug_surprise_...     0.905979  0.728835   \n",
       "\n",
       "                                                    happy AUC  neautral AUC  \\\n",
       "Fer2013_merge_selected_85_uniform_aug_disgust x...   0.921156      0.866823   \n",
       "Fer2013_merge_selected_85_uniform_aug_disgust x...   0.920058      0.867377   \n",
       "Fer2013_merge_selected_85_uniform_aug_disgust x...   0.923150      0.865158   \n",
       "Fer2013_merge_selected_85_uniform xval-4             0.915410      0.864867   \n",
       "Fer2013_merge_selected_85_uniform_aug_disgust_5...   0.920315      0.867692   \n",
       "Fer2013_merge_selected_85_uniform_aug_surprise ...   0.921637      0.864408   \n",
       "Fer2013_merge_selected_85_uniform_aug_surprise ...   0.923658      0.856435   \n",
       "Fer2013_merge_selected_85_uniform_aug_surprise_...   0.907238      0.861575   \n",
       "\n",
       "                                                     sad AUC  surprise AUC  \\\n",
       "Fer2013_merge_selected_85_uniform_aug_disgust x...  0.820529      0.908527   \n",
       "Fer2013_merge_selected_85_uniform_aug_disgust x...  0.814950      0.897748   \n",
       "Fer2013_merge_selected_85_uniform_aug_disgust x...  0.803012      0.903208   \n",
       "Fer2013_merge_selected_85_uniform xval-4            0.812550      0.896560   \n",
       "Fer2013_merge_selected_85_uniform_aug_disgust_5...  0.833283      0.910665   \n",
       "Fer2013_merge_selected_85_uniform_aug_surprise ...  0.806792      0.903977   \n",
       "Fer2013_merge_selected_85_uniform_aug_surprise ...  0.818304      0.900946   \n",
       "Fer2013_merge_selected_85_uniform_aug_surprise_...  0.812129      0.905310   \n",
       "\n",
       "                                                    mean ACC  angry ACC  \\\n",
       "Fer2013_merge_selected_85_uniform_aug_disgust x...  0.565714     0.4850   \n",
       "Fer2013_merge_selected_85_uniform_aug_disgust x...  0.558214     0.4825   \n",
       "Fer2013_merge_selected_85_uniform_aug_disgust x...  0.566429     0.5175   \n",
       "Fer2013_merge_selected_85_uniform xval-4            0.565357     0.5175   \n",
       "Fer2013_merge_selected_85_uniform_aug_disgust_5...  0.567500     0.4725   \n",
       "Fer2013_merge_selected_85_uniform_aug_surprise ...  0.558571     0.4875   \n",
       "Fer2013_merge_selected_85_uniform_aug_surprise ...  0.565357     0.5100   \n",
       "Fer2013_merge_selected_85_uniform_aug_surprise_...  0.554643     0.4675   \n",
       "\n",
       "                                                    disgust ACC  fear ACC  \\\n",
       "Fer2013_merge_selected_85_uniform_aug_disgust x...       0.5150    0.4175   \n",
       "Fer2013_merge_selected_85_uniform_aug_disgust x...       0.5000    0.3975   \n",
       "Fer2013_merge_selected_85_uniform_aug_disgust x...       0.4900    0.4350   \n",
       "Fer2013_merge_selected_85_uniform xval-4                 0.5050    0.3875   \n",
       "Fer2013_merge_selected_85_uniform_aug_disgust_5...       0.4875    0.4525   \n",
       "Fer2013_merge_selected_85_uniform_aug_surprise ...       0.5025    0.3500   \n",
       "Fer2013_merge_selected_85_uniform_aug_surprise ...       0.5175    0.3625   \n",
       "Fer2013_merge_selected_85_uniform_aug_surprise_...       0.5200    0.3650   \n",
       "\n",
       "                                                    happy ACC  neautral ACC  \\\n",
       "Fer2013_merge_selected_85_uniform_aug_disgust x...     0.7225        0.6025   \n",
       "Fer2013_merge_selected_85_uniform_aug_disgust x...     0.7375        0.5750   \n",
       "Fer2013_merge_selected_85_uniform_aug_disgust x...     0.7225        0.6100   \n",
       "Fer2013_merge_selected_85_uniform xval-4               0.7200        0.5975   \n",
       "Fer2013_merge_selected_85_uniform_aug_disgust_5...     0.7150        0.6225   \n",
       "Fer2013_merge_selected_85_uniform_aug_surprise ...     0.7300        0.6000   \n",
       "Fer2013_merge_selected_85_uniform_aug_surprise ...     0.7200        0.5950   \n",
       "Fer2013_merge_selected_85_uniform_aug_surprise_...     0.7050        0.6125   \n",
       "\n",
       "                                                    sad ACC  surprise ACC  \n",
       "Fer2013_merge_selected_85_uniform_aug_disgust x...   0.4625        0.7550  \n",
       "Fer2013_merge_selected_85_uniform_aug_disgust x...   0.4625        0.7525  \n",
       "Fer2013_merge_selected_85_uniform_aug_disgust x...   0.4425        0.7475  \n",
       "Fer2013_merge_selected_85_uniform xval-4             0.4750        0.7550  \n",
       "Fer2013_merge_selected_85_uniform_aug_disgust_5...   0.4750        0.7475  \n",
       "Fer2013_merge_selected_85_uniform_aug_surprise ...   0.4675        0.7725  \n",
       "Fer2013_merge_selected_85_uniform_aug_surprise ...   0.4875        0.7650  \n",
       "Fer2013_merge_selected_85_uniform_aug_surprise_...   0.4675        0.7450  "
      ]
     },
     "execution_count": 55,
     "metadata": {},
     "output_type": "execute_result"
    }
   ],
   "source": [
    "try:\n",
    "    stored_df = pd.read_csv(os.path.join(metrics_directory, metrics_name),index_col=0)\n",
    "except FileNotFoundError:\n",
    "    stored_df = pd.DataFrame(columns = columns)\n",
    "stored_df"
   ]
  },
  {
   "cell_type": "code",
   "execution_count": 56,
   "id": "417b7565",
   "metadata": {},
   "outputs": [
    {
     "data": {
      "text/html": [
       "<div>\n",
       "<style scoped>\n",
       "    .dataframe tbody tr th:only-of-type {\n",
       "        vertical-align: middle;\n",
       "    }\n",
       "\n",
       "    .dataframe tbody tr th {\n",
       "        vertical-align: top;\n",
       "    }\n",
       "\n",
       "    .dataframe thead th {\n",
       "        text-align: right;\n",
       "    }\n",
       "</style>\n",
       "<table border=\"1\" class=\"dataframe\">\n",
       "  <thead>\n",
       "    <tr style=\"text-align: right;\">\n",
       "      <th></th>\n",
       "      <th>mean AUC</th>\n",
       "      <th>angry AUC</th>\n",
       "      <th>disgust AUC</th>\n",
       "      <th>fear AUC</th>\n",
       "      <th>happy AUC</th>\n",
       "      <th>neautral AUC</th>\n",
       "      <th>sad AUC</th>\n",
       "      <th>surprise AUC</th>\n",
       "      <th>mean ACC</th>\n",
       "      <th>angry ACC</th>\n",
       "      <th>disgust ACC</th>\n",
       "      <th>fear ACC</th>\n",
       "      <th>happy ACC</th>\n",
       "      <th>neautral ACC</th>\n",
       "      <th>sad ACC</th>\n",
       "      <th>surprise ACC</th>\n",
       "    </tr>\n",
       "  </thead>\n",
       "  <tbody>\n",
       "    <tr>\n",
       "      <th>Fer2013_merge_selected_85_uniform_aug_disgust xval-4</th>\n",
       "      <td>0.851951</td>\n",
       "      <td>0.802933</td>\n",
       "      <td>0.897417</td>\n",
       "      <td>0.746271</td>\n",
       "      <td>0.921156</td>\n",
       "      <td>0.866823</td>\n",
       "      <td>0.820529</td>\n",
       "      <td>0.908527</td>\n",
       "      <td>0.565714</td>\n",
       "      <td>0.4850</td>\n",
       "      <td>0.5150</td>\n",
       "      <td>0.4175</td>\n",
       "      <td>0.7225</td>\n",
       "      <td>0.6025</td>\n",
       "      <td>0.4625</td>\n",
       "      <td>0.7550</td>\n",
       "    </tr>\n",
       "    <tr>\n",
       "      <th>Fer2013_merge_selected_85_uniform_aug_disgust xval-4</th>\n",
       "      <td>0.851527</td>\n",
       "      <td>0.810425</td>\n",
       "      <td>0.901646</td>\n",
       "      <td>0.748487</td>\n",
       "      <td>0.920058</td>\n",
       "      <td>0.867377</td>\n",
       "      <td>0.814950</td>\n",
       "      <td>0.897748</td>\n",
       "      <td>0.558214</td>\n",
       "      <td>0.4825</td>\n",
       "      <td>0.5000</td>\n",
       "      <td>0.3975</td>\n",
       "      <td>0.7375</td>\n",
       "      <td>0.5750</td>\n",
       "      <td>0.4625</td>\n",
       "      <td>0.7525</td>\n",
       "    </tr>\n",
       "    <tr>\n",
       "      <th>Fer2013_merge_selected_85_uniform_aug_disgust xval-4</th>\n",
       "      <td>0.852117</td>\n",
       "      <td>0.820917</td>\n",
       "      <td>0.898250</td>\n",
       "      <td>0.751125</td>\n",
       "      <td>0.923150</td>\n",
       "      <td>0.865158</td>\n",
       "      <td>0.803012</td>\n",
       "      <td>0.903208</td>\n",
       "      <td>0.566429</td>\n",
       "      <td>0.5175</td>\n",
       "      <td>0.4900</td>\n",
       "      <td>0.4350</td>\n",
       "      <td>0.7225</td>\n",
       "      <td>0.6100</td>\n",
       "      <td>0.4425</td>\n",
       "      <td>0.7475</td>\n",
       "    </tr>\n",
       "    <tr>\n",
       "      <th>Fer2013_merge_selected_85_uniform xval-4</th>\n",
       "      <td>0.850587</td>\n",
       "      <td>0.811165</td>\n",
       "      <td>0.903354</td>\n",
       "      <td>0.750200</td>\n",
       "      <td>0.915410</td>\n",
       "      <td>0.864867</td>\n",
       "      <td>0.812550</td>\n",
       "      <td>0.896560</td>\n",
       "      <td>0.565357</td>\n",
       "      <td>0.5175</td>\n",
       "      <td>0.5050</td>\n",
       "      <td>0.3875</td>\n",
       "      <td>0.7200</td>\n",
       "      <td>0.5975</td>\n",
       "      <td>0.4750</td>\n",
       "      <td>0.7550</td>\n",
       "    </tr>\n",
       "    <tr>\n",
       "      <th>Fer2013_merge_selected_85_uniform_aug_disgust_5000 xval-4</th>\n",
       "      <td>0.855798</td>\n",
       "      <td>0.822617</td>\n",
       "      <td>0.886883</td>\n",
       "      <td>0.749129</td>\n",
       "      <td>0.920315</td>\n",
       "      <td>0.867692</td>\n",
       "      <td>0.833283</td>\n",
       "      <td>0.910665</td>\n",
       "      <td>0.567500</td>\n",
       "      <td>0.4725</td>\n",
       "      <td>0.4875</td>\n",
       "      <td>0.4525</td>\n",
       "      <td>0.7150</td>\n",
       "      <td>0.6225</td>\n",
       "      <td>0.4750</td>\n",
       "      <td>0.7475</td>\n",
       "    </tr>\n",
       "    <tr>\n",
       "      <th>Fer2013_merge_selected_85_uniform_aug_surprise xval-4</th>\n",
       "      <td>0.850800</td>\n",
       "      <td>0.814192</td>\n",
       "      <td>0.906971</td>\n",
       "      <td>0.737621</td>\n",
       "      <td>0.921637</td>\n",
       "      <td>0.864408</td>\n",
       "      <td>0.806792</td>\n",
       "      <td>0.903977</td>\n",
       "      <td>0.558571</td>\n",
       "      <td>0.4875</td>\n",
       "      <td>0.5025</td>\n",
       "      <td>0.3500</td>\n",
       "      <td>0.7300</td>\n",
       "      <td>0.6000</td>\n",
       "      <td>0.4675</td>\n",
       "      <td>0.7725</td>\n",
       "    </tr>\n",
       "    <tr>\n",
       "      <th>Fer2013_merge_selected_85_uniform_aug_surprise xval-4</th>\n",
       "      <td>0.849465</td>\n",
       "      <td>0.809892</td>\n",
       "      <td>0.895792</td>\n",
       "      <td>0.741225</td>\n",
       "      <td>0.923658</td>\n",
       "      <td>0.856435</td>\n",
       "      <td>0.818304</td>\n",
       "      <td>0.900946</td>\n",
       "      <td>0.565357</td>\n",
       "      <td>0.5100</td>\n",
       "      <td>0.5175</td>\n",
       "      <td>0.3625</td>\n",
       "      <td>0.7200</td>\n",
       "      <td>0.5950</td>\n",
       "      <td>0.4875</td>\n",
       "      <td>0.7650</td>\n",
       "    </tr>\n",
       "    <tr>\n",
       "      <th>Fer2013_merge_selected_85_uniform_aug_surprise_500 xval-4</th>\n",
       "      <td>0.846230</td>\n",
       "      <td>0.802542</td>\n",
       "      <td>0.905979</td>\n",
       "      <td>0.728835</td>\n",
       "      <td>0.907238</td>\n",
       "      <td>0.861575</td>\n",
       "      <td>0.812129</td>\n",
       "      <td>0.905310</td>\n",
       "      <td>0.554643</td>\n",
       "      <td>0.4675</td>\n",
       "      <td>0.5200</td>\n",
       "      <td>0.3650</td>\n",
       "      <td>0.7050</td>\n",
       "      <td>0.6125</td>\n",
       "      <td>0.4675</td>\n",
       "      <td>0.7450</td>\n",
       "    </tr>\n",
       "    <tr>\n",
       "      <th>Fer2013_merge_selected_85_uniform_aug_surprise_100 xval-4</th>\n",
       "      <td>0.850731</td>\n",
       "      <td>0.805254</td>\n",
       "      <td>0.911604</td>\n",
       "      <td>0.740108</td>\n",
       "      <td>0.917550</td>\n",
       "      <td>0.861450</td>\n",
       "      <td>0.805521</td>\n",
       "      <td>0.913629</td>\n",
       "      <td>0.557857</td>\n",
       "      <td>0.4950</td>\n",
       "      <td>0.5225</td>\n",
       "      <td>0.3525</td>\n",
       "      <td>0.7550</td>\n",
       "      <td>0.5825</td>\n",
       "      <td>0.4225</td>\n",
       "      <td>0.7750</td>\n",
       "    </tr>\n",
       "  </tbody>\n",
       "</table>\n",
       "</div>"
      ],
      "text/plain": [
       "                                                    mean AUC  angry AUC  \\\n",
       "Fer2013_merge_selected_85_uniform_aug_disgust x...  0.851951   0.802933   \n",
       "Fer2013_merge_selected_85_uniform_aug_disgust x...  0.851527   0.810425   \n",
       "Fer2013_merge_selected_85_uniform_aug_disgust x...  0.852117   0.820917   \n",
       "Fer2013_merge_selected_85_uniform xval-4            0.850587   0.811165   \n",
       "Fer2013_merge_selected_85_uniform_aug_disgust_5...  0.855798   0.822617   \n",
       "Fer2013_merge_selected_85_uniform_aug_surprise ...  0.850800   0.814192   \n",
       "Fer2013_merge_selected_85_uniform_aug_surprise ...  0.849465   0.809892   \n",
       "Fer2013_merge_selected_85_uniform_aug_surprise_...  0.846230   0.802542   \n",
       "Fer2013_merge_selected_85_uniform_aug_surprise_...  0.850731   0.805254   \n",
       "\n",
       "                                                    disgust AUC  fear AUC  \\\n",
       "Fer2013_merge_selected_85_uniform_aug_disgust x...     0.897417  0.746271   \n",
       "Fer2013_merge_selected_85_uniform_aug_disgust x...     0.901646  0.748487   \n",
       "Fer2013_merge_selected_85_uniform_aug_disgust x...     0.898250  0.751125   \n",
       "Fer2013_merge_selected_85_uniform xval-4               0.903354  0.750200   \n",
       "Fer2013_merge_selected_85_uniform_aug_disgust_5...     0.886883  0.749129   \n",
       "Fer2013_merge_selected_85_uniform_aug_surprise ...     0.906971  0.737621   \n",
       "Fer2013_merge_selected_85_uniform_aug_surprise ...     0.895792  0.741225   \n",
       "Fer2013_merge_selected_85_uniform_aug_surprise_...     0.905979  0.728835   \n",
       "Fer2013_merge_selected_85_uniform_aug_surprise_...     0.911604  0.740108   \n",
       "\n",
       "                                                    happy AUC  neautral AUC  \\\n",
       "Fer2013_merge_selected_85_uniform_aug_disgust x...   0.921156      0.866823   \n",
       "Fer2013_merge_selected_85_uniform_aug_disgust x...   0.920058      0.867377   \n",
       "Fer2013_merge_selected_85_uniform_aug_disgust x...   0.923150      0.865158   \n",
       "Fer2013_merge_selected_85_uniform xval-4             0.915410      0.864867   \n",
       "Fer2013_merge_selected_85_uniform_aug_disgust_5...   0.920315      0.867692   \n",
       "Fer2013_merge_selected_85_uniform_aug_surprise ...   0.921637      0.864408   \n",
       "Fer2013_merge_selected_85_uniform_aug_surprise ...   0.923658      0.856435   \n",
       "Fer2013_merge_selected_85_uniform_aug_surprise_...   0.907238      0.861575   \n",
       "Fer2013_merge_selected_85_uniform_aug_surprise_...   0.917550      0.861450   \n",
       "\n",
       "                                                     sad AUC  surprise AUC  \\\n",
       "Fer2013_merge_selected_85_uniform_aug_disgust x...  0.820529      0.908527   \n",
       "Fer2013_merge_selected_85_uniform_aug_disgust x...  0.814950      0.897748   \n",
       "Fer2013_merge_selected_85_uniform_aug_disgust x...  0.803012      0.903208   \n",
       "Fer2013_merge_selected_85_uniform xval-4            0.812550      0.896560   \n",
       "Fer2013_merge_selected_85_uniform_aug_disgust_5...  0.833283      0.910665   \n",
       "Fer2013_merge_selected_85_uniform_aug_surprise ...  0.806792      0.903977   \n",
       "Fer2013_merge_selected_85_uniform_aug_surprise ...  0.818304      0.900946   \n",
       "Fer2013_merge_selected_85_uniform_aug_surprise_...  0.812129      0.905310   \n",
       "Fer2013_merge_selected_85_uniform_aug_surprise_...  0.805521      0.913629   \n",
       "\n",
       "                                                    mean ACC  angry ACC  \\\n",
       "Fer2013_merge_selected_85_uniform_aug_disgust x...  0.565714     0.4850   \n",
       "Fer2013_merge_selected_85_uniform_aug_disgust x...  0.558214     0.4825   \n",
       "Fer2013_merge_selected_85_uniform_aug_disgust x...  0.566429     0.5175   \n",
       "Fer2013_merge_selected_85_uniform xval-4            0.565357     0.5175   \n",
       "Fer2013_merge_selected_85_uniform_aug_disgust_5...  0.567500     0.4725   \n",
       "Fer2013_merge_selected_85_uniform_aug_surprise ...  0.558571     0.4875   \n",
       "Fer2013_merge_selected_85_uniform_aug_surprise ...  0.565357     0.5100   \n",
       "Fer2013_merge_selected_85_uniform_aug_surprise_...  0.554643     0.4675   \n",
       "Fer2013_merge_selected_85_uniform_aug_surprise_...  0.557857     0.4950   \n",
       "\n",
       "                                                    disgust ACC  fear ACC  \\\n",
       "Fer2013_merge_selected_85_uniform_aug_disgust x...       0.5150    0.4175   \n",
       "Fer2013_merge_selected_85_uniform_aug_disgust x...       0.5000    0.3975   \n",
       "Fer2013_merge_selected_85_uniform_aug_disgust x...       0.4900    0.4350   \n",
       "Fer2013_merge_selected_85_uniform xval-4                 0.5050    0.3875   \n",
       "Fer2013_merge_selected_85_uniform_aug_disgust_5...       0.4875    0.4525   \n",
       "Fer2013_merge_selected_85_uniform_aug_surprise ...       0.5025    0.3500   \n",
       "Fer2013_merge_selected_85_uniform_aug_surprise ...       0.5175    0.3625   \n",
       "Fer2013_merge_selected_85_uniform_aug_surprise_...       0.5200    0.3650   \n",
       "Fer2013_merge_selected_85_uniform_aug_surprise_...       0.5225    0.3525   \n",
       "\n",
       "                                                    happy ACC  neautral ACC  \\\n",
       "Fer2013_merge_selected_85_uniform_aug_disgust x...     0.7225        0.6025   \n",
       "Fer2013_merge_selected_85_uniform_aug_disgust x...     0.7375        0.5750   \n",
       "Fer2013_merge_selected_85_uniform_aug_disgust x...     0.7225        0.6100   \n",
       "Fer2013_merge_selected_85_uniform xval-4               0.7200        0.5975   \n",
       "Fer2013_merge_selected_85_uniform_aug_disgust_5...     0.7150        0.6225   \n",
       "Fer2013_merge_selected_85_uniform_aug_surprise ...     0.7300        0.6000   \n",
       "Fer2013_merge_selected_85_uniform_aug_surprise ...     0.7200        0.5950   \n",
       "Fer2013_merge_selected_85_uniform_aug_surprise_...     0.7050        0.6125   \n",
       "Fer2013_merge_selected_85_uniform_aug_surprise_...     0.7550        0.5825   \n",
       "\n",
       "                                                    sad ACC  surprise ACC  \n",
       "Fer2013_merge_selected_85_uniform_aug_disgust x...   0.4625        0.7550  \n",
       "Fer2013_merge_selected_85_uniform_aug_disgust x...   0.4625        0.7525  \n",
       "Fer2013_merge_selected_85_uniform_aug_disgust x...   0.4425        0.7475  \n",
       "Fer2013_merge_selected_85_uniform xval-4             0.4750        0.7550  \n",
       "Fer2013_merge_selected_85_uniform_aug_disgust_5...   0.4750        0.7475  \n",
       "Fer2013_merge_selected_85_uniform_aug_surprise ...   0.4675        0.7725  \n",
       "Fer2013_merge_selected_85_uniform_aug_surprise ...   0.4875        0.7650  \n",
       "Fer2013_merge_selected_85_uniform_aug_surprise_...   0.4675        0.7450  \n",
       "Fer2013_merge_selected_85_uniform_aug_surprise_...   0.4225        0.7750  "
      ]
     },
     "execution_count": 56,
     "metadata": {},
     "output_type": "execute_result"
    }
   ],
   "source": [
    "stored_df = pd.concat([stored_df,mean_df.set_index(pd.Index([f\"{dataset_name} xval-{splits}\"]))])\n",
    "stored_df"
   ]
  },
  {
   "cell_type": "code",
   "execution_count": 57,
   "id": "d202fe7c",
   "metadata": {},
   "outputs": [],
   "source": [
    "if not os.path.isdir(metrics_directory):\n",
    "    os.makedirs(name = metrics_directory)\n",
    "stored_df.to_csv(os.path.join(metrics_directory, metrics_name))"
   ]
  },
  {
   "cell_type": "code",
   "execution_count": 58,
   "id": "af48bbbe",
   "metadata": {},
   "outputs": [
    {
     "data": {
      "text/html": [
       "<div>\n",
       "<style scoped>\n",
       "    .dataframe tbody tr th:only-of-type {\n",
       "        vertical-align: middle;\n",
       "    }\n",
       "\n",
       "    .dataframe tbody tr th {\n",
       "        vertical-align: top;\n",
       "    }\n",
       "\n",
       "    .dataframe thead th {\n",
       "        text-align: right;\n",
       "    }\n",
       "</style>\n",
       "<table border=\"1\" class=\"dataframe\">\n",
       "  <thead>\n",
       "    <tr style=\"text-align: right;\">\n",
       "      <th></th>\n",
       "      <th>mean AUC</th>\n",
       "      <th>angry AUC</th>\n",
       "      <th>disgust AUC</th>\n",
       "      <th>fear AUC</th>\n",
       "      <th>happy AUC</th>\n",
       "      <th>neautral AUC</th>\n",
       "      <th>sad AUC</th>\n",
       "      <th>surprise AUC</th>\n",
       "      <th>mean ACC</th>\n",
       "      <th>angry ACC</th>\n",
       "      <th>disgust ACC</th>\n",
       "      <th>fear ACC</th>\n",
       "      <th>happy ACC</th>\n",
       "      <th>neautral ACC</th>\n",
       "      <th>sad ACC</th>\n",
       "      <th>surprise ACC</th>\n",
       "    </tr>\n",
       "    <tr>\n",
       "      <th>Method</th>\n",
       "      <th></th>\n",
       "      <th></th>\n",
       "      <th></th>\n",
       "      <th></th>\n",
       "      <th></th>\n",
       "      <th></th>\n",
       "      <th></th>\n",
       "      <th></th>\n",
       "      <th></th>\n",
       "      <th></th>\n",
       "      <th></th>\n",
       "      <th></th>\n",
       "      <th></th>\n",
       "      <th></th>\n",
       "      <th></th>\n",
       "      <th></th>\n",
       "    </tr>\n",
       "  </thead>\n",
       "  <tbody>\n",
       "    <tr>\n",
       "      <th>Fer2013_merge_selected_85_uniform xval-4</th>\n",
       "      <td>0.850587</td>\n",
       "      <td>0.811165</td>\n",
       "      <td>0.903354</td>\n",
       "      <td>0.750200</td>\n",
       "      <td>0.915410</td>\n",
       "      <td>0.864867</td>\n",
       "      <td>0.812550</td>\n",
       "      <td>0.896560</td>\n",
       "      <td>0.565357</td>\n",
       "      <td>0.51750</td>\n",
       "      <td>0.505000</td>\n",
       "      <td>0.387500</td>\n",
       "      <td>0.7200</td>\n",
       "      <td>0.597500</td>\n",
       "      <td>0.475000</td>\n",
       "      <td>0.755000</td>\n",
       "    </tr>\n",
       "    <tr>\n",
       "      <th>Fer2013_merge_selected_85_uniform_aug_disgust xval-4</th>\n",
       "      <td>0.851865</td>\n",
       "      <td>0.811425</td>\n",
       "      <td>0.899104</td>\n",
       "      <td>0.748628</td>\n",
       "      <td>0.921455</td>\n",
       "      <td>0.866453</td>\n",
       "      <td>0.812831</td>\n",
       "      <td>0.903161</td>\n",
       "      <td>0.563452</td>\n",
       "      <td>0.49500</td>\n",
       "      <td>0.501667</td>\n",
       "      <td>0.416667</td>\n",
       "      <td>0.7275</td>\n",
       "      <td>0.595833</td>\n",
       "      <td>0.455833</td>\n",
       "      <td>0.751667</td>\n",
       "    </tr>\n",
       "    <tr>\n",
       "      <th>Fer2013_merge_selected_85_uniform_aug_disgust_5000 xval-4</th>\n",
       "      <td>0.855798</td>\n",
       "      <td>0.822617</td>\n",
       "      <td>0.886883</td>\n",
       "      <td>0.749129</td>\n",
       "      <td>0.920315</td>\n",
       "      <td>0.867692</td>\n",
       "      <td>0.833283</td>\n",
       "      <td>0.910665</td>\n",
       "      <td>0.567500</td>\n",
       "      <td>0.47250</td>\n",
       "      <td>0.487500</td>\n",
       "      <td>0.452500</td>\n",
       "      <td>0.7150</td>\n",
       "      <td>0.622500</td>\n",
       "      <td>0.475000</td>\n",
       "      <td>0.747500</td>\n",
       "    </tr>\n",
       "    <tr>\n",
       "      <th>Fer2013_merge_selected_85_uniform_aug_surprise xval-4</th>\n",
       "      <td>0.850132</td>\n",
       "      <td>0.812042</td>\n",
       "      <td>0.901381</td>\n",
       "      <td>0.739423</td>\n",
       "      <td>0.922648</td>\n",
       "      <td>0.860422</td>\n",
       "      <td>0.812548</td>\n",
       "      <td>0.902461</td>\n",
       "      <td>0.561964</td>\n",
       "      <td>0.49875</td>\n",
       "      <td>0.510000</td>\n",
       "      <td>0.356250</td>\n",
       "      <td>0.7250</td>\n",
       "      <td>0.597500</td>\n",
       "      <td>0.477500</td>\n",
       "      <td>0.768750</td>\n",
       "    </tr>\n",
       "    <tr>\n",
       "      <th>Fer2013_merge_selected_85_uniform_aug_surprise_100 xval-4</th>\n",
       "      <td>0.850731</td>\n",
       "      <td>0.805254</td>\n",
       "      <td>0.911604</td>\n",
       "      <td>0.740108</td>\n",
       "      <td>0.917550</td>\n",
       "      <td>0.861450</td>\n",
       "      <td>0.805521</td>\n",
       "      <td>0.913629</td>\n",
       "      <td>0.557857</td>\n",
       "      <td>0.49500</td>\n",
       "      <td>0.522500</td>\n",
       "      <td>0.352500</td>\n",
       "      <td>0.7550</td>\n",
       "      <td>0.582500</td>\n",
       "      <td>0.422500</td>\n",
       "      <td>0.775000</td>\n",
       "    </tr>\n",
       "    <tr>\n",
       "      <th>Fer2013_merge_selected_85_uniform_aug_surprise_500 xval-4</th>\n",
       "      <td>0.846230</td>\n",
       "      <td>0.802542</td>\n",
       "      <td>0.905979</td>\n",
       "      <td>0.728835</td>\n",
       "      <td>0.907238</td>\n",
       "      <td>0.861575</td>\n",
       "      <td>0.812129</td>\n",
       "      <td>0.905310</td>\n",
       "      <td>0.554643</td>\n",
       "      <td>0.46750</td>\n",
       "      <td>0.520000</td>\n",
       "      <td>0.365000</td>\n",
       "      <td>0.7050</td>\n",
       "      <td>0.612500</td>\n",
       "      <td>0.467500</td>\n",
       "      <td>0.745000</td>\n",
       "    </tr>\n",
       "  </tbody>\n",
       "</table>\n",
       "</div>"
      ],
      "text/plain": [
       "                                                    mean AUC  angry AUC  \\\n",
       "Method                                                                    \n",
       "Fer2013_merge_selected_85_uniform xval-4            0.850587   0.811165   \n",
       "Fer2013_merge_selected_85_uniform_aug_disgust x...  0.851865   0.811425   \n",
       "Fer2013_merge_selected_85_uniform_aug_disgust_5...  0.855798   0.822617   \n",
       "Fer2013_merge_selected_85_uniform_aug_surprise ...  0.850132   0.812042   \n",
       "Fer2013_merge_selected_85_uniform_aug_surprise_...  0.850731   0.805254   \n",
       "Fer2013_merge_selected_85_uniform_aug_surprise_...  0.846230   0.802542   \n",
       "\n",
       "                                                    disgust AUC  fear AUC  \\\n",
       "Method                                                                      \n",
       "Fer2013_merge_selected_85_uniform xval-4               0.903354  0.750200   \n",
       "Fer2013_merge_selected_85_uniform_aug_disgust x...     0.899104  0.748628   \n",
       "Fer2013_merge_selected_85_uniform_aug_disgust_5...     0.886883  0.749129   \n",
       "Fer2013_merge_selected_85_uniform_aug_surprise ...     0.901381  0.739423   \n",
       "Fer2013_merge_selected_85_uniform_aug_surprise_...     0.911604  0.740108   \n",
       "Fer2013_merge_selected_85_uniform_aug_surprise_...     0.905979  0.728835   \n",
       "\n",
       "                                                    happy AUC  neautral AUC  \\\n",
       "Method                                                                        \n",
       "Fer2013_merge_selected_85_uniform xval-4             0.915410      0.864867   \n",
       "Fer2013_merge_selected_85_uniform_aug_disgust x...   0.921455      0.866453   \n",
       "Fer2013_merge_selected_85_uniform_aug_disgust_5...   0.920315      0.867692   \n",
       "Fer2013_merge_selected_85_uniform_aug_surprise ...   0.922648      0.860422   \n",
       "Fer2013_merge_selected_85_uniform_aug_surprise_...   0.917550      0.861450   \n",
       "Fer2013_merge_selected_85_uniform_aug_surprise_...   0.907238      0.861575   \n",
       "\n",
       "                                                     sad AUC  surprise AUC  \\\n",
       "Method                                                                       \n",
       "Fer2013_merge_selected_85_uniform xval-4            0.812550      0.896560   \n",
       "Fer2013_merge_selected_85_uniform_aug_disgust x...  0.812831      0.903161   \n",
       "Fer2013_merge_selected_85_uniform_aug_disgust_5...  0.833283      0.910665   \n",
       "Fer2013_merge_selected_85_uniform_aug_surprise ...  0.812548      0.902461   \n",
       "Fer2013_merge_selected_85_uniform_aug_surprise_...  0.805521      0.913629   \n",
       "Fer2013_merge_selected_85_uniform_aug_surprise_...  0.812129      0.905310   \n",
       "\n",
       "                                                    mean ACC  angry ACC  \\\n",
       "Method                                                                    \n",
       "Fer2013_merge_selected_85_uniform xval-4            0.565357    0.51750   \n",
       "Fer2013_merge_selected_85_uniform_aug_disgust x...  0.563452    0.49500   \n",
       "Fer2013_merge_selected_85_uniform_aug_disgust_5...  0.567500    0.47250   \n",
       "Fer2013_merge_selected_85_uniform_aug_surprise ...  0.561964    0.49875   \n",
       "Fer2013_merge_selected_85_uniform_aug_surprise_...  0.557857    0.49500   \n",
       "Fer2013_merge_selected_85_uniform_aug_surprise_...  0.554643    0.46750   \n",
       "\n",
       "                                                    disgust ACC  fear ACC  \\\n",
       "Method                                                                      \n",
       "Fer2013_merge_selected_85_uniform xval-4               0.505000  0.387500   \n",
       "Fer2013_merge_selected_85_uniform_aug_disgust x...     0.501667  0.416667   \n",
       "Fer2013_merge_selected_85_uniform_aug_disgust_5...     0.487500  0.452500   \n",
       "Fer2013_merge_selected_85_uniform_aug_surprise ...     0.510000  0.356250   \n",
       "Fer2013_merge_selected_85_uniform_aug_surprise_...     0.522500  0.352500   \n",
       "Fer2013_merge_selected_85_uniform_aug_surprise_...     0.520000  0.365000   \n",
       "\n",
       "                                                    happy ACC  neautral ACC  \\\n",
       "Method                                                                        \n",
       "Fer2013_merge_selected_85_uniform xval-4               0.7200      0.597500   \n",
       "Fer2013_merge_selected_85_uniform_aug_disgust x...     0.7275      0.595833   \n",
       "Fer2013_merge_selected_85_uniform_aug_disgust_5...     0.7150      0.622500   \n",
       "Fer2013_merge_selected_85_uniform_aug_surprise ...     0.7250      0.597500   \n",
       "Fer2013_merge_selected_85_uniform_aug_surprise_...     0.7550      0.582500   \n",
       "Fer2013_merge_selected_85_uniform_aug_surprise_...     0.7050      0.612500   \n",
       "\n",
       "                                                     sad ACC  surprise ACC  \n",
       "Method                                                                      \n",
       "Fer2013_merge_selected_85_uniform xval-4            0.475000      0.755000  \n",
       "Fer2013_merge_selected_85_uniform_aug_disgust x...  0.455833      0.751667  \n",
       "Fer2013_merge_selected_85_uniform_aug_disgust_5...  0.475000      0.747500  \n",
       "Fer2013_merge_selected_85_uniform_aug_surprise ...  0.477500      0.768750  \n",
       "Fer2013_merge_selected_85_uniform_aug_surprise_...  0.422500      0.775000  \n",
       "Fer2013_merge_selected_85_uniform_aug_surprise_...  0.467500      0.745000  "
      ]
     },
     "execution_count": 58,
     "metadata": {},
     "output_type": "execute_result"
    }
   ],
   "source": [
    "stored_df.index.name = \"Method\"\n",
    "stored_df.groupby(\"Method\").mean()"
   ]
  },
  {
   "cell_type": "code",
   "execution_count": 59,
   "id": "4f6a75c8",
   "metadata": {},
   "outputs": [],
   "source": [
    "winsound.Beep(400, 2000)"
   ]
  },
  {
   "cell_type": "code",
   "execution_count": 60,
   "id": "cbfaa498",
   "metadata": {},
   "outputs": [],
   "source": [
    "winsound.Beep(400, 2000)"
   ]
  },
  {
   "cell_type": "code",
   "execution_count": null,
   "id": "99818dc5",
   "metadata": {},
   "outputs": [],
   "source": []
  }
 ],
 "metadata": {
  "kernelspec": {
   "display_name": "Python 3.8.13 ('Tensorflow')",
   "language": "python",
   "name": "python3"
  },
  "language_info": {
   "codemirror_mode": {
    "name": "ipython",
    "version": 3
   },
   "file_extension": ".py",
   "mimetype": "text/x-python",
   "name": "python",
   "nbconvert_exporter": "python",
   "pygments_lexer": "ipython3",
   "version": "3.8.13"
  },
  "vscode": {
   "interpreter": {
    "hash": "83305284921c5efca5a091fd9f3cbcdce3021b30adb0589d0b23bb1c455d0e53"
   }
  }
 },
 "nbformat": 4,
 "nbformat_minor": 5
}
