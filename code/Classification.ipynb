{
 "cells": [
  {
   "cell_type": "markdown",
   "id": "64b0897f",
   "metadata": {},
   "source": [
    "# Classifier"
   ]
  },
  {
   "cell_type": "markdown",
   "id": "08a9de04",
   "metadata": {},
   "source": [
    "## Import libraries"
   ]
  },
  {
   "cell_type": "code",
   "execution_count": 1,
   "id": "f30487ab-c2a7-4231-80cd-942fbc97e0a4",
   "metadata": {},
   "outputs": [],
   "source": [
    "import torch\n",
    "import torch.nn as nn\n",
    "import torch.nn.functional as F\n",
    "import torch.optim as optim\n",
    "import os\n",
    "from tqdm.notebook import tqdm, trange\n",
    "from time import sleep\n",
    "from torchvision.io import read_image\n",
    "from torchvision.transforms import ToTensor\n",
    "from torchvision import transforms\n",
    "from torchsummary import summary\n",
    "from torch.utils.data import DataLoader\n",
    "from torchvision.datasets import ImageFolder\n",
    "from collections import Counter\n",
    "import numpy as np\n",
    "from sklearn.metrics import roc_curve, auc\n",
    "from sklearn import datasets\n",
    "from sklearn.multiclass import OneVsRestClassifier\n",
    "from sklearn.svm import LinearSVC\n",
    "from sklearn.preprocessing import label_binarize\n",
    "from sklearn.model_selection import train_test_split\n",
    "import matplotlib.pyplot as plt\n",
    "import pandas as pd\n",
    "from sklearn.model_selection import StratifiedKFold\n",
    "\n",
    "import winsound\n"
   ]
  },
  {
   "cell_type": "code",
   "execution_count": 2,
   "id": "b0cc28d1",
   "metadata": {},
   "outputs": [],
   "source": [
    "seed = 23\n",
    "save_model = True\n",
    "load_model = False\n",
    "\n",
    "models_directory = \"models\"\n",
    "metrics_directory = \"metrics\"\n",
    "metrics_name = \"metrics_filtered.csv\"\n",
    "dataset_name = \"Fer2013_filtered_uniform_aug_big\"\n",
    "train_df_path = f\"../datasets/{dataset_name}/train\"\n",
    "test_df_path = f\"../datasets/{dataset_name}/test\"\n",
    "\n",
    "batch_size = 64"
   ]
  },
  {
   "cell_type": "markdown",
   "id": "ed5c4b34",
   "metadata": {},
   "source": [
    "## Functions definition"
   ]
  },
  {
   "cell_type": "code",
   "execution_count": 3,
   "id": "084cd3c3-e57c-434e-9669-2ff06fa1d080",
   "metadata": {},
   "outputs": [],
   "source": [
    "def get_default_device():\n",
    "    \"\"\"Pick GPU if available, else CPU\"\"\"\n",
    "    if torch.cuda.is_available():\n",
    "        return torch.device('cuda')\n",
    "    else:\n",
    "        return torch.device('cpu')\n",
    "    \n",
    "def to_device(data, device):\n",
    "    \"\"\"Move tensor(s) to chosen device\"\"\"\n",
    "    if isinstance(data, (list,tuple)):\n",
    "        return [to_device(x, device) for x in data]\n",
    "    return data.to(device, non_blocking=True)"
   ]
  },
  {
   "cell_type": "code",
   "execution_count": 4,
   "id": "e0a6ad2d-46c4-4553-94e6-5459666c6a9e",
   "metadata": {},
   "outputs": [],
   "source": [
    "@torch.no_grad()\n",
    "def evaluate(model, val_loader):\n",
    "    model.eval()\n",
    "    outputs = [model.validation_step(batch) for batch in val_loader]\n",
    "    return model.validation_epoch_end(outputs)\n",
    "\n",
    "def get_lr(optimizer):\n",
    "    for param_group in optimizer.param_groups:\n",
    "        return param_group['lr']\n",
    "\n",
    "def fit(epochs, lr, model, train_loader, val_loader, opt_func=torch.optim.SGD, scheduler_func=None):\n",
    "    history = []\n",
    "    optimizer = opt_func(model.parameters(), lr, betas=(0.5,0.999))\n",
    "    scheduler = scheduler_func(optimizer, mode='min', patience=3)\n",
    "    for epoch in tqdm(range(epochs), desc = \"Current Epoch\"):\n",
    "        # Training Phase \n",
    "        model.train()\n",
    "        train_losses = []\n",
    "        for batch in tqdm(train_loader, desc = f\"Epoch: {epoch}\", leave= False):\n",
    "            optimizer.zero_grad()\n",
    "            loss = model.training_step(batch)\n",
    "            train_losses.append(loss)\n",
    "            loss.backward()\n",
    "            optimizer.step()\n",
    "        # Validation phase\n",
    "        result = evaluate(model, val_loader)\n",
    "        result['train_loss'] = torch.stack(train_losses).mean().item()\n",
    "\n",
    "        scheduler.step(result['val_loss'])\n",
    "        result['lrate'] = get_lr(optimizer)\n",
    "\n",
    "        model.epoch_end(epoch, result)\n",
    "        history.append(result)\n",
    "    return history"
   ]
  },
  {
   "cell_type": "markdown",
   "id": "ca246c54",
   "metadata": {},
   "source": [
    "## Class definition"
   ]
  },
  {
   "cell_type": "code",
   "execution_count": 5,
   "id": "30e57e57",
   "metadata": {},
   "outputs": [],
   "source": [
    "class DeviceDataLoader():\n",
    "    \"\"\"Wrap a dataloader to move data to a device\"\"\"\n",
    "    def __init__(self, dl, device):\n",
    "        self.dl = dl\n",
    "        self.device = device\n",
    "        \n",
    "    def __iter__(self):\n",
    "        \"\"\"Yield a batch of data after moving it to device\"\"\"\n",
    "        for b in self.dl: \n",
    "            yield to_device(b, self.device)\n",
    "\n",
    "    def __len__(self):\n",
    "        \"\"\"Number of batches\"\"\"\n",
    "        return len(self.dl)"
   ]
  },
  {
   "cell_type": "code",
   "execution_count": 6,
   "id": "1042dd71-2d30-4b9e-b7fd-dc0178421675",
   "metadata": {},
   "outputs": [],
   "source": [
    "class Metric():\n",
    "    def __init__(self, name):\n",
    "        self.name = name\n",
    "    \n",
    "    def eval(self, outputs, labels):\n",
    "        pass"
   ]
  },
  {
   "cell_type": "code",
   "execution_count": 7,
   "id": "6ab563e9-aeac-45c8-a5da-e99f8cbc54ca",
   "metadata": {},
   "outputs": [],
   "source": [
    "class Accuracy(Metric):\n",
    "    \n",
    "    def eval(self, outputs, labels):\n",
    "        _, preds = torch.max(outputs, dim=1)\n",
    "        return torch.tensor(torch.sum(preds == labels).item() / len(preds))"
   ]
  },
  {
   "cell_type": "code",
   "execution_count": 8,
   "id": "1977248f-bcac-4d98-806b-013f3fa7e6f4",
   "metadata": {},
   "outputs": [],
   "source": [
    "class ImageClassificationBase(nn.Module):\n",
    "    \n",
    "    def __init__(self, loss_function, metrics):\n",
    "        super().__init__()\n",
    "        self.loss_function = loss_function\n",
    "        self.metrics = metrics\n",
    "    \n",
    "    def training_step(self, batch):\n",
    "        images, labels = batch \n",
    "        out = self(images)                  # Generate predictions\n",
    "        loss = self.loss_function(out, labels) # Calculate loss\n",
    "        return loss\n",
    "    \n",
    "    def validation_step(self, batch):\n",
    "        images, labels = batch \n",
    "        out = self(images)                    # Generate predictions\n",
    "        loss = self.loss_function(out, labels)   # Calculate loss\n",
    "        result = {'val_loss': loss.detach()}\n",
    "        \n",
    "        for m in self.metrics:\n",
    "            result[m.name] = m.eval(out, labels)           # Calculate metrics\n",
    "            \n",
    "        return result\n",
    "        \n",
    "    def validation_epoch_end(self, outputs):\n",
    "        batch_losses = [x['val_loss'] for x in outputs]\n",
    "        epoch_loss = torch.stack(batch_losses).mean()   # Combine losses\n",
    "        \n",
    "        result = {'val_loss': epoch_loss.item()}\n",
    "        \n",
    "        for m in self.metrics:\n",
    "            batch = [x[m.name] for x in outputs]\n",
    "            epoch = torch.stack(batch).mean()      # Combine metrics\n",
    "            result[m.name] = epoch.item()\n",
    "            \n",
    "        return result\n",
    "    \n",
    "    def epoch_end(self, epoch, result):\n",
    "        out = f\"Epoch [{epoch}]\"\n",
    "        vals = list(result.keys())\n",
    "        for v in vals:\n",
    "            out += f\", {v}: {result[v]:.3e}\"\n",
    "        print(out)\n",
    "        "
   ]
  },
  {
   "cell_type": "code",
   "execution_count": 9,
   "id": "125ec41f-92e5-4844-bc89-6eeb84c08eb6",
   "metadata": {},
   "outputs": [],
   "source": [
    "class Net(ImageClassificationBase):\n",
    "    \n",
    "    def __init__(self, loss_function, metrics, out_size):\n",
    "        super().__init__(loss_function, metrics)\n",
    "        self.conv1 = nn.Conv2d(in_channels=1, out_channels=32, kernel_size=3, stride=1)\n",
    "        self.pool1 = nn.MaxPool2d(kernel_size=3,stride=2, padding=1)\n",
    "        self.norm1 = nn.BatchNorm2d(32)\n",
    "        self.conv2 = nn.Conv2d(in_channels=32, out_channels=64, kernel_size=3, stride=1)\n",
    "        self.pool2 = nn.MaxPool2d(kernel_size=3,stride=2, padding=1)\n",
    "        self.norm2 = nn.BatchNorm2d(64)\n",
    "        self.conv3 = nn.Conv2d(in_channels=64, out_channels=128, kernel_size=3, stride=1)\n",
    "        self.pool3 = nn.MaxPool2d(kernel_size=3, stride=2, padding=1)\n",
    "        self.norm3 = nn.BatchNorm2d(128)\n",
    "        self.fc1 = nn.Linear(in_features=128*5*5, out_features=256)\n",
    "        #self.fc2 = nn.Linear(in_features=256, out_features=256)\n",
    "        self.fc = nn.Linear(256, out_size)\n",
    "\n",
    "    def forward(self, input):\n",
    "        output = self.norm1(self.pool1(F.relu(self.conv1(input))))\n",
    "        output = self.norm2(self.pool2(F.relu(self.conv2((output)))))\n",
    "        output = self.norm3(self.pool3(F.relu(self.conv3((output)))))\n",
    "        output = output.view(-1, 128*5*5)\n",
    "        output = F.relu(self.fc1(output))\n",
    "        #output = F.relu(self.fc2(output))\n",
    "        output = self.fc(output)\n",
    "        output = F.softmax(input = output, dim=-1)\n",
    "        return output"
   ]
  },
  {
   "cell_type": "code",
   "execution_count": 10,
   "id": "1bb92e60",
   "metadata": {},
   "outputs": [],
   "source": [
    "device = get_default_device()"
   ]
  },
  {
   "cell_type": "markdown",
   "id": "76ef2e5b",
   "metadata": {},
   "source": [
    "## Dataset loading"
   ]
  },
  {
   "cell_type": "code",
   "execution_count": 11,
   "id": "5f983610-8ba7-4afc-81b4-44c255c5257c",
   "metadata": {},
   "outputs": [],
   "source": [
    "df_train = ImageFolder(root=train_df_path, transform=transforms.Compose([transforms.Grayscale(num_output_channels=1),\n",
    "                                     transforms.ToTensor()]))\n",
    "df_test = ImageFolder(root=test_df_path, transform=transforms.Compose([transforms.Grayscale(num_output_channels=1),\n",
    "                                     transforms.ToTensor()]))"
   ]
  },
  {
   "cell_type": "code",
   "execution_count": 12,
   "id": "e8d4b406",
   "metadata": {},
   "outputs": [],
   "source": [
    "train_dl = DeviceDataLoader(DataLoader(df_train, batch_size=batch_size),device)\n",
    "test_dl = DeviceDataLoader(DataLoader(df_test, batch_size=batch_size, shuffle=False),device)"
   ]
  },
  {
   "cell_type": "code",
   "execution_count": 13,
   "id": "72f96e28-c09a-4c5f-836b-51ea2ae0ed52",
   "metadata": {},
   "outputs": [
    {
     "data": {
      "text/plain": [
       "['angry', 'disgust', 'fear', 'happy', 'neutral', 'sad', 'surprise']"
      ]
     },
     "execution_count": 13,
     "metadata": {},
     "output_type": "execute_result"
    }
   ],
   "source": [
    "classes = df_train.classes\n",
    "classes"
   ]
  },
  {
   "cell_type": "code",
   "execution_count": 14,
   "id": "48aa05f0",
   "metadata": {},
   "outputs": [
    {
     "name": "stdout",
     "output_type": "stream",
     "text": [
      "{0: 3715, 1: 1421, 2: 3320, 3: 7867, 4: 4963, 5: 4679, 6: 3376}\n",
      "tensor([0.3825, 1.0000, 0.4280, 0.1806, 0.2863, 0.3037, 0.4209])\n"
     ]
    }
   ],
   "source": [
    "counts = dict(Counter(df_train.targets))\n",
    "print(counts)\n",
    "weights = np.array(list(counts.values()))\n",
    "weights = torch.Tensor( min(weights)/weights)\n",
    "print(weights)"
   ]
  },
  {
   "cell_type": "markdown",
   "id": "793bf2de",
   "metadata": {},
   "source": [
    "## Model design and Training"
   ]
  },
  {
   "cell_type": "code",
   "execution_count": 15,
   "id": "62f2c2a4",
   "metadata": {},
   "outputs": [],
   "source": [
    "loss_function = nn.CrossEntropyLoss(weight = weights)\n",
    "metrics = []\n",
    "optimizer = optim.Adam\n",
    "scheduler = optim.lr_scheduler.ReduceLROnPlateau\n",
    "\n",
    "lr = 0.0001\n",
    "num_epochs = 20"
   ]
  },
  {
   "cell_type": "code",
   "execution_count": 16,
   "id": "94ef4dba-0260-4d4a-947b-52ecf388c783",
   "metadata": {},
   "outputs": [
    {
     "name": "stdout",
     "output_type": "stream",
     "text": [
      "------------fold no---------0----------------------\n"
     ]
    },
    {
     "data": {
      "application/vnd.jupyter.widget-view+json": {
       "model_id": "e9a54d80daf04f0cb296a2b05f011335",
       "version_major": 2,
       "version_minor": 0
      },
      "text/plain": [
       "Current Epoch:   0%|          | 0/20 [00:00<?, ?it/s]"
      ]
     },
     "metadata": {},
     "output_type": "display_data"
    },
    {
     "data": {
      "application/vnd.jupyter.widget-view+json": {
       "model_id": "03bc809dfaef4fb99047b6b08cdbbee0",
       "version_major": 2,
       "version_minor": 0
      },
      "text/plain": [
       "Epoch: 0:   0%|          | 0/344 [00:00<?, ?it/s]"
      ]
     },
     "metadata": {},
     "output_type": "display_data"
    },
    {
     "name": "stdout",
     "output_type": "stream",
     "text": [
      "Epoch [0], val_loss: 1.622e+00, train_loss: 1.718e+00, lrate: 1.000e-04\n"
     ]
    },
    {
     "data": {
      "application/vnd.jupyter.widget-view+json": {
       "model_id": "b181d6719819402fa0f9baf13c42578a",
       "version_major": 2,
       "version_minor": 0
      },
      "text/plain": [
       "Epoch: 1:   0%|          | 0/344 [00:00<?, ?it/s]"
      ]
     },
     "metadata": {},
     "output_type": "display_data"
    },
    {
     "name": "stdout",
     "output_type": "stream",
     "text": [
      "Epoch [1], val_loss: 1.560e+00, train_loss: 1.566e+00, lrate: 1.000e-04\n"
     ]
    },
    {
     "data": {
      "application/vnd.jupyter.widget-view+json": {
       "model_id": "1c1e8c6b14724de4ae0ad3f4d6629e5a",
       "version_major": 2,
       "version_minor": 0
      },
      "text/plain": [
       "Epoch: 2:   0%|          | 0/344 [00:00<?, ?it/s]"
      ]
     },
     "metadata": {},
     "output_type": "display_data"
    },
    {
     "name": "stdout",
     "output_type": "stream",
     "text": [
      "Epoch [2], val_loss: 1.539e+00, train_loss: 1.503e+00, lrate: 1.000e-04\n"
     ]
    },
    {
     "data": {
      "application/vnd.jupyter.widget-view+json": {
       "model_id": "bc85e00bdb34473dbc65d2419265ee6e",
       "version_major": 2,
       "version_minor": 0
      },
      "text/plain": [
       "Epoch: 3:   0%|          | 0/344 [00:00<?, ?it/s]"
      ]
     },
     "metadata": {},
     "output_type": "display_data"
    },
    {
     "name": "stdout",
     "output_type": "stream",
     "text": [
      "Epoch [3], val_loss: 1.514e+00, train_loss: 1.461e+00, lrate: 1.000e-04\n"
     ]
    },
    {
     "data": {
      "application/vnd.jupyter.widget-view+json": {
       "model_id": "5d276e4e263340c4978a3c35f61b7475",
       "version_major": 2,
       "version_minor": 0
      },
      "text/plain": [
       "Epoch: 4:   0%|          | 0/344 [00:00<?, ?it/s]"
      ]
     },
     "metadata": {},
     "output_type": "display_data"
    },
    {
     "name": "stdout",
     "output_type": "stream",
     "text": [
      "Epoch [4], val_loss: 1.505e+00, train_loss: 1.425e+00, lrate: 1.000e-04\n"
     ]
    },
    {
     "data": {
      "application/vnd.jupyter.widget-view+json": {
       "model_id": "71d701eafcd846909a23b2547b5798cc",
       "version_major": 2,
       "version_minor": 0
      },
      "text/plain": [
       "Epoch: 5:   0%|          | 0/344 [00:00<?, ?it/s]"
      ]
     },
     "metadata": {},
     "output_type": "display_data"
    },
    {
     "name": "stdout",
     "output_type": "stream",
     "text": [
      "Epoch [5], val_loss: 1.499e+00, train_loss: 1.396e+00, lrate: 1.000e-04\n"
     ]
    },
    {
     "data": {
      "application/vnd.jupyter.widget-view+json": {
       "model_id": "bd88cf91569a4f1b902cb59bd4f5b08c",
       "version_major": 2,
       "version_minor": 0
      },
      "text/plain": [
       "Epoch: 6:   0%|          | 0/344 [00:00<?, ?it/s]"
      ]
     },
     "metadata": {},
     "output_type": "display_data"
    },
    {
     "name": "stdout",
     "output_type": "stream",
     "text": [
      "Epoch [6], val_loss: 1.492e+00, train_loss: 1.370e+00, lrate: 1.000e-04\n"
     ]
    },
    {
     "data": {
      "application/vnd.jupyter.widget-view+json": {
       "model_id": "2098ab56e23b4fab8c9839d2b7c8da5a",
       "version_major": 2,
       "version_minor": 0
      },
      "text/plain": [
       "Epoch: 7:   0%|          | 0/344 [00:00<?, ?it/s]"
      ]
     },
     "metadata": {},
     "output_type": "display_data"
    },
    {
     "name": "stdout",
     "output_type": "stream",
     "text": [
      "Epoch [7], val_loss: 1.489e+00, train_loss: 1.348e+00, lrate: 1.000e-04\n"
     ]
    },
    {
     "data": {
      "application/vnd.jupyter.widget-view+json": {
       "model_id": "33134db1f3b94a0283af0b7607b393d5",
       "version_major": 2,
       "version_minor": 0
      },
      "text/plain": [
       "Epoch: 8:   0%|          | 0/344 [00:00<?, ?it/s]"
      ]
     },
     "metadata": {},
     "output_type": "display_data"
    },
    {
     "name": "stdout",
     "output_type": "stream",
     "text": [
      "Epoch [8], val_loss: 1.487e+00, train_loss: 1.330e+00, lrate: 1.000e-04\n"
     ]
    },
    {
     "data": {
      "application/vnd.jupyter.widget-view+json": {
       "model_id": "743f4c01f536461b987d9b76be76a422",
       "version_major": 2,
       "version_minor": 0
      },
      "text/plain": [
       "Epoch: 9:   0%|          | 0/344 [00:00<?, ?it/s]"
      ]
     },
     "metadata": {},
     "output_type": "display_data"
    },
    {
     "name": "stdout",
     "output_type": "stream",
     "text": [
      "Epoch [9], val_loss: 1.486e+00, train_loss: 1.312e+00, lrate: 1.000e-04\n"
     ]
    },
    {
     "data": {
      "application/vnd.jupyter.widget-view+json": {
       "model_id": "5fb36f10753b48cc962c7ecbeb687fd9",
       "version_major": 2,
       "version_minor": 0
      },
      "text/plain": [
       "Epoch: 10:   0%|          | 0/344 [00:00<?, ?it/s]"
      ]
     },
     "metadata": {},
     "output_type": "display_data"
    },
    {
     "name": "stdout",
     "output_type": "stream",
     "text": [
      "Epoch [10], val_loss: 1.481e+00, train_loss: 1.298e+00, lrate: 1.000e-04\n"
     ]
    },
    {
     "data": {
      "application/vnd.jupyter.widget-view+json": {
       "model_id": "0e64972f2cf4435497ff9bc8ef79cf18",
       "version_major": 2,
       "version_minor": 0
      },
      "text/plain": [
       "Epoch: 11:   0%|          | 0/344 [00:00<?, ?it/s]"
      ]
     },
     "metadata": {},
     "output_type": "display_data"
    },
    {
     "name": "stdout",
     "output_type": "stream",
     "text": [
      "Epoch [11], val_loss: 1.491e+00, train_loss: 1.287e+00, lrate: 1.000e-04\n"
     ]
    },
    {
     "data": {
      "application/vnd.jupyter.widget-view+json": {
       "model_id": "5e1ad39365714a109f669ae8f3257b42",
       "version_major": 2,
       "version_minor": 0
      },
      "text/plain": [
       "Epoch: 12:   0%|          | 0/344 [00:00<?, ?it/s]"
      ]
     },
     "metadata": {},
     "output_type": "display_data"
    },
    {
     "name": "stdout",
     "output_type": "stream",
     "text": [
      "Epoch [12], val_loss: 1.483e+00, train_loss: 1.274e+00, lrate: 1.000e-04\n"
     ]
    },
    {
     "data": {
      "application/vnd.jupyter.widget-view+json": {
       "model_id": "a419ce68dd6b4cc988c67eb933711aa2",
       "version_major": 2,
       "version_minor": 0
      },
      "text/plain": [
       "Epoch: 13:   0%|          | 0/344 [00:00<?, ?it/s]"
      ]
     },
     "metadata": {},
     "output_type": "display_data"
    },
    {
     "name": "stdout",
     "output_type": "stream",
     "text": [
      "Epoch [13], val_loss: 1.477e+00, train_loss: 1.267e+00, lrate: 1.000e-04\n"
     ]
    },
    {
     "data": {
      "application/vnd.jupyter.widget-view+json": {
       "model_id": "e804dbc0d847403b82fd1af4ec5a44b5",
       "version_major": 2,
       "version_minor": 0
      },
      "text/plain": [
       "Epoch: 14:   0%|          | 0/344 [00:00<?, ?it/s]"
      ]
     },
     "metadata": {},
     "output_type": "display_data"
    },
    {
     "name": "stdout",
     "output_type": "stream",
     "text": [
      "Epoch [14], val_loss: 1.478e+00, train_loss: 1.261e+00, lrate: 1.000e-04\n"
     ]
    },
    {
     "data": {
      "application/vnd.jupyter.widget-view+json": {
       "model_id": "9e97d33f187d4df9904bc153460ebf12",
       "version_major": 2,
       "version_minor": 0
      },
      "text/plain": [
       "Epoch: 15:   0%|          | 0/344 [00:00<?, ?it/s]"
      ]
     },
     "metadata": {},
     "output_type": "display_data"
    },
    {
     "name": "stdout",
     "output_type": "stream",
     "text": [
      "Epoch [15], val_loss: 1.480e+00, train_loss: 1.253e+00, lrate: 1.000e-04\n"
     ]
    },
    {
     "data": {
      "application/vnd.jupyter.widget-view+json": {
       "model_id": "eba8fa21997e4d52af686db4c2cee885",
       "version_major": 2,
       "version_minor": 0
      },
      "text/plain": [
       "Epoch: 16:   0%|          | 0/344 [00:00<?, ?it/s]"
      ]
     },
     "metadata": {},
     "output_type": "display_data"
    },
    {
     "name": "stdout",
     "output_type": "stream",
     "text": [
      "Epoch [16], val_loss: 1.477e+00, train_loss: 1.249e+00, lrate: 1.000e-04\n"
     ]
    },
    {
     "data": {
      "application/vnd.jupyter.widget-view+json": {
       "model_id": "e869d73d34f2417ab4b54478d75418b7",
       "version_major": 2,
       "version_minor": 0
      },
      "text/plain": [
       "Epoch: 17:   0%|          | 0/344 [00:00<?, ?it/s]"
      ]
     },
     "metadata": {},
     "output_type": "display_data"
    },
    {
     "name": "stdout",
     "output_type": "stream",
     "text": [
      "Epoch [17], val_loss: 1.482e+00, train_loss: 1.246e+00, lrate: 1.000e-04\n"
     ]
    },
    {
     "data": {
      "application/vnd.jupyter.widget-view+json": {
       "model_id": "a3f8a93509e14d9486e2d840188f04f6",
       "version_major": 2,
       "version_minor": 0
      },
      "text/plain": [
       "Epoch: 18:   0%|          | 0/344 [00:00<?, ?it/s]"
      ]
     },
     "metadata": {},
     "output_type": "display_data"
    },
    {
     "name": "stdout",
     "output_type": "stream",
     "text": [
      "Epoch [18], val_loss: 1.480e+00, train_loss: 1.240e+00, lrate: 1.000e-04\n"
     ]
    },
    {
     "data": {
      "application/vnd.jupyter.widget-view+json": {
       "model_id": "155403b08c36497abc9cb6062d2782b9",
       "version_major": 2,
       "version_minor": 0
      },
      "text/plain": [
       "Epoch: 19:   0%|          | 0/344 [00:00<?, ?it/s]"
      ]
     },
     "metadata": {},
     "output_type": "display_data"
    },
    {
     "name": "stdout",
     "output_type": "stream",
     "text": [
      "Epoch [19], val_loss: 1.477e+00, train_loss: 1.237e+00, lrate: 1.000e-04\n",
      "------------fold no---------1----------------------\n"
     ]
    },
    {
     "data": {
      "application/vnd.jupyter.widget-view+json": {
       "model_id": "1e1332472b274a2e8a1a908cdfac753f",
       "version_major": 2,
       "version_minor": 0
      },
      "text/plain": [
       "Current Epoch:   0%|          | 0/20 [00:00<?, ?it/s]"
      ]
     },
     "metadata": {},
     "output_type": "display_data"
    },
    {
     "data": {
      "application/vnd.jupyter.widget-view+json": {
       "model_id": "f9e96c93f5c64a31995974e539f434b9",
       "version_major": 2,
       "version_minor": 0
      },
      "text/plain": [
       "Epoch: 0:   0%|          | 0/344 [00:00<?, ?it/s]"
      ]
     },
     "metadata": {},
     "output_type": "display_data"
    },
    {
     "name": "stdout",
     "output_type": "stream",
     "text": [
      "Epoch [0], val_loss: 1.618e+00, train_loss: 1.735e+00, lrate: 1.000e-04\n"
     ]
    },
    {
     "data": {
      "application/vnd.jupyter.widget-view+json": {
       "model_id": "a197185487224a42ba11e744d02ef97c",
       "version_major": 2,
       "version_minor": 0
      },
      "text/plain": [
       "Epoch: 1:   0%|          | 0/344 [00:00<?, ?it/s]"
      ]
     },
     "metadata": {},
     "output_type": "display_data"
    },
    {
     "name": "stdout",
     "output_type": "stream",
     "text": [
      "Epoch [1], val_loss: 1.569e+00, train_loss: 1.574e+00, lrate: 1.000e-04\n"
     ]
    },
    {
     "data": {
      "application/vnd.jupyter.widget-view+json": {
       "model_id": "40713f60b7984d279bf08f73e0e5ecbb",
       "version_major": 2,
       "version_minor": 0
      },
      "text/plain": [
       "Epoch: 2:   0%|          | 0/344 [00:00<?, ?it/s]"
      ]
     },
     "metadata": {},
     "output_type": "display_data"
    },
    {
     "name": "stdout",
     "output_type": "stream",
     "text": [
      "Epoch [2], val_loss: 1.539e+00, train_loss: 1.512e+00, lrate: 1.000e-04\n"
     ]
    },
    {
     "data": {
      "application/vnd.jupyter.widget-view+json": {
       "model_id": "1c46de522fdf446e9d16ce7e606aa430",
       "version_major": 2,
       "version_minor": 0
      },
      "text/plain": [
       "Epoch: 3:   0%|          | 0/344 [00:00<?, ?it/s]"
      ]
     },
     "metadata": {},
     "output_type": "display_data"
    },
    {
     "name": "stdout",
     "output_type": "stream",
     "text": [
      "Epoch [3], val_loss: 1.522e+00, train_loss: 1.467e+00, lrate: 1.000e-04\n"
     ]
    },
    {
     "data": {
      "application/vnd.jupyter.widget-view+json": {
       "model_id": "d02194bd5e1648d599a292b4a77cda2a",
       "version_major": 2,
       "version_minor": 0
      },
      "text/plain": [
       "Epoch: 4:   0%|          | 0/344 [00:00<?, ?it/s]"
      ]
     },
     "metadata": {},
     "output_type": "display_data"
    },
    {
     "name": "stdout",
     "output_type": "stream",
     "text": [
      "Epoch [4], val_loss: 1.514e+00, train_loss: 1.431e+00, lrate: 1.000e-04\n"
     ]
    },
    {
     "data": {
      "application/vnd.jupyter.widget-view+json": {
       "model_id": "273a0f3fe4e7419da28325048d925c69",
       "version_major": 2,
       "version_minor": 0
      },
      "text/plain": [
       "Epoch: 5:   0%|          | 0/344 [00:00<?, ?it/s]"
      ]
     },
     "metadata": {},
     "output_type": "display_data"
    },
    {
     "name": "stdout",
     "output_type": "stream",
     "text": [
      "Epoch [5], val_loss: 1.505e+00, train_loss: 1.402e+00, lrate: 1.000e-04\n"
     ]
    },
    {
     "data": {
      "application/vnd.jupyter.widget-view+json": {
       "model_id": "40beb38942c3452cbd6d152af9ca2aec",
       "version_major": 2,
       "version_minor": 0
      },
      "text/plain": [
       "Epoch: 6:   0%|          | 0/344 [00:00<?, ?it/s]"
      ]
     },
     "metadata": {},
     "output_type": "display_data"
    },
    {
     "name": "stdout",
     "output_type": "stream",
     "text": [
      "Epoch [6], val_loss: 1.499e+00, train_loss: 1.377e+00, lrate: 1.000e-04\n"
     ]
    },
    {
     "data": {
      "application/vnd.jupyter.widget-view+json": {
       "model_id": "f1006d1f723f42f588751a217e126bde",
       "version_major": 2,
       "version_minor": 0
      },
      "text/plain": [
       "Epoch: 7:   0%|          | 0/344 [00:00<?, ?it/s]"
      ]
     },
     "metadata": {},
     "output_type": "display_data"
    },
    {
     "name": "stdout",
     "output_type": "stream",
     "text": [
      "Epoch [7], val_loss: 1.493e+00, train_loss: 1.353e+00, lrate: 1.000e-04\n"
     ]
    },
    {
     "data": {
      "application/vnd.jupyter.widget-view+json": {
       "model_id": "17b0c3a3298d4d7c8d5f138064b2b466",
       "version_major": 2,
       "version_minor": 0
      },
      "text/plain": [
       "Epoch: 8:   0%|          | 0/344 [00:00<?, ?it/s]"
      ]
     },
     "metadata": {},
     "output_type": "display_data"
    },
    {
     "name": "stdout",
     "output_type": "stream",
     "text": [
      "Epoch [8], val_loss: 1.496e+00, train_loss: 1.334e+00, lrate: 1.000e-04\n"
     ]
    },
    {
     "data": {
      "application/vnd.jupyter.widget-view+json": {
       "model_id": "7814c0a7f8db49c9b75b339652ff2c46",
       "version_major": 2,
       "version_minor": 0
      },
      "text/plain": [
       "Epoch: 9:   0%|          | 0/344 [00:00<?, ?it/s]"
      ]
     },
     "metadata": {},
     "output_type": "display_data"
    },
    {
     "name": "stdout",
     "output_type": "stream",
     "text": [
      "Epoch [9], val_loss: 1.490e+00, train_loss: 1.318e+00, lrate: 1.000e-04\n"
     ]
    },
    {
     "data": {
      "application/vnd.jupyter.widget-view+json": {
       "model_id": "05e0b548e9ac45ab87bdb7a4d442bf37",
       "version_major": 2,
       "version_minor": 0
      },
      "text/plain": [
       "Epoch: 10:   0%|          | 0/344 [00:00<?, ?it/s]"
      ]
     },
     "metadata": {},
     "output_type": "display_data"
    },
    {
     "name": "stdout",
     "output_type": "stream",
     "text": [
      "Epoch [10], val_loss: 1.484e+00, train_loss: 1.305e+00, lrate: 1.000e-04\n"
     ]
    },
    {
     "data": {
      "application/vnd.jupyter.widget-view+json": {
       "model_id": "552c0917bfb74397ab9f9578b05801f3",
       "version_major": 2,
       "version_minor": 0
      },
      "text/plain": [
       "Epoch: 11:   0%|          | 0/344 [00:00<?, ?it/s]"
      ]
     },
     "metadata": {},
     "output_type": "display_data"
    },
    {
     "name": "stdout",
     "output_type": "stream",
     "text": [
      "Epoch [11], val_loss: 1.485e+00, train_loss: 1.293e+00, lrate: 1.000e-04\n"
     ]
    },
    {
     "data": {
      "application/vnd.jupyter.widget-view+json": {
       "model_id": "a60200fb5e7a4ee79e2742ba49798459",
       "version_major": 2,
       "version_minor": 0
      },
      "text/plain": [
       "Epoch: 12:   0%|          | 0/344 [00:00<?, ?it/s]"
      ]
     },
     "metadata": {},
     "output_type": "display_data"
    },
    {
     "name": "stdout",
     "output_type": "stream",
     "text": [
      "Epoch [12], val_loss: 1.479e+00, train_loss: 1.282e+00, lrate: 1.000e-04\n"
     ]
    },
    {
     "data": {
      "application/vnd.jupyter.widget-view+json": {
       "model_id": "89d2ac8db9914d72b60231d44ccdadf1",
       "version_major": 2,
       "version_minor": 0
      },
      "text/plain": [
       "Epoch: 13:   0%|          | 0/344 [00:00<?, ?it/s]"
      ]
     },
     "metadata": {},
     "output_type": "display_data"
    },
    {
     "name": "stdout",
     "output_type": "stream",
     "text": [
      "Epoch [13], val_loss: 1.480e+00, train_loss: 1.275e+00, lrate: 1.000e-04\n"
     ]
    },
    {
     "data": {
      "application/vnd.jupyter.widget-view+json": {
       "model_id": "f5bc34535e174815bbf0cd069a27e922",
       "version_major": 2,
       "version_minor": 0
      },
      "text/plain": [
       "Epoch: 14:   0%|          | 0/344 [00:00<?, ?it/s]"
      ]
     },
     "metadata": {},
     "output_type": "display_data"
    },
    {
     "name": "stdout",
     "output_type": "stream",
     "text": [
      "Epoch [14], val_loss: 1.484e+00, train_loss: 1.267e+00, lrate: 1.000e-04\n"
     ]
    },
    {
     "data": {
      "application/vnd.jupyter.widget-view+json": {
       "model_id": "cd38989c983e4f3a8e796d3ed667e09f",
       "version_major": 2,
       "version_minor": 0
      },
      "text/plain": [
       "Epoch: 15:   0%|          | 0/344 [00:00<?, ?it/s]"
      ]
     },
     "metadata": {},
     "output_type": "display_data"
    },
    {
     "name": "stdout",
     "output_type": "stream",
     "text": [
      "Epoch [15], val_loss: 1.481e+00, train_loss: 1.261e+00, lrate: 1.000e-04\n"
     ]
    },
    {
     "data": {
      "application/vnd.jupyter.widget-view+json": {
       "model_id": "ebe83dbe235b4cefb2323f69b2cb2446",
       "version_major": 2,
       "version_minor": 0
      },
      "text/plain": [
       "Epoch: 16:   0%|          | 0/344 [00:00<?, ?it/s]"
      ]
     },
     "metadata": {},
     "output_type": "display_data"
    },
    {
     "name": "stdout",
     "output_type": "stream",
     "text": [
      "Epoch [16], val_loss: 1.481e+00, train_loss: 1.256e+00, lrate: 1.000e-05\n"
     ]
    },
    {
     "data": {
      "application/vnd.jupyter.widget-view+json": {
       "model_id": "845cf19594234ae3a7915b791adbd942",
       "version_major": 2,
       "version_minor": 0
      },
      "text/plain": [
       "Epoch: 17:   0%|          | 0/344 [00:00<?, ?it/s]"
      ]
     },
     "metadata": {},
     "output_type": "display_data"
    },
    {
     "name": "stdout",
     "output_type": "stream",
     "text": [
      "Epoch [17], val_loss: 1.476e+00, train_loss: 1.245e+00, lrate: 1.000e-05\n"
     ]
    },
    {
     "data": {
      "application/vnd.jupyter.widget-view+json": {
       "model_id": "47088cf02f51433eb6d18e3bc028efe5",
       "version_major": 2,
       "version_minor": 0
      },
      "text/plain": [
       "Epoch: 18:   0%|          | 0/344 [00:00<?, ?it/s]"
      ]
     },
     "metadata": {},
     "output_type": "display_data"
    },
    {
     "name": "stdout",
     "output_type": "stream",
     "text": [
      "Epoch [18], val_loss: 1.475e+00, train_loss: 1.241e+00, lrate: 1.000e-05\n"
     ]
    },
    {
     "data": {
      "application/vnd.jupyter.widget-view+json": {
       "model_id": "1bbaedecc8b34397b671feee791b3df0",
       "version_major": 2,
       "version_minor": 0
      },
      "text/plain": [
       "Epoch: 19:   0%|          | 0/344 [00:00<?, ?it/s]"
      ]
     },
     "metadata": {},
     "output_type": "display_data"
    },
    {
     "name": "stdout",
     "output_type": "stream",
     "text": [
      "Epoch [19], val_loss: 1.475e+00, train_loss: 1.240e+00, lrate: 1.000e-05\n",
      "------------fold no---------2----------------------\n"
     ]
    },
    {
     "data": {
      "application/vnd.jupyter.widget-view+json": {
       "model_id": "c9d816bbd98c409db1bdeefa0d7ccd0f",
       "version_major": 2,
       "version_minor": 0
      },
      "text/plain": [
       "Current Epoch:   0%|          | 0/20 [00:00<?, ?it/s]"
      ]
     },
     "metadata": {},
     "output_type": "display_data"
    },
    {
     "data": {
      "application/vnd.jupyter.widget-view+json": {
       "model_id": "2be08ab1473e45be9951f15303c1d8ba",
       "version_major": 2,
       "version_minor": 0
      },
      "text/plain": [
       "Epoch: 0:   0%|          | 0/344 [00:00<?, ?it/s]"
      ]
     },
     "metadata": {},
     "output_type": "display_data"
    },
    {
     "name": "stdout",
     "output_type": "stream",
     "text": [
      "Epoch [0], val_loss: 1.609e+00, train_loss: 1.701e+00, lrate: 1.000e-04\n"
     ]
    },
    {
     "data": {
      "application/vnd.jupyter.widget-view+json": {
       "model_id": "72248e00b86a47ff83728ede31648bf2",
       "version_major": 2,
       "version_minor": 0
      },
      "text/plain": [
       "Epoch: 1:   0%|          | 0/344 [00:00<?, ?it/s]"
      ]
     },
     "metadata": {},
     "output_type": "display_data"
    },
    {
     "name": "stdout",
     "output_type": "stream",
     "text": [
      "Epoch [1], val_loss: 1.555e+00, train_loss: 1.551e+00, lrate: 1.000e-04\n"
     ]
    },
    {
     "data": {
      "application/vnd.jupyter.widget-view+json": {
       "model_id": "e51dac38fc4d4a45affc6748fb47cbf6",
       "version_major": 2,
       "version_minor": 0
      },
      "text/plain": [
       "Epoch: 2:   0%|          | 0/344 [00:00<?, ?it/s]"
      ]
     },
     "metadata": {},
     "output_type": "display_data"
    },
    {
     "name": "stdout",
     "output_type": "stream",
     "text": [
      "Epoch [2], val_loss: 1.530e+00, train_loss: 1.491e+00, lrate: 1.000e-04\n"
     ]
    },
    {
     "data": {
      "application/vnd.jupyter.widget-view+json": {
       "model_id": "ef62f2e3558341e38cf9eca5e6931948",
       "version_major": 2,
       "version_minor": 0
      },
      "text/plain": [
       "Epoch: 3:   0%|          | 0/344 [00:00<?, ?it/s]"
      ]
     },
     "metadata": {},
     "output_type": "display_data"
    },
    {
     "name": "stdout",
     "output_type": "stream",
     "text": [
      "Epoch [3], val_loss: 1.515e+00, train_loss: 1.449e+00, lrate: 1.000e-04\n"
     ]
    },
    {
     "data": {
      "application/vnd.jupyter.widget-view+json": {
       "model_id": "0439403415ef4e929bd92baa9a52ead8",
       "version_major": 2,
       "version_minor": 0
      },
      "text/plain": [
       "Epoch: 4:   0%|          | 0/344 [00:00<?, ?it/s]"
      ]
     },
     "metadata": {},
     "output_type": "display_data"
    },
    {
     "name": "stdout",
     "output_type": "stream",
     "text": [
      "Epoch [4], val_loss: 1.504e+00, train_loss: 1.415e+00, lrate: 1.000e-04\n"
     ]
    },
    {
     "data": {
      "application/vnd.jupyter.widget-view+json": {
       "model_id": "6488ca0b6ede4b65b3a2d3b327b784f2",
       "version_major": 2,
       "version_minor": 0
      },
      "text/plain": [
       "Epoch: 5:   0%|          | 0/344 [00:00<?, ?it/s]"
      ]
     },
     "metadata": {},
     "output_type": "display_data"
    },
    {
     "name": "stdout",
     "output_type": "stream",
     "text": [
      "Epoch [5], val_loss: 1.498e+00, train_loss: 1.386e+00, lrate: 1.000e-04\n"
     ]
    },
    {
     "data": {
      "application/vnd.jupyter.widget-view+json": {
       "model_id": "263e000336b941448f64a3df2937a791",
       "version_major": 2,
       "version_minor": 0
      },
      "text/plain": [
       "Epoch: 6:   0%|          | 0/344 [00:00<?, ?it/s]"
      ]
     },
     "metadata": {},
     "output_type": "display_data"
    },
    {
     "name": "stdout",
     "output_type": "stream",
     "text": [
      "Epoch [6], val_loss: 1.494e+00, train_loss: 1.362e+00, lrate: 1.000e-04\n"
     ]
    },
    {
     "data": {
      "application/vnd.jupyter.widget-view+json": {
       "model_id": "17d938a2f0154d70bfe495be1cf18eec",
       "version_major": 2,
       "version_minor": 0
      },
      "text/plain": [
       "Epoch: 7:   0%|          | 0/344 [00:00<?, ?it/s]"
      ]
     },
     "metadata": {},
     "output_type": "display_data"
    },
    {
     "name": "stdout",
     "output_type": "stream",
     "text": [
      "Epoch [7], val_loss: 1.487e+00, train_loss: 1.340e+00, lrate: 1.000e-04\n"
     ]
    },
    {
     "data": {
      "application/vnd.jupyter.widget-view+json": {
       "model_id": "f83fe7a8c7a84bfcb63f3ef742c62e6a",
       "version_major": 2,
       "version_minor": 0
      },
      "text/plain": [
       "Epoch: 8:   0%|          | 0/344 [00:00<?, ?it/s]"
      ]
     },
     "metadata": {},
     "output_type": "display_data"
    },
    {
     "name": "stdout",
     "output_type": "stream",
     "text": [
      "Epoch [8], val_loss: 1.484e+00, train_loss: 1.322e+00, lrate: 1.000e-04\n"
     ]
    },
    {
     "data": {
      "application/vnd.jupyter.widget-view+json": {
       "model_id": "23e8e2afc4b942a8895cd937054279d9",
       "version_major": 2,
       "version_minor": 0
      },
      "text/plain": [
       "Epoch: 9:   0%|          | 0/344 [00:00<?, ?it/s]"
      ]
     },
     "metadata": {},
     "output_type": "display_data"
    },
    {
     "name": "stdout",
     "output_type": "stream",
     "text": [
      "Epoch [9], val_loss: 1.486e+00, train_loss: 1.305e+00, lrate: 1.000e-04\n"
     ]
    },
    {
     "data": {
      "application/vnd.jupyter.widget-view+json": {
       "model_id": "49238d2c38964c7182c789be984a4f6a",
       "version_major": 2,
       "version_minor": 0
      },
      "text/plain": [
       "Epoch: 10:   0%|          | 0/344 [00:00<?, ?it/s]"
      ]
     },
     "metadata": {},
     "output_type": "display_data"
    },
    {
     "name": "stdout",
     "output_type": "stream",
     "text": [
      "Epoch [10], val_loss: 1.485e+00, train_loss: 1.294e+00, lrate: 1.000e-04\n"
     ]
    },
    {
     "data": {
      "application/vnd.jupyter.widget-view+json": {
       "model_id": "9beaf7b46e2a47e587413030ec4b4810",
       "version_major": 2,
       "version_minor": 0
      },
      "text/plain": [
       "Epoch: 11:   0%|          | 0/344 [00:00<?, ?it/s]"
      ]
     },
     "metadata": {},
     "output_type": "display_data"
    },
    {
     "name": "stdout",
     "output_type": "stream",
     "text": [
      "Epoch [11], val_loss: 1.488e+00, train_loss: 1.280e+00, lrate: 1.000e-04\n"
     ]
    },
    {
     "data": {
      "application/vnd.jupyter.widget-view+json": {
       "model_id": "7580600ab3f448ed8df2fc0b31aa696b",
       "version_major": 2,
       "version_minor": 0
      },
      "text/plain": [
       "Epoch: 12:   0%|          | 0/344 [00:00<?, ?it/s]"
      ]
     },
     "metadata": {},
     "output_type": "display_data"
    },
    {
     "name": "stdout",
     "output_type": "stream",
     "text": [
      "Epoch [12], val_loss: 1.485e+00, train_loss: 1.271e+00, lrate: 1.000e-05\n"
     ]
    },
    {
     "data": {
      "application/vnd.jupyter.widget-view+json": {
       "model_id": "e2e6819589eb48a998444727b866719d",
       "version_major": 2,
       "version_minor": 0
      },
      "text/plain": [
       "Epoch: 13:   0%|          | 0/344 [00:00<?, ?it/s]"
      ]
     },
     "metadata": {},
     "output_type": "display_data"
    },
    {
     "name": "stdout",
     "output_type": "stream",
     "text": [
      "Epoch [13], val_loss: 1.478e+00, train_loss: 1.255e+00, lrate: 1.000e-05\n"
     ]
    },
    {
     "data": {
      "application/vnd.jupyter.widget-view+json": {
       "model_id": "9458a74f17af49f092810f47751d220b",
       "version_major": 2,
       "version_minor": 0
      },
      "text/plain": [
       "Epoch: 14:   0%|          | 0/344 [00:00<?, ?it/s]"
      ]
     },
     "metadata": {},
     "output_type": "display_data"
    },
    {
     "name": "stdout",
     "output_type": "stream",
     "text": [
      "Epoch [14], val_loss: 1.479e+00, train_loss: 1.252e+00, lrate: 1.000e-05\n"
     ]
    },
    {
     "data": {
      "application/vnd.jupyter.widget-view+json": {
       "model_id": "8198439dd1cb4c3ca9d3d5bcd3a38d9c",
       "version_major": 2,
       "version_minor": 0
      },
      "text/plain": [
       "Epoch: 15:   0%|          | 0/344 [00:00<?, ?it/s]"
      ]
     },
     "metadata": {},
     "output_type": "display_data"
    },
    {
     "name": "stdout",
     "output_type": "stream",
     "text": [
      "Epoch [15], val_loss: 1.479e+00, train_loss: 1.250e+00, lrate: 1.000e-05\n"
     ]
    },
    {
     "data": {
      "application/vnd.jupyter.widget-view+json": {
       "model_id": "04e581449eae48b28141f149e9892d05",
       "version_major": 2,
       "version_minor": 0
      },
      "text/plain": [
       "Epoch: 16:   0%|          | 0/344 [00:00<?, ?it/s]"
      ]
     },
     "metadata": {},
     "output_type": "display_data"
    },
    {
     "name": "stdout",
     "output_type": "stream",
     "text": [
      "Epoch [16], val_loss: 1.479e+00, train_loss: 1.249e+00, lrate: 1.000e-05\n"
     ]
    },
    {
     "data": {
      "application/vnd.jupyter.widget-view+json": {
       "model_id": "b772774f9c9b47ab9ea817f3246b5d2e",
       "version_major": 2,
       "version_minor": 0
      },
      "text/plain": [
       "Epoch: 17:   0%|          | 0/344 [00:00<?, ?it/s]"
      ]
     },
     "metadata": {},
     "output_type": "display_data"
    },
    {
     "name": "stdout",
     "output_type": "stream",
     "text": [
      "Epoch [17], val_loss: 1.479e+00, train_loss: 1.247e+00, lrate: 1.000e-06\n"
     ]
    },
    {
     "data": {
      "application/vnd.jupyter.widget-view+json": {
       "model_id": "ab4d0be766e8447a8819e318e5e89327",
       "version_major": 2,
       "version_minor": 0
      },
      "text/plain": [
       "Epoch: 18:   0%|          | 0/344 [00:00<?, ?it/s]"
      ]
     },
     "metadata": {},
     "output_type": "display_data"
    },
    {
     "name": "stdout",
     "output_type": "stream",
     "text": [
      "Epoch [18], val_loss: 1.479e+00, train_loss: 1.245e+00, lrate: 1.000e-06\n"
     ]
    },
    {
     "data": {
      "application/vnd.jupyter.widget-view+json": {
       "model_id": "351d7e41d7664020819d46f7d0a7d3b9",
       "version_major": 2,
       "version_minor": 0
      },
      "text/plain": [
       "Epoch: 19:   0%|          | 0/344 [00:00<?, ?it/s]"
      ]
     },
     "metadata": {},
     "output_type": "display_data"
    },
    {
     "name": "stdout",
     "output_type": "stream",
     "text": [
      "Epoch [19], val_loss: 1.479e+00, train_loss: 1.245e+00, lrate: 1.000e-06\n",
      "------------fold no---------3----------------------\n"
     ]
    },
    {
     "data": {
      "application/vnd.jupyter.widget-view+json": {
       "model_id": "9634c59a0a9841338f6e0b7bdc3f1b51",
       "version_major": 2,
       "version_minor": 0
      },
      "text/plain": [
       "Current Epoch:   0%|          | 0/20 [00:00<?, ?it/s]"
      ]
     },
     "metadata": {},
     "output_type": "display_data"
    },
    {
     "data": {
      "application/vnd.jupyter.widget-view+json": {
       "model_id": "28a6716f999545c6912d6bb86a7617f5",
       "version_major": 2,
       "version_minor": 0
      },
      "text/plain": [
       "Epoch: 0:   0%|          | 0/344 [00:00<?, ?it/s]"
      ]
     },
     "metadata": {},
     "output_type": "display_data"
    },
    {
     "name": "stdout",
     "output_type": "stream",
     "text": [
      "Epoch [0], val_loss: 1.621e+00, train_loss: 1.719e+00, lrate: 1.000e-04\n"
     ]
    },
    {
     "data": {
      "application/vnd.jupyter.widget-view+json": {
       "model_id": "c1b7244bfc354a11bed9a259520cc150",
       "version_major": 2,
       "version_minor": 0
      },
      "text/plain": [
       "Epoch: 1:   0%|          | 0/344 [00:00<?, ?it/s]"
      ]
     },
     "metadata": {},
     "output_type": "display_data"
    },
    {
     "name": "stdout",
     "output_type": "stream",
     "text": [
      "Epoch [1], val_loss: 1.562e+00, train_loss: 1.566e+00, lrate: 1.000e-04\n"
     ]
    },
    {
     "data": {
      "application/vnd.jupyter.widget-view+json": {
       "model_id": "7fd463b7acb844129379fdb937efcdcd",
       "version_major": 2,
       "version_minor": 0
      },
      "text/plain": [
       "Epoch: 2:   0%|          | 0/344 [00:00<?, ?it/s]"
      ]
     },
     "metadata": {},
     "output_type": "display_data"
    },
    {
     "name": "stdout",
     "output_type": "stream",
     "text": [
      "Epoch [2], val_loss: 1.535e+00, train_loss: 1.503e+00, lrate: 1.000e-04\n"
     ]
    },
    {
     "data": {
      "application/vnd.jupyter.widget-view+json": {
       "model_id": "13b96f853d404ffa8b654b5c69962091",
       "version_major": 2,
       "version_minor": 0
      },
      "text/plain": [
       "Epoch: 3:   0%|          | 0/344 [00:00<?, ?it/s]"
      ]
     },
     "metadata": {},
     "output_type": "display_data"
    },
    {
     "name": "stdout",
     "output_type": "stream",
     "text": [
      "Epoch [3], val_loss: 1.518e+00, train_loss: 1.460e+00, lrate: 1.000e-04\n"
     ]
    },
    {
     "data": {
      "application/vnd.jupyter.widget-view+json": {
       "model_id": "eaa85a4dbcc74f278a6a497384c9b35a",
       "version_major": 2,
       "version_minor": 0
      },
      "text/plain": [
       "Epoch: 4:   0%|          | 0/344 [00:00<?, ?it/s]"
      ]
     },
     "metadata": {},
     "output_type": "display_data"
    },
    {
     "name": "stdout",
     "output_type": "stream",
     "text": [
      "Epoch [4], val_loss: 1.509e+00, train_loss: 1.425e+00, lrate: 1.000e-04\n"
     ]
    },
    {
     "data": {
      "application/vnd.jupyter.widget-view+json": {
       "model_id": "354f0c4bc5c843ca9f03d3cc59251bf4",
       "version_major": 2,
       "version_minor": 0
      },
      "text/plain": [
       "Epoch: 5:   0%|          | 0/344 [00:00<?, ?it/s]"
      ]
     },
     "metadata": {},
     "output_type": "display_data"
    },
    {
     "name": "stdout",
     "output_type": "stream",
     "text": [
      "Epoch [5], val_loss: 1.497e+00, train_loss: 1.397e+00, lrate: 1.000e-04\n"
     ]
    },
    {
     "data": {
      "application/vnd.jupyter.widget-view+json": {
       "model_id": "3c98f2d1d56448eb8a15561a412396c4",
       "version_major": 2,
       "version_minor": 0
      },
      "text/plain": [
       "Epoch: 6:   0%|          | 0/344 [00:00<?, ?it/s]"
      ]
     },
     "metadata": {},
     "output_type": "display_data"
    },
    {
     "name": "stdout",
     "output_type": "stream",
     "text": [
      "Epoch [6], val_loss: 1.503e+00, train_loss: 1.371e+00, lrate: 1.000e-04\n"
     ]
    },
    {
     "data": {
      "application/vnd.jupyter.widget-view+json": {
       "model_id": "b97ccbe2f5db42419a632c7a80ac75ff",
       "version_major": 2,
       "version_minor": 0
      },
      "text/plain": [
       "Epoch: 7:   0%|          | 0/344 [00:00<?, ?it/s]"
      ]
     },
     "metadata": {},
     "output_type": "display_data"
    },
    {
     "name": "stdout",
     "output_type": "stream",
     "text": [
      "Epoch [7], val_loss: 1.502e+00, train_loss: 1.349e+00, lrate: 1.000e-04\n"
     ]
    },
    {
     "data": {
      "application/vnd.jupyter.widget-view+json": {
       "model_id": "a3313c96c5e2496895c9480426c22b0e",
       "version_major": 2,
       "version_minor": 0
      },
      "text/plain": [
       "Epoch: 8:   0%|          | 0/344 [00:00<?, ?it/s]"
      ]
     },
     "metadata": {},
     "output_type": "display_data"
    },
    {
     "name": "stdout",
     "output_type": "stream",
     "text": [
      "Epoch [8], val_loss: 1.486e+00, train_loss: 1.331e+00, lrate: 1.000e-04\n"
     ]
    },
    {
     "data": {
      "application/vnd.jupyter.widget-view+json": {
       "model_id": "361c6592c02b4c1a92a6953874073645",
       "version_major": 2,
       "version_minor": 0
      },
      "text/plain": [
       "Epoch: 9:   0%|          | 0/344 [00:00<?, ?it/s]"
      ]
     },
     "metadata": {},
     "output_type": "display_data"
    },
    {
     "name": "stdout",
     "output_type": "stream",
     "text": [
      "Epoch [9], val_loss: 1.488e+00, train_loss: 1.313e+00, lrate: 1.000e-04\n"
     ]
    },
    {
     "data": {
      "application/vnd.jupyter.widget-view+json": {
       "model_id": "0f581a2f69804a33a17a696d6f081e35",
       "version_major": 2,
       "version_minor": 0
      },
      "text/plain": [
       "Epoch: 10:   0%|          | 0/344 [00:00<?, ?it/s]"
      ]
     },
     "metadata": {},
     "output_type": "display_data"
    },
    {
     "name": "stdout",
     "output_type": "stream",
     "text": [
      "Epoch [10], val_loss: 1.484e+00, train_loss: 1.298e+00, lrate: 1.000e-04\n"
     ]
    },
    {
     "data": {
      "application/vnd.jupyter.widget-view+json": {
       "model_id": "bb170b318e79475989cee8287ab6eaea",
       "version_major": 2,
       "version_minor": 0
      },
      "text/plain": [
       "Epoch: 11:   0%|          | 0/344 [00:00<?, ?it/s]"
      ]
     },
     "metadata": {},
     "output_type": "display_data"
    },
    {
     "name": "stdout",
     "output_type": "stream",
     "text": [
      "Epoch [11], val_loss: 1.480e+00, train_loss: 1.288e+00, lrate: 1.000e-04\n"
     ]
    },
    {
     "data": {
      "application/vnd.jupyter.widget-view+json": {
       "model_id": "4adf88f8a5504fa2889a1e71deb156ad",
       "version_major": 2,
       "version_minor": 0
      },
      "text/plain": [
       "Epoch: 12:   0%|          | 0/344 [00:00<?, ?it/s]"
      ]
     },
     "metadata": {},
     "output_type": "display_data"
    },
    {
     "name": "stdout",
     "output_type": "stream",
     "text": [
      "Epoch [12], val_loss: 1.485e+00, train_loss: 1.277e+00, lrate: 1.000e-04\n"
     ]
    },
    {
     "data": {
      "application/vnd.jupyter.widget-view+json": {
       "model_id": "f4c41d2a4c114634a7cbc1beb411092a",
       "version_major": 2,
       "version_minor": 0
      },
      "text/plain": [
       "Epoch: 13:   0%|          | 0/344 [00:00<?, ?it/s]"
      ]
     },
     "metadata": {},
     "output_type": "display_data"
    },
    {
     "name": "stdout",
     "output_type": "stream",
     "text": [
      "Epoch [13], val_loss: 1.480e+00, train_loss: 1.269e+00, lrate: 1.000e-04\n"
     ]
    },
    {
     "data": {
      "application/vnd.jupyter.widget-view+json": {
       "model_id": "e0439b297ec14f0c84e7e173fbc402da",
       "version_major": 2,
       "version_minor": 0
      },
      "text/plain": [
       "Epoch: 14:   0%|          | 0/344 [00:00<?, ?it/s]"
      ]
     },
     "metadata": {},
     "output_type": "display_data"
    },
    {
     "name": "stdout",
     "output_type": "stream",
     "text": [
      "Epoch [14], val_loss: 1.481e+00, train_loss: 1.261e+00, lrate: 1.000e-04\n"
     ]
    },
    {
     "data": {
      "application/vnd.jupyter.widget-view+json": {
       "model_id": "b6db7164aed4490db1c39804d0d367a8",
       "version_major": 2,
       "version_minor": 0
      },
      "text/plain": [
       "Epoch: 15:   0%|          | 0/344 [00:00<?, ?it/s]"
      ]
     },
     "metadata": {},
     "output_type": "display_data"
    },
    {
     "name": "stdout",
     "output_type": "stream",
     "text": [
      "Epoch [15], val_loss: 1.476e+00, train_loss: 1.255e+00, lrate: 1.000e-04\n"
     ]
    },
    {
     "data": {
      "application/vnd.jupyter.widget-view+json": {
       "model_id": "d2fdb17ac81e41f3b108efdf46b2c031",
       "version_major": 2,
       "version_minor": 0
      },
      "text/plain": [
       "Epoch: 16:   0%|          | 0/344 [00:00<?, ?it/s]"
      ]
     },
     "metadata": {},
     "output_type": "display_data"
    },
    {
     "name": "stdout",
     "output_type": "stream",
     "text": [
      "Epoch [16], val_loss: 1.479e+00, train_loss: 1.249e+00, lrate: 1.000e-04\n"
     ]
    },
    {
     "data": {
      "application/vnd.jupyter.widget-view+json": {
       "model_id": "8332f6fbf84b4db9a707c505e233b918",
       "version_major": 2,
       "version_minor": 0
      },
      "text/plain": [
       "Epoch: 17:   0%|          | 0/344 [00:00<?, ?it/s]"
      ]
     },
     "metadata": {},
     "output_type": "display_data"
    },
    {
     "name": "stdout",
     "output_type": "stream",
     "text": [
      "Epoch [17], val_loss: 1.475e+00, train_loss: 1.244e+00, lrate: 1.000e-04\n"
     ]
    },
    {
     "data": {
      "application/vnd.jupyter.widget-view+json": {
       "model_id": "c9e94c077f4e4ed49ca27230e4f490bc",
       "version_major": 2,
       "version_minor": 0
      },
      "text/plain": [
       "Epoch: 18:   0%|          | 0/344 [00:00<?, ?it/s]"
      ]
     },
     "metadata": {},
     "output_type": "display_data"
    },
    {
     "name": "stdout",
     "output_type": "stream",
     "text": [
      "Epoch [18], val_loss: 1.478e+00, train_loss: 1.241e+00, lrate: 1.000e-04\n"
     ]
    },
    {
     "data": {
      "application/vnd.jupyter.widget-view+json": {
       "model_id": "ccf5ca8513c344998ecde9d939cf72f4",
       "version_major": 2,
       "version_minor": 0
      },
      "text/plain": [
       "Epoch: 19:   0%|          | 0/344 [00:00<?, ?it/s]"
      ]
     },
     "metadata": {},
     "output_type": "display_data"
    },
    {
     "name": "stdout",
     "output_type": "stream",
     "text": [
      "Epoch [19], val_loss: 1.481e+00, train_loss: 1.238e+00, lrate: 1.000e-04\n",
      "----------------------------------------------------------------\n",
      "        Layer (type)               Output Shape         Param #\n",
      "================================================================\n",
      "            Conv2d-1           [-1, 32, 46, 46]             320\n",
      "         MaxPool2d-2           [-1, 32, 23, 23]               0\n",
      "       BatchNorm2d-3           [-1, 32, 23, 23]              64\n",
      "            Conv2d-4           [-1, 64, 21, 21]          18,496\n",
      "         MaxPool2d-5           [-1, 64, 11, 11]               0\n",
      "       BatchNorm2d-6           [-1, 64, 11, 11]             128\n",
      "            Conv2d-7            [-1, 128, 9, 9]          73,856\n",
      "         MaxPool2d-8            [-1, 128, 5, 5]               0\n",
      "       BatchNorm2d-9            [-1, 128, 5, 5]             256\n",
      "           Linear-10                  [-1, 256]         819,456\n",
      "           Linear-11                    [-1, 7]           1,799\n",
      "================================================================\n",
      "Total params: 914,375\n",
      "Trainable params: 914,375\n",
      "Non-trainable params: 0\n",
      "----------------------------------------------------------------\n",
      "Input size (MB): 0.01\n",
      "Forward/backward pass size (MB): 1.24\n",
      "Params size (MB): 3.49\n",
      "Estimated Total Size (MB): 4.74\n",
      "----------------------------------------------------------------\n"
     ]
    }
   ],
   "source": [
    "splits = 4\n",
    "skf = StratifiedKFold(n_splits=splits, random_state=seed, shuffle=True)\n",
    "histories = []\n",
    "\n",
    "for fold,(train_idx,val_idx) in enumerate(skf.split(df_train,train_dl.dl.dataset.targets)):\n",
    "    print('------------fold no---------{}----------------------'.format(fold))\n",
    "    \n",
    "    net = Net(loss_function, metrics, len(classes))\n",
    "    net.to(device)\n",
    "    \n",
    "    train_subsampler = torch.utils.data.SubsetRandomSampler(train_idx)\n",
    "    val_subsampler = torch.utils.data.SubsetRandomSampler(val_idx)\n",
    "\n",
    "    train_fold_dl = DeviceDataLoader(DataLoader(df_train, batch_size=batch_size,  sampler=train_subsampler),device)\n",
    "    val_fold_dl = DeviceDataLoader(DataLoader(df_train, batch_size=batch_size,  sampler=val_subsampler),device)\n",
    "    #print(np.unique(np.array(train_fold_dl.dl.dataset.targets)[train_subsampler.indices],return_counts=True))\n",
    "    #print(np.unique(np.array(train_fold_dl.dl.dataset.targets)[test_subsampler.indices],return_counts=True))\n",
    "    #print(train_dl[train_subsampler.indices])\n",
    "    history = dict()\n",
    "    history[\"losses\"] = fit(num_epochs, lr, net, train_fold_dl, val_fold_dl, optimizer, scheduler)\n",
    "    history[\"model\"] = net\n",
    "    histories.append(history)\n",
    "\n",
    "summary(net,(1,48,48))"
   ]
  },
  {
   "cell_type": "markdown",
   "id": "bb2ca953",
   "metadata": {},
   "source": [
    "## Save/Load model"
   ]
  },
  {
   "cell_type": "code",
   "execution_count": 17,
   "id": "5f771f74",
   "metadata": {},
   "outputs": [],
   "source": [
    "if not os.path.isdir(models_directory):\n",
    "    os.makedirs(name = models_directory)\n",
    "models_directory_data = os.path.join(models_directory,dataset_name)\n",
    "if not os.path.isdir(models_directory_data):\n",
    "    os.makedirs(name = models_directory_data)"
   ]
  },
  {
   "cell_type": "code",
   "execution_count": 18,
   "id": "5f28e342",
   "metadata": {},
   "outputs": [],
   "source": [
    "if save_model:\n",
    "    for fold,h in enumerate(histories):\n",
    "        model_path = os.path.join(models_directory_data,f\"classifier_fold_{fold}.pt\")\n",
    "        torch.save(h[\"model\"].state_dict(), model_path)"
   ]
  },
  {
   "cell_type": "code",
   "execution_count": 19,
   "id": "e9cc002d",
   "metadata": {},
   "outputs": [],
   "source": [
    "if load_model:\n",
    "    histories = []\n",
    "\n",
    "    for fold, model in enumerate(os.listdir(models_directory_data)):\n",
    "        net = Net(loss_function, metrics, len(classes))\n",
    "        net.load_state_dict(torch.load(os.path.join(models_directory_data,model)))\n",
    "        net.eval()\n",
    "        net.cuda()\n",
    "        histories.append( {\"model\": net } )"
   ]
  },
  {
   "cell_type": "markdown",
   "id": "236fc3f4",
   "metadata": {},
   "source": [
    "## Model testing"
   ]
  },
  {
   "cell_type": "code",
   "execution_count": 20,
   "id": "1403cef9-c12a-4e66-9565-7f8b7eaf2f38",
   "metadata": {},
   "outputs": [],
   "source": [
    "def get_model_predicitons(model, dataset):\n",
    "    y_test = []\n",
    "    y_scores = []\n",
    "\n",
    "    # since we're not training, we don't need to calculate the gradients for our outputs\n",
    "    with torch.no_grad():\n",
    "        for data in tqdm(dataset):\n",
    "            images, labels = data[0].to(device), data[1].to(device)\n",
    "            # calculate outputs by running images through the network\n",
    "            outputs = model(images)\n",
    "\n",
    "            # the class with the highest energy is what we choose as prediction\n",
    "            _, predicted = torch.max(outputs.data, 1)\n",
    "\n",
    "            y_test.extend(labels.tolist())\n",
    "            y_scores.extend(outputs.tolist())\n",
    "\n",
    "    y_test = np.array(y_test)\n",
    "    y_scores = np.array(y_scores)\n",
    "\n",
    "    return y_test, y_scores\n"
   ]
  },
  {
   "cell_type": "markdown",
   "id": "fdc366c3",
   "metadata": {},
   "source": [
    "### Network Accuracy"
   ]
  },
  {
   "cell_type": "code",
   "execution_count": 21,
   "id": "158b7789-29fe-43c3-9821-11cb5215fb60",
   "metadata": {},
   "outputs": [],
   "source": [
    "def evaluate_accuracy(y_test, y_scores, classes, verbose=False):\n",
    "    # Overall accuracy\n",
    "\n",
    "    n_test = y_test.shape[0]\n",
    "    predicted = np.argmax(y_scores,axis=1)\n",
    "    mean_acc = np.sum(predicted == y_test) / n_test\n",
    "    class_acc = []\n",
    "    \n",
    "    # Accuracy per class\n",
    "\n",
    "    correct_pred = {classname: 0 for classname in classes}\n",
    "    total_pred = {classname: 0 for classname in classes}\n",
    "\n",
    "    # collect the correct predictions for each class\n",
    "    for label, prediction in zip(y_test, predicted):\n",
    "        if label == prediction:\n",
    "            correct_pred[classes[label]] += 1\n",
    "        total_pred[classes[label]] += 1\n",
    "\n",
    "    for classname, correct_count in correct_pred.items():\n",
    "        accuracy = float(correct_count) / total_pred[classname]\n",
    "        class_acc.append(accuracy)\n",
    "\n",
    "    if verbose:\n",
    "        print(f'Overall accuracy: {100 * mean_acc } %')\n",
    "\n",
    "        print(\"Accuracy per class:\")\n",
    "        for i,c in enumerate(classes):\n",
    "            print(f'{c:9s} : {class_acc[i] * 100:.1f} %')\n",
    "        \n",
    "    return mean_acc, class_acc"
   ]
  },
  {
   "cell_type": "markdown",
   "id": "7478b8a1",
   "metadata": {},
   "source": [
    "# ROC/AUC"
   ]
  },
  {
   "cell_type": "code",
   "execution_count": 22,
   "id": "a8017ba3",
   "metadata": {},
   "outputs": [],
   "source": [
    "\n",
    "def evaluate_roc_auc(y_test, y_scores, classes, plot=False, verbose=False):\n",
    "    # Compute ROC curve and ROC area for each class\n",
    "    fpr = dict()\n",
    "    tpr = dict()\n",
    "    ths = dict()\n",
    "    roc_auc = dict()\n",
    "    for i,_ in enumerate(classes):\n",
    "        fpr[i], tpr[i], ths[i] = roc_curve(y_test == i, y_scores[:,i])\n",
    "        roc_auc[i] = auc(fpr[i], tpr[i])\n",
    "\n",
    "    if plot:\n",
    "        # Plot of a ROC curve for a specific class\n",
    "        for i,c in enumerate(classes):\n",
    "            plt.figure()\n",
    "            plt.plot(fpr[i], tpr[i], label='ROC curve (area = %0.2f)' % roc_auc[i])\n",
    "            plt.plot([0, 1], [0, 1], 'k--')\n",
    "            plt.xlim([0.0, 1.0])\n",
    "            plt.ylim([0.0, 1.05])\n",
    "            plt.xlabel('False Positive Rate')\n",
    "            plt.ylabel('True Positive Rate')\n",
    "            plt.title(f'ROC {c}')\n",
    "            plt.legend(loc=\"lower right\")\n",
    "            plt.show()\n",
    "\n",
    "    mean_auc = np.mean(list(roc_auc.values()))\n",
    "\n",
    "    if verbose:\n",
    "        print(f\"Mean AUC: { mean_auc * 100} %\")\n",
    "\n",
    "        print(\"Per classs AUC:\")\n",
    "        for i,c in enumerate(classes):\n",
    "            print(f'{c:9s} : {roc_auc[i]*100:.2f} %')\n",
    "\n",
    "    return mean_auc, roc_auc"
   ]
  },
  {
   "cell_type": "code",
   "execution_count": 23,
   "id": "686e4867",
   "metadata": {},
   "outputs": [
    {
     "data": {
      "application/vnd.jupyter.widget-view+json": {
       "model_id": "76877974754a4102b8011a6f5d1a9279",
       "version_major": 2,
       "version_minor": 0
      },
      "text/plain": [
       "  0%|          | 0/11 [00:00<?, ?it/s]"
      ]
     },
     "metadata": {},
     "output_type": "display_data"
    },
    {
     "data": {
      "application/vnd.jupyter.widget-view+json": {
       "model_id": "1cd2c0332d5747a3a9f85fdc7a89a18d",
       "version_major": 2,
       "version_minor": 0
      },
      "text/plain": [
       "  0%|          | 0/11 [00:00<?, ?it/s]"
      ]
     },
     "metadata": {},
     "output_type": "display_data"
    },
    {
     "data": {
      "application/vnd.jupyter.widget-view+json": {
       "model_id": "5330746c9bd94c79ab6a9a84207ecdb4",
       "version_major": 2,
       "version_minor": 0
      },
      "text/plain": [
       "  0%|          | 0/11 [00:00<?, ?it/s]"
      ]
     },
     "metadata": {},
     "output_type": "display_data"
    },
    {
     "data": {
      "application/vnd.jupyter.widget-view+json": {
       "model_id": "6f7c25bf609a4451bdd56d9ea670e047",
       "version_major": 2,
       "version_minor": 0
      },
      "text/plain": [
       "  0%|          | 0/11 [00:00<?, ?it/s]"
      ]
     },
     "metadata": {},
     "output_type": "display_data"
    }
   ],
   "source": [
    "y_test = dict()\n",
    "y_scores = dict()\n",
    "\n",
    "for fold,h in enumerate(histories):\n",
    "    y_test[fold], y_scores[fold] = get_model_predicitons(h[\"model\"],test_dl)"
   ]
  },
  {
   "cell_type": "code",
   "execution_count": 24,
   "id": "aa2f66f9",
   "metadata": {},
   "outputs": [
    {
     "data": {
      "text/html": [
       "<div>\n",
       "<style scoped>\n",
       "    .dataframe tbody tr th:only-of-type {\n",
       "        vertical-align: middle;\n",
       "    }\n",
       "\n",
       "    .dataframe tbody tr th {\n",
       "        vertical-align: top;\n",
       "    }\n",
       "\n",
       "    .dataframe thead th {\n",
       "        text-align: right;\n",
       "    }\n",
       "</style>\n",
       "<table border=\"1\" class=\"dataframe\">\n",
       "  <thead>\n",
       "    <tr style=\"text-align: right;\">\n",
       "      <th></th>\n",
       "      <th>mean AUC</th>\n",
       "      <th>angry AUC</th>\n",
       "      <th>disgust AUC</th>\n",
       "      <th>fear AUC</th>\n",
       "      <th>happy AUC</th>\n",
       "      <th>neautral AUC</th>\n",
       "      <th>sad AUC</th>\n",
       "      <th>surprise AUC</th>\n",
       "      <th>mean ACC</th>\n",
       "      <th>angry ACC</th>\n",
       "      <th>disgust ACC</th>\n",
       "      <th>fear ACC</th>\n",
       "      <th>happy ACC</th>\n",
       "      <th>neautral ACC</th>\n",
       "      <th>sad ACC</th>\n",
       "      <th>surprise ACC</th>\n",
       "    </tr>\n",
       "  </thead>\n",
       "  <tbody>\n",
       "    <tr>\n",
       "      <th>Fer2013_filtered_uniform_aug_big fold 0</th>\n",
       "      <td>0.909771</td>\n",
       "      <td>0.877283</td>\n",
       "      <td>0.919217</td>\n",
       "      <td>0.871600</td>\n",
       "      <td>0.959083</td>\n",
       "      <td>0.925900</td>\n",
       "      <td>0.840900</td>\n",
       "      <td>0.974417</td>\n",
       "      <td>0.634286</td>\n",
       "      <td>0.6400</td>\n",
       "      <td>0.5700</td>\n",
       "      <td>0.5000</td>\n",
       "      <td>0.7700</td>\n",
       "      <td>0.680</td>\n",
       "      <td>0.5100</td>\n",
       "      <td>0.770</td>\n",
       "    </tr>\n",
       "    <tr>\n",
       "      <th>Fer2013_filtered_uniform_aug_big fold 1</th>\n",
       "      <td>0.898987</td>\n",
       "      <td>0.857833</td>\n",
       "      <td>0.903583</td>\n",
       "      <td>0.843567</td>\n",
       "      <td>0.962025</td>\n",
       "      <td>0.912217</td>\n",
       "      <td>0.855467</td>\n",
       "      <td>0.958217</td>\n",
       "      <td>0.612857</td>\n",
       "      <td>0.5500</td>\n",
       "      <td>0.4200</td>\n",
       "      <td>0.5000</td>\n",
       "      <td>0.7600</td>\n",
       "      <td>0.670</td>\n",
       "      <td>0.6100</td>\n",
       "      <td>0.780</td>\n",
       "    </tr>\n",
       "    <tr>\n",
       "      <th>Fer2013_filtered_uniform_aug_big fold 2</th>\n",
       "      <td>0.902919</td>\n",
       "      <td>0.883217</td>\n",
       "      <td>0.936250</td>\n",
       "      <td>0.826383</td>\n",
       "      <td>0.954617</td>\n",
       "      <td>0.905567</td>\n",
       "      <td>0.842400</td>\n",
       "      <td>0.972000</td>\n",
       "      <td>0.594286</td>\n",
       "      <td>0.5300</td>\n",
       "      <td>0.4300</td>\n",
       "      <td>0.3900</td>\n",
       "      <td>0.8400</td>\n",
       "      <td>0.630</td>\n",
       "      <td>0.5700</td>\n",
       "      <td>0.770</td>\n",
       "    </tr>\n",
       "    <tr>\n",
       "      <th>Fer2013_filtered_uniform_aug_big fold 3</th>\n",
       "      <td>0.904810</td>\n",
       "      <td>0.870292</td>\n",
       "      <td>0.927233</td>\n",
       "      <td>0.831200</td>\n",
       "      <td>0.953833</td>\n",
       "      <td>0.918333</td>\n",
       "      <td>0.854867</td>\n",
       "      <td>0.977908</td>\n",
       "      <td>0.637143</td>\n",
       "      <td>0.5100</td>\n",
       "      <td>0.6100</td>\n",
       "      <td>0.4600</td>\n",
       "      <td>0.7800</td>\n",
       "      <td>0.680</td>\n",
       "      <td>0.6000</td>\n",
       "      <td>0.820</td>\n",
       "    </tr>\n",
       "    <tr>\n",
       "      <th>Fer2013_filtered_uniform_aug_big mean</th>\n",
       "      <td>0.904122</td>\n",
       "      <td>0.872156</td>\n",
       "      <td>0.921571</td>\n",
       "      <td>0.843187</td>\n",
       "      <td>0.957390</td>\n",
       "      <td>0.915504</td>\n",
       "      <td>0.848408</td>\n",
       "      <td>0.970635</td>\n",
       "      <td>0.619643</td>\n",
       "      <td>0.5575</td>\n",
       "      <td>0.5075</td>\n",
       "      <td>0.4625</td>\n",
       "      <td>0.7875</td>\n",
       "      <td>0.665</td>\n",
       "      <td>0.5725</td>\n",
       "      <td>0.785</td>\n",
       "    </tr>\n",
       "  </tbody>\n",
       "</table>\n",
       "</div>"
      ],
      "text/plain": [
       "                                         mean AUC  angry AUC  disgust AUC  \\\n",
       "Fer2013_filtered_uniform_aug_big fold 0  0.909771   0.877283     0.919217   \n",
       "Fer2013_filtered_uniform_aug_big fold 1  0.898987   0.857833     0.903583   \n",
       "Fer2013_filtered_uniform_aug_big fold 2  0.902919   0.883217     0.936250   \n",
       "Fer2013_filtered_uniform_aug_big fold 3  0.904810   0.870292     0.927233   \n",
       "Fer2013_filtered_uniform_aug_big mean    0.904122   0.872156     0.921571   \n",
       "\n",
       "                                         fear AUC  happy AUC  neautral AUC  \\\n",
       "Fer2013_filtered_uniform_aug_big fold 0  0.871600   0.959083      0.925900   \n",
       "Fer2013_filtered_uniform_aug_big fold 1  0.843567   0.962025      0.912217   \n",
       "Fer2013_filtered_uniform_aug_big fold 2  0.826383   0.954617      0.905567   \n",
       "Fer2013_filtered_uniform_aug_big fold 3  0.831200   0.953833      0.918333   \n",
       "Fer2013_filtered_uniform_aug_big mean    0.843187   0.957390      0.915504   \n",
       "\n",
       "                                          sad AUC  surprise AUC  mean ACC  \\\n",
       "Fer2013_filtered_uniform_aug_big fold 0  0.840900      0.974417  0.634286   \n",
       "Fer2013_filtered_uniform_aug_big fold 1  0.855467      0.958217  0.612857   \n",
       "Fer2013_filtered_uniform_aug_big fold 2  0.842400      0.972000  0.594286   \n",
       "Fer2013_filtered_uniform_aug_big fold 3  0.854867      0.977908  0.637143   \n",
       "Fer2013_filtered_uniform_aug_big mean    0.848408      0.970635  0.619643   \n",
       "\n",
       "                                         angry ACC  disgust ACC  fear ACC  \\\n",
       "Fer2013_filtered_uniform_aug_big fold 0     0.6400       0.5700    0.5000   \n",
       "Fer2013_filtered_uniform_aug_big fold 1     0.5500       0.4200    0.5000   \n",
       "Fer2013_filtered_uniform_aug_big fold 2     0.5300       0.4300    0.3900   \n",
       "Fer2013_filtered_uniform_aug_big fold 3     0.5100       0.6100    0.4600   \n",
       "Fer2013_filtered_uniform_aug_big mean       0.5575       0.5075    0.4625   \n",
       "\n",
       "                                         happy ACC  neautral ACC  sad ACC  \\\n",
       "Fer2013_filtered_uniform_aug_big fold 0     0.7700         0.680   0.5100   \n",
       "Fer2013_filtered_uniform_aug_big fold 1     0.7600         0.670   0.6100   \n",
       "Fer2013_filtered_uniform_aug_big fold 2     0.8400         0.630   0.5700   \n",
       "Fer2013_filtered_uniform_aug_big fold 3     0.7800         0.680   0.6000   \n",
       "Fer2013_filtered_uniform_aug_big mean       0.7875         0.665   0.5725   \n",
       "\n",
       "                                         surprise ACC  \n",
       "Fer2013_filtered_uniform_aug_big fold 0         0.770  \n",
       "Fer2013_filtered_uniform_aug_big fold 1         0.780  \n",
       "Fer2013_filtered_uniform_aug_big fold 2         0.770  \n",
       "Fer2013_filtered_uniform_aug_big fold 3         0.820  \n",
       "Fer2013_filtered_uniform_aug_big mean           0.785  "
      ]
     },
     "execution_count": 24,
     "metadata": {},
     "output_type": "execute_result"
    }
   ],
   "source": [
    "columns=[\"mean AUC\", \"angry AUC\", \"disgust AUC\", \"fear AUC\", \"happy AUC\", \"neautral AUC\", \"sad AUC\", \"surprise AUC\", \"mean ACC\", \"angry ACC\", \"disgust ACC\", \"fear ACC\", \"happy ACC\", \"neautral ACC\", \"sad ACC\", \"surprise ACC\"]\n",
    "df = pd.DataFrame(columns = columns)\n",
    "\n",
    "for fold,_ in enumerate(histories):\n",
    "    mean_acc,class_acc = evaluate_accuracy(y_test[fold], y_scores[fold], classes)\n",
    "    mean_auc,roc_auc = evaluate_roc_auc(y_test[fold], y_scores[fold], classes)\n",
    "\n",
    "    exp = [mean_auc]\n",
    "    exp += list(roc_auc.values())\n",
    "    exp += [mean_acc]\n",
    "    exp += class_acc\n",
    "\n",
    "    df_new = pd.DataFrame( np.array([exp]),[f\"{dataset_name} fold {fold}\"], columns=columns)\n",
    "    df = pd.concat([df,df_new])\n",
    "    df = df.astype('float')\n",
    "\n",
    "mean_df = df.mean(0).to_frame().transpose().set_index(pd.Index([f\"{dataset_name} mean\"]))\n",
    "df = pd.concat([df,mean_df])\n",
    "df\n"
   ]
  },
  {
   "cell_type": "markdown",
   "id": "bbe8f59a",
   "metadata": {},
   "source": [
    "## Save metrics"
   ]
  },
  {
   "cell_type": "code",
   "execution_count": 25,
   "id": "6dfac9df",
   "metadata": {},
   "outputs": [
    {
     "data": {
      "text/html": [
       "<div>\n",
       "<style scoped>\n",
       "    .dataframe tbody tr th:only-of-type {\n",
       "        vertical-align: middle;\n",
       "    }\n",
       "\n",
       "    .dataframe tbody tr th {\n",
       "        vertical-align: top;\n",
       "    }\n",
       "\n",
       "    .dataframe thead th {\n",
       "        text-align: right;\n",
       "    }\n",
       "</style>\n",
       "<table border=\"1\" class=\"dataframe\">\n",
       "  <thead>\n",
       "    <tr style=\"text-align: right;\">\n",
       "      <th></th>\n",
       "      <th>mean AUC</th>\n",
       "      <th>angry AUC</th>\n",
       "      <th>disgust AUC</th>\n",
       "      <th>fear AUC</th>\n",
       "      <th>happy AUC</th>\n",
       "      <th>neautral AUC</th>\n",
       "      <th>sad AUC</th>\n",
       "      <th>surprise AUC</th>\n",
       "      <th>mean ACC</th>\n",
       "      <th>angry ACC</th>\n",
       "      <th>disgust ACC</th>\n",
       "      <th>fear ACC</th>\n",
       "      <th>happy ACC</th>\n",
       "      <th>neautral ACC</th>\n",
       "      <th>sad ACC</th>\n",
       "      <th>surprise ACC</th>\n",
       "    </tr>\n",
       "  </thead>\n",
       "  <tbody>\n",
       "    <tr>\n",
       "      <th>Fer2013_filtered_uniform xval-4</th>\n",
       "      <td>0.904879</td>\n",
       "      <td>0.866508</td>\n",
       "      <td>0.940808</td>\n",
       "      <td>0.837265</td>\n",
       "      <td>0.960504</td>\n",
       "      <td>0.914504</td>\n",
       "      <td>0.840721</td>\n",
       "      <td>0.973844</td>\n",
       "      <td>0.614643</td>\n",
       "      <td>0.5175</td>\n",
       "      <td>0.4725</td>\n",
       "      <td>0.4700</td>\n",
       "      <td>0.8325</td>\n",
       "      <td>0.6375</td>\n",
       "      <td>0.5650</td>\n",
       "      <td>0.8075</td>\n",
       "    </tr>\n",
       "    <tr>\n",
       "      <th>Fer2013_filtered_uniform_aug xval-4</th>\n",
       "      <td>0.901435</td>\n",
       "      <td>0.873437</td>\n",
       "      <td>0.929525</td>\n",
       "      <td>0.833656</td>\n",
       "      <td>0.959258</td>\n",
       "      <td>0.902152</td>\n",
       "      <td>0.837410</td>\n",
       "      <td>0.974608</td>\n",
       "      <td>0.610714</td>\n",
       "      <td>0.5000</td>\n",
       "      <td>0.4900</td>\n",
       "      <td>0.4400</td>\n",
       "      <td>0.8200</td>\n",
       "      <td>0.5925</td>\n",
       "      <td>0.6525</td>\n",
       "      <td>0.7800</td>\n",
       "    </tr>\n",
       "    <tr>\n",
       "      <th>Fer2013_filtered_uniform_aug xval-4</th>\n",
       "      <td>0.908701</td>\n",
       "      <td>0.876058</td>\n",
       "      <td>0.931871</td>\n",
       "      <td>0.840271</td>\n",
       "      <td>0.965048</td>\n",
       "      <td>0.921031</td>\n",
       "      <td>0.855054</td>\n",
       "      <td>0.971575</td>\n",
       "      <td>0.626786</td>\n",
       "      <td>0.5750</td>\n",
       "      <td>0.5225</td>\n",
       "      <td>0.4475</td>\n",
       "      <td>0.8575</td>\n",
       "      <td>0.6050</td>\n",
       "      <td>0.5900</td>\n",
       "      <td>0.7900</td>\n",
       "    </tr>\n",
       "    <tr>\n",
       "      <th>Fer2013_filtered_uniform xval-4</th>\n",
       "      <td>0.900243</td>\n",
       "      <td>0.860883</td>\n",
       "      <td>0.936875</td>\n",
       "      <td>0.830688</td>\n",
       "      <td>0.957577</td>\n",
       "      <td>0.911533</td>\n",
       "      <td>0.833675</td>\n",
       "      <td>0.970469</td>\n",
       "      <td>0.607500</td>\n",
       "      <td>0.5550</td>\n",
       "      <td>0.4650</td>\n",
       "      <td>0.4550</td>\n",
       "      <td>0.8225</td>\n",
       "      <td>0.6000</td>\n",
       "      <td>0.5625</td>\n",
       "      <td>0.7925</td>\n",
       "    </tr>\n",
       "    <tr>\n",
       "      <th>Fer2013_filtered_uniform xval-4</th>\n",
       "      <td>0.902616</td>\n",
       "      <td>0.862852</td>\n",
       "      <td>0.947029</td>\n",
       "      <td>0.835208</td>\n",
       "      <td>0.953067</td>\n",
       "      <td>0.907823</td>\n",
       "      <td>0.838888</td>\n",
       "      <td>0.973448</td>\n",
       "      <td>0.603214</td>\n",
       "      <td>0.5050</td>\n",
       "      <td>0.4900</td>\n",
       "      <td>0.4300</td>\n",
       "      <td>0.8250</td>\n",
       "      <td>0.6200</td>\n",
       "      <td>0.5575</td>\n",
       "      <td>0.7950</td>\n",
       "    </tr>\n",
       "    <tr>\n",
       "      <th>Fer2013_filtered_uniform_aug xval-4</th>\n",
       "      <td>0.904633</td>\n",
       "      <td>0.874279</td>\n",
       "      <td>0.930833</td>\n",
       "      <td>0.837625</td>\n",
       "      <td>0.959083</td>\n",
       "      <td>0.923210</td>\n",
       "      <td>0.832917</td>\n",
       "      <td>0.974481</td>\n",
       "      <td>0.626429</td>\n",
       "      <td>0.5475</td>\n",
       "      <td>0.5325</td>\n",
       "      <td>0.4775</td>\n",
       "      <td>0.8275</td>\n",
       "      <td>0.6900</td>\n",
       "      <td>0.5250</td>\n",
       "      <td>0.7850</td>\n",
       "    </tr>\n",
       "    <tr>\n",
       "      <th>Fer2013_filtered_uniform_aug xval-4</th>\n",
       "      <td>0.906446</td>\n",
       "      <td>0.880850</td>\n",
       "      <td>0.935929</td>\n",
       "      <td>0.836500</td>\n",
       "      <td>0.958881</td>\n",
       "      <td>0.919258</td>\n",
       "      <td>0.840737</td>\n",
       "      <td>0.972962</td>\n",
       "      <td>0.625714</td>\n",
       "      <td>0.5500</td>\n",
       "      <td>0.5225</td>\n",
       "      <td>0.4450</td>\n",
       "      <td>0.8325</td>\n",
       "      <td>0.6800</td>\n",
       "      <td>0.5600</td>\n",
       "      <td>0.7900</td>\n",
       "    </tr>\n",
       "    <tr>\n",
       "      <th>Fer2013_filtered_uniform xval-4</th>\n",
       "      <td>0.908204</td>\n",
       "      <td>0.874727</td>\n",
       "      <td>0.949087</td>\n",
       "      <td>0.844775</td>\n",
       "      <td>0.954788</td>\n",
       "      <td>0.915271</td>\n",
       "      <td>0.846029</td>\n",
       "      <td>0.972754</td>\n",
       "      <td>0.624643</td>\n",
       "      <td>0.5400</td>\n",
       "      <td>0.4850</td>\n",
       "      <td>0.4925</td>\n",
       "      <td>0.8250</td>\n",
       "      <td>0.6675</td>\n",
       "      <td>0.5600</td>\n",
       "      <td>0.8025</td>\n",
       "    </tr>\n",
       "    <tr>\n",
       "      <th>Fer2013_filtered_uniform xval-4</th>\n",
       "      <td>0.904391</td>\n",
       "      <td>0.855921</td>\n",
       "      <td>0.945275</td>\n",
       "      <td>0.838765</td>\n",
       "      <td>0.953933</td>\n",
       "      <td>0.919619</td>\n",
       "      <td>0.848513</td>\n",
       "      <td>0.968712</td>\n",
       "      <td>0.615357</td>\n",
       "      <td>0.5300</td>\n",
       "      <td>0.5225</td>\n",
       "      <td>0.4725</td>\n",
       "      <td>0.8125</td>\n",
       "      <td>0.6675</td>\n",
       "      <td>0.5475</td>\n",
       "      <td>0.7550</td>\n",
       "    </tr>\n",
       "    <tr>\n",
       "      <th>Fer2013_filtered_uniform xval-4</th>\n",
       "      <td>0.905480</td>\n",
       "      <td>0.870017</td>\n",
       "      <td>0.940671</td>\n",
       "      <td>0.839137</td>\n",
       "      <td>0.955227</td>\n",
       "      <td>0.912417</td>\n",
       "      <td>0.851658</td>\n",
       "      <td>0.969231</td>\n",
       "      <td>0.619643</td>\n",
       "      <td>0.5375</td>\n",
       "      <td>0.4850</td>\n",
       "      <td>0.4900</td>\n",
       "      <td>0.8150</td>\n",
       "      <td>0.6375</td>\n",
       "      <td>0.5975</td>\n",
       "      <td>0.7750</td>\n",
       "    </tr>\n",
       "    <tr>\n",
       "      <th>Fer2013_filtered_uniform_aug xval-4</th>\n",
       "      <td>0.903008</td>\n",
       "      <td>0.867981</td>\n",
       "      <td>0.926708</td>\n",
       "      <td>0.832854</td>\n",
       "      <td>0.956573</td>\n",
       "      <td>0.913171</td>\n",
       "      <td>0.854410</td>\n",
       "      <td>0.969360</td>\n",
       "      <td>0.618214</td>\n",
       "      <td>0.5225</td>\n",
       "      <td>0.4925</td>\n",
       "      <td>0.4525</td>\n",
       "      <td>0.7950</td>\n",
       "      <td>0.6500</td>\n",
       "      <td>0.6025</td>\n",
       "      <td>0.8125</td>\n",
       "    </tr>\n",
       "    <tr>\n",
       "      <th>Fer2013_filtered_uniform_aug xval-4</th>\n",
       "      <td>0.908528</td>\n",
       "      <td>0.870196</td>\n",
       "      <td>0.930504</td>\n",
       "      <td>0.846225</td>\n",
       "      <td>0.957792</td>\n",
       "      <td>0.922362</td>\n",
       "      <td>0.850533</td>\n",
       "      <td>0.982081</td>\n",
       "      <td>0.635000</td>\n",
       "      <td>0.5425</td>\n",
       "      <td>0.5275</td>\n",
       "      <td>0.4825</td>\n",
       "      <td>0.8200</td>\n",
       "      <td>0.7000</td>\n",
       "      <td>0.5475</td>\n",
       "      <td>0.8250</td>\n",
       "    </tr>\n",
       "    <tr>\n",
       "      <th>Fer2013_filtered_uniform_aug xval-4</th>\n",
       "      <td>0.908313</td>\n",
       "      <td>0.878962</td>\n",
       "      <td>0.937921</td>\n",
       "      <td>0.843002</td>\n",
       "      <td>0.959473</td>\n",
       "      <td>0.925629</td>\n",
       "      <td>0.846971</td>\n",
       "      <td>0.966231</td>\n",
       "      <td>0.623214</td>\n",
       "      <td>0.5700</td>\n",
       "      <td>0.5100</td>\n",
       "      <td>0.5000</td>\n",
       "      <td>0.7900</td>\n",
       "      <td>0.6650</td>\n",
       "      <td>0.5500</td>\n",
       "      <td>0.7775</td>\n",
       "    </tr>\n",
       "    <tr>\n",
       "      <th>Fer2013_filtered_uniform_aug xval-4</th>\n",
       "      <td>0.904969</td>\n",
       "      <td>0.875179</td>\n",
       "      <td>0.939929</td>\n",
       "      <td>0.826613</td>\n",
       "      <td>0.960060</td>\n",
       "      <td>0.913433</td>\n",
       "      <td>0.853283</td>\n",
       "      <td>0.966287</td>\n",
       "      <td>0.625357</td>\n",
       "      <td>0.5425</td>\n",
       "      <td>0.5325</td>\n",
       "      <td>0.4375</td>\n",
       "      <td>0.8275</td>\n",
       "      <td>0.6625</td>\n",
       "      <td>0.5825</td>\n",
       "      <td>0.7925</td>\n",
       "    </tr>\n",
       "    <tr>\n",
       "      <th>Fer2013_filtered_uniform_aug_big xval-4</th>\n",
       "      <td>0.905534</td>\n",
       "      <td>0.870367</td>\n",
       "      <td>0.917296</td>\n",
       "      <td>0.840873</td>\n",
       "      <td>0.963129</td>\n",
       "      <td>0.922308</td>\n",
       "      <td>0.851646</td>\n",
       "      <td>0.973117</td>\n",
       "      <td>0.635357</td>\n",
       "      <td>0.5000</td>\n",
       "      <td>0.5350</td>\n",
       "      <td>0.4900</td>\n",
       "      <td>0.8250</td>\n",
       "      <td>0.6850</td>\n",
       "      <td>0.6225</td>\n",
       "      <td>0.7900</td>\n",
       "    </tr>\n",
       "  </tbody>\n",
       "</table>\n",
       "</div>"
      ],
      "text/plain": [
       "                                         mean AUC  angry AUC  disgust AUC  \\\n",
       "Fer2013_filtered_uniform xval-4          0.904879   0.866508     0.940808   \n",
       "Fer2013_filtered_uniform_aug xval-4      0.901435   0.873437     0.929525   \n",
       "Fer2013_filtered_uniform_aug xval-4      0.908701   0.876058     0.931871   \n",
       "Fer2013_filtered_uniform xval-4          0.900243   0.860883     0.936875   \n",
       "Fer2013_filtered_uniform xval-4          0.902616   0.862852     0.947029   \n",
       "Fer2013_filtered_uniform_aug xval-4      0.904633   0.874279     0.930833   \n",
       "Fer2013_filtered_uniform_aug xval-4      0.906446   0.880850     0.935929   \n",
       "Fer2013_filtered_uniform xval-4          0.908204   0.874727     0.949087   \n",
       "Fer2013_filtered_uniform xval-4          0.904391   0.855921     0.945275   \n",
       "Fer2013_filtered_uniform xval-4          0.905480   0.870017     0.940671   \n",
       "Fer2013_filtered_uniform_aug xval-4      0.903008   0.867981     0.926708   \n",
       "Fer2013_filtered_uniform_aug xval-4      0.908528   0.870196     0.930504   \n",
       "Fer2013_filtered_uniform_aug xval-4      0.908313   0.878962     0.937921   \n",
       "Fer2013_filtered_uniform_aug xval-4      0.904969   0.875179     0.939929   \n",
       "Fer2013_filtered_uniform_aug_big xval-4  0.905534   0.870367     0.917296   \n",
       "\n",
       "                                         fear AUC  happy AUC  neautral AUC  \\\n",
       "Fer2013_filtered_uniform xval-4          0.837265   0.960504      0.914504   \n",
       "Fer2013_filtered_uniform_aug xval-4      0.833656   0.959258      0.902152   \n",
       "Fer2013_filtered_uniform_aug xval-4      0.840271   0.965048      0.921031   \n",
       "Fer2013_filtered_uniform xval-4          0.830688   0.957577      0.911533   \n",
       "Fer2013_filtered_uniform xval-4          0.835208   0.953067      0.907823   \n",
       "Fer2013_filtered_uniform_aug xval-4      0.837625   0.959083      0.923210   \n",
       "Fer2013_filtered_uniform_aug xval-4      0.836500   0.958881      0.919258   \n",
       "Fer2013_filtered_uniform xval-4          0.844775   0.954788      0.915271   \n",
       "Fer2013_filtered_uniform xval-4          0.838765   0.953933      0.919619   \n",
       "Fer2013_filtered_uniform xval-4          0.839137   0.955227      0.912417   \n",
       "Fer2013_filtered_uniform_aug xval-4      0.832854   0.956573      0.913171   \n",
       "Fer2013_filtered_uniform_aug xval-4      0.846225   0.957792      0.922362   \n",
       "Fer2013_filtered_uniform_aug xval-4      0.843002   0.959473      0.925629   \n",
       "Fer2013_filtered_uniform_aug xval-4      0.826613   0.960060      0.913433   \n",
       "Fer2013_filtered_uniform_aug_big xval-4  0.840873   0.963129      0.922308   \n",
       "\n",
       "                                          sad AUC  surprise AUC  mean ACC  \\\n",
       "Fer2013_filtered_uniform xval-4          0.840721      0.973844  0.614643   \n",
       "Fer2013_filtered_uniform_aug xval-4      0.837410      0.974608  0.610714   \n",
       "Fer2013_filtered_uniform_aug xval-4      0.855054      0.971575  0.626786   \n",
       "Fer2013_filtered_uniform xval-4          0.833675      0.970469  0.607500   \n",
       "Fer2013_filtered_uniform xval-4          0.838888      0.973448  0.603214   \n",
       "Fer2013_filtered_uniform_aug xval-4      0.832917      0.974481  0.626429   \n",
       "Fer2013_filtered_uniform_aug xval-4      0.840737      0.972962  0.625714   \n",
       "Fer2013_filtered_uniform xval-4          0.846029      0.972754  0.624643   \n",
       "Fer2013_filtered_uniform xval-4          0.848513      0.968712  0.615357   \n",
       "Fer2013_filtered_uniform xval-4          0.851658      0.969231  0.619643   \n",
       "Fer2013_filtered_uniform_aug xval-4      0.854410      0.969360  0.618214   \n",
       "Fer2013_filtered_uniform_aug xval-4      0.850533      0.982081  0.635000   \n",
       "Fer2013_filtered_uniform_aug xval-4      0.846971      0.966231  0.623214   \n",
       "Fer2013_filtered_uniform_aug xval-4      0.853283      0.966287  0.625357   \n",
       "Fer2013_filtered_uniform_aug_big xval-4  0.851646      0.973117  0.635357   \n",
       "\n",
       "                                         angry ACC  disgust ACC  fear ACC  \\\n",
       "Fer2013_filtered_uniform xval-4             0.5175       0.4725    0.4700   \n",
       "Fer2013_filtered_uniform_aug xval-4         0.5000       0.4900    0.4400   \n",
       "Fer2013_filtered_uniform_aug xval-4         0.5750       0.5225    0.4475   \n",
       "Fer2013_filtered_uniform xval-4             0.5550       0.4650    0.4550   \n",
       "Fer2013_filtered_uniform xval-4             0.5050       0.4900    0.4300   \n",
       "Fer2013_filtered_uniform_aug xval-4         0.5475       0.5325    0.4775   \n",
       "Fer2013_filtered_uniform_aug xval-4         0.5500       0.5225    0.4450   \n",
       "Fer2013_filtered_uniform xval-4             0.5400       0.4850    0.4925   \n",
       "Fer2013_filtered_uniform xval-4             0.5300       0.5225    0.4725   \n",
       "Fer2013_filtered_uniform xval-4             0.5375       0.4850    0.4900   \n",
       "Fer2013_filtered_uniform_aug xval-4         0.5225       0.4925    0.4525   \n",
       "Fer2013_filtered_uniform_aug xval-4         0.5425       0.5275    0.4825   \n",
       "Fer2013_filtered_uniform_aug xval-4         0.5700       0.5100    0.5000   \n",
       "Fer2013_filtered_uniform_aug xval-4         0.5425       0.5325    0.4375   \n",
       "Fer2013_filtered_uniform_aug_big xval-4     0.5000       0.5350    0.4900   \n",
       "\n",
       "                                         happy ACC  neautral ACC  sad ACC  \\\n",
       "Fer2013_filtered_uniform xval-4             0.8325        0.6375   0.5650   \n",
       "Fer2013_filtered_uniform_aug xval-4         0.8200        0.5925   0.6525   \n",
       "Fer2013_filtered_uniform_aug xval-4         0.8575        0.6050   0.5900   \n",
       "Fer2013_filtered_uniform xval-4             0.8225        0.6000   0.5625   \n",
       "Fer2013_filtered_uniform xval-4             0.8250        0.6200   0.5575   \n",
       "Fer2013_filtered_uniform_aug xval-4         0.8275        0.6900   0.5250   \n",
       "Fer2013_filtered_uniform_aug xval-4         0.8325        0.6800   0.5600   \n",
       "Fer2013_filtered_uniform xval-4             0.8250        0.6675   0.5600   \n",
       "Fer2013_filtered_uniform xval-4             0.8125        0.6675   0.5475   \n",
       "Fer2013_filtered_uniform xval-4             0.8150        0.6375   0.5975   \n",
       "Fer2013_filtered_uniform_aug xval-4         0.7950        0.6500   0.6025   \n",
       "Fer2013_filtered_uniform_aug xval-4         0.8200        0.7000   0.5475   \n",
       "Fer2013_filtered_uniform_aug xval-4         0.7900        0.6650   0.5500   \n",
       "Fer2013_filtered_uniform_aug xval-4         0.8275        0.6625   0.5825   \n",
       "Fer2013_filtered_uniform_aug_big xval-4     0.8250        0.6850   0.6225   \n",
       "\n",
       "                                         surprise ACC  \n",
       "Fer2013_filtered_uniform xval-4                0.8075  \n",
       "Fer2013_filtered_uniform_aug xval-4            0.7800  \n",
       "Fer2013_filtered_uniform_aug xval-4            0.7900  \n",
       "Fer2013_filtered_uniform xval-4                0.7925  \n",
       "Fer2013_filtered_uniform xval-4                0.7950  \n",
       "Fer2013_filtered_uniform_aug xval-4            0.7850  \n",
       "Fer2013_filtered_uniform_aug xval-4            0.7900  \n",
       "Fer2013_filtered_uniform xval-4                0.8025  \n",
       "Fer2013_filtered_uniform xval-4                0.7550  \n",
       "Fer2013_filtered_uniform xval-4                0.7750  \n",
       "Fer2013_filtered_uniform_aug xval-4            0.8125  \n",
       "Fer2013_filtered_uniform_aug xval-4            0.8250  \n",
       "Fer2013_filtered_uniform_aug xval-4            0.7775  \n",
       "Fer2013_filtered_uniform_aug xval-4            0.7925  \n",
       "Fer2013_filtered_uniform_aug_big xval-4        0.7900  "
      ]
     },
     "execution_count": 25,
     "metadata": {},
     "output_type": "execute_result"
    }
   ],
   "source": [
    "try:\n",
    "    stored_df = pd.read_csv(os.path.join(metrics_directory, metrics_name),index_col=0)\n",
    "except FileNotFoundError:\n",
    "    stored_df = pd.DataFrame(columns = columns)\n",
    "stored_df"
   ]
  },
  {
   "cell_type": "code",
   "execution_count": 26,
   "id": "417b7565",
   "metadata": {},
   "outputs": [
    {
     "data": {
      "text/html": [
       "<div>\n",
       "<style scoped>\n",
       "    .dataframe tbody tr th:only-of-type {\n",
       "        vertical-align: middle;\n",
       "    }\n",
       "\n",
       "    .dataframe tbody tr th {\n",
       "        vertical-align: top;\n",
       "    }\n",
       "\n",
       "    .dataframe thead th {\n",
       "        text-align: right;\n",
       "    }\n",
       "</style>\n",
       "<table border=\"1\" class=\"dataframe\">\n",
       "  <thead>\n",
       "    <tr style=\"text-align: right;\">\n",
       "      <th></th>\n",
       "      <th>mean AUC</th>\n",
       "      <th>angry AUC</th>\n",
       "      <th>disgust AUC</th>\n",
       "      <th>fear AUC</th>\n",
       "      <th>happy AUC</th>\n",
       "      <th>neautral AUC</th>\n",
       "      <th>sad AUC</th>\n",
       "      <th>surprise AUC</th>\n",
       "      <th>mean ACC</th>\n",
       "      <th>angry ACC</th>\n",
       "      <th>disgust ACC</th>\n",
       "      <th>fear ACC</th>\n",
       "      <th>happy ACC</th>\n",
       "      <th>neautral ACC</th>\n",
       "      <th>sad ACC</th>\n",
       "      <th>surprise ACC</th>\n",
       "    </tr>\n",
       "  </thead>\n",
       "  <tbody>\n",
       "    <tr>\n",
       "      <th>Fer2013_filtered_uniform xval-4</th>\n",
       "      <td>0.904879</td>\n",
       "      <td>0.866508</td>\n",
       "      <td>0.940808</td>\n",
       "      <td>0.837265</td>\n",
       "      <td>0.960504</td>\n",
       "      <td>0.914504</td>\n",
       "      <td>0.840721</td>\n",
       "      <td>0.973844</td>\n",
       "      <td>0.614643</td>\n",
       "      <td>0.5175</td>\n",
       "      <td>0.4725</td>\n",
       "      <td>0.4700</td>\n",
       "      <td>0.8325</td>\n",
       "      <td>0.6375</td>\n",
       "      <td>0.5650</td>\n",
       "      <td>0.8075</td>\n",
       "    </tr>\n",
       "    <tr>\n",
       "      <th>Fer2013_filtered_uniform_aug xval-4</th>\n",
       "      <td>0.901435</td>\n",
       "      <td>0.873437</td>\n",
       "      <td>0.929525</td>\n",
       "      <td>0.833656</td>\n",
       "      <td>0.959258</td>\n",
       "      <td>0.902152</td>\n",
       "      <td>0.837410</td>\n",
       "      <td>0.974608</td>\n",
       "      <td>0.610714</td>\n",
       "      <td>0.5000</td>\n",
       "      <td>0.4900</td>\n",
       "      <td>0.4400</td>\n",
       "      <td>0.8200</td>\n",
       "      <td>0.5925</td>\n",
       "      <td>0.6525</td>\n",
       "      <td>0.7800</td>\n",
       "    </tr>\n",
       "    <tr>\n",
       "      <th>Fer2013_filtered_uniform_aug xval-4</th>\n",
       "      <td>0.908701</td>\n",
       "      <td>0.876058</td>\n",
       "      <td>0.931871</td>\n",
       "      <td>0.840271</td>\n",
       "      <td>0.965048</td>\n",
       "      <td>0.921031</td>\n",
       "      <td>0.855054</td>\n",
       "      <td>0.971575</td>\n",
       "      <td>0.626786</td>\n",
       "      <td>0.5750</td>\n",
       "      <td>0.5225</td>\n",
       "      <td>0.4475</td>\n",
       "      <td>0.8575</td>\n",
       "      <td>0.6050</td>\n",
       "      <td>0.5900</td>\n",
       "      <td>0.7900</td>\n",
       "    </tr>\n",
       "    <tr>\n",
       "      <th>Fer2013_filtered_uniform xval-4</th>\n",
       "      <td>0.900243</td>\n",
       "      <td>0.860883</td>\n",
       "      <td>0.936875</td>\n",
       "      <td>0.830688</td>\n",
       "      <td>0.957577</td>\n",
       "      <td>0.911533</td>\n",
       "      <td>0.833675</td>\n",
       "      <td>0.970469</td>\n",
       "      <td>0.607500</td>\n",
       "      <td>0.5550</td>\n",
       "      <td>0.4650</td>\n",
       "      <td>0.4550</td>\n",
       "      <td>0.8225</td>\n",
       "      <td>0.6000</td>\n",
       "      <td>0.5625</td>\n",
       "      <td>0.7925</td>\n",
       "    </tr>\n",
       "    <tr>\n",
       "      <th>Fer2013_filtered_uniform xval-4</th>\n",
       "      <td>0.902616</td>\n",
       "      <td>0.862852</td>\n",
       "      <td>0.947029</td>\n",
       "      <td>0.835208</td>\n",
       "      <td>0.953067</td>\n",
       "      <td>0.907823</td>\n",
       "      <td>0.838888</td>\n",
       "      <td>0.973448</td>\n",
       "      <td>0.603214</td>\n",
       "      <td>0.5050</td>\n",
       "      <td>0.4900</td>\n",
       "      <td>0.4300</td>\n",
       "      <td>0.8250</td>\n",
       "      <td>0.6200</td>\n",
       "      <td>0.5575</td>\n",
       "      <td>0.7950</td>\n",
       "    </tr>\n",
       "    <tr>\n",
       "      <th>Fer2013_filtered_uniform_aug xval-4</th>\n",
       "      <td>0.904633</td>\n",
       "      <td>0.874279</td>\n",
       "      <td>0.930833</td>\n",
       "      <td>0.837625</td>\n",
       "      <td>0.959083</td>\n",
       "      <td>0.923210</td>\n",
       "      <td>0.832917</td>\n",
       "      <td>0.974481</td>\n",
       "      <td>0.626429</td>\n",
       "      <td>0.5475</td>\n",
       "      <td>0.5325</td>\n",
       "      <td>0.4775</td>\n",
       "      <td>0.8275</td>\n",
       "      <td>0.6900</td>\n",
       "      <td>0.5250</td>\n",
       "      <td>0.7850</td>\n",
       "    </tr>\n",
       "    <tr>\n",
       "      <th>Fer2013_filtered_uniform_aug xval-4</th>\n",
       "      <td>0.906446</td>\n",
       "      <td>0.880850</td>\n",
       "      <td>0.935929</td>\n",
       "      <td>0.836500</td>\n",
       "      <td>0.958881</td>\n",
       "      <td>0.919258</td>\n",
       "      <td>0.840737</td>\n",
       "      <td>0.972962</td>\n",
       "      <td>0.625714</td>\n",
       "      <td>0.5500</td>\n",
       "      <td>0.5225</td>\n",
       "      <td>0.4450</td>\n",
       "      <td>0.8325</td>\n",
       "      <td>0.6800</td>\n",
       "      <td>0.5600</td>\n",
       "      <td>0.7900</td>\n",
       "    </tr>\n",
       "    <tr>\n",
       "      <th>Fer2013_filtered_uniform xval-4</th>\n",
       "      <td>0.908204</td>\n",
       "      <td>0.874727</td>\n",
       "      <td>0.949087</td>\n",
       "      <td>0.844775</td>\n",
       "      <td>0.954788</td>\n",
       "      <td>0.915271</td>\n",
       "      <td>0.846029</td>\n",
       "      <td>0.972754</td>\n",
       "      <td>0.624643</td>\n",
       "      <td>0.5400</td>\n",
       "      <td>0.4850</td>\n",
       "      <td>0.4925</td>\n",
       "      <td>0.8250</td>\n",
       "      <td>0.6675</td>\n",
       "      <td>0.5600</td>\n",
       "      <td>0.8025</td>\n",
       "    </tr>\n",
       "    <tr>\n",
       "      <th>Fer2013_filtered_uniform xval-4</th>\n",
       "      <td>0.904391</td>\n",
       "      <td>0.855921</td>\n",
       "      <td>0.945275</td>\n",
       "      <td>0.838765</td>\n",
       "      <td>0.953933</td>\n",
       "      <td>0.919619</td>\n",
       "      <td>0.848513</td>\n",
       "      <td>0.968712</td>\n",
       "      <td>0.615357</td>\n",
       "      <td>0.5300</td>\n",
       "      <td>0.5225</td>\n",
       "      <td>0.4725</td>\n",
       "      <td>0.8125</td>\n",
       "      <td>0.6675</td>\n",
       "      <td>0.5475</td>\n",
       "      <td>0.7550</td>\n",
       "    </tr>\n",
       "    <tr>\n",
       "      <th>Fer2013_filtered_uniform xval-4</th>\n",
       "      <td>0.905480</td>\n",
       "      <td>0.870017</td>\n",
       "      <td>0.940671</td>\n",
       "      <td>0.839137</td>\n",
       "      <td>0.955227</td>\n",
       "      <td>0.912417</td>\n",
       "      <td>0.851658</td>\n",
       "      <td>0.969231</td>\n",
       "      <td>0.619643</td>\n",
       "      <td>0.5375</td>\n",
       "      <td>0.4850</td>\n",
       "      <td>0.4900</td>\n",
       "      <td>0.8150</td>\n",
       "      <td>0.6375</td>\n",
       "      <td>0.5975</td>\n",
       "      <td>0.7750</td>\n",
       "    </tr>\n",
       "    <tr>\n",
       "      <th>Fer2013_filtered_uniform_aug xval-4</th>\n",
       "      <td>0.903008</td>\n",
       "      <td>0.867981</td>\n",
       "      <td>0.926708</td>\n",
       "      <td>0.832854</td>\n",
       "      <td>0.956573</td>\n",
       "      <td>0.913171</td>\n",
       "      <td>0.854410</td>\n",
       "      <td>0.969360</td>\n",
       "      <td>0.618214</td>\n",
       "      <td>0.5225</td>\n",
       "      <td>0.4925</td>\n",
       "      <td>0.4525</td>\n",
       "      <td>0.7950</td>\n",
       "      <td>0.6500</td>\n",
       "      <td>0.6025</td>\n",
       "      <td>0.8125</td>\n",
       "    </tr>\n",
       "    <tr>\n",
       "      <th>Fer2013_filtered_uniform_aug xval-4</th>\n",
       "      <td>0.908528</td>\n",
       "      <td>0.870196</td>\n",
       "      <td>0.930504</td>\n",
       "      <td>0.846225</td>\n",
       "      <td>0.957792</td>\n",
       "      <td>0.922362</td>\n",
       "      <td>0.850533</td>\n",
       "      <td>0.982081</td>\n",
       "      <td>0.635000</td>\n",
       "      <td>0.5425</td>\n",
       "      <td>0.5275</td>\n",
       "      <td>0.4825</td>\n",
       "      <td>0.8200</td>\n",
       "      <td>0.7000</td>\n",
       "      <td>0.5475</td>\n",
       "      <td>0.8250</td>\n",
       "    </tr>\n",
       "    <tr>\n",
       "      <th>Fer2013_filtered_uniform_aug xval-4</th>\n",
       "      <td>0.908313</td>\n",
       "      <td>0.878962</td>\n",
       "      <td>0.937921</td>\n",
       "      <td>0.843002</td>\n",
       "      <td>0.959473</td>\n",
       "      <td>0.925629</td>\n",
       "      <td>0.846971</td>\n",
       "      <td>0.966231</td>\n",
       "      <td>0.623214</td>\n",
       "      <td>0.5700</td>\n",
       "      <td>0.5100</td>\n",
       "      <td>0.5000</td>\n",
       "      <td>0.7900</td>\n",
       "      <td>0.6650</td>\n",
       "      <td>0.5500</td>\n",
       "      <td>0.7775</td>\n",
       "    </tr>\n",
       "    <tr>\n",
       "      <th>Fer2013_filtered_uniform_aug xval-4</th>\n",
       "      <td>0.904969</td>\n",
       "      <td>0.875179</td>\n",
       "      <td>0.939929</td>\n",
       "      <td>0.826613</td>\n",
       "      <td>0.960060</td>\n",
       "      <td>0.913433</td>\n",
       "      <td>0.853283</td>\n",
       "      <td>0.966287</td>\n",
       "      <td>0.625357</td>\n",
       "      <td>0.5425</td>\n",
       "      <td>0.5325</td>\n",
       "      <td>0.4375</td>\n",
       "      <td>0.8275</td>\n",
       "      <td>0.6625</td>\n",
       "      <td>0.5825</td>\n",
       "      <td>0.7925</td>\n",
       "    </tr>\n",
       "    <tr>\n",
       "      <th>Fer2013_filtered_uniform_aug_big xval-4</th>\n",
       "      <td>0.905534</td>\n",
       "      <td>0.870367</td>\n",
       "      <td>0.917296</td>\n",
       "      <td>0.840873</td>\n",
       "      <td>0.963129</td>\n",
       "      <td>0.922308</td>\n",
       "      <td>0.851646</td>\n",
       "      <td>0.973117</td>\n",
       "      <td>0.635357</td>\n",
       "      <td>0.5000</td>\n",
       "      <td>0.5350</td>\n",
       "      <td>0.4900</td>\n",
       "      <td>0.8250</td>\n",
       "      <td>0.6850</td>\n",
       "      <td>0.6225</td>\n",
       "      <td>0.7900</td>\n",
       "    </tr>\n",
       "    <tr>\n",
       "      <th>Fer2013_filtered_uniform_aug_big xval-4</th>\n",
       "      <td>0.904122</td>\n",
       "      <td>0.872156</td>\n",
       "      <td>0.921571</td>\n",
       "      <td>0.843187</td>\n",
       "      <td>0.957390</td>\n",
       "      <td>0.915504</td>\n",
       "      <td>0.848408</td>\n",
       "      <td>0.970635</td>\n",
       "      <td>0.619643</td>\n",
       "      <td>0.5575</td>\n",
       "      <td>0.5075</td>\n",
       "      <td>0.4625</td>\n",
       "      <td>0.7875</td>\n",
       "      <td>0.6650</td>\n",
       "      <td>0.5725</td>\n",
       "      <td>0.7850</td>\n",
       "    </tr>\n",
       "  </tbody>\n",
       "</table>\n",
       "</div>"
      ],
      "text/plain": [
       "                                         mean AUC  angry AUC  disgust AUC  \\\n",
       "Fer2013_filtered_uniform xval-4          0.904879   0.866508     0.940808   \n",
       "Fer2013_filtered_uniform_aug xval-4      0.901435   0.873437     0.929525   \n",
       "Fer2013_filtered_uniform_aug xval-4      0.908701   0.876058     0.931871   \n",
       "Fer2013_filtered_uniform xval-4          0.900243   0.860883     0.936875   \n",
       "Fer2013_filtered_uniform xval-4          0.902616   0.862852     0.947029   \n",
       "Fer2013_filtered_uniform_aug xval-4      0.904633   0.874279     0.930833   \n",
       "Fer2013_filtered_uniform_aug xval-4      0.906446   0.880850     0.935929   \n",
       "Fer2013_filtered_uniform xval-4          0.908204   0.874727     0.949087   \n",
       "Fer2013_filtered_uniform xval-4          0.904391   0.855921     0.945275   \n",
       "Fer2013_filtered_uniform xval-4          0.905480   0.870017     0.940671   \n",
       "Fer2013_filtered_uniform_aug xval-4      0.903008   0.867981     0.926708   \n",
       "Fer2013_filtered_uniform_aug xval-4      0.908528   0.870196     0.930504   \n",
       "Fer2013_filtered_uniform_aug xval-4      0.908313   0.878962     0.937921   \n",
       "Fer2013_filtered_uniform_aug xval-4      0.904969   0.875179     0.939929   \n",
       "Fer2013_filtered_uniform_aug_big xval-4  0.905534   0.870367     0.917296   \n",
       "Fer2013_filtered_uniform_aug_big xval-4  0.904122   0.872156     0.921571   \n",
       "\n",
       "                                         fear AUC  happy AUC  neautral AUC  \\\n",
       "Fer2013_filtered_uniform xval-4          0.837265   0.960504      0.914504   \n",
       "Fer2013_filtered_uniform_aug xval-4      0.833656   0.959258      0.902152   \n",
       "Fer2013_filtered_uniform_aug xval-4      0.840271   0.965048      0.921031   \n",
       "Fer2013_filtered_uniform xval-4          0.830688   0.957577      0.911533   \n",
       "Fer2013_filtered_uniform xval-4          0.835208   0.953067      0.907823   \n",
       "Fer2013_filtered_uniform_aug xval-4      0.837625   0.959083      0.923210   \n",
       "Fer2013_filtered_uniform_aug xval-4      0.836500   0.958881      0.919258   \n",
       "Fer2013_filtered_uniform xval-4          0.844775   0.954788      0.915271   \n",
       "Fer2013_filtered_uniform xval-4          0.838765   0.953933      0.919619   \n",
       "Fer2013_filtered_uniform xval-4          0.839137   0.955227      0.912417   \n",
       "Fer2013_filtered_uniform_aug xval-4      0.832854   0.956573      0.913171   \n",
       "Fer2013_filtered_uniform_aug xval-4      0.846225   0.957792      0.922362   \n",
       "Fer2013_filtered_uniform_aug xval-4      0.843002   0.959473      0.925629   \n",
       "Fer2013_filtered_uniform_aug xval-4      0.826613   0.960060      0.913433   \n",
       "Fer2013_filtered_uniform_aug_big xval-4  0.840873   0.963129      0.922308   \n",
       "Fer2013_filtered_uniform_aug_big xval-4  0.843187   0.957390      0.915504   \n",
       "\n",
       "                                          sad AUC  surprise AUC  mean ACC  \\\n",
       "Fer2013_filtered_uniform xval-4          0.840721      0.973844  0.614643   \n",
       "Fer2013_filtered_uniform_aug xval-4      0.837410      0.974608  0.610714   \n",
       "Fer2013_filtered_uniform_aug xval-4      0.855054      0.971575  0.626786   \n",
       "Fer2013_filtered_uniform xval-4          0.833675      0.970469  0.607500   \n",
       "Fer2013_filtered_uniform xval-4          0.838888      0.973448  0.603214   \n",
       "Fer2013_filtered_uniform_aug xval-4      0.832917      0.974481  0.626429   \n",
       "Fer2013_filtered_uniform_aug xval-4      0.840737      0.972962  0.625714   \n",
       "Fer2013_filtered_uniform xval-4          0.846029      0.972754  0.624643   \n",
       "Fer2013_filtered_uniform xval-4          0.848513      0.968712  0.615357   \n",
       "Fer2013_filtered_uniform xval-4          0.851658      0.969231  0.619643   \n",
       "Fer2013_filtered_uniform_aug xval-4      0.854410      0.969360  0.618214   \n",
       "Fer2013_filtered_uniform_aug xval-4      0.850533      0.982081  0.635000   \n",
       "Fer2013_filtered_uniform_aug xval-4      0.846971      0.966231  0.623214   \n",
       "Fer2013_filtered_uniform_aug xval-4      0.853283      0.966287  0.625357   \n",
       "Fer2013_filtered_uniform_aug_big xval-4  0.851646      0.973117  0.635357   \n",
       "Fer2013_filtered_uniform_aug_big xval-4  0.848408      0.970635  0.619643   \n",
       "\n",
       "                                         angry ACC  disgust ACC  fear ACC  \\\n",
       "Fer2013_filtered_uniform xval-4             0.5175       0.4725    0.4700   \n",
       "Fer2013_filtered_uniform_aug xval-4         0.5000       0.4900    0.4400   \n",
       "Fer2013_filtered_uniform_aug xval-4         0.5750       0.5225    0.4475   \n",
       "Fer2013_filtered_uniform xval-4             0.5550       0.4650    0.4550   \n",
       "Fer2013_filtered_uniform xval-4             0.5050       0.4900    0.4300   \n",
       "Fer2013_filtered_uniform_aug xval-4         0.5475       0.5325    0.4775   \n",
       "Fer2013_filtered_uniform_aug xval-4         0.5500       0.5225    0.4450   \n",
       "Fer2013_filtered_uniform xval-4             0.5400       0.4850    0.4925   \n",
       "Fer2013_filtered_uniform xval-4             0.5300       0.5225    0.4725   \n",
       "Fer2013_filtered_uniform xval-4             0.5375       0.4850    0.4900   \n",
       "Fer2013_filtered_uniform_aug xval-4         0.5225       0.4925    0.4525   \n",
       "Fer2013_filtered_uniform_aug xval-4         0.5425       0.5275    0.4825   \n",
       "Fer2013_filtered_uniform_aug xval-4         0.5700       0.5100    0.5000   \n",
       "Fer2013_filtered_uniform_aug xval-4         0.5425       0.5325    0.4375   \n",
       "Fer2013_filtered_uniform_aug_big xval-4     0.5000       0.5350    0.4900   \n",
       "Fer2013_filtered_uniform_aug_big xval-4     0.5575       0.5075    0.4625   \n",
       "\n",
       "                                         happy ACC  neautral ACC  sad ACC  \\\n",
       "Fer2013_filtered_uniform xval-4             0.8325        0.6375   0.5650   \n",
       "Fer2013_filtered_uniform_aug xval-4         0.8200        0.5925   0.6525   \n",
       "Fer2013_filtered_uniform_aug xval-4         0.8575        0.6050   0.5900   \n",
       "Fer2013_filtered_uniform xval-4             0.8225        0.6000   0.5625   \n",
       "Fer2013_filtered_uniform xval-4             0.8250        0.6200   0.5575   \n",
       "Fer2013_filtered_uniform_aug xval-4         0.8275        0.6900   0.5250   \n",
       "Fer2013_filtered_uniform_aug xval-4         0.8325        0.6800   0.5600   \n",
       "Fer2013_filtered_uniform xval-4             0.8250        0.6675   0.5600   \n",
       "Fer2013_filtered_uniform xval-4             0.8125        0.6675   0.5475   \n",
       "Fer2013_filtered_uniform xval-4             0.8150        0.6375   0.5975   \n",
       "Fer2013_filtered_uniform_aug xval-4         0.7950        0.6500   0.6025   \n",
       "Fer2013_filtered_uniform_aug xval-4         0.8200        0.7000   0.5475   \n",
       "Fer2013_filtered_uniform_aug xval-4         0.7900        0.6650   0.5500   \n",
       "Fer2013_filtered_uniform_aug xval-4         0.8275        0.6625   0.5825   \n",
       "Fer2013_filtered_uniform_aug_big xval-4     0.8250        0.6850   0.6225   \n",
       "Fer2013_filtered_uniform_aug_big xval-4     0.7875        0.6650   0.5725   \n",
       "\n",
       "                                         surprise ACC  \n",
       "Fer2013_filtered_uniform xval-4                0.8075  \n",
       "Fer2013_filtered_uniform_aug xval-4            0.7800  \n",
       "Fer2013_filtered_uniform_aug xval-4            0.7900  \n",
       "Fer2013_filtered_uniform xval-4                0.7925  \n",
       "Fer2013_filtered_uniform xval-4                0.7950  \n",
       "Fer2013_filtered_uniform_aug xval-4            0.7850  \n",
       "Fer2013_filtered_uniform_aug xval-4            0.7900  \n",
       "Fer2013_filtered_uniform xval-4                0.8025  \n",
       "Fer2013_filtered_uniform xval-4                0.7550  \n",
       "Fer2013_filtered_uniform xval-4                0.7750  \n",
       "Fer2013_filtered_uniform_aug xval-4            0.8125  \n",
       "Fer2013_filtered_uniform_aug xval-4            0.8250  \n",
       "Fer2013_filtered_uniform_aug xval-4            0.7775  \n",
       "Fer2013_filtered_uniform_aug xval-4            0.7925  \n",
       "Fer2013_filtered_uniform_aug_big xval-4        0.7900  \n",
       "Fer2013_filtered_uniform_aug_big xval-4        0.7850  "
      ]
     },
     "execution_count": 26,
     "metadata": {},
     "output_type": "execute_result"
    }
   ],
   "source": [
    "stored_df = pd.concat([stored_df,mean_df.set_index(pd.Index([f\"{dataset_name} xval-{splits}\"]))])\n",
    "stored_df"
   ]
  },
  {
   "cell_type": "code",
   "execution_count": 27,
   "id": "d202fe7c",
   "metadata": {},
   "outputs": [],
   "source": [
    "if not os.path.isdir(metrics_directory):\n",
    "    os.makedirs(name = metrics_directory)\n",
    "stored_df.to_csv(os.path.join(metrics_directory, metrics_name))"
   ]
  },
  {
   "cell_type": "code",
   "execution_count": 28,
   "id": "af48bbbe",
   "metadata": {},
   "outputs": [
    {
     "data": {
      "text/html": [
       "<div>\n",
       "<style scoped>\n",
       "    .dataframe tbody tr th:only-of-type {\n",
       "        vertical-align: middle;\n",
       "    }\n",
       "\n",
       "    .dataframe tbody tr th {\n",
       "        vertical-align: top;\n",
       "    }\n",
       "\n",
       "    .dataframe thead th {\n",
       "        text-align: right;\n",
       "    }\n",
       "</style>\n",
       "<table border=\"1\" class=\"dataframe\">\n",
       "  <thead>\n",
       "    <tr style=\"text-align: right;\">\n",
       "      <th></th>\n",
       "      <th>mean AUC</th>\n",
       "      <th>angry AUC</th>\n",
       "      <th>disgust AUC</th>\n",
       "      <th>fear AUC</th>\n",
       "      <th>happy AUC</th>\n",
       "      <th>neautral AUC</th>\n",
       "      <th>sad AUC</th>\n",
       "      <th>surprise AUC</th>\n",
       "      <th>mean ACC</th>\n",
       "      <th>angry ACC</th>\n",
       "      <th>disgust ACC</th>\n",
       "      <th>fear ACC</th>\n",
       "      <th>happy ACC</th>\n",
       "      <th>neautral ACC</th>\n",
       "      <th>sad ACC</th>\n",
       "      <th>surprise ACC</th>\n",
       "    </tr>\n",
       "    <tr>\n",
       "      <th>Method</th>\n",
       "      <th></th>\n",
       "      <th></th>\n",
       "      <th></th>\n",
       "      <th></th>\n",
       "      <th></th>\n",
       "      <th></th>\n",
       "      <th></th>\n",
       "      <th></th>\n",
       "      <th></th>\n",
       "      <th></th>\n",
       "      <th></th>\n",
       "      <th></th>\n",
       "      <th></th>\n",
       "      <th></th>\n",
       "      <th></th>\n",
       "      <th></th>\n",
       "    </tr>\n",
       "  </thead>\n",
       "  <tbody>\n",
       "    <tr>\n",
       "      <th>Fer2013_filtered_uniform xval-4</th>\n",
       "      <td>0.904302</td>\n",
       "      <td>0.865151</td>\n",
       "      <td>0.943291</td>\n",
       "      <td>0.837640</td>\n",
       "      <td>0.955849</td>\n",
       "      <td>0.913528</td>\n",
       "      <td>0.843247</td>\n",
       "      <td>0.971410</td>\n",
       "      <td>0.614167</td>\n",
       "      <td>0.530833</td>\n",
       "      <td>0.486667</td>\n",
       "      <td>0.468333</td>\n",
       "      <td>0.822083</td>\n",
       "      <td>0.638333</td>\n",
       "      <td>0.56500</td>\n",
       "      <td>0.787917</td>\n",
       "    </tr>\n",
       "    <tr>\n",
       "      <th>Fer2013_filtered_uniform_aug xval-4</th>\n",
       "      <td>0.905754</td>\n",
       "      <td>0.874618</td>\n",
       "      <td>0.932903</td>\n",
       "      <td>0.837093</td>\n",
       "      <td>0.959521</td>\n",
       "      <td>0.917531</td>\n",
       "      <td>0.846415</td>\n",
       "      <td>0.972198</td>\n",
       "      <td>0.623929</td>\n",
       "      <td>0.543750</td>\n",
       "      <td>0.516250</td>\n",
       "      <td>0.460312</td>\n",
       "      <td>0.821250</td>\n",
       "      <td>0.655625</td>\n",
       "      <td>0.57625</td>\n",
       "      <td>0.794063</td>\n",
       "    </tr>\n",
       "    <tr>\n",
       "      <th>Fer2013_filtered_uniform_aug_big xval-4</th>\n",
       "      <td>0.904828</td>\n",
       "      <td>0.871261</td>\n",
       "      <td>0.919433</td>\n",
       "      <td>0.842030</td>\n",
       "      <td>0.960259</td>\n",
       "      <td>0.918906</td>\n",
       "      <td>0.850027</td>\n",
       "      <td>0.971876</td>\n",
       "      <td>0.627500</td>\n",
       "      <td>0.528750</td>\n",
       "      <td>0.521250</td>\n",
       "      <td>0.476250</td>\n",
       "      <td>0.806250</td>\n",
       "      <td>0.675000</td>\n",
       "      <td>0.59750</td>\n",
       "      <td>0.787500</td>\n",
       "    </tr>\n",
       "  </tbody>\n",
       "</table>\n",
       "</div>"
      ],
      "text/plain": [
       "                                         mean AUC  angry AUC  disgust AUC  \\\n",
       "Method                                                                      \n",
       "Fer2013_filtered_uniform xval-4          0.904302   0.865151     0.943291   \n",
       "Fer2013_filtered_uniform_aug xval-4      0.905754   0.874618     0.932903   \n",
       "Fer2013_filtered_uniform_aug_big xval-4  0.904828   0.871261     0.919433   \n",
       "\n",
       "                                         fear AUC  happy AUC  neautral AUC  \\\n",
       "Method                                                                       \n",
       "Fer2013_filtered_uniform xval-4          0.837640   0.955849      0.913528   \n",
       "Fer2013_filtered_uniform_aug xval-4      0.837093   0.959521      0.917531   \n",
       "Fer2013_filtered_uniform_aug_big xval-4  0.842030   0.960259      0.918906   \n",
       "\n",
       "                                          sad AUC  surprise AUC  mean ACC  \\\n",
       "Method                                                                      \n",
       "Fer2013_filtered_uniform xval-4          0.843247      0.971410  0.614167   \n",
       "Fer2013_filtered_uniform_aug xval-4      0.846415      0.972198  0.623929   \n",
       "Fer2013_filtered_uniform_aug_big xval-4  0.850027      0.971876  0.627500   \n",
       "\n",
       "                                         angry ACC  disgust ACC  fear ACC  \\\n",
       "Method                                                                      \n",
       "Fer2013_filtered_uniform xval-4           0.530833     0.486667  0.468333   \n",
       "Fer2013_filtered_uniform_aug xval-4       0.543750     0.516250  0.460312   \n",
       "Fer2013_filtered_uniform_aug_big xval-4   0.528750     0.521250  0.476250   \n",
       "\n",
       "                                         happy ACC  neautral ACC  sad ACC  \\\n",
       "Method                                                                      \n",
       "Fer2013_filtered_uniform xval-4           0.822083      0.638333  0.56500   \n",
       "Fer2013_filtered_uniform_aug xval-4       0.821250      0.655625  0.57625   \n",
       "Fer2013_filtered_uniform_aug_big xval-4   0.806250      0.675000  0.59750   \n",
       "\n",
       "                                         surprise ACC  \n",
       "Method                                                 \n",
       "Fer2013_filtered_uniform xval-4              0.787917  \n",
       "Fer2013_filtered_uniform_aug xval-4          0.794063  \n",
       "Fer2013_filtered_uniform_aug_big xval-4      0.787500  "
      ]
     },
     "execution_count": 28,
     "metadata": {},
     "output_type": "execute_result"
    }
   ],
   "source": [
    "stored_df.index.name = \"Method\"\n",
    "stored_df.groupby(\"Method\").mean()"
   ]
  },
  {
   "cell_type": "code",
   "execution_count": 29,
   "id": "4f6a75c8",
   "metadata": {},
   "outputs": [],
   "source": [
    "winsound.Beep(400, 2000)"
   ]
  },
  {
   "cell_type": "code",
   "execution_count": 30,
   "id": "cbfaa498",
   "metadata": {},
   "outputs": [],
   "source": [
    "winsound.Beep(400, 2000)"
   ]
  },
  {
   "cell_type": "code",
   "execution_count": null,
   "id": "99818dc5",
   "metadata": {},
   "outputs": [],
   "source": []
  }
 ],
 "metadata": {
  "kernelspec": {
   "display_name": "Python 3.9.13 ('admm')",
   "language": "python",
   "name": "python3"
  },
  "language_info": {
   "codemirror_mode": {
    "name": "ipython",
    "version": 3
   },
   "file_extension": ".py",
   "mimetype": "text/x-python",
   "name": "python",
   "nbconvert_exporter": "python",
   "pygments_lexer": "ipython3",
   "version": "3.9.13"
  },
  "vscode": {
   "interpreter": {
    "hash": "4c1f182555212a9854645afbacc562781dae715ef930cf4cbb779c01705a033a"
   }
  }
 },
 "nbformat": 4,
 "nbformat_minor": 5
}
