{
 "cells": [
  {
   "cell_type": "markdown",
   "id": "64b0897f",
   "metadata": {},
   "source": [
    "# Classifier"
   ]
  },
  {
   "cell_type": "markdown",
   "id": "08a9de04",
   "metadata": {},
   "source": [
    "## Import libraries"
   ]
  },
  {
   "cell_type": "code",
   "execution_count": 46,
   "id": "f30487ab-c2a7-4231-80cd-942fbc97e0a4",
   "metadata": {},
   "outputs": [],
   "source": [
    "import torch\n",
    "import torch.nn as nn\n",
    "import torch.nn.functional as F\n",
    "import torch.optim as optim\n",
    "import os\n",
    "from tqdm.notebook import tqdm, trange\n",
    "from time import sleep\n",
    "from torchvision.io import read_image\n",
    "from torchvision.transforms import ToTensor\n",
    "from torchvision import transforms\n",
    "from torchsummary import summary\n",
    "from torch.utils.data import DataLoader\n",
    "from torchvision.datasets import ImageFolder\n",
    "from collections import Counter\n",
    "import numpy as np\n"
   ]
  },
  {
   "cell_type": "markdown",
   "id": "ed5c4b34",
   "metadata": {},
   "source": [
    "## Functions definition"
   ]
  },
  {
   "cell_type": "code",
   "execution_count": 3,
   "id": "084cd3c3-e57c-434e-9669-2ff06fa1d080",
   "metadata": {},
   "outputs": [],
   "source": [
    "def get_default_device():\n",
    "    \"\"\"Pick GPU if available, else CPU\"\"\"\n",
    "    if torch.cuda.is_available():\n",
    "        return torch.device('cuda')\n",
    "    else:\n",
    "        return torch.device('cpu')\n",
    "    \n",
    "def to_device(data, device):\n",
    "    \"\"\"Move tensor(s) to chosen device\"\"\"\n",
    "    if isinstance(data, (list,tuple)):\n",
    "        return [to_device(x, device) for x in data]\n",
    "    return data.to(device, non_blocking=True)"
   ]
  },
  {
   "cell_type": "code",
   "execution_count": 4,
   "id": "e0a6ad2d-46c4-4553-94e6-5459666c6a9e",
   "metadata": {},
   "outputs": [],
   "source": [
    "@torch.no_grad()\n",
    "def evaluate(model, val_loader):\n",
    "    model.eval()\n",
    "    outputs = [model.validation_step(batch) for batch in val_loader]\n",
    "    return model.validation_epoch_end(outputs)\n",
    "\n",
    "def fit(epochs, lr, model, train_loader, val_loader, opt_func=torch.optim.SGD):\n",
    "    history = []\n",
    "    optimizer = opt_func(model.parameters(), lr, betas=(0.5,0.999))\n",
    "    for epoch in tqdm(range(epochs), desc = \"Current Epoch\"):\n",
    "        # Training Phase \n",
    "        model.train()\n",
    "        train_losses = []\n",
    "        for batch in tqdm(train_loader, desc = f\"Epoch: {epoch}\", leave= False):\n",
    "            optimizer.zero_grad()\n",
    "            loss = model.training_step(batch)\n",
    "            train_losses.append(loss)\n",
    "            loss.backward()\n",
    "            optimizer.step()\n",
    "        # Validation phase\n",
    "        result = evaluate(model, val_loader)\n",
    "        result['train_loss'] = torch.stack(train_losses).mean().item()\n",
    "        model.epoch_end(epoch, result)\n",
    "        history.append(result)\n",
    "    return history"
   ]
  },
  {
   "cell_type": "markdown",
   "id": "ca246c54",
   "metadata": {},
   "source": [
    "## Class definition"
   ]
  },
  {
   "cell_type": "code",
   "execution_count": 5,
   "id": "30e57e57",
   "metadata": {},
   "outputs": [],
   "source": [
    "class DeviceDataLoader():\n",
    "    \"\"\"Wrap a dataloader to move data to a device\"\"\"\n",
    "    def __init__(self, dl, device):\n",
    "        self.dl = dl\n",
    "        self.device = device\n",
    "        \n",
    "    def __iter__(self):\n",
    "        \"\"\"Yield a batch of data after moving it to device\"\"\"\n",
    "        for b in self.dl: \n",
    "            yield to_device(b, self.device)\n",
    "\n",
    "    def __len__(self):\n",
    "        \"\"\"Number of batches\"\"\"\n",
    "        return len(self.dl)"
   ]
  },
  {
   "cell_type": "code",
   "execution_count": 6,
   "id": "1042dd71-2d30-4b9e-b7fd-dc0178421675",
   "metadata": {},
   "outputs": [],
   "source": [
    "class Metric():\n",
    "    def __init__(self, name):\n",
    "        self.name = name\n",
    "    \n",
    "    def eval(self, outputs, labels):\n",
    "        pass"
   ]
  },
  {
   "cell_type": "code",
   "execution_count": 7,
   "id": "6ab563e9-aeac-45c8-a5da-e99f8cbc54ca",
   "metadata": {},
   "outputs": [],
   "source": [
    "class Accuracy(Metric):\n",
    "    \n",
    "    def eval(self, outputs, labels):\n",
    "        _, preds = torch.max(outputs, dim=1)\n",
    "        return torch.tensor(torch.sum(preds == labels).item() / len(preds))"
   ]
  },
  {
   "cell_type": "code",
   "execution_count": 8,
   "id": "1977248f-bcac-4d98-806b-013f3fa7e6f4",
   "metadata": {},
   "outputs": [],
   "source": [
    "class ImageClassificationBase(nn.Module):\n",
    "    \n",
    "    def __init__(self, loss_function, metrics):\n",
    "        super().__init__()\n",
    "        self.loss_function = loss_function\n",
    "        self.metrics = metrics\n",
    "    \n",
    "    def training_step(self, batch):\n",
    "        images, labels = batch \n",
    "        out = self(images)                  # Generate predictions\n",
    "        loss = self.loss_function(out, labels) # Calculate loss\n",
    "        return loss\n",
    "    \n",
    "    def validation_step(self, batch):\n",
    "        images, labels = batch \n",
    "        out = self(images)                    # Generate predictions\n",
    "        loss = self.loss_function(out, labels)   # Calculate loss\n",
    "        result = {'val_loss': loss.detach()}\n",
    "        \n",
    "        for m in self.metrics:\n",
    "            result[m.name] = m.eval(out, labels)           # Calculate metrics\n",
    "            \n",
    "        return result\n",
    "        \n",
    "    def validation_epoch_end(self, outputs):\n",
    "        batch_losses = [x['val_loss'] for x in outputs]\n",
    "        epoch_loss = torch.stack(batch_losses).mean()   # Combine losses\n",
    "        \n",
    "        result = {'val_loss': epoch_loss.item()}\n",
    "        \n",
    "        for m in self.metrics:\n",
    "            batch = [x[m.name] for x in outputs]\n",
    "            epoch = torch.stack(batch).mean()      # Combine metrics\n",
    "            result[m.name] = epoch.item()\n",
    "            \n",
    "        return result\n",
    "    \n",
    "    def epoch_end(self, epoch, result):\n",
    "        out = f\"Epoch [{epoch}]\"\n",
    "        vals = list(result.keys())\n",
    "        for v in vals:\n",
    "            out += f\", {v}: {result[v]:.4f}\"\n",
    "        print(out)\n",
    "        "
   ]
  },
  {
   "cell_type": "code",
   "execution_count": 9,
   "id": "125ec41f-92e5-4844-bc89-6eeb84c08eb6",
   "metadata": {},
   "outputs": [],
   "source": [
    "class Net(ImageClassificationBase):\n",
    "    \n",
    "    def __init__(self, loss_function, metrics, out_size):\n",
    "        super().__init__(loss_function, metrics)\n",
    "        self.conv1 = nn.Conv2d(in_channels=1, out_channels=32, kernel_size=3, stride=1)\n",
    "        self.pool1 = nn.MaxPool2d(kernel_size=3,stride=2, padding=1)\n",
    "        self.norm1 = nn.BatchNorm2d(32)\n",
    "        self.conv2 = nn.Conv2d(in_channels=32, out_channels=64, kernel_size=3, stride=1)\n",
    "        self.pool2 = nn.MaxPool2d(kernel_size=3,stride=2, padding=1)\n",
    "        self.norm2 = nn.BatchNorm2d(64)\n",
    "        self.conv3 = nn.Conv2d(in_channels=64, out_channels=128, kernel_size=3, stride=1)\n",
    "        self.pool3 = nn.MaxPool2d(kernel_size=3, stride=2, padding=1)\n",
    "        self.norm3 = nn.BatchNorm2d(128)\n",
    "        self.fc1 = nn.Linear(in_features=128*5*5, out_features=256)\n",
    "        #self.fc2 = nn.Linear(in_features=256, out_features=256)\n",
    "        self.fc = nn.Linear(256, out_size)\n",
    "\n",
    "    def forward(self, input):\n",
    "        output = self.norm1(self.pool1(F.relu(self.conv1(input))))\n",
    "        output = self.norm2(self.pool2(F.relu(self.conv2((output)))))\n",
    "        output = self.norm3(self.pool3(F.relu(self.conv3((output)))))\n",
    "        output = output.view(-1, 128*5*5)\n",
    "        output = F.relu(self.fc1(output))\n",
    "        #output = F.relu(self.fc2(output))\n",
    "        output = self.fc(output)\n",
    "        output = F.softmax(input = output)\n",
    "        return output\n",
    "\n",
    "    \"\"\"def __init__(self, loss_function, metrics, out_size):\n",
    "        super().__init__(loss_function, metrics)\n",
    "        self.conv1 = nn.Conv2d(in_channels=1, out_channels=32, kernel_size=3, stride=1, padding=1)\n",
    "        self.conv2 = nn.Conv2d(in_channels=32, out_channels=64, kernel_size=3, stride=1, padding = 1)\n",
    "        self.norm1 = nn.BatchNorm2d(64)\n",
    "        self.pool1 = nn.MaxPool2d(kernel_size=2)\n",
    "        self.drop1 = nn.Dropout2d(p=0.25)\n",
    "        self.conv3 = nn.Conv2d(in_channels=64, out_channels=128, kernel_size=3, stride=1, padding=1)\n",
    "        self.conv4 = nn.Conv2d(in_channels=128, out_channels=256, kernel_size=3, stride=1)\n",
    "        self.norm2 = nn.BatchNorm2d(256)\n",
    "        self.pool2 = nn.MaxPool2d(kernel_size=2)\n",
    "        self.drop2 = nn.Dropout2d(p=0.25)\n",
    "        self.flatten = nn.Flatten()\n",
    "        self.fc1 = nn.Linear(in_features=256*11*11, out_features=1024)\n",
    "        self.drop3 = nn.Dropout2d(p=0.5)\n",
    "        self.fc = nn.Linear(1024, out_size)\n",
    "\n",
    "    def forward(self, input):\n",
    "        output = F.relu(self.conv1(input))\n",
    "        output = F.relu(self.conv2(output))\n",
    "        output = self.drop1(self.pool1(self.norm1(output)))\n",
    "        output = F.relu(self.conv3(output))\n",
    "        output = F.relu(self.conv4(output))\n",
    "        output = self.drop2(self.pool2(self.norm2(output)))\n",
    "        output = self.flatten(output)\n",
    "        output = F.relu(self.fc1(output))\n",
    "        output = self.fc(self.drop3(output))\n",
    "        output = F.softmax(input = output)\n",
    "        return output\"\"\""
   ]
  },
  {
   "cell_type": "markdown",
   "id": "60e5a8f2",
   "metadata": {},
   "source": [
    "## Variables definition"
   ]
  },
  {
   "cell_type": "code",
   "execution_count": 10,
   "id": "1bb92e60",
   "metadata": {},
   "outputs": [],
   "source": [
    "device = get_default_device()\n",
    "models_directory = \"models\"\n",
    "dataset_name = \"Fer2013_Aug_Disgust_E_uniform\"\n",
    "train_df_path = f\"../datasets/{dataset_name}/train\"\n",
    "test_df_path = f\"../datasets/{dataset_name}/test\""
   ]
  },
  {
   "cell_type": "markdown",
   "id": "76ef2e5b",
   "metadata": {},
   "source": [
    "## Dataset loading"
   ]
  },
  {
   "cell_type": "code",
   "execution_count": 12,
   "id": "5f983610-8ba7-4afc-81b4-44c255c5257c",
   "metadata": {},
   "outputs": [],
   "source": [
    "df_train = ImageFolder(root=train_df_path, transform=transforms.Compose([transforms.Grayscale(num_output_channels=1),\n",
    "                                     transforms.ToTensor()]))\n",
    "df_test = ImageFolder(root=test_df_path, transform=transforms.Compose([transforms.Grayscale(num_output_channels=1),\n",
    "                                     transforms.ToTensor()]))"
   ]
  },
  {
   "cell_type": "code",
   "execution_count": 13,
   "id": "6fab602f-e6fa-46f2-898c-ad2d697ed41a",
   "metadata": {},
   "outputs": [],
   "source": [
    "train_dl = DeviceDataLoader(DataLoader(df_train, batch_size=batch_size, shuffle=True),device)\n",
    "test_dl = DeviceDataLoader(DataLoader(df_test, batch_size=batch_size, shuffle=True),device)"
   ]
  },
  {
   "cell_type": "code",
   "execution_count": 14,
   "id": "72f96e28-c09a-4c5f-836b-51ea2ae0ed52",
   "metadata": {},
   "outputs": [
    {
     "data": {
      "text/plain": [
       "['angry', 'disgust', 'fear', 'happy', 'neutral', 'sad', 'surprise']"
      ]
     },
     "execution_count": 14,
     "metadata": {},
     "output_type": "execute_result"
    }
   ],
   "source": [
    "classes = df_train.classes\n",
    "classes"
   ]
  },
  {
   "cell_type": "code",
   "execution_count": 49,
   "id": "48aa05f0",
   "metadata": {},
   "outputs": [
    {
     "name": "stdout",
     "output_type": "stream",
     "text": [
      "{0: 3995, 1: 1669, 2: 4097, 3: 7215, 4: 4965, 5: 4830, 6: 3171}\n",
      "tensor([0.4178, 1.0000, 0.4074, 0.2313, 0.3362, 0.3455, 0.5263])\n"
     ]
    }
   ],
   "source": [
    "counts = dict(Counter(df_train.targets))\n",
    "print(counts)\n",
    "weights = np.array(list(counts.values()))\n",
    "weights = torch.Tensor( min(weights)/weights)\n",
    "print(weights)"
   ]
  },
  {
   "cell_type": "markdown",
   "id": "793bf2de",
   "metadata": {},
   "source": [
    "## Model design and Training"
   ]
  },
  {
   "cell_type": "code",
   "execution_count": 50,
   "id": "62f2c2a4",
   "metadata": {},
   "outputs": [],
   "source": [
    "batch_size = 64\n",
    "loss_function = nn.CrossEntropyLoss(weight = weights)\n",
    "metrics = [Accuracy(\"val_acc\")]\n",
    "optimizer = optim.Adam\n",
    "lr =0.0001\n",
    "num_epochs = 25"
   ]
  },
  {
   "cell_type": "code",
   "execution_count": 51,
   "id": "6b210b51-8ff6-46ec-8156-4795f88cd968",
   "metadata": {},
   "outputs": [
    {
     "name": "stdout",
     "output_type": "stream",
     "text": [
      "----------------------------------------------------------------\n",
      "        Layer (type)               Output Shape         Param #\n",
      "================================================================\n",
      "            Conv2d-1           [-1, 32, 46, 46]             320\n",
      "         MaxPool2d-2           [-1, 32, 23, 23]               0\n",
      "       BatchNorm2d-3           [-1, 32, 23, 23]              64\n",
      "            Conv2d-4           [-1, 64, 21, 21]          18,496\n",
      "         MaxPool2d-5           [-1, 64, 11, 11]               0\n",
      "       BatchNorm2d-6           [-1, 64, 11, 11]             128\n",
      "            Conv2d-7            [-1, 128, 9, 9]          73,856\n",
      "         MaxPool2d-8            [-1, 128, 5, 5]               0\n",
      "       BatchNorm2d-9            [-1, 128, 5, 5]             256\n",
      "           Linear-10                  [-1, 256]         819,456\n",
      "           Linear-11                    [-1, 7]           1,799\n",
      "================================================================\n",
      "Total params: 914,375\n",
      "Trainable params: 914,375\n",
      "Non-trainable params: 0\n",
      "----------------------------------------------------------------\n",
      "Input size (MB): 0.01\n",
      "Forward/backward pass size (MB): 1.24\n",
      "Params size (MB): 3.49\n",
      "Estimated Total Size (MB): 4.74\n",
      "----------------------------------------------------------------\n"
     ]
    },
    {
     "name": "stderr",
     "output_type": "stream",
     "text": [
      "C:\\Users\\Franc\\AppData\\Local\\Temp\\ipykernel_284\\3262377354.py:26: UserWarning: Implicit dimension choice for softmax has been deprecated. Change the call to include dim=X as an argument.\n",
      "  output = F.softmax(input = output)\n"
     ]
    }
   ],
   "source": [
    "net = Net(loss_function, metrics, len(classes))\n",
    "net.to(device)\n",
    "summary(net,(1,48,48))"
   ]
  },
  {
   "cell_type": "code",
   "execution_count": 52,
   "id": "94ef4dba-0260-4d4a-947b-52ecf388c783",
   "metadata": {},
   "outputs": [
    {
     "data": {
      "application/vnd.jupyter.widget-view+json": {
       "model_id": "97a0dd4497f44b7bb428d6b763f1b629",
       "version_major": 2,
       "version_minor": 0
      },
      "text/plain": [
       "Current Epoch:   0%|          | 0/25 [00:00<?, ?it/s]"
      ]
     },
     "metadata": {},
     "output_type": "display_data"
    },
    {
     "data": {
      "application/vnd.jupyter.widget-view+json": {
       "model_id": "09b780b20d614d0dae5c25a85e9abf44",
       "version_major": 2,
       "version_minor": 0
      },
      "text/plain": [
       "Epoch: 0:   0%|          | 0/468 [00:00<?, ?it/s]"
      ]
     },
     "metadata": {},
     "output_type": "display_data"
    },
    {
     "name": "stderr",
     "output_type": "stream",
     "text": [
      "C:\\Users\\Franc\\AppData\\Local\\Temp\\ipykernel_284\\3262377354.py:26: UserWarning: Implicit dimension choice for softmax has been deprecated. Change the call to include dim=X as an argument.\n",
      "  output = F.softmax(input = output)\n"
     ]
    },
    {
     "name": "stdout",
     "output_type": "stream",
     "text": [
      "Epoch [0], val_loss: 1.6965, val_acc: 0.4559, train_loss: 1.7456\n"
     ]
    },
    {
     "data": {
      "application/vnd.jupyter.widget-view+json": {
       "model_id": "6ad96d59677e4f85bbe9a2e94eaf36aa",
       "version_major": 2,
       "version_minor": 0
      },
      "text/plain": [
       "Epoch: 1:   0%|          | 0/468 [00:00<?, ?it/s]"
      ]
     },
     "metadata": {},
     "output_type": "display_data"
    },
    {
     "name": "stdout",
     "output_type": "stream",
     "text": [
      "Epoch [1], val_loss: 1.6433, val_acc: 0.5019, train_loss: 1.6302\n"
     ]
    },
    {
     "data": {
      "application/vnd.jupyter.widget-view+json": {
       "model_id": "b71bb863e4f5470dbb911a6b66d060fd",
       "version_major": 2,
       "version_minor": 0
      },
      "text/plain": [
       "Epoch: 2:   0%|          | 0/468 [00:00<?, ?it/s]"
      ]
     },
     "metadata": {},
     "output_type": "display_data"
    },
    {
     "name": "stdout",
     "output_type": "stream",
     "text": [
      "Epoch [2], val_loss: 1.6407, val_acc: 0.5099, train_loss: 1.5832\n"
     ]
    },
    {
     "data": {
      "application/vnd.jupyter.widget-view+json": {
       "model_id": "d1b1a4bd280a4c5eb323ac93c3c6fbfe",
       "version_major": 2,
       "version_minor": 0
      },
      "text/plain": [
       "Epoch: 3:   0%|          | 0/468 [00:00<?, ?it/s]"
      ]
     },
     "metadata": {},
     "output_type": "display_data"
    },
    {
     "name": "stdout",
     "output_type": "stream",
     "text": [
      "Epoch [3], val_loss: 1.6071, val_acc: 0.5429, train_loss: 1.5480\n"
     ]
    },
    {
     "data": {
      "application/vnd.jupyter.widget-view+json": {
       "model_id": "d6e67f6e653248d0a2b35fe621fe4a1a",
       "version_major": 2,
       "version_minor": 0
      },
      "text/plain": [
       "Epoch: 4:   0%|          | 0/468 [00:00<?, ?it/s]"
      ]
     },
     "metadata": {},
     "output_type": "display_data"
    },
    {
     "name": "stdout",
     "output_type": "stream",
     "text": [
      "Epoch [4], val_loss: 1.6153, val_acc: 0.5499, train_loss: 1.5185\n"
     ]
    },
    {
     "data": {
      "application/vnd.jupyter.widget-view+json": {
       "model_id": "1cd55a1a27584691aac9dbb8fae5c5c0",
       "version_major": 2,
       "version_minor": 0
      },
      "text/plain": [
       "Epoch: 5:   0%|          | 0/468 [00:00<?, ?it/s]"
      ]
     },
     "metadata": {},
     "output_type": "display_data"
    },
    {
     "name": "stdout",
     "output_type": "stream",
     "text": [
      "Epoch [5], val_loss: 1.6048, val_acc: 0.5486, train_loss: 1.4918\n"
     ]
    },
    {
     "data": {
      "application/vnd.jupyter.widget-view+json": {
       "model_id": "2b5f28aa6f2b4d0c87b5779f4769589f",
       "version_major": 2,
       "version_minor": 0
      },
      "text/plain": [
       "Epoch: 6:   0%|          | 0/468 [00:00<?, ?it/s]"
      ]
     },
     "metadata": {},
     "output_type": "display_data"
    },
    {
     "name": "stdout",
     "output_type": "stream",
     "text": [
      "Epoch [6], val_loss: 1.6019, val_acc: 0.5650, train_loss: 1.4685\n"
     ]
    },
    {
     "data": {
      "application/vnd.jupyter.widget-view+json": {
       "model_id": "11293c8ad6bc4969a50fd38aaba5aaab",
       "version_major": 2,
       "version_minor": 0
      },
      "text/plain": [
       "Epoch: 7:   0%|          | 0/468 [00:00<?, ?it/s]"
      ]
     },
     "metadata": {},
     "output_type": "display_data"
    },
    {
     "name": "stdout",
     "output_type": "stream",
     "text": [
      "Epoch [7], val_loss: 1.5971, val_acc: 0.5699, train_loss: 1.4470\n"
     ]
    },
    {
     "data": {
      "application/vnd.jupyter.widget-view+json": {
       "model_id": "77b611e19afb4b90a28e0570d2b97075",
       "version_major": 2,
       "version_minor": 0
      },
      "text/plain": [
       "Epoch: 8:   0%|          | 0/468 [00:00<?, ?it/s]"
      ]
     },
     "metadata": {},
     "output_type": "display_data"
    },
    {
     "name": "stdout",
     "output_type": "stream",
     "text": [
      "Epoch [8], val_loss: 1.6082, val_acc: 0.5527, train_loss: 1.4286\n"
     ]
    },
    {
     "data": {
      "application/vnd.jupyter.widget-view+json": {
       "model_id": "9fd25509e4bd46638847b3fa5edc1c1a",
       "version_major": 2,
       "version_minor": 0
      },
      "text/plain": [
       "Epoch: 9:   0%|          | 0/468 [00:00<?, ?it/s]"
      ]
     },
     "metadata": {},
     "output_type": "display_data"
    },
    {
     "name": "stdout",
     "output_type": "stream",
     "text": [
      "Epoch [9], val_loss: 1.6234, val_acc: 0.5556, train_loss: 1.4099\n"
     ]
    },
    {
     "data": {
      "application/vnd.jupyter.widget-view+json": {
       "model_id": "6dd6f5754e224b628e8737c711d8a9cb",
       "version_major": 2,
       "version_minor": 0
      },
      "text/plain": [
       "Epoch: 10:   0%|          | 0/468 [00:00<?, ?it/s]"
      ]
     },
     "metadata": {},
     "output_type": "display_data"
    },
    {
     "name": "stdout",
     "output_type": "stream",
     "text": [
      "Epoch [10], val_loss: 1.6164, val_acc: 0.5473, train_loss: 1.3944\n"
     ]
    },
    {
     "data": {
      "application/vnd.jupyter.widget-view+json": {
       "model_id": "9bb1fadf10364235951f68542111cc4b",
       "version_major": 2,
       "version_minor": 0
      },
      "text/plain": [
       "Epoch: 11:   0%|          | 0/468 [00:00<?, ?it/s]"
      ]
     },
     "metadata": {},
     "output_type": "display_data"
    },
    {
     "name": "stdout",
     "output_type": "stream",
     "text": [
      "Epoch [11], val_loss: 1.6039, val_acc: 0.5568, train_loss: 1.3810\n"
     ]
    },
    {
     "data": {
      "application/vnd.jupyter.widget-view+json": {
       "model_id": "d9963e70744341059b59fa0e56355ce6",
       "version_major": 2,
       "version_minor": 0
      },
      "text/plain": [
       "Epoch: 12:   0%|          | 0/468 [00:00<?, ?it/s]"
      ]
     },
     "metadata": {},
     "output_type": "display_data"
    },
    {
     "name": "stdout",
     "output_type": "stream",
     "text": [
      "Epoch [12], val_loss: 1.6211, val_acc: 0.5480, train_loss: 1.3687\n"
     ]
    },
    {
     "data": {
      "application/vnd.jupyter.widget-view+json": {
       "model_id": "eda2622fddd54917a85c89d5deebfcba",
       "version_major": 2,
       "version_minor": 0
      },
      "text/plain": [
       "Epoch: 13:   0%|          | 0/468 [00:00<?, ?it/s]"
      ]
     },
     "metadata": {},
     "output_type": "display_data"
    },
    {
     "name": "stdout",
     "output_type": "stream",
     "text": [
      "Epoch [13], val_loss: 1.6176, val_acc: 0.5511, train_loss: 1.3578\n"
     ]
    },
    {
     "data": {
      "application/vnd.jupyter.widget-view+json": {
       "model_id": "7830b340e6404365806ad6403618c39a",
       "version_major": 2,
       "version_minor": 0
      },
      "text/plain": [
       "Epoch: 14:   0%|          | 0/468 [00:00<?, ?it/s]"
      ]
     },
     "metadata": {},
     "output_type": "display_data"
    },
    {
     "name": "stdout",
     "output_type": "stream",
     "text": [
      "Epoch [14], val_loss: 1.6102, val_acc: 0.5629, train_loss: 1.3493\n"
     ]
    },
    {
     "data": {
      "application/vnd.jupyter.widget-view+json": {
       "model_id": "e1638443fef145ee9b5c41f2ee34d2c7",
       "version_major": 2,
       "version_minor": 0
      },
      "text/plain": [
       "Epoch: 15:   0%|          | 0/468 [00:00<?, ?it/s]"
      ]
     },
     "metadata": {},
     "output_type": "display_data"
    },
    {
     "name": "stdout",
     "output_type": "stream",
     "text": [
      "Epoch [15], val_loss: 1.6162, val_acc: 0.5466, train_loss: 1.3399\n"
     ]
    },
    {
     "data": {
      "application/vnd.jupyter.widget-view+json": {
       "model_id": "25a7dd2a934e484d9a58e51e54559e3d",
       "version_major": 2,
       "version_minor": 0
      },
      "text/plain": [
       "Epoch: 16:   0%|          | 0/468 [00:00<?, ?it/s]"
      ]
     },
     "metadata": {},
     "output_type": "display_data"
    },
    {
     "name": "stdout",
     "output_type": "stream",
     "text": [
      "Epoch [16], val_loss: 1.6202, val_acc: 0.5601, train_loss: 1.3319\n"
     ]
    },
    {
     "data": {
      "application/vnd.jupyter.widget-view+json": {
       "model_id": "50062c6e91d9488da0ade4d537d426f7",
       "version_major": 2,
       "version_minor": 0
      },
      "text/plain": [
       "Epoch: 17:   0%|          | 0/468 [00:00<?, ?it/s]"
      ]
     },
     "metadata": {},
     "output_type": "display_data"
    },
    {
     "name": "stdout",
     "output_type": "stream",
     "text": [
      "Epoch [17], val_loss: 1.6156, val_acc: 0.5427, train_loss: 1.3260\n"
     ]
    },
    {
     "data": {
      "application/vnd.jupyter.widget-view+json": {
       "model_id": "f9b400d9cdb54d2583d02869d8050edf",
       "version_major": 2,
       "version_minor": 0
      },
      "text/plain": [
       "Epoch: 18:   0%|          | 0/468 [00:00<?, ?it/s]"
      ]
     },
     "metadata": {},
     "output_type": "display_data"
    },
    {
     "name": "stdout",
     "output_type": "stream",
     "text": [
      "Epoch [18], val_loss: 1.6197, val_acc: 0.5412, train_loss: 1.3203\n"
     ]
    },
    {
     "data": {
      "application/vnd.jupyter.widget-view+json": {
       "model_id": "c985e62a06e54b75a912eb505e28fa48",
       "version_major": 2,
       "version_minor": 0
      },
      "text/plain": [
       "Epoch: 19:   0%|          | 0/468 [00:00<?, ?it/s]"
      ]
     },
     "metadata": {},
     "output_type": "display_data"
    },
    {
     "name": "stdout",
     "output_type": "stream",
     "text": [
      "Epoch [19], val_loss: 1.6164, val_acc: 0.5414, train_loss: 1.3160\n"
     ]
    },
    {
     "data": {
      "application/vnd.jupyter.widget-view+json": {
       "model_id": "3e604d36e84f485788fa9de25ecbb8b5",
       "version_major": 2,
       "version_minor": 0
      },
      "text/plain": [
       "Epoch: 20:   0%|          | 0/468 [00:00<?, ?it/s]"
      ]
     },
     "metadata": {},
     "output_type": "display_data"
    },
    {
     "name": "stdout",
     "output_type": "stream",
     "text": [
      "Epoch [20], val_loss: 1.6178, val_acc: 0.5496, train_loss: 1.3104\n"
     ]
    },
    {
     "data": {
      "application/vnd.jupyter.widget-view+json": {
       "model_id": "f5215353bfff4bb8b4592904177784ea",
       "version_major": 2,
       "version_minor": 0
      },
      "text/plain": [
       "Epoch: 21:   0%|          | 0/468 [00:00<?, ?it/s]"
      ]
     },
     "metadata": {},
     "output_type": "display_data"
    },
    {
     "name": "stdout",
     "output_type": "stream",
     "text": [
      "Epoch [21], val_loss: 1.6190, val_acc: 0.5428, train_loss: 1.3067\n"
     ]
    },
    {
     "data": {
      "application/vnd.jupyter.widget-view+json": {
       "model_id": "4d0c729f3dca4ffd943db742bacb2d0c",
       "version_major": 2,
       "version_minor": 0
      },
      "text/plain": [
       "Epoch: 22:   0%|          | 0/468 [00:00<?, ?it/s]"
      ]
     },
     "metadata": {},
     "output_type": "display_data"
    },
    {
     "name": "stdout",
     "output_type": "stream",
     "text": [
      "Epoch [22], val_loss: 1.6028, val_acc: 0.5444, train_loss: 1.3048\n"
     ]
    },
    {
     "data": {
      "application/vnd.jupyter.widget-view+json": {
       "model_id": "bccc3eb16c0b4673a21c1f104ebe87c1",
       "version_major": 2,
       "version_minor": 0
      },
      "text/plain": [
       "Epoch: 23:   0%|          | 0/468 [00:00<?, ?it/s]"
      ]
     },
     "metadata": {},
     "output_type": "display_data"
    },
    {
     "name": "stdout",
     "output_type": "stream",
     "text": [
      "Epoch [23], val_loss: 1.6062, val_acc: 0.5584, train_loss: 1.3019\n"
     ]
    },
    {
     "data": {
      "application/vnd.jupyter.widget-view+json": {
       "model_id": "a56e8c5225bf4013b6b5f09266981a74",
       "version_major": 2,
       "version_minor": 0
      },
      "text/plain": [
       "Epoch: 24:   0%|          | 0/468 [00:00<?, ?it/s]"
      ]
     },
     "metadata": {},
     "output_type": "display_data"
    },
    {
     "name": "stdout",
     "output_type": "stream",
     "text": [
      "Epoch [24], val_loss: 1.6187, val_acc: 0.5432, train_loss: 1.2996\n"
     ]
    }
   ],
   "source": [
    "history = fit(num_epochs, lr, net, train_dl, test_dl, optimizer)"
   ]
  },
  {
   "cell_type": "markdown",
   "id": "bb2ca953",
   "metadata": {},
   "source": [
    "## Save/Load model"
   ]
  },
  {
   "cell_type": "code",
   "execution_count": null,
   "id": "5f771f74",
   "metadata": {},
   "outputs": [],
   "source": [
    "if not os.path.isdir(models_directory):\n",
    "    os.makedirs(name = models_directory)\n",
    "model_path = os.path.join(models_directory,f\"classifier_{dataset_name}.pt\")\n"
   ]
  },
  {
   "cell_type": "code",
   "execution_count": null,
   "id": "5f28e342",
   "metadata": {},
   "outputs": [],
   "source": [
    "torch.save(net.state_dict(), model_path)"
   ]
  },
  {
   "cell_type": "code",
   "execution_count": null,
   "id": "e9cc002d",
   "metadata": {},
   "outputs": [
    {
     "data": {
      "text/plain": [
       "Net(\n",
       "  (loss_function): CrossEntropyLoss()\n",
       "  (conv1): Conv2d(1, 64, kernel_size=(3, 3), stride=(1, 1))\n",
       "  (pool1): MaxPool2d(kernel_size=3, stride=2, padding=1, dilation=1, ceil_mode=False)\n",
       "  (norm1): BatchNorm2d(64, eps=1e-05, momentum=0.1, affine=True, track_running_stats=True)\n",
       "  (conv2): Conv2d(64, 128, kernel_size=(3, 3), stride=(1, 1))\n",
       "  (pool2): MaxPool2d(kernel_size=3, stride=2, padding=1, dilation=1, ceil_mode=False)\n",
       "  (norm2): BatchNorm2d(128, eps=1e-05, momentum=0.1, affine=True, track_running_stats=True)\n",
       "  (fc1): Linear(in_features=15488, out_features=256, bias=True)\n",
       "  (fc2): Linear(in_features=256, out_features=256, bias=True)\n",
       "  (fc): Linear(in_features=256, out_features=7, bias=True)\n",
       ")"
      ]
     },
     "execution_count": 21,
     "metadata": {},
     "output_type": "execute_result"
    }
   ],
   "source": [
    "net = Net(loss_function, metrics, len(classes))\n",
    "net.load_state_dict(torch.load(model_path))\n",
    "net.cuda()"
   ]
  },
  {
   "cell_type": "markdown",
   "id": "236fc3f4",
   "metadata": {},
   "source": [
    "## Model testing"
   ]
  },
  {
   "cell_type": "code",
   "execution_count": 53,
   "id": "80408890-316b-40cd-8fc5-dd52ce74c996",
   "metadata": {},
   "outputs": [
    {
     "name": "stderr",
     "output_type": "stream",
     "text": [
      "C:\\Users\\Franc\\AppData\\Local\\Temp\\ipykernel_284\\3262377354.py:26: UserWarning: Implicit dimension choice for softmax has been deprecated. Change the call to include dim=X as an argument.\n",
      "  output = F.softmax(input = output)\n"
     ]
    },
    {
     "data": {
      "text/plain": [
       "{'val_loss': 1.6166155338287354, 'val_acc': 0.5428977608680725}"
      ]
     },
     "execution_count": 53,
     "metadata": {},
     "output_type": "execute_result"
    }
   ],
   "source": [
    "evaluate(net, test_dl)"
   ]
  },
  {
   "cell_type": "code",
   "execution_count": 54,
   "id": "1403cef9-c12a-4e66-9565-7f8b7eaf2f38",
   "metadata": {},
   "outputs": [
    {
     "data": {
      "application/vnd.jupyter.widget-view+json": {
       "model_id": "95e410cb4c2f46549782cc9f9b0f6345",
       "version_major": 2,
       "version_minor": 0
      },
      "text/plain": [
       "  0%|          | 0/11 [00:00<?, ?it/s]"
      ]
     },
     "metadata": {},
     "output_type": "display_data"
    },
    {
     "name": "stderr",
     "output_type": "stream",
     "text": [
      "C:\\Users\\Franc\\AppData\\Local\\Temp\\ipykernel_284\\3262377354.py:26: UserWarning: Implicit dimension choice for softmax has been deprecated. Change the call to include dim=X as an argument.\n",
      "  output = F.softmax(input = output)\n"
     ]
    },
    {
     "name": "stdout",
     "output_type": "stream",
     "text": [
      "Accuracy of the network on the test images: 54 %\n"
     ]
    }
   ],
   "source": [
    "correct = 0\n",
    "total = 0\n",
    "# since we're not training, we don't need to calculate the gradients for our outputs\n",
    "with torch.no_grad():\n",
    "    for data in tqdm(test_dl):\n",
    "        images, labels = data[0].to(device), data[1].to(device)\n",
    "        # calculate outputs by running images through the network\n",
    "        outputs = net(images)\n",
    "        # the class with the highest energy is what we choose as prediction\n",
    "        _, predicted = torch.max(outputs.data, 1)\n",
    "        total += labels.size(0)\n",
    "        correct += (predicted == labels).sum().item()\n",
    "\n",
    "print(f'Accuracy of the network on the test images: {100 * correct // total} %')"
   ]
  },
  {
   "cell_type": "code",
   "execution_count": 55,
   "id": "158b7789-29fe-43c3-9821-11cb5215fb60",
   "metadata": {},
   "outputs": [
    {
     "data": {
      "application/vnd.jupyter.widget-view+json": {
       "model_id": "a18fecee14a04b5892964d8f38ecfed0",
       "version_major": 2,
       "version_minor": 0
      },
      "text/plain": [
       "  0%|          | 0/11 [00:00<?, ?it/s]"
      ]
     },
     "metadata": {},
     "output_type": "display_data"
    },
    {
     "name": "stderr",
     "output_type": "stream",
     "text": [
      "C:\\Users\\Franc\\AppData\\Local\\Temp\\ipykernel_284\\3262377354.py:26: UserWarning: Implicit dimension choice for softmax has been deprecated. Change the call to include dim=X as an argument.\n",
      "  output = F.softmax(input = output)\n"
     ]
    },
    {
     "name": "stdout",
     "output_type": "stream",
     "text": [
      "Accuracy for class: angry is 47.0 %\n",
      "Accuracy for class: disgust is 51.0 %\n",
      "Accuracy for class: fear  is 30.0 %\n",
      "Accuracy for class: happy is 71.0 %\n",
      "Accuracy for class: neutral is 51.0 %\n",
      "Accuracy for class: sad   is 51.0 %\n",
      "Accuracy for class: surprise is 79.0 %\n"
     ]
    }
   ],
   "source": [
    "correct_pred = {classname: 0 for classname in classes}\n",
    "total_pred = {classname: 0 for classname in classes}\n",
    "\n",
    "# again no gradients needed\n",
    "with torch.no_grad():\n",
    "    for data in tqdm(test_dl):\n",
    "        images, labels = data[0].to(device), data[1].to(device)\n",
    "        outputs = net(images)\n",
    "        _, predictions = torch.max(outputs, 1)\n",
    "        # collect the correct predictions for each class\n",
    "        for label, prediction in zip(labels, predictions):\n",
    "            if label == prediction:\n",
    "                correct_pred[classes[label]] += 1\n",
    "            total_pred[classes[label]] += 1\n",
    "\n",
    "\n",
    "# print accuracy for each class\n",
    "for classname, correct_count in correct_pred.items():\n",
    "    accuracy = 100 * float(correct_count) / total_pred[classname]\n",
    "    print(f'Accuracy for class: {classname:5s} is {accuracy:.1f} %')"
   ]
  },
  {
   "cell_type": "code",
   "execution_count": null,
   "id": "767bda14-919f-42f6-940e-7a31ab451993",
   "metadata": {},
   "outputs": [],
   "source": []
  }
 ],
 "metadata": {
  "kernelspec": {
   "display_name": "Python 3.9.13 64-bit (system)",
   "language": "python",
   "name": "python3"
  },
  "language_info": {
   "codemirror_mode": {
    "name": "ipython",
    "version": 3
   },
   "file_extension": ".py",
   "mimetype": "text/x-python",
   "name": "python",
   "nbconvert_exporter": "python",
   "pygments_lexer": "ipython3",
   "version": "3.9.13"
  },
  "vscode": {
   "interpreter": {
    "hash": "4c1f182555212a9854645afbacc562781dae715ef930cf4cbb779c01705a033a"
   }
  }
 },
 "nbformat": 4,
 "nbformat_minor": 5
}
