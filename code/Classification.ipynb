{
 "cells": [
  {
   "cell_type": "markdown",
   "id": "64b0897f",
   "metadata": {},
   "source": [
    "# Classifier"
   ]
  },
  {
   "cell_type": "markdown",
   "id": "08a9de04",
   "metadata": {},
   "source": [
    "## Import libraries"
   ]
  },
  {
   "cell_type": "code",
   "execution_count": 1,
   "id": "f30487ab-c2a7-4231-80cd-942fbc97e0a4",
   "metadata": {},
   "outputs": [],
   "source": [
    "import torch\n",
    "import torch.nn as nn\n",
    "import torch.nn.functional as F\n",
    "import torch.optim as optim\n",
    "import os\n",
    "import sys\n",
    "from tqdm.notebook import tqdm, trange\n",
    "from time import sleep\n",
    "from torchvision.io import read_image\n",
    "from torchvision.transforms import ToTensor\n",
    "from torchvision import transforms\n",
    "from torchsummary import summary\n",
    "from torch.utils.data import DataLoader\n",
    "from torchvision.datasets import ImageFolder\n",
    "from collections import Counter\n",
    "import numpy as np\n",
    "from sklearn.metrics import roc_curve, auc\n",
    "from sklearn import datasets\n",
    "from sklearn.multiclass import OneVsRestClassifier\n",
    "from sklearn.svm import LinearSVC\n",
    "from sklearn.preprocessing import label_binarize\n",
    "from sklearn.model_selection import train_test_split\n",
    "import matplotlib.pyplot as plt\n",
    "import pandas as pd\n",
    "from sklearn.model_selection import StratifiedKFold\n",
    "\n",
    "import winsound\n"
   ]
  },
  {
   "cell_type": "code",
   "execution_count": 2,
   "id": "b0cc28d1",
   "metadata": {},
   "outputs": [],
   "source": [
    "seed = 23\n",
    "save_model = True\n",
    "load_model = False\n",
    "\n",
    "models_directory = \"final_models\"\n",
    "metrics_directory = \"final_metrics\"\n",
    "metrics_name = \"metrics_filtered_early.csv\"\n",
    "dataset_name = \"Fer2013_filtered_uniform_aug_disgust100_residual05_identity05\"\n",
    "train_df_path = f\"../datasets/{dataset_name}/train\"\n",
    "test_df_path = f\"../datasets/{dataset_name}/test\"\n",
    "\n",
    "batch_size = 64"
   ]
  },
  {
   "cell_type": "code",
   "execution_count": 3,
   "id": "51d3e35d",
   "metadata": {},
   "outputs": [],
   "source": [
    "if not os.path.isdir(models_directory):\n",
    "    os.makedirs(name = models_directory)\n",
    "models_directory_data = os.path.join(models_directory,dataset_name)\n",
    "if not os.path.isdir(models_directory_data):\n",
    "    os.makedirs(name = models_directory_data)"
   ]
  },
  {
   "cell_type": "markdown",
   "id": "ed5c4b34",
   "metadata": {},
   "source": [
    "## Functions definition"
   ]
  },
  {
   "cell_type": "code",
   "execution_count": 4,
   "id": "084cd3c3-e57c-434e-9669-2ff06fa1d080",
   "metadata": {},
   "outputs": [],
   "source": [
    "def get_default_device():\n",
    "    \"\"\"Pick GPU if available, else CPU\"\"\"\n",
    "    if torch.cuda.is_available():\n",
    "        return torch.device('cuda')\n",
    "    else:\n",
    "        return torch.device('cpu')\n",
    "    \n",
    "def to_device(data, device):\n",
    "    \"\"\"Move tensor(s) to chosen device\"\"\"\n",
    "    if isinstance(data, (list,tuple)):\n",
    "        return [to_device(x, device) for x in data]\n",
    "    return data.to(device, non_blocking=True)"
   ]
  },
  {
   "cell_type": "code",
   "execution_count": 5,
   "id": "e0a6ad2d-46c4-4553-94e6-5459666c6a9e",
   "metadata": {},
   "outputs": [],
   "source": [
    "@torch.no_grad()\n",
    "def evaluate(model, val_loader):\n",
    "    model.eval()\n",
    "    outputs = [model.validation_step(batch) for batch in val_loader]\n",
    "    return model.validation_epoch_end(outputs)\n",
    "\n",
    "def get_lr(optimizer):\n",
    "    for param_group in optimizer.param_groups:\n",
    "        return param_group['lr']\n",
    "\n",
    "def fit(epochs, patience, lr, model, train_loader, val_loader, opt_func=torch.optim.SGD, scheduler_func=None, fold = None):\n",
    "    history = []\n",
    "    optimizer = opt_func(model.parameters(), lr, betas=(0.5,0.999))\n",
    "    scheduler = scheduler_func(optimizer, mode='min', patience=3, factor = 0.5) # Reduce lr by half\n",
    "    min_val_loss = sys.float_info.max\n",
    "    patience_cnt = 0\n",
    "    for epoch in tqdm(range(epochs), desc = \"Current Epoch\"):\n",
    "        # Training Phase \n",
    "        model.train()\n",
    "        train_losses = []\n",
    "        for batch in tqdm(train_loader, desc = f\"Epoch: {epoch}\", leave= False):\n",
    "            optimizer.zero_grad()\n",
    "            loss = model.training_step(batch)\n",
    "            train_losses.append(loss)\n",
    "            loss.backward()\n",
    "            optimizer.step()\n",
    "        # Validation phase\n",
    "        result = evaluate(model, val_loader)\n",
    "        result['train_loss'] = torch.stack(train_losses).mean().item()\n",
    "\n",
    "        scheduler.step(result['val_loss'])\n",
    "        result['lrate'] = get_lr(optimizer)\n",
    "\n",
    "        if epoch > 0 and min_val_loss - result['val_loss'] >= 1e-4:\n",
    "            patience_cnt = 0\n",
    "        else:\n",
    "            patience_cnt += 1\n",
    "            \n",
    "        if result['val_loss'] <= min_val_loss:\n",
    "            min_val_loss = result['val_loss']\n",
    "            min_val_epoch = epoch\n",
    "            model_path = os.path.join(models_directory_data,f\"classifier_fold_{fold}.pt\")\n",
    "            torch.save(model.state_dict(), model_path)\n",
    "\n",
    "        if patience_cnt >= patience:\n",
    "            print('Early stopping')\n",
    "            break\n",
    "\n",
    "        model.epoch_end(epoch, result)\n",
    "        history.append(result)\n",
    "    model.load_state_dict(torch.load(os.path.join(models_directory_data,f\"classifier_fold_{fold}.pt\")))\n",
    "    return history,min_val_epoch"
   ]
  },
  {
   "cell_type": "markdown",
   "id": "ca246c54",
   "metadata": {},
   "source": [
    "## Class definition"
   ]
  },
  {
   "cell_type": "code",
   "execution_count": 6,
   "id": "30e57e57",
   "metadata": {},
   "outputs": [],
   "source": [
    "class DeviceDataLoader():\n",
    "    \"\"\"Wrap a dataloader to move data to a device\"\"\"\n",
    "    def __init__(self, dl, device):\n",
    "        self.dl = dl\n",
    "        self.device = device\n",
    "        \n",
    "    def __iter__(self):\n",
    "        \"\"\"Yield a batch of data after moving it to device\"\"\"\n",
    "        for b in self.dl: \n",
    "            yield to_device(b, self.device)\n",
    "\n",
    "    def __len__(self):\n",
    "        \"\"\"Number of batches\"\"\"\n",
    "        return len(self.dl)"
   ]
  },
  {
   "cell_type": "code",
   "execution_count": 7,
   "id": "1042dd71-2d30-4b9e-b7fd-dc0178421675",
   "metadata": {},
   "outputs": [],
   "source": [
    "class Metric():\n",
    "    def __init__(self, name):\n",
    "        self.name = name\n",
    "    \n",
    "    def eval(self, outputs, labels):\n",
    "        pass"
   ]
  },
  {
   "cell_type": "code",
   "execution_count": 8,
   "id": "6ab563e9-aeac-45c8-a5da-e99f8cbc54ca",
   "metadata": {},
   "outputs": [],
   "source": [
    "class Accuracy(Metric):\n",
    "    \n",
    "    def eval(self, outputs, labels):\n",
    "        _, preds = torch.max(outputs, dim=1)\n",
    "        return torch.tensor(torch.sum(preds == labels).item() / len(preds))"
   ]
  },
  {
   "cell_type": "code",
   "execution_count": 9,
   "id": "1977248f-bcac-4d98-806b-013f3fa7e6f4",
   "metadata": {},
   "outputs": [],
   "source": [
    "class ImageClassificationBase(nn.Module):\n",
    "    \n",
    "    def __init__(self, loss_function, metrics):\n",
    "        super().__init__()\n",
    "        self.loss_function = loss_function\n",
    "        self.metrics = metrics\n",
    "    \n",
    "    def training_step(self, batch):\n",
    "        images, labels = batch \n",
    "        out = self(images)                  # Generate predictions\n",
    "        loss = self.loss_function(out, labels) # Calculate loss\n",
    "        return loss\n",
    "    \n",
    "    def validation_step(self, batch):\n",
    "        images, labels = batch \n",
    "        out = self(images)                    # Generate predictions\n",
    "        loss = self.loss_function(out, labels)   # Calculate loss\n",
    "        result = {'val_loss': loss.detach()}\n",
    "        \n",
    "        for m in self.metrics:\n",
    "            result[m.name] = m.eval(out, labels)           # Calculate metrics\n",
    "            \n",
    "        return result\n",
    "        \n",
    "    def validation_epoch_end(self, outputs):\n",
    "        batch_losses = [x['val_loss'] for x in outputs]\n",
    "        epoch_loss = torch.stack(batch_losses).mean()   # Combine losses\n",
    "        \n",
    "        result = {'val_loss': epoch_loss.item()}\n",
    "        \n",
    "        for m in self.metrics:\n",
    "            batch = [x[m.name] for x in outputs]\n",
    "            epoch = torch.stack(batch).mean()      # Combine metrics\n",
    "            result[m.name] = epoch.item()\n",
    "            \n",
    "        return result\n",
    "    \n",
    "    def epoch_end(self, epoch, result):\n",
    "        out = f\"Epoch [{epoch}]\"\n",
    "        vals = list(result.keys())\n",
    "        for v in vals:\n",
    "            out += f\", {v}: {result[v]:.3e}\"\n",
    "        print(out)\n",
    "        "
   ]
  },
  {
   "cell_type": "code",
   "execution_count": 10,
   "id": "125ec41f-92e5-4844-bc89-6eeb84c08eb6",
   "metadata": {},
   "outputs": [],
   "source": [
    "class Net(ImageClassificationBase):\n",
    "    \n",
    "    def __init__(self, loss_function, metrics, out_size):\n",
    "        super().__init__(loss_function, metrics)\n",
    "        self.conv1 = nn.Conv2d(in_channels=1, out_channels=32, kernel_size=3, stride=1)\n",
    "        self.pool1 = nn.MaxPool2d(kernel_size=3,stride=2, padding=1)\n",
    "        self.norm1 = nn.BatchNorm2d(32)\n",
    "        self.conv2 = nn.Conv2d(in_channels=32, out_channels=64, kernel_size=3, stride=1)\n",
    "        self.pool2 = nn.MaxPool2d(kernel_size=3,stride=2, padding=1)\n",
    "        self.norm2 = nn.BatchNorm2d(64)\n",
    "        self.conv3 = nn.Conv2d(in_channels=64, out_channels=128, kernel_size=3, stride=1)\n",
    "        self.pool3 = nn.MaxPool2d(kernel_size=3, stride=2, padding=1)\n",
    "        self.norm3 = nn.BatchNorm2d(128)\n",
    "        self.fc1 = nn.Linear(in_features=128*5*5, out_features=256)\n",
    "        #self.fc2 = nn.Linear(in_features=256, out_features=256)\n",
    "        self.fc = nn.Linear(256, out_size)\n",
    "\n",
    "    def forward(self, input):\n",
    "        output = self.norm1(self.pool1(F.relu(self.conv1(input))))\n",
    "        output = self.norm2(self.pool2(F.relu(self.conv2((output)))))\n",
    "        output = self.norm3(self.pool3(F.relu(self.conv3((output)))))\n",
    "        output = output.view(-1, 128*5*5)\n",
    "        output = F.relu(self.fc1(output))\n",
    "        #output = F.relu(self.fc2(output))\n",
    "        output = self.fc(output)\n",
    "        output = F.softmax(input = output, dim=-1)\n",
    "        return output"
   ]
  },
  {
   "cell_type": "code",
   "execution_count": 11,
   "id": "1bb92e60",
   "metadata": {},
   "outputs": [
    {
     "name": "stdout",
     "output_type": "stream",
     "text": [
      "cuda\n"
     ]
    }
   ],
   "source": [
    "device = get_default_device()\n",
    "print(device)"
   ]
  },
  {
   "cell_type": "markdown",
   "id": "76ef2e5b",
   "metadata": {},
   "source": [
    "## Dataset loading"
   ]
  },
  {
   "cell_type": "code",
   "execution_count": 12,
   "id": "5f983610-8ba7-4afc-81b4-44c255c5257c",
   "metadata": {},
   "outputs": [],
   "source": [
    "df_train = ImageFolder(root=train_df_path, transform=transforms.Compose([transforms.Grayscale(num_output_channels=1),\n",
    "                                     transforms.ToTensor()]))\n",
    "df_test = ImageFolder(root=test_df_path, transform=transforms.Compose([transforms.Grayscale(num_output_channels=1),\n",
    "                                     transforms.ToTensor()]))"
   ]
  },
  {
   "cell_type": "code",
   "execution_count": 13,
   "id": "e8d4b406",
   "metadata": {},
   "outputs": [],
   "source": [
    "train_dl = DeviceDataLoader(DataLoader(df_train, batch_size=batch_size),device)\n",
    "test_dl = DeviceDataLoader(DataLoader(df_test, batch_size=batch_size, shuffle=False),device)"
   ]
  },
  {
   "cell_type": "code",
   "execution_count": 14,
   "id": "72f96e28-c09a-4c5f-836b-51ea2ae0ed52",
   "metadata": {},
   "outputs": [
    {
     "data": {
      "text/plain": [
       "['angry', 'disgust', 'fear', 'happy', 'neutral', 'sad', 'surprise']"
      ]
     },
     "execution_count": 14,
     "metadata": {},
     "output_type": "execute_result"
    }
   ],
   "source": [
    "classes = df_train.classes\n",
    "classes"
   ]
  },
  {
   "cell_type": "code",
   "execution_count": 15,
   "id": "48aa05f0",
   "metadata": {},
   "outputs": [
    {
     "name": "stdout",
     "output_type": "stream",
     "text": [
      "{0: 3715, 1: 421, 2: 3320, 3: 7867, 4: 4963, 5: 4679, 6: 3376}\n",
      "tensor([0.1133, 1.0000, 0.1268, 0.0535, 0.0848, 0.0900, 0.1247])\n"
     ]
    }
   ],
   "source": [
    "counts = dict(Counter(df_train.targets))\n",
    "print(counts)\n",
    "weights = np.array(list(counts.values()))\n",
    "weights = torch.Tensor( min(weights)/weights)\n",
    "print(weights)"
   ]
  },
  {
   "cell_type": "markdown",
   "id": "793bf2de",
   "metadata": {},
   "source": [
    "## Model design and Training"
   ]
  },
  {
   "cell_type": "code",
   "execution_count": 16,
   "id": "62f2c2a4",
   "metadata": {},
   "outputs": [],
   "source": [
    "loss_function = nn.CrossEntropyLoss(weight = weights)\n",
    "metrics = []\n",
    "optimizer = optim.Adam\n",
    "scheduler = optim.lr_scheduler.ReduceLROnPlateau\n",
    "\n",
    "lr = 0.0001\n",
    "num_epochs = 100\n",
    "patience = 5"
   ]
  },
  {
   "cell_type": "code",
   "execution_count": 17,
   "id": "94ef4dba-0260-4d4a-947b-52ecf388c783",
   "metadata": {},
   "outputs": [
    {
     "name": "stdout",
     "output_type": "stream",
     "text": [
      "------------fold no---------0----------------------\n"
     ]
    },
    {
     "data": {
      "application/vnd.jupyter.widget-view+json": {
       "model_id": "459138d6698b4f1c9eb1929b682f46b7",
       "version_major": 2,
       "version_minor": 0
      },
      "text/plain": [
       "Current Epoch:   0%|          | 0/100 [00:00<?, ?it/s]"
      ]
     },
     "metadata": {},
     "output_type": "display_data"
    },
    {
     "data": {
      "application/vnd.jupyter.widget-view+json": {
       "model_id": "22f790afd79145479bcc766c9267363e",
       "version_major": 2,
       "version_minor": 0
      },
      "text/plain": [
       "Epoch: 0:   0%|          | 0/399 [00:00<?, ?it/s]"
      ]
     },
     "metadata": {},
     "output_type": "display_data"
    },
    {
     "name": "stdout",
     "output_type": "stream",
     "text": [
      "Epoch [0], val_loss: 1.651e+00, train_loss: 1.745e+00, lrate: 1.000e-04\n"
     ]
    },
    {
     "data": {
      "application/vnd.jupyter.widget-view+json": {
       "model_id": "7ebae86474394cdc8a6d61bb308c4df7",
       "version_major": 2,
       "version_minor": 0
      },
      "text/plain": [
       "Epoch: 1:   0%|          | 0/399 [00:00<?, ?it/s]"
      ]
     },
     "metadata": {},
     "output_type": "display_data"
    },
    {
     "name": "stdout",
     "output_type": "stream",
     "text": [
      "Epoch [1], val_loss: 1.591e+00, train_loss: 1.588e+00, lrate: 1.000e-04\n"
     ]
    },
    {
     "data": {
      "application/vnd.jupyter.widget-view+json": {
       "model_id": "f0f1578c75ec4b9f9870c6965fa799e7",
       "version_major": 2,
       "version_minor": 0
      },
      "text/plain": [
       "Epoch: 2:   0%|          | 0/399 [00:00<?, ?it/s]"
      ]
     },
     "metadata": {},
     "output_type": "display_data"
    },
    {
     "name": "stdout",
     "output_type": "stream",
     "text": [
      "Epoch [2], val_loss: 1.566e+00, train_loss: 1.523e+00, lrate: 1.000e-04\n"
     ]
    },
    {
     "data": {
      "application/vnd.jupyter.widget-view+json": {
       "model_id": "659635bb35fe4d648085b451a190babe",
       "version_major": 2,
       "version_minor": 0
      },
      "text/plain": [
       "Epoch: 3:   0%|          | 0/399 [00:00<?, ?it/s]"
      ]
     },
     "metadata": {},
     "output_type": "display_data"
    },
    {
     "name": "stdout",
     "output_type": "stream",
     "text": [
      "Epoch [3], val_loss: 1.540e+00, train_loss: 1.475e+00, lrate: 1.000e-04\n"
     ]
    },
    {
     "data": {
      "application/vnd.jupyter.widget-view+json": {
       "model_id": "a1029707359d4a2ab6ae0167470b19e8",
       "version_major": 2,
       "version_minor": 0
      },
      "text/plain": [
       "Epoch: 4:   0%|          | 0/399 [00:00<?, ?it/s]"
      ]
     },
     "metadata": {},
     "output_type": "display_data"
    },
    {
     "name": "stdout",
     "output_type": "stream",
     "text": [
      "Epoch [4], val_loss: 1.531e+00, train_loss: 1.441e+00, lrate: 1.000e-04\n"
     ]
    },
    {
     "data": {
      "application/vnd.jupyter.widget-view+json": {
       "model_id": "a98d6d6141184622a536b819e7277500",
       "version_major": 2,
       "version_minor": 0
      },
      "text/plain": [
       "Epoch: 5:   0%|          | 0/399 [00:00<?, ?it/s]"
      ]
     },
     "metadata": {},
     "output_type": "display_data"
    },
    {
     "name": "stdout",
     "output_type": "stream",
     "text": [
      "Epoch [5], val_loss: 1.527e+00, train_loss: 1.409e+00, lrate: 1.000e-04\n"
     ]
    },
    {
     "data": {
      "application/vnd.jupyter.widget-view+json": {
       "model_id": "31a999b5b3d24fbea37a0f50acf23fa9",
       "version_major": 2,
       "version_minor": 0
      },
      "text/plain": [
       "Epoch: 6:   0%|          | 0/399 [00:00<?, ?it/s]"
      ]
     },
     "metadata": {},
     "output_type": "display_data"
    },
    {
     "name": "stdout",
     "output_type": "stream",
     "text": [
      "Epoch [6], val_loss: 1.528e+00, train_loss: 1.384e+00, lrate: 1.000e-04\n"
     ]
    },
    {
     "data": {
      "application/vnd.jupyter.widget-view+json": {
       "model_id": "62b88810447d4b0685f2cb3b48df4337",
       "version_major": 2,
       "version_minor": 0
      },
      "text/plain": [
       "Epoch: 7:   0%|          | 0/399 [00:00<?, ?it/s]"
      ]
     },
     "metadata": {},
     "output_type": "display_data"
    },
    {
     "name": "stdout",
     "output_type": "stream",
     "text": [
      "Epoch [7], val_loss: 1.516e+00, train_loss: 1.363e+00, lrate: 1.000e-04\n"
     ]
    },
    {
     "data": {
      "application/vnd.jupyter.widget-view+json": {
       "model_id": "1752b26defc74a1d967cdb3b71ad9e11",
       "version_major": 2,
       "version_minor": 0
      },
      "text/plain": [
       "Epoch: 8:   0%|          | 0/399 [00:00<?, ?it/s]"
      ]
     },
     "metadata": {},
     "output_type": "display_data"
    },
    {
     "name": "stdout",
     "output_type": "stream",
     "text": [
      "Epoch [8], val_loss: 1.523e+00, train_loss: 1.341e+00, lrate: 1.000e-04\n"
     ]
    },
    {
     "data": {
      "application/vnd.jupyter.widget-view+json": {
       "model_id": "5a576789d2bd45b78e42700a0728bd51",
       "version_major": 2,
       "version_minor": 0
      },
      "text/plain": [
       "Epoch: 9:   0%|          | 0/399 [00:00<?, ?it/s]"
      ]
     },
     "metadata": {},
     "output_type": "display_data"
    },
    {
     "name": "stdout",
     "output_type": "stream",
     "text": [
      "Epoch [9], val_loss: 1.519e+00, train_loss: 1.325e+00, lrate: 1.000e-04\n"
     ]
    },
    {
     "data": {
      "application/vnd.jupyter.widget-view+json": {
       "model_id": "511aab507be743c7a98059dcb323af4b",
       "version_major": 2,
       "version_minor": 0
      },
      "text/plain": [
       "Epoch: 10:   0%|          | 0/399 [00:00<?, ?it/s]"
      ]
     },
     "metadata": {},
     "output_type": "display_data"
    },
    {
     "name": "stdout",
     "output_type": "stream",
     "text": [
      "Epoch [10], val_loss: 1.510e+00, train_loss: 1.311e+00, lrate: 1.000e-04\n"
     ]
    },
    {
     "data": {
      "application/vnd.jupyter.widget-view+json": {
       "model_id": "eb51caf0c19343afb6a2874111b5bb45",
       "version_major": 2,
       "version_minor": 0
      },
      "text/plain": [
       "Epoch: 11:   0%|          | 0/399 [00:00<?, ?it/s]"
      ]
     },
     "metadata": {},
     "output_type": "display_data"
    },
    {
     "name": "stdout",
     "output_type": "stream",
     "text": [
      "Epoch [11], val_loss: 1.513e+00, train_loss: 1.297e+00, lrate: 1.000e-04\n"
     ]
    },
    {
     "data": {
      "application/vnd.jupyter.widget-view+json": {
       "model_id": "d60df07778a9470c9a8db1db7f738a29",
       "version_major": 2,
       "version_minor": 0
      },
      "text/plain": [
       "Epoch: 12:   0%|          | 0/399 [00:00<?, ?it/s]"
      ]
     },
     "metadata": {},
     "output_type": "display_data"
    },
    {
     "name": "stdout",
     "output_type": "stream",
     "text": [
      "Epoch [12], val_loss: 1.516e+00, train_loss: 1.285e+00, lrate: 1.000e-04\n"
     ]
    },
    {
     "data": {
      "application/vnd.jupyter.widget-view+json": {
       "model_id": "fec15668ff5f44368b368bf40cad0bed",
       "version_major": 2,
       "version_minor": 0
      },
      "text/plain": [
       "Epoch: 13:   0%|          | 0/399 [00:00<?, ?it/s]"
      ]
     },
     "metadata": {},
     "output_type": "display_data"
    },
    {
     "name": "stdout",
     "output_type": "stream",
     "text": [
      "Epoch [13], val_loss: 1.512e+00, train_loss: 1.276e+00, lrate: 1.000e-04\n"
     ]
    },
    {
     "data": {
      "application/vnd.jupyter.widget-view+json": {
       "model_id": "343aa1a8157349b49498d9fbca653fbc",
       "version_major": 2,
       "version_minor": 0
      },
      "text/plain": [
       "Epoch: 14:   0%|          | 0/399 [00:00<?, ?it/s]"
      ]
     },
     "metadata": {},
     "output_type": "display_data"
    },
    {
     "name": "stdout",
     "output_type": "stream",
     "text": [
      "Epoch [14], val_loss: 1.512e+00, train_loss: 1.270e+00, lrate: 5.000e-05\n"
     ]
    },
    {
     "data": {
      "application/vnd.jupyter.widget-view+json": {
       "model_id": "8fdf6e59a40246088d4f91524e19acc7",
       "version_major": 2,
       "version_minor": 0
      },
      "text/plain": [
       "Epoch: 15:   0%|          | 0/399 [00:00<?, ?it/s]"
      ]
     },
     "metadata": {},
     "output_type": "display_data"
    },
    {
     "name": "stdout",
     "output_type": "stream",
     "text": [
      "Epoch [15], val_loss: 1.505e+00, train_loss: 1.256e+00, lrate: 5.000e-05\n"
     ]
    },
    {
     "data": {
      "application/vnd.jupyter.widget-view+json": {
       "model_id": "f18bf47251114f7a9fe295e925a9188e",
       "version_major": 2,
       "version_minor": 0
      },
      "text/plain": [
       "Epoch: 16:   0%|          | 0/399 [00:00<?, ?it/s]"
      ]
     },
     "metadata": {},
     "output_type": "display_data"
    },
    {
     "name": "stdout",
     "output_type": "stream",
     "text": [
      "Epoch [16], val_loss: 1.506e+00, train_loss: 1.250e+00, lrate: 5.000e-05\n"
     ]
    },
    {
     "data": {
      "application/vnd.jupyter.widget-view+json": {
       "model_id": "289bcee5bf8849d586095e7f164d6d1d",
       "version_major": 2,
       "version_minor": 0
      },
      "text/plain": [
       "Epoch: 17:   0%|          | 0/399 [00:00<?, ?it/s]"
      ]
     },
     "metadata": {},
     "output_type": "display_data"
    },
    {
     "name": "stdout",
     "output_type": "stream",
     "text": [
      "Epoch [17], val_loss: 1.503e+00, train_loss: 1.248e+00, lrate: 5.000e-05\n"
     ]
    },
    {
     "data": {
      "application/vnd.jupyter.widget-view+json": {
       "model_id": "608df0fcb3d849d4989e67e108896af2",
       "version_major": 2,
       "version_minor": 0
      },
      "text/plain": [
       "Epoch: 18:   0%|          | 0/399 [00:00<?, ?it/s]"
      ]
     },
     "metadata": {},
     "output_type": "display_data"
    },
    {
     "name": "stdout",
     "output_type": "stream",
     "text": [
      "Epoch [18], val_loss: 1.499e+00, train_loss: 1.245e+00, lrate: 5.000e-05\n"
     ]
    },
    {
     "data": {
      "application/vnd.jupyter.widget-view+json": {
       "model_id": "b5e0e6285db542218390c7f49757a2ad",
       "version_major": 2,
       "version_minor": 0
      },
      "text/plain": [
       "Epoch: 19:   0%|          | 0/399 [00:00<?, ?it/s]"
      ]
     },
     "metadata": {},
     "output_type": "display_data"
    },
    {
     "name": "stdout",
     "output_type": "stream",
     "text": [
      "Epoch [19], val_loss: 1.502e+00, train_loss: 1.242e+00, lrate: 5.000e-05\n"
     ]
    },
    {
     "data": {
      "application/vnd.jupyter.widget-view+json": {
       "model_id": "0bfade2995d54697b7f7c8d40549e2c3",
       "version_major": 2,
       "version_minor": 0
      },
      "text/plain": [
       "Epoch: 20:   0%|          | 0/399 [00:00<?, ?it/s]"
      ]
     },
     "metadata": {},
     "output_type": "display_data"
    },
    {
     "name": "stdout",
     "output_type": "stream",
     "text": [
      "Epoch [20], val_loss: 1.509e+00, train_loss: 1.240e+00, lrate: 5.000e-05\n"
     ]
    },
    {
     "data": {
      "application/vnd.jupyter.widget-view+json": {
       "model_id": "7f3b46e032c74174a699c0be7ecdb3e4",
       "version_major": 2,
       "version_minor": 0
      },
      "text/plain": [
       "Epoch: 21:   0%|          | 0/399 [00:00<?, ?it/s]"
      ]
     },
     "metadata": {},
     "output_type": "display_data"
    },
    {
     "name": "stdout",
     "output_type": "stream",
     "text": [
      "Epoch [21], val_loss: 1.500e+00, train_loss: 1.237e+00, lrate: 5.000e-05\n"
     ]
    },
    {
     "data": {
      "application/vnd.jupyter.widget-view+json": {
       "model_id": "849a81ff0ca0435380191639c488473c",
       "version_major": 2,
       "version_minor": 0
      },
      "text/plain": [
       "Epoch: 22:   0%|          | 0/399 [00:00<?, ?it/s]"
      ]
     },
     "metadata": {},
     "output_type": "display_data"
    },
    {
     "name": "stdout",
     "output_type": "stream",
     "text": [
      "Epoch [22], val_loss: 1.508e+00, train_loss: 1.235e+00, lrate: 2.500e-05\n"
     ]
    },
    {
     "data": {
      "application/vnd.jupyter.widget-view+json": {
       "model_id": "6298cf8aeee44a0aa4ae89649c1e70d8",
       "version_major": 2,
       "version_minor": 0
      },
      "text/plain": [
       "Epoch: 23:   0%|          | 0/399 [00:00<?, ?it/s]"
      ]
     },
     "metadata": {},
     "output_type": "display_data"
    },
    {
     "name": "stdout",
     "output_type": "stream",
     "text": [
      "Early stopping\n",
      "------------fold no---------1----------------------\n"
     ]
    },
    {
     "data": {
      "application/vnd.jupyter.widget-view+json": {
       "model_id": "57d0bb4e549846afba95124c35200c4c",
       "version_major": 2,
       "version_minor": 0
      },
      "text/plain": [
       "Current Epoch:   0%|          | 0/100 [00:00<?, ?it/s]"
      ]
     },
     "metadata": {},
     "output_type": "display_data"
    },
    {
     "data": {
      "application/vnd.jupyter.widget-view+json": {
       "model_id": "620438f74ab6470ca5a6de358c9493ef",
       "version_major": 2,
       "version_minor": 0
      },
      "text/plain": [
       "Epoch: 0:   0%|          | 0/399 [00:00<?, ?it/s]"
      ]
     },
     "metadata": {},
     "output_type": "display_data"
    },
    {
     "name": "stdout",
     "output_type": "stream",
     "text": [
      "Epoch [0], val_loss: 1.623e+00, train_loss: 1.729e+00, lrate: 1.000e-04\n"
     ]
    },
    {
     "data": {
      "application/vnd.jupyter.widget-view+json": {
       "model_id": "6fc6f202bba64a48a4c398fc22f9bd33",
       "version_major": 2,
       "version_minor": 0
      },
      "text/plain": [
       "Epoch: 1:   0%|          | 0/399 [00:00<?, ?it/s]"
      ]
     },
     "metadata": {},
     "output_type": "display_data"
    },
    {
     "name": "stdout",
     "output_type": "stream",
     "text": [
      "Epoch [1], val_loss: 1.576e+00, train_loss: 1.583e+00, lrate: 1.000e-04\n"
     ]
    },
    {
     "data": {
      "application/vnd.jupyter.widget-view+json": {
       "model_id": "0c183a3be2c74ffca6c295ebbf96ac1a",
       "version_major": 2,
       "version_minor": 0
      },
      "text/plain": [
       "Epoch: 2:   0%|          | 0/399 [00:00<?, ?it/s]"
      ]
     },
     "metadata": {},
     "output_type": "display_data"
    },
    {
     "name": "stdout",
     "output_type": "stream",
     "text": [
      "Epoch [2], val_loss: 1.552e+00, train_loss: 1.524e+00, lrate: 1.000e-04\n"
     ]
    },
    {
     "data": {
      "application/vnd.jupyter.widget-view+json": {
       "model_id": "cc34819f804b47dc9dabd68f952a9d2c",
       "version_major": 2,
       "version_minor": 0
      },
      "text/plain": [
       "Epoch: 3:   0%|          | 0/399 [00:00<?, ?it/s]"
      ]
     },
     "metadata": {},
     "output_type": "display_data"
    },
    {
     "name": "stdout",
     "output_type": "stream",
     "text": [
      "Epoch [3], val_loss: 1.541e+00, train_loss: 1.479e+00, lrate: 1.000e-04\n"
     ]
    },
    {
     "data": {
      "application/vnd.jupyter.widget-view+json": {
       "model_id": "357cdeda6c6f4f0b9cec9f40fcef5ee1",
       "version_major": 2,
       "version_minor": 0
      },
      "text/plain": [
       "Epoch: 4:   0%|          | 0/399 [00:00<?, ?it/s]"
      ]
     },
     "metadata": {},
     "output_type": "display_data"
    },
    {
     "name": "stdout",
     "output_type": "stream",
     "text": [
      "Epoch [4], val_loss: 1.538e+00, train_loss: 1.445e+00, lrate: 1.000e-04\n"
     ]
    },
    {
     "data": {
      "application/vnd.jupyter.widget-view+json": {
       "model_id": "eddd6eab58c848e5ab74694eecad7c10",
       "version_major": 2,
       "version_minor": 0
      },
      "text/plain": [
       "Epoch: 5:   0%|          | 0/399 [00:00<?, ?it/s]"
      ]
     },
     "metadata": {},
     "output_type": "display_data"
    },
    {
     "name": "stdout",
     "output_type": "stream",
     "text": [
      "Epoch [5], val_loss: 1.527e+00, train_loss: 1.418e+00, lrate: 1.000e-04\n"
     ]
    },
    {
     "data": {
      "application/vnd.jupyter.widget-view+json": {
       "model_id": "6cbc4d443c2a4bb0b360252d6922e8bf",
       "version_major": 2,
       "version_minor": 0
      },
      "text/plain": [
       "Epoch: 6:   0%|          | 0/399 [00:00<?, ?it/s]"
      ]
     },
     "metadata": {},
     "output_type": "display_data"
    },
    {
     "name": "stdout",
     "output_type": "stream",
     "text": [
      "Epoch [6], val_loss: 1.517e+00, train_loss: 1.393e+00, lrate: 1.000e-04\n"
     ]
    },
    {
     "data": {
      "application/vnd.jupyter.widget-view+json": {
       "model_id": "b7794bbc7169425ba4d6168592d4f08c",
       "version_major": 2,
       "version_minor": 0
      },
      "text/plain": [
       "Epoch: 7:   0%|          | 0/399 [00:00<?, ?it/s]"
      ]
     },
     "metadata": {},
     "output_type": "display_data"
    },
    {
     "name": "stdout",
     "output_type": "stream",
     "text": [
      "Epoch [7], val_loss: 1.499e+00, train_loss: 1.375e+00, lrate: 1.000e-04\n"
     ]
    },
    {
     "data": {
      "application/vnd.jupyter.widget-view+json": {
       "model_id": "fdf244ee526746bd8395ba475fd203c0",
       "version_major": 2,
       "version_minor": 0
      },
      "text/plain": [
       "Epoch: 8:   0%|          | 0/399 [00:00<?, ?it/s]"
      ]
     },
     "metadata": {},
     "output_type": "display_data"
    },
    {
     "name": "stdout",
     "output_type": "stream",
     "text": [
      "Epoch [8], val_loss: 1.509e+00, train_loss: 1.353e+00, lrate: 1.000e-04\n"
     ]
    },
    {
     "data": {
      "application/vnd.jupyter.widget-view+json": {
       "model_id": "f0801c56e40e4c21b748b51af81da888",
       "version_major": 2,
       "version_minor": 0
      },
      "text/plain": [
       "Epoch: 9:   0%|          | 0/399 [00:00<?, ?it/s]"
      ]
     },
     "metadata": {},
     "output_type": "display_data"
    },
    {
     "name": "stdout",
     "output_type": "stream",
     "text": [
      "Epoch [9], val_loss: 1.508e+00, train_loss: 1.334e+00, lrate: 1.000e-04\n"
     ]
    },
    {
     "data": {
      "application/vnd.jupyter.widget-view+json": {
       "model_id": "5fd4e8606b604a6d84e4b87b4467d374",
       "version_major": 2,
       "version_minor": 0
      },
      "text/plain": [
       "Epoch: 10:   0%|          | 0/399 [00:00<?, ?it/s]"
      ]
     },
     "metadata": {},
     "output_type": "display_data"
    },
    {
     "name": "stdout",
     "output_type": "stream",
     "text": [
      "Epoch [10], val_loss: 1.508e+00, train_loss: 1.321e+00, lrate: 1.000e-04\n"
     ]
    },
    {
     "data": {
      "application/vnd.jupyter.widget-view+json": {
       "model_id": "08c3a10001d043eb846565b3fb0eeb51",
       "version_major": 2,
       "version_minor": 0
      },
      "text/plain": [
       "Epoch: 11:   0%|          | 0/399 [00:00<?, ?it/s]"
      ]
     },
     "metadata": {},
     "output_type": "display_data"
    },
    {
     "name": "stdout",
     "output_type": "stream",
     "text": [
      "Epoch [11], val_loss: 1.499e+00, train_loss: 1.307e+00, lrate: 5.000e-05\n"
     ]
    },
    {
     "data": {
      "application/vnd.jupyter.widget-view+json": {
       "model_id": "277096a8a5dc49d491ff67f69aeb4986",
       "version_major": 2,
       "version_minor": 0
      },
      "text/plain": [
       "Epoch: 12:   0%|          | 0/399 [00:00<?, ?it/s]"
      ]
     },
     "metadata": {},
     "output_type": "display_data"
    },
    {
     "name": "stdout",
     "output_type": "stream",
     "text": [
      "Early stopping\n",
      "------------fold no---------2----------------------\n"
     ]
    },
    {
     "data": {
      "application/vnd.jupyter.widget-view+json": {
       "model_id": "d209e5208ae84173b18f91a2da683ca4",
       "version_major": 2,
       "version_minor": 0
      },
      "text/plain": [
       "Current Epoch:   0%|          | 0/100 [00:00<?, ?it/s]"
      ]
     },
     "metadata": {},
     "output_type": "display_data"
    },
    {
     "data": {
      "application/vnd.jupyter.widget-view+json": {
       "model_id": "7216b954070743ef94b4d355c014dab6",
       "version_major": 2,
       "version_minor": 0
      },
      "text/plain": [
       "Epoch: 0:   0%|          | 0/399 [00:00<?, ?it/s]"
      ]
     },
     "metadata": {},
     "output_type": "display_data"
    },
    {
     "name": "stdout",
     "output_type": "stream",
     "text": [
      "Epoch [0], val_loss: 1.646e+00, train_loss: 1.727e+00, lrate: 1.000e-04\n"
     ]
    },
    {
     "data": {
      "application/vnd.jupyter.widget-view+json": {
       "model_id": "e3804b36caa24471b5384159f09963d3",
       "version_major": 2,
       "version_minor": 0
      },
      "text/plain": [
       "Epoch: 1:   0%|          | 0/399 [00:00<?, ?it/s]"
      ]
     },
     "metadata": {},
     "output_type": "display_data"
    },
    {
     "name": "stdout",
     "output_type": "stream",
     "text": [
      "Epoch [1], val_loss: 1.588e+00, train_loss: 1.583e+00, lrate: 1.000e-04\n"
     ]
    },
    {
     "data": {
      "application/vnd.jupyter.widget-view+json": {
       "model_id": "61009f86ba87429889c34b89e50b4441",
       "version_major": 2,
       "version_minor": 0
      },
      "text/plain": [
       "Epoch: 2:   0%|          | 0/399 [00:00<?, ?it/s]"
      ]
     },
     "metadata": {},
     "output_type": "display_data"
    },
    {
     "name": "stdout",
     "output_type": "stream",
     "text": [
      "Epoch [2], val_loss: 1.561e+00, train_loss: 1.523e+00, lrate: 1.000e-04\n"
     ]
    },
    {
     "data": {
      "application/vnd.jupyter.widget-view+json": {
       "model_id": "a38c5d1c714c4406ad087a9878e50429",
       "version_major": 2,
       "version_minor": 0
      },
      "text/plain": [
       "Epoch: 3:   0%|          | 0/399 [00:00<?, ?it/s]"
      ]
     },
     "metadata": {},
     "output_type": "display_data"
    },
    {
     "name": "stdout",
     "output_type": "stream",
     "text": [
      "Epoch [3], val_loss: 1.546e+00, train_loss: 1.479e+00, lrate: 1.000e-04\n"
     ]
    },
    {
     "data": {
      "application/vnd.jupyter.widget-view+json": {
       "model_id": "ce1b7f19e83d4a2b8630c80f4dfff54c",
       "version_major": 2,
       "version_minor": 0
      },
      "text/plain": [
       "Epoch: 4:   0%|          | 0/399 [00:00<?, ?it/s]"
      ]
     },
     "metadata": {},
     "output_type": "display_data"
    },
    {
     "name": "stdout",
     "output_type": "stream",
     "text": [
      "Epoch [4], val_loss: 1.537e+00, train_loss: 1.442e+00, lrate: 1.000e-04\n"
     ]
    },
    {
     "data": {
      "application/vnd.jupyter.widget-view+json": {
       "model_id": "84b14ebc52b14a69ad4daa8a431e61a1",
       "version_major": 2,
       "version_minor": 0
      },
      "text/plain": [
       "Epoch: 5:   0%|          | 0/399 [00:00<?, ?it/s]"
      ]
     },
     "metadata": {},
     "output_type": "display_data"
    },
    {
     "name": "stdout",
     "output_type": "stream",
     "text": [
      "Epoch [5], val_loss: 1.527e+00, train_loss: 1.415e+00, lrate: 1.000e-04\n"
     ]
    },
    {
     "data": {
      "application/vnd.jupyter.widget-view+json": {
       "model_id": "0222a52e81d14e28b99f293ee566eea9",
       "version_major": 2,
       "version_minor": 0
      },
      "text/plain": [
       "Epoch: 6:   0%|          | 0/399 [00:00<?, ?it/s]"
      ]
     },
     "metadata": {},
     "output_type": "display_data"
    },
    {
     "name": "stdout",
     "output_type": "stream",
     "text": [
      "Epoch [6], val_loss: 1.514e+00, train_loss: 1.388e+00, lrate: 1.000e-04\n"
     ]
    },
    {
     "data": {
      "application/vnd.jupyter.widget-view+json": {
       "model_id": "fc2bfd2953c7445ca1f9cc9696698af2",
       "version_major": 2,
       "version_minor": 0
      },
      "text/plain": [
       "Epoch: 7:   0%|          | 0/399 [00:00<?, ?it/s]"
      ]
     },
     "metadata": {},
     "output_type": "display_data"
    },
    {
     "name": "stdout",
     "output_type": "stream",
     "text": [
      "Epoch [7], val_loss: 1.507e+00, train_loss: 1.366e+00, lrate: 1.000e-04\n"
     ]
    },
    {
     "data": {
      "application/vnd.jupyter.widget-view+json": {
       "model_id": "e5cedcffff8b4a619db1683c968e0072",
       "version_major": 2,
       "version_minor": 0
      },
      "text/plain": [
       "Epoch: 8:   0%|          | 0/399 [00:00<?, ?it/s]"
      ]
     },
     "metadata": {},
     "output_type": "display_data"
    },
    {
     "name": "stdout",
     "output_type": "stream",
     "text": [
      "Epoch [8], val_loss: 1.510e+00, train_loss: 1.348e+00, lrate: 1.000e-04\n"
     ]
    },
    {
     "data": {
      "application/vnd.jupyter.widget-view+json": {
       "model_id": "2719b1a3d59a4f72b124f841f5a6088c",
       "version_major": 2,
       "version_minor": 0
      },
      "text/plain": [
       "Epoch: 9:   0%|          | 0/399 [00:00<?, ?it/s]"
      ]
     },
     "metadata": {},
     "output_type": "display_data"
    },
    {
     "name": "stdout",
     "output_type": "stream",
     "text": [
      "Epoch [9], val_loss: 1.507e+00, train_loss: 1.330e+00, lrate: 1.000e-04\n"
     ]
    },
    {
     "data": {
      "application/vnd.jupyter.widget-view+json": {
       "model_id": "9677c90dc4614e99b4a5a009ad805346",
       "version_major": 2,
       "version_minor": 0
      },
      "text/plain": [
       "Epoch: 10:   0%|          | 0/399 [00:00<?, ?it/s]"
      ]
     },
     "metadata": {},
     "output_type": "display_data"
    },
    {
     "name": "stdout",
     "output_type": "stream",
     "text": [
      "Epoch [10], val_loss: 1.503e+00, train_loss: 1.317e+00, lrate: 1.000e-04\n"
     ]
    },
    {
     "data": {
      "application/vnd.jupyter.widget-view+json": {
       "model_id": "41d120eeaf094d4aac3db3fe2e1cda71",
       "version_major": 2,
       "version_minor": 0
      },
      "text/plain": [
       "Epoch: 11:   0%|          | 0/399 [00:00<?, ?it/s]"
      ]
     },
     "metadata": {},
     "output_type": "display_data"
    },
    {
     "name": "stdout",
     "output_type": "stream",
     "text": [
      "Epoch [11], val_loss: 1.510e+00, train_loss: 1.302e+00, lrate: 1.000e-04\n"
     ]
    },
    {
     "data": {
      "application/vnd.jupyter.widget-view+json": {
       "model_id": "ddb311afd5ae4095a78c6b88521b5646",
       "version_major": 2,
       "version_minor": 0
      },
      "text/plain": [
       "Epoch: 12:   0%|          | 0/399 [00:00<?, ?it/s]"
      ]
     },
     "metadata": {},
     "output_type": "display_data"
    },
    {
     "name": "stdout",
     "output_type": "stream",
     "text": [
      "Epoch [12], val_loss: 1.506e+00, train_loss: 1.291e+00, lrate: 1.000e-04\n"
     ]
    },
    {
     "data": {
      "application/vnd.jupyter.widget-view+json": {
       "model_id": "531e6356caaf40949ef991cfb1c1cdf5",
       "version_major": 2,
       "version_minor": 0
      },
      "text/plain": [
       "Epoch: 13:   0%|          | 0/399 [00:00<?, ?it/s]"
      ]
     },
     "metadata": {},
     "output_type": "display_data"
    },
    {
     "name": "stdout",
     "output_type": "stream",
     "text": [
      "Epoch [13], val_loss: 1.508e+00, train_loss: 1.281e+00, lrate: 1.000e-04\n"
     ]
    },
    {
     "data": {
      "application/vnd.jupyter.widget-view+json": {
       "model_id": "08c37a83faa842d4a5e6bc6236939687",
       "version_major": 2,
       "version_minor": 0
      },
      "text/plain": [
       "Epoch: 14:   0%|          | 0/399 [00:00<?, ?it/s]"
      ]
     },
     "metadata": {},
     "output_type": "display_data"
    },
    {
     "name": "stdout",
     "output_type": "stream",
     "text": [
      "Epoch [14], val_loss: 1.496e+00, train_loss: 1.272e+00, lrate: 1.000e-04\n"
     ]
    },
    {
     "data": {
      "application/vnd.jupyter.widget-view+json": {
       "model_id": "c6228d5830cc4b2b885972a2c609ade4",
       "version_major": 2,
       "version_minor": 0
      },
      "text/plain": [
       "Epoch: 15:   0%|          | 0/399 [00:00<?, ?it/s]"
      ]
     },
     "metadata": {},
     "output_type": "display_data"
    },
    {
     "name": "stdout",
     "output_type": "stream",
     "text": [
      "Epoch [15], val_loss: 1.491e+00, train_loss: 1.267e+00, lrate: 1.000e-04\n"
     ]
    },
    {
     "data": {
      "application/vnd.jupyter.widget-view+json": {
       "model_id": "a6534ccb85314aefa503995d8bcc886e",
       "version_major": 2,
       "version_minor": 0
      },
      "text/plain": [
       "Epoch: 16:   0%|          | 0/399 [00:00<?, ?it/s]"
      ]
     },
     "metadata": {},
     "output_type": "display_data"
    },
    {
     "name": "stdout",
     "output_type": "stream",
     "text": [
      "Epoch [16], val_loss: 1.491e+00, train_loss: 1.260e+00, lrate: 1.000e-04\n"
     ]
    },
    {
     "data": {
      "application/vnd.jupyter.widget-view+json": {
       "model_id": "f626b04b8ac642f2ad8f86293529fce7",
       "version_major": 2,
       "version_minor": 0
      },
      "text/plain": [
       "Epoch: 17:   0%|          | 0/399 [00:00<?, ?it/s]"
      ]
     },
     "metadata": {},
     "output_type": "display_data"
    },
    {
     "name": "stdout",
     "output_type": "stream",
     "text": [
      "Epoch [17], val_loss: 1.510e+00, train_loss: 1.255e+00, lrate: 1.000e-04\n"
     ]
    },
    {
     "data": {
      "application/vnd.jupyter.widget-view+json": {
       "model_id": "5c094cf2094e468ba5261408201c3469",
       "version_major": 2,
       "version_minor": 0
      },
      "text/plain": [
       "Epoch: 18:   0%|          | 0/399 [00:00<?, ?it/s]"
      ]
     },
     "metadata": {},
     "output_type": "display_data"
    },
    {
     "name": "stdout",
     "output_type": "stream",
     "text": [
      "Epoch [18], val_loss: 1.506e+00, train_loss: 1.251e+00, lrate: 1.000e-04\n"
     ]
    },
    {
     "data": {
      "application/vnd.jupyter.widget-view+json": {
       "model_id": "55fdf601d0544c08a6face48f0f89cc5",
       "version_major": 2,
       "version_minor": 0
      },
      "text/plain": [
       "Epoch: 19:   0%|          | 0/399 [00:00<?, ?it/s]"
      ]
     },
     "metadata": {},
     "output_type": "display_data"
    },
    {
     "name": "stdout",
     "output_type": "stream",
     "text": [
      "Epoch [19], val_loss: 1.504e+00, train_loss: 1.245e+00, lrate: 5.000e-05\n"
     ]
    },
    {
     "data": {
      "application/vnd.jupyter.widget-view+json": {
       "model_id": "3d62bc287d9943f5afb9c103a752898e",
       "version_major": 2,
       "version_minor": 0
      },
      "text/plain": [
       "Epoch: 20:   0%|          | 0/399 [00:00<?, ?it/s]"
      ]
     },
     "metadata": {},
     "output_type": "display_data"
    },
    {
     "name": "stdout",
     "output_type": "stream",
     "text": [
      "Early stopping\n",
      "------------fold no---------3----------------------\n"
     ]
    },
    {
     "data": {
      "application/vnd.jupyter.widget-view+json": {
       "model_id": "11fe1acf4d364d40995cddd29a973dd1",
       "version_major": 2,
       "version_minor": 0
      },
      "text/plain": [
       "Current Epoch:   0%|          | 0/100 [00:00<?, ?it/s]"
      ]
     },
     "metadata": {},
     "output_type": "display_data"
    },
    {
     "data": {
      "application/vnd.jupyter.widget-view+json": {
       "model_id": "253b5f9485754833b0d340ca87bf4bf6",
       "version_major": 2,
       "version_minor": 0
      },
      "text/plain": [
       "Epoch: 0:   0%|          | 0/399 [00:00<?, ?it/s]"
      ]
     },
     "metadata": {},
     "output_type": "display_data"
    },
    {
     "name": "stdout",
     "output_type": "stream",
     "text": [
      "Epoch [0], val_loss: 1.640e+00, train_loss: 1.733e+00, lrate: 1.000e-04\n"
     ]
    },
    {
     "data": {
      "application/vnd.jupyter.widget-view+json": {
       "model_id": "c82c4ae62a964443a3ed14bfa4d46e5f",
       "version_major": 2,
       "version_minor": 0
      },
      "text/plain": [
       "Epoch: 1:   0%|          | 0/399 [00:00<?, ?it/s]"
      ]
     },
     "metadata": {},
     "output_type": "display_data"
    },
    {
     "name": "stdout",
     "output_type": "stream",
     "text": [
      "Epoch [1], val_loss: 1.579e+00, train_loss: 1.583e+00, lrate: 1.000e-04\n"
     ]
    },
    {
     "data": {
      "application/vnd.jupyter.widget-view+json": {
       "model_id": "6fa41ef488cb4e65a46c0c361ad6275c",
       "version_major": 2,
       "version_minor": 0
      },
      "text/plain": [
       "Epoch: 2:   0%|          | 0/399 [00:00<?, ?it/s]"
      ]
     },
     "metadata": {},
     "output_type": "display_data"
    },
    {
     "name": "stdout",
     "output_type": "stream",
     "text": [
      "Epoch [2], val_loss: 1.549e+00, train_loss: 1.522e+00, lrate: 1.000e-04\n"
     ]
    },
    {
     "data": {
      "application/vnd.jupyter.widget-view+json": {
       "model_id": "5df3e3927f2b4072bc48b65186ed97db",
       "version_major": 2,
       "version_minor": 0
      },
      "text/plain": [
       "Epoch: 3:   0%|          | 0/399 [00:00<?, ?it/s]"
      ]
     },
     "metadata": {},
     "output_type": "display_data"
    },
    {
     "name": "stdout",
     "output_type": "stream",
     "text": [
      "Epoch [3], val_loss: 1.530e+00, train_loss: 1.479e+00, lrate: 1.000e-04\n"
     ]
    },
    {
     "data": {
      "application/vnd.jupyter.widget-view+json": {
       "model_id": "e660bfe2ef9445469d4ba8f5e5d32571",
       "version_major": 2,
       "version_minor": 0
      },
      "text/plain": [
       "Epoch: 4:   0%|          | 0/399 [00:00<?, ?it/s]"
      ]
     },
     "metadata": {},
     "output_type": "display_data"
    },
    {
     "name": "stdout",
     "output_type": "stream",
     "text": [
      "Epoch [4], val_loss: 1.519e+00, train_loss: 1.443e+00, lrate: 1.000e-04\n"
     ]
    },
    {
     "data": {
      "application/vnd.jupyter.widget-view+json": {
       "model_id": "b0f037685a2f465b94b5d5f9eb2b43d0",
       "version_major": 2,
       "version_minor": 0
      },
      "text/plain": [
       "Epoch: 5:   0%|          | 0/399 [00:00<?, ?it/s]"
      ]
     },
     "metadata": {},
     "output_type": "display_data"
    },
    {
     "name": "stdout",
     "output_type": "stream",
     "text": [
      "Epoch [5], val_loss: 1.508e+00, train_loss: 1.415e+00, lrate: 1.000e-04\n"
     ]
    },
    {
     "data": {
      "application/vnd.jupyter.widget-view+json": {
       "model_id": "625bd2ccb1bc449dba89a992eb4cf0ad",
       "version_major": 2,
       "version_minor": 0
      },
      "text/plain": [
       "Epoch: 6:   0%|          | 0/399 [00:00<?, ?it/s]"
      ]
     },
     "metadata": {},
     "output_type": "display_data"
    },
    {
     "name": "stdout",
     "output_type": "stream",
     "text": [
      "Epoch [6], val_loss: 1.498e+00, train_loss: 1.388e+00, lrate: 1.000e-04\n"
     ]
    },
    {
     "data": {
      "application/vnd.jupyter.widget-view+json": {
       "model_id": "7938c2d6d740494aad630f79c04a3390",
       "version_major": 2,
       "version_minor": 0
      },
      "text/plain": [
       "Epoch: 7:   0%|          | 0/399 [00:00<?, ?it/s]"
      ]
     },
     "metadata": {},
     "output_type": "display_data"
    },
    {
     "name": "stdout",
     "output_type": "stream",
     "text": [
      "Epoch [7], val_loss: 1.494e+00, train_loss: 1.363e+00, lrate: 1.000e-04\n"
     ]
    },
    {
     "data": {
      "application/vnd.jupyter.widget-view+json": {
       "model_id": "632453979e194f178692ff02a5e94c65",
       "version_major": 2,
       "version_minor": 0
      },
      "text/plain": [
       "Epoch: 8:   0%|          | 0/399 [00:00<?, ?it/s]"
      ]
     },
     "metadata": {},
     "output_type": "display_data"
    },
    {
     "name": "stdout",
     "output_type": "stream",
     "text": [
      "Epoch [8], val_loss: 1.492e+00, train_loss: 1.345e+00, lrate: 1.000e-04\n"
     ]
    },
    {
     "data": {
      "application/vnd.jupyter.widget-view+json": {
       "model_id": "d6dcd905c7e244d78aac101fd72ceac6",
       "version_major": 2,
       "version_minor": 0
      },
      "text/plain": [
       "Epoch: 9:   0%|          | 0/399 [00:00<?, ?it/s]"
      ]
     },
     "metadata": {},
     "output_type": "display_data"
    },
    {
     "name": "stdout",
     "output_type": "stream",
     "text": [
      "Epoch [9], val_loss: 1.494e+00, train_loss: 1.329e+00, lrate: 1.000e-04\n"
     ]
    },
    {
     "data": {
      "application/vnd.jupyter.widget-view+json": {
       "model_id": "28381d1474814d49aca770549ef45152",
       "version_major": 2,
       "version_minor": 0
      },
      "text/plain": [
       "Epoch: 10:   0%|          | 0/399 [00:00<?, ?it/s]"
      ]
     },
     "metadata": {},
     "output_type": "display_data"
    },
    {
     "name": "stdout",
     "output_type": "stream",
     "text": [
      "Epoch [10], val_loss: 1.499e+00, train_loss: 1.312e+00, lrate: 1.000e-04\n"
     ]
    },
    {
     "data": {
      "application/vnd.jupyter.widget-view+json": {
       "model_id": "e5f4c1713d234a68b00df16ea79e1841",
       "version_major": 2,
       "version_minor": 0
      },
      "text/plain": [
       "Epoch: 11:   0%|          | 0/399 [00:00<?, ?it/s]"
      ]
     },
     "metadata": {},
     "output_type": "display_data"
    },
    {
     "name": "stdout",
     "output_type": "stream",
     "text": [
      "Epoch [11], val_loss: 1.489e+00, train_loss: 1.300e+00, lrate: 1.000e-04\n"
     ]
    },
    {
     "data": {
      "application/vnd.jupyter.widget-view+json": {
       "model_id": "15b69902ad6449d8812b83de7544996e",
       "version_major": 2,
       "version_minor": 0
      },
      "text/plain": [
       "Epoch: 12:   0%|          | 0/399 [00:00<?, ?it/s]"
      ]
     },
     "metadata": {},
     "output_type": "display_data"
    },
    {
     "name": "stdout",
     "output_type": "stream",
     "text": [
      "Epoch [12], val_loss: 1.485e+00, train_loss: 1.289e+00, lrate: 1.000e-04\n"
     ]
    },
    {
     "data": {
      "application/vnd.jupyter.widget-view+json": {
       "model_id": "9ad8c747752d45fbba95eca20b219ed7",
       "version_major": 2,
       "version_minor": 0
      },
      "text/plain": [
       "Epoch: 13:   0%|          | 0/399 [00:00<?, ?it/s]"
      ]
     },
     "metadata": {},
     "output_type": "display_data"
    },
    {
     "name": "stdout",
     "output_type": "stream",
     "text": [
      "Epoch [13], val_loss: 1.490e+00, train_loss: 1.280e+00, lrate: 1.000e-04\n"
     ]
    },
    {
     "data": {
      "application/vnd.jupyter.widget-view+json": {
       "model_id": "39123a65c698452494498cf4b1aa6ddf",
       "version_major": 2,
       "version_minor": 0
      },
      "text/plain": [
       "Epoch: 14:   0%|          | 0/399 [00:00<?, ?it/s]"
      ]
     },
     "metadata": {},
     "output_type": "display_data"
    },
    {
     "name": "stdout",
     "output_type": "stream",
     "text": [
      "Epoch [14], val_loss: 1.488e+00, train_loss: 1.270e+00, lrate: 1.000e-04\n"
     ]
    },
    {
     "data": {
      "application/vnd.jupyter.widget-view+json": {
       "model_id": "52fbfd7a7b90492c83e8ea46cbc9d853",
       "version_major": 2,
       "version_minor": 0
      },
      "text/plain": [
       "Epoch: 15:   0%|          | 0/399 [00:00<?, ?it/s]"
      ]
     },
     "metadata": {},
     "output_type": "display_data"
    },
    {
     "name": "stdout",
     "output_type": "stream",
     "text": [
      "Epoch [15], val_loss: 1.485e+00, train_loss: 1.266e+00, lrate: 1.000e-04\n"
     ]
    },
    {
     "data": {
      "application/vnd.jupyter.widget-view+json": {
       "model_id": "0ffe4e2122384153b4f5b9713b763e19",
       "version_major": 2,
       "version_minor": 0
      },
      "text/plain": [
       "Epoch: 16:   0%|          | 0/399 [00:00<?, ?it/s]"
      ]
     },
     "metadata": {},
     "output_type": "display_data"
    },
    {
     "name": "stdout",
     "output_type": "stream",
     "text": [
      "Epoch [16], val_loss: 1.496e+00, train_loss: 1.258e+00, lrate: 1.000e-04\n"
     ]
    },
    {
     "data": {
      "application/vnd.jupyter.widget-view+json": {
       "model_id": "ede77f2c532b4e0b8f5f22c9235927a9",
       "version_major": 2,
       "version_minor": 0
      },
      "text/plain": [
       "Epoch: 17:   0%|          | 0/399 [00:00<?, ?it/s]"
      ]
     },
     "metadata": {},
     "output_type": "display_data"
    },
    {
     "name": "stdout",
     "output_type": "stream",
     "text": [
      "Epoch [17], val_loss: 1.481e+00, train_loss: 1.251e+00, lrate: 1.000e-04\n"
     ]
    },
    {
     "data": {
      "application/vnd.jupyter.widget-view+json": {
       "model_id": "d6e50adabceb4011b0dfe985476f47e8",
       "version_major": 2,
       "version_minor": 0
      },
      "text/plain": [
       "Epoch: 18:   0%|          | 0/399 [00:00<?, ?it/s]"
      ]
     },
     "metadata": {},
     "output_type": "display_data"
    },
    {
     "name": "stdout",
     "output_type": "stream",
     "text": [
      "Epoch [18], val_loss: 1.480e+00, train_loss: 1.249e+00, lrate: 1.000e-04\n"
     ]
    },
    {
     "data": {
      "application/vnd.jupyter.widget-view+json": {
       "model_id": "9d82f2fd36d348ce9abf47350fa134f7",
       "version_major": 2,
       "version_minor": 0
      },
      "text/plain": [
       "Epoch: 19:   0%|          | 0/399 [00:00<?, ?it/s]"
      ]
     },
     "metadata": {},
     "output_type": "display_data"
    },
    {
     "name": "stdout",
     "output_type": "stream",
     "text": [
      "Epoch [19], val_loss: 1.485e+00, train_loss: 1.245e+00, lrate: 1.000e-04\n"
     ]
    },
    {
     "data": {
      "application/vnd.jupyter.widget-view+json": {
       "model_id": "334c3401df194d7c8543c266d4f93085",
       "version_major": 2,
       "version_minor": 0
      },
      "text/plain": [
       "Epoch: 20:   0%|          | 0/399 [00:00<?, ?it/s]"
      ]
     },
     "metadata": {},
     "output_type": "display_data"
    },
    {
     "name": "stdout",
     "output_type": "stream",
     "text": [
      "Epoch [20], val_loss: 1.482e+00, train_loss: 1.239e+00, lrate: 1.000e-04\n"
     ]
    },
    {
     "data": {
      "application/vnd.jupyter.widget-view+json": {
       "model_id": "ba028459db504ab3aa95bc30a2edb938",
       "version_major": 2,
       "version_minor": 0
      },
      "text/plain": [
       "Epoch: 21:   0%|          | 0/399 [00:00<?, ?it/s]"
      ]
     },
     "metadata": {},
     "output_type": "display_data"
    },
    {
     "name": "stdout",
     "output_type": "stream",
     "text": [
      "Epoch [21], val_loss: 1.484e+00, train_loss: 1.238e+00, lrate: 1.000e-04\n"
     ]
    },
    {
     "data": {
      "application/vnd.jupyter.widget-view+json": {
       "model_id": "0d9a91e91c524c508e59c5ae9915210c",
       "version_major": 2,
       "version_minor": 0
      },
      "text/plain": [
       "Epoch: 22:   0%|          | 0/399 [00:00<?, ?it/s]"
      ]
     },
     "metadata": {},
     "output_type": "display_data"
    },
    {
     "name": "stdout",
     "output_type": "stream",
     "text": [
      "Epoch [22], val_loss: 1.494e+00, train_loss: 1.241e+00, lrate: 5.000e-05\n"
     ]
    },
    {
     "data": {
      "application/vnd.jupyter.widget-view+json": {
       "model_id": "5f4940e211a54991b33fee58a5f8f6cd",
       "version_major": 2,
       "version_minor": 0
      },
      "text/plain": [
       "Epoch: 23:   0%|          | 0/399 [00:00<?, ?it/s]"
      ]
     },
     "metadata": {},
     "output_type": "display_data"
    },
    {
     "name": "stdout",
     "output_type": "stream",
     "text": [
      "Early stopping\n",
      "------------fold no---------4----------------------\n"
     ]
    },
    {
     "data": {
      "application/vnd.jupyter.widget-view+json": {
       "model_id": "ee4de5130b21486990bbc973e1ba9b3f",
       "version_major": 2,
       "version_minor": 0
      },
      "text/plain": [
       "Current Epoch:   0%|          | 0/100 [00:00<?, ?it/s]"
      ]
     },
     "metadata": {},
     "output_type": "display_data"
    },
    {
     "data": {
      "application/vnd.jupyter.widget-view+json": {
       "model_id": "5d82c0d893974cf880790f24d1a2f067",
       "version_major": 2,
       "version_minor": 0
      },
      "text/plain": [
       "Epoch: 0:   0%|          | 0/399 [00:00<?, ?it/s]"
      ]
     },
     "metadata": {},
     "output_type": "display_data"
    },
    {
     "name": "stdout",
     "output_type": "stream",
     "text": [
      "Epoch [0], val_loss: 1.656e+00, train_loss: 1.735e+00, lrate: 1.000e-04\n"
     ]
    },
    {
     "data": {
      "application/vnd.jupyter.widget-view+json": {
       "model_id": "49be106f603d4eef89125ea121010318",
       "version_major": 2,
       "version_minor": 0
      },
      "text/plain": [
       "Epoch: 1:   0%|          | 0/399 [00:00<?, ?it/s]"
      ]
     },
     "metadata": {},
     "output_type": "display_data"
    },
    {
     "name": "stdout",
     "output_type": "stream",
     "text": [
      "Epoch [1], val_loss: 1.593e+00, train_loss: 1.587e+00, lrate: 1.000e-04\n"
     ]
    },
    {
     "data": {
      "application/vnd.jupyter.widget-view+json": {
       "model_id": "4e2abe285f674b26a106976f032ac437",
       "version_major": 2,
       "version_minor": 0
      },
      "text/plain": [
       "Epoch: 2:   0%|          | 0/399 [00:00<?, ?it/s]"
      ]
     },
     "metadata": {},
     "output_type": "display_data"
    },
    {
     "name": "stdout",
     "output_type": "stream",
     "text": [
      "Epoch [2], val_loss: 1.572e+00, train_loss: 1.524e+00, lrate: 1.000e-04\n"
     ]
    },
    {
     "data": {
      "application/vnd.jupyter.widget-view+json": {
       "model_id": "39a9c6b8cb2a4bc19af3befa0b117343",
       "version_major": 2,
       "version_minor": 0
      },
      "text/plain": [
       "Epoch: 3:   0%|          | 0/399 [00:00<?, ?it/s]"
      ]
     },
     "metadata": {},
     "output_type": "display_data"
    },
    {
     "name": "stdout",
     "output_type": "stream",
     "text": [
      "Epoch [3], val_loss: 1.558e+00, train_loss: 1.478e+00, lrate: 1.000e-04\n"
     ]
    },
    {
     "data": {
      "application/vnd.jupyter.widget-view+json": {
       "model_id": "c3837415acac4067a821377ab7e5e41e",
       "version_major": 2,
       "version_minor": 0
      },
      "text/plain": [
       "Epoch: 4:   0%|          | 0/399 [00:00<?, ?it/s]"
      ]
     },
     "metadata": {},
     "output_type": "display_data"
    },
    {
     "name": "stdout",
     "output_type": "stream",
     "text": [
      "Epoch [4], val_loss: 1.543e+00, train_loss: 1.444e+00, lrate: 1.000e-04\n"
     ]
    },
    {
     "data": {
      "application/vnd.jupyter.widget-view+json": {
       "model_id": "50306a29ace94b878c17241c17ae44c8",
       "version_major": 2,
       "version_minor": 0
      },
      "text/plain": [
       "Epoch: 5:   0%|          | 0/399 [00:00<?, ?it/s]"
      ]
     },
     "metadata": {},
     "output_type": "display_data"
    },
    {
     "name": "stdout",
     "output_type": "stream",
     "text": [
      "Epoch [5], val_loss: 1.531e+00, train_loss: 1.414e+00, lrate: 1.000e-04\n"
     ]
    },
    {
     "data": {
      "application/vnd.jupyter.widget-view+json": {
       "model_id": "562e4e5dd4d94622ab3bba10c1d93d75",
       "version_major": 2,
       "version_minor": 0
      },
      "text/plain": [
       "Epoch: 6:   0%|          | 0/399 [00:00<?, ?it/s]"
      ]
     },
     "metadata": {},
     "output_type": "display_data"
    },
    {
     "name": "stdout",
     "output_type": "stream",
     "text": [
      "Epoch [6], val_loss: 1.537e+00, train_loss: 1.390e+00, lrate: 1.000e-04\n"
     ]
    },
    {
     "data": {
      "application/vnd.jupyter.widget-view+json": {
       "model_id": "32299d413b874fb39aa8633df0644845",
       "version_major": 2,
       "version_minor": 0
      },
      "text/plain": [
       "Epoch: 7:   0%|          | 0/399 [00:00<?, ?it/s]"
      ]
     },
     "metadata": {},
     "output_type": "display_data"
    },
    {
     "name": "stdout",
     "output_type": "stream",
     "text": [
      "Epoch [7], val_loss: 1.532e+00, train_loss: 1.369e+00, lrate: 1.000e-04\n"
     ]
    },
    {
     "data": {
      "application/vnd.jupyter.widget-view+json": {
       "model_id": "4eaf9d1629fd4be7ba446a8a7641841e",
       "version_major": 2,
       "version_minor": 0
      },
      "text/plain": [
       "Epoch: 8:   0%|          | 0/399 [00:00<?, ?it/s]"
      ]
     },
     "metadata": {},
     "output_type": "display_data"
    },
    {
     "name": "stdout",
     "output_type": "stream",
     "text": [
      "Epoch [8], val_loss: 1.523e+00, train_loss: 1.347e+00, lrate: 1.000e-04\n"
     ]
    },
    {
     "data": {
      "application/vnd.jupyter.widget-view+json": {
       "model_id": "3b3b198476e94daf8b1051028d6c57ef",
       "version_major": 2,
       "version_minor": 0
      },
      "text/plain": [
       "Epoch: 9:   0%|          | 0/399 [00:00<?, ?it/s]"
      ]
     },
     "metadata": {},
     "output_type": "display_data"
    },
    {
     "name": "stdout",
     "output_type": "stream",
     "text": [
      "Epoch [9], val_loss: 1.522e+00, train_loss: 1.329e+00, lrate: 1.000e-04\n"
     ]
    },
    {
     "data": {
      "application/vnd.jupyter.widget-view+json": {
       "model_id": "62a1aeb28c214389a45d905cf727c7e7",
       "version_major": 2,
       "version_minor": 0
      },
      "text/plain": [
       "Epoch: 10:   0%|          | 0/399 [00:00<?, ?it/s]"
      ]
     },
     "metadata": {},
     "output_type": "display_data"
    },
    {
     "name": "stdout",
     "output_type": "stream",
     "text": [
      "Epoch [10], val_loss: 1.523e+00, train_loss: 1.313e+00, lrate: 1.000e-04\n"
     ]
    },
    {
     "data": {
      "application/vnd.jupyter.widget-view+json": {
       "model_id": "26c7049e21d0456d9caba18304e080f3",
       "version_major": 2,
       "version_minor": 0
      },
      "text/plain": [
       "Epoch: 11:   0%|          | 0/399 [00:00<?, ?it/s]"
      ]
     },
     "metadata": {},
     "output_type": "display_data"
    },
    {
     "name": "stdout",
     "output_type": "stream",
     "text": [
      "Epoch [11], val_loss: 1.517e+00, train_loss: 1.301e+00, lrate: 1.000e-04\n"
     ]
    },
    {
     "data": {
      "application/vnd.jupyter.widget-view+json": {
       "model_id": "78fc17343f9b4240b81cb9d77cc23862",
       "version_major": 2,
       "version_minor": 0
      },
      "text/plain": [
       "Epoch: 12:   0%|          | 0/399 [00:00<?, ?it/s]"
      ]
     },
     "metadata": {},
     "output_type": "display_data"
    },
    {
     "name": "stdout",
     "output_type": "stream",
     "text": [
      "Epoch [12], val_loss: 1.515e+00, train_loss: 1.288e+00, lrate: 1.000e-04\n"
     ]
    },
    {
     "data": {
      "application/vnd.jupyter.widget-view+json": {
       "model_id": "e9a2007b125a42d698761b075782b090",
       "version_major": 2,
       "version_minor": 0
      },
      "text/plain": [
       "Epoch: 13:   0%|          | 0/399 [00:00<?, ?it/s]"
      ]
     },
     "metadata": {},
     "output_type": "display_data"
    },
    {
     "name": "stdout",
     "output_type": "stream",
     "text": [
      "Epoch [13], val_loss: 1.507e+00, train_loss: 1.280e+00, lrate: 1.000e-04\n"
     ]
    },
    {
     "data": {
      "application/vnd.jupyter.widget-view+json": {
       "model_id": "12e9d323c0e341b98fb6c237c791ce39",
       "version_major": 2,
       "version_minor": 0
      },
      "text/plain": [
       "Epoch: 14:   0%|          | 0/399 [00:00<?, ?it/s]"
      ]
     },
     "metadata": {},
     "output_type": "display_data"
    },
    {
     "name": "stdout",
     "output_type": "stream",
     "text": [
      "Epoch [14], val_loss: 1.498e+00, train_loss: 1.273e+00, lrate: 1.000e-04\n"
     ]
    },
    {
     "data": {
      "application/vnd.jupyter.widget-view+json": {
       "model_id": "0468c2eaddcf4c049bff73692b05e2a6",
       "version_major": 2,
       "version_minor": 0
      },
      "text/plain": [
       "Epoch: 15:   0%|          | 0/399 [00:00<?, ?it/s]"
      ]
     },
     "metadata": {},
     "output_type": "display_data"
    },
    {
     "name": "stdout",
     "output_type": "stream",
     "text": [
      "Epoch [15], val_loss: 1.508e+00, train_loss: 1.263e+00, lrate: 1.000e-04\n"
     ]
    },
    {
     "data": {
      "application/vnd.jupyter.widget-view+json": {
       "model_id": "c8e11d0d45af4c8e8159e1f76d9cfac7",
       "version_major": 2,
       "version_minor": 0
      },
      "text/plain": [
       "Epoch: 16:   0%|          | 0/399 [00:00<?, ?it/s]"
      ]
     },
     "metadata": {},
     "output_type": "display_data"
    },
    {
     "name": "stdout",
     "output_type": "stream",
     "text": [
      "Epoch [16], val_loss: 1.511e+00, train_loss: 1.257e+00, lrate: 1.000e-04\n"
     ]
    },
    {
     "data": {
      "application/vnd.jupyter.widget-view+json": {
       "model_id": "4082544d2a4f49219a9a78737e493cf1",
       "version_major": 2,
       "version_minor": 0
      },
      "text/plain": [
       "Epoch: 17:   0%|          | 0/399 [00:00<?, ?it/s]"
      ]
     },
     "metadata": {},
     "output_type": "display_data"
    },
    {
     "name": "stdout",
     "output_type": "stream",
     "text": [
      "Epoch [17], val_loss: 1.513e+00, train_loss: 1.253e+00, lrate: 1.000e-04\n"
     ]
    },
    {
     "data": {
      "application/vnd.jupyter.widget-view+json": {
       "model_id": "520ddbbc732a461eb2f162cc0f9ddbcb",
       "version_major": 2,
       "version_minor": 0
      },
      "text/plain": [
       "Epoch: 18:   0%|          | 0/399 [00:00<?, ?it/s]"
      ]
     },
     "metadata": {},
     "output_type": "display_data"
    },
    {
     "name": "stdout",
     "output_type": "stream",
     "text": [
      "Epoch [18], val_loss: 1.495e+00, train_loss: 1.252e+00, lrate: 1.000e-04\n"
     ]
    },
    {
     "data": {
      "application/vnd.jupyter.widget-view+json": {
       "model_id": "d2438e0cff18431cbf739dfaab58ab69",
       "version_major": 2,
       "version_minor": 0
      },
      "text/plain": [
       "Epoch: 19:   0%|          | 0/399 [00:00<?, ?it/s]"
      ]
     },
     "metadata": {},
     "output_type": "display_data"
    },
    {
     "name": "stdout",
     "output_type": "stream",
     "text": [
      "Epoch [19], val_loss: 1.513e+00, train_loss: 1.244e+00, lrate: 1.000e-04\n"
     ]
    },
    {
     "data": {
      "application/vnd.jupyter.widget-view+json": {
       "model_id": "8bee20e56e774071b1f85c41c9b4703d",
       "version_major": 2,
       "version_minor": 0
      },
      "text/plain": [
       "Epoch: 20:   0%|          | 0/399 [00:00<?, ?it/s]"
      ]
     },
     "metadata": {},
     "output_type": "display_data"
    },
    {
     "name": "stdout",
     "output_type": "stream",
     "text": [
      "Epoch [20], val_loss: 1.506e+00, train_loss: 1.242e+00, lrate: 1.000e-04\n"
     ]
    },
    {
     "data": {
      "application/vnd.jupyter.widget-view+json": {
       "model_id": "b7c614dbb8574455be411f59cb8cd39e",
       "version_major": 2,
       "version_minor": 0
      },
      "text/plain": [
       "Epoch: 21:   0%|          | 0/399 [00:00<?, ?it/s]"
      ]
     },
     "metadata": {},
     "output_type": "display_data"
    },
    {
     "name": "stdout",
     "output_type": "stream",
     "text": [
      "Epoch [21], val_loss: 1.504e+00, train_loss: 1.239e+00, lrate: 1.000e-04\n"
     ]
    },
    {
     "data": {
      "application/vnd.jupyter.widget-view+json": {
       "model_id": "c421ffb62cd9451391abe53acb60249f",
       "version_major": 2,
       "version_minor": 0
      },
      "text/plain": [
       "Epoch: 22:   0%|          | 0/399 [00:00<?, ?it/s]"
      ]
     },
     "metadata": {},
     "output_type": "display_data"
    },
    {
     "name": "stdout",
     "output_type": "stream",
     "text": [
      "Epoch [22], val_loss: 1.516e+00, train_loss: 1.237e+00, lrate: 5.000e-05\n"
     ]
    },
    {
     "data": {
      "application/vnd.jupyter.widget-view+json": {
       "model_id": "c6151a45e2b04ad1bebf19095ad2b366",
       "version_major": 2,
       "version_minor": 0
      },
      "text/plain": [
       "Epoch: 23:   0%|          | 0/399 [00:00<?, ?it/s]"
      ]
     },
     "metadata": {},
     "output_type": "display_data"
    },
    {
     "name": "stdout",
     "output_type": "stream",
     "text": [
      "Early stopping\n",
      "------------fold no---------5----------------------\n"
     ]
    },
    {
     "data": {
      "application/vnd.jupyter.widget-view+json": {
       "model_id": "b9b9057a1e334f008ba437a193b9c786",
       "version_major": 2,
       "version_minor": 0
      },
      "text/plain": [
       "Current Epoch:   0%|          | 0/100 [00:00<?, ?it/s]"
      ]
     },
     "metadata": {},
     "output_type": "display_data"
    },
    {
     "data": {
      "application/vnd.jupyter.widget-view+json": {
       "model_id": "ee4221bd168a49789c2b1a9cc6f78a7b",
       "version_major": 2,
       "version_minor": 0
      },
      "text/plain": [
       "Epoch: 0:   0%|          | 0/399 [00:00<?, ?it/s]"
      ]
     },
     "metadata": {},
     "output_type": "display_data"
    },
    {
     "name": "stdout",
     "output_type": "stream",
     "text": [
      "Epoch [0], val_loss: 1.629e+00, train_loss: 1.734e+00, lrate: 1.000e-04\n"
     ]
    },
    {
     "data": {
      "application/vnd.jupyter.widget-view+json": {
       "model_id": "10216b921a4943fe96460c8bc7e9018a",
       "version_major": 2,
       "version_minor": 0
      },
      "text/plain": [
       "Epoch: 1:   0%|          | 0/399 [00:00<?, ?it/s]"
      ]
     },
     "metadata": {},
     "output_type": "display_data"
    },
    {
     "name": "stdout",
     "output_type": "stream",
     "text": [
      "Epoch [1], val_loss: 1.589e+00, train_loss: 1.587e+00, lrate: 1.000e-04\n"
     ]
    },
    {
     "data": {
      "application/vnd.jupyter.widget-view+json": {
       "model_id": "ea90133dbb6a455ca758bd6ccc356351",
       "version_major": 2,
       "version_minor": 0
      },
      "text/plain": [
       "Epoch: 2:   0%|          | 0/399 [00:00<?, ?it/s]"
      ]
     },
     "metadata": {},
     "output_type": "display_data"
    },
    {
     "name": "stdout",
     "output_type": "stream",
     "text": [
      "Epoch [2], val_loss: 1.551e+00, train_loss: 1.524e+00, lrate: 1.000e-04\n"
     ]
    },
    {
     "data": {
      "application/vnd.jupyter.widget-view+json": {
       "model_id": "18e09d70f35a4cebbf762ee26d55fbc2",
       "version_major": 2,
       "version_minor": 0
      },
      "text/plain": [
       "Epoch: 3:   0%|          | 0/399 [00:00<?, ?it/s]"
      ]
     },
     "metadata": {},
     "output_type": "display_data"
    },
    {
     "name": "stdout",
     "output_type": "stream",
     "text": [
      "Epoch [3], val_loss: 1.531e+00, train_loss: 1.484e+00, lrate: 1.000e-04\n"
     ]
    },
    {
     "data": {
      "application/vnd.jupyter.widget-view+json": {
       "model_id": "92670289e1b94c61a36c11ec49b16261",
       "version_major": 2,
       "version_minor": 0
      },
      "text/plain": [
       "Epoch: 4:   0%|          | 0/399 [00:00<?, ?it/s]"
      ]
     },
     "metadata": {},
     "output_type": "display_data"
    },
    {
     "name": "stdout",
     "output_type": "stream",
     "text": [
      "Epoch [4], val_loss: 1.527e+00, train_loss: 1.448e+00, lrate: 1.000e-04\n"
     ]
    },
    {
     "data": {
      "application/vnd.jupyter.widget-view+json": {
       "model_id": "c04b96c615ef4eb5b1269538c75d7e70",
       "version_major": 2,
       "version_minor": 0
      },
      "text/plain": [
       "Epoch: 5:   0%|          | 0/399 [00:00<?, ?it/s]"
      ]
     },
     "metadata": {},
     "output_type": "display_data"
    },
    {
     "name": "stdout",
     "output_type": "stream",
     "text": [
      "Epoch [5], val_loss: 1.512e+00, train_loss: 1.418e+00, lrate: 1.000e-04\n"
     ]
    },
    {
     "data": {
      "application/vnd.jupyter.widget-view+json": {
       "model_id": "dc07a29b576b4e6d895fdf36c438ee40",
       "version_major": 2,
       "version_minor": 0
      },
      "text/plain": [
       "Epoch: 6:   0%|          | 0/399 [00:00<?, ?it/s]"
      ]
     },
     "metadata": {},
     "output_type": "display_data"
    },
    {
     "name": "stdout",
     "output_type": "stream",
     "text": [
      "Epoch [6], val_loss: 1.516e+00, train_loss: 1.393e+00, lrate: 1.000e-04\n"
     ]
    },
    {
     "data": {
      "application/vnd.jupyter.widget-view+json": {
       "model_id": "e624e91d021345169c5fd8ed18fb7503",
       "version_major": 2,
       "version_minor": 0
      },
      "text/plain": [
       "Epoch: 7:   0%|          | 0/399 [00:00<?, ?it/s]"
      ]
     },
     "metadata": {},
     "output_type": "display_data"
    },
    {
     "name": "stdout",
     "output_type": "stream",
     "text": [
      "Epoch [7], val_loss: 1.508e+00, train_loss: 1.369e+00, lrate: 1.000e-04\n"
     ]
    },
    {
     "data": {
      "application/vnd.jupyter.widget-view+json": {
       "model_id": "9e8e6280d2f44200b03496c8b4279bcc",
       "version_major": 2,
       "version_minor": 0
      },
      "text/plain": [
       "Epoch: 8:   0%|          | 0/399 [00:00<?, ?it/s]"
      ]
     },
     "metadata": {},
     "output_type": "display_data"
    },
    {
     "name": "stdout",
     "output_type": "stream",
     "text": [
      "Epoch [8], val_loss: 1.512e+00, train_loss: 1.349e+00, lrate: 1.000e-04\n"
     ]
    },
    {
     "data": {
      "application/vnd.jupyter.widget-view+json": {
       "model_id": "87e1bfa66d634191b31ddc4ee88ed330",
       "version_major": 2,
       "version_minor": 0
      },
      "text/plain": [
       "Epoch: 9:   0%|          | 0/399 [00:00<?, ?it/s]"
      ]
     },
     "metadata": {},
     "output_type": "display_data"
    },
    {
     "name": "stdout",
     "output_type": "stream",
     "text": [
      "Epoch [9], val_loss: 1.495e+00, train_loss: 1.332e+00, lrate: 1.000e-04\n"
     ]
    },
    {
     "data": {
      "application/vnd.jupyter.widget-view+json": {
       "model_id": "7c8232c21b844484873dddd23a6af535",
       "version_major": 2,
       "version_minor": 0
      },
      "text/plain": [
       "Epoch: 10:   0%|          | 0/399 [00:00<?, ?it/s]"
      ]
     },
     "metadata": {},
     "output_type": "display_data"
    },
    {
     "name": "stdout",
     "output_type": "stream",
     "text": [
      "Epoch [10], val_loss: 1.502e+00, train_loss: 1.318e+00, lrate: 1.000e-04\n"
     ]
    },
    {
     "data": {
      "application/vnd.jupyter.widget-view+json": {
       "model_id": "e33f319524d94791a6e34634a1e6b267",
       "version_major": 2,
       "version_minor": 0
      },
      "text/plain": [
       "Epoch: 11:   0%|          | 0/399 [00:00<?, ?it/s]"
      ]
     },
     "metadata": {},
     "output_type": "display_data"
    },
    {
     "name": "stdout",
     "output_type": "stream",
     "text": [
      "Epoch [11], val_loss: 1.499e+00, train_loss: 1.303e+00, lrate: 1.000e-04\n"
     ]
    },
    {
     "data": {
      "application/vnd.jupyter.widget-view+json": {
       "model_id": "c993ab03be244adeb572de00702cc7f1",
       "version_major": 2,
       "version_minor": 0
      },
      "text/plain": [
       "Epoch: 12:   0%|          | 0/399 [00:00<?, ?it/s]"
      ]
     },
     "metadata": {},
     "output_type": "display_data"
    },
    {
     "name": "stdout",
     "output_type": "stream",
     "text": [
      "Epoch [12], val_loss: 1.501e+00, train_loss: 1.292e+00, lrate: 1.000e-04\n"
     ]
    },
    {
     "data": {
      "application/vnd.jupyter.widget-view+json": {
       "model_id": "26f3738ee5474a41b6a3155661113aec",
       "version_major": 2,
       "version_minor": 0
      },
      "text/plain": [
       "Epoch: 13:   0%|          | 0/399 [00:00<?, ?it/s]"
      ]
     },
     "metadata": {},
     "output_type": "display_data"
    },
    {
     "name": "stdout",
     "output_type": "stream",
     "text": [
      "Epoch [13], val_loss: 1.502e+00, train_loss: 1.284e+00, lrate: 5.000e-05\n"
     ]
    },
    {
     "data": {
      "application/vnd.jupyter.widget-view+json": {
       "model_id": "5ff2b023b09441d095d163dd6b7eb64b",
       "version_major": 2,
       "version_minor": 0
      },
      "text/plain": [
       "Epoch: 14:   0%|          | 0/399 [00:00<?, ?it/s]"
      ]
     },
     "metadata": {},
     "output_type": "display_data"
    },
    {
     "name": "stdout",
     "output_type": "stream",
     "text": [
      "Early stopping\n",
      "------------fold no---------6----------------------\n"
     ]
    },
    {
     "data": {
      "application/vnd.jupyter.widget-view+json": {
       "model_id": "a80fa6e6d9c44a9480d3d9ffde71ee5d",
       "version_major": 2,
       "version_minor": 0
      },
      "text/plain": [
       "Current Epoch:   0%|          | 0/100 [00:00<?, ?it/s]"
      ]
     },
     "metadata": {},
     "output_type": "display_data"
    },
    {
     "data": {
      "application/vnd.jupyter.widget-view+json": {
       "model_id": "3fd9f48628cc4ee1972c79760092d12e",
       "version_major": 2,
       "version_minor": 0
      },
      "text/plain": [
       "Epoch: 0:   0%|          | 0/399 [00:00<?, ?it/s]"
      ]
     },
     "metadata": {},
     "output_type": "display_data"
    },
    {
     "name": "stdout",
     "output_type": "stream",
     "text": [
      "Epoch [0], val_loss: 1.633e+00, train_loss: 1.739e+00, lrate: 1.000e-04\n"
     ]
    },
    {
     "data": {
      "application/vnd.jupyter.widget-view+json": {
       "model_id": "6de7bb438f0848c6b91d51f3e226a39d",
       "version_major": 2,
       "version_minor": 0
      },
      "text/plain": [
       "Epoch: 1:   0%|          | 0/399 [00:00<?, ?it/s]"
      ]
     },
     "metadata": {},
     "output_type": "display_data"
    },
    {
     "name": "stdout",
     "output_type": "stream",
     "text": [
      "Epoch [1], val_loss: 1.573e+00, train_loss: 1.587e+00, lrate: 1.000e-04\n"
     ]
    },
    {
     "data": {
      "application/vnd.jupyter.widget-view+json": {
       "model_id": "3eec71192e71416ea381aa0723d655c7",
       "version_major": 2,
       "version_minor": 0
      },
      "text/plain": [
       "Epoch: 2:   0%|          | 0/399 [00:00<?, ?it/s]"
      ]
     },
     "metadata": {},
     "output_type": "display_data"
    },
    {
     "name": "stdout",
     "output_type": "stream",
     "text": [
      "Epoch [2], val_loss: 1.558e+00, train_loss: 1.521e+00, lrate: 1.000e-04\n"
     ]
    },
    {
     "data": {
      "application/vnd.jupyter.widget-view+json": {
       "model_id": "8d14fb5e42464b4bb0e64c1f77ee2eec",
       "version_major": 2,
       "version_minor": 0
      },
      "text/plain": [
       "Epoch: 3:   0%|          | 0/399 [00:00<?, ?it/s]"
      ]
     },
     "metadata": {},
     "output_type": "display_data"
    },
    {
     "name": "stdout",
     "output_type": "stream",
     "text": [
      "Epoch [3], val_loss: 1.538e+00, train_loss: 1.479e+00, lrate: 1.000e-04\n"
     ]
    },
    {
     "data": {
      "application/vnd.jupyter.widget-view+json": {
       "model_id": "3365938a35c34ad7909ce01cacb00b85",
       "version_major": 2,
       "version_minor": 0
      },
      "text/plain": [
       "Epoch: 4:   0%|          | 0/399 [00:00<?, ?it/s]"
      ]
     },
     "metadata": {},
     "output_type": "display_data"
    },
    {
     "name": "stdout",
     "output_type": "stream",
     "text": [
      "Epoch [4], val_loss: 1.530e+00, train_loss: 1.445e+00, lrate: 1.000e-04\n"
     ]
    },
    {
     "data": {
      "application/vnd.jupyter.widget-view+json": {
       "model_id": "a71a6bffd7e7469894775d3affe12744",
       "version_major": 2,
       "version_minor": 0
      },
      "text/plain": [
       "Epoch: 5:   0%|          | 0/399 [00:00<?, ?it/s]"
      ]
     },
     "metadata": {},
     "output_type": "display_data"
    },
    {
     "name": "stdout",
     "output_type": "stream",
     "text": [
      "Epoch [5], val_loss: 1.520e+00, train_loss: 1.414e+00, lrate: 1.000e-04\n"
     ]
    },
    {
     "data": {
      "application/vnd.jupyter.widget-view+json": {
       "model_id": "c70a369857b84916870cd14f476b012f",
       "version_major": 2,
       "version_minor": 0
      },
      "text/plain": [
       "Epoch: 6:   0%|          | 0/399 [00:00<?, ?it/s]"
      ]
     },
     "metadata": {},
     "output_type": "display_data"
    },
    {
     "name": "stdout",
     "output_type": "stream",
     "text": [
      "Epoch [6], val_loss: 1.508e+00, train_loss: 1.388e+00, lrate: 1.000e-04\n"
     ]
    },
    {
     "data": {
      "application/vnd.jupyter.widget-view+json": {
       "model_id": "b29ab7cfd0464f1abfcee6acee96d360",
       "version_major": 2,
       "version_minor": 0
      },
      "text/plain": [
       "Epoch: 7:   0%|          | 0/399 [00:00<?, ?it/s]"
      ]
     },
     "metadata": {},
     "output_type": "display_data"
    },
    {
     "name": "stdout",
     "output_type": "stream",
     "text": [
      "Epoch [7], val_loss: 1.515e+00, train_loss: 1.365e+00, lrate: 1.000e-04\n"
     ]
    },
    {
     "data": {
      "application/vnd.jupyter.widget-view+json": {
       "model_id": "302894ea85dc48839ad723027a6ccd51",
       "version_major": 2,
       "version_minor": 0
      },
      "text/plain": [
       "Epoch: 8:   0%|          | 0/399 [00:00<?, ?it/s]"
      ]
     },
     "metadata": {},
     "output_type": "display_data"
    },
    {
     "name": "stdout",
     "output_type": "stream",
     "text": [
      "Epoch [8], val_loss: 1.511e+00, train_loss: 1.345e+00, lrate: 1.000e-04\n"
     ]
    },
    {
     "data": {
      "application/vnd.jupyter.widget-view+json": {
       "model_id": "4fce53bfa379414781c67cddc7b7078c",
       "version_major": 2,
       "version_minor": 0
      },
      "text/plain": [
       "Epoch: 9:   0%|          | 0/399 [00:00<?, ?it/s]"
      ]
     },
     "metadata": {},
     "output_type": "display_data"
    },
    {
     "name": "stdout",
     "output_type": "stream",
     "text": [
      "Epoch [9], val_loss: 1.502e+00, train_loss: 1.329e+00, lrate: 1.000e-04\n"
     ]
    },
    {
     "data": {
      "application/vnd.jupyter.widget-view+json": {
       "model_id": "7f2532ece5c5402bae323684dba2b77d",
       "version_major": 2,
       "version_minor": 0
      },
      "text/plain": [
       "Epoch: 10:   0%|          | 0/399 [00:00<?, ?it/s]"
      ]
     },
     "metadata": {},
     "output_type": "display_data"
    },
    {
     "name": "stdout",
     "output_type": "stream",
     "text": [
      "Epoch [10], val_loss: 1.507e+00, train_loss: 1.314e+00, lrate: 1.000e-04\n"
     ]
    },
    {
     "data": {
      "application/vnd.jupyter.widget-view+json": {
       "model_id": "9f880c77c7b34e7ea97222e211c8680b",
       "version_major": 2,
       "version_minor": 0
      },
      "text/plain": [
       "Epoch: 11:   0%|          | 0/399 [00:00<?, ?it/s]"
      ]
     },
     "metadata": {},
     "output_type": "display_data"
    },
    {
     "name": "stdout",
     "output_type": "stream",
     "text": [
      "Epoch [11], val_loss: 1.491e+00, train_loss: 1.303e+00, lrate: 1.000e-04\n"
     ]
    },
    {
     "data": {
      "application/vnd.jupyter.widget-view+json": {
       "model_id": "1cebefbb11364785848f832a79fe5e36",
       "version_major": 2,
       "version_minor": 0
      },
      "text/plain": [
       "Epoch: 12:   0%|          | 0/399 [00:00<?, ?it/s]"
      ]
     },
     "metadata": {},
     "output_type": "display_data"
    },
    {
     "name": "stdout",
     "output_type": "stream",
     "text": [
      "Epoch [12], val_loss: 1.500e+00, train_loss: 1.290e+00, lrate: 1.000e-04\n"
     ]
    },
    {
     "data": {
      "application/vnd.jupyter.widget-view+json": {
       "model_id": "bed86cd22a184f57ab8cedd8329406de",
       "version_major": 2,
       "version_minor": 0
      },
      "text/plain": [
       "Epoch: 13:   0%|          | 0/399 [00:00<?, ?it/s]"
      ]
     },
     "metadata": {},
     "output_type": "display_data"
    },
    {
     "name": "stdout",
     "output_type": "stream",
     "text": [
      "Epoch [13], val_loss: 1.503e+00, train_loss: 1.282e+00, lrate: 1.000e-04\n"
     ]
    },
    {
     "data": {
      "application/vnd.jupyter.widget-view+json": {
       "model_id": "4b6b74ed899144209579b471d184996e",
       "version_major": 2,
       "version_minor": 0
      },
      "text/plain": [
       "Epoch: 14:   0%|          | 0/399 [00:00<?, ?it/s]"
      ]
     },
     "metadata": {},
     "output_type": "display_data"
    },
    {
     "name": "stdout",
     "output_type": "stream",
     "text": [
      "Epoch [14], val_loss: 1.513e+00, train_loss: 1.275e+00, lrate: 1.000e-04\n"
     ]
    },
    {
     "data": {
      "application/vnd.jupyter.widget-view+json": {
       "model_id": "92854da6bf6a4ab08e74915acded4b68",
       "version_major": 2,
       "version_minor": 0
      },
      "text/plain": [
       "Epoch: 15:   0%|          | 0/399 [00:00<?, ?it/s]"
      ]
     },
     "metadata": {},
     "output_type": "display_data"
    },
    {
     "name": "stdout",
     "output_type": "stream",
     "text": [
      "Epoch [15], val_loss: 1.508e+00, train_loss: 1.265e+00, lrate: 5.000e-05\n"
     ]
    },
    {
     "data": {
      "application/vnd.jupyter.widget-view+json": {
       "model_id": "77f781a61b654ce0a2ef58fd293ebce3",
       "version_major": 2,
       "version_minor": 0
      },
      "text/plain": [
       "Epoch: 16:   0%|          | 0/399 [00:00<?, ?it/s]"
      ]
     },
     "metadata": {},
     "output_type": "display_data"
    },
    {
     "name": "stdout",
     "output_type": "stream",
     "text": [
      "Early stopping\n",
      "------------fold no---------7----------------------\n"
     ]
    },
    {
     "data": {
      "application/vnd.jupyter.widget-view+json": {
       "model_id": "ab959f56ef824bebbfd3aac3207b9e38",
       "version_major": 2,
       "version_minor": 0
      },
      "text/plain": [
       "Current Epoch:   0%|          | 0/100 [00:00<?, ?it/s]"
      ]
     },
     "metadata": {},
     "output_type": "display_data"
    },
    {
     "data": {
      "application/vnd.jupyter.widget-view+json": {
       "model_id": "4d7e8285c039496fa7b057ad2f99a57e",
       "version_major": 2,
       "version_minor": 0
      },
      "text/plain": [
       "Epoch: 0:   0%|          | 0/399 [00:00<?, ?it/s]"
      ]
     },
     "metadata": {},
     "output_type": "display_data"
    },
    {
     "name": "stdout",
     "output_type": "stream",
     "text": [
      "Epoch [0], val_loss: 1.648e+00, train_loss: 1.728e+00, lrate: 1.000e-04\n"
     ]
    },
    {
     "data": {
      "application/vnd.jupyter.widget-view+json": {
       "model_id": "9de9973c967441b4b0d707d8e48cb77f",
       "version_major": 2,
       "version_minor": 0
      },
      "text/plain": [
       "Epoch: 1:   0%|          | 0/399 [00:00<?, ?it/s]"
      ]
     },
     "metadata": {},
     "output_type": "display_data"
    },
    {
     "name": "stdout",
     "output_type": "stream",
     "text": [
      "Epoch [1], val_loss: 1.591e+00, train_loss: 1.580e+00, lrate: 1.000e-04\n"
     ]
    },
    {
     "data": {
      "application/vnd.jupyter.widget-view+json": {
       "model_id": "baa77b27e8b844afa3acab2f6108c1f7",
       "version_major": 2,
       "version_minor": 0
      },
      "text/plain": [
       "Epoch: 2:   0%|          | 0/399 [00:00<?, ?it/s]"
      ]
     },
     "metadata": {},
     "output_type": "display_data"
    },
    {
     "name": "stdout",
     "output_type": "stream",
     "text": [
      "Epoch [2], val_loss: 1.555e+00, train_loss: 1.517e+00, lrate: 1.000e-04\n"
     ]
    },
    {
     "data": {
      "application/vnd.jupyter.widget-view+json": {
       "model_id": "5222c50ee1a74833ad1e7e09bd4339e9",
       "version_major": 2,
       "version_minor": 0
      },
      "text/plain": [
       "Epoch: 3:   0%|          | 0/399 [00:00<?, ?it/s]"
      ]
     },
     "metadata": {},
     "output_type": "display_data"
    },
    {
     "name": "stdout",
     "output_type": "stream",
     "text": [
      "Epoch [3], val_loss: 1.552e+00, train_loss: 1.473e+00, lrate: 1.000e-04\n"
     ]
    },
    {
     "data": {
      "application/vnd.jupyter.widget-view+json": {
       "model_id": "9193482871bd47aaa5acda1839c29397",
       "version_major": 2,
       "version_minor": 0
      },
      "text/plain": [
       "Epoch: 4:   0%|          | 0/399 [00:00<?, ?it/s]"
      ]
     },
     "metadata": {},
     "output_type": "display_data"
    },
    {
     "name": "stdout",
     "output_type": "stream",
     "text": [
      "Epoch [4], val_loss: 1.528e+00, train_loss: 1.439e+00, lrate: 1.000e-04\n"
     ]
    },
    {
     "data": {
      "application/vnd.jupyter.widget-view+json": {
       "model_id": "71aa25f2a5df45a7be80f956b122b1d5",
       "version_major": 2,
       "version_minor": 0
      },
      "text/plain": [
       "Epoch: 5:   0%|          | 0/399 [00:00<?, ?it/s]"
      ]
     },
     "metadata": {},
     "output_type": "display_data"
    },
    {
     "name": "stdout",
     "output_type": "stream",
     "text": [
      "Epoch [5], val_loss: 1.534e+00, train_loss: 1.409e+00, lrate: 1.000e-04\n"
     ]
    },
    {
     "data": {
      "application/vnd.jupyter.widget-view+json": {
       "model_id": "c6207c33431044fc9a2411819f9cfc1e",
       "version_major": 2,
       "version_minor": 0
      },
      "text/plain": [
       "Epoch: 6:   0%|          | 0/399 [00:00<?, ?it/s]"
      ]
     },
     "metadata": {},
     "output_type": "display_data"
    },
    {
     "name": "stdout",
     "output_type": "stream",
     "text": [
      "Epoch [6], val_loss: 1.532e+00, train_loss: 1.385e+00, lrate: 1.000e-04\n"
     ]
    },
    {
     "data": {
      "application/vnd.jupyter.widget-view+json": {
       "model_id": "babba12969164271ab3ab6444ed78fd8",
       "version_major": 2,
       "version_minor": 0
      },
      "text/plain": [
       "Epoch: 7:   0%|          | 0/399 [00:00<?, ?it/s]"
      ]
     },
     "metadata": {},
     "output_type": "display_data"
    },
    {
     "name": "stdout",
     "output_type": "stream",
     "text": [
      "Epoch [7], val_loss: 1.513e+00, train_loss: 1.364e+00, lrate: 1.000e-04\n"
     ]
    },
    {
     "data": {
      "application/vnd.jupyter.widget-view+json": {
       "model_id": "3fdd7c5ec9714ac0a5e1bee074a68e70",
       "version_major": 2,
       "version_minor": 0
      },
      "text/plain": [
       "Epoch: 8:   0%|          | 0/399 [00:00<?, ?it/s]"
      ]
     },
     "metadata": {},
     "output_type": "display_data"
    },
    {
     "name": "stdout",
     "output_type": "stream",
     "text": [
      "Epoch [8], val_loss: 1.514e+00, train_loss: 1.347e+00, lrate: 1.000e-04\n"
     ]
    },
    {
     "data": {
      "application/vnd.jupyter.widget-view+json": {
       "model_id": "7744e94c51d5411fa6715503f1fd3759",
       "version_major": 2,
       "version_minor": 0
      },
      "text/plain": [
       "Epoch: 9:   0%|          | 0/399 [00:00<?, ?it/s]"
      ]
     },
     "metadata": {},
     "output_type": "display_data"
    },
    {
     "name": "stdout",
     "output_type": "stream",
     "text": [
      "Epoch [9], val_loss: 1.511e+00, train_loss: 1.332e+00, lrate: 1.000e-04\n"
     ]
    },
    {
     "data": {
      "application/vnd.jupyter.widget-view+json": {
       "model_id": "6e5be6e20baf4b0a8b3140e82d59527f",
       "version_major": 2,
       "version_minor": 0
      },
      "text/plain": [
       "Epoch: 10:   0%|          | 0/399 [00:00<?, ?it/s]"
      ]
     },
     "metadata": {},
     "output_type": "display_data"
    },
    {
     "name": "stdout",
     "output_type": "stream",
     "text": [
      "Epoch [10], val_loss: 1.515e+00, train_loss: 1.315e+00, lrate: 1.000e-04\n"
     ]
    },
    {
     "data": {
      "application/vnd.jupyter.widget-view+json": {
       "model_id": "a80d58f915904566b5e5cea272d7c4fa",
       "version_major": 2,
       "version_minor": 0
      },
      "text/plain": [
       "Epoch: 11:   0%|          | 0/399 [00:00<?, ?it/s]"
      ]
     },
     "metadata": {},
     "output_type": "display_data"
    },
    {
     "name": "stdout",
     "output_type": "stream",
     "text": [
      "Epoch [11], val_loss: 1.514e+00, train_loss: 1.303e+00, lrate: 1.000e-04\n"
     ]
    },
    {
     "data": {
      "application/vnd.jupyter.widget-view+json": {
       "model_id": "5ea72f81a4b142458f7a57c4ab8261da",
       "version_major": 2,
       "version_minor": 0
      },
      "text/plain": [
       "Epoch: 12:   0%|          | 0/399 [00:00<?, ?it/s]"
      ]
     },
     "metadata": {},
     "output_type": "display_data"
    },
    {
     "name": "stdout",
     "output_type": "stream",
     "text": [
      "Epoch [12], val_loss: 1.504e+00, train_loss: 1.292e+00, lrate: 1.000e-04\n"
     ]
    },
    {
     "data": {
      "application/vnd.jupyter.widget-view+json": {
       "model_id": "c96ff89caa464944b41bca9eb3d32ae6",
       "version_major": 2,
       "version_minor": 0
      },
      "text/plain": [
       "Epoch: 13:   0%|          | 0/399 [00:00<?, ?it/s]"
      ]
     },
     "metadata": {},
     "output_type": "display_data"
    },
    {
     "name": "stdout",
     "output_type": "stream",
     "text": [
      "Epoch [13], val_loss: 1.511e+00, train_loss: 1.282e+00, lrate: 1.000e-04\n"
     ]
    },
    {
     "data": {
      "application/vnd.jupyter.widget-view+json": {
       "model_id": "dc6fdcd2c074409197d36899f7d66fe2",
       "version_major": 2,
       "version_minor": 0
      },
      "text/plain": [
       "Epoch: 14:   0%|          | 0/399 [00:00<?, ?it/s]"
      ]
     },
     "metadata": {},
     "output_type": "display_data"
    },
    {
     "name": "stdout",
     "output_type": "stream",
     "text": [
      "Epoch [14], val_loss: 1.512e+00, train_loss: 1.275e+00, lrate: 1.000e-04\n"
     ]
    },
    {
     "data": {
      "application/vnd.jupyter.widget-view+json": {
       "model_id": "5a64a2be4e6d4e38971e6191564be507",
       "version_major": 2,
       "version_minor": 0
      },
      "text/plain": [
       "Epoch: 15:   0%|          | 0/399 [00:00<?, ?it/s]"
      ]
     },
     "metadata": {},
     "output_type": "display_data"
    },
    {
     "name": "stdout",
     "output_type": "stream",
     "text": [
      "Epoch [15], val_loss: 1.509e+00, train_loss: 1.270e+00, lrate: 1.000e-04\n"
     ]
    },
    {
     "data": {
      "application/vnd.jupyter.widget-view+json": {
       "model_id": "de373379fcf549a49dc773ae94957198",
       "version_major": 2,
       "version_minor": 0
      },
      "text/plain": [
       "Epoch: 16:   0%|          | 0/399 [00:00<?, ?it/s]"
      ]
     },
     "metadata": {},
     "output_type": "display_data"
    },
    {
     "name": "stdout",
     "output_type": "stream",
     "text": [
      "Epoch [16], val_loss: 1.504e+00, train_loss: 1.262e+00, lrate: 5.000e-05\n"
     ]
    },
    {
     "data": {
      "application/vnd.jupyter.widget-view+json": {
       "model_id": "b64b34c22bf64f4f826911c153ce9ccd",
       "version_major": 2,
       "version_minor": 0
      },
      "text/plain": [
       "Epoch: 17:   0%|          | 0/399 [00:00<?, ?it/s]"
      ]
     },
     "metadata": {},
     "output_type": "display_data"
    },
    {
     "name": "stdout",
     "output_type": "stream",
     "text": [
      "Epoch [17], val_loss: 1.500e+00, train_loss: 1.250e+00, lrate: 5.000e-05\n"
     ]
    },
    {
     "data": {
      "application/vnd.jupyter.widget-view+json": {
       "model_id": "a4e85dc9199e4644ba728c11288c3361",
       "version_major": 2,
       "version_minor": 0
      },
      "text/plain": [
       "Epoch: 18:   0%|          | 0/399 [00:00<?, ?it/s]"
      ]
     },
     "metadata": {},
     "output_type": "display_data"
    },
    {
     "name": "stdout",
     "output_type": "stream",
     "text": [
      "Epoch [18], val_loss: 1.500e+00, train_loss: 1.246e+00, lrate: 5.000e-05\n"
     ]
    },
    {
     "data": {
      "application/vnd.jupyter.widget-view+json": {
       "model_id": "6824ff3e7f3645d092c0a758f5151c88",
       "version_major": 2,
       "version_minor": 0
      },
      "text/plain": [
       "Epoch: 19:   0%|          | 0/399 [00:00<?, ?it/s]"
      ]
     },
     "metadata": {},
     "output_type": "display_data"
    },
    {
     "name": "stdout",
     "output_type": "stream",
     "text": [
      "Epoch [19], val_loss: 1.499e+00, train_loss: 1.244e+00, lrate: 5.000e-05\n"
     ]
    },
    {
     "data": {
      "application/vnd.jupyter.widget-view+json": {
       "model_id": "2902e304e8094814a53065b5bbdafd75",
       "version_major": 2,
       "version_minor": 0
      },
      "text/plain": [
       "Epoch: 20:   0%|          | 0/399 [00:00<?, ?it/s]"
      ]
     },
     "metadata": {},
     "output_type": "display_data"
    },
    {
     "name": "stdout",
     "output_type": "stream",
     "text": [
      "Epoch [20], val_loss: 1.499e+00, train_loss: 1.241e+00, lrate: 5.000e-05\n"
     ]
    },
    {
     "data": {
      "application/vnd.jupyter.widget-view+json": {
       "model_id": "d926bdc3a2cb40f69bf8c7f23d312cc8",
       "version_major": 2,
       "version_minor": 0
      },
      "text/plain": [
       "Epoch: 21:   0%|          | 0/399 [00:00<?, ?it/s]"
      ]
     },
     "metadata": {},
     "output_type": "display_data"
    },
    {
     "name": "stdout",
     "output_type": "stream",
     "text": [
      "Epoch [21], val_loss: 1.501e+00, train_loss: 1.240e+00, lrate: 5.000e-05\n"
     ]
    },
    {
     "data": {
      "application/vnd.jupyter.widget-view+json": {
       "model_id": "92341204d1384037be41bd647a117ba3",
       "version_major": 2,
       "version_minor": 0
      },
      "text/plain": [
       "Epoch: 22:   0%|          | 0/399 [00:00<?, ?it/s]"
      ]
     },
     "metadata": {},
     "output_type": "display_data"
    },
    {
     "name": "stdout",
     "output_type": "stream",
     "text": [
      "Epoch [22], val_loss: 1.497e+00, train_loss: 1.237e+00, lrate: 5.000e-05\n"
     ]
    },
    {
     "data": {
      "application/vnd.jupyter.widget-view+json": {
       "model_id": "9ee7bf9ed35e40ea87e4d78b19870577",
       "version_major": 2,
       "version_minor": 0
      },
      "text/plain": [
       "Epoch: 23:   0%|          | 0/399 [00:00<?, ?it/s]"
      ]
     },
     "metadata": {},
     "output_type": "display_data"
    },
    {
     "name": "stdout",
     "output_type": "stream",
     "text": [
      "Epoch [23], val_loss: 1.496e+00, train_loss: 1.236e+00, lrate: 5.000e-05\n"
     ]
    },
    {
     "data": {
      "application/vnd.jupyter.widget-view+json": {
       "model_id": "b7b5501d202f490e939443f73b5569f1",
       "version_major": 2,
       "version_minor": 0
      },
      "text/plain": [
       "Epoch: 24:   0%|          | 0/399 [00:00<?, ?it/s]"
      ]
     },
     "metadata": {},
     "output_type": "display_data"
    },
    {
     "name": "stdout",
     "output_type": "stream",
     "text": [
      "Epoch [24], val_loss: 1.498e+00, train_loss: 1.235e+00, lrate: 5.000e-05\n"
     ]
    },
    {
     "data": {
      "application/vnd.jupyter.widget-view+json": {
       "model_id": "db57185158f9407e9d8ce77d690d7803",
       "version_major": 2,
       "version_minor": 0
      },
      "text/plain": [
       "Epoch: 25:   0%|          | 0/399 [00:00<?, ?it/s]"
      ]
     },
     "metadata": {},
     "output_type": "display_data"
    },
    {
     "name": "stdout",
     "output_type": "stream",
     "text": [
      "Epoch [25], val_loss: 1.503e+00, train_loss: 1.234e+00, lrate: 5.000e-05\n"
     ]
    },
    {
     "data": {
      "application/vnd.jupyter.widget-view+json": {
       "model_id": "603819a104534d1ca2e92881720c27a6",
       "version_major": 2,
       "version_minor": 0
      },
      "text/plain": [
       "Epoch: 26:   0%|          | 0/399 [00:00<?, ?it/s]"
      ]
     },
     "metadata": {},
     "output_type": "display_data"
    },
    {
     "name": "stdout",
     "output_type": "stream",
     "text": [
      "Epoch [26], val_loss: 1.502e+00, train_loss: 1.232e+00, lrate: 5.000e-05\n"
     ]
    },
    {
     "data": {
      "application/vnd.jupyter.widget-view+json": {
       "model_id": "89362b81fc3c41e390c027e53c61b3c5",
       "version_major": 2,
       "version_minor": 0
      },
      "text/plain": [
       "Epoch: 27:   0%|          | 0/399 [00:00<?, ?it/s]"
      ]
     },
     "metadata": {},
     "output_type": "display_data"
    },
    {
     "name": "stdout",
     "output_type": "stream",
     "text": [
      "Epoch [27], val_loss: 1.501e+00, train_loss: 1.231e+00, lrate: 2.500e-05\n"
     ]
    },
    {
     "data": {
      "application/vnd.jupyter.widget-view+json": {
       "model_id": "3e5cec90e9144ef7bb0cba94d7284161",
       "version_major": 2,
       "version_minor": 0
      },
      "text/plain": [
       "Epoch: 28:   0%|          | 0/399 [00:00<?, ?it/s]"
      ]
     },
     "metadata": {},
     "output_type": "display_data"
    },
    {
     "name": "stdout",
     "output_type": "stream",
     "text": [
      "Early stopping\n",
      "------------fold no---------8----------------------\n"
     ]
    },
    {
     "data": {
      "application/vnd.jupyter.widget-view+json": {
       "model_id": "f126c3f94ce24d63bdd72acc2d5a40ae",
       "version_major": 2,
       "version_minor": 0
      },
      "text/plain": [
       "Current Epoch:   0%|          | 0/100 [00:00<?, ?it/s]"
      ]
     },
     "metadata": {},
     "output_type": "display_data"
    },
    {
     "data": {
      "application/vnd.jupyter.widget-view+json": {
       "model_id": "61b6eabc4bce4443a9f93be5e796de48",
       "version_major": 2,
       "version_minor": 0
      },
      "text/plain": [
       "Epoch: 0:   0%|          | 0/399 [00:00<?, ?it/s]"
      ]
     },
     "metadata": {},
     "output_type": "display_data"
    },
    {
     "name": "stdout",
     "output_type": "stream",
     "text": [
      "Epoch [0], val_loss: 1.632e+00, train_loss: 1.727e+00, lrate: 1.000e-04\n"
     ]
    },
    {
     "data": {
      "application/vnd.jupyter.widget-view+json": {
       "model_id": "2eb2bf5ddf584f3cb3de75929d5f3390",
       "version_major": 2,
       "version_minor": 0
      },
      "text/plain": [
       "Epoch: 1:   0%|          | 0/399 [00:00<?, ?it/s]"
      ]
     },
     "metadata": {},
     "output_type": "display_data"
    },
    {
     "name": "stdout",
     "output_type": "stream",
     "text": [
      "Epoch [1], val_loss: 1.594e+00, train_loss: 1.585e+00, lrate: 1.000e-04\n"
     ]
    },
    {
     "data": {
      "application/vnd.jupyter.widget-view+json": {
       "model_id": "ce30d835925749bfab3a5796c2c20914",
       "version_major": 2,
       "version_minor": 0
      },
      "text/plain": [
       "Epoch: 2:   0%|          | 0/399 [00:00<?, ?it/s]"
      ]
     },
     "metadata": {},
     "output_type": "display_data"
    },
    {
     "name": "stdout",
     "output_type": "stream",
     "text": [
      "Epoch [2], val_loss: 1.555e+00, train_loss: 1.521e+00, lrate: 1.000e-04\n"
     ]
    },
    {
     "data": {
      "application/vnd.jupyter.widget-view+json": {
       "model_id": "dc15dbac23f74dc28705876425ca7337",
       "version_major": 2,
       "version_minor": 0
      },
      "text/plain": [
       "Epoch: 3:   0%|          | 0/399 [00:00<?, ?it/s]"
      ]
     },
     "metadata": {},
     "output_type": "display_data"
    },
    {
     "name": "stdout",
     "output_type": "stream",
     "text": [
      "Epoch [3], val_loss: 1.537e+00, train_loss: 1.479e+00, lrate: 1.000e-04\n"
     ]
    },
    {
     "data": {
      "application/vnd.jupyter.widget-view+json": {
       "model_id": "aaea5e95fb7e40baad0ba30ee833e8e0",
       "version_major": 2,
       "version_minor": 0
      },
      "text/plain": [
       "Epoch: 4:   0%|          | 0/399 [00:00<?, ?it/s]"
      ]
     },
     "metadata": {},
     "output_type": "display_data"
    },
    {
     "name": "stdout",
     "output_type": "stream",
     "text": [
      "Epoch [4], val_loss: 1.535e+00, train_loss: 1.443e+00, lrate: 1.000e-04\n"
     ]
    },
    {
     "data": {
      "application/vnd.jupyter.widget-view+json": {
       "model_id": "b567cb8be859438f9b4a7edf8a528b01",
       "version_major": 2,
       "version_minor": 0
      },
      "text/plain": [
       "Epoch: 5:   0%|          | 0/399 [00:00<?, ?it/s]"
      ]
     },
     "metadata": {},
     "output_type": "display_data"
    },
    {
     "name": "stdout",
     "output_type": "stream",
     "text": [
      "Epoch [5], val_loss: 1.520e+00, train_loss: 1.414e+00, lrate: 1.000e-04\n"
     ]
    },
    {
     "data": {
      "application/vnd.jupyter.widget-view+json": {
       "model_id": "f9954d1ac3564bffa8aa96325153c933",
       "version_major": 2,
       "version_minor": 0
      },
      "text/plain": [
       "Epoch: 6:   0%|          | 0/399 [00:00<?, ?it/s]"
      ]
     },
     "metadata": {},
     "output_type": "display_data"
    },
    {
     "name": "stdout",
     "output_type": "stream",
     "text": [
      "Epoch [6], val_loss: 1.521e+00, train_loss: 1.388e+00, lrate: 1.000e-04\n"
     ]
    },
    {
     "data": {
      "application/vnd.jupyter.widget-view+json": {
       "model_id": "378c4c6ee46c49998c1f76849e96de42",
       "version_major": 2,
       "version_minor": 0
      },
      "text/plain": [
       "Epoch: 7:   0%|          | 0/399 [00:00<?, ?it/s]"
      ]
     },
     "metadata": {},
     "output_type": "display_data"
    },
    {
     "name": "stdout",
     "output_type": "stream",
     "text": [
      "Epoch [7], val_loss: 1.525e+00, train_loss: 1.365e+00, lrate: 1.000e-04\n"
     ]
    },
    {
     "data": {
      "application/vnd.jupyter.widget-view+json": {
       "model_id": "968f7c3a3bc04657b9c42e33e326038d",
       "version_major": 2,
       "version_minor": 0
      },
      "text/plain": [
       "Epoch: 8:   0%|          | 0/399 [00:00<?, ?it/s]"
      ]
     },
     "metadata": {},
     "output_type": "display_data"
    },
    {
     "name": "stdout",
     "output_type": "stream",
     "text": [
      "Epoch [8], val_loss: 1.523e+00, train_loss: 1.346e+00, lrate: 1.000e-04\n"
     ]
    },
    {
     "data": {
      "application/vnd.jupyter.widget-view+json": {
       "model_id": "774874678f474b9a916ca0c3da8c6536",
       "version_major": 2,
       "version_minor": 0
      },
      "text/plain": [
       "Epoch: 9:   0%|          | 0/399 [00:00<?, ?it/s]"
      ]
     },
     "metadata": {},
     "output_type": "display_data"
    },
    {
     "name": "stdout",
     "output_type": "stream",
     "text": [
      "Epoch [9], val_loss: 1.523e+00, train_loss: 1.327e+00, lrate: 5.000e-05\n"
     ]
    },
    {
     "data": {
      "application/vnd.jupyter.widget-view+json": {
       "model_id": "0ef0aa026e6e48359c0266718a4510ae",
       "version_major": 2,
       "version_minor": 0
      },
      "text/plain": [
       "Epoch: 10:   0%|          | 0/399 [00:00<?, ?it/s]"
      ]
     },
     "metadata": {},
     "output_type": "display_data"
    },
    {
     "name": "stdout",
     "output_type": "stream",
     "text": [
      "Epoch [10], val_loss: 1.506e+00, train_loss: 1.303e+00, lrate: 5.000e-05\n"
     ]
    },
    {
     "data": {
      "application/vnd.jupyter.widget-view+json": {
       "model_id": "2b1d4a7a56264d88a2b30ec11da2b062",
       "version_major": 2,
       "version_minor": 0
      },
      "text/plain": [
       "Epoch: 11:   0%|          | 0/399 [00:00<?, ?it/s]"
      ]
     },
     "metadata": {},
     "output_type": "display_data"
    },
    {
     "name": "stdout",
     "output_type": "stream",
     "text": [
      "Epoch [11], val_loss: 1.509e+00, train_loss: 1.292e+00, lrate: 5.000e-05\n"
     ]
    },
    {
     "data": {
      "application/vnd.jupyter.widget-view+json": {
       "model_id": "76f1c4d9b72a45d28e790a6b0d0ed137",
       "version_major": 2,
       "version_minor": 0
      },
      "text/plain": [
       "Epoch: 12:   0%|          | 0/399 [00:00<?, ?it/s]"
      ]
     },
     "metadata": {},
     "output_type": "display_data"
    },
    {
     "name": "stdout",
     "output_type": "stream",
     "text": [
      "Epoch [12], val_loss: 1.517e+00, train_loss: 1.284e+00, lrate: 5.000e-05\n"
     ]
    },
    {
     "data": {
      "application/vnd.jupyter.widget-view+json": {
       "model_id": "fd4a5f74914b4362abbd86ca4d87a085",
       "version_major": 2,
       "version_minor": 0
      },
      "text/plain": [
       "Epoch: 13:   0%|          | 0/399 [00:00<?, ?it/s]"
      ]
     },
     "metadata": {},
     "output_type": "display_data"
    },
    {
     "name": "stdout",
     "output_type": "stream",
     "text": [
      "Epoch [13], val_loss: 1.512e+00, train_loss: 1.277e+00, lrate: 5.000e-05\n"
     ]
    },
    {
     "data": {
      "application/vnd.jupyter.widget-view+json": {
       "model_id": "135f75e9917646e7a565c0a4366d37c0",
       "version_major": 2,
       "version_minor": 0
      },
      "text/plain": [
       "Epoch: 14:   0%|          | 0/399 [00:00<?, ?it/s]"
      ]
     },
     "metadata": {},
     "output_type": "display_data"
    },
    {
     "name": "stdout",
     "output_type": "stream",
     "text": [
      "Epoch [14], val_loss: 1.510e+00, train_loss: 1.270e+00, lrate: 2.500e-05\n"
     ]
    },
    {
     "data": {
      "application/vnd.jupyter.widget-view+json": {
       "model_id": "46d04e89e8ae4f44a2fe561aeb0e1d61",
       "version_major": 2,
       "version_minor": 0
      },
      "text/plain": [
       "Epoch: 15:   0%|          | 0/399 [00:00<?, ?it/s]"
      ]
     },
     "metadata": {},
     "output_type": "display_data"
    },
    {
     "name": "stdout",
     "output_type": "stream",
     "text": [
      "Epoch [15], val_loss: 1.506e+00, train_loss: 1.262e+00, lrate: 2.500e-05\n"
     ]
    },
    {
     "data": {
      "application/vnd.jupyter.widget-view+json": {
       "model_id": "f74f4a871d3245c09dfba9aab4af2efa",
       "version_major": 2,
       "version_minor": 0
      },
      "text/plain": [
       "Epoch: 16:   0%|          | 0/399 [00:00<?, ?it/s]"
      ]
     },
     "metadata": {},
     "output_type": "display_data"
    },
    {
     "name": "stdout",
     "output_type": "stream",
     "text": [
      "Epoch [16], val_loss: 1.508e+00, train_loss: 1.258e+00, lrate: 2.500e-05\n"
     ]
    },
    {
     "data": {
      "application/vnd.jupyter.widget-view+json": {
       "model_id": "081745c01b5748cc9fb015ab080f08ae",
       "version_major": 2,
       "version_minor": 0
      },
      "text/plain": [
       "Epoch: 17:   0%|          | 0/399 [00:00<?, ?it/s]"
      ]
     },
     "metadata": {},
     "output_type": "display_data"
    },
    {
     "name": "stdout",
     "output_type": "stream",
     "text": [
      "Epoch [17], val_loss: 1.511e+00, train_loss: 1.255e+00, lrate: 2.500e-05\n"
     ]
    },
    {
     "data": {
      "application/vnd.jupyter.widget-view+json": {
       "model_id": "08e038da15654b4b9a211be2b7927921",
       "version_major": 2,
       "version_minor": 0
      },
      "text/plain": [
       "Epoch: 18:   0%|          | 0/399 [00:00<?, ?it/s]"
      ]
     },
     "metadata": {},
     "output_type": "display_data"
    },
    {
     "name": "stdout",
     "output_type": "stream",
     "text": [
      "Epoch [18], val_loss: 1.505e+00, train_loss: 1.252e+00, lrate: 2.500e-05\n"
     ]
    },
    {
     "data": {
      "application/vnd.jupyter.widget-view+json": {
       "model_id": "0a644ab6c03148cc9b98488461138f2a",
       "version_major": 2,
       "version_minor": 0
      },
      "text/plain": [
       "Epoch: 19:   0%|          | 0/399 [00:00<?, ?it/s]"
      ]
     },
     "metadata": {},
     "output_type": "display_data"
    },
    {
     "name": "stdout",
     "output_type": "stream",
     "text": [
      "Epoch [19], val_loss: 1.510e+00, train_loss: 1.249e+00, lrate: 2.500e-05\n"
     ]
    },
    {
     "data": {
      "application/vnd.jupyter.widget-view+json": {
       "model_id": "1534789987b340f79c9420465d6fd8a7",
       "version_major": 2,
       "version_minor": 0
      },
      "text/plain": [
       "Epoch: 20:   0%|          | 0/399 [00:00<?, ?it/s]"
      ]
     },
     "metadata": {},
     "output_type": "display_data"
    },
    {
     "name": "stdout",
     "output_type": "stream",
     "text": [
      "Epoch [20], val_loss: 1.504e+00, train_loss: 1.247e+00, lrate: 2.500e-05\n"
     ]
    },
    {
     "data": {
      "application/vnd.jupyter.widget-view+json": {
       "model_id": "eae68abc15814b47a54e7201d2545869",
       "version_major": 2,
       "version_minor": 0
      },
      "text/plain": [
       "Epoch: 21:   0%|          | 0/399 [00:00<?, ?it/s]"
      ]
     },
     "metadata": {},
     "output_type": "display_data"
    },
    {
     "name": "stdout",
     "output_type": "stream",
     "text": [
      "Epoch [21], val_loss: 1.504e+00, train_loss: 1.245e+00, lrate: 2.500e-05\n"
     ]
    },
    {
     "data": {
      "application/vnd.jupyter.widget-view+json": {
       "model_id": "001e051dd2724e8c8ac92e71aeaf65ce",
       "version_major": 2,
       "version_minor": 0
      },
      "text/plain": [
       "Epoch: 22:   0%|          | 0/399 [00:00<?, ?it/s]"
      ]
     },
     "metadata": {},
     "output_type": "display_data"
    },
    {
     "name": "stdout",
     "output_type": "stream",
     "text": [
      "Epoch [22], val_loss: 1.502e+00, train_loss: 1.242e+00, lrate: 2.500e-05\n"
     ]
    },
    {
     "data": {
      "application/vnd.jupyter.widget-view+json": {
       "model_id": "8ab3dc81c3d5446e8d8d90f26373b0de",
       "version_major": 2,
       "version_minor": 0
      },
      "text/plain": [
       "Epoch: 23:   0%|          | 0/399 [00:00<?, ?it/s]"
      ]
     },
     "metadata": {},
     "output_type": "display_data"
    },
    {
     "name": "stdout",
     "output_type": "stream",
     "text": [
      "Epoch [23], val_loss: 1.511e+00, train_loss: 1.240e+00, lrate: 2.500e-05\n"
     ]
    },
    {
     "data": {
      "application/vnd.jupyter.widget-view+json": {
       "model_id": "798fa2c4090c417b99220f79907e15ab",
       "version_major": 2,
       "version_minor": 0
      },
      "text/plain": [
       "Epoch: 24:   0%|          | 0/399 [00:00<?, ?it/s]"
      ]
     },
     "metadata": {},
     "output_type": "display_data"
    },
    {
     "name": "stdout",
     "output_type": "stream",
     "text": [
      "Epoch [24], val_loss: 1.511e+00, train_loss: 1.238e+00, lrate: 2.500e-05\n"
     ]
    },
    {
     "data": {
      "application/vnd.jupyter.widget-view+json": {
       "model_id": "1f544e5c28fc4ff3b93b3bf32eabe260",
       "version_major": 2,
       "version_minor": 0
      },
      "text/plain": [
       "Epoch: 25:   0%|          | 0/399 [00:00<?, ?it/s]"
      ]
     },
     "metadata": {},
     "output_type": "display_data"
    },
    {
     "name": "stdout",
     "output_type": "stream",
     "text": [
      "Epoch [25], val_loss: 1.510e+00, train_loss: 1.236e+00, lrate: 2.500e-05\n"
     ]
    },
    {
     "data": {
      "application/vnd.jupyter.widget-view+json": {
       "model_id": "4a1778748cf647119a51d7251f4372cd",
       "version_major": 2,
       "version_minor": 0
      },
      "text/plain": [
       "Epoch: 26:   0%|          | 0/399 [00:00<?, ?it/s]"
      ]
     },
     "metadata": {},
     "output_type": "display_data"
    },
    {
     "name": "stdout",
     "output_type": "stream",
     "text": [
      "Epoch [26], val_loss: 1.499e+00, train_loss: 1.235e+00, lrate: 2.500e-05\n"
     ]
    },
    {
     "data": {
      "application/vnd.jupyter.widget-view+json": {
       "model_id": "0131bc91e16548779a08fe42a9137a41",
       "version_major": 2,
       "version_minor": 0
      },
      "text/plain": [
       "Epoch: 27:   0%|          | 0/399 [00:00<?, ?it/s]"
      ]
     },
     "metadata": {},
     "output_type": "display_data"
    },
    {
     "name": "stdout",
     "output_type": "stream",
     "text": [
      "Epoch [27], val_loss: 1.508e+00, train_loss: 1.233e+00, lrate: 2.500e-05\n"
     ]
    },
    {
     "data": {
      "application/vnd.jupyter.widget-view+json": {
       "model_id": "a937d774e3bc42abae6ae518c24b7ef3",
       "version_major": 2,
       "version_minor": 0
      },
      "text/plain": [
       "Epoch: 28:   0%|          | 0/399 [00:00<?, ?it/s]"
      ]
     },
     "metadata": {},
     "output_type": "display_data"
    },
    {
     "name": "stdout",
     "output_type": "stream",
     "text": [
      "Epoch [28], val_loss: 1.510e+00, train_loss: 1.232e+00, lrate: 2.500e-05\n"
     ]
    },
    {
     "data": {
      "application/vnd.jupyter.widget-view+json": {
       "model_id": "9267d172f207443ea61b1d54e1b52058",
       "version_major": 2,
       "version_minor": 0
      },
      "text/plain": [
       "Epoch: 29:   0%|          | 0/399 [00:00<?, ?it/s]"
      ]
     },
     "metadata": {},
     "output_type": "display_data"
    },
    {
     "name": "stdout",
     "output_type": "stream",
     "text": [
      "Epoch [29], val_loss: 1.507e+00, train_loss: 1.231e+00, lrate: 2.500e-05\n"
     ]
    },
    {
     "data": {
      "application/vnd.jupyter.widget-view+json": {
       "model_id": "e7ea24a5ff674a229b3972a28303cd99",
       "version_major": 2,
       "version_minor": 0
      },
      "text/plain": [
       "Epoch: 30:   0%|          | 0/399 [00:00<?, ?it/s]"
      ]
     },
     "metadata": {},
     "output_type": "display_data"
    },
    {
     "name": "stdout",
     "output_type": "stream",
     "text": [
      "Epoch [30], val_loss: 1.513e+00, train_loss: 1.230e+00, lrate: 1.250e-05\n"
     ]
    },
    {
     "data": {
      "application/vnd.jupyter.widget-view+json": {
       "model_id": "cf1c6904523944aa974b12cb1ca109ab",
       "version_major": 2,
       "version_minor": 0
      },
      "text/plain": [
       "Epoch: 31:   0%|          | 0/399 [00:00<?, ?it/s]"
      ]
     },
     "metadata": {},
     "output_type": "display_data"
    },
    {
     "name": "stdout",
     "output_type": "stream",
     "text": [
      "Early stopping\n",
      "------------fold no---------9----------------------\n"
     ]
    },
    {
     "data": {
      "application/vnd.jupyter.widget-view+json": {
       "model_id": "12d78f9a02ac425eb3417211e1486539",
       "version_major": 2,
       "version_minor": 0
      },
      "text/plain": [
       "Current Epoch:   0%|          | 0/100 [00:00<?, ?it/s]"
      ]
     },
     "metadata": {},
     "output_type": "display_data"
    },
    {
     "data": {
      "application/vnd.jupyter.widget-view+json": {
       "model_id": "417c51d40181413498d6ff57f7eb8b56",
       "version_major": 2,
       "version_minor": 0
      },
      "text/plain": [
       "Epoch: 0:   0%|          | 0/399 [00:00<?, ?it/s]"
      ]
     },
     "metadata": {},
     "output_type": "display_data"
    },
    {
     "name": "stdout",
     "output_type": "stream",
     "text": [
      "Epoch [0], val_loss: 1.649e+00, train_loss: 1.742e+00, lrate: 1.000e-04\n"
     ]
    },
    {
     "data": {
      "application/vnd.jupyter.widget-view+json": {
       "model_id": "2a01f7385a28422291f9f6fb38613a21",
       "version_major": 2,
       "version_minor": 0
      },
      "text/plain": [
       "Epoch: 1:   0%|          | 0/399 [00:00<?, ?it/s]"
      ]
     },
     "metadata": {},
     "output_type": "display_data"
    },
    {
     "name": "stdout",
     "output_type": "stream",
     "text": [
      "Epoch [1], val_loss: 1.597e+00, train_loss: 1.593e+00, lrate: 1.000e-04\n"
     ]
    },
    {
     "data": {
      "application/vnd.jupyter.widget-view+json": {
       "model_id": "1baff9ea5e644a32b1dd9bcae9715d6c",
       "version_major": 2,
       "version_minor": 0
      },
      "text/plain": [
       "Epoch: 2:   0%|          | 0/399 [00:00<?, ?it/s]"
      ]
     },
     "metadata": {},
     "output_type": "display_data"
    },
    {
     "name": "stdout",
     "output_type": "stream",
     "text": [
      "Epoch [2], val_loss: 1.581e+00, train_loss: 1.524e+00, lrate: 1.000e-04\n"
     ]
    },
    {
     "data": {
      "application/vnd.jupyter.widget-view+json": {
       "model_id": "5e9aa1d9cd0c4718b61bc120e940ecab",
       "version_major": 2,
       "version_minor": 0
      },
      "text/plain": [
       "Epoch: 3:   0%|          | 0/399 [00:00<?, ?it/s]"
      ]
     },
     "metadata": {},
     "output_type": "display_data"
    },
    {
     "name": "stdout",
     "output_type": "stream",
     "text": [
      "Epoch [3], val_loss: 1.558e+00, train_loss: 1.482e+00, lrate: 1.000e-04\n"
     ]
    },
    {
     "data": {
      "application/vnd.jupyter.widget-view+json": {
       "model_id": "76a96ed040b54e58b9c74600fec80c25",
       "version_major": 2,
       "version_minor": 0
      },
      "text/plain": [
       "Epoch: 4:   0%|          | 0/399 [00:00<?, ?it/s]"
      ]
     },
     "metadata": {},
     "output_type": "display_data"
    },
    {
     "name": "stdout",
     "output_type": "stream",
     "text": [
      "Epoch [4], val_loss: 1.546e+00, train_loss: 1.443e+00, lrate: 1.000e-04\n"
     ]
    },
    {
     "data": {
      "application/vnd.jupyter.widget-view+json": {
       "model_id": "bc9af13ef5a14feeb734a3e0c552d3ea",
       "version_major": 2,
       "version_minor": 0
      },
      "text/plain": [
       "Epoch: 5:   0%|          | 0/399 [00:00<?, ?it/s]"
      ]
     },
     "metadata": {},
     "output_type": "display_data"
    },
    {
     "name": "stdout",
     "output_type": "stream",
     "text": [
      "Epoch [5], val_loss: 1.531e+00, train_loss: 1.417e+00, lrate: 1.000e-04\n"
     ]
    },
    {
     "data": {
      "application/vnd.jupyter.widget-view+json": {
       "model_id": "04719be17afb4c1a8b57014cc975bf7e",
       "version_major": 2,
       "version_minor": 0
      },
      "text/plain": [
       "Epoch: 6:   0%|          | 0/399 [00:00<?, ?it/s]"
      ]
     },
     "metadata": {},
     "output_type": "display_data"
    },
    {
     "name": "stdout",
     "output_type": "stream",
     "text": [
      "Epoch [6], val_loss: 1.538e+00, train_loss: 1.390e+00, lrate: 1.000e-04\n"
     ]
    },
    {
     "data": {
      "application/vnd.jupyter.widget-view+json": {
       "model_id": "f1922914288f43dcb0364ee0363a35c3",
       "version_major": 2,
       "version_minor": 0
      },
      "text/plain": [
       "Epoch: 7:   0%|          | 0/399 [00:00<?, ?it/s]"
      ]
     },
     "metadata": {},
     "output_type": "display_data"
    },
    {
     "name": "stdout",
     "output_type": "stream",
     "text": [
      "Epoch [7], val_loss: 1.523e+00, train_loss: 1.368e+00, lrate: 1.000e-04\n"
     ]
    },
    {
     "data": {
      "application/vnd.jupyter.widget-view+json": {
       "model_id": "5f94dd75b09a488691e8253980e89260",
       "version_major": 2,
       "version_minor": 0
      },
      "text/plain": [
       "Epoch: 8:   0%|          | 0/399 [00:00<?, ?it/s]"
      ]
     },
     "metadata": {},
     "output_type": "display_data"
    },
    {
     "name": "stdout",
     "output_type": "stream",
     "text": [
      "Epoch [8], val_loss: 1.519e+00, train_loss: 1.347e+00, lrate: 1.000e-04\n"
     ]
    },
    {
     "data": {
      "application/vnd.jupyter.widget-view+json": {
       "model_id": "8875603ffd664cc98cb19dbe8ac70d92",
       "version_major": 2,
       "version_minor": 0
      },
      "text/plain": [
       "Epoch: 9:   0%|          | 0/399 [00:00<?, ?it/s]"
      ]
     },
     "metadata": {},
     "output_type": "display_data"
    },
    {
     "name": "stdout",
     "output_type": "stream",
     "text": [
      "Epoch [9], val_loss: 1.523e+00, train_loss: 1.330e+00, lrate: 1.000e-04\n"
     ]
    },
    {
     "data": {
      "application/vnd.jupyter.widget-view+json": {
       "model_id": "c8e4a1df51ab477082658e37be9d236d",
       "version_major": 2,
       "version_minor": 0
      },
      "text/plain": [
       "Epoch: 10:   0%|          | 0/399 [00:00<?, ?it/s]"
      ]
     },
     "metadata": {},
     "output_type": "display_data"
    },
    {
     "name": "stdout",
     "output_type": "stream",
     "text": [
      "Epoch [10], val_loss: 1.522e+00, train_loss: 1.316e+00, lrate: 1.000e-04\n"
     ]
    },
    {
     "data": {
      "application/vnd.jupyter.widget-view+json": {
       "model_id": "cd3714b7eb224daeb90859b74022f473",
       "version_major": 2,
       "version_minor": 0
      },
      "text/plain": [
       "Epoch: 11:   0%|          | 0/399 [00:00<?, ?it/s]"
      ]
     },
     "metadata": {},
     "output_type": "display_data"
    },
    {
     "name": "stdout",
     "output_type": "stream",
     "text": [
      "Epoch [11], val_loss: 1.513e+00, train_loss: 1.301e+00, lrate: 1.000e-04\n"
     ]
    },
    {
     "data": {
      "application/vnd.jupyter.widget-view+json": {
       "model_id": "228a1a00e19641f49c9d51eeb14ab3fc",
       "version_major": 2,
       "version_minor": 0
      },
      "text/plain": [
       "Epoch: 12:   0%|          | 0/399 [00:00<?, ?it/s]"
      ]
     },
     "metadata": {},
     "output_type": "display_data"
    },
    {
     "name": "stdout",
     "output_type": "stream",
     "text": [
      "Epoch [12], val_loss: 1.512e+00, train_loss: 1.289e+00, lrate: 1.000e-04\n"
     ]
    },
    {
     "data": {
      "application/vnd.jupyter.widget-view+json": {
       "model_id": "627b29ecb3fa41fe9f8f9511ef89835c",
       "version_major": 2,
       "version_minor": 0
      },
      "text/plain": [
       "Epoch: 13:   0%|          | 0/399 [00:00<?, ?it/s]"
      ]
     },
     "metadata": {},
     "output_type": "display_data"
    },
    {
     "name": "stdout",
     "output_type": "stream",
     "text": [
      "Epoch [13], val_loss: 1.501e+00, train_loss: 1.281e+00, lrate: 1.000e-04\n"
     ]
    },
    {
     "data": {
      "application/vnd.jupyter.widget-view+json": {
       "model_id": "392f364d33fa434f87d6e7cac0efbf09",
       "version_major": 2,
       "version_minor": 0
      },
      "text/plain": [
       "Epoch: 14:   0%|          | 0/399 [00:00<?, ?it/s]"
      ]
     },
     "metadata": {},
     "output_type": "display_data"
    },
    {
     "name": "stdout",
     "output_type": "stream",
     "text": [
      "Epoch [14], val_loss: 1.518e+00, train_loss: 1.272e+00, lrate: 1.000e-04\n"
     ]
    },
    {
     "data": {
      "application/vnd.jupyter.widget-view+json": {
       "model_id": "7aeee6fc0fd74e5198d2fe40c082f781",
       "version_major": 2,
       "version_minor": 0
      },
      "text/plain": [
       "Epoch: 15:   0%|          | 0/399 [00:00<?, ?it/s]"
      ]
     },
     "metadata": {},
     "output_type": "display_data"
    },
    {
     "name": "stdout",
     "output_type": "stream",
     "text": [
      "Epoch [15], val_loss: 1.520e+00, train_loss: 1.266e+00, lrate: 1.000e-04\n"
     ]
    },
    {
     "data": {
      "application/vnd.jupyter.widget-view+json": {
       "model_id": "e59cff0d599d4770bab8c6a1d8133e29",
       "version_major": 2,
       "version_minor": 0
      },
      "text/plain": [
       "Epoch: 16:   0%|          | 0/399 [00:00<?, ?it/s]"
      ]
     },
     "metadata": {},
     "output_type": "display_data"
    },
    {
     "name": "stdout",
     "output_type": "stream",
     "text": [
      "Epoch [16], val_loss: 1.506e+00, train_loss: 1.257e+00, lrate: 1.000e-04\n"
     ]
    },
    {
     "data": {
      "application/vnd.jupyter.widget-view+json": {
       "model_id": "2de6af54da6b4cf19c6a6c1c667e2d18",
       "version_major": 2,
       "version_minor": 0
      },
      "text/plain": [
       "Epoch: 17:   0%|          | 0/399 [00:00<?, ?it/s]"
      ]
     },
     "metadata": {},
     "output_type": "display_data"
    },
    {
     "name": "stdout",
     "output_type": "stream",
     "text": [
      "Epoch [17], val_loss: 1.510e+00, train_loss: 1.252e+00, lrate: 5.000e-05\n"
     ]
    },
    {
     "data": {
      "application/vnd.jupyter.widget-view+json": {
       "model_id": "61dfeb0ac4ac4602b962ea321813e238",
       "version_major": 2,
       "version_minor": 0
      },
      "text/plain": [
       "Epoch: 18:   0%|          | 0/399 [00:00<?, ?it/s]"
      ]
     },
     "metadata": {},
     "output_type": "display_data"
    },
    {
     "name": "stdout",
     "output_type": "stream",
     "text": [
      "Early stopping\n",
      "----------------------------------------------------------------\n",
      "        Layer (type)               Output Shape         Param #\n",
      "================================================================\n",
      "            Conv2d-1           [-1, 32, 46, 46]             320\n",
      "         MaxPool2d-2           [-1, 32, 23, 23]               0\n",
      "       BatchNorm2d-3           [-1, 32, 23, 23]              64\n",
      "            Conv2d-4           [-1, 64, 21, 21]          18,496\n",
      "         MaxPool2d-5           [-1, 64, 11, 11]               0\n",
      "       BatchNorm2d-6           [-1, 64, 11, 11]             128\n",
      "            Conv2d-7            [-1, 128, 9, 9]          73,856\n",
      "         MaxPool2d-8            [-1, 128, 5, 5]               0\n",
      "       BatchNorm2d-9            [-1, 128, 5, 5]             256\n",
      "           Linear-10                  [-1, 256]         819,456\n",
      "           Linear-11                    [-1, 7]           1,799\n",
      "================================================================\n",
      "Total params: 914,375\n",
      "Trainable params: 914,375\n",
      "Non-trainable params: 0\n",
      "----------------------------------------------------------------\n",
      "Input size (MB): 0.01\n",
      "Forward/backward pass size (MB): 1.24\n",
      "Params size (MB): 3.49\n",
      "Estimated Total Size (MB): 4.74\n",
      "----------------------------------------------------------------\n"
     ]
    }
   ],
   "source": [
    "splits = 10\n",
    "skf = StratifiedKFold(n_splits=splits, random_state=seed, shuffle=True)\n",
    "histories = []\n",
    "\n",
    "for fold,(train_idx,val_idx) in enumerate(skf.split(df_train,train_dl.dl.dataset.targets)):\n",
    "    print('------------fold no---------{}----------------------'.format(fold))\n",
    "    \n",
    "    net = Net(loss_function, metrics, len(classes))\n",
    "    net.to(device)\n",
    "    \n",
    "    train_subsampler = torch.utils.data.SubsetRandomSampler(train_idx)\n",
    "    val_subsampler = torch.utils.data.SubsetRandomSampler(val_idx)\n",
    "\n",
    "    train_fold_dl = DeviceDataLoader(DataLoader(df_train, batch_size=batch_size,  sampler=train_subsampler),device)\n",
    "    val_fold_dl = DeviceDataLoader(DataLoader(df_train, batch_size=batch_size,  sampler=val_subsampler),device)\n",
    "    #print(np.unique(np.array(train_fold_dl.dl.dataset.targets)[train_subsampler.indices],return_counts=True))\n",
    "    #print(np.unique(np.array(train_fold_dl.dl.dataset.targets)[test_subsampler.indices],return_counts=True))\n",
    "    #print(train_dl[train_subsampler.indices])\n",
    "    history = dict()\n",
    "    history[\"losses\"], history[\"epoch\"] = fit(num_epochs, patience, lr, net, train_fold_dl, val_fold_dl, optimizer, scheduler, fold)\n",
    "    history[\"model\"] = net\n",
    "    histories.append(history)\n",
    "\n",
    "summary(net,(1,48,48))"
   ]
  },
  {
   "cell_type": "markdown",
   "id": "bb2ca953",
   "metadata": {},
   "source": [
    "## Save/Load model"
   ]
  },
  {
   "cell_type": "code",
   "execution_count": 18,
   "id": "5f28e342",
   "metadata": {},
   "outputs": [],
   "source": [
    "if save_model:\n",
    "    for fold,h in enumerate(histories):\n",
    "        model_path = os.path.join(models_directory_data,f\"classifier_fold_{fold}.pt\")\n",
    "        torch.save(h[\"model\"].state_dict(), model_path)"
   ]
  },
  {
   "cell_type": "code",
   "execution_count": 19,
   "id": "e9cc002d",
   "metadata": {},
   "outputs": [],
   "source": [
    "if load_model:\n",
    "    histories = []\n",
    "    for fold, model in enumerate(os.listdir(models_directory_data)):\n",
    "        net = Net(loss_function, metrics, len(classes))\n",
    "        net.load_state_dict(torch.load(os.path.join(models_directory_data,model)))\n",
    "        net.eval()\n",
    "        net.cuda()\n",
    "        histories.append( {\"model\": net } )"
   ]
  },
  {
   "cell_type": "markdown",
   "id": "236fc3f4",
   "metadata": {},
   "source": [
    "## Model testing"
   ]
  },
  {
   "cell_type": "code",
   "execution_count": 20,
   "id": "1403cef9-c12a-4e66-9565-7f8b7eaf2f38",
   "metadata": {},
   "outputs": [],
   "source": [
    "def get_model_predicitons(model, dataset):\n",
    "    y_test = []\n",
    "    y_scores = []\n",
    "\n",
    "    # since we're not training, we don't need to calculate the gradients for our outputs\n",
    "    with torch.no_grad():\n",
    "        for data in tqdm(dataset):\n",
    "            images, labels = data[0].to(device), data[1].to(device)\n",
    "            # calculate outputs by running images through the network\n",
    "            outputs = model(images)\n",
    "\n",
    "            # the class with the highest energy is what we choose as prediction\n",
    "            _, predicted = torch.max(outputs.data, 1)\n",
    "\n",
    "            y_test.extend(labels.tolist())\n",
    "            y_scores.extend(outputs.tolist())\n",
    "\n",
    "    y_test = np.array(y_test)\n",
    "    y_scores = np.array(y_scores)\n",
    "\n",
    "    return y_test, y_scores\n"
   ]
  },
  {
   "cell_type": "markdown",
   "id": "fdc366c3",
   "metadata": {},
   "source": [
    "### Network Accuracy"
   ]
  },
  {
   "cell_type": "code",
   "execution_count": 21,
   "id": "158b7789-29fe-43c3-9821-11cb5215fb60",
   "metadata": {},
   "outputs": [],
   "source": [
    "def evaluate_accuracy(y_test, y_scores, classes, verbose=False):\n",
    "    # Overall accuracy\n",
    "\n",
    "    n_test = y_test.shape[0]\n",
    "    predicted = np.argmax(y_scores,axis=1)\n",
    "    mean_acc = np.sum(predicted == y_test) / n_test\n",
    "    class_acc = []\n",
    "    \n",
    "    # Accuracy per class\n",
    "\n",
    "    correct_pred = {classname: 0 for classname in classes}\n",
    "    total_pred = {classname: 0 for classname in classes}\n",
    "\n",
    "    # collect the correct predictions for each class\n",
    "    for label, prediction in zip(y_test, predicted):\n",
    "        if label == prediction:\n",
    "            correct_pred[classes[label]] += 1\n",
    "        total_pred[classes[label]] += 1\n",
    "\n",
    "    for classname, correct_count in correct_pred.items():\n",
    "        accuracy = float(correct_count) / total_pred[classname]\n",
    "        class_acc.append(accuracy)\n",
    "\n",
    "    if verbose:\n",
    "        print(f'Overall accuracy: {100 * mean_acc } %')\n",
    "\n",
    "        print(\"Accuracy per class:\")\n",
    "        for i,c in enumerate(classes):\n",
    "            print(f'{c:9s} : {class_acc[i] * 100:.1f} %')\n",
    "        \n",
    "    return mean_acc, class_acc"
   ]
  },
  {
   "cell_type": "markdown",
   "id": "7478b8a1",
   "metadata": {},
   "source": [
    "# ROC/AUC"
   ]
  },
  {
   "cell_type": "code",
   "execution_count": 22,
   "id": "a8017ba3",
   "metadata": {},
   "outputs": [],
   "source": [
    "\n",
    "def evaluate_roc_auc(y_test, y_scores, classes, plot=False, verbose=False):\n",
    "    # Compute ROC curve and ROC area for each class\n",
    "    fpr = dict()\n",
    "    tpr = dict()\n",
    "    ths = dict()\n",
    "    roc_auc = dict()\n",
    "    for i,_ in enumerate(classes):\n",
    "        fpr[i], tpr[i], ths[i] = roc_curve(y_test == i, y_scores[:,i])\n",
    "        roc_auc[i] = auc(fpr[i], tpr[i])\n",
    "\n",
    "    if plot:\n",
    "        # Plot of a ROC curve for a specific class\n",
    "        for i,c in enumerate(classes):\n",
    "            plt.figure()\n",
    "            plt.plot(fpr[i], tpr[i], label='ROC curve (area = %0.2f)' % roc_auc[i])\n",
    "            plt.plot([0, 1], [0, 1], 'k--')\n",
    "            plt.xlim([0.0, 1.0])\n",
    "            plt.ylim([0.0, 1.05])\n",
    "            plt.xlabel('False Positive Rate')\n",
    "            plt.ylabel('True Positive Rate')\n",
    "            plt.title(f'ROC {c}')\n",
    "            plt.legend(loc=\"lower right\")\n",
    "            plt.show()\n",
    "\n",
    "    mean_auc = np.mean(list(roc_auc.values()))\n",
    "\n",
    "    if verbose:\n",
    "        print(f\"Mean AUC: { mean_auc * 100} %\")\n",
    "\n",
    "        print(\"Per classs AUC:\")\n",
    "        for i,c in enumerate(classes):\n",
    "            print(f'{c:9s} : {roc_auc[i]*100:.2f} %')\n",
    "\n",
    "    return mean_auc, roc_auc"
   ]
  },
  {
   "cell_type": "code",
   "execution_count": 23,
   "id": "686e4867",
   "metadata": {},
   "outputs": [
    {
     "data": {
      "application/vnd.jupyter.widget-view+json": {
       "model_id": "cc0511f623c5475781ce1d343b0f0850",
       "version_major": 2,
       "version_minor": 0
      },
      "text/plain": [
       "  0%|          | 0/11 [00:00<?, ?it/s]"
      ]
     },
     "metadata": {},
     "output_type": "display_data"
    },
    {
     "data": {
      "application/vnd.jupyter.widget-view+json": {
       "model_id": "31c97f8a896b4f09a243a9bcda368fd7",
       "version_major": 2,
       "version_minor": 0
      },
      "text/plain": [
       "  0%|          | 0/11 [00:00<?, ?it/s]"
      ]
     },
     "metadata": {},
     "output_type": "display_data"
    },
    {
     "data": {
      "application/vnd.jupyter.widget-view+json": {
       "model_id": "d9dde4e3c1b5410a846f02e26707f6c7",
       "version_major": 2,
       "version_minor": 0
      },
      "text/plain": [
       "  0%|          | 0/11 [00:00<?, ?it/s]"
      ]
     },
     "metadata": {},
     "output_type": "display_data"
    },
    {
     "data": {
      "application/vnd.jupyter.widget-view+json": {
       "model_id": "8d2ae1f81ab94e81ab79c4560e2caac1",
       "version_major": 2,
       "version_minor": 0
      },
      "text/plain": [
       "  0%|          | 0/11 [00:00<?, ?it/s]"
      ]
     },
     "metadata": {},
     "output_type": "display_data"
    },
    {
     "data": {
      "application/vnd.jupyter.widget-view+json": {
       "model_id": "4ca69561d0d6494998794ffe85146330",
       "version_major": 2,
       "version_minor": 0
      },
      "text/plain": [
       "  0%|          | 0/11 [00:00<?, ?it/s]"
      ]
     },
     "metadata": {},
     "output_type": "display_data"
    },
    {
     "data": {
      "application/vnd.jupyter.widget-view+json": {
       "model_id": "ac769c4a1f60429988b70c8a6f49286b",
       "version_major": 2,
       "version_minor": 0
      },
      "text/plain": [
       "  0%|          | 0/11 [00:00<?, ?it/s]"
      ]
     },
     "metadata": {},
     "output_type": "display_data"
    },
    {
     "data": {
      "application/vnd.jupyter.widget-view+json": {
       "model_id": "6c951bda964549b4beba3da406fcd50d",
       "version_major": 2,
       "version_minor": 0
      },
      "text/plain": [
       "  0%|          | 0/11 [00:00<?, ?it/s]"
      ]
     },
     "metadata": {},
     "output_type": "display_data"
    },
    {
     "data": {
      "application/vnd.jupyter.widget-view+json": {
       "model_id": "fc067a4270fb4eb9830fa46a0af693a2",
       "version_major": 2,
       "version_minor": 0
      },
      "text/plain": [
       "  0%|          | 0/11 [00:00<?, ?it/s]"
      ]
     },
     "metadata": {},
     "output_type": "display_data"
    },
    {
     "data": {
      "application/vnd.jupyter.widget-view+json": {
       "model_id": "3d981457f6304b589fe64c36f84abfe3",
       "version_major": 2,
       "version_minor": 0
      },
      "text/plain": [
       "  0%|          | 0/11 [00:00<?, ?it/s]"
      ]
     },
     "metadata": {},
     "output_type": "display_data"
    },
    {
     "data": {
      "application/vnd.jupyter.widget-view+json": {
       "model_id": "e5a8ffe6266e47149513a57fec432911",
       "version_major": 2,
       "version_minor": 0
      },
      "text/plain": [
       "  0%|          | 0/11 [00:00<?, ?it/s]"
      ]
     },
     "metadata": {},
     "output_type": "display_data"
    }
   ],
   "source": [
    "y_test = dict()\n",
    "y_scores = dict()\n",
    "\n",
    "for fold,h in enumerate(histories):\n",
    "    y_test[fold], y_scores[fold] = get_model_predicitons(h[\"model\"],test_dl)"
   ]
  },
  {
   "cell_type": "code",
   "execution_count": 24,
   "id": "aa2f66f9",
   "metadata": {},
   "outputs": [
    {
     "data": {
      "text/html": [
       "<div>\n",
       "<style scoped>\n",
       "    .dataframe tbody tr th:only-of-type {\n",
       "        vertical-align: middle;\n",
       "    }\n",
       "\n",
       "    .dataframe tbody tr th {\n",
       "        vertical-align: top;\n",
       "    }\n",
       "\n",
       "    .dataframe thead th {\n",
       "        text-align: right;\n",
       "    }\n",
       "</style>\n",
       "<table border=\"1\" class=\"dataframe\">\n",
       "  <thead>\n",
       "    <tr style=\"text-align: right;\">\n",
       "      <th></th>\n",
       "      <th>mean AUC</th>\n",
       "      <th>angry AUC</th>\n",
       "      <th>disgust AUC</th>\n",
       "      <th>fear AUC</th>\n",
       "      <th>happy AUC</th>\n",
       "      <th>neautral AUC</th>\n",
       "      <th>sad AUC</th>\n",
       "      <th>surprise AUC</th>\n",
       "      <th>mean ACC</th>\n",
       "      <th>angry ACC</th>\n",
       "      <th>disgust ACC</th>\n",
       "      <th>fear ACC</th>\n",
       "      <th>happy ACC</th>\n",
       "      <th>neautral ACC</th>\n",
       "      <th>sad ACC</th>\n",
       "      <th>surprise ACC</th>\n",
       "    </tr>\n",
       "  </thead>\n",
       "  <tbody>\n",
       "    <tr>\n",
       "      <th>Fer2013_filtered_uniform_aug_disgust100 fold 0</th>\n",
       "      <td>0.916311</td>\n",
       "      <td>0.863583</td>\n",
       "      <td>0.948700</td>\n",
       "      <td>0.869467</td>\n",
       "      <td>0.972625</td>\n",
       "      <td>0.929450</td>\n",
       "      <td>0.854483</td>\n",
       "      <td>0.975867</td>\n",
       "      <td>0.637143</td>\n",
       "      <td>0.500</td>\n",
       "      <td>0.620</td>\n",
       "      <td>0.530</td>\n",
       "      <td>0.840</td>\n",
       "      <td>0.630</td>\n",
       "      <td>0.550</td>\n",
       "      <td>0.79</td>\n",
       "    </tr>\n",
       "    <tr>\n",
       "      <th>Fer2013_filtered_uniform_aug_disgust100 fold 1</th>\n",
       "      <td>0.915473</td>\n",
       "      <td>0.879767</td>\n",
       "      <td>0.950283</td>\n",
       "      <td>0.861208</td>\n",
       "      <td>0.960217</td>\n",
       "      <td>0.925350</td>\n",
       "      <td>0.858733</td>\n",
       "      <td>0.972750</td>\n",
       "      <td>0.644286</td>\n",
       "      <td>0.560</td>\n",
       "      <td>0.630</td>\n",
       "      <td>0.560</td>\n",
       "      <td>0.840</td>\n",
       "      <td>0.670</td>\n",
       "      <td>0.470</td>\n",
       "      <td>0.78</td>\n",
       "    </tr>\n",
       "    <tr>\n",
       "      <th>Fer2013_filtered_uniform_aug_disgust100 fold 2</th>\n",
       "      <td>0.920777</td>\n",
       "      <td>0.875000</td>\n",
       "      <td>0.962167</td>\n",
       "      <td>0.855283</td>\n",
       "      <td>0.964317</td>\n",
       "      <td>0.926108</td>\n",
       "      <td>0.888883</td>\n",
       "      <td>0.973683</td>\n",
       "      <td>0.672857</td>\n",
       "      <td>0.620</td>\n",
       "      <td>0.690</td>\n",
       "      <td>0.450</td>\n",
       "      <td>0.820</td>\n",
       "      <td>0.650</td>\n",
       "      <td>0.670</td>\n",
       "      <td>0.81</td>\n",
       "    </tr>\n",
       "    <tr>\n",
       "      <th>Fer2013_filtered_uniform_aug_disgust100 fold 3</th>\n",
       "      <td>0.912685</td>\n",
       "      <td>0.879550</td>\n",
       "      <td>0.943983</td>\n",
       "      <td>0.847583</td>\n",
       "      <td>0.960525</td>\n",
       "      <td>0.919717</td>\n",
       "      <td>0.856733</td>\n",
       "      <td>0.980700</td>\n",
       "      <td>0.624286</td>\n",
       "      <td>0.610</td>\n",
       "      <td>0.560</td>\n",
       "      <td>0.430</td>\n",
       "      <td>0.850</td>\n",
       "      <td>0.630</td>\n",
       "      <td>0.470</td>\n",
       "      <td>0.82</td>\n",
       "    </tr>\n",
       "    <tr>\n",
       "      <th>Fer2013_filtered_uniform_aug_disgust100 fold 4</th>\n",
       "      <td>0.915336</td>\n",
       "      <td>0.879383</td>\n",
       "      <td>0.952467</td>\n",
       "      <td>0.853017</td>\n",
       "      <td>0.965733</td>\n",
       "      <td>0.924475</td>\n",
       "      <td>0.855333</td>\n",
       "      <td>0.976942</td>\n",
       "      <td>0.645714</td>\n",
       "      <td>0.530</td>\n",
       "      <td>0.610</td>\n",
       "      <td>0.500</td>\n",
       "      <td>0.840</td>\n",
       "      <td>0.690</td>\n",
       "      <td>0.520</td>\n",
       "      <td>0.83</td>\n",
       "    </tr>\n",
       "    <tr>\n",
       "      <th>Fer2013_filtered_uniform_aug_disgust100 fold 5</th>\n",
       "      <td>0.904388</td>\n",
       "      <td>0.857067</td>\n",
       "      <td>0.943500</td>\n",
       "      <td>0.814667</td>\n",
       "      <td>0.954317</td>\n",
       "      <td>0.918433</td>\n",
       "      <td>0.863500</td>\n",
       "      <td>0.979233</td>\n",
       "      <td>0.622857</td>\n",
       "      <td>0.550</td>\n",
       "      <td>0.630</td>\n",
       "      <td>0.370</td>\n",
       "      <td>0.750</td>\n",
       "      <td>0.610</td>\n",
       "      <td>0.640</td>\n",
       "      <td>0.81</td>\n",
       "    </tr>\n",
       "    <tr>\n",
       "      <th>Fer2013_filtered_uniform_aug_disgust100 fold 6</th>\n",
       "      <td>0.912293</td>\n",
       "      <td>0.873683</td>\n",
       "      <td>0.938750</td>\n",
       "      <td>0.856017</td>\n",
       "      <td>0.966183</td>\n",
       "      <td>0.911433</td>\n",
       "      <td>0.867983</td>\n",
       "      <td>0.972000</td>\n",
       "      <td>0.644286</td>\n",
       "      <td>0.570</td>\n",
       "      <td>0.590</td>\n",
       "      <td>0.550</td>\n",
       "      <td>0.820</td>\n",
       "      <td>0.640</td>\n",
       "      <td>0.540</td>\n",
       "      <td>0.80</td>\n",
       "    </tr>\n",
       "    <tr>\n",
       "      <th>Fer2013_filtered_uniform_aug_disgust100 fold 7</th>\n",
       "      <td>0.923348</td>\n",
       "      <td>0.888050</td>\n",
       "      <td>0.951383</td>\n",
       "      <td>0.865000</td>\n",
       "      <td>0.975208</td>\n",
       "      <td>0.936658</td>\n",
       "      <td>0.864767</td>\n",
       "      <td>0.982367</td>\n",
       "      <td>0.655714</td>\n",
       "      <td>0.530</td>\n",
       "      <td>0.540</td>\n",
       "      <td>0.480</td>\n",
       "      <td>0.860</td>\n",
       "      <td>0.730</td>\n",
       "      <td>0.630</td>\n",
       "      <td>0.82</td>\n",
       "    </tr>\n",
       "    <tr>\n",
       "      <th>Fer2013_filtered_uniform_aug_disgust100 fold 8</th>\n",
       "      <td>0.909821</td>\n",
       "      <td>0.865717</td>\n",
       "      <td>0.951650</td>\n",
       "      <td>0.827133</td>\n",
       "      <td>0.963000</td>\n",
       "      <td>0.922183</td>\n",
       "      <td>0.866175</td>\n",
       "      <td>0.972892</td>\n",
       "      <td>0.625714</td>\n",
       "      <td>0.590</td>\n",
       "      <td>0.550</td>\n",
       "      <td>0.440</td>\n",
       "      <td>0.810</td>\n",
       "      <td>0.620</td>\n",
       "      <td>0.600</td>\n",
       "      <td>0.77</td>\n",
       "    </tr>\n",
       "    <tr>\n",
       "      <th>Fer2013_filtered_uniform_aug_disgust100 fold 9</th>\n",
       "      <td>0.919813</td>\n",
       "      <td>0.901025</td>\n",
       "      <td>0.946100</td>\n",
       "      <td>0.857450</td>\n",
       "      <td>0.970267</td>\n",
       "      <td>0.922133</td>\n",
       "      <td>0.860283</td>\n",
       "      <td>0.981433</td>\n",
       "      <td>0.665714</td>\n",
       "      <td>0.660</td>\n",
       "      <td>0.640</td>\n",
       "      <td>0.440</td>\n",
       "      <td>0.840</td>\n",
       "      <td>0.590</td>\n",
       "      <td>0.620</td>\n",
       "      <td>0.87</td>\n",
       "    </tr>\n",
       "    <tr>\n",
       "      <th>Fer2013_filtered_uniform_aug_disgust100 mean</th>\n",
       "      <td>0.915024</td>\n",
       "      <td>0.876282</td>\n",
       "      <td>0.948898</td>\n",
       "      <td>0.850682</td>\n",
       "      <td>0.965239</td>\n",
       "      <td>0.923594</td>\n",
       "      <td>0.863687</td>\n",
       "      <td>0.976787</td>\n",
       "      <td>0.643857</td>\n",
       "      <td>0.572</td>\n",
       "      <td>0.606</td>\n",
       "      <td>0.475</td>\n",
       "      <td>0.827</td>\n",
       "      <td>0.646</td>\n",
       "      <td>0.571</td>\n",
       "      <td>0.81</td>\n",
       "    </tr>\n",
       "  </tbody>\n",
       "</table>\n",
       "</div>"
      ],
      "text/plain": [
       "                                                mean AUC  angry AUC  \\\n",
       "Fer2013_filtered_uniform_aug_disgust100 fold 0  0.916311   0.863583   \n",
       "Fer2013_filtered_uniform_aug_disgust100 fold 1  0.915473   0.879767   \n",
       "Fer2013_filtered_uniform_aug_disgust100 fold 2  0.920777   0.875000   \n",
       "Fer2013_filtered_uniform_aug_disgust100 fold 3  0.912685   0.879550   \n",
       "Fer2013_filtered_uniform_aug_disgust100 fold 4  0.915336   0.879383   \n",
       "Fer2013_filtered_uniform_aug_disgust100 fold 5  0.904388   0.857067   \n",
       "Fer2013_filtered_uniform_aug_disgust100 fold 6  0.912293   0.873683   \n",
       "Fer2013_filtered_uniform_aug_disgust100 fold 7  0.923348   0.888050   \n",
       "Fer2013_filtered_uniform_aug_disgust100 fold 8  0.909821   0.865717   \n",
       "Fer2013_filtered_uniform_aug_disgust100 fold 9  0.919813   0.901025   \n",
       "Fer2013_filtered_uniform_aug_disgust100 mean    0.915024   0.876282   \n",
       "\n",
       "                                                disgust AUC  fear AUC  \\\n",
       "Fer2013_filtered_uniform_aug_disgust100 fold 0     0.948700  0.869467   \n",
       "Fer2013_filtered_uniform_aug_disgust100 fold 1     0.950283  0.861208   \n",
       "Fer2013_filtered_uniform_aug_disgust100 fold 2     0.962167  0.855283   \n",
       "Fer2013_filtered_uniform_aug_disgust100 fold 3     0.943983  0.847583   \n",
       "Fer2013_filtered_uniform_aug_disgust100 fold 4     0.952467  0.853017   \n",
       "Fer2013_filtered_uniform_aug_disgust100 fold 5     0.943500  0.814667   \n",
       "Fer2013_filtered_uniform_aug_disgust100 fold 6     0.938750  0.856017   \n",
       "Fer2013_filtered_uniform_aug_disgust100 fold 7     0.951383  0.865000   \n",
       "Fer2013_filtered_uniform_aug_disgust100 fold 8     0.951650  0.827133   \n",
       "Fer2013_filtered_uniform_aug_disgust100 fold 9     0.946100  0.857450   \n",
       "Fer2013_filtered_uniform_aug_disgust100 mean       0.948898  0.850682   \n",
       "\n",
       "                                                happy AUC  neautral AUC  \\\n",
       "Fer2013_filtered_uniform_aug_disgust100 fold 0   0.972625      0.929450   \n",
       "Fer2013_filtered_uniform_aug_disgust100 fold 1   0.960217      0.925350   \n",
       "Fer2013_filtered_uniform_aug_disgust100 fold 2   0.964317      0.926108   \n",
       "Fer2013_filtered_uniform_aug_disgust100 fold 3   0.960525      0.919717   \n",
       "Fer2013_filtered_uniform_aug_disgust100 fold 4   0.965733      0.924475   \n",
       "Fer2013_filtered_uniform_aug_disgust100 fold 5   0.954317      0.918433   \n",
       "Fer2013_filtered_uniform_aug_disgust100 fold 6   0.966183      0.911433   \n",
       "Fer2013_filtered_uniform_aug_disgust100 fold 7   0.975208      0.936658   \n",
       "Fer2013_filtered_uniform_aug_disgust100 fold 8   0.963000      0.922183   \n",
       "Fer2013_filtered_uniform_aug_disgust100 fold 9   0.970267      0.922133   \n",
       "Fer2013_filtered_uniform_aug_disgust100 mean     0.965239      0.923594   \n",
       "\n",
       "                                                 sad AUC  surprise AUC  \\\n",
       "Fer2013_filtered_uniform_aug_disgust100 fold 0  0.854483      0.975867   \n",
       "Fer2013_filtered_uniform_aug_disgust100 fold 1  0.858733      0.972750   \n",
       "Fer2013_filtered_uniform_aug_disgust100 fold 2  0.888883      0.973683   \n",
       "Fer2013_filtered_uniform_aug_disgust100 fold 3  0.856733      0.980700   \n",
       "Fer2013_filtered_uniform_aug_disgust100 fold 4  0.855333      0.976942   \n",
       "Fer2013_filtered_uniform_aug_disgust100 fold 5  0.863500      0.979233   \n",
       "Fer2013_filtered_uniform_aug_disgust100 fold 6  0.867983      0.972000   \n",
       "Fer2013_filtered_uniform_aug_disgust100 fold 7  0.864767      0.982367   \n",
       "Fer2013_filtered_uniform_aug_disgust100 fold 8  0.866175      0.972892   \n",
       "Fer2013_filtered_uniform_aug_disgust100 fold 9  0.860283      0.981433   \n",
       "Fer2013_filtered_uniform_aug_disgust100 mean    0.863687      0.976787   \n",
       "\n",
       "                                                mean ACC  angry ACC  \\\n",
       "Fer2013_filtered_uniform_aug_disgust100 fold 0  0.637143      0.500   \n",
       "Fer2013_filtered_uniform_aug_disgust100 fold 1  0.644286      0.560   \n",
       "Fer2013_filtered_uniform_aug_disgust100 fold 2  0.672857      0.620   \n",
       "Fer2013_filtered_uniform_aug_disgust100 fold 3  0.624286      0.610   \n",
       "Fer2013_filtered_uniform_aug_disgust100 fold 4  0.645714      0.530   \n",
       "Fer2013_filtered_uniform_aug_disgust100 fold 5  0.622857      0.550   \n",
       "Fer2013_filtered_uniform_aug_disgust100 fold 6  0.644286      0.570   \n",
       "Fer2013_filtered_uniform_aug_disgust100 fold 7  0.655714      0.530   \n",
       "Fer2013_filtered_uniform_aug_disgust100 fold 8  0.625714      0.590   \n",
       "Fer2013_filtered_uniform_aug_disgust100 fold 9  0.665714      0.660   \n",
       "Fer2013_filtered_uniform_aug_disgust100 mean    0.643857      0.572   \n",
       "\n",
       "                                                disgust ACC  fear ACC  \\\n",
       "Fer2013_filtered_uniform_aug_disgust100 fold 0        0.620     0.530   \n",
       "Fer2013_filtered_uniform_aug_disgust100 fold 1        0.630     0.560   \n",
       "Fer2013_filtered_uniform_aug_disgust100 fold 2        0.690     0.450   \n",
       "Fer2013_filtered_uniform_aug_disgust100 fold 3        0.560     0.430   \n",
       "Fer2013_filtered_uniform_aug_disgust100 fold 4        0.610     0.500   \n",
       "Fer2013_filtered_uniform_aug_disgust100 fold 5        0.630     0.370   \n",
       "Fer2013_filtered_uniform_aug_disgust100 fold 6        0.590     0.550   \n",
       "Fer2013_filtered_uniform_aug_disgust100 fold 7        0.540     0.480   \n",
       "Fer2013_filtered_uniform_aug_disgust100 fold 8        0.550     0.440   \n",
       "Fer2013_filtered_uniform_aug_disgust100 fold 9        0.640     0.440   \n",
       "Fer2013_filtered_uniform_aug_disgust100 mean          0.606     0.475   \n",
       "\n",
       "                                                happy ACC  neautral ACC  \\\n",
       "Fer2013_filtered_uniform_aug_disgust100 fold 0      0.840         0.630   \n",
       "Fer2013_filtered_uniform_aug_disgust100 fold 1      0.840         0.670   \n",
       "Fer2013_filtered_uniform_aug_disgust100 fold 2      0.820         0.650   \n",
       "Fer2013_filtered_uniform_aug_disgust100 fold 3      0.850         0.630   \n",
       "Fer2013_filtered_uniform_aug_disgust100 fold 4      0.840         0.690   \n",
       "Fer2013_filtered_uniform_aug_disgust100 fold 5      0.750         0.610   \n",
       "Fer2013_filtered_uniform_aug_disgust100 fold 6      0.820         0.640   \n",
       "Fer2013_filtered_uniform_aug_disgust100 fold 7      0.860         0.730   \n",
       "Fer2013_filtered_uniform_aug_disgust100 fold 8      0.810         0.620   \n",
       "Fer2013_filtered_uniform_aug_disgust100 fold 9      0.840         0.590   \n",
       "Fer2013_filtered_uniform_aug_disgust100 mean        0.827         0.646   \n",
       "\n",
       "                                                sad ACC  surprise ACC  \n",
       "Fer2013_filtered_uniform_aug_disgust100 fold 0    0.550          0.79  \n",
       "Fer2013_filtered_uniform_aug_disgust100 fold 1    0.470          0.78  \n",
       "Fer2013_filtered_uniform_aug_disgust100 fold 2    0.670          0.81  \n",
       "Fer2013_filtered_uniform_aug_disgust100 fold 3    0.470          0.82  \n",
       "Fer2013_filtered_uniform_aug_disgust100 fold 4    0.520          0.83  \n",
       "Fer2013_filtered_uniform_aug_disgust100 fold 5    0.640          0.81  \n",
       "Fer2013_filtered_uniform_aug_disgust100 fold 6    0.540          0.80  \n",
       "Fer2013_filtered_uniform_aug_disgust100 fold 7    0.630          0.82  \n",
       "Fer2013_filtered_uniform_aug_disgust100 fold 8    0.600          0.77  \n",
       "Fer2013_filtered_uniform_aug_disgust100 fold 9    0.620          0.87  \n",
       "Fer2013_filtered_uniform_aug_disgust100 mean      0.571          0.81  "
      ]
     },
     "execution_count": 24,
     "metadata": {},
     "output_type": "execute_result"
    }
   ],
   "source": [
    "columns=[\"mean AUC\", \"angry AUC\", \"disgust AUC\", \"fear AUC\", \"happy AUC\", \"neautral AUC\", \"sad AUC\", \"surprise AUC\", \"mean ACC\", \"angry ACC\", \"disgust ACC\", \"fear ACC\", \"happy ACC\", \"neautral ACC\", \"sad ACC\", \"surprise ACC\"]\n",
    "df = pd.DataFrame(columns = columns)\n",
    "\n",
    "for fold,_ in enumerate(histories):\n",
    "    mean_acc,class_acc = evaluate_accuracy(y_test[fold], y_scores[fold], classes)\n",
    "    mean_auc,roc_auc = evaluate_roc_auc(y_test[fold], y_scores[fold], classes)\n",
    "\n",
    "    exp = [mean_auc]\n",
    "    exp += list(roc_auc.values())\n",
    "    exp += [mean_acc]\n",
    "    exp += class_acc\n",
    "\n",
    "    df_new = pd.DataFrame( np.array([exp]),[f\"{dataset_name} fold {fold}\"], columns=columns)\n",
    "    df = pd.concat([df,df_new])\n",
    "    df = df.astype('float')\n",
    "\n",
    "mean_df = df.mean(0).to_frame().transpose().set_index(pd.Index([f\"{dataset_name} mean\"]))\n",
    "df = pd.concat([df,mean_df])\n",
    "df\n"
   ]
  },
  {
   "cell_type": "markdown",
   "id": "bbe8f59a",
   "metadata": {},
   "source": [
    "## Save metrics"
   ]
  },
  {
   "cell_type": "code",
   "execution_count": 25,
   "id": "6dfac9df",
   "metadata": {},
   "outputs": [
    {
     "data": {
      "text/html": [
       "<div>\n",
       "<style scoped>\n",
       "    .dataframe tbody tr th:only-of-type {\n",
       "        vertical-align: middle;\n",
       "    }\n",
       "\n",
       "    .dataframe tbody tr th {\n",
       "        vertical-align: top;\n",
       "    }\n",
       "\n",
       "    .dataframe thead th {\n",
       "        text-align: right;\n",
       "    }\n",
       "</style>\n",
       "<table border=\"1\" class=\"dataframe\">\n",
       "  <thead>\n",
       "    <tr style=\"text-align: right;\">\n",
       "      <th></th>\n",
       "      <th>mean AUC</th>\n",
       "      <th>angry AUC</th>\n",
       "      <th>disgust AUC</th>\n",
       "      <th>fear AUC</th>\n",
       "      <th>happy AUC</th>\n",
       "      <th>neautral AUC</th>\n",
       "      <th>sad AUC</th>\n",
       "      <th>surprise AUC</th>\n",
       "      <th>mean ACC</th>\n",
       "      <th>angry ACC</th>\n",
       "      <th>disgust ACC</th>\n",
       "      <th>fear ACC</th>\n",
       "      <th>happy ACC</th>\n",
       "      <th>neautral ACC</th>\n",
       "      <th>sad ACC</th>\n",
       "      <th>surprise ACC</th>\n",
       "    </tr>\n",
       "  </thead>\n",
       "  <tbody>\n",
       "    <tr>\n",
       "      <th>Fer2013_filtered_uniform xval-10</th>\n",
       "      <td>0.913137</td>\n",
       "      <td>0.882769</td>\n",
       "      <td>0.947797</td>\n",
       "      <td>0.845343</td>\n",
       "      <td>0.964072</td>\n",
       "      <td>0.922568</td>\n",
       "      <td>0.854387</td>\n",
       "      <td>0.975025</td>\n",
       "      <td>0.637857</td>\n",
       "      <td>0.544</td>\n",
       "      <td>0.535</td>\n",
       "      <td>0.487</td>\n",
       "      <td>0.837</td>\n",
       "      <td>0.657</td>\n",
       "      <td>0.594</td>\n",
       "      <td>0.811</td>\n",
       "    </tr>\n",
       "    <tr>\n",
       "      <th>Fer2013_filtered_uniform_aug_disgust100 xval-10</th>\n",
       "      <td>0.910634</td>\n",
       "      <td>0.877640</td>\n",
       "      <td>0.948825</td>\n",
       "      <td>0.844880</td>\n",
       "      <td>0.963346</td>\n",
       "      <td>0.915373</td>\n",
       "      <td>0.848816</td>\n",
       "      <td>0.975559</td>\n",
       "      <td>0.639000</td>\n",
       "      <td>0.564</td>\n",
       "      <td>0.572</td>\n",
       "      <td>0.471</td>\n",
       "      <td>0.835</td>\n",
       "      <td>0.645</td>\n",
       "      <td>0.564</td>\n",
       "      <td>0.822</td>\n",
       "    </tr>\n",
       "    <tr>\n",
       "      <th>Fer2013_filtered_uniform_aug_disgust_residual_03_identity05 xval-10</th>\n",
       "      <td>0.913648</td>\n",
       "      <td>0.876134</td>\n",
       "      <td>0.948275</td>\n",
       "      <td>0.856259</td>\n",
       "      <td>0.963064</td>\n",
       "      <td>0.920421</td>\n",
       "      <td>0.857468</td>\n",
       "      <td>0.973912</td>\n",
       "      <td>0.636286</td>\n",
       "      <td>0.546</td>\n",
       "      <td>0.573</td>\n",
       "      <td>0.476</td>\n",
       "      <td>0.827</td>\n",
       "      <td>0.657</td>\n",
       "      <td>0.583</td>\n",
       "      <td>0.792</td>\n",
       "    </tr>\n",
       "    <tr>\n",
       "      <th>Fer2013_filtered_uniform_aug_disgust100 xval-10</th>\n",
       "      <td>0.913458</td>\n",
       "      <td>0.881824</td>\n",
       "      <td>0.944403</td>\n",
       "      <td>0.851962</td>\n",
       "      <td>0.963165</td>\n",
       "      <td>0.919623</td>\n",
       "      <td>0.855662</td>\n",
       "      <td>0.977569</td>\n",
       "      <td>0.639000</td>\n",
       "      <td>0.549</td>\n",
       "      <td>0.585</td>\n",
       "      <td>0.461</td>\n",
       "      <td>0.828</td>\n",
       "      <td>0.639</td>\n",
       "      <td>0.587</td>\n",
       "      <td>0.824</td>\n",
       "    </tr>\n",
       "  </tbody>\n",
       "</table>\n",
       "</div>"
      ],
      "text/plain": [
       "                                                    mean AUC  angry AUC  \\\n",
       "Fer2013_filtered_uniform xval-10                    0.913137   0.882769   \n",
       "Fer2013_filtered_uniform_aug_disgust100 xval-10     0.910634   0.877640   \n",
       "Fer2013_filtered_uniform_aug_disgust_residual_0...  0.913648   0.876134   \n",
       "Fer2013_filtered_uniform_aug_disgust100 xval-10     0.913458   0.881824   \n",
       "\n",
       "                                                    disgust AUC  fear AUC  \\\n",
       "Fer2013_filtered_uniform xval-10                       0.947797  0.845343   \n",
       "Fer2013_filtered_uniform_aug_disgust100 xval-10        0.948825  0.844880   \n",
       "Fer2013_filtered_uniform_aug_disgust_residual_0...     0.948275  0.856259   \n",
       "Fer2013_filtered_uniform_aug_disgust100 xval-10        0.944403  0.851962   \n",
       "\n",
       "                                                    happy AUC  neautral AUC  \\\n",
       "Fer2013_filtered_uniform xval-10                     0.964072      0.922568   \n",
       "Fer2013_filtered_uniform_aug_disgust100 xval-10      0.963346      0.915373   \n",
       "Fer2013_filtered_uniform_aug_disgust_residual_0...   0.963064      0.920421   \n",
       "Fer2013_filtered_uniform_aug_disgust100 xval-10      0.963165      0.919623   \n",
       "\n",
       "                                                     sad AUC  surprise AUC  \\\n",
       "Fer2013_filtered_uniform xval-10                    0.854387      0.975025   \n",
       "Fer2013_filtered_uniform_aug_disgust100 xval-10     0.848816      0.975559   \n",
       "Fer2013_filtered_uniform_aug_disgust_residual_0...  0.857468      0.973912   \n",
       "Fer2013_filtered_uniform_aug_disgust100 xval-10     0.855662      0.977569   \n",
       "\n",
       "                                                    mean ACC  angry ACC  \\\n",
       "Fer2013_filtered_uniform xval-10                    0.637857      0.544   \n",
       "Fer2013_filtered_uniform_aug_disgust100 xval-10     0.639000      0.564   \n",
       "Fer2013_filtered_uniform_aug_disgust_residual_0...  0.636286      0.546   \n",
       "Fer2013_filtered_uniform_aug_disgust100 xval-10     0.639000      0.549   \n",
       "\n",
       "                                                    disgust ACC  fear ACC  \\\n",
       "Fer2013_filtered_uniform xval-10                          0.535     0.487   \n",
       "Fer2013_filtered_uniform_aug_disgust100 xval-10           0.572     0.471   \n",
       "Fer2013_filtered_uniform_aug_disgust_residual_0...        0.573     0.476   \n",
       "Fer2013_filtered_uniform_aug_disgust100 xval-10           0.585     0.461   \n",
       "\n",
       "                                                    happy ACC  neautral ACC  \\\n",
       "Fer2013_filtered_uniform xval-10                        0.837         0.657   \n",
       "Fer2013_filtered_uniform_aug_disgust100 xval-10         0.835         0.645   \n",
       "Fer2013_filtered_uniform_aug_disgust_residual_0...      0.827         0.657   \n",
       "Fer2013_filtered_uniform_aug_disgust100 xval-10         0.828         0.639   \n",
       "\n",
       "                                                    sad ACC  surprise ACC  \n",
       "Fer2013_filtered_uniform xval-10                      0.594         0.811  \n",
       "Fer2013_filtered_uniform_aug_disgust100 xval-10       0.564         0.822  \n",
       "Fer2013_filtered_uniform_aug_disgust_residual_0...    0.583         0.792  \n",
       "Fer2013_filtered_uniform_aug_disgust100 xval-10       0.587         0.824  "
      ]
     },
     "execution_count": 25,
     "metadata": {},
     "output_type": "execute_result"
    }
   ],
   "source": [
    "try:\n",
    "    stored_df = pd.read_csv(os.path.join(metrics_directory, metrics_name),index_col=0)\n",
    "except FileNotFoundError:\n",
    "    stored_df = pd.DataFrame(columns = columns)\n",
    "stored_df"
   ]
  },
  {
   "cell_type": "code",
   "execution_count": 26,
   "id": "417b7565",
   "metadata": {},
   "outputs": [
    {
     "data": {
      "text/html": [
       "<div>\n",
       "<style scoped>\n",
       "    .dataframe tbody tr th:only-of-type {\n",
       "        vertical-align: middle;\n",
       "    }\n",
       "\n",
       "    .dataframe tbody tr th {\n",
       "        vertical-align: top;\n",
       "    }\n",
       "\n",
       "    .dataframe thead th {\n",
       "        text-align: right;\n",
       "    }\n",
       "</style>\n",
       "<table border=\"1\" class=\"dataframe\">\n",
       "  <thead>\n",
       "    <tr style=\"text-align: right;\">\n",
       "      <th></th>\n",
       "      <th>mean AUC</th>\n",
       "      <th>angry AUC</th>\n",
       "      <th>disgust AUC</th>\n",
       "      <th>fear AUC</th>\n",
       "      <th>happy AUC</th>\n",
       "      <th>neautral AUC</th>\n",
       "      <th>sad AUC</th>\n",
       "      <th>surprise AUC</th>\n",
       "      <th>mean ACC</th>\n",
       "      <th>angry ACC</th>\n",
       "      <th>disgust ACC</th>\n",
       "      <th>fear ACC</th>\n",
       "      <th>happy ACC</th>\n",
       "      <th>neautral ACC</th>\n",
       "      <th>sad ACC</th>\n",
       "      <th>surprise ACC</th>\n",
       "    </tr>\n",
       "  </thead>\n",
       "  <tbody>\n",
       "    <tr>\n",
       "      <th>Fer2013_filtered_uniform xval-10</th>\n",
       "      <td>0.913137</td>\n",
       "      <td>0.882769</td>\n",
       "      <td>0.947797</td>\n",
       "      <td>0.845343</td>\n",
       "      <td>0.964072</td>\n",
       "      <td>0.922568</td>\n",
       "      <td>0.854387</td>\n",
       "      <td>0.975025</td>\n",
       "      <td>0.637857</td>\n",
       "      <td>0.544</td>\n",
       "      <td>0.535</td>\n",
       "      <td>0.487</td>\n",
       "      <td>0.837</td>\n",
       "      <td>0.657</td>\n",
       "      <td>0.594</td>\n",
       "      <td>0.811</td>\n",
       "    </tr>\n",
       "    <tr>\n",
       "      <th>Fer2013_filtered_uniform_aug_disgust100 xval-10</th>\n",
       "      <td>0.910634</td>\n",
       "      <td>0.877640</td>\n",
       "      <td>0.948825</td>\n",
       "      <td>0.844880</td>\n",
       "      <td>0.963346</td>\n",
       "      <td>0.915373</td>\n",
       "      <td>0.848816</td>\n",
       "      <td>0.975559</td>\n",
       "      <td>0.639000</td>\n",
       "      <td>0.564</td>\n",
       "      <td>0.572</td>\n",
       "      <td>0.471</td>\n",
       "      <td>0.835</td>\n",
       "      <td>0.645</td>\n",
       "      <td>0.564</td>\n",
       "      <td>0.822</td>\n",
       "    </tr>\n",
       "    <tr>\n",
       "      <th>Fer2013_filtered_uniform_aug_disgust_residual_03_identity05 xval-10</th>\n",
       "      <td>0.913648</td>\n",
       "      <td>0.876134</td>\n",
       "      <td>0.948275</td>\n",
       "      <td>0.856259</td>\n",
       "      <td>0.963064</td>\n",
       "      <td>0.920421</td>\n",
       "      <td>0.857468</td>\n",
       "      <td>0.973912</td>\n",
       "      <td>0.636286</td>\n",
       "      <td>0.546</td>\n",
       "      <td>0.573</td>\n",
       "      <td>0.476</td>\n",
       "      <td>0.827</td>\n",
       "      <td>0.657</td>\n",
       "      <td>0.583</td>\n",
       "      <td>0.792</td>\n",
       "    </tr>\n",
       "    <tr>\n",
       "      <th>Fer2013_filtered_uniform_aug_disgust100 xval-10</th>\n",
       "      <td>0.913458</td>\n",
       "      <td>0.881824</td>\n",
       "      <td>0.944403</td>\n",
       "      <td>0.851962</td>\n",
       "      <td>0.963165</td>\n",
       "      <td>0.919623</td>\n",
       "      <td>0.855662</td>\n",
       "      <td>0.977569</td>\n",
       "      <td>0.639000</td>\n",
       "      <td>0.549</td>\n",
       "      <td>0.585</td>\n",
       "      <td>0.461</td>\n",
       "      <td>0.828</td>\n",
       "      <td>0.639</td>\n",
       "      <td>0.587</td>\n",
       "      <td>0.824</td>\n",
       "    </tr>\n",
       "    <tr>\n",
       "      <th>Fer2013_filtered_uniform_aug_disgust100 xval-10</th>\n",
       "      <td>0.915024</td>\n",
       "      <td>0.876282</td>\n",
       "      <td>0.948898</td>\n",
       "      <td>0.850682</td>\n",
       "      <td>0.965239</td>\n",
       "      <td>0.923594</td>\n",
       "      <td>0.863687</td>\n",
       "      <td>0.976787</td>\n",
       "      <td>0.643857</td>\n",
       "      <td>0.572</td>\n",
       "      <td>0.606</td>\n",
       "      <td>0.475</td>\n",
       "      <td>0.827</td>\n",
       "      <td>0.646</td>\n",
       "      <td>0.571</td>\n",
       "      <td>0.810</td>\n",
       "    </tr>\n",
       "  </tbody>\n",
       "</table>\n",
       "</div>"
      ],
      "text/plain": [
       "                                                    mean AUC  angry AUC  \\\n",
       "Fer2013_filtered_uniform xval-10                    0.913137   0.882769   \n",
       "Fer2013_filtered_uniform_aug_disgust100 xval-10     0.910634   0.877640   \n",
       "Fer2013_filtered_uniform_aug_disgust_residual_0...  0.913648   0.876134   \n",
       "Fer2013_filtered_uniform_aug_disgust100 xval-10     0.913458   0.881824   \n",
       "Fer2013_filtered_uniform_aug_disgust100 xval-10     0.915024   0.876282   \n",
       "\n",
       "                                                    disgust AUC  fear AUC  \\\n",
       "Fer2013_filtered_uniform xval-10                       0.947797  0.845343   \n",
       "Fer2013_filtered_uniform_aug_disgust100 xval-10        0.948825  0.844880   \n",
       "Fer2013_filtered_uniform_aug_disgust_residual_0...     0.948275  0.856259   \n",
       "Fer2013_filtered_uniform_aug_disgust100 xval-10        0.944403  0.851962   \n",
       "Fer2013_filtered_uniform_aug_disgust100 xval-10        0.948898  0.850682   \n",
       "\n",
       "                                                    happy AUC  neautral AUC  \\\n",
       "Fer2013_filtered_uniform xval-10                     0.964072      0.922568   \n",
       "Fer2013_filtered_uniform_aug_disgust100 xval-10      0.963346      0.915373   \n",
       "Fer2013_filtered_uniform_aug_disgust_residual_0...   0.963064      0.920421   \n",
       "Fer2013_filtered_uniform_aug_disgust100 xval-10      0.963165      0.919623   \n",
       "Fer2013_filtered_uniform_aug_disgust100 xval-10      0.965239      0.923594   \n",
       "\n",
       "                                                     sad AUC  surprise AUC  \\\n",
       "Fer2013_filtered_uniform xval-10                    0.854387      0.975025   \n",
       "Fer2013_filtered_uniform_aug_disgust100 xval-10     0.848816      0.975559   \n",
       "Fer2013_filtered_uniform_aug_disgust_residual_0...  0.857468      0.973912   \n",
       "Fer2013_filtered_uniform_aug_disgust100 xval-10     0.855662      0.977569   \n",
       "Fer2013_filtered_uniform_aug_disgust100 xval-10     0.863687      0.976787   \n",
       "\n",
       "                                                    mean ACC  angry ACC  \\\n",
       "Fer2013_filtered_uniform xval-10                    0.637857      0.544   \n",
       "Fer2013_filtered_uniform_aug_disgust100 xval-10     0.639000      0.564   \n",
       "Fer2013_filtered_uniform_aug_disgust_residual_0...  0.636286      0.546   \n",
       "Fer2013_filtered_uniform_aug_disgust100 xval-10     0.639000      0.549   \n",
       "Fer2013_filtered_uniform_aug_disgust100 xval-10     0.643857      0.572   \n",
       "\n",
       "                                                    disgust ACC  fear ACC  \\\n",
       "Fer2013_filtered_uniform xval-10                          0.535     0.487   \n",
       "Fer2013_filtered_uniform_aug_disgust100 xval-10           0.572     0.471   \n",
       "Fer2013_filtered_uniform_aug_disgust_residual_0...        0.573     0.476   \n",
       "Fer2013_filtered_uniform_aug_disgust100 xval-10           0.585     0.461   \n",
       "Fer2013_filtered_uniform_aug_disgust100 xval-10           0.606     0.475   \n",
       "\n",
       "                                                    happy ACC  neautral ACC  \\\n",
       "Fer2013_filtered_uniform xval-10                        0.837         0.657   \n",
       "Fer2013_filtered_uniform_aug_disgust100 xval-10         0.835         0.645   \n",
       "Fer2013_filtered_uniform_aug_disgust_residual_0...      0.827         0.657   \n",
       "Fer2013_filtered_uniform_aug_disgust100 xval-10         0.828         0.639   \n",
       "Fer2013_filtered_uniform_aug_disgust100 xval-10         0.827         0.646   \n",
       "\n",
       "                                                    sad ACC  surprise ACC  \n",
       "Fer2013_filtered_uniform xval-10                      0.594         0.811  \n",
       "Fer2013_filtered_uniform_aug_disgust100 xval-10       0.564         0.822  \n",
       "Fer2013_filtered_uniform_aug_disgust_residual_0...    0.583         0.792  \n",
       "Fer2013_filtered_uniform_aug_disgust100 xval-10       0.587         0.824  \n",
       "Fer2013_filtered_uniform_aug_disgust100 xval-10       0.571         0.810  "
      ]
     },
     "execution_count": 26,
     "metadata": {},
     "output_type": "execute_result"
    }
   ],
   "source": [
    "stored_df = pd.concat([stored_df,mean_df.set_index(pd.Index([f\"{dataset_name} xval-{splits}\"]))])\n",
    "stored_df"
   ]
  },
  {
   "cell_type": "code",
   "execution_count": 27,
   "id": "d202fe7c",
   "metadata": {},
   "outputs": [],
   "source": [
    "if not os.path.isdir(metrics_directory):\n",
    "    os.makedirs(name = metrics_directory)\n",
    "stored_df.to_csv(os.path.join(metrics_directory, metrics_name))"
   ]
  },
  {
   "cell_type": "code",
   "execution_count": 28,
   "id": "af48bbbe",
   "metadata": {},
   "outputs": [
    {
     "data": {
      "text/html": [
       "<div>\n",
       "<style scoped>\n",
       "    .dataframe tbody tr th:only-of-type {\n",
       "        vertical-align: middle;\n",
       "    }\n",
       "\n",
       "    .dataframe tbody tr th {\n",
       "        vertical-align: top;\n",
       "    }\n",
       "\n",
       "    .dataframe thead th {\n",
       "        text-align: right;\n",
       "    }\n",
       "</style>\n",
       "<table border=\"1\" class=\"dataframe\">\n",
       "  <thead>\n",
       "    <tr style=\"text-align: right;\">\n",
       "      <th></th>\n",
       "      <th>mean AUC</th>\n",
       "      <th>angry AUC</th>\n",
       "      <th>disgust AUC</th>\n",
       "      <th>fear AUC</th>\n",
       "      <th>happy AUC</th>\n",
       "      <th>neautral AUC</th>\n",
       "      <th>sad AUC</th>\n",
       "      <th>surprise AUC</th>\n",
       "      <th>mean ACC</th>\n",
       "      <th>angry ACC</th>\n",
       "      <th>disgust ACC</th>\n",
       "      <th>fear ACC</th>\n",
       "      <th>happy ACC</th>\n",
       "      <th>neautral ACC</th>\n",
       "      <th>sad ACC</th>\n",
       "      <th>surprise ACC</th>\n",
       "    </tr>\n",
       "    <tr>\n",
       "      <th>Method</th>\n",
       "      <th></th>\n",
       "      <th></th>\n",
       "      <th></th>\n",
       "      <th></th>\n",
       "      <th></th>\n",
       "      <th></th>\n",
       "      <th></th>\n",
       "      <th></th>\n",
       "      <th></th>\n",
       "      <th></th>\n",
       "      <th></th>\n",
       "      <th></th>\n",
       "      <th></th>\n",
       "      <th></th>\n",
       "      <th></th>\n",
       "      <th></th>\n",
       "    </tr>\n",
       "  </thead>\n",
       "  <tbody>\n",
       "    <tr>\n",
       "      <th>Fer2013_filtered_uniform xval-10</th>\n",
       "      <td>0.913137</td>\n",
       "      <td>0.882769</td>\n",
       "      <td>0.947797</td>\n",
       "      <td>0.845343</td>\n",
       "      <td>0.964072</td>\n",
       "      <td>0.922568</td>\n",
       "      <td>0.854387</td>\n",
       "      <td>0.975025</td>\n",
       "      <td>0.637857</td>\n",
       "      <td>0.544000</td>\n",
       "      <td>0.535000</td>\n",
       "      <td>0.487</td>\n",
       "      <td>0.837</td>\n",
       "      <td>0.657000</td>\n",
       "      <td>0.594</td>\n",
       "      <td>0.811000</td>\n",
       "    </tr>\n",
       "    <tr>\n",
       "      <th>Fer2013_filtered_uniform_aug_disgust100 xval-10</th>\n",
       "      <td>0.913039</td>\n",
       "      <td>0.878582</td>\n",
       "      <td>0.947376</td>\n",
       "      <td>0.849175</td>\n",
       "      <td>0.963917</td>\n",
       "      <td>0.919530</td>\n",
       "      <td>0.856055</td>\n",
       "      <td>0.976638</td>\n",
       "      <td>0.640619</td>\n",
       "      <td>0.561667</td>\n",
       "      <td>0.587667</td>\n",
       "      <td>0.469</td>\n",
       "      <td>0.830</td>\n",
       "      <td>0.643333</td>\n",
       "      <td>0.574</td>\n",
       "      <td>0.818667</td>\n",
       "    </tr>\n",
       "    <tr>\n",
       "      <th>Fer2013_filtered_uniform_aug_disgust_residual_03_identity05 xval-10</th>\n",
       "      <td>0.913648</td>\n",
       "      <td>0.876134</td>\n",
       "      <td>0.948275</td>\n",
       "      <td>0.856259</td>\n",
       "      <td>0.963064</td>\n",
       "      <td>0.920421</td>\n",
       "      <td>0.857468</td>\n",
       "      <td>0.973912</td>\n",
       "      <td>0.636286</td>\n",
       "      <td>0.546000</td>\n",
       "      <td>0.573000</td>\n",
       "      <td>0.476</td>\n",
       "      <td>0.827</td>\n",
       "      <td>0.657000</td>\n",
       "      <td>0.583</td>\n",
       "      <td>0.792000</td>\n",
       "    </tr>\n",
       "  </tbody>\n",
       "</table>\n",
       "</div>"
      ],
      "text/plain": [
       "                                                    mean AUC  angry AUC  \\\n",
       "Method                                                                    \n",
       "Fer2013_filtered_uniform xval-10                    0.913137   0.882769   \n",
       "Fer2013_filtered_uniform_aug_disgust100 xval-10     0.913039   0.878582   \n",
       "Fer2013_filtered_uniform_aug_disgust_residual_0...  0.913648   0.876134   \n",
       "\n",
       "                                                    disgust AUC  fear AUC  \\\n",
       "Method                                                                      \n",
       "Fer2013_filtered_uniform xval-10                       0.947797  0.845343   \n",
       "Fer2013_filtered_uniform_aug_disgust100 xval-10        0.947376  0.849175   \n",
       "Fer2013_filtered_uniform_aug_disgust_residual_0...     0.948275  0.856259   \n",
       "\n",
       "                                                    happy AUC  neautral AUC  \\\n",
       "Method                                                                        \n",
       "Fer2013_filtered_uniform xval-10                     0.964072      0.922568   \n",
       "Fer2013_filtered_uniform_aug_disgust100 xval-10      0.963917      0.919530   \n",
       "Fer2013_filtered_uniform_aug_disgust_residual_0...   0.963064      0.920421   \n",
       "\n",
       "                                                     sad AUC  surprise AUC  \\\n",
       "Method                                                                       \n",
       "Fer2013_filtered_uniform xval-10                    0.854387      0.975025   \n",
       "Fer2013_filtered_uniform_aug_disgust100 xval-10     0.856055      0.976638   \n",
       "Fer2013_filtered_uniform_aug_disgust_residual_0...  0.857468      0.973912   \n",
       "\n",
       "                                                    mean ACC  angry ACC  \\\n",
       "Method                                                                    \n",
       "Fer2013_filtered_uniform xval-10                    0.637857   0.544000   \n",
       "Fer2013_filtered_uniform_aug_disgust100 xval-10     0.640619   0.561667   \n",
       "Fer2013_filtered_uniform_aug_disgust_residual_0...  0.636286   0.546000   \n",
       "\n",
       "                                                    disgust ACC  fear ACC  \\\n",
       "Method                                                                      \n",
       "Fer2013_filtered_uniform xval-10                       0.535000     0.487   \n",
       "Fer2013_filtered_uniform_aug_disgust100 xval-10        0.587667     0.469   \n",
       "Fer2013_filtered_uniform_aug_disgust_residual_0...     0.573000     0.476   \n",
       "\n",
       "                                                    happy ACC  neautral ACC  \\\n",
       "Method                                                                        \n",
       "Fer2013_filtered_uniform xval-10                        0.837      0.657000   \n",
       "Fer2013_filtered_uniform_aug_disgust100 xval-10         0.830      0.643333   \n",
       "Fer2013_filtered_uniform_aug_disgust_residual_0...      0.827      0.657000   \n",
       "\n",
       "                                                    sad ACC  surprise ACC  \n",
       "Method                                                                     \n",
       "Fer2013_filtered_uniform xval-10                      0.594      0.811000  \n",
       "Fer2013_filtered_uniform_aug_disgust100 xval-10       0.574      0.818667  \n",
       "Fer2013_filtered_uniform_aug_disgust_residual_0...    0.583      0.792000  "
      ]
     },
     "execution_count": 28,
     "metadata": {},
     "output_type": "execute_result"
    }
   ],
   "source": [
    "stored_df.index.name = \"Method\"\n",
    "stored_df.groupby(\"Method\").mean()"
   ]
  },
  {
   "cell_type": "code",
   "execution_count": 29,
   "id": "4f6a75c8",
   "metadata": {},
   "outputs": [],
   "source": [
    "winsound.Beep(400, 2000)"
   ]
  },
  {
   "cell_type": "code",
   "execution_count": 30,
   "id": "cbfaa498",
   "metadata": {},
   "outputs": [],
   "source": [
    "winsound.Beep(400, 2000)"
   ]
  },
  {
   "cell_type": "code",
   "execution_count": null,
   "id": "99818dc5",
   "metadata": {},
   "outputs": [],
   "source": []
  }
 ],
 "metadata": {
  "kernelspec": {
   "display_name": "Python 3.9.8 ('adlmam': venv)",
   "language": "python",
   "name": "python3"
  },
  "language_info": {
   "codemirror_mode": {
    "name": "ipython",
    "version": 3
   },
   "file_extension": ".py",
   "mimetype": "text/x-python",
   "name": "python",
   "nbconvert_exporter": "python",
   "pygments_lexer": "ipython3",
   "version": "3.9.8"
  },
  "vscode": {
   "interpreter": {
    "hash": "106c4f8174829cec3852d25fc2502034183f8bb6abf498d99bcfdbdcf1e0115d"
   }
  }
 },
 "nbformat": 4,
 "nbformat_minor": 5
}
