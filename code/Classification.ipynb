{
 "cells": [
  {
   "cell_type": "markdown",
   "id": "64b0897f",
   "metadata": {},
   "source": [
    "# Classifier"
   ]
  },
  {
   "cell_type": "markdown",
   "id": "08a9de04",
   "metadata": {},
   "source": [
    "## Import libraries"
   ]
  },
  {
   "cell_type": "code",
   "execution_count": 82,
   "id": "f30487ab-c2a7-4231-80cd-942fbc97e0a4",
   "metadata": {},
   "outputs": [],
   "source": [
    "import torch\n",
    "import torch.nn as nn\n",
    "import torch.nn.functional as F\n",
    "import torch.optim as optim\n",
    "import os\n",
    "import sys\n",
    "from tqdm.notebook import tqdm, trange\n",
    "from time import sleep\n",
    "from torchvision.io import read_image\n",
    "from torchvision.transforms import ToTensor\n",
    "from torchvision import transforms\n",
    "from torchsummary import summary\n",
    "from torch.utils.data import DataLoader\n",
    "from torchvision.datasets import ImageFolder\n",
    "from collections import Counter\n",
    "import numpy as np\n",
    "from sklearn.metrics import roc_curve, auc\n",
    "from sklearn import datasets\n",
    "from sklearn.multiclass import OneVsRestClassifier\n",
    "from sklearn.svm import LinearSVC\n",
    "from sklearn.preprocessing import label_binarize\n",
    "from sklearn.model_selection import train_test_split\n",
    "import matplotlib.pyplot as plt\n",
    "import pandas as pd\n",
    "from sklearn.model_selection import StratifiedKFold\n",
    "\n",
    "import winsound\n"
   ]
  },
  {
   "cell_type": "code",
   "execution_count": 83,
   "id": "b0cc28d1",
   "metadata": {},
   "outputs": [],
   "source": [
    "seed = 23\n",
    "save_model = True\n",
    "load_model = False\n",
    "\n",
    "models_directory = \"models\"\n",
    "metrics_directory = \"metrics\"\n",
    "metrics_name = \"metrics_filtered_early.csv\"\n",
    "dataset_name = \"Fer2013_merge_selected_85_uniform\"\n",
    "train_df_path = f\"../datasets/{dataset_name}/train\"\n",
    "test_df_path = f\"../datasets/{dataset_name}/test\"\n",
    "\n",
    "batch_size = 64"
   ]
  },
  {
   "cell_type": "code",
   "execution_count": 84,
   "id": "51d3e35d",
   "metadata": {},
   "outputs": [],
   "source": [
    "if not os.path.isdir(models_directory):\n",
    "    os.makedirs(name = models_directory)\n",
    "models_directory_data = os.path.join(models_directory,dataset_name)\n",
    "if not os.path.isdir(models_directory_data):\n",
    "    os.makedirs(name = models_directory_data)"
   ]
  },
  {
   "cell_type": "markdown",
   "id": "ed5c4b34",
   "metadata": {},
   "source": [
    "## Functions definition"
   ]
  },
  {
   "cell_type": "code",
   "execution_count": 85,
   "id": "084cd3c3-e57c-434e-9669-2ff06fa1d080",
   "metadata": {},
   "outputs": [],
   "source": [
    "def get_default_device():\n",
    "    \"\"\"Pick GPU if available, else CPU\"\"\"\n",
    "    if torch.cuda.is_available():\n",
    "        return torch.device('cuda')\n",
    "    else:\n",
    "        return torch.device('cpu')\n",
    "    \n",
    "def to_device(data, device):\n",
    "    \"\"\"Move tensor(s) to chosen device\"\"\"\n",
    "    if isinstance(data, (list,tuple)):\n",
    "        return [to_device(x, device) for x in data]\n",
    "    return data.to(device, non_blocking=True)"
   ]
  },
  {
   "cell_type": "code",
   "execution_count": 86,
   "id": "e0a6ad2d-46c4-4553-94e6-5459666c6a9e",
   "metadata": {},
   "outputs": [],
   "source": [
    "@torch.no_grad()\n",
    "def evaluate(model, val_loader):\n",
    "    model.eval()\n",
    "    outputs = [model.validation_step(batch) for batch in val_loader]\n",
    "    return model.validation_epoch_end(outputs)\n",
    "\n",
    "def get_lr(optimizer):\n",
    "    for param_group in optimizer.param_groups:\n",
    "        return param_group['lr']\n",
    "\n",
    "def fit(epochs, patience, lr, model, train_loader, val_loader, opt_func=torch.optim.SGD, scheduler_func=None, fold = None):\n",
    "    history = []\n",
    "    optimizer = opt_func(model.parameters(), lr, betas=(0.5,0.999))\n",
    "    scheduler = scheduler_func(optimizer, mode='min', patience=3)\n",
    "    min_val_loss = sys.float_info.max\n",
    "    patience_cnt = 0\n",
    "    for epoch in tqdm(range(epochs), desc = \"Current Epoch\"):\n",
    "        # Training Phase \n",
    "        model.train()\n",
    "        train_losses = []\n",
    "        for batch in tqdm(train_loader, desc = f\"Epoch: {epoch}\", leave= False):\n",
    "            optimizer.zero_grad()\n",
    "            loss = model.training_step(batch)\n",
    "            train_losses.append(loss)\n",
    "            loss.backward()\n",
    "            optimizer.step()\n",
    "        # Validation phase\n",
    "        result = evaluate(model, val_loader)\n",
    "        result['train_loss'] = torch.stack(train_losses).mean().item()\n",
    "\n",
    "        scheduler.step(result['val_loss'])\n",
    "        result['lrate'] = get_lr(optimizer)\n",
    "\n",
    "        if epoch > 0 and min_val_loss - result['val_loss'] >= 1e-4:\n",
    "            patience_cnt = 0\n",
    "        else:\n",
    "            patience_cnt += 1\n",
    "            \n",
    "        if result['val_loss'] <= min_val_loss:\n",
    "            min_val_loss = result['val_loss']\n",
    "            min_val_epoch = epoch\n",
    "            model_path = os.path.join(models_directory_data,f\"classifier_fold_{fold}.pt\")\n",
    "            torch.save(model.state_dict(), model_path)\n",
    "\n",
    "        if patience_cnt >= patience:\n",
    "            print('Early stopping')\n",
    "            break\n",
    "\n",
    "        model.epoch_end(epoch, result)\n",
    "        history.append(result)\n",
    "    model.load_state_dict(torch.load(os.path.join(models_directory_data,f\"classifier_fold_{fold}.pt\")))\n",
    "    return history"
   ]
  },
  {
   "cell_type": "markdown",
   "id": "ca246c54",
   "metadata": {},
   "source": [
    "## Class definition"
   ]
  },
  {
   "cell_type": "code",
   "execution_count": 87,
   "id": "30e57e57",
   "metadata": {},
   "outputs": [],
   "source": [
    "class DeviceDataLoader():\n",
    "    \"\"\"Wrap a dataloader to move data to a device\"\"\"\n",
    "    def __init__(self, dl, device):\n",
    "        self.dl = dl\n",
    "        self.device = device\n",
    "        \n",
    "    def __iter__(self):\n",
    "        \"\"\"Yield a batch of data after moving it to device\"\"\"\n",
    "        for b in self.dl: \n",
    "            yield to_device(b, self.device)\n",
    "\n",
    "    def __len__(self):\n",
    "        \"\"\"Number of batches\"\"\"\n",
    "        return len(self.dl)"
   ]
  },
  {
   "cell_type": "code",
   "execution_count": 88,
   "id": "1042dd71-2d30-4b9e-b7fd-dc0178421675",
   "metadata": {},
   "outputs": [],
   "source": [
    "class Metric():\n",
    "    def __init__(self, name):\n",
    "        self.name = name\n",
    "    \n",
    "    def eval(self, outputs, labels):\n",
    "        pass"
   ]
  },
  {
   "cell_type": "code",
   "execution_count": 89,
   "id": "6ab563e9-aeac-45c8-a5da-e99f8cbc54ca",
   "metadata": {},
   "outputs": [],
   "source": [
    "class Accuracy(Metric):\n",
    "    \n",
    "    def eval(self, outputs, labels):\n",
    "        _, preds = torch.max(outputs, dim=1)\n",
    "        return torch.tensor(torch.sum(preds == labels).item() / len(preds))"
   ]
  },
  {
   "cell_type": "code",
   "execution_count": 90,
   "id": "1977248f-bcac-4d98-806b-013f3fa7e6f4",
   "metadata": {},
   "outputs": [],
   "source": [
    "class ImageClassificationBase(nn.Module):\n",
    "    \n",
    "    def __init__(self, loss_function, metrics):\n",
    "        super().__init__()\n",
    "        self.loss_function = loss_function\n",
    "        self.metrics = metrics\n",
    "    \n",
    "    def training_step(self, batch):\n",
    "        images, labels = batch \n",
    "        out = self(images)                  # Generate predictions\n",
    "        loss = self.loss_function(out, labels) # Calculate loss\n",
    "        return loss\n",
    "    \n",
    "    def validation_step(self, batch):\n",
    "        images, labels = batch \n",
    "        out = self(images)                    # Generate predictions\n",
    "        loss = self.loss_function(out, labels)   # Calculate loss\n",
    "        result = {'val_loss': loss.detach()}\n",
    "        \n",
    "        for m in self.metrics:\n",
    "            result[m.name] = m.eval(out, labels)           # Calculate metrics\n",
    "            \n",
    "        return result\n",
    "        \n",
    "    def validation_epoch_end(self, outputs):\n",
    "        batch_losses = [x['val_loss'] for x in outputs]\n",
    "        epoch_loss = torch.stack(batch_losses).mean()   # Combine losses\n",
    "        \n",
    "        result = {'val_loss': epoch_loss.item()}\n",
    "        \n",
    "        for m in self.metrics:\n",
    "            batch = [x[m.name] for x in outputs]\n",
    "            epoch = torch.stack(batch).mean()      # Combine metrics\n",
    "            result[m.name] = epoch.item()\n",
    "            \n",
    "        return result\n",
    "    \n",
    "    def epoch_end(self, epoch, result):\n",
    "        out = f\"Epoch [{epoch}]\"\n",
    "        vals = list(result.keys())\n",
    "        for v in vals:\n",
    "            out += f\", {v}: {result[v]:.3e}\"\n",
    "        print(out)\n",
    "        "
   ]
  },
  {
   "cell_type": "code",
   "execution_count": 91,
   "id": "125ec41f-92e5-4844-bc89-6eeb84c08eb6",
   "metadata": {},
   "outputs": [],
   "source": [
    "class Net(ImageClassificationBase):\n",
    "    \n",
    "    def __init__(self, loss_function, metrics, out_size):\n",
    "        super().__init__(loss_function, metrics)\n",
    "        self.conv1 = nn.Conv2d(in_channels=1, out_channels=32, kernel_size=3, stride=1)\n",
    "        self.pool1 = nn.MaxPool2d(kernel_size=3,stride=2, padding=1)\n",
    "        self.norm1 = nn.BatchNorm2d(32)\n",
    "        self.conv2 = nn.Conv2d(in_channels=32, out_channels=64, kernel_size=3, stride=1)\n",
    "        self.pool2 = nn.MaxPool2d(kernel_size=3,stride=2, padding=1)\n",
    "        self.norm2 = nn.BatchNorm2d(64)\n",
    "        self.conv3 = nn.Conv2d(in_channels=64, out_channels=128, kernel_size=3, stride=1)\n",
    "        self.pool3 = nn.MaxPool2d(kernel_size=3, stride=2, padding=1)\n",
    "        self.norm3 = nn.BatchNorm2d(128)\n",
    "        self.fc1 = nn.Linear(in_features=128*5*5, out_features=256)\n",
    "        #self.fc2 = nn.Linear(in_features=256, out_features=256)\n",
    "        self.fc = nn.Linear(256, out_size)\n",
    "\n",
    "    def forward(self, input):\n",
    "        output = self.norm1(self.pool1(F.relu(self.conv1(input))))\n",
    "        output = self.norm2(self.pool2(F.relu(self.conv2((output)))))\n",
    "        output = self.norm3(self.pool3(F.relu(self.conv3((output)))))\n",
    "        output = output.view(-1, 128*5*5)\n",
    "        output = F.relu(self.fc1(output))\n",
    "        #output = F.relu(self.fc2(output))\n",
    "        output = self.fc(output)\n",
    "        output = F.softmax(input = output, dim=-1)\n",
    "        return output"
   ]
  },
  {
   "cell_type": "code",
   "execution_count": 92,
   "id": "1bb92e60",
   "metadata": {},
   "outputs": [],
   "source": [
    "device = get_default_device()"
   ]
  },
  {
   "cell_type": "markdown",
   "id": "76ef2e5b",
   "metadata": {},
   "source": [
    "## Dataset loading"
   ]
  },
  {
   "cell_type": "code",
   "execution_count": 93,
   "id": "5f983610-8ba7-4afc-81b4-44c255c5257c",
   "metadata": {},
   "outputs": [],
   "source": [
    "df_train = ImageFolder(root=train_df_path, transform=transforms.Compose([transforms.Grayscale(num_output_channels=1),\n",
    "                                     transforms.ToTensor()]))\n",
    "df_test = ImageFolder(root=test_df_path, transform=transforms.Compose([transforms.Grayscale(num_output_channels=1),\n",
    "                                     transforms.ToTensor()]))"
   ]
  },
  {
   "cell_type": "code",
   "execution_count": 94,
   "id": "e8d4b406",
   "metadata": {},
   "outputs": [],
   "source": [
    "train_dl = DeviceDataLoader(DataLoader(df_train, batch_size=batch_size),device)\n",
    "test_dl = DeviceDataLoader(DataLoader(df_test, batch_size=batch_size, shuffle=False),device)"
   ]
  },
  {
   "cell_type": "code",
   "execution_count": 95,
   "id": "72f96e28-c09a-4c5f-836b-51ea2ae0ed52",
   "metadata": {},
   "outputs": [
    {
     "data": {
      "text/plain": [
       "['angry', 'disgust', 'fear', 'happy', 'neutral', 'sad', 'surprise']"
      ]
     },
     "execution_count": 95,
     "metadata": {},
     "output_type": "execute_result"
    }
   ],
   "source": [
    "classes = df_train.classes\n",
    "classes"
   ]
  },
  {
   "cell_type": "code",
   "execution_count": 96,
   "id": "48aa05f0",
   "metadata": {},
   "outputs": [
    {
     "name": "stdout",
     "output_type": "stream",
     "text": [
      "{0: 4110, 1: 1465, 2: 4252, 3: 7540, 4: 5168, 5: 5065, 6: 3301}\n",
      "tensor([0.3564, 1.0000, 0.3445, 0.1943, 0.2835, 0.2892, 0.4438])\n"
     ]
    }
   ],
   "source": [
    "counts = dict(Counter(df_train.targets))\n",
    "print(counts)\n",
    "weights = np.array(list(counts.values()))\n",
    "weights = torch.Tensor( min(weights)/weights)\n",
    "print(weights)"
   ]
  },
  {
   "cell_type": "markdown",
   "id": "793bf2de",
   "metadata": {},
   "source": [
    "## Model design and Training"
   ]
  },
  {
   "cell_type": "code",
   "execution_count": 97,
   "id": "62f2c2a4",
   "metadata": {},
   "outputs": [],
   "source": [
    "loss_function = nn.CrossEntropyLoss(weight = weights)\n",
    "metrics = []\n",
    "optimizer = optim.Adam\n",
    "scheduler = optim.lr_scheduler.ReduceLROnPlateau\n",
    "\n",
    "lr = 0.0001\n",
    "num_epochs = 30\n",
    "patience = 5"
   ]
  },
  {
   "cell_type": "code",
   "execution_count": 98,
   "id": "94ef4dba-0260-4d4a-947b-52ecf388c783",
   "metadata": {},
   "outputs": [
    {
     "name": "stdout",
     "output_type": "stream",
     "text": [
      "------------fold no---------0----------------------\n"
     ]
    },
    {
     "data": {
      "application/vnd.jupyter.widget-view+json": {
       "model_id": "d4890bb2f09041e99496fac149bd2b27",
       "version_major": 2,
       "version_minor": 0
      },
      "text/plain": [
       "Current Epoch:   0%|          | 0/30 [00:00<?, ?it/s]"
      ]
     },
     "metadata": {},
     "output_type": "display_data"
    },
    {
     "data": {
      "application/vnd.jupyter.widget-view+json": {
       "model_id": "6e345b6308ca44b8973ef3d13938f9c7",
       "version_major": 2,
       "version_minor": 0
      },
      "text/plain": [
       "Epoch: 0:   0%|          | 0/363 [00:00<?, ?it/s]"
      ]
     },
     "metadata": {},
     "output_type": "display_data"
    },
    {
     "name": "stdout",
     "output_type": "stream",
     "text": [
      "Epoch [0], val_loss: 1.669e+00, train_loss: 1.754e+00, lrate: 1.000e-04\n"
     ]
    },
    {
     "data": {
      "application/vnd.jupyter.widget-view+json": {
       "model_id": "d9230cc72e7f427d87c1eedebf0262f1",
       "version_major": 2,
       "version_minor": 0
      },
      "text/plain": [
       "Epoch: 1:   0%|          | 0/363 [00:00<?, ?it/s]"
      ]
     },
     "metadata": {},
     "output_type": "display_data"
    },
    {
     "name": "stdout",
     "output_type": "stream",
     "text": [
      "Epoch [1], val_loss: 1.617e+00, train_loss: 1.624e+00, lrate: 1.000e-04\n"
     ]
    },
    {
     "data": {
      "application/vnd.jupyter.widget-view+json": {
       "model_id": "9ebe95d22f4748128dd4c31fe0948258",
       "version_major": 2,
       "version_minor": 0
      },
      "text/plain": [
       "Epoch: 2:   0%|          | 0/363 [00:00<?, ?it/s]"
      ]
     },
     "metadata": {},
     "output_type": "display_data"
    },
    {
     "name": "stdout",
     "output_type": "stream",
     "text": [
      "Epoch [2], val_loss: 1.602e+00, train_loss: 1.568e+00, lrate: 1.000e-04\n"
     ]
    },
    {
     "data": {
      "application/vnd.jupyter.widget-view+json": {
       "model_id": "48cbf43f58694e4c8039a07741cdbf1e",
       "version_major": 2,
       "version_minor": 0
      },
      "text/plain": [
       "Epoch: 3:   0%|          | 0/363 [00:00<?, ?it/s]"
      ]
     },
     "metadata": {},
     "output_type": "display_data"
    },
    {
     "name": "stdout",
     "output_type": "stream",
     "text": [
      "Epoch [3], val_loss: 1.585e+00, train_loss: 1.530e+00, lrate: 1.000e-04\n"
     ]
    },
    {
     "data": {
      "application/vnd.jupyter.widget-view+json": {
       "model_id": "475a006b6450409d9b13c78b84370a4a",
       "version_major": 2,
       "version_minor": 0
      },
      "text/plain": [
       "Epoch: 4:   0%|          | 0/363 [00:00<?, ?it/s]"
      ]
     },
     "metadata": {},
     "output_type": "display_data"
    },
    {
     "name": "stdout",
     "output_type": "stream",
     "text": [
      "Epoch [4], val_loss: 1.590e+00, train_loss: 1.499e+00, lrate: 1.000e-04\n"
     ]
    },
    {
     "data": {
      "application/vnd.jupyter.widget-view+json": {
       "model_id": "0d129465d7224efca43323ad25493880",
       "version_major": 2,
       "version_minor": 0
      },
      "text/plain": [
       "Epoch: 5:   0%|          | 0/363 [00:00<?, ?it/s]"
      ]
     },
     "metadata": {},
     "output_type": "display_data"
    },
    {
     "name": "stdout",
     "output_type": "stream",
     "text": [
      "Epoch [5], val_loss: 1.577e+00, train_loss: 1.473e+00, lrate: 1.000e-04\n"
     ]
    },
    {
     "data": {
      "application/vnd.jupyter.widget-view+json": {
       "model_id": "27c15b0f48bf48ecb3e3274b4d280d61",
       "version_major": 2,
       "version_minor": 0
      },
      "text/plain": [
       "Epoch: 6:   0%|          | 0/363 [00:00<?, ?it/s]"
      ]
     },
     "metadata": {},
     "output_type": "display_data"
    },
    {
     "name": "stdout",
     "output_type": "stream",
     "text": [
      "Epoch [6], val_loss: 1.572e+00, train_loss: 1.451e+00, lrate: 1.000e-04\n"
     ]
    },
    {
     "data": {
      "application/vnd.jupyter.widget-view+json": {
       "model_id": "517e4e85871448de8e4100aa70ef109f",
       "version_major": 2,
       "version_minor": 0
      },
      "text/plain": [
       "Epoch: 7:   0%|          | 0/363 [00:00<?, ?it/s]"
      ]
     },
     "metadata": {},
     "output_type": "display_data"
    },
    {
     "name": "stdout",
     "output_type": "stream",
     "text": [
      "Epoch [7], val_loss: 1.564e+00, train_loss: 1.427e+00, lrate: 1.000e-04\n"
     ]
    },
    {
     "data": {
      "application/vnd.jupyter.widget-view+json": {
       "model_id": "067abba539f04f86bd5913f3b817af91",
       "version_major": 2,
       "version_minor": 0
      },
      "text/plain": [
       "Epoch: 8:   0%|          | 0/363 [00:00<?, ?it/s]"
      ]
     },
     "metadata": {},
     "output_type": "display_data"
    },
    {
     "name": "stdout",
     "output_type": "stream",
     "text": [
      "Epoch [8], val_loss: 1.565e+00, train_loss: 1.409e+00, lrate: 1.000e-04\n"
     ]
    },
    {
     "data": {
      "application/vnd.jupyter.widget-view+json": {
       "model_id": "557e7d97fe8e424fbb2ff9fd84464e89",
       "version_major": 2,
       "version_minor": 0
      },
      "text/plain": [
       "Epoch: 9:   0%|          | 0/363 [00:00<?, ?it/s]"
      ]
     },
     "metadata": {},
     "output_type": "display_data"
    },
    {
     "name": "stdout",
     "output_type": "stream",
     "text": [
      "Epoch [9], val_loss: 1.571e+00, train_loss: 1.392e+00, lrate: 1.000e-04\n"
     ]
    },
    {
     "data": {
      "application/vnd.jupyter.widget-view+json": {
       "model_id": "95c34902ebe44ca88b4eb3054b91fedc",
       "version_major": 2,
       "version_minor": 0
      },
      "text/plain": [
       "Epoch: 10:   0%|          | 0/363 [00:00<?, ?it/s]"
      ]
     },
     "metadata": {},
     "output_type": "display_data"
    },
    {
     "name": "stdout",
     "output_type": "stream",
     "text": [
      "Epoch [10], val_loss: 1.561e+00, train_loss: 1.377e+00, lrate: 1.000e-04\n"
     ]
    },
    {
     "data": {
      "application/vnd.jupyter.widget-view+json": {
       "model_id": "4006726f02324cd1bb93b0463ea4a23a",
       "version_major": 2,
       "version_minor": 0
      },
      "text/plain": [
       "Epoch: 11:   0%|          | 0/363 [00:00<?, ?it/s]"
      ]
     },
     "metadata": {},
     "output_type": "display_data"
    },
    {
     "name": "stdout",
     "output_type": "stream",
     "text": [
      "Epoch [11], val_loss: 1.570e+00, train_loss: 1.363e+00, lrate: 1.000e-04\n"
     ]
    },
    {
     "data": {
      "application/vnd.jupyter.widget-view+json": {
       "model_id": "61b9005b51274fd59238d2e694cae54c",
       "version_major": 2,
       "version_minor": 0
      },
      "text/plain": [
       "Epoch: 12:   0%|          | 0/363 [00:00<?, ?it/s]"
      ]
     },
     "metadata": {},
     "output_type": "display_data"
    },
    {
     "name": "stdout",
     "output_type": "stream",
     "text": [
      "Epoch [12], val_loss: 1.559e+00, train_loss: 1.350e+00, lrate: 1.000e-04\n"
     ]
    },
    {
     "data": {
      "application/vnd.jupyter.widget-view+json": {
       "model_id": "4d8311463b9b4b2384007f7a8f72a078",
       "version_major": 2,
       "version_minor": 0
      },
      "text/plain": [
       "Epoch: 13:   0%|          | 0/363 [00:00<?, ?it/s]"
      ]
     },
     "metadata": {},
     "output_type": "display_data"
    },
    {
     "name": "stdout",
     "output_type": "stream",
     "text": [
      "Epoch [13], val_loss: 1.562e+00, train_loss: 1.340e+00, lrate: 1.000e-04\n"
     ]
    },
    {
     "data": {
      "application/vnd.jupyter.widget-view+json": {
       "model_id": "8355fba32cc14b8e81790618749b1713",
       "version_major": 2,
       "version_minor": 0
      },
      "text/plain": [
       "Epoch: 14:   0%|          | 0/363 [00:00<?, ?it/s]"
      ]
     },
     "metadata": {},
     "output_type": "display_data"
    },
    {
     "name": "stdout",
     "output_type": "stream",
     "text": [
      "Epoch [14], val_loss: 1.568e+00, train_loss: 1.330e+00, lrate: 1.000e-04\n"
     ]
    },
    {
     "data": {
      "application/vnd.jupyter.widget-view+json": {
       "model_id": "3c2c6a864aa04f1b99f8914410d05188",
       "version_major": 2,
       "version_minor": 0
      },
      "text/plain": [
       "Epoch: 15:   0%|          | 0/363 [00:00<?, ?it/s]"
      ]
     },
     "metadata": {},
     "output_type": "display_data"
    },
    {
     "name": "stdout",
     "output_type": "stream",
     "text": [
      "Epoch [15], val_loss: 1.565e+00, train_loss: 1.323e+00, lrate: 1.000e-04\n"
     ]
    },
    {
     "data": {
      "application/vnd.jupyter.widget-view+json": {
       "model_id": "3d1742646dd84d399f8cf50b225442d8",
       "version_major": 2,
       "version_minor": 0
      },
      "text/plain": [
       "Epoch: 16:   0%|          | 0/363 [00:00<?, ?it/s]"
      ]
     },
     "metadata": {},
     "output_type": "display_data"
    },
    {
     "name": "stdout",
     "output_type": "stream",
     "text": [
      "Epoch [16], val_loss: 1.554e+00, train_loss: 1.318e+00, lrate: 1.000e-04\n"
     ]
    },
    {
     "data": {
      "application/vnd.jupyter.widget-view+json": {
       "model_id": "7f0eaebf08f74b8a8f2cd4a92342fa3d",
       "version_major": 2,
       "version_minor": 0
      },
      "text/plain": [
       "Epoch: 17:   0%|          | 0/363 [00:00<?, ?it/s]"
      ]
     },
     "metadata": {},
     "output_type": "display_data"
    },
    {
     "name": "stdout",
     "output_type": "stream",
     "text": [
      "Epoch [17], val_loss: 1.597e+00, train_loss: 1.309e+00, lrate: 1.000e-04\n"
     ]
    },
    {
     "data": {
      "application/vnd.jupyter.widget-view+json": {
       "model_id": "f3c8b01e4582422eaaa63f042d59a79c",
       "version_major": 2,
       "version_minor": 0
      },
      "text/plain": [
       "Epoch: 18:   0%|          | 0/363 [00:00<?, ?it/s]"
      ]
     },
     "metadata": {},
     "output_type": "display_data"
    },
    {
     "name": "stdout",
     "output_type": "stream",
     "text": [
      "Epoch [18], val_loss: 1.560e+00, train_loss: 1.309e+00, lrate: 1.000e-04\n"
     ]
    },
    {
     "data": {
      "application/vnd.jupyter.widget-view+json": {
       "model_id": "a7c4c559e0b040d4a57b49bcd5d0098b",
       "version_major": 2,
       "version_minor": 0
      },
      "text/plain": [
       "Epoch: 19:   0%|          | 0/363 [00:00<?, ?it/s]"
      ]
     },
     "metadata": {},
     "output_type": "display_data"
    },
    {
     "name": "stdout",
     "output_type": "stream",
     "text": [
      "Epoch [19], val_loss: 1.559e+00, train_loss: 1.298e+00, lrate: 1.000e-04\n"
     ]
    },
    {
     "data": {
      "application/vnd.jupyter.widget-view+json": {
       "model_id": "41130ecb3dea4ac790e8ae85fc8b5277",
       "version_major": 2,
       "version_minor": 0
      },
      "text/plain": [
       "Epoch: 20:   0%|          | 0/363 [00:00<?, ?it/s]"
      ]
     },
     "metadata": {},
     "output_type": "display_data"
    },
    {
     "name": "stdout",
     "output_type": "stream",
     "text": [
      "Epoch [20], val_loss: 1.559e+00, train_loss: 1.294e+00, lrate: 1.000e-05\n"
     ]
    },
    {
     "data": {
      "application/vnd.jupyter.widget-view+json": {
       "model_id": "2cba9e2c688e487e9c6563b3da1652e0",
       "version_major": 2,
       "version_minor": 0
      },
      "text/plain": [
       "Epoch: 21:   0%|          | 0/363 [00:00<?, ?it/s]"
      ]
     },
     "metadata": {},
     "output_type": "display_data"
    },
    {
     "name": "stdout",
     "output_type": "stream",
     "text": [
      "Epoch [21], val_loss: 1.553e+00, train_loss: 1.286e+00, lrate: 1.000e-05\n"
     ]
    },
    {
     "data": {
      "application/vnd.jupyter.widget-view+json": {
       "model_id": "7e45b6d67c29457a9c82a59a195523b7",
       "version_major": 2,
       "version_minor": 0
      },
      "text/plain": [
       "Epoch: 22:   0%|          | 0/363 [00:00<?, ?it/s]"
      ]
     },
     "metadata": {},
     "output_type": "display_data"
    },
    {
     "name": "stdout",
     "output_type": "stream",
     "text": [
      "Epoch [22], val_loss: 1.553e+00, train_loss: 1.282e+00, lrate: 1.000e-05\n"
     ]
    },
    {
     "data": {
      "application/vnd.jupyter.widget-view+json": {
       "model_id": "21d0cdf84fb24c8e93e702cad4f19ee4",
       "version_major": 2,
       "version_minor": 0
      },
      "text/plain": [
       "Epoch: 23:   0%|          | 0/363 [00:00<?, ?it/s]"
      ]
     },
     "metadata": {},
     "output_type": "display_data"
    },
    {
     "name": "stdout",
     "output_type": "stream",
     "text": [
      "Epoch [23], val_loss: 1.553e+00, train_loss: 1.280e+00, lrate: 1.000e-05\n"
     ]
    },
    {
     "data": {
      "application/vnd.jupyter.widget-view+json": {
       "model_id": "2a6fd72f74cc4d7dbbf2533526ba641e",
       "version_major": 2,
       "version_minor": 0
      },
      "text/plain": [
       "Epoch: 24:   0%|          | 0/363 [00:00<?, ?it/s]"
      ]
     },
     "metadata": {},
     "output_type": "display_data"
    },
    {
     "name": "stdout",
     "output_type": "stream",
     "text": [
      "Epoch [24], val_loss: 1.554e+00, train_loss: 1.279e+00, lrate: 1.000e-05\n"
     ]
    },
    {
     "data": {
      "application/vnd.jupyter.widget-view+json": {
       "model_id": "bfb84fcb2aa542db855dbe27fae5eae9",
       "version_major": 2,
       "version_minor": 0
      },
      "text/plain": [
       "Epoch: 25:   0%|          | 0/363 [00:00<?, ?it/s]"
      ]
     },
     "metadata": {},
     "output_type": "display_data"
    },
    {
     "name": "stdout",
     "output_type": "stream",
     "text": [
      "Epoch [25], val_loss: 1.554e+00, train_loss: 1.278e+00, lrate: 1.000e-06\n"
     ]
    },
    {
     "data": {
      "application/vnd.jupyter.widget-view+json": {
       "model_id": "de4da6324ba04f1da26679a10904a794",
       "version_major": 2,
       "version_minor": 0
      },
      "text/plain": [
       "Epoch: 26:   0%|          | 0/363 [00:00<?, ?it/s]"
      ]
     },
     "metadata": {},
     "output_type": "display_data"
    },
    {
     "name": "stdout",
     "output_type": "stream",
     "text": [
      "Early stopping\n",
      "------------fold no---------1----------------------\n"
     ]
    },
    {
     "data": {
      "application/vnd.jupyter.widget-view+json": {
       "model_id": "896b7d4d12924b4fbedd4121194d140b",
       "version_major": 2,
       "version_minor": 0
      },
      "text/plain": [
       "Current Epoch:   0%|          | 0/30 [00:00<?, ?it/s]"
      ]
     },
     "metadata": {},
     "output_type": "display_data"
    },
    {
     "data": {
      "application/vnd.jupyter.widget-view+json": {
       "model_id": "7bad29bd719b4d3b9c02977a836c730a",
       "version_major": 2,
       "version_minor": 0
      },
      "text/plain": [
       "Epoch: 0:   0%|          | 0/363 [00:00<?, ?it/s]"
      ]
     },
     "metadata": {},
     "output_type": "display_data"
    },
    {
     "name": "stdout",
     "output_type": "stream",
     "text": [
      "Epoch [0], val_loss: 1.658e+00, train_loss: 1.736e+00, lrate: 1.000e-04\n"
     ]
    },
    {
     "data": {
      "application/vnd.jupyter.widget-view+json": {
       "model_id": "4cc925e3306b4322ab4cd11e11a453c5",
       "version_major": 2,
       "version_minor": 0
      },
      "text/plain": [
       "Epoch: 1:   0%|          | 0/363 [00:00<?, ?it/s]"
      ]
     },
     "metadata": {},
     "output_type": "display_data"
    },
    {
     "name": "stdout",
     "output_type": "stream",
     "text": [
      "Epoch [1], val_loss: 1.627e+00, train_loss: 1.611e+00, lrate: 1.000e-04\n"
     ]
    },
    {
     "data": {
      "application/vnd.jupyter.widget-view+json": {
       "model_id": "7546e337195849f7932491fd7a3ab7fc",
       "version_major": 2,
       "version_minor": 0
      },
      "text/plain": [
       "Epoch: 2:   0%|          | 0/363 [00:00<?, ?it/s]"
      ]
     },
     "metadata": {},
     "output_type": "display_data"
    },
    {
     "name": "stdout",
     "output_type": "stream",
     "text": [
      "Epoch [2], val_loss: 1.593e+00, train_loss: 1.559e+00, lrate: 1.000e-04\n"
     ]
    },
    {
     "data": {
      "application/vnd.jupyter.widget-view+json": {
       "model_id": "e6d38814f41c4a8aabeafb369ed616a7",
       "version_major": 2,
       "version_minor": 0
      },
      "text/plain": [
       "Epoch: 3:   0%|          | 0/363 [00:00<?, ?it/s]"
      ]
     },
     "metadata": {},
     "output_type": "display_data"
    },
    {
     "name": "stdout",
     "output_type": "stream",
     "text": [
      "Epoch [3], val_loss: 1.586e+00, train_loss: 1.520e+00, lrate: 1.000e-04\n"
     ]
    },
    {
     "data": {
      "application/vnd.jupyter.widget-view+json": {
       "model_id": "f77507de0da644358cfb4647395fd753",
       "version_major": 2,
       "version_minor": 0
      },
      "text/plain": [
       "Epoch: 4:   0%|          | 0/363 [00:00<?, ?it/s]"
      ]
     },
     "metadata": {},
     "output_type": "display_data"
    },
    {
     "name": "stdout",
     "output_type": "stream",
     "text": [
      "Epoch [4], val_loss: 1.586e+00, train_loss: 1.490e+00, lrate: 1.000e-04\n"
     ]
    },
    {
     "data": {
      "application/vnd.jupyter.widget-view+json": {
       "model_id": "133458a05a0b4b3f8cfbedf24955f31b",
       "version_major": 2,
       "version_minor": 0
      },
      "text/plain": [
       "Epoch: 5:   0%|          | 0/363 [00:00<?, ?it/s]"
      ]
     },
     "metadata": {},
     "output_type": "display_data"
    },
    {
     "name": "stdout",
     "output_type": "stream",
     "text": [
      "Epoch [5], val_loss: 1.574e+00, train_loss: 1.464e+00, lrate: 1.000e-04\n"
     ]
    },
    {
     "data": {
      "application/vnd.jupyter.widget-view+json": {
       "model_id": "e31119f135fb4bd7bb8179cde149971c",
       "version_major": 2,
       "version_minor": 0
      },
      "text/plain": [
       "Epoch: 6:   0%|          | 0/363 [00:00<?, ?it/s]"
      ]
     },
     "metadata": {},
     "output_type": "display_data"
    },
    {
     "name": "stdout",
     "output_type": "stream",
     "text": [
      "Epoch [6], val_loss: 1.578e+00, train_loss: 1.441e+00, lrate: 1.000e-04\n"
     ]
    },
    {
     "data": {
      "application/vnd.jupyter.widget-view+json": {
       "model_id": "565a6038f3bc439aa4fe185ad9b46a5b",
       "version_major": 2,
       "version_minor": 0
      },
      "text/plain": [
       "Epoch: 7:   0%|          | 0/363 [00:00<?, ?it/s]"
      ]
     },
     "metadata": {},
     "output_type": "display_data"
    },
    {
     "name": "stdout",
     "output_type": "stream",
     "text": [
      "Epoch [7], val_loss: 1.574e+00, train_loss: 1.420e+00, lrate: 1.000e-04\n"
     ]
    },
    {
     "data": {
      "application/vnd.jupyter.widget-view+json": {
       "model_id": "634a2176ee8d4436b98a954f96339755",
       "version_major": 2,
       "version_minor": 0
      },
      "text/plain": [
       "Epoch: 8:   0%|          | 0/363 [00:00<?, ?it/s]"
      ]
     },
     "metadata": {},
     "output_type": "display_data"
    },
    {
     "name": "stdout",
     "output_type": "stream",
     "text": [
      "Epoch [8], val_loss: 1.558e+00, train_loss: 1.401e+00, lrate: 1.000e-04\n"
     ]
    },
    {
     "data": {
      "application/vnd.jupyter.widget-view+json": {
       "model_id": "2dc2e892c8e847629b11602e401084ef",
       "version_major": 2,
       "version_minor": 0
      },
      "text/plain": [
       "Epoch: 9:   0%|          | 0/363 [00:00<?, ?it/s]"
      ]
     },
     "metadata": {},
     "output_type": "display_data"
    },
    {
     "name": "stdout",
     "output_type": "stream",
     "text": [
      "Epoch [9], val_loss: 1.564e+00, train_loss: 1.385e+00, lrate: 1.000e-04\n"
     ]
    },
    {
     "data": {
      "application/vnd.jupyter.widget-view+json": {
       "model_id": "076373c5f57342e58bfc783d8612530b",
       "version_major": 2,
       "version_minor": 0
      },
      "text/plain": [
       "Epoch: 10:   0%|          | 0/363 [00:00<?, ?it/s]"
      ]
     },
     "metadata": {},
     "output_type": "display_data"
    },
    {
     "name": "stdout",
     "output_type": "stream",
     "text": [
      "Epoch [10], val_loss: 1.559e+00, train_loss: 1.370e+00, lrate: 1.000e-04\n"
     ]
    },
    {
     "data": {
      "application/vnd.jupyter.widget-view+json": {
       "model_id": "b60f5dfeefc44067aad494d18aa9be63",
       "version_major": 2,
       "version_minor": 0
      },
      "text/plain": [
       "Epoch: 11:   0%|          | 0/363 [00:00<?, ?it/s]"
      ]
     },
     "metadata": {},
     "output_type": "display_data"
    },
    {
     "name": "stdout",
     "output_type": "stream",
     "text": [
      "Epoch [11], val_loss: 1.557e+00, train_loss: 1.359e+00, lrate: 1.000e-04\n"
     ]
    },
    {
     "data": {
      "application/vnd.jupyter.widget-view+json": {
       "model_id": "4a92faa12c1b4a7696346fae82f1d05d",
       "version_major": 2,
       "version_minor": 0
      },
      "text/plain": [
       "Epoch: 12:   0%|          | 0/363 [00:00<?, ?it/s]"
      ]
     },
     "metadata": {},
     "output_type": "display_data"
    },
    {
     "name": "stdout",
     "output_type": "stream",
     "text": [
      "Epoch [12], val_loss: 1.562e+00, train_loss: 1.347e+00, lrate: 1.000e-04\n"
     ]
    },
    {
     "data": {
      "application/vnd.jupyter.widget-view+json": {
       "model_id": "d2c6cbcfa3284de88dde7c579e6a41ed",
       "version_major": 2,
       "version_minor": 0
      },
      "text/plain": [
       "Epoch: 13:   0%|          | 0/363 [00:00<?, ?it/s]"
      ]
     },
     "metadata": {},
     "output_type": "display_data"
    },
    {
     "name": "stdout",
     "output_type": "stream",
     "text": [
      "Epoch [13], val_loss: 1.564e+00, train_loss: 1.335e+00, lrate: 1.000e-04\n"
     ]
    },
    {
     "data": {
      "application/vnd.jupyter.widget-view+json": {
       "model_id": "20d462c938b84990ac476f51718c70e5",
       "version_major": 2,
       "version_minor": 0
      },
      "text/plain": [
       "Epoch: 14:   0%|          | 0/363 [00:00<?, ?it/s]"
      ]
     },
     "metadata": {},
     "output_type": "display_data"
    },
    {
     "name": "stdout",
     "output_type": "stream",
     "text": [
      "Epoch [14], val_loss: 1.561e+00, train_loss: 1.327e+00, lrate: 1.000e-04\n"
     ]
    },
    {
     "data": {
      "application/vnd.jupyter.widget-view+json": {
       "model_id": "524f527e64bb4cbeb4cb33c8bdf1dd70",
       "version_major": 2,
       "version_minor": 0
      },
      "text/plain": [
       "Epoch: 15:   0%|          | 0/363 [00:00<?, ?it/s]"
      ]
     },
     "metadata": {},
     "output_type": "display_data"
    },
    {
     "name": "stdout",
     "output_type": "stream",
     "text": [
      "Epoch [15], val_loss: 1.561e+00, train_loss: 1.320e+00, lrate: 1.000e-05\n"
     ]
    },
    {
     "data": {
      "application/vnd.jupyter.widget-view+json": {
       "model_id": "302c912ca74845bebca1c06dba6008c9",
       "version_major": 2,
       "version_minor": 0
      },
      "text/plain": [
       "Epoch: 16:   0%|          | 0/363 [00:00<?, ?it/s]"
      ]
     },
     "metadata": {},
     "output_type": "display_data"
    },
    {
     "name": "stdout",
     "output_type": "stream",
     "text": [
      "Epoch [16], val_loss: 1.555e+00, train_loss: 1.307e+00, lrate: 1.000e-05\n"
     ]
    },
    {
     "data": {
      "application/vnd.jupyter.widget-view+json": {
       "model_id": "fe8d16b8acac4a88be21c0b5de41965b",
       "version_major": 2,
       "version_minor": 0
      },
      "text/plain": [
       "Epoch: 17:   0%|          | 0/363 [00:00<?, ?it/s]"
      ]
     },
     "metadata": {},
     "output_type": "display_data"
    },
    {
     "name": "stdout",
     "output_type": "stream",
     "text": [
      "Epoch [17], val_loss: 1.557e+00, train_loss: 1.303e+00, lrate: 1.000e-05\n"
     ]
    },
    {
     "data": {
      "application/vnd.jupyter.widget-view+json": {
       "model_id": "de5fa831d29742f4a4457dd2242ceba0",
       "version_major": 2,
       "version_minor": 0
      },
      "text/plain": [
       "Epoch: 18:   0%|          | 0/363 [00:00<?, ?it/s]"
      ]
     },
     "metadata": {},
     "output_type": "display_data"
    },
    {
     "name": "stdout",
     "output_type": "stream",
     "text": [
      "Epoch [18], val_loss: 1.556e+00, train_loss: 1.302e+00, lrate: 1.000e-05\n"
     ]
    },
    {
     "data": {
      "application/vnd.jupyter.widget-view+json": {
       "model_id": "83ad1a05936e4e818e4da5b83d95b8cc",
       "version_major": 2,
       "version_minor": 0
      },
      "text/plain": [
       "Epoch: 19:   0%|          | 0/363 [00:00<?, ?it/s]"
      ]
     },
     "metadata": {},
     "output_type": "display_data"
    },
    {
     "name": "stdout",
     "output_type": "stream",
     "text": [
      "Epoch [19], val_loss: 1.557e+00, train_loss: 1.299e+00, lrate: 1.000e-05\n"
     ]
    },
    {
     "data": {
      "application/vnd.jupyter.widget-view+json": {
       "model_id": "5f1831d65de7499ea3e32d1a42426880",
       "version_major": 2,
       "version_minor": 0
      },
      "text/plain": [
       "Epoch: 20:   0%|          | 0/363 [00:00<?, ?it/s]"
      ]
     },
     "metadata": {},
     "output_type": "display_data"
    },
    {
     "name": "stdout",
     "output_type": "stream",
     "text": [
      "Epoch [20], val_loss: 1.556e+00, train_loss: 1.298e+00, lrate: 1.000e-06\n"
     ]
    },
    {
     "data": {
      "application/vnd.jupyter.widget-view+json": {
       "model_id": "78d4b996d34743db9454247c7be80fca",
       "version_major": 2,
       "version_minor": 0
      },
      "text/plain": [
       "Epoch: 21:   0%|          | 0/363 [00:00<?, ?it/s]"
      ]
     },
     "metadata": {},
     "output_type": "display_data"
    },
    {
     "name": "stdout",
     "output_type": "stream",
     "text": [
      "Early stopping\n",
      "------------fold no---------2----------------------\n"
     ]
    },
    {
     "data": {
      "application/vnd.jupyter.widget-view+json": {
       "model_id": "1368b81343314e38aaa801e20aeb0a12",
       "version_major": 2,
       "version_minor": 0
      },
      "text/plain": [
       "Current Epoch:   0%|          | 0/30 [00:00<?, ?it/s]"
      ]
     },
     "metadata": {},
     "output_type": "display_data"
    },
    {
     "data": {
      "application/vnd.jupyter.widget-view+json": {
       "model_id": "69d76829fcc742f2ba160ef5947d8a9f",
       "version_major": 2,
       "version_minor": 0
      },
      "text/plain": [
       "Epoch: 0:   0%|          | 0/363 [00:00<?, ?it/s]"
      ]
     },
     "metadata": {},
     "output_type": "display_data"
    },
    {
     "name": "stdout",
     "output_type": "stream",
     "text": [
      "Epoch [0], val_loss: 1.669e+00, train_loss: 1.751e+00, lrate: 1.000e-04\n"
     ]
    },
    {
     "data": {
      "application/vnd.jupyter.widget-view+json": {
       "model_id": "1c2da39f8c4b4f21b7ea60cb2c5b4e29",
       "version_major": 2,
       "version_minor": 0
      },
      "text/plain": [
       "Epoch: 1:   0%|          | 0/363 [00:00<?, ?it/s]"
      ]
     },
     "metadata": {},
     "output_type": "display_data"
    },
    {
     "name": "stdout",
     "output_type": "stream",
     "text": [
      "Epoch [1], val_loss: 1.623e+00, train_loss: 1.624e+00, lrate: 1.000e-04\n"
     ]
    },
    {
     "data": {
      "application/vnd.jupyter.widget-view+json": {
       "model_id": "f578dbb06cc248d895406d4849af69e0",
       "version_major": 2,
       "version_minor": 0
      },
      "text/plain": [
       "Epoch: 2:   0%|          | 0/363 [00:00<?, ?it/s]"
      ]
     },
     "metadata": {},
     "output_type": "display_data"
    },
    {
     "name": "stdout",
     "output_type": "stream",
     "text": [
      "Epoch [2], val_loss: 1.599e+00, train_loss: 1.568e+00, lrate: 1.000e-04\n"
     ]
    },
    {
     "data": {
      "application/vnd.jupyter.widget-view+json": {
       "model_id": "b287f39f6d154c7dae3afc517fcd45b4",
       "version_major": 2,
       "version_minor": 0
      },
      "text/plain": [
       "Epoch: 3:   0%|          | 0/363 [00:00<?, ?it/s]"
      ]
     },
     "metadata": {},
     "output_type": "display_data"
    },
    {
     "name": "stdout",
     "output_type": "stream",
     "text": [
      "Epoch [3], val_loss: 1.594e+00, train_loss: 1.531e+00, lrate: 1.000e-04\n"
     ]
    },
    {
     "data": {
      "application/vnd.jupyter.widget-view+json": {
       "model_id": "8d57163b9f8b4ae3bf37a0d54f82015c",
       "version_major": 2,
       "version_minor": 0
      },
      "text/plain": [
       "Epoch: 4:   0%|          | 0/363 [00:00<?, ?it/s]"
      ]
     },
     "metadata": {},
     "output_type": "display_data"
    },
    {
     "name": "stdout",
     "output_type": "stream",
     "text": [
      "Epoch [4], val_loss: 1.584e+00, train_loss: 1.500e+00, lrate: 1.000e-04\n"
     ]
    },
    {
     "data": {
      "application/vnd.jupyter.widget-view+json": {
       "model_id": "bf13a5f34f734652bbe12c0169456612",
       "version_major": 2,
       "version_minor": 0
      },
      "text/plain": [
       "Epoch: 5:   0%|          | 0/363 [00:00<?, ?it/s]"
      ]
     },
     "metadata": {},
     "output_type": "display_data"
    },
    {
     "name": "stdout",
     "output_type": "stream",
     "text": [
      "Epoch [5], val_loss: 1.569e+00, train_loss: 1.470e+00, lrate: 1.000e-04\n"
     ]
    },
    {
     "data": {
      "application/vnd.jupyter.widget-view+json": {
       "model_id": "743b9783015c48149b5e1c175ed031d1",
       "version_major": 2,
       "version_minor": 0
      },
      "text/plain": [
       "Epoch: 6:   0%|          | 0/363 [00:00<?, ?it/s]"
      ]
     },
     "metadata": {},
     "output_type": "display_data"
    },
    {
     "name": "stdout",
     "output_type": "stream",
     "text": [
      "Epoch [6], val_loss: 1.570e+00, train_loss: 1.444e+00, lrate: 1.000e-04\n"
     ]
    },
    {
     "data": {
      "application/vnd.jupyter.widget-view+json": {
       "model_id": "be194d433bc546629791a8ac6cf0dd7e",
       "version_major": 2,
       "version_minor": 0
      },
      "text/plain": [
       "Epoch: 7:   0%|          | 0/363 [00:00<?, ?it/s]"
      ]
     },
     "metadata": {},
     "output_type": "display_data"
    },
    {
     "name": "stdout",
     "output_type": "stream",
     "text": [
      "Epoch [7], val_loss: 1.566e+00, train_loss: 1.421e+00, lrate: 1.000e-04\n"
     ]
    },
    {
     "data": {
      "application/vnd.jupyter.widget-view+json": {
       "model_id": "b95c6e75ccfa48ce91844a3012580f16",
       "version_major": 2,
       "version_minor": 0
      },
      "text/plain": [
       "Epoch: 8:   0%|          | 0/363 [00:00<?, ?it/s]"
      ]
     },
     "metadata": {},
     "output_type": "display_data"
    },
    {
     "name": "stdout",
     "output_type": "stream",
     "text": [
      "Epoch [8], val_loss: 1.565e+00, train_loss: 1.400e+00, lrate: 1.000e-04\n"
     ]
    },
    {
     "data": {
      "application/vnd.jupyter.widget-view+json": {
       "model_id": "a5310fc9c827486b8645e6c5f34c0a22",
       "version_major": 2,
       "version_minor": 0
      },
      "text/plain": [
       "Epoch: 9:   0%|          | 0/363 [00:00<?, ?it/s]"
      ]
     },
     "metadata": {},
     "output_type": "display_data"
    },
    {
     "name": "stdout",
     "output_type": "stream",
     "text": [
      "Epoch [9], val_loss: 1.562e+00, train_loss: 1.383e+00, lrate: 1.000e-04\n"
     ]
    },
    {
     "data": {
      "application/vnd.jupyter.widget-view+json": {
       "model_id": "8109c6ffd98648ae8e66b386b73b936f",
       "version_major": 2,
       "version_minor": 0
      },
      "text/plain": [
       "Epoch: 10:   0%|          | 0/363 [00:00<?, ?it/s]"
      ]
     },
     "metadata": {},
     "output_type": "display_data"
    },
    {
     "name": "stdout",
     "output_type": "stream",
     "text": [
      "Epoch [10], val_loss: 1.568e+00, train_loss: 1.368e+00, lrate: 1.000e-04\n"
     ]
    },
    {
     "data": {
      "application/vnd.jupyter.widget-view+json": {
       "model_id": "b4e388a83dc045858facbc80a0156876",
       "version_major": 2,
       "version_minor": 0
      },
      "text/plain": [
       "Epoch: 11:   0%|          | 0/363 [00:00<?, ?it/s]"
      ]
     },
     "metadata": {},
     "output_type": "display_data"
    },
    {
     "name": "stdout",
     "output_type": "stream",
     "text": [
      "Epoch [11], val_loss: 1.568e+00, train_loss: 1.355e+00, lrate: 1.000e-04\n"
     ]
    },
    {
     "data": {
      "application/vnd.jupyter.widget-view+json": {
       "model_id": "98116bff9df84e3c9075da6fbe07563e",
       "version_major": 2,
       "version_minor": 0
      },
      "text/plain": [
       "Epoch: 12:   0%|          | 0/363 [00:00<?, ?it/s]"
      ]
     },
     "metadata": {},
     "output_type": "display_data"
    },
    {
     "name": "stdout",
     "output_type": "stream",
     "text": [
      "Epoch [12], val_loss: 1.562e+00, train_loss: 1.343e+00, lrate: 1.000e-04\n"
     ]
    },
    {
     "data": {
      "application/vnd.jupyter.widget-view+json": {
       "model_id": "09ae715a12714729b0a4de1d7afbf29c",
       "version_major": 2,
       "version_minor": 0
      },
      "text/plain": [
       "Epoch: 13:   0%|          | 0/363 [00:00<?, ?it/s]"
      ]
     },
     "metadata": {},
     "output_type": "display_data"
    },
    {
     "name": "stdout",
     "output_type": "stream",
     "text": [
      "Epoch [13], val_loss: 1.563e+00, train_loss: 1.333e+00, lrate: 1.000e-05\n"
     ]
    },
    {
     "data": {
      "application/vnd.jupyter.widget-view+json": {
       "model_id": "881a5e00784e4049a111a6a22d5734ca",
       "version_major": 2,
       "version_minor": 0
      },
      "text/plain": [
       "Epoch: 14:   0%|          | 0/363 [00:00<?, ?it/s]"
      ]
     },
     "metadata": {},
     "output_type": "display_data"
    },
    {
     "name": "stdout",
     "output_type": "stream",
     "text": [
      "Epoch [14], val_loss: 1.556e+00, train_loss: 1.316e+00, lrate: 1.000e-05\n"
     ]
    },
    {
     "data": {
      "application/vnd.jupyter.widget-view+json": {
       "model_id": "cedc1377195a49d7b96b35249d46402a",
       "version_major": 2,
       "version_minor": 0
      },
      "text/plain": [
       "Epoch: 15:   0%|          | 0/363 [00:00<?, ?it/s]"
      ]
     },
     "metadata": {},
     "output_type": "display_data"
    },
    {
     "name": "stdout",
     "output_type": "stream",
     "text": [
      "Epoch [15], val_loss: 1.559e+00, train_loss: 1.311e+00, lrate: 1.000e-05\n"
     ]
    },
    {
     "data": {
      "application/vnd.jupyter.widget-view+json": {
       "model_id": "cf655acd8edd478d81fba3c32aff1470",
       "version_major": 2,
       "version_minor": 0
      },
      "text/plain": [
       "Epoch: 16:   0%|          | 0/363 [00:00<?, ?it/s]"
      ]
     },
     "metadata": {},
     "output_type": "display_data"
    },
    {
     "name": "stdout",
     "output_type": "stream",
     "text": [
      "Epoch [16], val_loss: 1.557e+00, train_loss: 1.309e+00, lrate: 1.000e-05\n"
     ]
    },
    {
     "data": {
      "application/vnd.jupyter.widget-view+json": {
       "model_id": "34df693dc00d4334b4b845b921b71415",
       "version_major": 2,
       "version_minor": 0
      },
      "text/plain": [
       "Epoch: 17:   0%|          | 0/363 [00:00<?, ?it/s]"
      ]
     },
     "metadata": {},
     "output_type": "display_data"
    },
    {
     "name": "stdout",
     "output_type": "stream",
     "text": [
      "Epoch [17], val_loss: 1.558e+00, train_loss: 1.308e+00, lrate: 1.000e-05\n"
     ]
    },
    {
     "data": {
      "application/vnd.jupyter.widget-view+json": {
       "model_id": "cfb0c46c239541a0b6788e3107780850",
       "version_major": 2,
       "version_minor": 0
      },
      "text/plain": [
       "Epoch: 18:   0%|          | 0/363 [00:00<?, ?it/s]"
      ]
     },
     "metadata": {},
     "output_type": "display_data"
    },
    {
     "name": "stdout",
     "output_type": "stream",
     "text": [
      "Epoch [18], val_loss: 1.559e+00, train_loss: 1.306e+00, lrate: 1.000e-06\n"
     ]
    },
    {
     "data": {
      "application/vnd.jupyter.widget-view+json": {
       "model_id": "fd3b62301dd04a2499cf472612075950",
       "version_major": 2,
       "version_minor": 0
      },
      "text/plain": [
       "Epoch: 19:   0%|          | 0/363 [00:00<?, ?it/s]"
      ]
     },
     "metadata": {},
     "output_type": "display_data"
    },
    {
     "name": "stdout",
     "output_type": "stream",
     "text": [
      "Early stopping\n",
      "------------fold no---------3----------------------\n"
     ]
    },
    {
     "data": {
      "application/vnd.jupyter.widget-view+json": {
       "model_id": "8d36c6bb37a54ced8bc97b1e1bcc158f",
       "version_major": 2,
       "version_minor": 0
      },
      "text/plain": [
       "Current Epoch:   0%|          | 0/30 [00:00<?, ?it/s]"
      ]
     },
     "metadata": {},
     "output_type": "display_data"
    },
    {
     "data": {
      "application/vnd.jupyter.widget-view+json": {
       "model_id": "0dd41ec69f2f4799afccc6a8fc05534c",
       "version_major": 2,
       "version_minor": 0
      },
      "text/plain": [
       "Epoch: 0:   0%|          | 0/363 [00:00<?, ?it/s]"
      ]
     },
     "metadata": {},
     "output_type": "display_data"
    },
    {
     "name": "stdout",
     "output_type": "stream",
     "text": [
      "Epoch [0], val_loss: 1.664e+00, train_loss: 1.748e+00, lrate: 1.000e-04\n"
     ]
    },
    {
     "data": {
      "application/vnd.jupyter.widget-view+json": {
       "model_id": "944c4a817ebd4ff18362c37804a4e346",
       "version_major": 2,
       "version_minor": 0
      },
      "text/plain": [
       "Epoch: 1:   0%|          | 0/363 [00:00<?, ?it/s]"
      ]
     },
     "metadata": {},
     "output_type": "display_data"
    },
    {
     "name": "stdout",
     "output_type": "stream",
     "text": [
      "Epoch [1], val_loss: 1.629e+00, train_loss: 1.614e+00, lrate: 1.000e-04\n"
     ]
    },
    {
     "data": {
      "application/vnd.jupyter.widget-view+json": {
       "model_id": "d7853e9d512c4a10a6b6d69b5c4ca601",
       "version_major": 2,
       "version_minor": 0
      },
      "text/plain": [
       "Epoch: 2:   0%|          | 0/363 [00:00<?, ?it/s]"
      ]
     },
     "metadata": {},
     "output_type": "display_data"
    },
    {
     "name": "stdout",
     "output_type": "stream",
     "text": [
      "Epoch [2], val_loss: 1.592e+00, train_loss: 1.561e+00, lrate: 1.000e-04\n"
     ]
    },
    {
     "data": {
      "application/vnd.jupyter.widget-view+json": {
       "model_id": "33a713f2f3d2495ba98d0d4b2c52cc3b",
       "version_major": 2,
       "version_minor": 0
      },
      "text/plain": [
       "Epoch: 3:   0%|          | 0/363 [00:00<?, ?it/s]"
      ]
     },
     "metadata": {},
     "output_type": "display_data"
    },
    {
     "name": "stdout",
     "output_type": "stream",
     "text": [
      "Epoch [3], val_loss: 1.590e+00, train_loss: 1.521e+00, lrate: 1.000e-04\n"
     ]
    },
    {
     "data": {
      "application/vnd.jupyter.widget-view+json": {
       "model_id": "e6d186bc10eb484580e4e558342536f9",
       "version_major": 2,
       "version_minor": 0
      },
      "text/plain": [
       "Epoch: 4:   0%|          | 0/363 [00:00<?, ?it/s]"
      ]
     },
     "metadata": {},
     "output_type": "display_data"
    },
    {
     "name": "stdout",
     "output_type": "stream",
     "text": [
      "Epoch [4], val_loss: 1.584e+00, train_loss: 1.491e+00, lrate: 1.000e-04\n"
     ]
    },
    {
     "data": {
      "application/vnd.jupyter.widget-view+json": {
       "model_id": "fde57b2e15af4ef1a0b805ec696ea58b",
       "version_major": 2,
       "version_minor": 0
      },
      "text/plain": [
       "Epoch: 5:   0%|          | 0/363 [00:00<?, ?it/s]"
      ]
     },
     "metadata": {},
     "output_type": "display_data"
    },
    {
     "name": "stdout",
     "output_type": "stream",
     "text": [
      "Epoch [5], val_loss: 1.611e+00, train_loss: 1.465e+00, lrate: 1.000e-04\n"
     ]
    },
    {
     "data": {
      "application/vnd.jupyter.widget-view+json": {
       "model_id": "d11917840bf44a3c8a7abe45db98b985",
       "version_major": 2,
       "version_minor": 0
      },
      "text/plain": [
       "Epoch: 6:   0%|          | 0/363 [00:00<?, ?it/s]"
      ]
     },
     "metadata": {},
     "output_type": "display_data"
    },
    {
     "name": "stdout",
     "output_type": "stream",
     "text": [
      "Epoch [6], val_loss: 1.576e+00, train_loss: 1.443e+00, lrate: 1.000e-04\n"
     ]
    },
    {
     "data": {
      "application/vnd.jupyter.widget-view+json": {
       "model_id": "96c05a42355f48aa9fc6097330cfe46d",
       "version_major": 2,
       "version_minor": 0
      },
      "text/plain": [
       "Epoch: 7:   0%|          | 0/363 [00:00<?, ?it/s]"
      ]
     },
     "metadata": {},
     "output_type": "display_data"
    },
    {
     "name": "stdout",
     "output_type": "stream",
     "text": [
      "Epoch [7], val_loss: 1.565e+00, train_loss: 1.418e+00, lrate: 1.000e-04\n"
     ]
    },
    {
     "data": {
      "application/vnd.jupyter.widget-view+json": {
       "model_id": "2864af3cbcfc46c4ada806ce98498757",
       "version_major": 2,
       "version_minor": 0
      },
      "text/plain": [
       "Epoch: 8:   0%|          | 0/363 [00:00<?, ?it/s]"
      ]
     },
     "metadata": {},
     "output_type": "display_data"
    },
    {
     "name": "stdout",
     "output_type": "stream",
     "text": [
      "Epoch [8], val_loss: 1.555e+00, train_loss: 1.400e+00, lrate: 1.000e-04\n"
     ]
    },
    {
     "data": {
      "application/vnd.jupyter.widget-view+json": {
       "model_id": "341f3d30eea047cd8d6c1ab72c47f8e6",
       "version_major": 2,
       "version_minor": 0
      },
      "text/plain": [
       "Epoch: 9:   0%|          | 0/363 [00:00<?, ?it/s]"
      ]
     },
     "metadata": {},
     "output_type": "display_data"
    },
    {
     "name": "stdout",
     "output_type": "stream",
     "text": [
      "Epoch [9], val_loss: 1.562e+00, train_loss: 1.384e+00, lrate: 1.000e-04\n"
     ]
    },
    {
     "data": {
      "application/vnd.jupyter.widget-view+json": {
       "model_id": "e262579795944972946b196448e377c3",
       "version_major": 2,
       "version_minor": 0
      },
      "text/plain": [
       "Epoch: 10:   0%|          | 0/363 [00:00<?, ?it/s]"
      ]
     },
     "metadata": {},
     "output_type": "display_data"
    },
    {
     "name": "stdout",
     "output_type": "stream",
     "text": [
      "Epoch [10], val_loss: 1.559e+00, train_loss: 1.368e+00, lrate: 1.000e-04\n"
     ]
    },
    {
     "data": {
      "application/vnd.jupyter.widget-view+json": {
       "model_id": "a2071308eb1c449aaffbd74c816b1b74",
       "version_major": 2,
       "version_minor": 0
      },
      "text/plain": [
       "Epoch: 11:   0%|          | 0/363 [00:00<?, ?it/s]"
      ]
     },
     "metadata": {},
     "output_type": "display_data"
    },
    {
     "name": "stdout",
     "output_type": "stream",
     "text": [
      "Epoch [11], val_loss: 1.561e+00, train_loss: 1.356e+00, lrate: 1.000e-04\n"
     ]
    },
    {
     "data": {
      "application/vnd.jupyter.widget-view+json": {
       "model_id": "871a021e249d4514bdf065cf7c9e2be8",
       "version_major": 2,
       "version_minor": 0
      },
      "text/plain": [
       "Epoch: 12:   0%|          | 0/363 [00:00<?, ?it/s]"
      ]
     },
     "metadata": {},
     "output_type": "display_data"
    },
    {
     "name": "stdout",
     "output_type": "stream",
     "text": [
      "Epoch [12], val_loss: 1.555e+00, train_loss: 1.345e+00, lrate: 1.000e-05\n"
     ]
    },
    {
     "data": {
      "application/vnd.jupyter.widget-view+json": {
       "model_id": "a6c04c5aaab94d19a72cff78c9c7801d",
       "version_major": 2,
       "version_minor": 0
      },
      "text/plain": [
       "Epoch: 13:   0%|          | 0/363 [00:00<?, ?it/s]"
      ]
     },
     "metadata": {},
     "output_type": "display_data"
    },
    {
     "name": "stdout",
     "output_type": "stream",
     "text": [
      "Epoch [13], val_loss: 1.548e+00, train_loss: 1.327e+00, lrate: 1.000e-05\n"
     ]
    },
    {
     "data": {
      "application/vnd.jupyter.widget-view+json": {
       "model_id": "5fc2aaf994f646cfb38d99f4d8e63360",
       "version_major": 2,
       "version_minor": 0
      },
      "text/plain": [
       "Epoch: 14:   0%|          | 0/363 [00:00<?, ?it/s]"
      ]
     },
     "metadata": {},
     "output_type": "display_data"
    },
    {
     "name": "stdout",
     "output_type": "stream",
     "text": [
      "Epoch [14], val_loss: 1.548e+00, train_loss: 1.322e+00, lrate: 1.000e-05\n"
     ]
    },
    {
     "data": {
      "application/vnd.jupyter.widget-view+json": {
       "model_id": "f02869736c38482dbf5b1fae30f2b40a",
       "version_major": 2,
       "version_minor": 0
      },
      "text/plain": [
       "Epoch: 15:   0%|          | 0/363 [00:00<?, ?it/s]"
      ]
     },
     "metadata": {},
     "output_type": "display_data"
    },
    {
     "name": "stdout",
     "output_type": "stream",
     "text": [
      "Epoch [15], val_loss: 1.548e+00, train_loss: 1.320e+00, lrate: 1.000e-05\n"
     ]
    },
    {
     "data": {
      "application/vnd.jupyter.widget-view+json": {
       "model_id": "c983a7d7e5784bbcb2635c4baceda2db",
       "version_major": 2,
       "version_minor": 0
      },
      "text/plain": [
       "Epoch: 16:   0%|          | 0/363 [00:00<?, ?it/s]"
      ]
     },
     "metadata": {},
     "output_type": "display_data"
    },
    {
     "name": "stdout",
     "output_type": "stream",
     "text": [
      "Epoch [16], val_loss: 1.548e+00, train_loss: 1.318e+00, lrate: 1.000e-05\n"
     ]
    },
    {
     "data": {
      "application/vnd.jupyter.widget-view+json": {
       "model_id": "85c43bf6f07c4f08970dd4b9945cc59c",
       "version_major": 2,
       "version_minor": 0
      },
      "text/plain": [
       "Epoch: 17:   0%|          | 0/363 [00:00<?, ?it/s]"
      ]
     },
     "metadata": {},
     "output_type": "display_data"
    },
    {
     "name": "stdout",
     "output_type": "stream",
     "text": [
      "Epoch [17], val_loss: 1.548e+00, train_loss: 1.316e+00, lrate: 1.000e-06\n"
     ]
    },
    {
     "data": {
      "application/vnd.jupyter.widget-view+json": {
       "model_id": "40e75acbe0cc414b8fd456afafa231dd",
       "version_major": 2,
       "version_minor": 0
      },
      "text/plain": [
       "Epoch: 18:   0%|          | 0/363 [00:00<?, ?it/s]"
      ]
     },
     "metadata": {},
     "output_type": "display_data"
    },
    {
     "name": "stdout",
     "output_type": "stream",
     "text": [
      "Early stopping\n",
      "----------------------------------------------------------------\n",
      "        Layer (type)               Output Shape         Param #\n",
      "================================================================\n",
      "            Conv2d-1           [-1, 32, 46, 46]             320\n",
      "         MaxPool2d-2           [-1, 32, 23, 23]               0\n",
      "       BatchNorm2d-3           [-1, 32, 23, 23]              64\n",
      "            Conv2d-4           [-1, 64, 21, 21]          18,496\n",
      "         MaxPool2d-5           [-1, 64, 11, 11]               0\n",
      "       BatchNorm2d-6           [-1, 64, 11, 11]             128\n",
      "            Conv2d-7            [-1, 128, 9, 9]          73,856\n",
      "         MaxPool2d-8            [-1, 128, 5, 5]               0\n",
      "       BatchNorm2d-9            [-1, 128, 5, 5]             256\n",
      "           Linear-10                  [-1, 256]         819,456\n",
      "           Linear-11                    [-1, 7]           1,799\n",
      "================================================================\n",
      "Total params: 914,375\n",
      "Trainable params: 914,375\n",
      "Non-trainable params: 0\n",
      "----------------------------------------------------------------\n",
      "Input size (MB): 0.01\n",
      "Forward/backward pass size (MB): 1.24\n",
      "Params size (MB): 3.49\n",
      "Estimated Total Size (MB): 4.74\n",
      "----------------------------------------------------------------\n"
     ]
    }
   ],
   "source": [
    "splits = 4\n",
    "skf = StratifiedKFold(n_splits=splits, random_state=seed, shuffle=True)\n",
    "histories = []\n",
    "\n",
    "for fold,(train_idx,val_idx) in enumerate(skf.split(df_train,train_dl.dl.dataset.targets)):\n",
    "    print('------------fold no---------{}----------------------'.format(fold))\n",
    "    \n",
    "    net = Net(loss_function, metrics, len(classes))\n",
    "    net.to(device)\n",
    "    \n",
    "    train_subsampler = torch.utils.data.SubsetRandomSampler(train_idx)\n",
    "    val_subsampler = torch.utils.data.SubsetRandomSampler(val_idx)\n",
    "\n",
    "    train_fold_dl = DeviceDataLoader(DataLoader(df_train, batch_size=batch_size,  sampler=train_subsampler),device)\n",
    "    val_fold_dl = DeviceDataLoader(DataLoader(df_train, batch_size=batch_size,  sampler=val_subsampler),device)\n",
    "    #print(np.unique(np.array(train_fold_dl.dl.dataset.targets)[train_subsampler.indices],return_counts=True))\n",
    "    #print(np.unique(np.array(train_fold_dl.dl.dataset.targets)[test_subsampler.indices],return_counts=True))\n",
    "    #print(train_dl[train_subsampler.indices])\n",
    "    history = dict()\n",
    "    history[\"losses\"] = fit(num_epochs, patience, lr, net, train_fold_dl, val_fold_dl, optimizer, scheduler, fold)\n",
    "    history[\"model\"] = net\n",
    "    histories.append(history)\n",
    "\n",
    "summary(net,(1,48,48))"
   ]
  },
  {
   "cell_type": "markdown",
   "id": "bb2ca953",
   "metadata": {},
   "source": [
    "## Save/Load model"
   ]
  },
  {
   "cell_type": "code",
   "execution_count": 99,
   "id": "5f28e342",
   "metadata": {},
   "outputs": [],
   "source": [
    "if save_model:\n",
    "    for fold,h in enumerate(histories):\n",
    "        model_path = os.path.join(models_directory_data,f\"classifier_fold_{fold}.pt\")\n",
    "        torch.save(h[\"model\"].state_dict(), model_path)"
   ]
  },
  {
   "cell_type": "code",
   "execution_count": 100,
   "id": "e9cc002d",
   "metadata": {},
   "outputs": [],
   "source": [
    "if load_model:\n",
    "    histories = []\n",
    "\n",
    "    for fold, model in enumerate(os.listdir(models_directory_data)):\n",
    "        net = Net(loss_function, metrics, len(classes))\n",
    "        net.load_state_dict(torch.load(os.path.join(models_directory_data,model)))\n",
    "        net.eval()\n",
    "        net.cuda()\n",
    "        histories.append( {\"model\": net } )"
   ]
  },
  {
   "cell_type": "markdown",
   "id": "236fc3f4",
   "metadata": {},
   "source": [
    "## Model testing"
   ]
  },
  {
   "cell_type": "code",
   "execution_count": 101,
   "id": "1403cef9-c12a-4e66-9565-7f8b7eaf2f38",
   "metadata": {},
   "outputs": [],
   "source": [
    "def get_model_predicitons(model, dataset):\n",
    "    y_test = []\n",
    "    y_scores = []\n",
    "\n",
    "    # since we're not training, we don't need to calculate the gradients for our outputs\n",
    "    with torch.no_grad():\n",
    "        for data in tqdm(dataset):\n",
    "            images, labels = data[0].to(device), data[1].to(device)\n",
    "            # calculate outputs by running images through the network\n",
    "            outputs = model(images)\n",
    "\n",
    "            # the class with the highest energy is what we choose as prediction\n",
    "            _, predicted = torch.max(outputs.data, 1)\n",
    "\n",
    "            y_test.extend(labels.tolist())\n",
    "            y_scores.extend(outputs.tolist())\n",
    "\n",
    "    y_test = np.array(y_test)\n",
    "    y_scores = np.array(y_scores)\n",
    "\n",
    "    return y_test, y_scores\n"
   ]
  },
  {
   "cell_type": "markdown",
   "id": "fdc366c3",
   "metadata": {},
   "source": [
    "### Network Accuracy"
   ]
  },
  {
   "cell_type": "code",
   "execution_count": 102,
   "id": "158b7789-29fe-43c3-9821-11cb5215fb60",
   "metadata": {},
   "outputs": [],
   "source": [
    "def evaluate_accuracy(y_test, y_scores, classes, verbose=False):\n",
    "    # Overall accuracy\n",
    "\n",
    "    n_test = y_test.shape[0]\n",
    "    predicted = np.argmax(y_scores,axis=1)\n",
    "    mean_acc = np.sum(predicted == y_test) / n_test\n",
    "    class_acc = []\n",
    "    \n",
    "    # Accuracy per class\n",
    "\n",
    "    correct_pred = {classname: 0 for classname in classes}\n",
    "    total_pred = {classname: 0 for classname in classes}\n",
    "\n",
    "    # collect the correct predictions for each class\n",
    "    for label, prediction in zip(y_test, predicted):\n",
    "        if label == prediction:\n",
    "            correct_pred[classes[label]] += 1\n",
    "        total_pred[classes[label]] += 1\n",
    "\n",
    "    for classname, correct_count in correct_pred.items():\n",
    "        accuracy = float(correct_count) / total_pred[classname]\n",
    "        class_acc.append(accuracy)\n",
    "\n",
    "    if verbose:\n",
    "        print(f'Overall accuracy: {100 * mean_acc } %')\n",
    "\n",
    "        print(\"Accuracy per class:\")\n",
    "        for i,c in enumerate(classes):\n",
    "            print(f'{c:9s} : {class_acc[i] * 100:.1f} %')\n",
    "        \n",
    "    return mean_acc, class_acc"
   ]
  },
  {
   "cell_type": "markdown",
   "id": "7478b8a1",
   "metadata": {},
   "source": [
    "# ROC/AUC"
   ]
  },
  {
   "cell_type": "code",
   "execution_count": 103,
   "id": "a8017ba3",
   "metadata": {},
   "outputs": [],
   "source": [
    "\n",
    "def evaluate_roc_auc(y_test, y_scores, classes, plot=False, verbose=False):\n",
    "    # Compute ROC curve and ROC area for each class\n",
    "    fpr = dict()\n",
    "    tpr = dict()\n",
    "    ths = dict()\n",
    "    roc_auc = dict()\n",
    "    for i,_ in enumerate(classes):\n",
    "        fpr[i], tpr[i], ths[i] = roc_curve(y_test == i, y_scores[:,i])\n",
    "        roc_auc[i] = auc(fpr[i], tpr[i])\n",
    "\n",
    "    if plot:\n",
    "        # Plot of a ROC curve for a specific class\n",
    "        for i,c in enumerate(classes):\n",
    "            plt.figure()\n",
    "            plt.plot(fpr[i], tpr[i], label='ROC curve (area = %0.2f)' % roc_auc[i])\n",
    "            plt.plot([0, 1], [0, 1], 'k--')\n",
    "            plt.xlim([0.0, 1.0])\n",
    "            plt.ylim([0.0, 1.05])\n",
    "            plt.xlabel('False Positive Rate')\n",
    "            plt.ylabel('True Positive Rate')\n",
    "            plt.title(f'ROC {c}')\n",
    "            plt.legend(loc=\"lower right\")\n",
    "            plt.show()\n",
    "\n",
    "    mean_auc = np.mean(list(roc_auc.values()))\n",
    "\n",
    "    if verbose:\n",
    "        print(f\"Mean AUC: { mean_auc * 100} %\")\n",
    "\n",
    "        print(\"Per classs AUC:\")\n",
    "        for i,c in enumerate(classes):\n",
    "            print(f'{c:9s} : {roc_auc[i]*100:.2f} %')\n",
    "\n",
    "    return mean_auc, roc_auc"
   ]
  },
  {
   "cell_type": "code",
   "execution_count": 104,
   "id": "686e4867",
   "metadata": {},
   "outputs": [
    {
     "data": {
      "application/vnd.jupyter.widget-view+json": {
       "model_id": "3909115369e84ab291c0b98a56736d9d",
       "version_major": 2,
       "version_minor": 0
      },
      "text/plain": [
       "  0%|          | 0/11 [00:00<?, ?it/s]"
      ]
     },
     "metadata": {},
     "output_type": "display_data"
    },
    {
     "data": {
      "application/vnd.jupyter.widget-view+json": {
       "model_id": "73d4fe5904e14b3e96039133c97c3ba7",
       "version_major": 2,
       "version_minor": 0
      },
      "text/plain": [
       "  0%|          | 0/11 [00:00<?, ?it/s]"
      ]
     },
     "metadata": {},
     "output_type": "display_data"
    },
    {
     "data": {
      "application/vnd.jupyter.widget-view+json": {
       "model_id": "ba68e12b154e4cd1a491145f60451d86",
       "version_major": 2,
       "version_minor": 0
      },
      "text/plain": [
       "  0%|          | 0/11 [00:00<?, ?it/s]"
      ]
     },
     "metadata": {},
     "output_type": "display_data"
    },
    {
     "data": {
      "application/vnd.jupyter.widget-view+json": {
       "model_id": "b011ea6822f44fcf96466461744b1a10",
       "version_major": 2,
       "version_minor": 0
      },
      "text/plain": [
       "  0%|          | 0/11 [00:00<?, ?it/s]"
      ]
     },
     "metadata": {},
     "output_type": "display_data"
    }
   ],
   "source": [
    "y_test = dict()\n",
    "y_scores = dict()\n",
    "\n",
    "for fold,h in enumerate(histories):\n",
    "    y_test[fold], y_scores[fold] = get_model_predicitons(h[\"model\"],test_dl)"
   ]
  },
  {
   "cell_type": "code",
   "execution_count": 105,
   "id": "aa2f66f9",
   "metadata": {},
   "outputs": [
    {
     "data": {
      "text/html": [
       "<div>\n",
       "<style scoped>\n",
       "    .dataframe tbody tr th:only-of-type {\n",
       "        vertical-align: middle;\n",
       "    }\n",
       "\n",
       "    .dataframe tbody tr th {\n",
       "        vertical-align: top;\n",
       "    }\n",
       "\n",
       "    .dataframe thead th {\n",
       "        text-align: right;\n",
       "    }\n",
       "</style>\n",
       "<table border=\"1\" class=\"dataframe\">\n",
       "  <thead>\n",
       "    <tr style=\"text-align: right;\">\n",
       "      <th></th>\n",
       "      <th>mean AUC</th>\n",
       "      <th>angry AUC</th>\n",
       "      <th>disgust AUC</th>\n",
       "      <th>fear AUC</th>\n",
       "      <th>happy AUC</th>\n",
       "      <th>neautral AUC</th>\n",
       "      <th>sad AUC</th>\n",
       "      <th>surprise AUC</th>\n",
       "      <th>mean ACC</th>\n",
       "      <th>angry ACC</th>\n",
       "      <th>disgust ACC</th>\n",
       "      <th>fear ACC</th>\n",
       "      <th>happy ACC</th>\n",
       "      <th>neautral ACC</th>\n",
       "      <th>sad ACC</th>\n",
       "      <th>surprise ACC</th>\n",
       "    </tr>\n",
       "  </thead>\n",
       "  <tbody>\n",
       "    <tr>\n",
       "      <th>Fer2013_merge_selected_85_uniform_aug_disgust fold 0</th>\n",
       "      <td>0.856976</td>\n",
       "      <td>0.837883</td>\n",
       "      <td>0.905050</td>\n",
       "      <td>0.765633</td>\n",
       "      <td>0.921858</td>\n",
       "      <td>0.853750</td>\n",
       "      <td>0.807850</td>\n",
       "      <td>0.906808</td>\n",
       "      <td>0.581429</td>\n",
       "      <td>0.5600</td>\n",
       "      <td>0.50</td>\n",
       "      <td>0.480</td>\n",
       "      <td>0.7200</td>\n",
       "      <td>0.60</td>\n",
       "      <td>0.4400</td>\n",
       "      <td>0.7700</td>\n",
       "    </tr>\n",
       "    <tr>\n",
       "      <th>Fer2013_merge_selected_85_uniform_aug_disgust fold 1</th>\n",
       "      <td>0.847436</td>\n",
       "      <td>0.815967</td>\n",
       "      <td>0.901117</td>\n",
       "      <td>0.746667</td>\n",
       "      <td>0.929325</td>\n",
       "      <td>0.857083</td>\n",
       "      <td>0.775917</td>\n",
       "      <td>0.905975</td>\n",
       "      <td>0.550000</td>\n",
       "      <td>0.5200</td>\n",
       "      <td>0.47</td>\n",
       "      <td>0.450</td>\n",
       "      <td>0.7000</td>\n",
       "      <td>0.63</td>\n",
       "      <td>0.3700</td>\n",
       "      <td>0.7100</td>\n",
       "    </tr>\n",
       "    <tr>\n",
       "      <th>Fer2013_merge_selected_85_uniform_aug_disgust fold 2</th>\n",
       "      <td>0.845739</td>\n",
       "      <td>0.800433</td>\n",
       "      <td>0.889533</td>\n",
       "      <td>0.743300</td>\n",
       "      <td>0.914300</td>\n",
       "      <td>0.866250</td>\n",
       "      <td>0.801733</td>\n",
       "      <td>0.904625</td>\n",
       "      <td>0.542857</td>\n",
       "      <td>0.4400</td>\n",
       "      <td>0.49</td>\n",
       "      <td>0.390</td>\n",
       "      <td>0.7200</td>\n",
       "      <td>0.57</td>\n",
       "      <td>0.4500</td>\n",
       "      <td>0.7400</td>\n",
       "    </tr>\n",
       "    <tr>\n",
       "      <th>Fer2013_merge_selected_85_uniform_aug_disgust fold 3</th>\n",
       "      <td>0.858318</td>\n",
       "      <td>0.829383</td>\n",
       "      <td>0.897300</td>\n",
       "      <td>0.748900</td>\n",
       "      <td>0.927117</td>\n",
       "      <td>0.883550</td>\n",
       "      <td>0.826550</td>\n",
       "      <td>0.895425</td>\n",
       "      <td>0.591429</td>\n",
       "      <td>0.5500</td>\n",
       "      <td>0.50</td>\n",
       "      <td>0.420</td>\n",
       "      <td>0.7500</td>\n",
       "      <td>0.64</td>\n",
       "      <td>0.5100</td>\n",
       "      <td>0.7700</td>\n",
       "    </tr>\n",
       "    <tr>\n",
       "      <th>Fer2013_merge_selected_85_uniform_aug_disgust mean</th>\n",
       "      <td>0.852117</td>\n",
       "      <td>0.820917</td>\n",
       "      <td>0.898250</td>\n",
       "      <td>0.751125</td>\n",
       "      <td>0.923150</td>\n",
       "      <td>0.865158</td>\n",
       "      <td>0.803012</td>\n",
       "      <td>0.903208</td>\n",
       "      <td>0.566429</td>\n",
       "      <td>0.5175</td>\n",
       "      <td>0.49</td>\n",
       "      <td>0.435</td>\n",
       "      <td>0.7225</td>\n",
       "      <td>0.61</td>\n",
       "      <td>0.4425</td>\n",
       "      <td>0.7475</td>\n",
       "    </tr>\n",
       "  </tbody>\n",
       "</table>\n",
       "</div>"
      ],
      "text/plain": [
       "                                                    mean AUC  angry AUC  \\\n",
       "Fer2013_merge_selected_85_uniform_aug_disgust f...  0.856976   0.837883   \n",
       "Fer2013_merge_selected_85_uniform_aug_disgust f...  0.847436   0.815967   \n",
       "Fer2013_merge_selected_85_uniform_aug_disgust f...  0.845739   0.800433   \n",
       "Fer2013_merge_selected_85_uniform_aug_disgust f...  0.858318   0.829383   \n",
       "Fer2013_merge_selected_85_uniform_aug_disgust mean  0.852117   0.820917   \n",
       "\n",
       "                                                    disgust AUC  fear AUC  \\\n",
       "Fer2013_merge_selected_85_uniform_aug_disgust f...     0.905050  0.765633   \n",
       "Fer2013_merge_selected_85_uniform_aug_disgust f...     0.901117  0.746667   \n",
       "Fer2013_merge_selected_85_uniform_aug_disgust f...     0.889533  0.743300   \n",
       "Fer2013_merge_selected_85_uniform_aug_disgust f...     0.897300  0.748900   \n",
       "Fer2013_merge_selected_85_uniform_aug_disgust mean     0.898250  0.751125   \n",
       "\n",
       "                                                    happy AUC  neautral AUC  \\\n",
       "Fer2013_merge_selected_85_uniform_aug_disgust f...   0.921858      0.853750   \n",
       "Fer2013_merge_selected_85_uniform_aug_disgust f...   0.929325      0.857083   \n",
       "Fer2013_merge_selected_85_uniform_aug_disgust f...   0.914300      0.866250   \n",
       "Fer2013_merge_selected_85_uniform_aug_disgust f...   0.927117      0.883550   \n",
       "Fer2013_merge_selected_85_uniform_aug_disgust mean   0.923150      0.865158   \n",
       "\n",
       "                                                     sad AUC  surprise AUC  \\\n",
       "Fer2013_merge_selected_85_uniform_aug_disgust f...  0.807850      0.906808   \n",
       "Fer2013_merge_selected_85_uniform_aug_disgust f...  0.775917      0.905975   \n",
       "Fer2013_merge_selected_85_uniform_aug_disgust f...  0.801733      0.904625   \n",
       "Fer2013_merge_selected_85_uniform_aug_disgust f...  0.826550      0.895425   \n",
       "Fer2013_merge_selected_85_uniform_aug_disgust mean  0.803012      0.903208   \n",
       "\n",
       "                                                    mean ACC  angry ACC  \\\n",
       "Fer2013_merge_selected_85_uniform_aug_disgust f...  0.581429     0.5600   \n",
       "Fer2013_merge_selected_85_uniform_aug_disgust f...  0.550000     0.5200   \n",
       "Fer2013_merge_selected_85_uniform_aug_disgust f...  0.542857     0.4400   \n",
       "Fer2013_merge_selected_85_uniform_aug_disgust f...  0.591429     0.5500   \n",
       "Fer2013_merge_selected_85_uniform_aug_disgust mean  0.566429     0.5175   \n",
       "\n",
       "                                                    disgust ACC  fear ACC  \\\n",
       "Fer2013_merge_selected_85_uniform_aug_disgust f...         0.50     0.480   \n",
       "Fer2013_merge_selected_85_uniform_aug_disgust f...         0.47     0.450   \n",
       "Fer2013_merge_selected_85_uniform_aug_disgust f...         0.49     0.390   \n",
       "Fer2013_merge_selected_85_uniform_aug_disgust f...         0.50     0.420   \n",
       "Fer2013_merge_selected_85_uniform_aug_disgust mean         0.49     0.435   \n",
       "\n",
       "                                                    happy ACC  neautral ACC  \\\n",
       "Fer2013_merge_selected_85_uniform_aug_disgust f...     0.7200          0.60   \n",
       "Fer2013_merge_selected_85_uniform_aug_disgust f...     0.7000          0.63   \n",
       "Fer2013_merge_selected_85_uniform_aug_disgust f...     0.7200          0.57   \n",
       "Fer2013_merge_selected_85_uniform_aug_disgust f...     0.7500          0.64   \n",
       "Fer2013_merge_selected_85_uniform_aug_disgust mean     0.7225          0.61   \n",
       "\n",
       "                                                    sad ACC  surprise ACC  \n",
       "Fer2013_merge_selected_85_uniform_aug_disgust f...   0.4400        0.7700  \n",
       "Fer2013_merge_selected_85_uniform_aug_disgust f...   0.3700        0.7100  \n",
       "Fer2013_merge_selected_85_uniform_aug_disgust f...   0.4500        0.7400  \n",
       "Fer2013_merge_selected_85_uniform_aug_disgust f...   0.5100        0.7700  \n",
       "Fer2013_merge_selected_85_uniform_aug_disgust mean   0.4425        0.7475  "
      ]
     },
     "execution_count": 105,
     "metadata": {},
     "output_type": "execute_result"
    }
   ],
   "source": [
    "columns=[\"mean AUC\", \"angry AUC\", \"disgust AUC\", \"fear AUC\", \"happy AUC\", \"neautral AUC\", \"sad AUC\", \"surprise AUC\", \"mean ACC\", \"angry ACC\", \"disgust ACC\", \"fear ACC\", \"happy ACC\", \"neautral ACC\", \"sad ACC\", \"surprise ACC\"]\n",
    "df = pd.DataFrame(columns = columns)\n",
    "\n",
    "for fold,_ in enumerate(histories):\n",
    "    mean_acc,class_acc = evaluate_accuracy(y_test[fold], y_scores[fold], classes)\n",
    "    mean_auc,roc_auc = evaluate_roc_auc(y_test[fold], y_scores[fold], classes)\n",
    "\n",
    "    exp = [mean_auc]\n",
    "    exp += list(roc_auc.values())\n",
    "    exp += [mean_acc]\n",
    "    exp += class_acc\n",
    "\n",
    "    df_new = pd.DataFrame( np.array([exp]),[f\"{dataset_name} fold {fold}\"], columns=columns)\n",
    "    df = pd.concat([df,df_new])\n",
    "    df = df.astype('float')\n",
    "\n",
    "mean_df = df.mean(0).to_frame().transpose().set_index(pd.Index([f\"{dataset_name} mean\"]))\n",
    "df = pd.concat([df,mean_df])\n",
    "df\n"
   ]
  },
  {
   "cell_type": "markdown",
   "id": "bbe8f59a",
   "metadata": {},
   "source": [
    "## Save metrics"
   ]
  },
  {
   "cell_type": "code",
   "execution_count": 106,
   "id": "6dfac9df",
   "metadata": {},
   "outputs": [
    {
     "data": {
      "text/html": [
       "<div>\n",
       "<style scoped>\n",
       "    .dataframe tbody tr th:only-of-type {\n",
       "        vertical-align: middle;\n",
       "    }\n",
       "\n",
       "    .dataframe tbody tr th {\n",
       "        vertical-align: top;\n",
       "    }\n",
       "\n",
       "    .dataframe thead th {\n",
       "        text-align: right;\n",
       "    }\n",
       "</style>\n",
       "<table border=\"1\" class=\"dataframe\">\n",
       "  <thead>\n",
       "    <tr style=\"text-align: right;\">\n",
       "      <th></th>\n",
       "      <th>mean AUC</th>\n",
       "      <th>angry AUC</th>\n",
       "      <th>disgust AUC</th>\n",
       "      <th>fear AUC</th>\n",
       "      <th>happy AUC</th>\n",
       "      <th>neautral AUC</th>\n",
       "      <th>sad AUC</th>\n",
       "      <th>surprise AUC</th>\n",
       "      <th>mean ACC</th>\n",
       "      <th>angry ACC</th>\n",
       "      <th>disgust ACC</th>\n",
       "      <th>fear ACC</th>\n",
       "      <th>happy ACC</th>\n",
       "      <th>neautral ACC</th>\n",
       "      <th>sad ACC</th>\n",
       "      <th>surprise ACC</th>\n",
       "    </tr>\n",
       "  </thead>\n",
       "  <tbody>\n",
       "    <tr>\n",
       "      <th>Fer2013_merge_selected_85_uniform_aug_disgust xval-4</th>\n",
       "      <td>0.851951</td>\n",
       "      <td>0.802933</td>\n",
       "      <td>0.897417</td>\n",
       "      <td>0.746271</td>\n",
       "      <td>0.921156</td>\n",
       "      <td>0.866823</td>\n",
       "      <td>0.820529</td>\n",
       "      <td>0.908527</td>\n",
       "      <td>0.565714</td>\n",
       "      <td>0.4850</td>\n",
       "      <td>0.515</td>\n",
       "      <td>0.4175</td>\n",
       "      <td>0.7225</td>\n",
       "      <td>0.6025</td>\n",
       "      <td>0.4625</td>\n",
       "      <td>0.7550</td>\n",
       "    </tr>\n",
       "    <tr>\n",
       "      <th>Fer2013_merge_selected_85_uniform_aug_disgust xval-4</th>\n",
       "      <td>0.851527</td>\n",
       "      <td>0.810425</td>\n",
       "      <td>0.901646</td>\n",
       "      <td>0.748487</td>\n",
       "      <td>0.920058</td>\n",
       "      <td>0.867377</td>\n",
       "      <td>0.814950</td>\n",
       "      <td>0.897748</td>\n",
       "      <td>0.558214</td>\n",
       "      <td>0.4825</td>\n",
       "      <td>0.500</td>\n",
       "      <td>0.3975</td>\n",
       "      <td>0.7375</td>\n",
       "      <td>0.5750</td>\n",
       "      <td>0.4625</td>\n",
       "      <td>0.7525</td>\n",
       "    </tr>\n",
       "  </tbody>\n",
       "</table>\n",
       "</div>"
      ],
      "text/plain": [
       "                                                    mean AUC  angry AUC  \\\n",
       "Fer2013_merge_selected_85_uniform_aug_disgust x...  0.851951   0.802933   \n",
       "Fer2013_merge_selected_85_uniform_aug_disgust x...  0.851527   0.810425   \n",
       "\n",
       "                                                    disgust AUC  fear AUC  \\\n",
       "Fer2013_merge_selected_85_uniform_aug_disgust x...     0.897417  0.746271   \n",
       "Fer2013_merge_selected_85_uniform_aug_disgust x...     0.901646  0.748487   \n",
       "\n",
       "                                                    happy AUC  neautral AUC  \\\n",
       "Fer2013_merge_selected_85_uniform_aug_disgust x...   0.921156      0.866823   \n",
       "Fer2013_merge_selected_85_uniform_aug_disgust x...   0.920058      0.867377   \n",
       "\n",
       "                                                     sad AUC  surprise AUC  \\\n",
       "Fer2013_merge_selected_85_uniform_aug_disgust x...  0.820529      0.908527   \n",
       "Fer2013_merge_selected_85_uniform_aug_disgust x...  0.814950      0.897748   \n",
       "\n",
       "                                                    mean ACC  angry ACC  \\\n",
       "Fer2013_merge_selected_85_uniform_aug_disgust x...  0.565714     0.4850   \n",
       "Fer2013_merge_selected_85_uniform_aug_disgust x...  0.558214     0.4825   \n",
       "\n",
       "                                                    disgust ACC  fear ACC  \\\n",
       "Fer2013_merge_selected_85_uniform_aug_disgust x...        0.515    0.4175   \n",
       "Fer2013_merge_selected_85_uniform_aug_disgust x...        0.500    0.3975   \n",
       "\n",
       "                                                    happy ACC  neautral ACC  \\\n",
       "Fer2013_merge_selected_85_uniform_aug_disgust x...     0.7225        0.6025   \n",
       "Fer2013_merge_selected_85_uniform_aug_disgust x...     0.7375        0.5750   \n",
       "\n",
       "                                                    sad ACC  surprise ACC  \n",
       "Fer2013_merge_selected_85_uniform_aug_disgust x...   0.4625        0.7550  \n",
       "Fer2013_merge_selected_85_uniform_aug_disgust x...   0.4625        0.7525  "
      ]
     },
     "execution_count": 106,
     "metadata": {},
     "output_type": "execute_result"
    }
   ],
   "source": [
    "try:\n",
    "    stored_df = pd.read_csv(os.path.join(metrics_directory, metrics_name),index_col=0)\n",
    "except FileNotFoundError:\n",
    "    stored_df = pd.DataFrame(columns = columns)\n",
    "stored_df"
   ]
  },
  {
   "cell_type": "code",
   "execution_count": 107,
   "id": "417b7565",
   "metadata": {},
   "outputs": [
    {
     "data": {
      "text/html": [
       "<div>\n",
       "<style scoped>\n",
       "    .dataframe tbody tr th:only-of-type {\n",
       "        vertical-align: middle;\n",
       "    }\n",
       "\n",
       "    .dataframe tbody tr th {\n",
       "        vertical-align: top;\n",
       "    }\n",
       "\n",
       "    .dataframe thead th {\n",
       "        text-align: right;\n",
       "    }\n",
       "</style>\n",
       "<table border=\"1\" class=\"dataframe\">\n",
       "  <thead>\n",
       "    <tr style=\"text-align: right;\">\n",
       "      <th></th>\n",
       "      <th>mean AUC</th>\n",
       "      <th>angry AUC</th>\n",
       "      <th>disgust AUC</th>\n",
       "      <th>fear AUC</th>\n",
       "      <th>happy AUC</th>\n",
       "      <th>neautral AUC</th>\n",
       "      <th>sad AUC</th>\n",
       "      <th>surprise AUC</th>\n",
       "      <th>mean ACC</th>\n",
       "      <th>angry ACC</th>\n",
       "      <th>disgust ACC</th>\n",
       "      <th>fear ACC</th>\n",
       "      <th>happy ACC</th>\n",
       "      <th>neautral ACC</th>\n",
       "      <th>sad ACC</th>\n",
       "      <th>surprise ACC</th>\n",
       "    </tr>\n",
       "  </thead>\n",
       "  <tbody>\n",
       "    <tr>\n",
       "      <th>Fer2013_merge_selected_85_uniform_aug_disgust xval-4</th>\n",
       "      <td>0.851951</td>\n",
       "      <td>0.802933</td>\n",
       "      <td>0.897417</td>\n",
       "      <td>0.746271</td>\n",
       "      <td>0.921156</td>\n",
       "      <td>0.866823</td>\n",
       "      <td>0.820529</td>\n",
       "      <td>0.908527</td>\n",
       "      <td>0.565714</td>\n",
       "      <td>0.4850</td>\n",
       "      <td>0.515</td>\n",
       "      <td>0.4175</td>\n",
       "      <td>0.7225</td>\n",
       "      <td>0.6025</td>\n",
       "      <td>0.4625</td>\n",
       "      <td>0.7550</td>\n",
       "    </tr>\n",
       "    <tr>\n",
       "      <th>Fer2013_merge_selected_85_uniform_aug_disgust xval-4</th>\n",
       "      <td>0.851527</td>\n",
       "      <td>0.810425</td>\n",
       "      <td>0.901646</td>\n",
       "      <td>0.748487</td>\n",
       "      <td>0.920058</td>\n",
       "      <td>0.867377</td>\n",
       "      <td>0.814950</td>\n",
       "      <td>0.897748</td>\n",
       "      <td>0.558214</td>\n",
       "      <td>0.4825</td>\n",
       "      <td>0.500</td>\n",
       "      <td>0.3975</td>\n",
       "      <td>0.7375</td>\n",
       "      <td>0.5750</td>\n",
       "      <td>0.4625</td>\n",
       "      <td>0.7525</td>\n",
       "    </tr>\n",
       "    <tr>\n",
       "      <th>Fer2013_merge_selected_85_uniform_aug_disgust xval-4</th>\n",
       "      <td>0.852117</td>\n",
       "      <td>0.820917</td>\n",
       "      <td>0.898250</td>\n",
       "      <td>0.751125</td>\n",
       "      <td>0.923150</td>\n",
       "      <td>0.865158</td>\n",
       "      <td>0.803012</td>\n",
       "      <td>0.903208</td>\n",
       "      <td>0.566429</td>\n",
       "      <td>0.5175</td>\n",
       "      <td>0.490</td>\n",
       "      <td>0.4350</td>\n",
       "      <td>0.7225</td>\n",
       "      <td>0.6100</td>\n",
       "      <td>0.4425</td>\n",
       "      <td>0.7475</td>\n",
       "    </tr>\n",
       "  </tbody>\n",
       "</table>\n",
       "</div>"
      ],
      "text/plain": [
       "                                                    mean AUC  angry AUC  \\\n",
       "Fer2013_merge_selected_85_uniform_aug_disgust x...  0.851951   0.802933   \n",
       "Fer2013_merge_selected_85_uniform_aug_disgust x...  0.851527   0.810425   \n",
       "Fer2013_merge_selected_85_uniform_aug_disgust x...  0.852117   0.820917   \n",
       "\n",
       "                                                    disgust AUC  fear AUC  \\\n",
       "Fer2013_merge_selected_85_uniform_aug_disgust x...     0.897417  0.746271   \n",
       "Fer2013_merge_selected_85_uniform_aug_disgust x...     0.901646  0.748487   \n",
       "Fer2013_merge_selected_85_uniform_aug_disgust x...     0.898250  0.751125   \n",
       "\n",
       "                                                    happy AUC  neautral AUC  \\\n",
       "Fer2013_merge_selected_85_uniform_aug_disgust x...   0.921156      0.866823   \n",
       "Fer2013_merge_selected_85_uniform_aug_disgust x...   0.920058      0.867377   \n",
       "Fer2013_merge_selected_85_uniform_aug_disgust x...   0.923150      0.865158   \n",
       "\n",
       "                                                     sad AUC  surprise AUC  \\\n",
       "Fer2013_merge_selected_85_uniform_aug_disgust x...  0.820529      0.908527   \n",
       "Fer2013_merge_selected_85_uniform_aug_disgust x...  0.814950      0.897748   \n",
       "Fer2013_merge_selected_85_uniform_aug_disgust x...  0.803012      0.903208   \n",
       "\n",
       "                                                    mean ACC  angry ACC  \\\n",
       "Fer2013_merge_selected_85_uniform_aug_disgust x...  0.565714     0.4850   \n",
       "Fer2013_merge_selected_85_uniform_aug_disgust x...  0.558214     0.4825   \n",
       "Fer2013_merge_selected_85_uniform_aug_disgust x...  0.566429     0.5175   \n",
       "\n",
       "                                                    disgust ACC  fear ACC  \\\n",
       "Fer2013_merge_selected_85_uniform_aug_disgust x...        0.515    0.4175   \n",
       "Fer2013_merge_selected_85_uniform_aug_disgust x...        0.500    0.3975   \n",
       "Fer2013_merge_selected_85_uniform_aug_disgust x...        0.490    0.4350   \n",
       "\n",
       "                                                    happy ACC  neautral ACC  \\\n",
       "Fer2013_merge_selected_85_uniform_aug_disgust x...     0.7225        0.6025   \n",
       "Fer2013_merge_selected_85_uniform_aug_disgust x...     0.7375        0.5750   \n",
       "Fer2013_merge_selected_85_uniform_aug_disgust x...     0.7225        0.6100   \n",
       "\n",
       "                                                    sad ACC  surprise ACC  \n",
       "Fer2013_merge_selected_85_uniform_aug_disgust x...   0.4625        0.7550  \n",
       "Fer2013_merge_selected_85_uniform_aug_disgust x...   0.4625        0.7525  \n",
       "Fer2013_merge_selected_85_uniform_aug_disgust x...   0.4425        0.7475  "
      ]
     },
     "execution_count": 107,
     "metadata": {},
     "output_type": "execute_result"
    }
   ],
   "source": [
    "stored_df = pd.concat([stored_df,mean_df.set_index(pd.Index([f\"{dataset_name} xval-{splits}\"]))])\n",
    "stored_df"
   ]
  },
  {
   "cell_type": "code",
   "execution_count": 108,
   "id": "d202fe7c",
   "metadata": {},
   "outputs": [],
   "source": [
    "if not os.path.isdir(metrics_directory):\n",
    "    os.makedirs(name = metrics_directory)\n",
    "stored_df.to_csv(os.path.join(metrics_directory, metrics_name))"
   ]
  },
  {
   "cell_type": "code",
   "execution_count": 109,
   "id": "af48bbbe",
   "metadata": {},
   "outputs": [
    {
     "data": {
      "text/html": [
       "<div>\n",
       "<style scoped>\n",
       "    .dataframe tbody tr th:only-of-type {\n",
       "        vertical-align: middle;\n",
       "    }\n",
       "\n",
       "    .dataframe tbody tr th {\n",
       "        vertical-align: top;\n",
       "    }\n",
       "\n",
       "    .dataframe thead th {\n",
       "        text-align: right;\n",
       "    }\n",
       "</style>\n",
       "<table border=\"1\" class=\"dataframe\">\n",
       "  <thead>\n",
       "    <tr style=\"text-align: right;\">\n",
       "      <th></th>\n",
       "      <th>mean AUC</th>\n",
       "      <th>angry AUC</th>\n",
       "      <th>disgust AUC</th>\n",
       "      <th>fear AUC</th>\n",
       "      <th>happy AUC</th>\n",
       "      <th>neautral AUC</th>\n",
       "      <th>sad AUC</th>\n",
       "      <th>surprise AUC</th>\n",
       "      <th>mean ACC</th>\n",
       "      <th>angry ACC</th>\n",
       "      <th>disgust ACC</th>\n",
       "      <th>fear ACC</th>\n",
       "      <th>happy ACC</th>\n",
       "      <th>neautral ACC</th>\n",
       "      <th>sad ACC</th>\n",
       "      <th>surprise ACC</th>\n",
       "    </tr>\n",
       "    <tr>\n",
       "      <th>Method</th>\n",
       "      <th></th>\n",
       "      <th></th>\n",
       "      <th></th>\n",
       "      <th></th>\n",
       "      <th></th>\n",
       "      <th></th>\n",
       "      <th></th>\n",
       "      <th></th>\n",
       "      <th></th>\n",
       "      <th></th>\n",
       "      <th></th>\n",
       "      <th></th>\n",
       "      <th></th>\n",
       "      <th></th>\n",
       "      <th></th>\n",
       "      <th></th>\n",
       "    </tr>\n",
       "  </thead>\n",
       "  <tbody>\n",
       "    <tr>\n",
       "      <th>Fer2013_merge_selected_85_uniform_aug_disgust xval-4</th>\n",
       "      <td>0.851865</td>\n",
       "      <td>0.811425</td>\n",
       "      <td>0.899104</td>\n",
       "      <td>0.748628</td>\n",
       "      <td>0.921455</td>\n",
       "      <td>0.866453</td>\n",
       "      <td>0.812831</td>\n",
       "      <td>0.903161</td>\n",
       "      <td>0.563452</td>\n",
       "      <td>0.495</td>\n",
       "      <td>0.501667</td>\n",
       "      <td>0.416667</td>\n",
       "      <td>0.7275</td>\n",
       "      <td>0.595833</td>\n",
       "      <td>0.455833</td>\n",
       "      <td>0.751667</td>\n",
       "    </tr>\n",
       "  </tbody>\n",
       "</table>\n",
       "</div>"
      ],
      "text/plain": [
       "                                                    mean AUC  angry AUC  \\\n",
       "Method                                                                    \n",
       "Fer2013_merge_selected_85_uniform_aug_disgust x...  0.851865   0.811425   \n",
       "\n",
       "                                                    disgust AUC  fear AUC  \\\n",
       "Method                                                                      \n",
       "Fer2013_merge_selected_85_uniform_aug_disgust x...     0.899104  0.748628   \n",
       "\n",
       "                                                    happy AUC  neautral AUC  \\\n",
       "Method                                                                        \n",
       "Fer2013_merge_selected_85_uniform_aug_disgust x...   0.921455      0.866453   \n",
       "\n",
       "                                                     sad AUC  surprise AUC  \\\n",
       "Method                                                                       \n",
       "Fer2013_merge_selected_85_uniform_aug_disgust x...  0.812831      0.903161   \n",
       "\n",
       "                                                    mean ACC  angry ACC  \\\n",
       "Method                                                                    \n",
       "Fer2013_merge_selected_85_uniform_aug_disgust x...  0.563452      0.495   \n",
       "\n",
       "                                                    disgust ACC  fear ACC  \\\n",
       "Method                                                                      \n",
       "Fer2013_merge_selected_85_uniform_aug_disgust x...     0.501667  0.416667   \n",
       "\n",
       "                                                    happy ACC  neautral ACC  \\\n",
       "Method                                                                        \n",
       "Fer2013_merge_selected_85_uniform_aug_disgust x...     0.7275      0.595833   \n",
       "\n",
       "                                                     sad ACC  surprise ACC  \n",
       "Method                                                                      \n",
       "Fer2013_merge_selected_85_uniform_aug_disgust x...  0.455833      0.751667  "
      ]
     },
     "execution_count": 109,
     "metadata": {},
     "output_type": "execute_result"
    }
   ],
   "source": [
    "stored_df.index.name = \"Method\"\n",
    "stored_df.groupby(\"Method\").mean()"
   ]
  },
  {
   "cell_type": "code",
   "execution_count": 110,
   "id": "4f6a75c8",
   "metadata": {},
   "outputs": [],
   "source": [
    "winsound.Beep(400, 2000)"
   ]
  },
  {
   "cell_type": "code",
   "execution_count": 111,
   "id": "cbfaa498",
   "metadata": {},
   "outputs": [],
   "source": [
    "winsound.Beep(400, 2000)"
   ]
  },
  {
   "cell_type": "code",
   "execution_count": null,
   "id": "99818dc5",
   "metadata": {},
   "outputs": [],
   "source": []
  }
 ],
 "metadata": {
  "kernelspec": {
   "display_name": "Python 3.9.8 ('adlmam': venv)",
   "language": "python",
   "name": "python3"
  },
  "language_info": {
   "codemirror_mode": {
    "name": "ipython",
    "version": 3
   },
   "file_extension": ".py",
   "mimetype": "text/x-python",
   "name": "python",
   "nbconvert_exporter": "python",
   "pygments_lexer": "ipython3",
   "version": "3.9.8"
  },
  "vscode": {
   "interpreter": {
    "hash": "106c4f8174829cec3852d25fc2502034183f8bb6abf498d99bcfdbdcf1e0115d"
   }
  }
 },
 "nbformat": 4,
 "nbformat_minor": 5
}
