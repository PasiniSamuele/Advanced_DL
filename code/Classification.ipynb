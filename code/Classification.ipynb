{
 "cells": [
  {
   "cell_type": "markdown",
   "id": "64b0897f",
   "metadata": {},
   "source": [
    "# Classifier"
   ]
  },
  {
   "cell_type": "markdown",
   "id": "08a9de04",
   "metadata": {},
   "source": [
    "## Import libraries"
   ]
  },
  {
   "cell_type": "code",
   "execution_count": 1,
   "id": "f30487ab-c2a7-4231-80cd-942fbc97e0a4",
   "metadata": {},
   "outputs": [],
   "source": [
    "import torch\n",
    "import torch.nn as nn\n",
    "import torch.nn.functional as F\n",
    "import torch.optim as optim\n",
    "import os\n",
    "from tqdm.notebook import tqdm, trange\n",
    "from time import sleep\n",
    "from torchvision.io import read_image\n",
    "from torchvision.transforms import ToTensor\n",
    "from torchvision import transforms\n",
    "from torchsummary import summary\n",
    "from torch.utils.data import DataLoader\n",
    "from torchvision.datasets import ImageFolder\n",
    "from collections import Counter\n",
    "import numpy as np\n",
    "from sklearn.metrics import roc_curve, auc\n",
    "from sklearn import datasets\n",
    "from sklearn.multiclass import OneVsRestClassifier\n",
    "from sklearn.svm import LinearSVC\n",
    "from sklearn.preprocessing import label_binarize\n",
    "from sklearn.model_selection import train_test_split\n",
    "import matplotlib.pyplot as plt\n",
    "import pandas as pd\n"
   ]
  },
  {
   "cell_type": "markdown",
   "id": "ed5c4b34",
   "metadata": {},
   "source": [
    "## Functions definition"
   ]
  },
  {
   "cell_type": "code",
   "execution_count": 2,
   "id": "084cd3c3-e57c-434e-9669-2ff06fa1d080",
   "metadata": {},
   "outputs": [],
   "source": [
    "def get_default_device():\n",
    "    \"\"\"Pick GPU if available, else CPU\"\"\"\n",
    "    if torch.cuda.is_available():\n",
    "        return torch.device('cuda')\n",
    "    else:\n",
    "        return torch.device('cpu')\n",
    "    \n",
    "def to_device(data, device):\n",
    "    \"\"\"Move tensor(s) to chosen device\"\"\"\n",
    "    if isinstance(data, (list,tuple)):\n",
    "        return [to_device(x, device) for x in data]\n",
    "    return data.to(device, non_blocking=True)"
   ]
  },
  {
   "cell_type": "code",
   "execution_count": 3,
   "id": "e0a6ad2d-46c4-4553-94e6-5459666c6a9e",
   "metadata": {},
   "outputs": [],
   "source": [
    "@torch.no_grad()\n",
    "def evaluate(model, val_loader):\n",
    "    model.eval()\n",
    "    outputs = [model.validation_step(batch) for batch in val_loader]\n",
    "    return model.validation_epoch_end(outputs)\n",
    "\n",
    "def fit(epochs, lr, model, train_loader, val_loader, opt_func=torch.optim.SGD):\n",
    "    history = []\n",
    "    optimizer = opt_func(model.parameters(), lr, betas=(0.5,0.999))\n",
    "    for epoch in tqdm(range(epochs), desc = \"Current Epoch\"):\n",
    "        # Training Phase \n",
    "        model.train()\n",
    "        train_losses = []\n",
    "        for batch in tqdm(train_loader, desc = f\"Epoch: {epoch}\", leave= False):\n",
    "            optimizer.zero_grad()\n",
    "            loss = model.training_step(batch)\n",
    "            train_losses.append(loss)\n",
    "            loss.backward()\n",
    "            optimizer.step()\n",
    "        # Validation phase\n",
    "        result = evaluate(model, val_loader)\n",
    "        result['train_loss'] = torch.stack(train_losses).mean().item()\n",
    "        model.epoch_end(epoch, result)\n",
    "        history.append(result)\n",
    "    return history"
   ]
  },
  {
   "cell_type": "markdown",
   "id": "ca246c54",
   "metadata": {},
   "source": [
    "## Class definition"
   ]
  },
  {
   "cell_type": "code",
   "execution_count": 4,
   "id": "30e57e57",
   "metadata": {},
   "outputs": [],
   "source": [
    "class DeviceDataLoader():\n",
    "    \"\"\"Wrap a dataloader to move data to a device\"\"\"\n",
    "    def __init__(self, dl, device):\n",
    "        self.dl = dl\n",
    "        self.device = device\n",
    "        \n",
    "    def __iter__(self):\n",
    "        \"\"\"Yield a batch of data after moving it to device\"\"\"\n",
    "        for b in self.dl: \n",
    "            yield to_device(b, self.device)\n",
    "\n",
    "    def __len__(self):\n",
    "        \"\"\"Number of batches\"\"\"\n",
    "        return len(self.dl)"
   ]
  },
  {
   "cell_type": "code",
   "execution_count": 5,
   "id": "1042dd71-2d30-4b9e-b7fd-dc0178421675",
   "metadata": {},
   "outputs": [],
   "source": [
    "class Metric():\n",
    "    def __init__(self, name):\n",
    "        self.name = name\n",
    "    \n",
    "    def eval(self, outputs, labels):\n",
    "        pass"
   ]
  },
  {
   "cell_type": "code",
   "execution_count": 6,
   "id": "6ab563e9-aeac-45c8-a5da-e99f8cbc54ca",
   "metadata": {},
   "outputs": [],
   "source": [
    "class Accuracy(Metric):\n",
    "    \n",
    "    def eval(self, outputs, labels):\n",
    "        _, preds = torch.max(outputs, dim=1)\n",
    "        return torch.tensor(torch.sum(preds == labels).item() / len(preds))"
   ]
  },
  {
   "cell_type": "code",
   "execution_count": 7,
   "id": "1977248f-bcac-4d98-806b-013f3fa7e6f4",
   "metadata": {},
   "outputs": [],
   "source": [
    "class ImageClassificationBase(nn.Module):\n",
    "    \n",
    "    def __init__(self, loss_function, metrics):\n",
    "        super().__init__()\n",
    "        self.loss_function = loss_function\n",
    "        self.metrics = metrics\n",
    "    \n",
    "    def training_step(self, batch):\n",
    "        images, labels = batch \n",
    "        out = self(images)                  # Generate predictions\n",
    "        loss = self.loss_function(out, labels) # Calculate loss\n",
    "        return loss\n",
    "    \n",
    "    def validation_step(self, batch):\n",
    "        images, labels = batch \n",
    "        out = self(images)                    # Generate predictions\n",
    "        loss = self.loss_function(out, labels)   # Calculate loss\n",
    "        result = {'val_loss': loss.detach()}\n",
    "        \n",
    "        for m in self.metrics:\n",
    "            result[m.name] = m.eval(out, labels)           # Calculate metrics\n",
    "            \n",
    "        return result\n",
    "        \n",
    "    def validation_epoch_end(self, outputs):\n",
    "        batch_losses = [x['val_loss'] for x in outputs]\n",
    "        epoch_loss = torch.stack(batch_losses).mean()   # Combine losses\n",
    "        \n",
    "        result = {'val_loss': epoch_loss.item()}\n",
    "        \n",
    "        for m in self.metrics:\n",
    "            batch = [x[m.name] for x in outputs]\n",
    "            epoch = torch.stack(batch).mean()      # Combine metrics\n",
    "            result[m.name] = epoch.item()\n",
    "            \n",
    "        return result\n",
    "    \n",
    "    def epoch_end(self, epoch, result):\n",
    "        out = f\"Epoch [{epoch}]\"\n",
    "        vals = list(result.keys())\n",
    "        for v in vals:\n",
    "            out += f\", {v}: {result[v]:.4f}\"\n",
    "        print(out)\n",
    "        "
   ]
  },
  {
   "cell_type": "code",
   "execution_count": 8,
   "id": "125ec41f-92e5-4844-bc89-6eeb84c08eb6",
   "metadata": {},
   "outputs": [],
   "source": [
    "class Net(ImageClassificationBase):\n",
    "    \n",
    "    def __init__(self, loss_function, metrics, out_size):\n",
    "        super().__init__(loss_function, metrics)\n",
    "        self.conv1 = nn.Conv2d(in_channels=1, out_channels=32, kernel_size=3, stride=1)\n",
    "        self.pool1 = nn.MaxPool2d(kernel_size=3,stride=2, padding=1)\n",
    "        self.norm1 = nn.BatchNorm2d(32)\n",
    "        self.conv2 = nn.Conv2d(in_channels=32, out_channels=64, kernel_size=3, stride=1)\n",
    "        self.pool2 = nn.MaxPool2d(kernel_size=3,stride=2, padding=1)\n",
    "        self.norm2 = nn.BatchNorm2d(64)\n",
    "        self.conv3 = nn.Conv2d(in_channels=64, out_channels=128, kernel_size=3, stride=1)\n",
    "        self.pool3 = nn.MaxPool2d(kernel_size=3, stride=2, padding=1)\n",
    "        self.norm3 = nn.BatchNorm2d(128)\n",
    "        self.fc1 = nn.Linear(in_features=128*5*5, out_features=256)\n",
    "        #self.fc2 = nn.Linear(in_features=256, out_features=256)\n",
    "        self.fc = nn.Linear(256, out_size)\n",
    "\n",
    "    def forward(self, input):\n",
    "        output = self.norm1(self.pool1(F.relu(self.conv1(input))))\n",
    "        output = self.norm2(self.pool2(F.relu(self.conv2((output)))))\n",
    "        output = self.norm3(self.pool3(F.relu(self.conv3((output)))))\n",
    "        output = output.view(-1, 128*5*5)\n",
    "        output = F.relu(self.fc1(output))\n",
    "        #output = F.relu(self.fc2(output))\n",
    "        output = self.fc(output)\n",
    "        output = F.softmax(input = output)\n",
    "        return output\n",
    "\n",
    "    \"\"\"def __init__(self, loss_function, metrics, out_size):\n",
    "        super().__init__(loss_function, metrics)\n",
    "        self.conv1 = nn.Conv2d(in_channels=1, out_channels=32, kernel_size=3, stride=1, padding=1)\n",
    "        self.conv2 = nn.Conv2d(in_channels=32, out_channels=64, kernel_size=3, stride=1, padding = 1)\n",
    "        self.norm1 = nn.BatchNorm2d(64)\n",
    "        self.pool1 = nn.MaxPool2d(kernel_size=2)\n",
    "        self.drop1 = nn.Dropout2d(p=0.25)\n",
    "        self.conv3 = nn.Conv2d(in_channels=64, out_channels=128, kernel_size=3, stride=1, padding=1)\n",
    "        self.conv4 = nn.Conv2d(in_channels=128, out_channels=256, kernel_size=3, stride=1)\n",
    "        self.norm2 = nn.BatchNorm2d(256)\n",
    "        self.pool2 = nn.MaxPool2d(kernel_size=2)\n",
    "        self.drop2 = nn.Dropout2d(p=0.25)\n",
    "        self.flatten = nn.Flatten()\n",
    "        self.fc1 = nn.Linear(in_features=256*11*11, out_features=1024)\n",
    "        self.drop3 = nn.Dropout2d(p=0.5)\n",
    "        self.fc = nn.Linear(1024, out_size)\n",
    "\n",
    "    def forward(self, input):\n",
    "        output = F.relu(self.conv1(input))\n",
    "        output = F.relu(self.conv2(output))\n",
    "        output = self.drop1(self.pool1(self.norm1(output)))\n",
    "        output = F.relu(self.conv3(output))\n",
    "        output = F.relu(self.conv4(output))\n",
    "        output = self.drop2(self.pool2(self.norm2(output)))\n",
    "        output = self.flatten(output)\n",
    "        output = F.relu(self.fc1(output))\n",
    "        output = self.fc(self.drop3(output))\n",
    "        output = F.softmax(input = output)\n",
    "        return output\"\"\""
   ]
  },
  {
   "cell_type": "markdown",
   "id": "60e5a8f2",
   "metadata": {},
   "source": [
    "## Variables definition"
   ]
  },
  {
   "cell_type": "code",
   "execution_count": 9,
   "id": "1bb92e60",
   "metadata": {},
   "outputs": [],
   "source": [
    "device = get_default_device()\n",
    "models_directory = \"models\"\n",
    "metrics_directory = \"metrics\"\n",
    "metrics_name = \"metrics.csv\"\n",
    "dataset_name = \"Fer2013_Aug_Disgust_uniform_e_03_identity\"\n",
    "train_df_path = f\"../datasets/{dataset_name}/train\"\n",
    "test_df_path = f\"../datasets/{dataset_name}/test\"\n",
    "\n",
    "batch_size = 64"
   ]
  },
  {
   "cell_type": "markdown",
   "id": "76ef2e5b",
   "metadata": {},
   "source": [
    "## Dataset loading"
   ]
  },
  {
   "cell_type": "code",
   "execution_count": 10,
   "id": "5f983610-8ba7-4afc-81b4-44c255c5257c",
   "metadata": {},
   "outputs": [],
   "source": [
    "df_train = ImageFolder(root=train_df_path, transform=transforms.Compose([transforms.Grayscale(num_output_channels=1),\n",
    "                                     transforms.ToTensor()]))\n",
    "df_test = ImageFolder(root=test_df_path, transform=transforms.Compose([transforms.Grayscale(num_output_channels=1),\n",
    "                                     transforms.ToTensor()]))"
   ]
  },
  {
   "cell_type": "code",
   "execution_count": 11,
   "id": "6fab602f-e6fa-46f2-898c-ad2d697ed41a",
   "metadata": {},
   "outputs": [],
   "source": [
    "train_dl = DeviceDataLoader(DataLoader(df_train, batch_size=batch_size, shuffle=True),device)\n",
    "test_dl = DeviceDataLoader(DataLoader(df_test, batch_size=batch_size, shuffle=True),device)"
   ]
  },
  {
   "cell_type": "code",
   "execution_count": 12,
   "id": "72f96e28-c09a-4c5f-836b-51ea2ae0ed52",
   "metadata": {},
   "outputs": [
    {
     "data": {
      "text/plain": [
       "['angry', 'disgust', 'fear', 'happy', 'neutral', 'sad', 'surprise']"
      ]
     },
     "execution_count": 12,
     "metadata": {},
     "output_type": "execute_result"
    }
   ],
   "source": [
    "classes = df_train.classes\n",
    "classes"
   ]
  },
  {
   "cell_type": "code",
   "execution_count": 13,
   "id": "48aa05f0",
   "metadata": {},
   "outputs": [
    {
     "name": "stdout",
     "output_type": "stream",
     "text": [
      "{0: 3995, 1: 1669, 2: 4097, 3: 7215, 4: 4965, 5: 4830, 6: 3171}\n",
      "tensor([0.4178, 1.0000, 0.4074, 0.2313, 0.3362, 0.3455, 0.5263])\n"
     ]
    }
   ],
   "source": [
    "counts = dict(Counter(df_train.targets))\n",
    "print(counts)\n",
    "weights = np.array(list(counts.values()))\n",
    "weights = torch.Tensor( min(weights)/weights)\n",
    "print(weights)"
   ]
  },
  {
   "cell_type": "markdown",
   "id": "793bf2de",
   "metadata": {},
   "source": [
    "## Model design and Training"
   ]
  },
  {
   "cell_type": "code",
   "execution_count": 14,
   "id": "62f2c2a4",
   "metadata": {},
   "outputs": [],
   "source": [
    "\n",
    "loss_function = nn.CrossEntropyLoss(weight = weights)\n",
    "metrics = [Accuracy(\"val_acc\")]\n",
    "optimizer = optim.Adam\n",
    "lr =0.0001\n",
    "num_epochs = 25"
   ]
  },
  {
   "cell_type": "code",
   "execution_count": 15,
   "id": "6b210b51-8ff6-46ec-8156-4795f88cd968",
   "metadata": {},
   "outputs": [
    {
     "name": "stdout",
     "output_type": "stream",
     "text": [
      "----------------------------------------------------------------\n",
      "        Layer (type)               Output Shape         Param #\n",
      "================================================================\n",
      "            Conv2d-1           [-1, 32, 46, 46]             320\n",
      "         MaxPool2d-2           [-1, 32, 23, 23]               0\n",
      "       BatchNorm2d-3           [-1, 32, 23, 23]              64\n",
      "            Conv2d-4           [-1, 64, 21, 21]          18,496\n",
      "         MaxPool2d-5           [-1, 64, 11, 11]               0\n",
      "       BatchNorm2d-6           [-1, 64, 11, 11]             128\n",
      "            Conv2d-7            [-1, 128, 9, 9]          73,856\n",
      "         MaxPool2d-8            [-1, 128, 5, 5]               0\n",
      "       BatchNorm2d-9            [-1, 128, 5, 5]             256\n",
      "           Linear-10                  [-1, 256]         819,456\n",
      "           Linear-11                    [-1, 7]           1,799\n",
      "================================================================\n",
      "Total params: 914,375\n",
      "Trainable params: 914,375\n",
      "Non-trainable params: 0\n",
      "----------------------------------------------------------------\n",
      "Input size (MB): 0.01\n",
      "Forward/backward pass size (MB): 1.24\n",
      "Params size (MB): 3.49\n",
      "Estimated Total Size (MB): 4.74\n",
      "----------------------------------------------------------------\n"
     ]
    },
    {
     "name": "stderr",
     "output_type": "stream",
     "text": [
      "C:\\Users\\Franc\\AppData\\Local\\Temp\\ipykernel_5200\\3262377354.py:26: UserWarning: Implicit dimension choice for softmax has been deprecated. Change the call to include dim=X as an argument.\n",
      "  output = F.softmax(input = output)\n"
     ]
    }
   ],
   "source": [
    "net = Net(loss_function, metrics, len(classes))\n",
    "net.to(device)\n",
    "summary(net,(1,48,48))"
   ]
  },
  {
   "cell_type": "code",
   "execution_count": 16,
   "id": "94ef4dba-0260-4d4a-947b-52ecf388c783",
   "metadata": {},
   "outputs": [
    {
     "data": {
      "application/vnd.jupyter.widget-view+json": {
       "model_id": "fb9a8fb6be564a509fdf24c5644a8adb",
       "version_major": 2,
       "version_minor": 0
      },
      "text/plain": [
       "Current Epoch:   0%|          | 0/25 [00:00<?, ?it/s]"
      ]
     },
     "metadata": {},
     "output_type": "display_data"
    },
    {
     "data": {
      "application/vnd.jupyter.widget-view+json": {
       "model_id": "50869c3760f64fa3a59a44c167b03ee3",
       "version_major": 2,
       "version_minor": 0
      },
      "text/plain": [
       "Epoch: 0:   0%|          | 0/468 [00:00<?, ?it/s]"
      ]
     },
     "metadata": {},
     "output_type": "display_data"
    },
    {
     "name": "stderr",
     "output_type": "stream",
     "text": [
      "C:\\Users\\Franc\\AppData\\Local\\Temp\\ipykernel_5200\\3262377354.py:26: UserWarning: Implicit dimension choice for softmax has been deprecated. Change the call to include dim=X as an argument.\n",
      "  output = F.softmax(input = output)\n"
     ]
    },
    {
     "name": "stdout",
     "output_type": "stream",
     "text": [
      "Epoch [0], val_loss: 1.6629, val_acc: 0.4882, train_loss: 1.7556\n"
     ]
    },
    {
     "data": {
      "application/vnd.jupyter.widget-view+json": {
       "model_id": "ab8991b92df2481dab4de96478b0000d",
       "version_major": 2,
       "version_minor": 0
      },
      "text/plain": [
       "Epoch: 1:   0%|          | 0/468 [00:00<?, ?it/s]"
      ]
     },
     "metadata": {},
     "output_type": "display_data"
    },
    {
     "name": "stdout",
     "output_type": "stream",
     "text": [
      "Epoch [1], val_loss: 1.6266, val_acc: 0.5235, train_loss: 1.6465\n"
     ]
    },
    {
     "data": {
      "application/vnd.jupyter.widget-view+json": {
       "model_id": "78f7257796cf47bd80360bccac20f637",
       "version_major": 2,
       "version_minor": 0
      },
      "text/plain": [
       "Epoch: 2:   0%|          | 0/468 [00:00<?, ?it/s]"
      ]
     },
     "metadata": {},
     "output_type": "display_data"
    },
    {
     "name": "stdout",
     "output_type": "stream",
     "text": [
      "Epoch [2], val_loss: 1.6066, val_acc: 0.5391, train_loss: 1.6003\n"
     ]
    },
    {
     "data": {
      "application/vnd.jupyter.widget-view+json": {
       "model_id": "f13e98b74e13450e82acdd5b3724f64a",
       "version_major": 2,
       "version_minor": 0
      },
      "text/plain": [
       "Epoch: 3:   0%|          | 0/468 [00:00<?, ?it/s]"
      ]
     },
     "metadata": {},
     "output_type": "display_data"
    },
    {
     "name": "stdout",
     "output_type": "stream",
     "text": [
      "Epoch [3], val_loss: 1.6033, val_acc: 0.5555, train_loss: 1.5663\n"
     ]
    },
    {
     "data": {
      "application/vnd.jupyter.widget-view+json": {
       "model_id": "07d209d35da8427fa78ddb27d8f223aa",
       "version_major": 2,
       "version_minor": 0
      },
      "text/plain": [
       "Epoch: 4:   0%|          | 0/468 [00:00<?, ?it/s]"
      ]
     },
     "metadata": {},
     "output_type": "display_data"
    },
    {
     "name": "stdout",
     "output_type": "stream",
     "text": [
      "Epoch [4], val_loss: 1.5922, val_acc: 0.5670, train_loss: 1.5376\n"
     ]
    },
    {
     "data": {
      "application/vnd.jupyter.widget-view+json": {
       "model_id": "d41af7f05d08494cbf60f09c8658c29f",
       "version_major": 2,
       "version_minor": 0
      },
      "text/plain": [
       "Epoch: 5:   0%|          | 0/468 [00:00<?, ?it/s]"
      ]
     },
     "metadata": {},
     "output_type": "display_data"
    },
    {
     "name": "stdout",
     "output_type": "stream",
     "text": [
      "Epoch [5], val_loss: 1.5831, val_acc: 0.5845, train_loss: 1.5126\n"
     ]
    },
    {
     "data": {
      "application/vnd.jupyter.widget-view+json": {
       "model_id": "b901c66e3ba74f21b30fb8bcc37bad26",
       "version_major": 2,
       "version_minor": 0
      },
      "text/plain": [
       "Epoch: 6:   0%|          | 0/468 [00:00<?, ?it/s]"
      ]
     },
     "metadata": {},
     "output_type": "display_data"
    },
    {
     "name": "stdout",
     "output_type": "stream",
     "text": [
      "Epoch [6], val_loss: 1.5905, val_acc: 0.5725, train_loss: 1.4875\n"
     ]
    },
    {
     "data": {
      "application/vnd.jupyter.widget-view+json": {
       "model_id": "1b1e4ec62c06421780d05441be68a29f",
       "version_major": 2,
       "version_minor": 0
      },
      "text/plain": [
       "Epoch: 7:   0%|          | 0/468 [00:00<?, ?it/s]"
      ]
     },
     "metadata": {},
     "output_type": "display_data"
    },
    {
     "name": "stdout",
     "output_type": "stream",
     "text": [
      "Epoch [7], val_loss: 1.5947, val_acc: 0.5647, train_loss: 1.4654\n"
     ]
    },
    {
     "data": {
      "application/vnd.jupyter.widget-view+json": {
       "model_id": "b10a48a6ba634f2da4d63e9ec10a9600",
       "version_major": 2,
       "version_minor": 0
      },
      "text/plain": [
       "Epoch: 8:   0%|          | 0/468 [00:00<?, ?it/s]"
      ]
     },
     "metadata": {},
     "output_type": "display_data"
    },
    {
     "name": "stdout",
     "output_type": "stream",
     "text": [
      "Epoch [8], val_loss: 1.5928, val_acc: 0.5794, train_loss: 1.4467\n"
     ]
    },
    {
     "data": {
      "application/vnd.jupyter.widget-view+json": {
       "model_id": "067b502104594e12b825e4322083ed27",
       "version_major": 2,
       "version_minor": 0
      },
      "text/plain": [
       "Epoch: 9:   0%|          | 0/468 [00:00<?, ?it/s]"
      ]
     },
     "metadata": {},
     "output_type": "display_data"
    },
    {
     "name": "stdout",
     "output_type": "stream",
     "text": [
      "Epoch [9], val_loss: 1.6036, val_acc: 0.5659, train_loss: 1.4287\n"
     ]
    },
    {
     "data": {
      "application/vnd.jupyter.widget-view+json": {
       "model_id": "bb9a4f483a2b44d898b9b5cbcc22d949",
       "version_major": 2,
       "version_minor": 0
      },
      "text/plain": [
       "Epoch: 10:   0%|          | 0/468 [00:00<?, ?it/s]"
      ]
     },
     "metadata": {},
     "output_type": "display_data"
    },
    {
     "name": "stdout",
     "output_type": "stream",
     "text": [
      "Epoch [10], val_loss: 1.6067, val_acc: 0.5643, train_loss: 1.4127\n"
     ]
    },
    {
     "data": {
      "application/vnd.jupyter.widget-view+json": {
       "model_id": "43170c314830424095ecd5f3e874d611",
       "version_major": 2,
       "version_minor": 0
      },
      "text/plain": [
       "Epoch: 11:   0%|          | 0/468 [00:00<?, ?it/s]"
      ]
     },
     "metadata": {},
     "output_type": "display_data"
    },
    {
     "name": "stdout",
     "output_type": "stream",
     "text": [
      "Epoch [11], val_loss: 1.5851, val_acc: 0.5789, train_loss: 1.3967\n"
     ]
    },
    {
     "data": {
      "application/vnd.jupyter.widget-view+json": {
       "model_id": "222efc9a80b744dca53deda6b03d64ef",
       "version_major": 2,
       "version_minor": 0
      },
      "text/plain": [
       "Epoch: 12:   0%|          | 0/468 [00:00<?, ?it/s]"
      ]
     },
     "metadata": {},
     "output_type": "display_data"
    },
    {
     "name": "stdout",
     "output_type": "stream",
     "text": [
      "Epoch [12], val_loss: 1.5882, val_acc: 0.5823, train_loss: 1.3831\n"
     ]
    },
    {
     "data": {
      "application/vnd.jupyter.widget-view+json": {
       "model_id": "b4aa4946394a4952a0601a7595146b10",
       "version_major": 2,
       "version_minor": 0
      },
      "text/plain": [
       "Epoch: 13:   0%|          | 0/468 [00:00<?, ?it/s]"
      ]
     },
     "metadata": {},
     "output_type": "display_data"
    },
    {
     "name": "stdout",
     "output_type": "stream",
     "text": [
      "Epoch [13], val_loss: 1.5887, val_acc: 0.5732, train_loss: 1.3725\n"
     ]
    },
    {
     "data": {
      "application/vnd.jupyter.widget-view+json": {
       "model_id": "c4f1a9ec9efe4b5198ac0ab8d2caa6b8",
       "version_major": 2,
       "version_minor": 0
      },
      "text/plain": [
       "Epoch: 14:   0%|          | 0/468 [00:00<?, ?it/s]"
      ]
     },
     "metadata": {},
     "output_type": "display_data"
    },
    {
     "name": "stdout",
     "output_type": "stream",
     "text": [
      "Epoch [14], val_loss: 1.5929, val_acc: 0.5705, train_loss: 1.3615\n"
     ]
    },
    {
     "data": {
      "application/vnd.jupyter.widget-view+json": {
       "model_id": "849bcdf81f2e4ac0ab682ff239162438",
       "version_major": 2,
       "version_minor": 0
      },
      "text/plain": [
       "Epoch: 15:   0%|          | 0/468 [00:00<?, ?it/s]"
      ]
     },
     "metadata": {},
     "output_type": "display_data"
    },
    {
     "name": "stdout",
     "output_type": "stream",
     "text": [
      "Epoch [15], val_loss: 1.6001, val_acc: 0.5687, train_loss: 1.3516\n"
     ]
    },
    {
     "data": {
      "application/vnd.jupyter.widget-view+json": {
       "model_id": "90707d5e119541beb8f06b27b8f55ee2",
       "version_major": 2,
       "version_minor": 0
      },
      "text/plain": [
       "Epoch: 16:   0%|          | 0/468 [00:00<?, ?it/s]"
      ]
     },
     "metadata": {},
     "output_type": "display_data"
    },
    {
     "name": "stdout",
     "output_type": "stream",
     "text": [
      "Epoch [16], val_loss: 1.5896, val_acc: 0.5718, train_loss: 1.3429\n"
     ]
    },
    {
     "data": {
      "application/vnd.jupyter.widget-view+json": {
       "model_id": "e8ca4de7f5b54e07a8837dfb0e82a556",
       "version_major": 2,
       "version_minor": 0
      },
      "text/plain": [
       "Epoch: 17:   0%|          | 0/468 [00:00<?, ?it/s]"
      ]
     },
     "metadata": {},
     "output_type": "display_data"
    },
    {
     "name": "stdout",
     "output_type": "stream",
     "text": [
      "Epoch [17], val_loss: 1.5698, val_acc: 0.5829, train_loss: 1.3365\n"
     ]
    },
    {
     "data": {
      "application/vnd.jupyter.widget-view+json": {
       "model_id": "43cd2527a549458095631c36d51f68e5",
       "version_major": 2,
       "version_minor": 0
      },
      "text/plain": [
       "Epoch: 18:   0%|          | 0/468 [00:00<?, ?it/s]"
      ]
     },
     "metadata": {},
     "output_type": "display_data"
    },
    {
     "name": "stdout",
     "output_type": "stream",
     "text": [
      "Epoch [18], val_loss: 1.5889, val_acc: 0.5877, train_loss: 1.3297\n"
     ]
    },
    {
     "data": {
      "application/vnd.jupyter.widget-view+json": {
       "model_id": "74dc5c74ca34463cb66e1d6cbe89dd8a",
       "version_major": 2,
       "version_minor": 0
      },
      "text/plain": [
       "Epoch: 19:   0%|          | 0/468 [00:00<?, ?it/s]"
      ]
     },
     "metadata": {},
     "output_type": "display_data"
    },
    {
     "name": "stdout",
     "output_type": "stream",
     "text": [
      "Epoch [19], val_loss: 1.5958, val_acc: 0.5683, train_loss: 1.3238\n"
     ]
    },
    {
     "data": {
      "application/vnd.jupyter.widget-view+json": {
       "model_id": "993afd6c7d104341b56df0912780d550",
       "version_major": 2,
       "version_minor": 0
      },
      "text/plain": [
       "Epoch: 20:   0%|          | 0/468 [00:00<?, ?it/s]"
      ]
     },
     "metadata": {},
     "output_type": "display_data"
    },
    {
     "name": "stdout",
     "output_type": "stream",
     "text": [
      "Epoch [20], val_loss: 1.5838, val_acc: 0.5611, train_loss: 1.3196\n"
     ]
    },
    {
     "data": {
      "application/vnd.jupyter.widget-view+json": {
       "model_id": "b0f111ba69db4f988082e463fb437a7c",
       "version_major": 2,
       "version_minor": 0
      },
      "text/plain": [
       "Epoch: 21:   0%|          | 0/468 [00:00<?, ?it/s]"
      ]
     },
     "metadata": {},
     "output_type": "display_data"
    },
    {
     "name": "stdout",
     "output_type": "stream",
     "text": [
      "Epoch [21], val_loss: 1.6086, val_acc: 0.5526, train_loss: 1.3152\n"
     ]
    },
    {
     "data": {
      "application/vnd.jupyter.widget-view+json": {
       "model_id": "dc9508eea6674c5baac4c1fdc0f863a3",
       "version_major": 2,
       "version_minor": 0
      },
      "text/plain": [
       "Epoch: 22:   0%|          | 0/468 [00:00<?, ?it/s]"
      ]
     },
     "metadata": {},
     "output_type": "display_data"
    },
    {
     "name": "stdout",
     "output_type": "stream",
     "text": [
      "Epoch [22], val_loss: 1.5986, val_acc: 0.5645, train_loss: 1.3118\n"
     ]
    },
    {
     "data": {
      "application/vnd.jupyter.widget-view+json": {
       "model_id": "33f98b2b93af4c15949ab557c2574280",
       "version_major": 2,
       "version_minor": 0
      },
      "text/plain": [
       "Epoch: 23:   0%|          | 0/468 [00:00<?, ?it/s]"
      ]
     },
     "metadata": {},
     "output_type": "display_data"
    },
    {
     "name": "stdout",
     "output_type": "stream",
     "text": [
      "Epoch [23], val_loss: 1.5877, val_acc: 0.5661, train_loss: 1.3089\n"
     ]
    },
    {
     "data": {
      "application/vnd.jupyter.widget-view+json": {
       "model_id": "c5446bd1377a459c86878b28be1f0369",
       "version_major": 2,
       "version_minor": 0
      },
      "text/plain": [
       "Epoch: 24:   0%|          | 0/468 [00:00<?, ?it/s]"
      ]
     },
     "metadata": {},
     "output_type": "display_data"
    },
    {
     "name": "stdout",
     "output_type": "stream",
     "text": [
      "Epoch [24], val_loss: 1.6071, val_acc: 0.5649, train_loss: 1.3045\n"
     ]
    }
   ],
   "source": [
    "history = fit(num_epochs, lr, net, train_dl, test_dl, optimizer)"
   ]
  },
  {
   "cell_type": "markdown",
   "id": "bb2ca953",
   "metadata": {},
   "source": [
    "## Save/Load model"
   ]
  },
  {
   "cell_type": "code",
   "execution_count": 17,
   "id": "5f771f74",
   "metadata": {},
   "outputs": [],
   "source": [
    "if not os.path.isdir(models_directory):\n",
    "    os.makedirs(name = models_directory)\n",
    "model_path = os.path.join(models_directory,f\"classifier_{dataset_name}.pt\")\n"
   ]
  },
  {
   "cell_type": "code",
   "execution_count": 18,
   "id": "5f28e342",
   "metadata": {},
   "outputs": [],
   "source": [
    "torch.save(net.state_dict(), model_path)"
   ]
  },
  {
   "cell_type": "code",
   "execution_count": 19,
   "id": "e9cc002d",
   "metadata": {},
   "outputs": [
    {
     "data": {
      "text/plain": [
       "Net(\n",
       "  (loss_function): CrossEntropyLoss()\n",
       "  (conv1): Conv2d(1, 32, kernel_size=(3, 3), stride=(1, 1))\n",
       "  (pool1): MaxPool2d(kernel_size=3, stride=2, padding=1, dilation=1, ceil_mode=False)\n",
       "  (norm1): BatchNorm2d(32, eps=1e-05, momentum=0.1, affine=True, track_running_stats=True)\n",
       "  (conv2): Conv2d(32, 64, kernel_size=(3, 3), stride=(1, 1))\n",
       "  (pool2): MaxPool2d(kernel_size=3, stride=2, padding=1, dilation=1, ceil_mode=False)\n",
       "  (norm2): BatchNorm2d(64, eps=1e-05, momentum=0.1, affine=True, track_running_stats=True)\n",
       "  (conv3): Conv2d(64, 128, kernel_size=(3, 3), stride=(1, 1))\n",
       "  (pool3): MaxPool2d(kernel_size=3, stride=2, padding=1, dilation=1, ceil_mode=False)\n",
       "  (norm3): BatchNorm2d(128, eps=1e-05, momentum=0.1, affine=True, track_running_stats=True)\n",
       "  (fc1): Linear(in_features=3200, out_features=256, bias=True)\n",
       "  (fc): Linear(in_features=256, out_features=7, bias=True)\n",
       ")"
      ]
     },
     "execution_count": 19,
     "metadata": {},
     "output_type": "execute_result"
    }
   ],
   "source": [
    "net = Net(loss_function, metrics, len(classes))\n",
    "net.load_state_dict(torch.load(model_path))\n",
    "net.eval()\n",
    "net.cuda()"
   ]
  },
  {
   "cell_type": "markdown",
   "id": "236fc3f4",
   "metadata": {},
   "source": [
    "## Model testing"
   ]
  },
  {
   "cell_type": "code",
   "execution_count": 20,
   "id": "1403cef9-c12a-4e66-9565-7f8b7eaf2f38",
   "metadata": {},
   "outputs": [
    {
     "data": {
      "application/vnd.jupyter.widget-view+json": {
       "model_id": "d28cbf6f3a8e421d82c93aef139eb274",
       "version_major": 2,
       "version_minor": 0
      },
      "text/plain": [
       "  0%|          | 0/11 [00:00<?, ?it/s]"
      ]
     },
     "metadata": {},
     "output_type": "display_data"
    },
    {
     "name": "stderr",
     "output_type": "stream",
     "text": [
      "C:\\Users\\Franc\\AppData\\Local\\Temp\\ipykernel_5200\\3262377354.py:26: UserWarning: Implicit dimension choice for softmax has been deprecated. Change the call to include dim=X as an argument.\n",
      "  output = F.softmax(input = output)\n"
     ]
    }
   ],
   "source": [
    "y_test = []\n",
    "y_scores = []\n",
    "\n",
    "# since we're not training, we don't need to calculate the gradients for our outputs\n",
    "with torch.no_grad():\n",
    "    for data in tqdm(test_dl):\n",
    "        images, labels = data[0].to(device), data[1].to(device)\n",
    "        # calculate outputs by running images through the network\n",
    "        outputs = net(images)\n",
    "\n",
    "        # the class with the highest energy is what we choose as prediction\n",
    "        _, predicted = torch.max(outputs.data, 1)\n",
    "\n",
    "        y_test.extend(labels.tolist())\n",
    "        y_scores.extend(outputs.tolist())\n",
    "\n",
    "y_test = np.array(y_test)\n",
    "y_scores = np.array(y_scores)\n"
   ]
  },
  {
   "cell_type": "markdown",
   "id": "fdc366c3",
   "metadata": {},
   "source": [
    "### Network Accuracy"
   ]
  },
  {
   "cell_type": "code",
   "execution_count": 21,
   "id": "158b7789-29fe-43c3-9821-11cb5215fb60",
   "metadata": {},
   "outputs": [
    {
     "name": "stdout",
     "output_type": "stream",
     "text": [
      "Overall accuracy: 56.42857142857143 %\n",
      "Accuracy per class:\n",
      "angry     : 46.0 %\n",
      "disgust   : 52.0 %\n",
      "fear      : 33.0 %\n",
      "happy     : 76.0 %\n",
      "neutral   : 59.0 %\n",
      "sad       : 50.0 %\n",
      "surprise  : 79.0 %\n"
     ]
    }
   ],
   "source": [
    "# Overall accuracy\n",
    "\n",
    "n_test = y_test.shape[0]\n",
    "predicted = np.argmax(y_scores,axis=1)\n",
    "mean_acc = np.sum(predicted == y_test) / n_test\n",
    "class_acc = []\n",
    "\n",
    "print(f'Overall accuracy: {100 * mean_acc } %')\n",
    "\n",
    "# Accuracy per class\n",
    "\n",
    "correct_pred = {classname: 0 for classname in classes}\n",
    "total_pred = {classname: 0 for classname in classes}\n",
    "\n",
    "# collect the correct predictions for each class\n",
    "for label, prediction in zip(y_test, predicted):\n",
    "    if label == prediction:\n",
    "        correct_pred[classes[label]] += 1\n",
    "    total_pred[classes[label]] += 1\n",
    "\n",
    "\n",
    "# print accuracy for each class\n",
    "print(\"Accuracy per class:\")\n",
    "for classname, correct_count in correct_pred.items():\n",
    "    accuracy = float(correct_count) / total_pred[classname]\n",
    "    class_acc.append(accuracy)\n",
    "    print(f'{classname:9s} : {accuracy * 100:.1f} %')"
   ]
  },
  {
   "cell_type": "markdown",
   "id": "7478b8a1",
   "metadata": {},
   "source": [
    "# ROC/AUC"
   ]
  },
  {
   "cell_type": "code",
   "execution_count": 22,
   "id": "a8017ba3",
   "metadata": {},
   "outputs": [
    {
     "data": {
      "image/png": "[encoded data removed]",
      "text/plain": [
       "<Figure size 432x288 with 1 Axes>"
      ]
     },
     "metadata": {
      "needs_background": "light"
     },
     "output_type": "display_data"
    },
    {
     "data": {
      "image/png": "[encoded data removed]",
      "text/plain": [
       "<Figure size 432x288 with 1 Axes>"
      ]
     },
     "metadata": {
      "needs_background": "light"
     },
     "output_type": "display_data"
    },
    {
     "data": {
      "image/png": "[encoded data removed]",
      "text/plain": [
       "<Figure size 432x288 with 1 Axes>"
      ]
     },
     "metadata": {
      "needs_background": "light"
     },
     "output_type": "display_data"
    },
    {
     "data": {
      "image/png": "[encoded data removed]",
      "text/plain": [
       "<Figure size 432x288 with 1 Axes>"
      ]
     },
     "metadata": {
      "needs_background": "light"
     },
     "output_type": "display_data"
    },
    {
     "data": {
      "image/png": "[encoded data removed]",
      "text/plain": [
       "<Figure size 432x288 with 1 Axes>"
      ]
     },
     "metadata": {
      "needs_background": "light"
     },
     "output_type": "display_data"
    },
    {
     "data": {
      "image/png": "[encoded data removed]",
      "text/plain": [
       "<Figure size 432x288 with 1 Axes>"
      ]
     },
     "metadata": {
      "needs_background": "light"
     },
     "output_type": "display_data"
    },
    {
     "data": {
      "image/png": "[encoded data removed]",
      "text/plain": [
       "<Figure size 432x288 with 1 Axes>"
      ]
     },
     "metadata": {
      "needs_background": "light"
     },
     "output_type": "display_data"
    }
   ],
   "source": [
    "\n",
    "\n",
    "# Compute ROC curve and ROC area for each class\n",
    "fpr = dict()\n",
    "tpr = dict()\n",
    "ths = dict()\n",
    "roc_auc = dict()\n",
    "for i,_ in enumerate(classes):\n",
    "    fpr[i], tpr[i], ths[i] = roc_curve(y_test == i, y_scores[:,i])\n",
    "    roc_auc[i] = auc(fpr[i], tpr[i])\n",
    "\n",
    "# Plot of a ROC curve for a specific class\n",
    "for i,c in enumerate(classes):\n",
    "    plt.figure()\n",
    "    plt.plot(fpr[i], tpr[i], label='ROC curve (area = %0.2f)' % roc_auc[i])\n",
    "    plt.plot([0, 1], [0, 1], 'k--')\n",
    "    plt.xlim([0.0, 1.0])\n",
    "    plt.ylim([0.0, 1.05])\n",
    "    plt.xlabel('False Positive Rate')\n",
    "    plt.ylabel('True Positive Rate')\n",
    "    plt.title(f'ROC {c}')\n",
    "    plt.legend(loc=\"lower right\")\n",
    "    plt.show()"
   ]
  },
  {
   "cell_type": "code",
   "execution_count": 23,
   "id": "aa2f66f9",
   "metadata": {},
   "outputs": [
    {
     "name": "stdout",
     "output_type": "stream",
     "text": [
      "Mean AUC: 85.25226190476191 %\n",
      "Per classs AUC:\n",
      "angry     : 79.08 %\n",
      "disgust   : 90.89 %\n",
      "fear      : 73.08 %\n",
      "happy     : 92.39 %\n",
      "neutral   : 85.03 %\n",
      "sad       : 82.61 %\n",
      "surprise  : 93.70 %\n"
     ]
    }
   ],
   "source": [
    "mean_auc = np.mean(list(roc_auc.values()))\n",
    "print(f\"Mean AUC: { mean_auc * 100} %\")\n",
    "\n",
    "print(\"Per classs AUC:\")\n",
    "for i,c in enumerate(classes):\n",
    "    print(f'{c:9s} : {roc_auc[i]*100:.2f} %')"
   ]
  },
  {
   "cell_type": "markdown",
   "id": "bbe8f59a",
   "metadata": {},
   "source": [
    "## Save metrics"
   ]
  },
  {
   "cell_type": "code",
   "execution_count": 24,
   "id": "439c3991",
   "metadata": {},
   "outputs": [],
   "source": [
    "columns=[\"exp name\", \"mean AUC\", \"angry AUC\", \"disgust AUC\", \"fear AUC\", \"happy AUC\", \"neautral AUC\", \"sad AUC\", \"surprise AUC\", \"mean ACC\", \"angry ACC\", \"disgust ACC\", \"fear ACC\", \"happy ACC\", \"neautral ACC\", \"sad ACC\", \"surprise ACC\"]"
   ]
  },
  {
   "cell_type": "code",
   "execution_count": 25,
   "id": "4bbc7ad0",
   "metadata": {},
   "outputs": [],
   "source": [
    "exp = [dataset_name, mean_auc]\n",
    "exp += list(roc_auc.values())\n",
    "exp += [mean_acc]\n",
    "exp += class_acc"
   ]
  },
  {
   "cell_type": "code",
   "execution_count": 28,
   "id": "6dfac9df",
   "metadata": {},
   "outputs": [
    {
     "data": {
      "text/html": [
       "<div>\n",
       "<style scoped>\n",
       "    .dataframe tbody tr th:only-of-type {\n",
       "        vertical-align: middle;\n",
       "    }\n",
       "\n",
       "    .dataframe tbody tr th {\n",
       "        vertical-align: top;\n",
       "    }\n",
       "\n",
       "    .dataframe thead th {\n",
       "        text-align: right;\n",
       "    }\n",
       "</style>\n",
       "<table border=\"1\" class=\"dataframe\">\n",
       "  <thead>\n",
       "    <tr style=\"text-align: right;\">\n",
       "      <th></th>\n",
       "      <th>exp name</th>\n",
       "      <th>mean AUC</th>\n",
       "      <th>angry AUC</th>\n",
       "      <th>disgust AUC</th>\n",
       "      <th>fear AUC</th>\n",
       "      <th>happy AUC</th>\n",
       "      <th>neautral AUC</th>\n",
       "      <th>sad AUC</th>\n",
       "      <th>surprise AUC</th>\n",
       "      <th>mean ACC</th>\n",
       "      <th>angry ACC</th>\n",
       "      <th>disgust ACC</th>\n",
       "      <th>fear ACC</th>\n",
       "      <th>happy ACC</th>\n",
       "      <th>neautral ACC</th>\n",
       "      <th>sad ACC</th>\n",
       "      <th>surprise ACC</th>\n",
       "    </tr>\n",
       "  </thead>\n",
       "  <tbody>\n",
       "    <tr>\n",
       "      <th>0</th>\n",
       "      <td>Fer2013_Aug_Disgust_E_uniform</td>\n",
       "      <td>0.855057</td>\n",
       "      <td>0.798417</td>\n",
       "      <td>0.889717</td>\n",
       "      <td>0.765533</td>\n",
       "      <td>0.928925</td>\n",
       "      <td>0.834992</td>\n",
       "      <td>0.820217</td>\n",
       "      <td>0.947600</td>\n",
       "      <td>0.567143</td>\n",
       "      <td>0.47</td>\n",
       "      <td>0.52</td>\n",
       "      <td>0.41</td>\n",
       "      <td>0.76</td>\n",
       "      <td>0.53</td>\n",
       "      <td>0.49</td>\n",
       "      <td>0.79</td>\n",
       "    </tr>\n",
       "    <tr>\n",
       "      <th>0</th>\n",
       "      <td>Fer2013_uniform</td>\n",
       "      <td>0.859254</td>\n",
       "      <td>0.806867</td>\n",
       "      <td>0.917383</td>\n",
       "      <td>0.739967</td>\n",
       "      <td>0.932842</td>\n",
       "      <td>0.842558</td>\n",
       "      <td>0.835200</td>\n",
       "      <td>0.939958</td>\n",
       "      <td>0.597143</td>\n",
       "      <td>0.47</td>\n",
       "      <td>0.64</td>\n",
       "      <td>0.43</td>\n",
       "      <td>0.76</td>\n",
       "      <td>0.55</td>\n",
       "      <td>0.52</td>\n",
       "      <td>0.81</td>\n",
       "    </tr>\n",
       "    <tr>\n",
       "      <th>0</th>\n",
       "      <td>Fer2013_Aug_Disgust_uniform_e_03_identity</td>\n",
       "      <td>0.862043</td>\n",
       "      <td>0.798542</td>\n",
       "      <td>0.905367</td>\n",
       "      <td>0.764433</td>\n",
       "      <td>0.938250</td>\n",
       "      <td>0.850183</td>\n",
       "      <td>0.833917</td>\n",
       "      <td>0.943608</td>\n",
       "      <td>0.580000</td>\n",
       "      <td>0.46</td>\n",
       "      <td>0.58</td>\n",
       "      <td>0.39</td>\n",
       "      <td>0.79</td>\n",
       "      <td>0.58</td>\n",
       "      <td>0.49</td>\n",
       "      <td>0.77</td>\n",
       "    </tr>\n",
       "    <tr>\n",
       "      <th>0</th>\n",
       "      <td>Fer2013_Aug_Disgust_uniform_e_03_identity</td>\n",
       "      <td>0.852523</td>\n",
       "      <td>0.790758</td>\n",
       "      <td>0.908850</td>\n",
       "      <td>0.730817</td>\n",
       "      <td>0.923875</td>\n",
       "      <td>0.850300</td>\n",
       "      <td>0.826100</td>\n",
       "      <td>0.936958</td>\n",
       "      <td>0.564286</td>\n",
       "      <td>0.46</td>\n",
       "      <td>0.52</td>\n",
       "      <td>0.33</td>\n",
       "      <td>0.76</td>\n",
       "      <td>0.59</td>\n",
       "      <td>0.50</td>\n",
       "      <td>0.79</td>\n",
       "    </tr>\n",
       "  </tbody>\n",
       "</table>\n",
       "</div>"
      ],
      "text/plain": [
       "                                    exp name  mean AUC  angry AUC  \\\n",
       "0              Fer2013_Aug_Disgust_E_uniform  0.855057   0.798417   \n",
       "0                            Fer2013_uniform  0.859254   0.806867   \n",
       "0  Fer2013_Aug_Disgust_uniform_e_03_identity  0.862043   0.798542   \n",
       "0  Fer2013_Aug_Disgust_uniform_e_03_identity  0.852523   0.790758   \n",
       "\n",
       "   disgust AUC  fear AUC  happy AUC  neautral AUC   sad AUC  surprise AUC  \\\n",
       "0     0.889717  0.765533   0.928925      0.834992  0.820217      0.947600   \n",
       "0     0.917383  0.739967   0.932842      0.842558  0.835200      0.939958   \n",
       "0     0.905367  0.764433   0.938250      0.850183  0.833917      0.943608   \n",
       "0     0.908850  0.730817   0.923875      0.850300  0.826100      0.936958   \n",
       "\n",
       "   mean ACC  angry ACC  disgust ACC  fear ACC  happy ACC  neautral ACC  \\\n",
       "0  0.567143       0.47         0.52      0.41       0.76          0.53   \n",
       "0  0.597143       0.47         0.64      0.43       0.76          0.55   \n",
       "0  0.580000       0.46         0.58      0.39       0.79          0.58   \n",
       "0  0.564286       0.46         0.52      0.33       0.76          0.59   \n",
       "\n",
       "   sad ACC  surprise ACC  \n",
       "0     0.49          0.79  \n",
       "0     0.52          0.81  \n",
       "0     0.49          0.77  \n",
       "0     0.50          0.79  "
      ]
     },
     "execution_count": 28,
     "metadata": {},
     "output_type": "execute_result"
    }
   ],
   "source": [
    "try:\n",
    "    df = pd.read_csv(os.path.join(metrics_directory, metrics_name),index_col=0)\n",
    "except FileNotFoundError:\n",
    "    df = pd.DataFrame(columns = columns)\n",
    "\n",
    "df_new = pd.DataFrame( np.array([exp]), columns=columns)\n",
    "\n",
    "df = pd.concat([df,df_new])\n",
    "df"
   ]
  },
  {
   "cell_type": "code",
   "execution_count": 27,
   "id": "d202fe7c",
   "metadata": {},
   "outputs": [],
   "source": [
    "if not os.path.isdir(metrics_directory):\n",
    "    os.makedirs(name = metrics_directory)\n",
    "df.to_csv(os.path.join(metrics_directory, metrics_name))"
   ]
  },
  {
   "cell_type": "code",
   "execution_count": null,
   "id": "4f6a75c8",
   "metadata": {},
   "outputs": [],
   "source": []
  }
 ],
 "metadata": {
  "kernelspec": {
   "display_name": "Python 3.9.13 64-bit (system)",
   "language": "python",
   "name": "python3"
  },
  "language_info": {
   "codemirror_mode": {
    "name": "ipython",
    "version": 3
   },
   "file_extension": ".py",
   "mimetype": "text/x-python",
   "name": "python",
   "nbconvert_exporter": "python",
   "pygments_lexer": "ipython3",
   "version": "3.9.13"
  },
  "vscode": {
   "interpreter": {
    "hash": "4c1f182555212a9854645afbacc562781dae715ef930cf4cbb779c01705a033a"
   }
  }
 },
 "nbformat": 4,
 "nbformat_minor": 5
}
