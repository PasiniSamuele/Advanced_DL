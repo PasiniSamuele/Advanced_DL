{
 "cells": [
  {
   "cell_type": "markdown",
   "id": "64b0897f",
   "metadata": {},
   "source": [
    "# Classifier"
   ]
  },
  {
   "cell_type": "markdown",
   "id": "08a9de04",
   "metadata": {},
   "source": [
    "## Import libraries"
   ]
  },
  {
   "cell_type": "code",
   "execution_count": 1,
   "id": "f30487ab-c2a7-4231-80cd-942fbc97e0a4",
   "metadata": {},
   "outputs": [],
   "source": [
    "import torch\n",
    "import torch.nn as nn\n",
    "import torch.nn.functional as F\n",
    "import torch.optim as optim\n",
    "import os\n",
    "from tqdm.notebook import tqdm, trange\n",
    "from time import sleep\n",
    "from torchvision.io import read_image\n",
    "from torchvision.transforms import ToTensor\n",
    "from torchvision import transforms\n",
    "from torchsummary import summary\n",
    "from torch.utils.data import DataLoader\n",
    "from torchvision.datasets import ImageFolder\n",
    "from collections import Counter\n",
    "import numpy as np\n",
    "from sklearn.metrics import roc_curve, auc\n",
    "from sklearn import datasets\n",
    "from sklearn.multiclass import OneVsRestClassifier\n",
    "from sklearn.svm import LinearSVC\n",
    "from sklearn.preprocessing import label_binarize\n",
    "from sklearn.model_selection import train_test_split\n",
    "import matplotlib.pyplot as plt\n",
    "import pandas as pd\n",
    "from sklearn.model_selection import StratifiedKFold\n"
   ]
  },
  {
   "cell_type": "code",
   "execution_count": 40,
   "id": "b0cc28d1",
   "metadata": {},
   "outputs": [],
   "source": [
    "seed = 23\n",
    "save_model = True\n",
    "load_model = False\n",
    "\n",
    "models_directory = \"models\"\n",
    "metrics_directory = \"metrics\"\n",
    "metrics_name = \"metrics.csv\"\n",
    "dataset_name = \"Fer2013_Aug_Disgust_uniform_e_03_identity\"\n",
    "train_df_path = f\"../datasets/{dataset_name}/train\"\n",
    "test_df_path = f\"../datasets/{dataset_name}/test\"\n",
    "\n",
    "batch_size = 64"
   ]
  },
  {
   "cell_type": "markdown",
   "id": "ed5c4b34",
   "metadata": {},
   "source": [
    "## Functions definition"
   ]
  },
  {
   "cell_type": "code",
   "execution_count": 3,
   "id": "084cd3c3-e57c-434e-9669-2ff06fa1d080",
   "metadata": {},
   "outputs": [],
   "source": [
    "def get_default_device():\n",
    "    \"\"\"Pick GPU if available, else CPU\"\"\"\n",
    "    if torch.cuda.is_available():\n",
    "        return torch.device('cuda')\n",
    "    else:\n",
    "        return torch.device('cpu')\n",
    "    \n",
    "def to_device(data, device):\n",
    "    \"\"\"Move tensor(s) to chosen device\"\"\"\n",
    "    if isinstance(data, (list,tuple)):\n",
    "        return [to_device(x, device) for x in data]\n",
    "    return data.to(device, non_blocking=True)"
   ]
  },
  {
   "cell_type": "code",
   "execution_count": 4,
   "id": "e0a6ad2d-46c4-4553-94e6-5459666c6a9e",
   "metadata": {},
   "outputs": [],
   "source": [
    "@torch.no_grad()\n",
    "def evaluate(model, val_loader):\n",
    "    model.eval()\n",
    "    outputs = [model.validation_step(batch) for batch in val_loader]\n",
    "    return model.validation_epoch_end(outputs)\n",
    "\n",
    "def get_lr(optimizer):\n",
    "    for param_group in optimizer.param_groups:\n",
    "        return param_group['lr']\n",
    "\n",
    "def fit(epochs, lr, model, train_loader, val_loader, opt_func=torch.optim.SGD, scheduler_func=None):\n",
    "    history = []\n",
    "    optimizer = opt_func(model.parameters(), lr, betas=(0.5,0.999))\n",
    "    scheduler = scheduler_func(optimizer, mode='min', patience=3)\n",
    "    for epoch in tqdm(range(epochs), desc = \"Current Epoch\"):\n",
    "        # Training Phase \n",
    "        model.train()\n",
    "        train_losses = []\n",
    "        for batch in tqdm(train_loader, desc = f\"Epoch: {epoch}\", leave= False):\n",
    "            optimizer.zero_grad()\n",
    "            loss = model.training_step(batch)\n",
    "            train_losses.append(loss)\n",
    "            loss.backward()\n",
    "            optimizer.step()\n",
    "        # Validation phase\n",
    "        result = evaluate(model, val_loader)\n",
    "        result['train_loss'] = torch.stack(train_losses).mean().item()\n",
    "\n",
    "        scheduler.step(result['val_loss'])\n",
    "        result['lrate'] = get_lr(optimizer)\n",
    "\n",
    "        model.epoch_end(epoch, result)\n",
    "        history.append(result)\n",
    "    return history"
   ]
  },
  {
   "cell_type": "markdown",
   "id": "ca246c54",
   "metadata": {},
   "source": [
    "## Class definition"
   ]
  },
  {
   "cell_type": "code",
   "execution_count": 5,
   "id": "30e57e57",
   "metadata": {},
   "outputs": [],
   "source": [
    "class DeviceDataLoader():\n",
    "    \"\"\"Wrap a dataloader to move data to a device\"\"\"\n",
    "    def __init__(self, dl, device):\n",
    "        self.dl = dl\n",
    "        self.device = device\n",
    "        \n",
    "    def __iter__(self):\n",
    "        \"\"\"Yield a batch of data after moving it to device\"\"\"\n",
    "        for b in self.dl: \n",
    "            yield to_device(b, self.device)\n",
    "\n",
    "    def __len__(self):\n",
    "        \"\"\"Number of batches\"\"\"\n",
    "        return len(self.dl)"
   ]
  },
  {
   "cell_type": "code",
   "execution_count": 6,
   "id": "1042dd71-2d30-4b9e-b7fd-dc0178421675",
   "metadata": {},
   "outputs": [],
   "source": [
    "class Metric():\n",
    "    def __init__(self, name):\n",
    "        self.name = name\n",
    "    \n",
    "    def eval(self, outputs, labels):\n",
    "        pass"
   ]
  },
  {
   "cell_type": "code",
   "execution_count": 7,
   "id": "6ab563e9-aeac-45c8-a5da-e99f8cbc54ca",
   "metadata": {},
   "outputs": [],
   "source": [
    "class Accuracy(Metric):\n",
    "    \n",
    "    def eval(self, outputs, labels):\n",
    "        _, preds = torch.max(outputs, dim=1)\n",
    "        return torch.tensor(torch.sum(preds == labels).item() / len(preds))"
   ]
  },
  {
   "cell_type": "code",
   "execution_count": 8,
   "id": "1977248f-bcac-4d98-806b-013f3fa7e6f4",
   "metadata": {},
   "outputs": [],
   "source": [
    "class ImageClassificationBase(nn.Module):\n",
    "    \n",
    "    def __init__(self, loss_function, metrics):\n",
    "        super().__init__()\n",
    "        self.loss_function = loss_function\n",
    "        self.metrics = metrics\n",
    "    \n",
    "    def training_step(self, batch):\n",
    "        images, labels = batch \n",
    "        out = self(images)                  # Generate predictions\n",
    "        loss = self.loss_function(out, labels) # Calculate loss\n",
    "        return loss\n",
    "    \n",
    "    def validation_step(self, batch):\n",
    "        images, labels = batch \n",
    "        out = self(images)                    # Generate predictions\n",
    "        loss = self.loss_function(out, labels)   # Calculate loss\n",
    "        result = {'val_loss': loss.detach()}\n",
    "        \n",
    "        for m in self.metrics:\n",
    "            result[m.name] = m.eval(out, labels)           # Calculate metrics\n",
    "            \n",
    "        return result\n",
    "        \n",
    "    def validation_epoch_end(self, outputs):\n",
    "        batch_losses = [x['val_loss'] for x in outputs]\n",
    "        epoch_loss = torch.stack(batch_losses).mean()   # Combine losses\n",
    "        \n",
    "        result = {'val_loss': epoch_loss.item()}\n",
    "        \n",
    "        for m in self.metrics:\n",
    "            batch = [x[m.name] for x in outputs]\n",
    "            epoch = torch.stack(batch).mean()      # Combine metrics\n",
    "            result[m.name] = epoch.item()\n",
    "            \n",
    "        return result\n",
    "    \n",
    "    def epoch_end(self, epoch, result):\n",
    "        out = f\"Epoch [{epoch}]\"\n",
    "        vals = list(result.keys())\n",
    "        for v in vals:\n",
    "            out += f\", {v}: {result[v]:.3e}\"\n",
    "        print(out)\n",
    "        "
   ]
  },
  {
   "cell_type": "code",
   "execution_count": 9,
   "id": "125ec41f-92e5-4844-bc89-6eeb84c08eb6",
   "metadata": {},
   "outputs": [],
   "source": [
    "class Net(ImageClassificationBase):\n",
    "    \n",
    "    def __init__(self, loss_function, metrics, out_size):\n",
    "        super().__init__(loss_function, metrics)\n",
    "        self.conv1 = nn.Conv2d(in_channels=1, out_channels=32, kernel_size=3, stride=1)\n",
    "        self.pool1 = nn.MaxPool2d(kernel_size=3,stride=2, padding=1)\n",
    "        self.norm1 = nn.BatchNorm2d(32)\n",
    "        self.conv2 = nn.Conv2d(in_channels=32, out_channels=64, kernel_size=3, stride=1)\n",
    "        self.pool2 = nn.MaxPool2d(kernel_size=3,stride=2, padding=1)\n",
    "        self.norm2 = nn.BatchNorm2d(64)\n",
    "        self.conv3 = nn.Conv2d(in_channels=64, out_channels=128, kernel_size=3, stride=1)\n",
    "        self.pool3 = nn.MaxPool2d(kernel_size=3, stride=2, padding=1)\n",
    "        self.norm3 = nn.BatchNorm2d(128)\n",
    "        self.fc1 = nn.Linear(in_features=128*5*5, out_features=256)\n",
    "        #self.fc2 = nn.Linear(in_features=256, out_features=256)\n",
    "        self.fc = nn.Linear(256, out_size)\n",
    "\n",
    "    def forward(self, input):\n",
    "        output = self.norm1(self.pool1(F.relu(self.conv1(input))))\n",
    "        output = self.norm2(self.pool2(F.relu(self.conv2((output)))))\n",
    "        output = self.norm3(self.pool3(F.relu(self.conv3((output)))))\n",
    "        output = output.view(-1, 128*5*5)\n",
    "        output = F.relu(self.fc1(output))\n",
    "        #output = F.relu(self.fc2(output))\n",
    "        output = self.fc(output)\n",
    "        output = F.softmax(input = output)\n",
    "        return output"
   ]
  },
  {
   "cell_type": "markdown",
   "id": "60e5a8f2",
   "metadata": {},
   "source": [
    "## Variables definition"
   ]
  },
  {
   "cell_type": "code",
   "execution_count": 10,
   "id": "1bb92e60",
   "metadata": {},
   "outputs": [],
   "source": [
    "device = get_default_device()\n"
   ]
  },
  {
   "cell_type": "markdown",
   "id": "76ef2e5b",
   "metadata": {},
   "source": [
    "## Dataset loading"
   ]
  },
  {
   "cell_type": "code",
   "execution_count": 11,
   "id": "5f983610-8ba7-4afc-81b4-44c255c5257c",
   "metadata": {},
   "outputs": [],
   "source": [
    "df_train = ImageFolder(root=train_df_path, transform=transforms.Compose([transforms.Grayscale(num_output_channels=1),\n",
    "                                     transforms.ToTensor()]))\n",
    "df_test = ImageFolder(root=test_df_path, transform=transforms.Compose([transforms.Grayscale(num_output_channels=1),\n",
    "                                     transforms.ToTensor()]))"
   ]
  },
  {
   "cell_type": "code",
   "execution_count": 12,
   "id": "e8d4b406",
   "metadata": {},
   "outputs": [],
   "source": [
    "train_dl = DeviceDataLoader(DataLoader(df_train, batch_size=batch_size),device)\n",
    "test_dl = DeviceDataLoader(DataLoader(df_test, batch_size=batch_size, shuffle=False),device)"
   ]
  },
  {
   "cell_type": "code",
   "execution_count": 13,
   "id": "72f96e28-c09a-4c5f-836b-51ea2ae0ed52",
   "metadata": {},
   "outputs": [
    {
     "data": {
      "text/plain": [
       "['angry', 'disgust', 'fear', 'happy', 'neutral', 'sad', 'surprise']"
      ]
     },
     "execution_count": 13,
     "metadata": {},
     "output_type": "execute_result"
    }
   ],
   "source": [
    "classes = df_train.classes\n",
    "classes"
   ]
  },
  {
   "cell_type": "code",
   "execution_count": 14,
   "id": "48aa05f0",
   "metadata": {},
   "outputs": [
    {
     "name": "stdout",
     "output_type": "stream",
     "text": [
      "{0: 3995, 1: 436, 2: 4097, 3: 7215, 4: 4965, 5: 4830, 6: 3171}\n",
      "tensor([0.1091, 1.0000, 0.1064, 0.0604, 0.0878, 0.0903, 0.1375])\n"
     ]
    }
   ],
   "source": [
    "counts = dict(Counter(df_train.targets))\n",
    "print(counts)\n",
    "weights = np.array(list(counts.values()))\n",
    "weights = torch.Tensor( min(weights)/weights)\n",
    "print(weights)"
   ]
  },
  {
   "cell_type": "markdown",
   "id": "793bf2de",
   "metadata": {},
   "source": [
    "## Model design and Training"
   ]
  },
  {
   "cell_type": "code",
   "execution_count": 15,
   "id": "62f2c2a4",
   "metadata": {},
   "outputs": [],
   "source": [
    "loss_function = nn.CrossEntropyLoss(weight = weights)\n",
    "metrics = []\n",
    "optimizer = optim.Adam\n",
    "scheduler = optim.lr_scheduler.ReduceLROnPlateau\n",
    "\n",
    "lr = 0.0001\n",
    "num_epochs = 20"
   ]
  },
  {
   "cell_type": "code",
   "execution_count": 16,
   "id": "94ef4dba-0260-4d4a-947b-52ecf388c783",
   "metadata": {},
   "outputs": [
    {
     "name": "stdout",
     "output_type": "stream",
     "text": [
      "------------fold no---------0----------------------\n"
     ]
    },
    {
     "data": {
      "application/vnd.jupyter.widget-view+json": {
       "model_id": "6ca39af2874145d2abd1b4d462354b5d",
       "version_major": 2,
       "version_minor": 0
      },
      "text/plain": [
       "Current Epoch:   0%|          | 0/20 [00:00<?, ?it/s]"
      ]
     },
     "metadata": {},
     "output_type": "display_data"
    },
    {
     "data": {
      "application/vnd.jupyter.widget-view+json": {
       "model_id": "a103f3bd555a49029d73f1e48e574969",
       "version_major": 2,
       "version_minor": 0
      },
      "text/plain": [
       "Epoch: 0:   0%|          | 0/337 [00:00<?, ?it/s]"
      ]
     },
     "metadata": {},
     "output_type": "display_data"
    },
    {
     "name": "stderr",
     "output_type": "stream",
     "text": [
      "C:\\Users\\Franc\\AppData\\Local\\Temp\\ipykernel_30988\\2590453873.py:26: UserWarning: Implicit dimension choice for softmax has been deprecated. Change the call to include dim=X as an argument.\n",
      "  output = F.softmax(input = output)\n"
     ]
    },
    {
     "name": "stdout",
     "output_type": "stream",
     "text": [
      "Epoch [0], val_loss: 1.752e+00, train_loss: 1.815e+00, lrate: 1.000e-04\n"
     ]
    },
    {
     "data": {
      "application/vnd.jupyter.widget-view+json": {
       "model_id": "18b8f26940bb4f56b7b3bce50c009232",
       "version_major": 2,
       "version_minor": 0
      },
      "text/plain": [
       "Epoch: 1:   0%|          | 0/337 [00:00<?, ?it/s]"
      ]
     },
     "metadata": {},
     "output_type": "display_data"
    },
    {
     "name": "stdout",
     "output_type": "stream",
     "text": [
      "Epoch [1], val_loss: 1.709e+00, train_loss: 1.699e+00, lrate: 1.000e-04\n"
     ]
    },
    {
     "data": {
      "application/vnd.jupyter.widget-view+json": {
       "model_id": "f05fc1b44f3d44f8afe2c57956c584c8",
       "version_major": 2,
       "version_minor": 0
      },
      "text/plain": [
       "Epoch: 2:   0%|          | 0/337 [00:00<?, ?it/s]"
      ]
     },
     "metadata": {},
     "output_type": "display_data"
    },
    {
     "name": "stdout",
     "output_type": "stream",
     "text": [
      "Epoch [2], val_loss: 1.682e+00, train_loss: 1.641e+00, lrate: 1.000e-04\n"
     ]
    },
    {
     "data": {
      "application/vnd.jupyter.widget-view+json": {
       "model_id": "063dfbb44f0847bfa3434226167391bc",
       "version_major": 2,
       "version_minor": 0
      },
      "text/plain": [
       "Epoch: 3:   0%|          | 0/337 [00:00<?, ?it/s]"
      ]
     },
     "metadata": {},
     "output_type": "display_data"
    },
    {
     "name": "stdout",
     "output_type": "stream",
     "text": [
      "Epoch [3], val_loss: 1.673e+00, train_loss: 1.598e+00, lrate: 1.000e-04\n"
     ]
    },
    {
     "data": {
      "application/vnd.jupyter.widget-view+json": {
       "model_id": "9d162cbe2bfb4f68ae69c9d5b7ebc3f9",
       "version_major": 2,
       "version_minor": 0
      },
      "text/plain": [
       "Epoch: 4:   0%|          | 0/337 [00:00<?, ?it/s]"
      ]
     },
     "metadata": {},
     "output_type": "display_data"
    },
    {
     "name": "stdout",
     "output_type": "stream",
     "text": [
      "Epoch [4], val_loss: 1.662e+00, train_loss: 1.560e+00, lrate: 1.000e-04\n"
     ]
    },
    {
     "data": {
      "application/vnd.jupyter.widget-view+json": {
       "model_id": "c3d5f3be97dd40e9a6a0484f467beb70",
       "version_major": 2,
       "version_minor": 0
      },
      "text/plain": [
       "Epoch: 5:   0%|          | 0/337 [00:00<?, ?it/s]"
      ]
     },
     "metadata": {},
     "output_type": "display_data"
    },
    {
     "name": "stdout",
     "output_type": "stream",
     "text": [
      "Epoch [5], val_loss: 1.655e+00, train_loss: 1.528e+00, lrate: 1.000e-04\n"
     ]
    },
    {
     "data": {
      "application/vnd.jupyter.widget-view+json": {
       "model_id": "2b9c757eecc346c7aae29a1513c1e4e0",
       "version_major": 2,
       "version_minor": 0
      },
      "text/plain": [
       "Epoch: 6:   0%|          | 0/337 [00:00<?, ?it/s]"
      ]
     },
     "metadata": {},
     "output_type": "display_data"
    },
    {
     "name": "stdout",
     "output_type": "stream",
     "text": [
      "Epoch [6], val_loss: 1.655e+00, train_loss: 1.503e+00, lrate: 1.000e-04\n"
     ]
    },
    {
     "data": {
      "application/vnd.jupyter.widget-view+json": {
       "model_id": "7b06be1467c44dd5ad80f9acc4244482",
       "version_major": 2,
       "version_minor": 0
      },
      "text/plain": [
       "Epoch: 7:   0%|          | 0/337 [00:00<?, ?it/s]"
      ]
     },
     "metadata": {},
     "output_type": "display_data"
    },
    {
     "name": "stdout",
     "output_type": "stream",
     "text": [
      "Epoch [7], val_loss: 1.659e+00, train_loss: 1.477e+00, lrate: 1.000e-04\n"
     ]
    },
    {
     "data": {
      "application/vnd.jupyter.widget-view+json": {
       "model_id": "ce26753b0450428fad218e988aaed2b6",
       "version_major": 2,
       "version_minor": 0
      },
      "text/plain": [
       "Epoch: 8:   0%|          | 0/337 [00:00<?, ?it/s]"
      ]
     },
     "metadata": {},
     "output_type": "display_data"
    },
    {
     "name": "stdout",
     "output_type": "stream",
     "text": [
      "Epoch [8], val_loss: 1.646e+00, train_loss: 1.453e+00, lrate: 1.000e-04\n"
     ]
    },
    {
     "data": {
      "application/vnd.jupyter.widget-view+json": {
       "model_id": "241eb193960b4f3dbd3d972c651b6105",
       "version_major": 2,
       "version_minor": 0
      },
      "text/plain": [
       "Epoch: 9:   0%|          | 0/337 [00:00<?, ?it/s]"
      ]
     },
     "metadata": {},
     "output_type": "display_data"
    },
    {
     "name": "stdout",
     "output_type": "stream",
     "text": [
      "Epoch [9], val_loss: 1.645e+00, train_loss: 1.432e+00, lrate: 1.000e-04\n"
     ]
    },
    {
     "data": {
      "application/vnd.jupyter.widget-view+json": {
       "model_id": "3bc39a087a0c4ad6ba9b557ece1f28b9",
       "version_major": 2,
       "version_minor": 0
      },
      "text/plain": [
       "Epoch: 10:   0%|          | 0/337 [00:00<?, ?it/s]"
      ]
     },
     "metadata": {},
     "output_type": "display_data"
    },
    {
     "name": "stdout",
     "output_type": "stream",
     "text": [
      "Epoch [10], val_loss: 1.641e+00, train_loss: 1.414e+00, lrate: 1.000e-04\n"
     ]
    },
    {
     "data": {
      "application/vnd.jupyter.widget-view+json": {
       "model_id": "9bb113cdab624587837f2a7e90652f54",
       "version_major": 2,
       "version_minor": 0
      },
      "text/plain": [
       "Epoch: 11:   0%|          | 0/337 [00:00<?, ?it/s]"
      ]
     },
     "metadata": {},
     "output_type": "display_data"
    },
    {
     "name": "stdout",
     "output_type": "stream",
     "text": [
      "Epoch [11], val_loss: 1.644e+00, train_loss: 1.401e+00, lrate: 1.000e-04\n"
     ]
    },
    {
     "data": {
      "application/vnd.jupyter.widget-view+json": {
       "model_id": "088c0def0d0e491f89d0f5e87411ce81",
       "version_major": 2,
       "version_minor": 0
      },
      "text/plain": [
       "Epoch: 12:   0%|          | 0/337 [00:00<?, ?it/s]"
      ]
     },
     "metadata": {},
     "output_type": "display_data"
    },
    {
     "name": "stdout",
     "output_type": "stream",
     "text": [
      "Epoch [12], val_loss: 1.648e+00, train_loss: 1.385e+00, lrate: 1.000e-04\n"
     ]
    },
    {
     "data": {
      "application/vnd.jupyter.widget-view+json": {
       "model_id": "f582d60dbd344c0ea506688e5b293fbd",
       "version_major": 2,
       "version_minor": 0
      },
      "text/plain": [
       "Epoch: 13:   0%|          | 0/337 [00:00<?, ?it/s]"
      ]
     },
     "metadata": {},
     "output_type": "display_data"
    },
    {
     "name": "stdout",
     "output_type": "stream",
     "text": [
      "Epoch [13], val_loss: 1.640e+00, train_loss: 1.370e+00, lrate: 1.000e-04\n"
     ]
    },
    {
     "data": {
      "application/vnd.jupyter.widget-view+json": {
       "model_id": "6acc079172ac4884958242eb7ea5acce",
       "version_major": 2,
       "version_minor": 0
      },
      "text/plain": [
       "Epoch: 14:   0%|          | 0/337 [00:00<?, ?it/s]"
      ]
     },
     "metadata": {},
     "output_type": "display_data"
    },
    {
     "name": "stdout",
     "output_type": "stream",
     "text": [
      "Epoch [14], val_loss: 1.637e+00, train_loss: 1.361e+00, lrate: 1.000e-04\n"
     ]
    },
    {
     "data": {
      "application/vnd.jupyter.widget-view+json": {
       "model_id": "619e6d82cfff4657a348b61b42a5a926",
       "version_major": 2,
       "version_minor": 0
      },
      "text/plain": [
       "Epoch: 15:   0%|          | 0/337 [00:00<?, ?it/s]"
      ]
     },
     "metadata": {},
     "output_type": "display_data"
    },
    {
     "name": "stdout",
     "output_type": "stream",
     "text": [
      "Epoch [15], val_loss: 1.640e+00, train_loss: 1.350e+00, lrate: 1.000e-04\n"
     ]
    },
    {
     "data": {
      "application/vnd.jupyter.widget-view+json": {
       "model_id": "16d041ebd5b14fe780fe0918134cdacd",
       "version_major": 2,
       "version_minor": 0
      },
      "text/plain": [
       "Epoch: 16:   0%|          | 0/337 [00:00<?, ?it/s]"
      ]
     },
     "metadata": {},
     "output_type": "display_data"
    },
    {
     "name": "stdout",
     "output_type": "stream",
     "text": [
      "Epoch [16], val_loss: 1.640e+00, train_loss: 1.339e+00, lrate: 1.000e-04\n"
     ]
    },
    {
     "data": {
      "application/vnd.jupyter.widget-view+json": {
       "model_id": "a7a7e023d90b48ce9e7b295e925b1649",
       "version_major": 2,
       "version_minor": 0
      },
      "text/plain": [
       "Epoch: 17:   0%|          | 0/337 [00:00<?, ?it/s]"
      ]
     },
     "metadata": {},
     "output_type": "display_data"
    },
    {
     "name": "stdout",
     "output_type": "stream",
     "text": [
      "Epoch [17], val_loss: 1.636e+00, train_loss: 1.332e+00, lrate: 1.000e-04\n"
     ]
    },
    {
     "data": {
      "application/vnd.jupyter.widget-view+json": {
       "model_id": "6efbce348f114df2b6dd088dbfdc08b2",
       "version_major": 2,
       "version_minor": 0
      },
      "text/plain": [
       "Epoch: 18:   0%|          | 0/337 [00:00<?, ?it/s]"
      ]
     },
     "metadata": {},
     "output_type": "display_data"
    },
    {
     "name": "stdout",
     "output_type": "stream",
     "text": [
      "Epoch [18], val_loss: 1.641e+00, train_loss: 1.324e+00, lrate: 1.000e-04\n"
     ]
    },
    {
     "data": {
      "application/vnd.jupyter.widget-view+json": {
       "model_id": "f1574fa088064876925c945c55ea7b17",
       "version_major": 2,
       "version_minor": 0
      },
      "text/plain": [
       "Epoch: 19:   0%|          | 0/337 [00:00<?, ?it/s]"
      ]
     },
     "metadata": {},
     "output_type": "display_data"
    },
    {
     "name": "stdout",
     "output_type": "stream",
     "text": [
      "Epoch [19], val_loss: 1.640e+00, train_loss: 1.317e+00, lrate: 1.000e-04\n",
      "------------fold no---------1----------------------\n"
     ]
    },
    {
     "data": {
      "application/vnd.jupyter.widget-view+json": {
       "model_id": "5f600b83589f4ff5a3b30264beaf74aa",
       "version_major": 2,
       "version_minor": 0
      },
      "text/plain": [
       "Current Epoch:   0%|          | 0/20 [00:00<?, ?it/s]"
      ]
     },
     "metadata": {},
     "output_type": "display_data"
    },
    {
     "data": {
      "application/vnd.jupyter.widget-view+json": {
       "model_id": "5600e648db7d432e83708fe4403c32ac",
       "version_major": 2,
       "version_minor": 0
      },
      "text/plain": [
       "Epoch: 0:   0%|          | 0/337 [00:00<?, ?it/s]"
      ]
     },
     "metadata": {},
     "output_type": "display_data"
    },
    {
     "name": "stdout",
     "output_type": "stream",
     "text": [
      "Epoch [0], val_loss: 1.732e+00, train_loss: 1.806e+00, lrate: 1.000e-04\n"
     ]
    },
    {
     "data": {
      "application/vnd.jupyter.widget-view+json": {
       "model_id": "1b0b6165e7724ebf848d07c87af4b5ba",
       "version_major": 2,
       "version_minor": 0
      },
      "text/plain": [
       "Epoch: 1:   0%|          | 0/337 [00:00<?, ?it/s]"
      ]
     },
     "metadata": {},
     "output_type": "display_data"
    },
    {
     "name": "stdout",
     "output_type": "stream",
     "text": [
      "Epoch [1], val_loss: 1.695e+00, train_loss: 1.690e+00, lrate: 1.000e-04\n"
     ]
    },
    {
     "data": {
      "application/vnd.jupyter.widget-view+json": {
       "model_id": "c48ff515046f424781e4e66d907d2f1e",
       "version_major": 2,
       "version_minor": 0
      },
      "text/plain": [
       "Epoch: 2:   0%|          | 0/337 [00:00<?, ?it/s]"
      ]
     },
     "metadata": {},
     "output_type": "display_data"
    },
    {
     "name": "stdout",
     "output_type": "stream",
     "text": [
      "Epoch [2], val_loss: 1.676e+00, train_loss: 1.638e+00, lrate: 1.000e-04\n"
     ]
    },
    {
     "data": {
      "application/vnd.jupyter.widget-view+json": {
       "model_id": "55097a00b1024b4fbc0dceea760b6a07",
       "version_major": 2,
       "version_minor": 0
      },
      "text/plain": [
       "Epoch: 3:   0%|          | 0/337 [00:00<?, ?it/s]"
      ]
     },
     "metadata": {},
     "output_type": "display_data"
    },
    {
     "name": "stdout",
     "output_type": "stream",
     "text": [
      "Epoch [3], val_loss: 1.654e+00, train_loss: 1.600e+00, lrate: 1.000e-04\n"
     ]
    },
    {
     "data": {
      "application/vnd.jupyter.widget-view+json": {
       "model_id": "026ee08ea1684d989977580d663f5a59",
       "version_major": 2,
       "version_minor": 0
      },
      "text/plain": [
       "Epoch: 4:   0%|          | 0/337 [00:00<?, ?it/s]"
      ]
     },
     "metadata": {},
     "output_type": "display_data"
    },
    {
     "name": "stdout",
     "output_type": "stream",
     "text": [
      "Epoch [4], val_loss: 1.655e+00, train_loss: 1.567e+00, lrate: 1.000e-04\n"
     ]
    },
    {
     "data": {
      "application/vnd.jupyter.widget-view+json": {
       "model_id": "0f6f205b92914642b675fc8d335eac5a",
       "version_major": 2,
       "version_minor": 0
      },
      "text/plain": [
       "Epoch: 5:   0%|          | 0/337 [00:00<?, ?it/s]"
      ]
     },
     "metadata": {},
     "output_type": "display_data"
    },
    {
     "name": "stdout",
     "output_type": "stream",
     "text": [
      "Epoch [5], val_loss: 1.641e+00, train_loss: 1.538e+00, lrate: 1.000e-04\n"
     ]
    },
    {
     "data": {
      "application/vnd.jupyter.widget-view+json": {
       "model_id": "63438c3a8a4640e49b25b4b724b06871",
       "version_major": 2,
       "version_minor": 0
      },
      "text/plain": [
       "Epoch: 6:   0%|          | 0/337 [00:00<?, ?it/s]"
      ]
     },
     "metadata": {},
     "output_type": "display_data"
    },
    {
     "name": "stdout",
     "output_type": "stream",
     "text": [
      "Epoch [6], val_loss: 1.635e+00, train_loss: 1.511e+00, lrate: 1.000e-04\n"
     ]
    },
    {
     "data": {
      "application/vnd.jupyter.widget-view+json": {
       "model_id": "30076e7fc52c444b97c28ec87daa032b",
       "version_major": 2,
       "version_minor": 0
      },
      "text/plain": [
       "Epoch: 7:   0%|          | 0/337 [00:00<?, ?it/s]"
      ]
     },
     "metadata": {},
     "output_type": "display_data"
    },
    {
     "name": "stdout",
     "output_type": "stream",
     "text": [
      "Epoch [7], val_loss: 1.628e+00, train_loss: 1.490e+00, lrate: 1.000e-04\n"
     ]
    },
    {
     "data": {
      "application/vnd.jupyter.widget-view+json": {
       "model_id": "0e59976916964579afbf9dfbc2ce96dd",
       "version_major": 2,
       "version_minor": 0
      },
      "text/plain": [
       "Epoch: 8:   0%|          | 0/337 [00:00<?, ?it/s]"
      ]
     },
     "metadata": {},
     "output_type": "display_data"
    },
    {
     "name": "stdout",
     "output_type": "stream",
     "text": [
      "Epoch [8], val_loss: 1.630e+00, train_loss: 1.469e+00, lrate: 1.000e-04\n"
     ]
    },
    {
     "data": {
      "application/vnd.jupyter.widget-view+json": {
       "model_id": "031e9973f0804381be4276c73afdd281",
       "version_major": 2,
       "version_minor": 0
      },
      "text/plain": [
       "Epoch: 9:   0%|          | 0/337 [00:00<?, ?it/s]"
      ]
     },
     "metadata": {},
     "output_type": "display_data"
    },
    {
     "name": "stdout",
     "output_type": "stream",
     "text": [
      "Epoch [9], val_loss: 1.632e+00, train_loss: 1.447e+00, lrate: 1.000e-04\n"
     ]
    },
    {
     "data": {
      "application/vnd.jupyter.widget-view+json": {
       "model_id": "f968dd865e1b45e187ff6be668f120dc",
       "version_major": 2,
       "version_minor": 0
      },
      "text/plain": [
       "Epoch: 10:   0%|          | 0/337 [00:00<?, ?it/s]"
      ]
     },
     "metadata": {},
     "output_type": "display_data"
    },
    {
     "name": "stdout",
     "output_type": "stream",
     "text": [
      "Epoch [10], val_loss: 1.632e+00, train_loss: 1.429e+00, lrate: 1.000e-04\n"
     ]
    },
    {
     "data": {
      "application/vnd.jupyter.widget-view+json": {
       "model_id": "2cbb956f1a984a17a343a1382a3373bc",
       "version_major": 2,
       "version_minor": 0
      },
      "text/plain": [
       "Epoch: 11:   0%|          | 0/337 [00:00<?, ?it/s]"
      ]
     },
     "metadata": {},
     "output_type": "display_data"
    },
    {
     "name": "stdout",
     "output_type": "stream",
     "text": [
      "Epoch [11], val_loss: 1.634e+00, train_loss: 1.413e+00, lrate: 1.000e-05\n"
     ]
    },
    {
     "data": {
      "application/vnd.jupyter.widget-view+json": {
       "model_id": "f77e0a0789f446119160a380379fc297",
       "version_major": 2,
       "version_minor": 0
      },
      "text/plain": [
       "Epoch: 12:   0%|          | 0/337 [00:00<?, ?it/s]"
      ]
     },
     "metadata": {},
     "output_type": "display_data"
    },
    {
     "name": "stdout",
     "output_type": "stream",
     "text": [
      "Epoch [12], val_loss: 1.624e+00, train_loss: 1.384e+00, lrate: 1.000e-05\n"
     ]
    },
    {
     "data": {
      "application/vnd.jupyter.widget-view+json": {
       "model_id": "ab77957cfb4f4df9944e5731dcb5e464",
       "version_major": 2,
       "version_minor": 0
      },
      "text/plain": [
       "Epoch: 13:   0%|          | 0/337 [00:00<?, ?it/s]"
      ]
     },
     "metadata": {},
     "output_type": "display_data"
    },
    {
     "name": "stdout",
     "output_type": "stream",
     "text": [
      "Epoch [13], val_loss: 1.623e+00, train_loss: 1.378e+00, lrate: 1.000e-05\n"
     ]
    },
    {
     "data": {
      "application/vnd.jupyter.widget-view+json": {
       "model_id": "85a98d3c80ce41879170ae9f9d60d1df",
       "version_major": 2,
       "version_minor": 0
      },
      "text/plain": [
       "Epoch: 14:   0%|          | 0/337 [00:00<?, ?it/s]"
      ]
     },
     "metadata": {},
     "output_type": "display_data"
    },
    {
     "name": "stdout",
     "output_type": "stream",
     "text": [
      "Epoch [14], val_loss: 1.622e+00, train_loss: 1.374e+00, lrate: 1.000e-05\n"
     ]
    },
    {
     "data": {
      "application/vnd.jupyter.widget-view+json": {
       "model_id": "1f848c1ae90f425babca659669e6683c",
       "version_major": 2,
       "version_minor": 0
      },
      "text/plain": [
       "Epoch: 15:   0%|          | 0/337 [00:00<?, ?it/s]"
      ]
     },
     "metadata": {},
     "output_type": "display_data"
    },
    {
     "name": "stdout",
     "output_type": "stream",
     "text": [
      "Epoch [15], val_loss: 1.621e+00, train_loss: 1.371e+00, lrate: 1.000e-05\n"
     ]
    },
    {
     "data": {
      "application/vnd.jupyter.widget-view+json": {
       "model_id": "f94de414ca364cb0805902d0ef9d5f4e",
       "version_major": 2,
       "version_minor": 0
      },
      "text/plain": [
       "Epoch: 16:   0%|          | 0/337 [00:00<?, ?it/s]"
      ]
     },
     "metadata": {},
     "output_type": "display_data"
    },
    {
     "name": "stdout",
     "output_type": "stream",
     "text": [
      "Epoch [16], val_loss: 1.621e+00, train_loss: 1.369e+00, lrate: 1.000e-05\n"
     ]
    },
    {
     "data": {
      "application/vnd.jupyter.widget-view+json": {
       "model_id": "efdeef55f8cd4d6896d98399b4e60788",
       "version_major": 2,
       "version_minor": 0
      },
      "text/plain": [
       "Epoch: 17:   0%|          | 0/337 [00:00<?, ?it/s]"
      ]
     },
     "metadata": {},
     "output_type": "display_data"
    },
    {
     "name": "stdout",
     "output_type": "stream",
     "text": [
      "Epoch [17], val_loss: 1.624e+00, train_loss: 1.367e+00, lrate: 1.000e-05\n"
     ]
    },
    {
     "data": {
      "application/vnd.jupyter.widget-view+json": {
       "model_id": "f9dcf0cf26954174be63ee4c2956f1a3",
       "version_major": 2,
       "version_minor": 0
      },
      "text/plain": [
       "Epoch: 18:   0%|          | 0/337 [00:00<?, ?it/s]"
      ]
     },
     "metadata": {},
     "output_type": "display_data"
    },
    {
     "name": "stdout",
     "output_type": "stream",
     "text": [
      "Epoch [18], val_loss: 1.625e+00, train_loss: 1.365e+00, lrate: 1.000e-05\n"
     ]
    },
    {
     "data": {
      "application/vnd.jupyter.widget-view+json": {
       "model_id": "b091efd683744e96b279b69d84597cb5",
       "version_major": 2,
       "version_minor": 0
      },
      "text/plain": [
       "Epoch: 19:   0%|          | 0/337 [00:00<?, ?it/s]"
      ]
     },
     "metadata": {},
     "output_type": "display_data"
    },
    {
     "name": "stdout",
     "output_type": "stream",
     "text": [
      "Epoch [19], val_loss: 1.627e+00, train_loss: 1.363e+00, lrate: 1.000e-06\n",
      "------------fold no---------2----------------------\n"
     ]
    },
    {
     "data": {
      "application/vnd.jupyter.widget-view+json": {
       "model_id": "0d8ee0d69b9f463e9c6219e488d2b390",
       "version_major": 2,
       "version_minor": 0
      },
      "text/plain": [
       "Current Epoch:   0%|          | 0/20 [00:00<?, ?it/s]"
      ]
     },
     "metadata": {},
     "output_type": "display_data"
    },
    {
     "data": {
      "application/vnd.jupyter.widget-view+json": {
       "model_id": "796679a5026b47928db37dd7d8ef127c",
       "version_major": 2,
       "version_minor": 0
      },
      "text/plain": [
       "Epoch: 0:   0%|          | 0/337 [00:00<?, ?it/s]"
      ]
     },
     "metadata": {},
     "output_type": "display_data"
    },
    {
     "name": "stdout",
     "output_type": "stream",
     "text": [
      "Epoch [0], val_loss: 1.743e+00, train_loss: 1.809e+00, lrate: 1.000e-04\n"
     ]
    },
    {
     "data": {
      "application/vnd.jupyter.widget-view+json": {
       "model_id": "38550efd53e24b05861917bf0e99ad99",
       "version_major": 2,
       "version_minor": 0
      },
      "text/plain": [
       "Epoch: 1:   0%|          | 0/337 [00:00<?, ?it/s]"
      ]
     },
     "metadata": {},
     "output_type": "display_data"
    },
    {
     "name": "stdout",
     "output_type": "stream",
     "text": [
      "Epoch [1], val_loss: 1.699e+00, train_loss: 1.688e+00, lrate: 1.000e-04\n"
     ]
    },
    {
     "data": {
      "application/vnd.jupyter.widget-view+json": {
       "model_id": "7dbc6744f7dd46e988b39569e1a77e07",
       "version_major": 2,
       "version_minor": 0
      },
      "text/plain": [
       "Epoch: 2:   0%|          | 0/337 [00:00<?, ?it/s]"
      ]
     },
     "metadata": {},
     "output_type": "display_data"
    },
    {
     "name": "stdout",
     "output_type": "stream",
     "text": [
      "Epoch [2], val_loss: 1.681e+00, train_loss: 1.636e+00, lrate: 1.000e-04\n"
     ]
    },
    {
     "data": {
      "application/vnd.jupyter.widget-view+json": {
       "model_id": "079b9dbf1dca40a7b388c0cd9f749cbb",
       "version_major": 2,
       "version_minor": 0
      },
      "text/plain": [
       "Epoch: 3:   0%|          | 0/337 [00:00<?, ?it/s]"
      ]
     },
     "metadata": {},
     "output_type": "display_data"
    },
    {
     "name": "stdout",
     "output_type": "stream",
     "text": [
      "Epoch [3], val_loss: 1.669e+00, train_loss: 1.592e+00, lrate: 1.000e-04\n"
     ]
    },
    {
     "data": {
      "application/vnd.jupyter.widget-view+json": {
       "model_id": "b65052b1c2274cd3b2ccd8d13f9c478d",
       "version_major": 2,
       "version_minor": 0
      },
      "text/plain": [
       "Epoch: 4:   0%|          | 0/337 [00:00<?, ?it/s]"
      ]
     },
     "metadata": {},
     "output_type": "display_data"
    },
    {
     "name": "stdout",
     "output_type": "stream",
     "text": [
      "Epoch [4], val_loss: 1.675e+00, train_loss: 1.561e+00, lrate: 1.000e-04\n"
     ]
    },
    {
     "data": {
      "application/vnd.jupyter.widget-view+json": {
       "model_id": "17b270dae74e4731a236f137b70f8a16",
       "version_major": 2,
       "version_minor": 0
      },
      "text/plain": [
       "Epoch: 5:   0%|          | 0/337 [00:00<?, ?it/s]"
      ]
     },
     "metadata": {},
     "output_type": "display_data"
    },
    {
     "name": "stdout",
     "output_type": "stream",
     "text": [
      "Epoch [5], val_loss: 1.641e+00, train_loss: 1.535e+00, lrate: 1.000e-04\n"
     ]
    },
    {
     "data": {
      "application/vnd.jupyter.widget-view+json": {
       "model_id": "50bcd3429a4c439385ba4d95834d2bf9",
       "version_major": 2,
       "version_minor": 0
      },
      "text/plain": [
       "Epoch: 6:   0%|          | 0/337 [00:00<?, ?it/s]"
      ]
     },
     "metadata": {},
     "output_type": "display_data"
    },
    {
     "name": "stdout",
     "output_type": "stream",
     "text": [
      "Epoch [6], val_loss: 1.641e+00, train_loss: 1.506e+00, lrate: 1.000e-04\n"
     ]
    },
    {
     "data": {
      "application/vnd.jupyter.widget-view+json": {
       "model_id": "e9558948e3f0477784a81af4af7fef77",
       "version_major": 2,
       "version_minor": 0
      },
      "text/plain": [
       "Epoch: 7:   0%|          | 0/337 [00:00<?, ?it/s]"
      ]
     },
     "metadata": {},
     "output_type": "display_data"
    },
    {
     "name": "stdout",
     "output_type": "stream",
     "text": [
      "Epoch [7], val_loss: 1.646e+00, train_loss: 1.480e+00, lrate: 1.000e-04\n"
     ]
    },
    {
     "data": {
      "application/vnd.jupyter.widget-view+json": {
       "model_id": "5d2e660b775a497893644d110c5fc658",
       "version_major": 2,
       "version_minor": 0
      },
      "text/plain": [
       "Epoch: 8:   0%|          | 0/337 [00:00<?, ?it/s]"
      ]
     },
     "metadata": {},
     "output_type": "display_data"
    },
    {
     "name": "stdout",
     "output_type": "stream",
     "text": [
      "Epoch [8], val_loss: 1.637e+00, train_loss: 1.459e+00, lrate: 1.000e-04\n"
     ]
    },
    {
     "data": {
      "application/vnd.jupyter.widget-view+json": {
       "model_id": "32c74b59dc004d93af8643a7b8ccd5ae",
       "version_major": 2,
       "version_minor": 0
      },
      "text/plain": [
       "Epoch: 9:   0%|          | 0/337 [00:00<?, ?it/s]"
      ]
     },
     "metadata": {},
     "output_type": "display_data"
    },
    {
     "name": "stdout",
     "output_type": "stream",
     "text": [
      "Epoch [9], val_loss: 1.635e+00, train_loss: 1.437e+00, lrate: 1.000e-04\n"
     ]
    },
    {
     "data": {
      "application/vnd.jupyter.widget-view+json": {
       "model_id": "037d833a91354474a16c9efc438720f5",
       "version_major": 2,
       "version_minor": 0
      },
      "text/plain": [
       "Epoch: 10:   0%|          | 0/337 [00:00<?, ?it/s]"
      ]
     },
     "metadata": {},
     "output_type": "display_data"
    },
    {
     "name": "stdout",
     "output_type": "stream",
     "text": [
      "Epoch [10], val_loss: 1.634e+00, train_loss: 1.419e+00, lrate: 1.000e-04\n"
     ]
    },
    {
     "data": {
      "application/vnd.jupyter.widget-view+json": {
       "model_id": "0772928531c24dd29eaabac96b85bc6a",
       "version_major": 2,
       "version_minor": 0
      },
      "text/plain": [
       "Epoch: 11:   0%|          | 0/337 [00:00<?, ?it/s]"
      ]
     },
     "metadata": {},
     "output_type": "display_data"
    },
    {
     "name": "stdout",
     "output_type": "stream",
     "text": [
      "Epoch [11], val_loss: 1.633e+00, train_loss: 1.405e+00, lrate: 1.000e-04\n"
     ]
    },
    {
     "data": {
      "application/vnd.jupyter.widget-view+json": {
       "model_id": "0b012169a6de47b2a72a5b2b137cc3c4",
       "version_major": 2,
       "version_minor": 0
      },
      "text/plain": [
       "Epoch: 12:   0%|          | 0/337 [00:00<?, ?it/s]"
      ]
     },
     "metadata": {},
     "output_type": "display_data"
    },
    {
     "name": "stdout",
     "output_type": "stream",
     "text": [
      "Epoch [12], val_loss: 1.638e+00, train_loss: 1.390e+00, lrate: 1.000e-04\n"
     ]
    },
    {
     "data": {
      "application/vnd.jupyter.widget-view+json": {
       "model_id": "442783f7c5b641e0acdf42f13be8b8cc",
       "version_major": 2,
       "version_minor": 0
      },
      "text/plain": [
       "Epoch: 13:   0%|          | 0/337 [00:00<?, ?it/s]"
      ]
     },
     "metadata": {},
     "output_type": "display_data"
    },
    {
     "name": "stdout",
     "output_type": "stream",
     "text": [
      "Epoch [13], val_loss: 1.640e+00, train_loss: 1.376e+00, lrate: 1.000e-04\n"
     ]
    },
    {
     "data": {
      "application/vnd.jupyter.widget-view+json": {
       "model_id": "e7a6abcb689b4ae3a13ac3250f952c1a",
       "version_major": 2,
       "version_minor": 0
      },
      "text/plain": [
       "Epoch: 14:   0%|          | 0/337 [00:00<?, ?it/s]"
      ]
     },
     "metadata": {},
     "output_type": "display_data"
    },
    {
     "name": "stdout",
     "output_type": "stream",
     "text": [
      "Epoch [14], val_loss: 1.642e+00, train_loss: 1.363e+00, lrate: 1.000e-04\n"
     ]
    },
    {
     "data": {
      "application/vnd.jupyter.widget-view+json": {
       "model_id": "c3345118ea054a7b8f0de190575155fb",
       "version_major": 2,
       "version_minor": 0
      },
      "text/plain": [
       "Epoch: 15:   0%|          | 0/337 [00:00<?, ?it/s]"
      ]
     },
     "metadata": {},
     "output_type": "display_data"
    },
    {
     "name": "stdout",
     "output_type": "stream",
     "text": [
      "Epoch [15], val_loss: 1.634e+00, train_loss: 1.355e+00, lrate: 1.000e-05\n"
     ]
    },
    {
     "data": {
      "application/vnd.jupyter.widget-view+json": {
       "model_id": "844406902f69424fb45557807eac5342",
       "version_major": 2,
       "version_minor": 0
      },
      "text/plain": [
       "Epoch: 16:   0%|          | 0/337 [00:00<?, ?it/s]"
      ]
     },
     "metadata": {},
     "output_type": "display_data"
    },
    {
     "name": "stdout",
     "output_type": "stream",
     "text": [
      "Epoch [16], val_loss: 1.636e+00, train_loss: 1.334e+00, lrate: 1.000e-05\n"
     ]
    },
    {
     "data": {
      "application/vnd.jupyter.widget-view+json": {
       "model_id": "f0620b8053734bad90477c1d228f7e47",
       "version_major": 2,
       "version_minor": 0
      },
      "text/plain": [
       "Epoch: 17:   0%|          | 0/337 [00:00<?, ?it/s]"
      ]
     },
     "metadata": {},
     "output_type": "display_data"
    },
    {
     "name": "stdout",
     "output_type": "stream",
     "text": [
      "Epoch [17], val_loss: 1.638e+00, train_loss: 1.330e+00, lrate: 1.000e-05\n"
     ]
    },
    {
     "data": {
      "application/vnd.jupyter.widget-view+json": {
       "model_id": "eaa29059f7654bbcba70562830190bdc",
       "version_major": 2,
       "version_minor": 0
      },
      "text/plain": [
       "Epoch: 18:   0%|          | 0/337 [00:00<?, ?it/s]"
      ]
     },
     "metadata": {},
     "output_type": "display_data"
    },
    {
     "name": "stdout",
     "output_type": "stream",
     "text": [
      "Epoch [18], val_loss: 1.636e+00, train_loss: 1.328e+00, lrate: 1.000e-05\n"
     ]
    },
    {
     "data": {
      "application/vnd.jupyter.widget-view+json": {
       "model_id": "094ad014fe6a4162892c11cd094eb7e8",
       "version_major": 2,
       "version_minor": 0
      },
      "text/plain": [
       "Epoch: 19:   0%|          | 0/337 [00:00<?, ?it/s]"
      ]
     },
     "metadata": {},
     "output_type": "display_data"
    },
    {
     "name": "stdout",
     "output_type": "stream",
     "text": [
      "Epoch [19], val_loss: 1.636e+00, train_loss: 1.326e+00, lrate: 1.000e-06\n",
      "------------fold no---------3----------------------\n"
     ]
    },
    {
     "data": {
      "application/vnd.jupyter.widget-view+json": {
       "model_id": "6ac758f8c122456683ec508dfcc6b464",
       "version_major": 2,
       "version_minor": 0
      },
      "text/plain": [
       "Current Epoch:   0%|          | 0/20 [00:00<?, ?it/s]"
      ]
     },
     "metadata": {},
     "output_type": "display_data"
    },
    {
     "data": {
      "application/vnd.jupyter.widget-view+json": {
       "model_id": "ca8913cb25174f0faf61f056e0a1d5d4",
       "version_major": 2,
       "version_minor": 0
      },
      "text/plain": [
       "Epoch: 0:   0%|          | 0/337 [00:00<?, ?it/s]"
      ]
     },
     "metadata": {},
     "output_type": "display_data"
    },
    {
     "name": "stdout",
     "output_type": "stream",
     "text": [
      "Epoch [0], val_loss: 1.744e+00, train_loss: 1.806e+00, lrate: 1.000e-04\n"
     ]
    },
    {
     "data": {
      "application/vnd.jupyter.widget-view+json": {
       "model_id": "0612282b88cf41d080129aa3eebc281e",
       "version_major": 2,
       "version_minor": 0
      },
      "text/plain": [
       "Epoch: 1:   0%|          | 0/337 [00:00<?, ?it/s]"
      ]
     },
     "metadata": {},
     "output_type": "display_data"
    },
    {
     "name": "stdout",
     "output_type": "stream",
     "text": [
      "Epoch [1], val_loss: 1.703e+00, train_loss: 1.686e+00, lrate: 1.000e-04\n"
     ]
    },
    {
     "data": {
      "application/vnd.jupyter.widget-view+json": {
       "model_id": "4652c89d0ca2471d975a6f44ddbddbac",
       "version_major": 2,
       "version_minor": 0
      },
      "text/plain": [
       "Epoch: 2:   0%|          | 0/337 [00:00<?, ?it/s]"
      ]
     },
     "metadata": {},
     "output_type": "display_data"
    },
    {
     "name": "stdout",
     "output_type": "stream",
     "text": [
      "Epoch [2], val_loss: 1.677e+00, train_loss: 1.629e+00, lrate: 1.000e-04\n"
     ]
    },
    {
     "data": {
      "application/vnd.jupyter.widget-view+json": {
       "model_id": "928119122d864a1eaf331cf3a2c19c59",
       "version_major": 2,
       "version_minor": 0
      },
      "text/plain": [
       "Epoch: 3:   0%|          | 0/337 [00:00<?, ?it/s]"
      ]
     },
     "metadata": {},
     "output_type": "display_data"
    },
    {
     "name": "stdout",
     "output_type": "stream",
     "text": [
      "Epoch [3], val_loss: 1.662e+00, train_loss: 1.588e+00, lrate: 1.000e-04\n"
     ]
    },
    {
     "data": {
      "application/vnd.jupyter.widget-view+json": {
       "model_id": "7199603fc9774376b2b6cfa9f41ed75f",
       "version_major": 2,
       "version_minor": 0
      },
      "text/plain": [
       "Epoch: 4:   0%|          | 0/337 [00:00<?, ?it/s]"
      ]
     },
     "metadata": {},
     "output_type": "display_data"
    },
    {
     "name": "stdout",
     "output_type": "stream",
     "text": [
      "Epoch [4], val_loss: 1.653e+00, train_loss: 1.557e+00, lrate: 1.000e-04\n"
     ]
    },
    {
     "data": {
      "application/vnd.jupyter.widget-view+json": {
       "model_id": "9d879718109a4aa5ab7bddcdbff00189",
       "version_major": 2,
       "version_minor": 0
      },
      "text/plain": [
       "Epoch: 5:   0%|          | 0/337 [00:00<?, ?it/s]"
      ]
     },
     "metadata": {},
     "output_type": "display_data"
    },
    {
     "name": "stdout",
     "output_type": "stream",
     "text": [
      "Epoch [5], val_loss: 1.646e+00, train_loss: 1.528e+00, lrate: 1.000e-04\n"
     ]
    },
    {
     "data": {
      "application/vnd.jupyter.widget-view+json": {
       "model_id": "e886ad97c73e4bb5a5e551c0090c2ec3",
       "version_major": 2,
       "version_minor": 0
      },
      "text/plain": [
       "Epoch: 6:   0%|          | 0/337 [00:00<?, ?it/s]"
      ]
     },
     "metadata": {},
     "output_type": "display_data"
    },
    {
     "name": "stdout",
     "output_type": "stream",
     "text": [
      "Epoch [6], val_loss: 1.641e+00, train_loss: 1.501e+00, lrate: 1.000e-04\n"
     ]
    },
    {
     "data": {
      "application/vnd.jupyter.widget-view+json": {
       "model_id": "b9187fd717e04bd0a268b6f419b57b3c",
       "version_major": 2,
       "version_minor": 0
      },
      "text/plain": [
       "Epoch: 7:   0%|          | 0/337 [00:00<?, ?it/s]"
      ]
     },
     "metadata": {},
     "output_type": "display_data"
    },
    {
     "name": "stdout",
     "output_type": "stream",
     "text": [
      "Epoch [7], val_loss: 1.649e+00, train_loss: 1.476e+00, lrate: 1.000e-04\n"
     ]
    },
    {
     "data": {
      "application/vnd.jupyter.widget-view+json": {
       "model_id": "72c74931027140f2a216c5b7215ddd82",
       "version_major": 2,
       "version_minor": 0
      },
      "text/plain": [
       "Epoch: 8:   0%|          | 0/337 [00:00<?, ?it/s]"
      ]
     },
     "metadata": {},
     "output_type": "display_data"
    },
    {
     "name": "stdout",
     "output_type": "stream",
     "text": [
      "Epoch [8], val_loss: 1.638e+00, train_loss: 1.456e+00, lrate: 1.000e-04\n"
     ]
    },
    {
     "data": {
      "application/vnd.jupyter.widget-view+json": {
       "model_id": "4b26eaaa7fdd4765a30c2ad2b0ce4633",
       "version_major": 2,
       "version_minor": 0
      },
      "text/plain": [
       "Epoch: 9:   0%|          | 0/337 [00:00<?, ?it/s]"
      ]
     },
     "metadata": {},
     "output_type": "display_data"
    },
    {
     "name": "stdout",
     "output_type": "stream",
     "text": [
      "Epoch [9], val_loss: 1.639e+00, train_loss: 1.436e+00, lrate: 1.000e-04\n"
     ]
    },
    {
     "data": {
      "application/vnd.jupyter.widget-view+json": {
       "model_id": "9debf712bd94453982147efb6b367128",
       "version_major": 2,
       "version_minor": 0
      },
      "text/plain": [
       "Epoch: 10:   0%|          | 0/337 [00:00<?, ?it/s]"
      ]
     },
     "metadata": {},
     "output_type": "display_data"
    },
    {
     "name": "stdout",
     "output_type": "stream",
     "text": [
      "Epoch [10], val_loss: 1.648e+00, train_loss: 1.417e+00, lrate: 1.000e-04\n"
     ]
    },
    {
     "data": {
      "application/vnd.jupyter.widget-view+json": {
       "model_id": "1f0246122acc489c8c651d264eef84d2",
       "version_major": 2,
       "version_minor": 0
      },
      "text/plain": [
       "Epoch: 11:   0%|          | 0/337 [00:00<?, ?it/s]"
      ]
     },
     "metadata": {},
     "output_type": "display_data"
    },
    {
     "name": "stdout",
     "output_type": "stream",
     "text": [
      "Epoch [11], val_loss: 1.642e+00, train_loss: 1.401e+00, lrate: 1.000e-04\n"
     ]
    },
    {
     "data": {
      "application/vnd.jupyter.widget-view+json": {
       "model_id": "14a1d8752c894c858edfbe0a84258151",
       "version_major": 2,
       "version_minor": 0
      },
      "text/plain": [
       "Epoch: 12:   0%|          | 0/337 [00:00<?, ?it/s]"
      ]
     },
     "metadata": {},
     "output_type": "display_data"
    },
    {
     "name": "stdout",
     "output_type": "stream",
     "text": [
      "Epoch [12], val_loss: 1.640e+00, train_loss: 1.388e+00, lrate: 1.000e-05\n"
     ]
    },
    {
     "data": {
      "application/vnd.jupyter.widget-view+json": {
       "model_id": "5c1dd9f705aa4c19be8808a545ffcbab",
       "version_major": 2,
       "version_minor": 0
      },
      "text/plain": [
       "Epoch: 13:   0%|          | 0/337 [00:00<?, ?it/s]"
      ]
     },
     "metadata": {},
     "output_type": "display_data"
    },
    {
     "name": "stdout",
     "output_type": "stream",
     "text": [
      "Epoch [13], val_loss: 1.634e+00, train_loss: 1.364e+00, lrate: 1.000e-05\n"
     ]
    },
    {
     "data": {
      "application/vnd.jupyter.widget-view+json": {
       "model_id": "c31795ba605d4eceac50e4abe264b441",
       "version_major": 2,
       "version_minor": 0
      },
      "text/plain": [
       "Epoch: 14:   0%|          | 0/337 [00:00<?, ?it/s]"
      ]
     },
     "metadata": {},
     "output_type": "display_data"
    },
    {
     "name": "stdout",
     "output_type": "stream",
     "text": [
      "Epoch [14], val_loss: 1.638e+00, train_loss: 1.358e+00, lrate: 1.000e-05\n"
     ]
    },
    {
     "data": {
      "application/vnd.jupyter.widget-view+json": {
       "model_id": "0004fe920db644419ab570b7b244a164",
       "version_major": 2,
       "version_minor": 0
      },
      "text/plain": [
       "Epoch: 15:   0%|          | 0/337 [00:00<?, ?it/s]"
      ]
     },
     "metadata": {},
     "output_type": "display_data"
    },
    {
     "name": "stdout",
     "output_type": "stream",
     "text": [
      "Epoch [15], val_loss: 1.637e+00, train_loss: 1.356e+00, lrate: 1.000e-05\n"
     ]
    },
    {
     "data": {
      "application/vnd.jupyter.widget-view+json": {
       "model_id": "6dc0e730375a44ba93768e6fdc90918f",
       "version_major": 2,
       "version_minor": 0
      },
      "text/plain": [
       "Epoch: 16:   0%|          | 0/337 [00:00<?, ?it/s]"
      ]
     },
     "metadata": {},
     "output_type": "display_data"
    },
    {
     "name": "stdout",
     "output_type": "stream",
     "text": [
      "Epoch [16], val_loss: 1.638e+00, train_loss: 1.353e+00, lrate: 1.000e-05\n"
     ]
    },
    {
     "data": {
      "application/vnd.jupyter.widget-view+json": {
       "model_id": "1f8720e4326a4113997b3e1419794d21",
       "version_major": 2,
       "version_minor": 0
      },
      "text/plain": [
       "Epoch: 17:   0%|          | 0/337 [00:00<?, ?it/s]"
      ]
     },
     "metadata": {},
     "output_type": "display_data"
    },
    {
     "name": "stdout",
     "output_type": "stream",
     "text": [
      "Epoch [17], val_loss: 1.636e+00, train_loss: 1.351e+00, lrate: 1.000e-06\n"
     ]
    },
    {
     "data": {
      "application/vnd.jupyter.widget-view+json": {
       "model_id": "7e8b057ff98442eca0286b57142d00d8",
       "version_major": 2,
       "version_minor": 0
      },
      "text/plain": [
       "Epoch: 18:   0%|          | 0/337 [00:00<?, ?it/s]"
      ]
     },
     "metadata": {},
     "output_type": "display_data"
    },
    {
     "name": "stdout",
     "output_type": "stream",
     "text": [
      "Epoch [18], val_loss: 1.636e+00, train_loss: 1.347e+00, lrate: 1.000e-06\n"
     ]
    },
    {
     "data": {
      "application/vnd.jupyter.widget-view+json": {
       "model_id": "60307f2931264125865aff18fcc7016d",
       "version_major": 2,
       "version_minor": 0
      },
      "text/plain": [
       "Epoch: 19:   0%|          | 0/337 [00:00<?, ?it/s]"
      ]
     },
     "metadata": {},
     "output_type": "display_data"
    },
    {
     "name": "stdout",
     "output_type": "stream",
     "text": [
      "Epoch [19], val_loss: 1.637e+00, train_loss: 1.347e+00, lrate: 1.000e-06\n",
      "----------------------------------------------------------------\n",
      "        Layer (type)               Output Shape         Param #\n",
      "================================================================\n",
      "            Conv2d-1           [-1, 32, 46, 46]             320\n",
      "         MaxPool2d-2           [-1, 32, 23, 23]               0\n",
      "       BatchNorm2d-3           [-1, 32, 23, 23]              64\n",
      "            Conv2d-4           [-1, 64, 21, 21]          18,496\n",
      "         MaxPool2d-5           [-1, 64, 11, 11]               0\n",
      "       BatchNorm2d-6           [-1, 64, 11, 11]             128\n",
      "            Conv2d-7            [-1, 128, 9, 9]          73,856\n",
      "         MaxPool2d-8            [-1, 128, 5, 5]               0\n",
      "       BatchNorm2d-9            [-1, 128, 5, 5]             256\n",
      "           Linear-10                  [-1, 256]         819,456\n",
      "           Linear-11                    [-1, 7]           1,799\n",
      "================================================================\n",
      "Total params: 914,375\n",
      "Trainable params: 914,375\n",
      "Non-trainable params: 0\n",
      "----------------------------------------------------------------\n",
      "Input size (MB): 0.01\n",
      "Forward/backward pass size (MB): 1.24\n",
      "Params size (MB): 3.49\n",
      "Estimated Total Size (MB): 4.74\n",
      "----------------------------------------------------------------\n"
     ]
    }
   ],
   "source": [
    "splits = 4\n",
    "skf = StratifiedKFold(n_splits=splits, random_state=seed, shuffle=True)\n",
    "histories = []\n",
    "\n",
    "for fold,(train_idx,val_idx) in enumerate(skf.split(df_train,train_dl.dl.dataset.targets)):\n",
    "    print('------------fold no---------{}----------------------'.format(fold))\n",
    "    \n",
    "    net = Net(loss_function, metrics, len(classes))\n",
    "    net.to(device)\n",
    "    \n",
    "    train_subsampler = torch.utils.data.SubsetRandomSampler(train_idx)\n",
    "    val_subsampler = torch.utils.data.SubsetRandomSampler(val_idx)\n",
    "\n",
    "    train_fold_dl = DeviceDataLoader(DataLoader(df_train, batch_size=batch_size,  sampler=train_subsampler),device)\n",
    "    val_fold_dl = DeviceDataLoader(DataLoader(df_train, batch_size=batch_size,  sampler=val_subsampler),device)\n",
    "    #print(np.unique(np.array(train_fold_dl.dl.dataset.targets)[train_subsampler.indices],return_counts=True))\n",
    "    #print(np.unique(np.array(train_fold_dl.dl.dataset.targets)[test_subsampler.indices],return_counts=True))\n",
    "    #print(train_dl[train_subsampler.indices])\n",
    "    history = dict()\n",
    "    history[\"losses\"] = fit(num_epochs, lr, net, train_fold_dl, val_fold_dl, optimizer, scheduler)\n",
    "    history[\"model\"] = net\n",
    "    histories.append(history)\n",
    "\n",
    "summary(net,(1,48,48))"
   ]
  },
  {
   "cell_type": "markdown",
   "id": "bb2ca953",
   "metadata": {},
   "source": [
    "## Save/Load model"
   ]
  },
  {
   "cell_type": "code",
   "execution_count": 28,
   "id": "5f771f74",
   "metadata": {},
   "outputs": [],
   "source": [
    "if not os.path.isdir(models_directory):\n",
    "    os.makedirs(name = models_directory)\n",
    "models_directory_data = os.path.join(models_directory,dataset_name)\n",
    "if not os.path.isdir(models_directory_data):\n",
    "    os.makedirs(name = models_directory_data)"
   ]
  },
  {
   "cell_type": "code",
   "execution_count": 42,
   "id": "5f28e342",
   "metadata": {},
   "outputs": [],
   "source": [
    "if save_model:\n",
    "    for fold,h in enumerate(histories):\n",
    "        model_path = os.path.join(models_directory_data,f\"classifier_fold_{fold}.pt\")\n",
    "        torch.save(h[\"model\"].state_dict(), model_path)"
   ]
  },
  {
   "cell_type": "code",
   "execution_count": 32,
   "id": "e9cc002d",
   "metadata": {},
   "outputs": [],
   "source": [
    "if load_model:\n",
    "    histories = []\n",
    "\n",
    "    for fold, model in enumerate(os.listdir(models_directory_data)):\n",
    "        net = Net(loss_function, metrics, len(classes))\n",
    "        net.load_state_dict(torch.load(os.path.join(models_directory_data,model)))\n",
    "        net.eval()\n",
    "        net.cuda()\n",
    "        histories.append( {\"model\": net } )"
   ]
  },
  {
   "cell_type": "markdown",
   "id": "236fc3f4",
   "metadata": {},
   "source": [
    "## Model testing"
   ]
  },
  {
   "cell_type": "code",
   "execution_count": 34,
   "id": "1403cef9-c12a-4e66-9565-7f8b7eaf2f38",
   "metadata": {},
   "outputs": [],
   "source": [
    "def get_model_predicitons(model, dataset):\n",
    "    y_test = []\n",
    "    y_scores = []\n",
    "\n",
    "    # since we're not training, we don't need to calculate the gradients for our outputs\n",
    "    with torch.no_grad():\n",
    "        for data in tqdm(dataset):\n",
    "            images, labels = data[0].to(device), data[1].to(device)\n",
    "            # calculate outputs by running images through the network\n",
    "            outputs = model(images)\n",
    "\n",
    "            # the class with the highest energy is what we choose as prediction\n",
    "            _, predicted = torch.max(outputs.data, 1)\n",
    "\n",
    "            y_test.extend(labels.tolist())\n",
    "            y_scores.extend(outputs.tolist())\n",
    "\n",
    "    y_test = np.array(y_test)\n",
    "    y_scores = np.array(y_scores)\n",
    "\n",
    "    return y_test, y_scores\n"
   ]
  },
  {
   "cell_type": "markdown",
   "id": "fdc366c3",
   "metadata": {},
   "source": [
    "### Network Accuracy"
   ]
  },
  {
   "cell_type": "code",
   "execution_count": 35,
   "id": "158b7789-29fe-43c3-9821-11cb5215fb60",
   "metadata": {},
   "outputs": [],
   "source": [
    "def evaluate_accuracy(y_test, y_scores, classes, verbose=False):\n",
    "    # Overall accuracy\n",
    "\n",
    "    n_test = y_test.shape[0]\n",
    "    predicted = np.argmax(y_scores,axis=1)\n",
    "    mean_acc = np.sum(predicted == y_test) / n_test\n",
    "    class_acc = []\n",
    "    \n",
    "    # Accuracy per class\n",
    "\n",
    "    correct_pred = {classname: 0 for classname in classes}\n",
    "    total_pred = {classname: 0 for classname in classes}\n",
    "\n",
    "    # collect the correct predictions for each class\n",
    "    for label, prediction in zip(y_test, predicted):\n",
    "        if label == prediction:\n",
    "            correct_pred[classes[label]] += 1\n",
    "        total_pred[classes[label]] += 1\n",
    "\n",
    "    for classname, correct_count in correct_pred.items():\n",
    "        accuracy = float(correct_count) / total_pred[classname]\n",
    "        class_acc.append(accuracy)\n",
    "\n",
    "    if verbose:\n",
    "        print(f'Overall accuracy: {100 * mean_acc } %')\n",
    "\n",
    "        print(\"Accuracy per class:\")\n",
    "        for i,c in enumerate(classes):\n",
    "            print(f'{c:9s} : {class_acc[i] * 100:.1f} %')\n",
    "        \n",
    "    return mean_acc, class_acc"
   ]
  },
  {
   "cell_type": "markdown",
   "id": "7478b8a1",
   "metadata": {},
   "source": [
    "# ROC/AUC"
   ]
  },
  {
   "cell_type": "code",
   "execution_count": 36,
   "id": "a8017ba3",
   "metadata": {},
   "outputs": [],
   "source": [
    "\n",
    "def evaluate_roc_auc(y_test, y_scores, classes, plot=False, verbose=False):\n",
    "    # Compute ROC curve and ROC area for each class\n",
    "    fpr = dict()\n",
    "    tpr = dict()\n",
    "    ths = dict()\n",
    "    roc_auc = dict()\n",
    "    for i,_ in enumerate(classes):\n",
    "        fpr[i], tpr[i], ths[i] = roc_curve(y_test == i, y_scores[:,i])\n",
    "        roc_auc[i] = auc(fpr[i], tpr[i])\n",
    "\n",
    "    if plot:\n",
    "        # Plot of a ROC curve for a specific class\n",
    "        for i,c in enumerate(classes):\n",
    "            plt.figure()\n",
    "            plt.plot(fpr[i], tpr[i], label='ROC curve (area = %0.2f)' % roc_auc[i])\n",
    "            plt.plot([0, 1], [0, 1], 'k--')\n",
    "            plt.xlim([0.0, 1.0])\n",
    "            plt.ylim([0.0, 1.05])\n",
    "            plt.xlabel('False Positive Rate')\n",
    "            plt.ylabel('True Positive Rate')\n",
    "            plt.title(f'ROC {c}')\n",
    "            plt.legend(loc=\"lower right\")\n",
    "            plt.show()\n",
    "\n",
    "    mean_auc = np.mean(list(roc_auc.values()))\n",
    "\n",
    "    if verbose:\n",
    "        print(f\"Mean AUC: { mean_auc * 100} %\")\n",
    "\n",
    "        print(\"Per classs AUC:\")\n",
    "        for i,c in enumerate(classes):\n",
    "            print(f'{c:9s} : {roc_auc[i]*100:.2f} %')\n",
    "\n",
    "    return mean_auc, roc_auc"
   ]
  },
  {
   "cell_type": "code",
   "execution_count": 37,
   "id": "686e4867",
   "metadata": {},
   "outputs": [
    {
     "data": {
      "application/vnd.jupyter.widget-view+json": {
       "model_id": "376e4003b90f44d59e4f45a53c60fc35",
       "version_major": 2,
       "version_minor": 0
      },
      "text/plain": [
       "  0%|          | 0/11 [00:00<?, ?it/s]"
      ]
     },
     "metadata": {},
     "output_type": "display_data"
    },
    {
     "name": "stderr",
     "output_type": "stream",
     "text": [
      "C:\\Users\\Franc\\AppData\\Local\\Temp\\ipykernel_30988\\2590453873.py:26: UserWarning: Implicit dimension choice for softmax has been deprecated. Change the call to include dim=X as an argument.\n",
      "  output = F.softmax(input = output)\n"
     ]
    },
    {
     "data": {
      "application/vnd.jupyter.widget-view+json": {
       "model_id": "4bf9cc4a12df4c639c602b0fae99fd28",
       "version_major": 2,
       "version_minor": 0
      },
      "text/plain": [
       "  0%|          | 0/11 [00:00<?, ?it/s]"
      ]
     },
     "metadata": {},
     "output_type": "display_data"
    },
    {
     "data": {
      "application/vnd.jupyter.widget-view+json": {
       "model_id": "a217ad82e6d64ce1bac26ddf2253ff84",
       "version_major": 2,
       "version_minor": 0
      },
      "text/plain": [
       "  0%|          | 0/11 [00:00<?, ?it/s]"
      ]
     },
     "metadata": {},
     "output_type": "display_data"
    },
    {
     "data": {
      "application/vnd.jupyter.widget-view+json": {
       "model_id": "8ecf4ba40b1e42d087432993a68ba90a",
       "version_major": 2,
       "version_minor": 0
      },
      "text/plain": [
       "  0%|          | 0/11 [00:00<?, ?it/s]"
      ]
     },
     "metadata": {},
     "output_type": "display_data"
    }
   ],
   "source": [
    "y_test = dict()\n",
    "y_scores = dict()\n",
    "\n",
    "for fold,h in enumerate(histories):\n",
    "    y_test[fold], y_scores[fold] = get_model_predicitons(h[\"model\"],test_dl)"
   ]
  },
  {
   "cell_type": "code",
   "execution_count": 38,
   "id": "aa2f66f9",
   "metadata": {},
   "outputs": [
    {
     "data": {
      "text/html": [
       "<div>\n",
       "<style scoped>\n",
       "    .dataframe tbody tr th:only-of-type {\n",
       "        vertical-align: middle;\n",
       "    }\n",
       "\n",
       "    .dataframe tbody tr th {\n",
       "        vertical-align: top;\n",
       "    }\n",
       "\n",
       "    .dataframe thead th {\n",
       "        text-align: right;\n",
       "    }\n",
       "</style>\n",
       "<table border=\"1\" class=\"dataframe\">\n",
       "  <thead>\n",
       "    <tr style=\"text-align: right;\">\n",
       "      <th></th>\n",
       "      <th>mean AUC</th>\n",
       "      <th>angry AUC</th>\n",
       "      <th>disgust AUC</th>\n",
       "      <th>fear AUC</th>\n",
       "      <th>happy AUC</th>\n",
       "      <th>neautral AUC</th>\n",
       "      <th>sad AUC</th>\n",
       "      <th>surprise AUC</th>\n",
       "      <th>mean ACC</th>\n",
       "      <th>angry ACC</th>\n",
       "      <th>disgust ACC</th>\n",
       "      <th>fear ACC</th>\n",
       "      <th>happy ACC</th>\n",
       "      <th>neautral ACC</th>\n",
       "      <th>sad ACC</th>\n",
       "      <th>surprise ACC</th>\n",
       "    </tr>\n",
       "  </thead>\n",
       "  <tbody>\n",
       "    <tr>\n",
       "      <th>Fer2013_uniform fold 0</th>\n",
       "      <td>0.836826</td>\n",
       "      <td>0.751300</td>\n",
       "      <td>0.896567</td>\n",
       "      <td>0.738600</td>\n",
       "      <td>0.914300</td>\n",
       "      <td>0.830167</td>\n",
       "      <td>0.781950</td>\n",
       "      <td>0.944900</td>\n",
       "      <td>0.514286</td>\n",
       "      <td>0.370</td>\n",
       "      <td>0.4500</td>\n",
       "      <td>0.48</td>\n",
       "      <td>0.6700</td>\n",
       "      <td>0.5200</td>\n",
       "      <td>0.330</td>\n",
       "      <td>0.780</td>\n",
       "    </tr>\n",
       "    <tr>\n",
       "      <th>Fer2013_uniform fold 1</th>\n",
       "      <td>0.856333</td>\n",
       "      <td>0.809883</td>\n",
       "      <td>0.918250</td>\n",
       "      <td>0.741300</td>\n",
       "      <td>0.929067</td>\n",
       "      <td>0.836567</td>\n",
       "      <td>0.821500</td>\n",
       "      <td>0.937767</td>\n",
       "      <td>0.555714</td>\n",
       "      <td>0.540</td>\n",
       "      <td>0.4700</td>\n",
       "      <td>0.32</td>\n",
       "      <td>0.7400</td>\n",
       "      <td>0.5100</td>\n",
       "      <td>0.530</td>\n",
       "      <td>0.780</td>\n",
       "    </tr>\n",
       "    <tr>\n",
       "      <th>Fer2013_uniform fold 2</th>\n",
       "      <td>0.848690</td>\n",
       "      <td>0.787583</td>\n",
       "      <td>0.917050</td>\n",
       "      <td>0.732900</td>\n",
       "      <td>0.923533</td>\n",
       "      <td>0.838283</td>\n",
       "      <td>0.792600</td>\n",
       "      <td>0.948883</td>\n",
       "      <td>0.545714</td>\n",
       "      <td>0.510</td>\n",
       "      <td>0.5100</td>\n",
       "      <td>0.34</td>\n",
       "      <td>0.6900</td>\n",
       "      <td>0.5500</td>\n",
       "      <td>0.460</td>\n",
       "      <td>0.760</td>\n",
       "    </tr>\n",
       "    <tr>\n",
       "      <th>Fer2013_uniform fold 3</th>\n",
       "      <td>0.846363</td>\n",
       "      <td>0.781167</td>\n",
       "      <td>0.907400</td>\n",
       "      <td>0.712117</td>\n",
       "      <td>0.933533</td>\n",
       "      <td>0.852800</td>\n",
       "      <td>0.802133</td>\n",
       "      <td>0.935392</td>\n",
       "      <td>0.557143</td>\n",
       "      <td>0.480</td>\n",
       "      <td>0.5000</td>\n",
       "      <td>0.34</td>\n",
       "      <td>0.7700</td>\n",
       "      <td>0.5700</td>\n",
       "      <td>0.500</td>\n",
       "      <td>0.740</td>\n",
       "    </tr>\n",
       "    <tr>\n",
       "      <th>Fer2013_uniform mean</th>\n",
       "      <td>0.847053</td>\n",
       "      <td>0.782483</td>\n",
       "      <td>0.909817</td>\n",
       "      <td>0.731229</td>\n",
       "      <td>0.925108</td>\n",
       "      <td>0.839454</td>\n",
       "      <td>0.799546</td>\n",
       "      <td>0.941735</td>\n",
       "      <td>0.543214</td>\n",
       "      <td>0.475</td>\n",
       "      <td>0.4825</td>\n",
       "      <td>0.37</td>\n",
       "      <td>0.7175</td>\n",
       "      <td>0.5375</td>\n",
       "      <td>0.455</td>\n",
       "      <td>0.765</td>\n",
       "    </tr>\n",
       "  </tbody>\n",
       "</table>\n",
       "</div>"
      ],
      "text/plain": [
       "                        mean AUC  angry AUC  disgust AUC  fear AUC  happy AUC  \\\n",
       "Fer2013_uniform fold 0  0.836826   0.751300     0.896567  0.738600   0.914300   \n",
       "Fer2013_uniform fold 1  0.856333   0.809883     0.918250  0.741300   0.929067   \n",
       "Fer2013_uniform fold 2  0.848690   0.787583     0.917050  0.732900   0.923533   \n",
       "Fer2013_uniform fold 3  0.846363   0.781167     0.907400  0.712117   0.933533   \n",
       "Fer2013_uniform mean    0.847053   0.782483     0.909817  0.731229   0.925108   \n",
       "\n",
       "                        neautral AUC   sad AUC  surprise AUC  mean ACC  \\\n",
       "Fer2013_uniform fold 0      0.830167  0.781950      0.944900  0.514286   \n",
       "Fer2013_uniform fold 1      0.836567  0.821500      0.937767  0.555714   \n",
       "Fer2013_uniform fold 2      0.838283  0.792600      0.948883  0.545714   \n",
       "Fer2013_uniform fold 3      0.852800  0.802133      0.935392  0.557143   \n",
       "Fer2013_uniform mean        0.839454  0.799546      0.941735  0.543214   \n",
       "\n",
       "                        angry ACC  disgust ACC  fear ACC  happy ACC  \\\n",
       "Fer2013_uniform fold 0      0.370       0.4500      0.48     0.6700   \n",
       "Fer2013_uniform fold 1      0.540       0.4700      0.32     0.7400   \n",
       "Fer2013_uniform fold 2      0.510       0.5100      0.34     0.6900   \n",
       "Fer2013_uniform fold 3      0.480       0.5000      0.34     0.7700   \n",
       "Fer2013_uniform mean        0.475       0.4825      0.37     0.7175   \n",
       "\n",
       "                        neautral ACC  sad ACC  surprise ACC  \n",
       "Fer2013_uniform fold 0        0.5200    0.330         0.780  \n",
       "Fer2013_uniform fold 1        0.5100    0.530         0.780  \n",
       "Fer2013_uniform fold 2        0.5500    0.460         0.760  \n",
       "Fer2013_uniform fold 3        0.5700    0.500         0.740  \n",
       "Fer2013_uniform mean          0.5375    0.455         0.765  "
      ]
     },
     "execution_count": 38,
     "metadata": {},
     "output_type": "execute_result"
    }
   ],
   "source": [
    "columns=[\"mean AUC\", \"angry AUC\", \"disgust AUC\", \"fear AUC\", \"happy AUC\", \"neautral AUC\", \"sad AUC\", \"surprise AUC\", \"mean ACC\", \"angry ACC\", \"disgust ACC\", \"fear ACC\", \"happy ACC\", \"neautral ACC\", \"sad ACC\", \"surprise ACC\"]\n",
    "df = pd.DataFrame(columns = columns)\n",
    "\n",
    "for fold,_ in enumerate(histories):\n",
    "    mean_acc,class_acc = evaluate_accuracy(y_test[fold], y_scores[fold], classes)\n",
    "    mean_auc,roc_auc = evaluate_roc_auc(y_test[fold], y_scores[fold], classes)\n",
    "\n",
    "    exp = [mean_auc]\n",
    "    exp += list(roc_auc.values())\n",
    "    exp += [mean_acc]\n",
    "    exp += class_acc\n",
    "\n",
    "    df_new = pd.DataFrame( np.array([exp]),[f\"{dataset_name} fold {fold}\"], columns=columns)\n",
    "    df = pd.concat([df,df_new])\n",
    "    df = df.astype('float')\n",
    "\n",
    "mean_df = df.mean(0).to_frame().transpose().set_index(pd.Index([f\"{dataset_name} mean\"]))\n",
    "df = pd.concat([df,mean_df])\n",
    "df\n"
   ]
  },
  {
   "cell_type": "markdown",
   "id": "bbe8f59a",
   "metadata": {},
   "source": [
    "## Save metrics"
   ]
  },
  {
   "cell_type": "code",
   "execution_count": 39,
   "id": "6dfac9df",
   "metadata": {},
   "outputs": [
    {
     "data": {
      "text/html": [
       "<div>\n",
       "<style scoped>\n",
       "    .dataframe tbody tr th:only-of-type {\n",
       "        vertical-align: middle;\n",
       "    }\n",
       "\n",
       "    .dataframe tbody tr th {\n",
       "        vertical-align: top;\n",
       "    }\n",
       "\n",
       "    .dataframe thead th {\n",
       "        text-align: right;\n",
       "    }\n",
       "</style>\n",
       "<table border=\"1\" class=\"dataframe\">\n",
       "  <thead>\n",
       "    <tr style=\"text-align: right;\">\n",
       "      <th></th>\n",
       "      <th>mean AUC</th>\n",
       "      <th>angry AUC</th>\n",
       "      <th>disgust AUC</th>\n",
       "      <th>fear AUC</th>\n",
       "      <th>happy AUC</th>\n",
       "      <th>neautral AUC</th>\n",
       "      <th>sad AUC</th>\n",
       "      <th>surprise AUC</th>\n",
       "      <th>mean ACC</th>\n",
       "      <th>angry ACC</th>\n",
       "      <th>disgust ACC</th>\n",
       "      <th>fear ACC</th>\n",
       "      <th>happy ACC</th>\n",
       "      <th>neautral ACC</th>\n",
       "      <th>sad ACC</th>\n",
       "      <th>surprise ACC</th>\n",
       "    </tr>\n",
       "  </thead>\n",
       "  <tbody>\n",
       "    <tr>\n",
       "      <th>Fer2013_uniform xval-4</th>\n",
       "      <td>0.845617</td>\n",
       "      <td>0.785500</td>\n",
       "      <td>0.907362</td>\n",
       "      <td>0.730771</td>\n",
       "      <td>0.923177</td>\n",
       "      <td>0.822044</td>\n",
       "      <td>0.810358</td>\n",
       "      <td>0.940106</td>\n",
       "      <td>0.548571</td>\n",
       "      <td>0.475</td>\n",
       "      <td>0.4925</td>\n",
       "      <td>0.3375</td>\n",
       "      <td>0.7250</td>\n",
       "      <td>0.5375</td>\n",
       "      <td>0.520</td>\n",
       "      <td>0.7525</td>\n",
       "    </tr>\n",
       "    <tr>\n",
       "      <th>Fer2013_uniform xval-4</th>\n",
       "      <td>0.846888</td>\n",
       "      <td>0.773717</td>\n",
       "      <td>0.911138</td>\n",
       "      <td>0.737354</td>\n",
       "      <td>0.920221</td>\n",
       "      <td>0.829625</td>\n",
       "      <td>0.811850</td>\n",
       "      <td>0.944310</td>\n",
       "      <td>0.547857</td>\n",
       "      <td>0.475</td>\n",
       "      <td>0.4650</td>\n",
       "      <td>0.3750</td>\n",
       "      <td>0.7350</td>\n",
       "      <td>0.5275</td>\n",
       "      <td>0.500</td>\n",
       "      <td>0.7575</td>\n",
       "    </tr>\n",
       "    <tr>\n",
       "      <th>Fer2013_uniform xval-4</th>\n",
       "      <td>0.847053</td>\n",
       "      <td>0.782483</td>\n",
       "      <td>0.909817</td>\n",
       "      <td>0.731229</td>\n",
       "      <td>0.925108</td>\n",
       "      <td>0.839454</td>\n",
       "      <td>0.799546</td>\n",
       "      <td>0.941735</td>\n",
       "      <td>0.543214</td>\n",
       "      <td>0.475</td>\n",
       "      <td>0.4825</td>\n",
       "      <td>0.3700</td>\n",
       "      <td>0.7175</td>\n",
       "      <td>0.5375</td>\n",
       "      <td>0.455</td>\n",
       "      <td>0.7650</td>\n",
       "    </tr>\n",
       "  </tbody>\n",
       "</table>\n",
       "</div>"
      ],
      "text/plain": [
       "                        mean AUC  angry AUC  disgust AUC  fear AUC  happy AUC  \\\n",
       "Fer2013_uniform xval-4  0.845617   0.785500     0.907362  0.730771   0.923177   \n",
       "Fer2013_uniform xval-4  0.846888   0.773717     0.911138  0.737354   0.920221   \n",
       "Fer2013_uniform xval-4  0.847053   0.782483     0.909817  0.731229   0.925108   \n",
       "\n",
       "                        neautral AUC   sad AUC  surprise AUC  mean ACC  \\\n",
       "Fer2013_uniform xval-4      0.822044  0.810358      0.940106  0.548571   \n",
       "Fer2013_uniform xval-4      0.829625  0.811850      0.944310  0.547857   \n",
       "Fer2013_uniform xval-4      0.839454  0.799546      0.941735  0.543214   \n",
       "\n",
       "                        angry ACC  disgust ACC  fear ACC  happy ACC  \\\n",
       "Fer2013_uniform xval-4      0.475       0.4925    0.3375     0.7250   \n",
       "Fer2013_uniform xval-4      0.475       0.4650    0.3750     0.7350   \n",
       "Fer2013_uniform xval-4      0.475       0.4825    0.3700     0.7175   \n",
       "\n",
       "                        neautral ACC  sad ACC  surprise ACC  \n",
       "Fer2013_uniform xval-4        0.5375    0.520        0.7525  \n",
       "Fer2013_uniform xval-4        0.5275    0.500        0.7575  \n",
       "Fer2013_uniform xval-4        0.5375    0.455        0.7650  "
      ]
     },
     "execution_count": 39,
     "metadata": {},
     "output_type": "execute_result"
    }
   ],
   "source": [
    "try:\n",
    "    stored_df = pd.read_csv(os.path.join(metrics_directory, metrics_name),index_col=0)\n",
    "except FileNotFoundError:\n",
    "    stored_df = pd.DataFrame(columns = columns)\n",
    "stored_df"
   ]
  },
  {
   "cell_type": "code",
   "execution_count": 26,
   "id": "417b7565",
   "metadata": {},
   "outputs": [
    {
     "data": {
      "text/html": [
       "<div>\n",
       "<style scoped>\n",
       "    .dataframe tbody tr th:only-of-type {\n",
       "        vertical-align: middle;\n",
       "    }\n",
       "\n",
       "    .dataframe tbody tr th {\n",
       "        vertical-align: top;\n",
       "    }\n",
       "\n",
       "    .dataframe thead th {\n",
       "        text-align: right;\n",
       "    }\n",
       "</style>\n",
       "<table border=\"1\" class=\"dataframe\">\n",
       "  <thead>\n",
       "    <tr style=\"text-align: right;\">\n",
       "      <th></th>\n",
       "      <th>mean AUC</th>\n",
       "      <th>angry AUC</th>\n",
       "      <th>disgust AUC</th>\n",
       "      <th>fear AUC</th>\n",
       "      <th>happy AUC</th>\n",
       "      <th>neautral AUC</th>\n",
       "      <th>sad AUC</th>\n",
       "      <th>surprise AUC</th>\n",
       "      <th>mean ACC</th>\n",
       "      <th>angry ACC</th>\n",
       "      <th>disgust ACC</th>\n",
       "      <th>fear ACC</th>\n",
       "      <th>happy ACC</th>\n",
       "      <th>neautral ACC</th>\n",
       "      <th>sad ACC</th>\n",
       "      <th>surprise ACC</th>\n",
       "    </tr>\n",
       "  </thead>\n",
       "  <tbody>\n",
       "    <tr>\n",
       "      <th>Fer2013_uniform xval-4</th>\n",
       "      <td>0.845617</td>\n",
       "      <td>0.785500</td>\n",
       "      <td>0.907362</td>\n",
       "      <td>0.730771</td>\n",
       "      <td>0.923177</td>\n",
       "      <td>0.822044</td>\n",
       "      <td>0.810358</td>\n",
       "      <td>0.940106</td>\n",
       "      <td>0.548571</td>\n",
       "      <td>0.475</td>\n",
       "      <td>0.4925</td>\n",
       "      <td>0.3375</td>\n",
       "      <td>0.7250</td>\n",
       "      <td>0.5375</td>\n",
       "      <td>0.520</td>\n",
       "      <td>0.7525</td>\n",
       "    </tr>\n",
       "    <tr>\n",
       "      <th>Fer2013_uniform xval-4</th>\n",
       "      <td>0.846888</td>\n",
       "      <td>0.773717</td>\n",
       "      <td>0.911138</td>\n",
       "      <td>0.737354</td>\n",
       "      <td>0.920221</td>\n",
       "      <td>0.829625</td>\n",
       "      <td>0.811850</td>\n",
       "      <td>0.944310</td>\n",
       "      <td>0.547857</td>\n",
       "      <td>0.475</td>\n",
       "      <td>0.4650</td>\n",
       "      <td>0.3750</td>\n",
       "      <td>0.7350</td>\n",
       "      <td>0.5275</td>\n",
       "      <td>0.500</td>\n",
       "      <td>0.7575</td>\n",
       "    </tr>\n",
       "    <tr>\n",
       "      <th>Fer2013_uniform xval-4</th>\n",
       "      <td>0.847053</td>\n",
       "      <td>0.782483</td>\n",
       "      <td>0.909817</td>\n",
       "      <td>0.731229</td>\n",
       "      <td>0.925108</td>\n",
       "      <td>0.839454</td>\n",
       "      <td>0.799546</td>\n",
       "      <td>0.941735</td>\n",
       "      <td>0.543214</td>\n",
       "      <td>0.475</td>\n",
       "      <td>0.4825</td>\n",
       "      <td>0.3700</td>\n",
       "      <td>0.7175</td>\n",
       "      <td>0.5375</td>\n",
       "      <td>0.455</td>\n",
       "      <td>0.7650</td>\n",
       "    </tr>\n",
       "  </tbody>\n",
       "</table>\n",
       "</div>"
      ],
      "text/plain": [
       "                        mean AUC  angry AUC  disgust AUC  fear AUC  happy AUC  \\\n",
       "Fer2013_uniform xval-4  0.845617   0.785500     0.907362  0.730771   0.923177   \n",
       "Fer2013_uniform xval-4  0.846888   0.773717     0.911138  0.737354   0.920221   \n",
       "Fer2013_uniform xval-4  0.847053   0.782483     0.909817  0.731229   0.925108   \n",
       "\n",
       "                        neautral AUC   sad AUC  surprise AUC  mean ACC  \\\n",
       "Fer2013_uniform xval-4      0.822044  0.810358      0.940106  0.548571   \n",
       "Fer2013_uniform xval-4      0.829625  0.811850      0.944310  0.547857   \n",
       "Fer2013_uniform xval-4      0.839454  0.799546      0.941735  0.543214   \n",
       "\n",
       "                        angry ACC  disgust ACC  fear ACC  happy ACC  \\\n",
       "Fer2013_uniform xval-4      0.475       0.4925    0.3375     0.7250   \n",
       "Fer2013_uniform xval-4      0.475       0.4650    0.3750     0.7350   \n",
       "Fer2013_uniform xval-4      0.475       0.4825    0.3700     0.7175   \n",
       "\n",
       "                        neautral ACC  sad ACC  surprise ACC  \n",
       "Fer2013_uniform xval-4        0.5375    0.520        0.7525  \n",
       "Fer2013_uniform xval-4        0.5275    0.500        0.7575  \n",
       "Fer2013_uniform xval-4        0.5375    0.455        0.7650  "
      ]
     },
     "execution_count": 26,
     "metadata": {},
     "output_type": "execute_result"
    }
   ],
   "source": [
    "stored_df = pd.concat([stored_df,mean_df.set_index(pd.Index([f\"{dataset_name} xval-{splits}\"]))])\n",
    "stored_df"
   ]
  },
  {
   "cell_type": "code",
   "execution_count": 27,
   "id": "d202fe7c",
   "metadata": {},
   "outputs": [],
   "source": [
    "if not os.path.isdir(metrics_directory):\n",
    "    os.makedirs(name = metrics_directory)\n",
    "stored_df.to_csv(os.path.join(metrics_directory, metrics_name))"
   ]
  },
  {
   "cell_type": "code",
   "execution_count": null,
   "id": "4f6a75c8",
   "metadata": {},
   "outputs": [],
   "source": []
  }
 ],
 "metadata": {
  "kernelspec": {
   "display_name": "Python 3.9.13 64-bit (system)",
   "language": "python",
   "name": "python3"
  },
  "language_info": {
   "codemirror_mode": {
    "name": "ipython",
    "version": 3
   },
   "file_extension": ".py",
   "mimetype": "text/x-python",
   "name": "python",
   "nbconvert_exporter": "python",
   "pygments_lexer": "ipython3",
   "version": "3.9.13"
  },
  "vscode": {
   "interpreter": {
    "hash": "4c1f182555212a9854645afbacc562781dae715ef930cf4cbb779c01705a033a"
   }
  }
 },
 "nbformat": 4,
 "nbformat_minor": 5
}
