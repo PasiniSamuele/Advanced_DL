{
 "cells": [
  {
   "cell_type": "markdown",
   "id": "64b0897f",
   "metadata": {},
   "source": [
    "# Classifier"
   ]
  },
  {
   "cell_type": "markdown",
   "id": "08a9de04",
   "metadata": {},
   "source": [
    "## Import libraries"
   ]
  },
  {
   "cell_type": "code",
   "execution_count": 1,
   "id": "f30487ab-c2a7-4231-80cd-942fbc97e0a4",
   "metadata": {},
   "outputs": [],
   "source": [
    "import torch\n",
    "import torch.nn as nn\n",
    "import torch.nn.functional as F\n",
    "import torch.optim as optim\n",
    "import os\n",
    "import sys\n",
    "from tqdm.notebook import tqdm, trange\n",
    "from time import sleep\n",
    "from torchvision.io import read_image\n",
    "from torchvision.transforms import ToTensor\n",
    "from torchvision import transforms\n",
    "from torchsummary import summary\n",
    "from torch.utils.data import DataLoader\n",
    "from torchvision.datasets import ImageFolder\n",
    "from collections import Counter\n",
    "import numpy as np\n",
    "from sklearn.metrics import roc_curve, auc\n",
    "from sklearn import datasets\n",
    "from sklearn.multiclass import OneVsRestClassifier\n",
    "from sklearn.svm import LinearSVC\n",
    "from sklearn.preprocessing import label_binarize\n",
    "from sklearn.model_selection import train_test_split\n",
    "import matplotlib.pyplot as plt\n",
    "import pandas as pd\n",
    "import datetime\n",
    "from sklearn.model_selection import StratifiedKFold\n",
    "\n",
    "import winsound\n"
   ]
  },
  {
   "cell_type": "code",
   "execution_count": 2,
   "id": "b0cc28d1",
   "metadata": {},
   "outputs": [],
   "source": [
    "seed = 23\n",
    "save_model = True\n",
    "load_model = False\n",
    "\n",
    "models_directory = \"final_models\"\n",
    "metrics_directory = \"final_metrics\"\n",
    "metrics_name = \"metrics_filtered_early.csv\"\n",
    "dataset_name = \"Fer2013_filtered_uniform_aug_surprise100_identity05\"\n",
    "train_df_path = f\"../datasets/{dataset_name}/train\"\n",
    "test_df_path = f\"../datasets/{dataset_name}/test\"\n",
    "\n",
    "batch_size = 64"
   ]
  },
  {
   "cell_type": "code",
   "execution_count": 3,
   "id": "9b17af85",
   "metadata": {},
   "outputs": [
    {
     "name": "stdout",
     "output_type": "stream",
     "text": [
      "date and time: 09-27-2022_09-19-15\n"
     ]
    }
   ],
   "source": [
    "today = datetime.datetime.now()\n",
    "date_time = today.strftime(\"%m-%d-%Y_%H-%M-%S\")\n",
    "print(\"date and time:\",date_time)"
   ]
  },
  {
   "cell_type": "code",
   "execution_count": 4,
   "id": "51d3e35d",
   "metadata": {},
   "outputs": [],
   "source": [
    "if not os.path.isdir(models_directory):\n",
    "    os.makedirs(name = models_directory)\n",
    "models_directory_data = os.path.join(models_directory,dataset_name+\"_\"+date_time)\n",
    "if not os.path.isdir(models_directory_data):\n",
    "    os.makedirs(name = models_directory_data)"
   ]
  },
  {
   "cell_type": "markdown",
   "id": "ed5c4b34",
   "metadata": {},
   "source": [
    "## Functions definition"
   ]
  },
  {
   "cell_type": "code",
   "execution_count": 5,
   "id": "084cd3c3-e57c-434e-9669-2ff06fa1d080",
   "metadata": {},
   "outputs": [],
   "source": [
    "def get_default_device():\n",
    "    \"\"\"Pick GPU if available, else CPU\"\"\"\n",
    "    if torch.cuda.is_available():\n",
    "        return torch.device('cuda')\n",
    "    else:\n",
    "        return torch.device('cpu')\n",
    "    \n",
    "def to_device(data, device):\n",
    "    \"\"\"Move tensor(s) to chosen device\"\"\"\n",
    "    if isinstance(data, (list,tuple)):\n",
    "        return [to_device(x, device) for x in data]\n",
    "    return data.to(device, non_blocking=True)"
   ]
  },
  {
   "cell_type": "code",
   "execution_count": 6,
   "id": "e0a6ad2d-46c4-4553-94e6-5459666c6a9e",
   "metadata": {},
   "outputs": [],
   "source": [
    "@torch.no_grad()\n",
    "def evaluate(model, val_loader):\n",
    "    model.eval()\n",
    "    outputs = [model.validation_step(batch) for batch in val_loader]\n",
    "    return model.validation_epoch_end(outputs)\n",
    "\n",
    "def get_lr(optimizer):\n",
    "    for param_group in optimizer.param_groups:\n",
    "        return param_group['lr']\n",
    "\n",
    "def fit(epochs, patience, lr, model, train_loader, val_loader, opt_func=torch.optim.SGD, scheduler_func=None, fold = None):\n",
    "    history = []\n",
    "    optimizer = opt_func(model.parameters(), lr, betas=(0.5,0.999))\n",
    "    scheduler = scheduler_func(optimizer, mode='min', patience=3, factor = 0.5) # Reduce lr by half\n",
    "    min_val_loss = sys.float_info.max\n",
    "    patience_cnt = 0\n",
    "    for epoch in tqdm(range(epochs), desc = \"Current Epoch\"):\n",
    "        # Training Phase \n",
    "        model.train()\n",
    "        train_losses = []\n",
    "        for batch in tqdm(train_loader, desc = f\"Epoch: {epoch}\", leave= False):\n",
    "            optimizer.zero_grad()\n",
    "            loss = model.training_step(batch)\n",
    "            train_losses.append(loss)\n",
    "            loss.backward()\n",
    "            optimizer.step()\n",
    "        # Validation phase\n",
    "        result = evaluate(model, val_loader)\n",
    "        result['train_loss'] = torch.stack(train_losses).mean().item()\n",
    "\n",
    "        scheduler.step(result['val_loss'])\n",
    "        result['lrate'] = get_lr(optimizer)\n",
    "\n",
    "        if epoch > 0 and min_val_loss - result['val_loss'] >= 1e-4:\n",
    "            patience_cnt = 0\n",
    "        else:\n",
    "            patience_cnt += 1\n",
    "            \n",
    "        if result['val_loss'] <= min_val_loss:\n",
    "            min_val_loss = result['val_loss']\n",
    "            min_val_epoch = epoch\n",
    "            model_path = os.path.join(models_directory_data,f\"classifier_fold_{fold}.pt\")\n",
    "            torch.save(model.state_dict(), model_path)\n",
    "\n",
    "        if patience_cnt >= patience:\n",
    "            print('Early stopping')\n",
    "            break\n",
    "\n",
    "        model.epoch_end(epoch, result)\n",
    "        history.append(result)\n",
    "    model.load_state_dict(torch.load(os.path.join(models_directory_data,f\"classifier_fold_{fold}.pt\")))\n",
    "    return history,min_val_epoch"
   ]
  },
  {
   "cell_type": "markdown",
   "id": "ca246c54",
   "metadata": {},
   "source": [
    "## Class definition"
   ]
  },
  {
   "cell_type": "code",
   "execution_count": 7,
   "id": "30e57e57",
   "metadata": {},
   "outputs": [],
   "source": [
    "class DeviceDataLoader():\n",
    "    \"\"\"Wrap a dataloader to move data to a device\"\"\"\n",
    "    def __init__(self, dl, device):\n",
    "        self.dl = dl\n",
    "        self.device = device\n",
    "        \n",
    "    def __iter__(self):\n",
    "        \"\"\"Yield a batch of data after moving it to device\"\"\"\n",
    "        for b in self.dl: \n",
    "            yield to_device(b, self.device)\n",
    "\n",
    "    def __len__(self):\n",
    "        \"\"\"Number of batches\"\"\"\n",
    "        return len(self.dl)"
   ]
  },
  {
   "cell_type": "code",
   "execution_count": 8,
   "id": "1042dd71-2d30-4b9e-b7fd-dc0178421675",
   "metadata": {},
   "outputs": [],
   "source": [
    "class Metric():\n",
    "    def __init__(self, name):\n",
    "        self.name = name\n",
    "    \n",
    "    def eval(self, outputs, labels):\n",
    "        pass"
   ]
  },
  {
   "cell_type": "code",
   "execution_count": 9,
   "id": "6ab563e9-aeac-45c8-a5da-e99f8cbc54ca",
   "metadata": {},
   "outputs": [],
   "source": [
    "class PRECuracy(Metric):\n",
    "    \n",
    "    def eval(self, outputs, labels):\n",
    "        _, preds = torch.max(outputs, dim=1)\n",
    "        return torch.tensor(torch.sum(preds == labels).item() / len(preds))"
   ]
  },
  {
   "cell_type": "code",
   "execution_count": 10,
   "id": "1977248f-bcac-4d98-806b-013f3fa7e6f4",
   "metadata": {},
   "outputs": [],
   "source": [
    "class ImageClassificationBase(nn.Module):\n",
    "    \n",
    "    def __init__(self, loss_function, metrics):\n",
    "        super().__init__()\n",
    "        self.loss_function = loss_function\n",
    "        self.metrics = metrics\n",
    "    \n",
    "    def training_step(self, batch):\n",
    "        images, labels = batch \n",
    "        out = self(images)                  # Generate predictions\n",
    "        loss = self.loss_function(out, labels) # Calculate loss\n",
    "        return loss\n",
    "    \n",
    "    def validation_step(self, batch):\n",
    "        images, labels = batch \n",
    "        out = self(images)                    # Generate predictions\n",
    "        loss = self.loss_function(out, labels)   # Calculate loss\n",
    "        result = {'val_loss': loss.detach()}\n",
    "        \n",
    "        for m in self.metrics:\n",
    "            result[m.name] = m.eval(out, labels)           # Calculate metrics\n",
    "            \n",
    "        return result\n",
    "        \n",
    "    def validation_epoch_end(self, outputs):\n",
    "        batch_losses = [x['val_loss'] for x in outputs]\n",
    "        epoch_loss = torch.stack(batch_losses).mean()   # Combine losses\n",
    "        \n",
    "        result = {'val_loss': epoch_loss.item()}\n",
    "        \n",
    "        for m in self.metrics:\n",
    "            batch = [x[m.name] for x in outputs]\n",
    "            epoch = torch.stack(batch).mean()      # Combine metrics\n",
    "            result[m.name] = epoch.item()\n",
    "            \n",
    "        return result\n",
    "    \n",
    "    def epoch_end(self, epoch, result):\n",
    "        out = f\"Epoch [{epoch}]\"\n",
    "        vals = list(result.keys())\n",
    "        for v in vals:\n",
    "            out += f\", {v}: {result[v]:.3e}\"\n",
    "        print(out)\n",
    "        "
   ]
  },
  {
   "cell_type": "code",
   "execution_count": 11,
   "id": "125ec41f-92e5-4844-bc89-6eeb84c08eb6",
   "metadata": {},
   "outputs": [],
   "source": [
    "class Net(ImageClassificationBase):\n",
    "    \n",
    "    def __init__(self, loss_function, metrics, out_size):\n",
    "        super().__init__(loss_function, metrics)\n",
    "        self.conv1 = nn.Conv2d(in_channels=1, out_channels=32, kernel_size=3, stride=1)\n",
    "        self.pool1 = nn.MaxPool2d(kernel_size=3,stride=2, padding=1)\n",
    "        self.norm1 = nn.BatchNorm2d(32)\n",
    "        self.conv2 = nn.Conv2d(in_channels=32, out_channels=64, kernel_size=3, stride=1)\n",
    "        self.pool2 = nn.MaxPool2d(kernel_size=3,stride=2, padding=1)\n",
    "        self.norm2 = nn.BatchNorm2d(64)\n",
    "        self.conv3 = nn.Conv2d(in_channels=64, out_channels=128, kernel_size=3, stride=1)\n",
    "        self.pool3 = nn.MaxPool2d(kernel_size=3, stride=2, padding=1)\n",
    "        self.norm3 = nn.BatchNorm2d(128)\n",
    "        self.fc1 = nn.Linear(in_features=128*5*5, out_features=256)\n",
    "        self.fc2 = nn.Linear(in_features=256, out_features=256)\n",
    "        self.fc = nn.Linear(256, out_size)\n",
    "\n",
    "    def forward(self, input):\n",
    "        output = self.norm1(self.pool1(F.relu(self.conv1(input))))\n",
    "        output = self.norm2(self.pool2(F.relu(self.conv2((output)))))\n",
    "        output = self.norm3(self.pool3(F.relu(self.conv3((output)))))\n",
    "        #print(output.shape)\n",
    "        output = output.view(-1, 128*5*5)\n",
    "        output = F.relu(self.fc1(output))\n",
    "        output = F.relu(self.fc2(output))\n",
    "        output = self.fc(output)\n",
    "        output = F.softmax(input = output, dim=-1)\n",
    "        return output"
   ]
  },
  {
   "cell_type": "code",
   "execution_count": 12,
   "id": "1bb92e60",
   "metadata": {},
   "outputs": [
    {
     "name": "stdout",
     "output_type": "stream",
     "text": [
      "cuda\n"
     ]
    }
   ],
   "source": [
    "device = get_default_device()\n",
    "print(device)"
   ]
  },
  {
   "cell_type": "markdown",
   "id": "76ef2e5b",
   "metadata": {},
   "source": [
    "## Dataset loading"
   ]
  },
  {
   "cell_type": "code",
   "execution_count": 13,
   "id": "5f983610-8ba7-4afc-81b4-44c255c5257c",
   "metadata": {},
   "outputs": [],
   "source": [
    "df_train = ImageFolder(root=train_df_path, transform=transforms.Compose([transforms.Grayscale(num_output_channels=1),\n",
    "                                     transforms.ToTensor()]))\n",
    "df_test = ImageFolder(root=test_df_path, transform=transforms.Compose([transforms.Grayscale(num_output_channels=1),\n",
    "                                     transforms.ToTensor()]))"
   ]
  },
  {
   "cell_type": "code",
   "execution_count": 14,
   "id": "e8d4b406",
   "metadata": {},
   "outputs": [],
   "source": [
    "train_dl = DeviceDataLoader(DataLoader(df_train, batch_size=batch_size),device)\n",
    "test_dl = DeviceDataLoader(DataLoader(df_test, batch_size=batch_size, shuffle=False),device)"
   ]
  },
  {
   "cell_type": "code",
   "execution_count": 15,
   "id": "72f96e28-c09a-4c5f-836b-51ea2ae0ed52",
   "metadata": {},
   "outputs": [
    {
     "data": {
      "text/plain": [
       "['angry', 'disgust', 'fear', 'happy', 'neutral', 'sad', 'surprise']"
      ]
     },
     "execution_count": 15,
     "metadata": {},
     "output_type": "execute_result"
    }
   ],
   "source": [
    "classes = df_train.classes\n",
    "classes"
   ]
  },
  {
   "cell_type": "code",
   "execution_count": 16,
   "id": "48aa05f0",
   "metadata": {},
   "outputs": [
    {
     "name": "stdout",
     "output_type": "stream",
     "text": [
      "{0: 3715, 1: 321, 2: 3320, 3: 7867, 4: 4963, 5: 4679, 6: 3476}\n",
      "tensor([0.0864, 1.0000, 0.0967, 0.0408, 0.0647, 0.0686, 0.0923])\n"
     ]
    }
   ],
   "source": [
    "counts = dict(Counter(df_train.targets))\n",
    "print(counts)\n",
    "weights = np.array(list(counts.values()))\n",
    "weights = torch.Tensor( min(weights)/weights)\n",
    "print(weights)"
   ]
  },
  {
   "cell_type": "markdown",
   "id": "793bf2de",
   "metadata": {},
   "source": [
    "## Model design and Training"
   ]
  },
  {
   "cell_type": "code",
   "execution_count": 17,
   "id": "62f2c2a4",
   "metadata": {},
   "outputs": [],
   "source": [
    "loss_function = nn.CrossEntropyLoss(weight = weights)\n",
    "metrics = []\n",
    "optimizer = optim.Adam\n",
    "scheduler = optim.lr_scheduler.ReduceLROnPlateau\n",
    "\n",
    "lr = 0.0001\n",
    "num_epochs = 100\n",
    "patience = 5"
   ]
  },
  {
   "cell_type": "code",
   "execution_count": 18,
   "id": "94ef4dba-0260-4d4a-947b-52ecf388c783",
   "metadata": {},
   "outputs": [
    {
     "name": "stdout",
     "output_type": "stream",
     "text": [
      "------------fold no---------0----------------------\n"
     ]
    },
    {
     "data": {
      "application/vnd.jupyter.widget-view+json": {
       "model_id": "43c9d70d477344be9ba65b079ef47c52",
       "version_major": 2,
       "version_minor": 0
      },
      "text/plain": [
       "Current Epoch:   0%|          | 0/100 [00:00<?, ?it/s]"
      ]
     },
     "metadata": {},
     "output_type": "display_data"
    },
    {
     "data": {
      "application/vnd.jupyter.widget-view+json": {
       "model_id": "a057182c6ed84ac699e09d3b53618323",
       "version_major": 2,
       "version_minor": 0
      },
      "text/plain": [
       "Epoch: 0:   0%|          | 0/399 [00:00<?, ?it/s]"
      ]
     },
     "metadata": {},
     "output_type": "display_data"
    },
    {
     "name": "stdout",
     "output_type": "stream",
     "text": [
      "Epoch [0], val_loss: 1.645e+00, train_loss: 1.765e+00, lrate: 1.000e-04\n"
     ]
    },
    {
     "data": {
      "application/vnd.jupyter.widget-view+json": {
       "model_id": "66e237489ae34480843812f2e8d4a70f",
       "version_major": 2,
       "version_minor": 0
      },
      "text/plain": [
       "Epoch: 1:   0%|          | 0/399 [00:00<?, ?it/s]"
      ]
     },
     "metadata": {},
     "output_type": "display_data"
    },
    {
     "name": "stdout",
     "output_type": "stream",
     "text": [
      "Epoch [1], val_loss: 1.586e+00, train_loss: 1.604e+00, lrate: 1.000e-04\n"
     ]
    },
    {
     "data": {
      "application/vnd.jupyter.widget-view+json": {
       "model_id": "607accdd464f40a1a044398296cf92cd",
       "version_major": 2,
       "version_minor": 0
      },
      "text/plain": [
       "Epoch: 2:   0%|          | 0/399 [00:00<?, ?it/s]"
      ]
     },
     "metadata": {},
     "output_type": "display_data"
    },
    {
     "name": "stdout",
     "output_type": "stream",
     "text": [
      "Epoch [2], val_loss: 1.573e+00, train_loss: 1.539e+00, lrate: 1.000e-04\n"
     ]
    },
    {
     "data": {
      "application/vnd.jupyter.widget-view+json": {
       "model_id": "f5347e17e6b74480833add0a15b4a5d2",
       "version_major": 2,
       "version_minor": 0
      },
      "text/plain": [
       "Epoch: 3:   0%|          | 0/399 [00:00<?, ?it/s]"
      ]
     },
     "metadata": {},
     "output_type": "display_data"
    },
    {
     "name": "stdout",
     "output_type": "stream",
     "text": [
      "Epoch [3], val_loss: 1.564e+00, train_loss: 1.492e+00, lrate: 1.000e-04\n"
     ]
    },
    {
     "data": {
      "application/vnd.jupyter.widget-view+json": {
       "model_id": "89921b64817f4c2bab3852cc33adddea",
       "version_major": 2,
       "version_minor": 0
      },
      "text/plain": [
       "Epoch: 4:   0%|          | 0/399 [00:00<?, ?it/s]"
      ]
     },
     "metadata": {},
     "output_type": "display_data"
    },
    {
     "name": "stdout",
     "output_type": "stream",
     "text": [
      "Epoch [4], val_loss: 1.536e+00, train_loss: 1.460e+00, lrate: 1.000e-04\n"
     ]
    },
    {
     "data": {
      "application/vnd.jupyter.widget-view+json": {
       "model_id": "ad947be296e8492f87f4afce8701fbe3",
       "version_major": 2,
       "version_minor": 0
      },
      "text/plain": [
       "Epoch: 5:   0%|          | 0/399 [00:00<?, ?it/s]"
      ]
     },
     "metadata": {},
     "output_type": "display_data"
    },
    {
     "name": "stdout",
     "output_type": "stream",
     "text": [
      "Epoch [5], val_loss: 1.529e+00, train_loss: 1.436e+00, lrate: 1.000e-04\n"
     ]
    },
    {
     "data": {
      "application/vnd.jupyter.widget-view+json": {
       "model_id": "2f873ca9a7c0479c912fff18df36d08a",
       "version_major": 2,
       "version_minor": 0
      },
      "text/plain": [
       "Epoch: 6:   0%|          | 0/399 [00:00<?, ?it/s]"
      ]
     },
     "metadata": {},
     "output_type": "display_data"
    },
    {
     "name": "stdout",
     "output_type": "stream",
     "text": [
      "Epoch [6], val_loss: 1.533e+00, train_loss: 1.410e+00, lrate: 1.000e-04\n"
     ]
    },
    {
     "data": {
      "application/vnd.jupyter.widget-view+json": {
       "model_id": "1a5ea56e59ff479ebf2be203b637e28a",
       "version_major": 2,
       "version_minor": 0
      },
      "text/plain": [
       "Epoch: 7:   0%|          | 0/399 [00:00<?, ?it/s]"
      ]
     },
     "metadata": {},
     "output_type": "display_data"
    },
    {
     "name": "stdout",
     "output_type": "stream",
     "text": [
      "Epoch [7], val_loss: 1.523e+00, train_loss: 1.389e+00, lrate: 1.000e-04\n"
     ]
    },
    {
     "data": {
      "application/vnd.jupyter.widget-view+json": {
       "model_id": "6882c7a7a6394dc18a0885779321743e",
       "version_major": 2,
       "version_minor": 0
      },
      "text/plain": [
       "Epoch: 8:   0%|          | 0/399 [00:00<?, ?it/s]"
      ]
     },
     "metadata": {},
     "output_type": "display_data"
    },
    {
     "name": "stdout",
     "output_type": "stream",
     "text": [
      "Epoch [8], val_loss: 1.522e+00, train_loss: 1.367e+00, lrate: 1.000e-04\n"
     ]
    },
    {
     "data": {
      "application/vnd.jupyter.widget-view+json": {
       "model_id": "507c492340e14445af5e80bddc9a78b4",
       "version_major": 2,
       "version_minor": 0
      },
      "text/plain": [
       "Epoch: 9:   0%|          | 0/399 [00:00<?, ?it/s]"
      ]
     },
     "metadata": {},
     "output_type": "display_data"
    },
    {
     "name": "stdout",
     "output_type": "stream",
     "text": [
      "Epoch [9], val_loss: 1.519e+00, train_loss: 1.347e+00, lrate: 1.000e-04\n"
     ]
    },
    {
     "data": {
      "application/vnd.jupyter.widget-view+json": {
       "model_id": "57b8ef59b58a49f9ba4248aa659d71ff",
       "version_major": 2,
       "version_minor": 0
      },
      "text/plain": [
       "Epoch: 10:   0%|          | 0/399 [00:00<?, ?it/s]"
      ]
     },
     "metadata": {},
     "output_type": "display_data"
    },
    {
     "name": "stdout",
     "output_type": "stream",
     "text": [
      "Epoch [10], val_loss: 1.511e+00, train_loss: 1.333e+00, lrate: 1.000e-04\n"
     ]
    },
    {
     "data": {
      "application/vnd.jupyter.widget-view+json": {
       "model_id": "f3bf5eba656a4aae8c06f3a1f4b242d2",
       "version_major": 2,
       "version_minor": 0
      },
      "text/plain": [
       "Epoch: 11:   0%|          | 0/399 [00:00<?, ?it/s]"
      ]
     },
     "metadata": {},
     "output_type": "display_data"
    },
    {
     "name": "stdout",
     "output_type": "stream",
     "text": [
      "Epoch [11], val_loss: 1.514e+00, train_loss: 1.322e+00, lrate: 1.000e-04\n"
     ]
    },
    {
     "data": {
      "application/vnd.jupyter.widget-view+json": {
       "model_id": "d0ce9daf388e4d12bc3f8789a14833e8",
       "version_major": 2,
       "version_minor": 0
      },
      "text/plain": [
       "Epoch: 12:   0%|          | 0/399 [00:00<?, ?it/s]"
      ]
     },
     "metadata": {},
     "output_type": "display_data"
    },
    {
     "name": "stdout",
     "output_type": "stream",
     "text": [
      "Epoch [12], val_loss: 1.506e+00, train_loss: 1.310e+00, lrate: 1.000e-04\n"
     ]
    },
    {
     "data": {
      "application/vnd.jupyter.widget-view+json": {
       "model_id": "58932fd373034ea4833246d915833cda",
       "version_major": 2,
       "version_minor": 0
      },
      "text/plain": [
       "Epoch: 13:   0%|          | 0/399 [00:00<?, ?it/s]"
      ]
     },
     "metadata": {},
     "output_type": "display_data"
    },
    {
     "name": "stdout",
     "output_type": "stream",
     "text": [
      "Epoch [13], val_loss: 1.500e+00, train_loss: 1.300e+00, lrate: 1.000e-04\n"
     ]
    },
    {
     "data": {
      "application/vnd.jupyter.widget-view+json": {
       "model_id": "e237b6f2c3054551860de980cafd5188",
       "version_major": 2,
       "version_minor": 0
      },
      "text/plain": [
       "Epoch: 14:   0%|          | 0/399 [00:00<?, ?it/s]"
      ]
     },
     "metadata": {},
     "output_type": "display_data"
    },
    {
     "name": "stdout",
     "output_type": "stream",
     "text": [
      "Epoch [14], val_loss: 1.500e+00, train_loss: 1.293e+00, lrate: 1.000e-04\n"
     ]
    },
    {
     "data": {
      "application/vnd.jupyter.widget-view+json": {
       "model_id": "f9b0c47131554502aee0d2aa77137b0d",
       "version_major": 2,
       "version_minor": 0
      },
      "text/plain": [
       "Epoch: 15:   0%|          | 0/399 [00:00<?, ?it/s]"
      ]
     },
     "metadata": {},
     "output_type": "display_data"
    },
    {
     "name": "stdout",
     "output_type": "stream",
     "text": [
      "Epoch [15], val_loss: 1.506e+00, train_loss: 1.285e+00, lrate: 1.000e-04\n"
     ]
    },
    {
     "data": {
      "application/vnd.jupyter.widget-view+json": {
       "model_id": "749cd4275cfa4deab19c43eebe718ae1",
       "version_major": 2,
       "version_minor": 0
      },
      "text/plain": [
       "Epoch: 16:   0%|          | 0/399 [00:00<?, ?it/s]"
      ]
     },
     "metadata": {},
     "output_type": "display_data"
    },
    {
     "name": "stdout",
     "output_type": "stream",
     "text": [
      "Epoch [16], val_loss: 1.519e+00, train_loss: 1.282e+00, lrate: 1.000e-04\n"
     ]
    },
    {
     "data": {
      "application/vnd.jupyter.widget-view+json": {
       "model_id": "a1ced43e1bfe4e4f9f4217805d9837d9",
       "version_major": 2,
       "version_minor": 0
      },
      "text/plain": [
       "Epoch: 17:   0%|          | 0/399 [00:00<?, ?it/s]"
      ]
     },
     "metadata": {},
     "output_type": "display_data"
    },
    {
     "name": "stdout",
     "output_type": "stream",
     "text": [
      "Epoch [17], val_loss: 1.510e+00, train_loss: 1.276e+00, lrate: 5.000e-05\n"
     ]
    },
    {
     "data": {
      "application/vnd.jupyter.widget-view+json": {
       "model_id": "bc4719f218604caa91413d654e3e2fd7",
       "version_major": 2,
       "version_minor": 0
      },
      "text/plain": [
       "Epoch: 18:   0%|          | 0/399 [00:00<?, ?it/s]"
      ]
     },
     "metadata": {},
     "output_type": "display_data"
    },
    {
     "name": "stdout",
     "output_type": "stream",
     "text": [
      "Epoch [18], val_loss: 1.498e+00, train_loss: 1.263e+00, lrate: 5.000e-05\n"
     ]
    },
    {
     "data": {
      "application/vnd.jupyter.widget-view+json": {
       "model_id": "9a2768fdf8d649e2a25c757bf40b2bfa",
       "version_major": 2,
       "version_minor": 0
      },
      "text/plain": [
       "Epoch: 19:   0%|          | 0/399 [00:00<?, ?it/s]"
      ]
     },
     "metadata": {},
     "output_type": "display_data"
    },
    {
     "name": "stdout",
     "output_type": "stream",
     "text": [
      "Epoch [19], val_loss: 1.495e+00, train_loss: 1.258e+00, lrate: 5.000e-05\n"
     ]
    },
    {
     "data": {
      "application/vnd.jupyter.widget-view+json": {
       "model_id": "67862a6c18a34796a6e7082bba19c986",
       "version_major": 2,
       "version_minor": 0
      },
      "text/plain": [
       "Epoch: 20:   0%|          | 0/399 [00:00<?, ?it/s]"
      ]
     },
     "metadata": {},
     "output_type": "display_data"
    },
    {
     "name": "stdout",
     "output_type": "stream",
     "text": [
      "Epoch [20], val_loss: 1.498e+00, train_loss: 1.256e+00, lrate: 5.000e-05\n"
     ]
    },
    {
     "data": {
      "application/vnd.jupyter.widget-view+json": {
       "model_id": "22d09b7c26374bc6836f7d35d58cfab8",
       "version_major": 2,
       "version_minor": 0
      },
      "text/plain": [
       "Epoch: 21:   0%|          | 0/399 [00:00<?, ?it/s]"
      ]
     },
     "metadata": {},
     "output_type": "display_data"
    },
    {
     "name": "stdout",
     "output_type": "stream",
     "text": [
      "Epoch [21], val_loss: 1.491e+00, train_loss: 1.253e+00, lrate: 5.000e-05\n"
     ]
    },
    {
     "data": {
      "application/vnd.jupyter.widget-view+json": {
       "model_id": "7dd4012a6c8a45d3a18b1331eb117ffc",
       "version_major": 2,
       "version_minor": 0
      },
      "text/plain": [
       "Epoch: 22:   0%|          | 0/399 [00:00<?, ?it/s]"
      ]
     },
     "metadata": {},
     "output_type": "display_data"
    },
    {
     "name": "stdout",
     "output_type": "stream",
     "text": [
      "Epoch [22], val_loss: 1.501e+00, train_loss: 1.250e+00, lrate: 5.000e-05\n"
     ]
    },
    {
     "data": {
      "application/vnd.jupyter.widget-view+json": {
       "model_id": "17626d87143a4f369284ef69b197eafa",
       "version_major": 2,
       "version_minor": 0
      },
      "text/plain": [
       "Epoch: 23:   0%|          | 0/399 [00:00<?, ?it/s]"
      ]
     },
     "metadata": {},
     "output_type": "display_data"
    },
    {
     "name": "stdout",
     "output_type": "stream",
     "text": [
      "Epoch [23], val_loss: 1.498e+00, train_loss: 1.249e+00, lrate: 5.000e-05\n"
     ]
    },
    {
     "data": {
      "application/vnd.jupyter.widget-view+json": {
       "model_id": "a93f45bd07a542a6b87a7c63f0cea04b",
       "version_major": 2,
       "version_minor": 0
      },
      "text/plain": [
       "Epoch: 24:   0%|          | 0/399 [00:00<?, ?it/s]"
      ]
     },
     "metadata": {},
     "output_type": "display_data"
    },
    {
     "name": "stdout",
     "output_type": "stream",
     "text": [
      "Epoch [24], val_loss: 1.491e+00, train_loss: 1.248e+00, lrate: 5.000e-05\n"
     ]
    },
    {
     "data": {
      "application/vnd.jupyter.widget-view+json": {
       "model_id": "6ad0b959eee84b39a9dd15a4b145093a",
       "version_major": 2,
       "version_minor": 0
      },
      "text/plain": [
       "Epoch: 25:   0%|          | 0/399 [00:00<?, ?it/s]"
      ]
     },
     "metadata": {},
     "output_type": "display_data"
    },
    {
     "name": "stdout",
     "output_type": "stream",
     "text": [
      "Epoch [25], val_loss: 1.489e+00, train_loss: 1.246e+00, lrate: 5.000e-05\n"
     ]
    },
    {
     "data": {
      "application/vnd.jupyter.widget-view+json": {
       "model_id": "443b1af145ab4ab8bf16320bff0be134",
       "version_major": 2,
       "version_minor": 0
      },
      "text/plain": [
       "Epoch: 26:   0%|          | 0/399 [00:00<?, ?it/s]"
      ]
     },
     "metadata": {},
     "output_type": "display_data"
    },
    {
     "name": "stdout",
     "output_type": "stream",
     "text": [
      "Epoch [26], val_loss: 1.495e+00, train_loss: 1.244e+00, lrate: 5.000e-05\n"
     ]
    },
    {
     "data": {
      "application/vnd.jupyter.widget-view+json": {
       "model_id": "a151b1f961de4e489e030dd5baf08df0",
       "version_major": 2,
       "version_minor": 0
      },
      "text/plain": [
       "Epoch: 27:   0%|          | 0/399 [00:00<?, ?it/s]"
      ]
     },
     "metadata": {},
     "output_type": "display_data"
    },
    {
     "name": "stdout",
     "output_type": "stream",
     "text": [
      "Epoch [27], val_loss: 1.501e+00, train_loss: 1.244e+00, lrate: 5.000e-05\n"
     ]
    },
    {
     "data": {
      "application/vnd.jupyter.widget-view+json": {
       "model_id": "20d52feaa97e43468c01059c7d57bf6a",
       "version_major": 2,
       "version_minor": 0
      },
      "text/plain": [
       "Epoch: 28:   0%|          | 0/399 [00:00<?, ?it/s]"
      ]
     },
     "metadata": {},
     "output_type": "display_data"
    },
    {
     "name": "stdout",
     "output_type": "stream",
     "text": [
      "Epoch [28], val_loss: 1.498e+00, train_loss: 1.242e+00, lrate: 5.000e-05\n"
     ]
    },
    {
     "data": {
      "application/vnd.jupyter.widget-view+json": {
       "model_id": "6d0b8c6213934906bd9235feebfc64f2",
       "version_major": 2,
       "version_minor": 0
      },
      "text/plain": [
       "Epoch: 29:   0%|          | 0/399 [00:00<?, ?it/s]"
      ]
     },
     "metadata": {},
     "output_type": "display_data"
    },
    {
     "name": "stdout",
     "output_type": "stream",
     "text": [
      "Epoch [29], val_loss: 1.490e+00, train_loss: 1.242e+00, lrate: 2.500e-05\n"
     ]
    },
    {
     "data": {
      "application/vnd.jupyter.widget-view+json": {
       "model_id": "a5807ab05b5f43e896817bf014d56b67",
       "version_major": 2,
       "version_minor": 0
      },
      "text/plain": [
       "Epoch: 30:   0%|          | 0/399 [00:00<?, ?it/s]"
      ]
     },
     "metadata": {},
     "output_type": "display_data"
    },
    {
     "name": "stdout",
     "output_type": "stream",
     "text": [
      "Early stopping\n",
      "------------fold no---------1----------------------\n"
     ]
    },
    {
     "data": {
      "application/vnd.jupyter.widget-view+json": {
       "model_id": "d39ba5a8e93d426db54da0d2d0f1fece",
       "version_major": 2,
       "version_minor": 0
      },
      "text/plain": [
       "Current Epoch:   0%|          | 0/100 [00:00<?, ?it/s]"
      ]
     },
     "metadata": {},
     "output_type": "display_data"
    },
    {
     "data": {
      "application/vnd.jupyter.widget-view+json": {
       "model_id": "6c219bc2c31b433997a92efe7cf4fea2",
       "version_major": 2,
       "version_minor": 0
      },
      "text/plain": [
       "Epoch: 0:   0%|          | 0/399 [00:00<?, ?it/s]"
      ]
     },
     "metadata": {},
     "output_type": "display_data"
    },
    {
     "name": "stdout",
     "output_type": "stream",
     "text": [
      "Epoch [0], val_loss: 1.633e+00, train_loss: 1.756e+00, lrate: 1.000e-04\n"
     ]
    },
    {
     "data": {
      "application/vnd.jupyter.widget-view+json": {
       "model_id": "fa671ae9cdb54235a894129830c64ba8",
       "version_major": 2,
       "version_minor": 0
      },
      "text/plain": [
       "Epoch: 1:   0%|          | 0/399 [00:00<?, ?it/s]"
      ]
     },
     "metadata": {},
     "output_type": "display_data"
    },
    {
     "name": "stdout",
     "output_type": "stream",
     "text": [
      "Epoch [1], val_loss: 1.586e+00, train_loss: 1.600e+00, lrate: 1.000e-04\n"
     ]
    },
    {
     "data": {
      "application/vnd.jupyter.widget-view+json": {
       "model_id": "77c9bb4863f84be8b8ff29b33eec697f",
       "version_major": 2,
       "version_minor": 0
      },
      "text/plain": [
       "Epoch: 2:   0%|          | 0/399 [00:00<?, ?it/s]"
      ]
     },
     "metadata": {},
     "output_type": "display_data"
    },
    {
     "name": "stdout",
     "output_type": "stream",
     "text": [
      "Epoch [2], val_loss: 1.571e+00, train_loss: 1.535e+00, lrate: 1.000e-04\n"
     ]
    },
    {
     "data": {
      "application/vnd.jupyter.widget-view+json": {
       "model_id": "68b7d5132557485ca118229d4c38fc40",
       "version_major": 2,
       "version_minor": 0
      },
      "text/plain": [
       "Epoch: 3:   0%|          | 0/399 [00:00<?, ?it/s]"
      ]
     },
     "metadata": {},
     "output_type": "display_data"
    },
    {
     "name": "stdout",
     "output_type": "stream",
     "text": [
      "Epoch [3], val_loss: 1.548e+00, train_loss: 1.496e+00, lrate: 1.000e-04\n"
     ]
    },
    {
     "data": {
      "application/vnd.jupyter.widget-view+json": {
       "model_id": "6bf6b114cba3403eae48be5ef8e5bc69",
       "version_major": 2,
       "version_minor": 0
      },
      "text/plain": [
       "Epoch: 4:   0%|          | 0/399 [00:00<?, ?it/s]"
      ]
     },
     "metadata": {},
     "output_type": "display_data"
    },
    {
     "name": "stdout",
     "output_type": "stream",
     "text": [
      "Epoch [4], val_loss: 1.542e+00, train_loss: 1.457e+00, lrate: 1.000e-04\n"
     ]
    },
    {
     "data": {
      "application/vnd.jupyter.widget-view+json": {
       "model_id": "3f0d50d42b6347699b18d1c76058c5e6",
       "version_major": 2,
       "version_minor": 0
      },
      "text/plain": [
       "Epoch: 5:   0%|          | 0/399 [00:00<?, ?it/s]"
      ]
     },
     "metadata": {},
     "output_type": "display_data"
    },
    {
     "name": "stdout",
     "output_type": "stream",
     "text": [
      "Epoch [5], val_loss: 1.522e+00, train_loss: 1.424e+00, lrate: 1.000e-04\n"
     ]
    },
    {
     "data": {
      "application/vnd.jupyter.widget-view+json": {
       "model_id": "ac1472c05c2f4c83ba8f65960c7cc546",
       "version_major": 2,
       "version_minor": 0
      },
      "text/plain": [
       "Epoch: 6:   0%|          | 0/399 [00:00<?, ?it/s]"
      ]
     },
     "metadata": {},
     "output_type": "display_data"
    },
    {
     "name": "stdout",
     "output_type": "stream",
     "text": [
      "Epoch [6], val_loss: 1.517e+00, train_loss: 1.404e+00, lrate: 1.000e-04\n"
     ]
    },
    {
     "data": {
      "application/vnd.jupyter.widget-view+json": {
       "model_id": "211918346a7840699a8f12f10866104b",
       "version_major": 2,
       "version_minor": 0
      },
      "text/plain": [
       "Epoch: 7:   0%|          | 0/399 [00:00<?, ?it/s]"
      ]
     },
     "metadata": {},
     "output_type": "display_data"
    },
    {
     "name": "stdout",
     "output_type": "stream",
     "text": [
      "Epoch [7], val_loss: 1.521e+00, train_loss: 1.380e+00, lrate: 1.000e-04\n"
     ]
    },
    {
     "data": {
      "application/vnd.jupyter.widget-view+json": {
       "model_id": "82f334596b914252b8ef618f612c8a48",
       "version_major": 2,
       "version_minor": 0
      },
      "text/plain": [
       "Epoch: 8:   0%|          | 0/399 [00:00<?, ?it/s]"
      ]
     },
     "metadata": {},
     "output_type": "display_data"
    },
    {
     "name": "stdout",
     "output_type": "stream",
     "text": [
      "Epoch [8], val_loss: 1.505e+00, train_loss: 1.360e+00, lrate: 1.000e-04\n"
     ]
    },
    {
     "data": {
      "application/vnd.jupyter.widget-view+json": {
       "model_id": "b654487e94ba43988a8275635c77ac5c",
       "version_major": 2,
       "version_minor": 0
      },
      "text/plain": [
       "Epoch: 9:   0%|          | 0/399 [00:00<?, ?it/s]"
      ]
     },
     "metadata": {},
     "output_type": "display_data"
    },
    {
     "name": "stdout",
     "output_type": "stream",
     "text": [
      "Epoch [9], val_loss: 1.514e+00, train_loss: 1.344e+00, lrate: 1.000e-04\n"
     ]
    },
    {
     "data": {
      "application/vnd.jupyter.widget-view+json": {
       "model_id": "09156f1ccd9340709d5ca44929c05073",
       "version_major": 2,
       "version_minor": 0
      },
      "text/plain": [
       "Epoch: 10:   0%|          | 0/399 [00:00<?, ?it/s]"
      ]
     },
     "metadata": {},
     "output_type": "display_data"
    },
    {
     "name": "stdout",
     "output_type": "stream",
     "text": [
      "Epoch [10], val_loss: 1.511e+00, train_loss: 1.328e+00, lrate: 1.000e-04\n"
     ]
    },
    {
     "data": {
      "application/vnd.jupyter.widget-view+json": {
       "model_id": "be504e85dbeb4f48b49674179c184f37",
       "version_major": 2,
       "version_minor": 0
      },
      "text/plain": [
       "Epoch: 11:   0%|          | 0/399 [00:00<?, ?it/s]"
      ]
     },
     "metadata": {},
     "output_type": "display_data"
    },
    {
     "name": "stdout",
     "output_type": "stream",
     "text": [
      "Epoch [11], val_loss: 1.501e+00, train_loss: 1.315e+00, lrate: 1.000e-04\n"
     ]
    },
    {
     "data": {
      "application/vnd.jupyter.widget-view+json": {
       "model_id": "da5cfc3050174ff1ad9f11e3e5a74265",
       "version_major": 2,
       "version_minor": 0
      },
      "text/plain": [
       "Epoch: 12:   0%|          | 0/399 [00:00<?, ?it/s]"
      ]
     },
     "metadata": {},
     "output_type": "display_data"
    },
    {
     "name": "stdout",
     "output_type": "stream",
     "text": [
      "Epoch [12], val_loss: 1.507e+00, train_loss: 1.308e+00, lrate: 1.000e-04\n"
     ]
    },
    {
     "data": {
      "application/vnd.jupyter.widget-view+json": {
       "model_id": "c7be59eee0c94361a0e77979f2e1c639",
       "version_major": 2,
       "version_minor": 0
      },
      "text/plain": [
       "Epoch: 13:   0%|          | 0/399 [00:00<?, ?it/s]"
      ]
     },
     "metadata": {},
     "output_type": "display_data"
    },
    {
     "name": "stdout",
     "output_type": "stream",
     "text": [
      "Epoch [13], val_loss: 1.512e+00, train_loss: 1.296e+00, lrate: 1.000e-04\n"
     ]
    },
    {
     "data": {
      "application/vnd.jupyter.widget-view+json": {
       "model_id": "2ab9d895b3a64323b53cd43fec8460cf",
       "version_major": 2,
       "version_minor": 0
      },
      "text/plain": [
       "Epoch: 14:   0%|          | 0/399 [00:00<?, ?it/s]"
      ]
     },
     "metadata": {},
     "output_type": "display_data"
    },
    {
     "name": "stdout",
     "output_type": "stream",
     "text": [
      "Epoch [14], val_loss: 1.500e+00, train_loss: 1.285e+00, lrate: 1.000e-04\n"
     ]
    },
    {
     "data": {
      "application/vnd.jupyter.widget-view+json": {
       "model_id": "67f2256ff8fa45a98f8c083505c92699",
       "version_major": 2,
       "version_minor": 0
      },
      "text/plain": [
       "Epoch: 15:   0%|          | 0/399 [00:00<?, ?it/s]"
      ]
     },
     "metadata": {},
     "output_type": "display_data"
    },
    {
     "name": "stdout",
     "output_type": "stream",
     "text": [
      "Epoch [15], val_loss: 1.506e+00, train_loss: 1.281e+00, lrate: 1.000e-04\n"
     ]
    },
    {
     "data": {
      "application/vnd.jupyter.widget-view+json": {
       "model_id": "88268b3f337e4bf69ebb13626f83f98c",
       "version_major": 2,
       "version_minor": 0
      },
      "text/plain": [
       "Epoch: 16:   0%|          | 0/399 [00:00<?, ?it/s]"
      ]
     },
     "metadata": {},
     "output_type": "display_data"
    },
    {
     "name": "stdout",
     "output_type": "stream",
     "text": [
      "Epoch [16], val_loss: 1.513e+00, train_loss: 1.280e+00, lrate: 1.000e-04\n"
     ]
    },
    {
     "data": {
      "application/vnd.jupyter.widget-view+json": {
       "model_id": "44f5a2e20b8a4343b0556cabad5227b7",
       "version_major": 2,
       "version_minor": 0
      },
      "text/plain": [
       "Epoch: 17:   0%|          | 0/399 [00:00<?, ?it/s]"
      ]
     },
     "metadata": {},
     "output_type": "display_data"
    },
    {
     "name": "stdout",
     "output_type": "stream",
     "text": [
      "Epoch [17], val_loss: 1.503e+00, train_loss: 1.270e+00, lrate: 1.000e-04\n"
     ]
    },
    {
     "data": {
      "application/vnd.jupyter.widget-view+json": {
       "model_id": "1f6a3a3276be4b9c9e9486db6ef00bab",
       "version_major": 2,
       "version_minor": 0
      },
      "text/plain": [
       "Epoch: 18:   0%|          | 0/399 [00:00<?, ?it/s]"
      ]
     },
     "metadata": {},
     "output_type": "display_data"
    },
    {
     "name": "stdout",
     "output_type": "stream",
     "text": [
      "Epoch [18], val_loss: 1.508e+00, train_loss: 1.265e+00, lrate: 5.000e-05\n"
     ]
    },
    {
     "data": {
      "application/vnd.jupyter.widget-view+json": {
       "model_id": "dec0db1a29cb4bef94a7e28de57520a6",
       "version_major": 2,
       "version_minor": 0
      },
      "text/plain": [
       "Epoch: 19:   0%|          | 0/399 [00:00<?, ?it/s]"
      ]
     },
     "metadata": {},
     "output_type": "display_data"
    },
    {
     "name": "stdout",
     "output_type": "stream",
     "text": [
      "Epoch [19], val_loss: 1.499e+00, train_loss: 1.254e+00, lrate: 5.000e-05\n"
     ]
    },
    {
     "data": {
      "application/vnd.jupyter.widget-view+json": {
       "model_id": "72f80b8a8ca444259626a311522b2811",
       "version_major": 2,
       "version_minor": 0
      },
      "text/plain": [
       "Epoch: 20:   0%|          | 0/399 [00:00<?, ?it/s]"
      ]
     },
     "metadata": {},
     "output_type": "display_data"
    },
    {
     "name": "stdout",
     "output_type": "stream",
     "text": [
      "Epoch [20], val_loss: 1.509e+00, train_loss: 1.248e+00, lrate: 5.000e-05\n"
     ]
    },
    {
     "data": {
      "application/vnd.jupyter.widget-view+json": {
       "model_id": "c062a906e6b94e3099b6c720727df25a",
       "version_major": 2,
       "version_minor": 0
      },
      "text/plain": [
       "Epoch: 21:   0%|          | 0/399 [00:00<?, ?it/s]"
      ]
     },
     "metadata": {},
     "output_type": "display_data"
    },
    {
     "name": "stdout",
     "output_type": "stream",
     "text": [
      "Epoch [21], val_loss: 1.506e+00, train_loss: 1.246e+00, lrate: 5.000e-05\n"
     ]
    },
    {
     "data": {
      "application/vnd.jupyter.widget-view+json": {
       "model_id": "f4b46561043b4e2e9bf135b711ab87cf",
       "version_major": 2,
       "version_minor": 0
      },
      "text/plain": [
       "Epoch: 22:   0%|          | 0/399 [00:00<?, ?it/s]"
      ]
     },
     "metadata": {},
     "output_type": "display_data"
    },
    {
     "name": "stdout",
     "output_type": "stream",
     "text": [
      "Epoch [22], val_loss: 1.503e+00, train_loss: 1.245e+00, lrate: 5.000e-05\n"
     ]
    },
    {
     "data": {
      "application/vnd.jupyter.widget-view+json": {
       "model_id": "173fbdf2160c41fdbc3df7084b4dd4d7",
       "version_major": 2,
       "version_minor": 0
      },
      "text/plain": [
       "Epoch: 23:   0%|          | 0/399 [00:00<?, ?it/s]"
      ]
     },
     "metadata": {},
     "output_type": "display_data"
    },
    {
     "name": "stdout",
     "output_type": "stream",
     "text": [
      "Epoch [23], val_loss: 1.503e+00, train_loss: 1.243e+00, lrate: 2.500e-05\n"
     ]
    },
    {
     "data": {
      "application/vnd.jupyter.widget-view+json": {
       "model_id": "2ebe8e70bcb1418d8d98c138793a1d54",
       "version_major": 2,
       "version_minor": 0
      },
      "text/plain": [
       "Epoch: 24:   0%|          | 0/399 [00:00<?, ?it/s]"
      ]
     },
     "metadata": {},
     "output_type": "display_data"
    },
    {
     "name": "stdout",
     "output_type": "stream",
     "text": [
      "Early stopping\n",
      "------------fold no---------2----------------------\n"
     ]
    },
    {
     "data": {
      "application/vnd.jupyter.widget-view+json": {
       "model_id": "ecba2cd35ee34c4e85379df15c0f08c8",
       "version_major": 2,
       "version_minor": 0
      },
      "text/plain": [
       "Current Epoch:   0%|          | 0/100 [00:00<?, ?it/s]"
      ]
     },
     "metadata": {},
     "output_type": "display_data"
    },
    {
     "data": {
      "application/vnd.jupyter.widget-view+json": {
       "model_id": "b54d0d0289394e1a8dc9bdfbbb2158e2",
       "version_major": 2,
       "version_minor": 0
      },
      "text/plain": [
       "Epoch: 0:   0%|          | 0/399 [00:00<?, ?it/s]"
      ]
     },
     "metadata": {},
     "output_type": "display_data"
    },
    {
     "name": "stdout",
     "output_type": "stream",
     "text": [
      "Epoch [0], val_loss: 1.695e+00, train_loss: 1.760e+00, lrate: 1.000e-04\n"
     ]
    },
    {
     "data": {
      "application/vnd.jupyter.widget-view+json": {
       "model_id": "cadeeec288bd495a8af6a0aa156b4ffa",
       "version_major": 2,
       "version_minor": 0
      },
      "text/plain": [
       "Epoch: 1:   0%|          | 0/399 [00:00<?, ?it/s]"
      ]
     },
     "metadata": {},
     "output_type": "display_data"
    },
    {
     "name": "stdout",
     "output_type": "stream",
     "text": [
      "Epoch [1], val_loss: 1.610e+00, train_loss: 1.604e+00, lrate: 1.000e-04\n"
     ]
    },
    {
     "data": {
      "application/vnd.jupyter.widget-view+json": {
       "model_id": "8c895e0d49e54c7ca507da83928506fb",
       "version_major": 2,
       "version_minor": 0
      },
      "text/plain": [
       "Epoch: 2:   0%|          | 0/399 [00:00<?, ?it/s]"
      ]
     },
     "metadata": {},
     "output_type": "display_data"
    },
    {
     "name": "stdout",
     "output_type": "stream",
     "text": [
      "Epoch [2], val_loss: 1.586e+00, train_loss: 1.537e+00, lrate: 1.000e-04\n"
     ]
    },
    {
     "data": {
      "application/vnd.jupyter.widget-view+json": {
       "model_id": "0ba0b56a55ba40028fa92bc4706c05f9",
       "version_major": 2,
       "version_minor": 0
      },
      "text/plain": [
       "Epoch: 3:   0%|          | 0/399 [00:00<?, ?it/s]"
      ]
     },
     "metadata": {},
     "output_type": "display_data"
    },
    {
     "name": "stdout",
     "output_type": "stream",
     "text": [
      "Epoch [3], val_loss: 1.555e+00, train_loss: 1.494e+00, lrate: 1.000e-04\n"
     ]
    },
    {
     "data": {
      "application/vnd.jupyter.widget-view+json": {
       "model_id": "e49e2333dfd448069e982c9933563a60",
       "version_major": 2,
       "version_minor": 0
      },
      "text/plain": [
       "Epoch: 4:   0%|          | 0/399 [00:00<?, ?it/s]"
      ]
     },
     "metadata": {},
     "output_type": "display_data"
    },
    {
     "name": "stdout",
     "output_type": "stream",
     "text": [
      "Epoch [4], val_loss: 1.558e+00, train_loss: 1.458e+00, lrate: 1.000e-04\n"
     ]
    },
    {
     "data": {
      "application/vnd.jupyter.widget-view+json": {
       "model_id": "353d5278b65e46caa8d8a894e14e21d8",
       "version_major": 2,
       "version_minor": 0
      },
      "text/plain": [
       "Epoch: 5:   0%|          | 0/399 [00:00<?, ?it/s]"
      ]
     },
     "metadata": {},
     "output_type": "display_data"
    },
    {
     "name": "stdout",
     "output_type": "stream",
     "text": [
      "Epoch [5], val_loss: 1.540e+00, train_loss: 1.426e+00, lrate: 1.000e-04\n"
     ]
    },
    {
     "data": {
      "application/vnd.jupyter.widget-view+json": {
       "model_id": "fd9743add21741d0ab577152242daf1a",
       "version_major": 2,
       "version_minor": 0
      },
      "text/plain": [
       "Epoch: 6:   0%|          | 0/399 [00:00<?, ?it/s]"
      ]
     },
     "metadata": {},
     "output_type": "display_data"
    },
    {
     "name": "stdout",
     "output_type": "stream",
     "text": [
      "Epoch [6], val_loss: 1.537e+00, train_loss: 1.399e+00, lrate: 1.000e-04\n"
     ]
    },
    {
     "data": {
      "application/vnd.jupyter.widget-view+json": {
       "model_id": "2622c811f3194ad28263f2cda53f9e68",
       "version_major": 2,
       "version_minor": 0
      },
      "text/plain": [
       "Epoch: 7:   0%|          | 0/399 [00:00<?, ?it/s]"
      ]
     },
     "metadata": {},
     "output_type": "display_data"
    },
    {
     "name": "stdout",
     "output_type": "stream",
     "text": [
      "Epoch [7], val_loss: 1.534e+00, train_loss: 1.373e+00, lrate: 1.000e-04\n"
     ]
    },
    {
     "data": {
      "application/vnd.jupyter.widget-view+json": {
       "model_id": "cde2a814f9a0412a961776f57ee8d5a0",
       "version_major": 2,
       "version_minor": 0
      },
      "text/plain": [
       "Epoch: 8:   0%|          | 0/399 [00:00<?, ?it/s]"
      ]
     },
     "metadata": {},
     "output_type": "display_data"
    },
    {
     "name": "stdout",
     "output_type": "stream",
     "text": [
      "Epoch [8], val_loss: 1.533e+00, train_loss: 1.355e+00, lrate: 1.000e-04\n"
     ]
    },
    {
     "data": {
      "application/vnd.jupyter.widget-view+json": {
       "model_id": "7a51772277184a50bade90bdb0c06e18",
       "version_major": 2,
       "version_minor": 0
      },
      "text/plain": [
       "Epoch: 9:   0%|          | 0/399 [00:00<?, ?it/s]"
      ]
     },
     "metadata": {},
     "output_type": "display_data"
    },
    {
     "name": "stdout",
     "output_type": "stream",
     "text": [
      "Epoch [9], val_loss: 1.528e+00, train_loss: 1.341e+00, lrate: 1.000e-04\n"
     ]
    },
    {
     "data": {
      "application/vnd.jupyter.widget-view+json": {
       "model_id": "0124eaa8b0d5440a813a08fbc2f2d756",
       "version_major": 2,
       "version_minor": 0
      },
      "text/plain": [
       "Epoch: 10:   0%|          | 0/399 [00:00<?, ?it/s]"
      ]
     },
     "metadata": {},
     "output_type": "display_data"
    },
    {
     "name": "stdout",
     "output_type": "stream",
     "text": [
      "Epoch [10], val_loss: 1.521e+00, train_loss: 1.328e+00, lrate: 1.000e-04\n"
     ]
    },
    {
     "data": {
      "application/vnd.jupyter.widget-view+json": {
       "model_id": "0c2ca9fd4a354e7e8f8ccde7e041ff3a",
       "version_major": 2,
       "version_minor": 0
      },
      "text/plain": [
       "Epoch: 11:   0%|          | 0/399 [00:00<?, ?it/s]"
      ]
     },
     "metadata": {},
     "output_type": "display_data"
    },
    {
     "name": "stdout",
     "output_type": "stream",
     "text": [
      "Epoch [11], val_loss: 1.517e+00, train_loss: 1.313e+00, lrate: 1.000e-04\n"
     ]
    },
    {
     "data": {
      "application/vnd.jupyter.widget-view+json": {
       "model_id": "7bbd7947537a4fcfae69769bca20d0db",
       "version_major": 2,
       "version_minor": 0
      },
      "text/plain": [
       "Epoch: 12:   0%|          | 0/399 [00:00<?, ?it/s]"
      ]
     },
     "metadata": {},
     "output_type": "display_data"
    },
    {
     "name": "stdout",
     "output_type": "stream",
     "text": [
      "Epoch [12], val_loss: 1.517e+00, train_loss: 1.300e+00, lrate: 1.000e-04\n"
     ]
    },
    {
     "data": {
      "application/vnd.jupyter.widget-view+json": {
       "model_id": "89a7a3ebd3f04a39968881d3fdbfdf3f",
       "version_major": 2,
       "version_minor": 0
      },
      "text/plain": [
       "Epoch: 13:   0%|          | 0/399 [00:00<?, ?it/s]"
      ]
     },
     "metadata": {},
     "output_type": "display_data"
    },
    {
     "name": "stdout",
     "output_type": "stream",
     "text": [
      "Epoch [13], val_loss: 1.518e+00, train_loss: 1.291e+00, lrate: 1.000e-04\n"
     ]
    },
    {
     "data": {
      "application/vnd.jupyter.widget-view+json": {
       "model_id": "e0f26824ac0b4aa48b2aa891a2da6459",
       "version_major": 2,
       "version_minor": 0
      },
      "text/plain": [
       "Epoch: 14:   0%|          | 0/399 [00:00<?, ?it/s]"
      ]
     },
     "metadata": {},
     "output_type": "display_data"
    },
    {
     "name": "stdout",
     "output_type": "stream",
     "text": [
      "Epoch [14], val_loss: 1.517e+00, train_loss: 1.284e+00, lrate: 1.000e-04\n"
     ]
    },
    {
     "data": {
      "application/vnd.jupyter.widget-view+json": {
       "model_id": "ab7e74ba592447708f9cfe02351c77f8",
       "version_major": 2,
       "version_minor": 0
      },
      "text/plain": [
       "Epoch: 15:   0%|          | 0/399 [00:00<?, ?it/s]"
      ]
     },
     "metadata": {},
     "output_type": "display_data"
    },
    {
     "name": "stdout",
     "output_type": "stream",
     "text": [
      "Epoch [15], val_loss: 1.521e+00, train_loss: 1.279e+00, lrate: 5.000e-05\n"
     ]
    },
    {
     "data": {
      "application/vnd.jupyter.widget-view+json": {
       "model_id": "3baf93a105084da8a2414dbe8ae05b70",
       "version_major": 2,
       "version_minor": 0
      },
      "text/plain": [
       "Epoch: 16:   0%|          | 0/399 [00:00<?, ?it/s]"
      ]
     },
     "metadata": {},
     "output_type": "display_data"
    },
    {
     "name": "stdout",
     "output_type": "stream",
     "text": [
      "Epoch [16], val_loss: 1.513e+00, train_loss: 1.264e+00, lrate: 5.000e-05\n"
     ]
    },
    {
     "data": {
      "application/vnd.jupyter.widget-view+json": {
       "model_id": "e8c640fa7a2f4cf89e8e846ae29bace2",
       "version_major": 2,
       "version_minor": 0
      },
      "text/plain": [
       "Epoch: 17:   0%|          | 0/399 [00:00<?, ?it/s]"
      ]
     },
     "metadata": {},
     "output_type": "display_data"
    },
    {
     "name": "stdout",
     "output_type": "stream",
     "text": [
      "Epoch [17], val_loss: 1.514e+00, train_loss: 1.257e+00, lrate: 5.000e-05\n"
     ]
    },
    {
     "data": {
      "application/vnd.jupyter.widget-view+json": {
       "model_id": "4edc58df9d67497c8ffbb87fa9279579",
       "version_major": 2,
       "version_minor": 0
      },
      "text/plain": [
       "Epoch: 18:   0%|          | 0/399 [00:00<?, ?it/s]"
      ]
     },
     "metadata": {},
     "output_type": "display_data"
    },
    {
     "name": "stdout",
     "output_type": "stream",
     "text": [
      "Epoch [18], val_loss: 1.512e+00, train_loss: 1.254e+00, lrate: 5.000e-05\n"
     ]
    },
    {
     "data": {
      "application/vnd.jupyter.widget-view+json": {
       "model_id": "dc1b5ca1dcbc40c08eee6c7d77d5b6f6",
       "version_major": 2,
       "version_minor": 0
      },
      "text/plain": [
       "Epoch: 19:   0%|          | 0/399 [00:00<?, ?it/s]"
      ]
     },
     "metadata": {},
     "output_type": "display_data"
    },
    {
     "name": "stdout",
     "output_type": "stream",
     "text": [
      "Epoch [19], val_loss: 1.509e+00, train_loss: 1.252e+00, lrate: 5.000e-05\n"
     ]
    },
    {
     "data": {
      "application/vnd.jupyter.widget-view+json": {
       "model_id": "ed41c7f7ec28435eabbb5ac7fdbf10d4",
       "version_major": 2,
       "version_minor": 0
      },
      "text/plain": [
       "Epoch: 20:   0%|          | 0/399 [00:00<?, ?it/s]"
      ]
     },
     "metadata": {},
     "output_type": "display_data"
    },
    {
     "name": "stdout",
     "output_type": "stream",
     "text": [
      "Epoch [20], val_loss: 1.510e+00, train_loss: 1.249e+00, lrate: 5.000e-05\n"
     ]
    },
    {
     "data": {
      "application/vnd.jupyter.widget-view+json": {
       "model_id": "56ffcd4fa9a9402ea59c08e3e557ff25",
       "version_major": 2,
       "version_minor": 0
      },
      "text/plain": [
       "Epoch: 21:   0%|          | 0/399 [00:00<?, ?it/s]"
      ]
     },
     "metadata": {},
     "output_type": "display_data"
    },
    {
     "name": "stdout",
     "output_type": "stream",
     "text": [
      "Epoch [21], val_loss: 1.509e+00, train_loss: 1.248e+00, lrate: 5.000e-05\n"
     ]
    },
    {
     "data": {
      "application/vnd.jupyter.widget-view+json": {
       "model_id": "2dfc9941a2a3409c913f05370a4cadfe",
       "version_major": 2,
       "version_minor": 0
      },
      "text/plain": [
       "Epoch: 22:   0%|          | 0/399 [00:00<?, ?it/s]"
      ]
     },
     "metadata": {},
     "output_type": "display_data"
    },
    {
     "name": "stdout",
     "output_type": "stream",
     "text": [
      "Epoch [22], val_loss: 1.518e+00, train_loss: 1.246e+00, lrate: 5.000e-05\n"
     ]
    },
    {
     "data": {
      "application/vnd.jupyter.widget-view+json": {
       "model_id": "f0807405d0f3432fb5a67d0c8bd42b09",
       "version_major": 2,
       "version_minor": 0
      },
      "text/plain": [
       "Epoch: 23:   0%|          | 0/399 [00:00<?, ?it/s]"
      ]
     },
     "metadata": {},
     "output_type": "display_data"
    },
    {
     "name": "stdout",
     "output_type": "stream",
     "text": [
      "Epoch [23], val_loss: 1.519e+00, train_loss: 1.245e+00, lrate: 5.000e-05\n"
     ]
    },
    {
     "data": {
      "application/vnd.jupyter.widget-view+json": {
       "model_id": "a6176a31f7114623aca351a4b812f07e",
       "version_major": 2,
       "version_minor": 0
      },
      "text/plain": [
       "Epoch: 24:   0%|          | 0/399 [00:00<?, ?it/s]"
      ]
     },
     "metadata": {},
     "output_type": "display_data"
    },
    {
     "name": "stdout",
     "output_type": "stream",
     "text": [
      "Epoch [24], val_loss: 1.520e+00, train_loss: 1.243e+00, lrate: 5.000e-05\n"
     ]
    },
    {
     "data": {
      "application/vnd.jupyter.widget-view+json": {
       "model_id": "877f1b37aa1e4cfdb2fa9f95bb65441e",
       "version_major": 2,
       "version_minor": 0
      },
      "text/plain": [
       "Epoch: 25:   0%|          | 0/399 [00:00<?, ?it/s]"
      ]
     },
     "metadata": {},
     "output_type": "display_data"
    },
    {
     "name": "stdout",
     "output_type": "stream",
     "text": [
      "Epoch [25], val_loss: 1.509e+00, train_loss: 1.241e+00, lrate: 5.000e-05\n"
     ]
    },
    {
     "data": {
      "application/vnd.jupyter.widget-view+json": {
       "model_id": "ffa585286af4491f9ea1f25de8a20a5d",
       "version_major": 2,
       "version_minor": 0
      },
      "text/plain": [
       "Epoch: 26:   0%|          | 0/399 [00:00<?, ?it/s]"
      ]
     },
     "metadata": {},
     "output_type": "display_data"
    },
    {
     "name": "stdout",
     "output_type": "stream",
     "text": [
      "Epoch [26], val_loss: 1.513e+00, train_loss: 1.240e+00, lrate: 5.000e-05\n"
     ]
    },
    {
     "data": {
      "application/vnd.jupyter.widget-view+json": {
       "model_id": "7e2ac872b8d147aab0c883b763eb1761",
       "version_major": 2,
       "version_minor": 0
      },
      "text/plain": [
       "Epoch: 27:   0%|          | 0/399 [00:00<?, ?it/s]"
      ]
     },
     "metadata": {},
     "output_type": "display_data"
    },
    {
     "name": "stdout",
     "output_type": "stream",
     "text": [
      "Epoch [27], val_loss: 1.516e+00, train_loss: 1.239e+00, lrate: 5.000e-05\n"
     ]
    },
    {
     "data": {
      "application/vnd.jupyter.widget-view+json": {
       "model_id": "ba97e415874445609b5ffdd3dd2d6087",
       "version_major": 2,
       "version_minor": 0
      },
      "text/plain": [
       "Epoch: 28:   0%|          | 0/399 [00:00<?, ?it/s]"
      ]
     },
     "metadata": {},
     "output_type": "display_data"
    },
    {
     "name": "stdout",
     "output_type": "stream",
     "text": [
      "Epoch [28], val_loss: 1.523e+00, train_loss: 1.237e+00, lrate: 5.000e-05\n"
     ]
    },
    {
     "data": {
      "application/vnd.jupyter.widget-view+json": {
       "model_id": "33e6017fcf06404b96063df83520e04d",
       "version_major": 2,
       "version_minor": 0
      },
      "text/plain": [
       "Epoch: 29:   0%|          | 0/399 [00:00<?, ?it/s]"
      ]
     },
     "metadata": {},
     "output_type": "display_data"
    },
    {
     "name": "stdout",
     "output_type": "stream",
     "text": [
      "Epoch [29], val_loss: 1.517e+00, train_loss: 1.236e+00, lrate: 2.500e-05\n"
     ]
    },
    {
     "data": {
      "application/vnd.jupyter.widget-view+json": {
       "model_id": "c2c633a97a5044dfb673a38158cd364b",
       "version_major": 2,
       "version_minor": 0
      },
      "text/plain": [
       "Epoch: 30:   0%|          | 0/399 [00:00<?, ?it/s]"
      ]
     },
     "metadata": {},
     "output_type": "display_data"
    },
    {
     "name": "stdout",
     "output_type": "stream",
     "text": [
      "Epoch [30], val_loss: 1.508e+00, train_loss: 1.234e+00, lrate: 2.500e-05\n"
     ]
    },
    {
     "data": {
      "application/vnd.jupyter.widget-view+json": {
       "model_id": "b402db6b135b4df295181ce953d2dfaf",
       "version_major": 2,
       "version_minor": 0
      },
      "text/plain": [
       "Epoch: 31:   0%|          | 0/399 [00:00<?, ?it/s]"
      ]
     },
     "metadata": {},
     "output_type": "display_data"
    },
    {
     "name": "stdout",
     "output_type": "stream",
     "text": [
      "Epoch [31], val_loss: 1.512e+00, train_loss: 1.233e+00, lrate: 2.500e-05\n"
     ]
    },
    {
     "data": {
      "application/vnd.jupyter.widget-view+json": {
       "model_id": "89f154b6d6fa4d62892ec90847dfcffb",
       "version_major": 2,
       "version_minor": 0
      },
      "text/plain": [
       "Epoch: 32:   0%|          | 0/399 [00:00<?, ?it/s]"
      ]
     },
     "metadata": {},
     "output_type": "display_data"
    },
    {
     "name": "stdout",
     "output_type": "stream",
     "text": [
      "Epoch [32], val_loss: 1.508e+00, train_loss: 1.232e+00, lrate: 2.500e-05\n"
     ]
    },
    {
     "data": {
      "application/vnd.jupyter.widget-view+json": {
       "model_id": "41bc6ae61ec24ee79b323c00eb76c0aa",
       "version_major": 2,
       "version_minor": 0
      },
      "text/plain": [
       "Epoch: 33:   0%|          | 0/399 [00:00<?, ?it/s]"
      ]
     },
     "metadata": {},
     "output_type": "display_data"
    },
    {
     "name": "stdout",
     "output_type": "stream",
     "text": [
      "Epoch [33], val_loss: 1.517e+00, train_loss: 1.232e+00, lrate: 2.500e-05\n"
     ]
    },
    {
     "data": {
      "application/vnd.jupyter.widget-view+json": {
       "model_id": "c7f77de842b041728a48f4d6d956daaf",
       "version_major": 2,
       "version_minor": 0
      },
      "text/plain": [
       "Epoch: 34:   0%|          | 0/399 [00:00<?, ?it/s]"
      ]
     },
     "metadata": {},
     "output_type": "display_data"
    },
    {
     "name": "stdout",
     "output_type": "stream",
     "text": [
      "Epoch [34], val_loss: 1.512e+00, train_loss: 1.231e+00, lrate: 1.250e-05\n"
     ]
    },
    {
     "data": {
      "application/vnd.jupyter.widget-view+json": {
       "model_id": "1ea3b4ac6f0f4908b71bc3f234ecb33e",
       "version_major": 2,
       "version_minor": 0
      },
      "text/plain": [
       "Epoch: 35:   0%|          | 0/399 [00:00<?, ?it/s]"
      ]
     },
     "metadata": {},
     "output_type": "display_data"
    },
    {
     "name": "stdout",
     "output_type": "stream",
     "text": [
      "Early stopping\n",
      "------------fold no---------3----------------------\n"
     ]
    },
    {
     "data": {
      "application/vnd.jupyter.widget-view+json": {
       "model_id": "2c2445ed8f764f69b25fdd61bb72919e",
       "version_major": 2,
       "version_minor": 0
      },
      "text/plain": [
       "Current Epoch:   0%|          | 0/100 [00:00<?, ?it/s]"
      ]
     },
     "metadata": {},
     "output_type": "display_data"
    },
    {
     "data": {
      "application/vnd.jupyter.widget-view+json": {
       "model_id": "0b768a2d11a549b18efd7ae0f1e52142",
       "version_major": 2,
       "version_minor": 0
      },
      "text/plain": [
       "Epoch: 0:   0%|          | 0/399 [00:00<?, ?it/s]"
      ]
     },
     "metadata": {},
     "output_type": "display_data"
    },
    {
     "name": "stdout",
     "output_type": "stream",
     "text": [
      "Epoch [0], val_loss: 1.657e+00, train_loss: 1.759e+00, lrate: 1.000e-04\n"
     ]
    },
    {
     "data": {
      "application/vnd.jupyter.widget-view+json": {
       "model_id": "1a90720f600d4129a8d2db3a4d4c123d",
       "version_major": 2,
       "version_minor": 0
      },
      "text/plain": [
       "Epoch: 1:   0%|          | 0/399 [00:00<?, ?it/s]"
      ]
     },
     "metadata": {},
     "output_type": "display_data"
    },
    {
     "name": "stdout",
     "output_type": "stream",
     "text": [
      "Epoch [1], val_loss: 1.577e+00, train_loss: 1.601e+00, lrate: 1.000e-04\n"
     ]
    },
    {
     "data": {
      "application/vnd.jupyter.widget-view+json": {
       "model_id": "33bcd364a851477ab4c2ecfb75920542",
       "version_major": 2,
       "version_minor": 0
      },
      "text/plain": [
       "Epoch: 2:   0%|          | 0/399 [00:00<?, ?it/s]"
      ]
     },
     "metadata": {},
     "output_type": "display_data"
    },
    {
     "name": "stdout",
     "output_type": "stream",
     "text": [
      "Epoch [2], val_loss: 1.558e+00, train_loss: 1.536e+00, lrate: 1.000e-04\n"
     ]
    },
    {
     "data": {
      "application/vnd.jupyter.widget-view+json": {
       "model_id": "7de3bf52ea9d4d8cbc4559e98bd9160c",
       "version_major": 2,
       "version_minor": 0
      },
      "text/plain": [
       "Epoch: 3:   0%|          | 0/399 [00:00<?, ?it/s]"
      ]
     },
     "metadata": {},
     "output_type": "display_data"
    },
    {
     "name": "stdout",
     "output_type": "stream",
     "text": [
      "Epoch [3], val_loss: 1.528e+00, train_loss: 1.491e+00, lrate: 1.000e-04\n"
     ]
    },
    {
     "data": {
      "application/vnd.jupyter.widget-view+json": {
       "model_id": "49c121cb061e4c87b70448cee7387089",
       "version_major": 2,
       "version_minor": 0
      },
      "text/plain": [
       "Epoch: 4:   0%|          | 0/399 [00:00<?, ?it/s]"
      ]
     },
     "metadata": {},
     "output_type": "display_data"
    },
    {
     "name": "stdout",
     "output_type": "stream",
     "text": [
      "Epoch [4], val_loss: 1.534e+00, train_loss: 1.456e+00, lrate: 1.000e-04\n"
     ]
    },
    {
     "data": {
      "application/vnd.jupyter.widget-view+json": {
       "model_id": "253706e24c0f49eaad746b1fbec1c2e6",
       "version_major": 2,
       "version_minor": 0
      },
      "text/plain": [
       "Epoch: 5:   0%|          | 0/399 [00:00<?, ?it/s]"
      ]
     },
     "metadata": {},
     "output_type": "display_data"
    },
    {
     "name": "stdout",
     "output_type": "stream",
     "text": [
      "Epoch [5], val_loss: 1.522e+00, train_loss: 1.426e+00, lrate: 1.000e-04\n"
     ]
    },
    {
     "data": {
      "application/vnd.jupyter.widget-view+json": {
       "model_id": "75ee170317374a6986511b593470e637",
       "version_major": 2,
       "version_minor": 0
      },
      "text/plain": [
       "Epoch: 6:   0%|          | 0/399 [00:00<?, ?it/s]"
      ]
     },
     "metadata": {},
     "output_type": "display_data"
    },
    {
     "name": "stdout",
     "output_type": "stream",
     "text": [
      "Epoch [6], val_loss: 1.524e+00, train_loss: 1.404e+00, lrate: 1.000e-04\n"
     ]
    },
    {
     "data": {
      "application/vnd.jupyter.widget-view+json": {
       "model_id": "c9fb2ab781ee47b68fd0247e80da2fcd",
       "version_major": 2,
       "version_minor": 0
      },
      "text/plain": [
       "Epoch: 7:   0%|          | 0/399 [00:00<?, ?it/s]"
      ]
     },
     "metadata": {},
     "output_type": "display_data"
    },
    {
     "name": "stdout",
     "output_type": "stream",
     "text": [
      "Epoch [7], val_loss: 1.527e+00, train_loss: 1.379e+00, lrate: 1.000e-04\n"
     ]
    },
    {
     "data": {
      "application/vnd.jupyter.widget-view+json": {
       "model_id": "53540b293d604525bad90bf1a6a46493",
       "version_major": 2,
       "version_minor": 0
      },
      "text/plain": [
       "Epoch: 8:   0%|          | 0/399 [00:00<?, ?it/s]"
      ]
     },
     "metadata": {},
     "output_type": "display_data"
    },
    {
     "name": "stdout",
     "output_type": "stream",
     "text": [
      "Epoch [8], val_loss: 1.515e+00, train_loss: 1.357e+00, lrate: 1.000e-04\n"
     ]
    },
    {
     "data": {
      "application/vnd.jupyter.widget-view+json": {
       "model_id": "4347c4f1297f4d5ea0dca9d40ae61017",
       "version_major": 2,
       "version_minor": 0
      },
      "text/plain": [
       "Epoch: 9:   0%|          | 0/399 [00:00<?, ?it/s]"
      ]
     },
     "metadata": {},
     "output_type": "display_data"
    },
    {
     "name": "stdout",
     "output_type": "stream",
     "text": [
      "Epoch [9], val_loss: 1.512e+00, train_loss: 1.339e+00, lrate: 1.000e-04\n"
     ]
    },
    {
     "data": {
      "application/vnd.jupyter.widget-view+json": {
       "model_id": "f84aba8d9b12493a9da1fb6df1f3cb5a",
       "version_major": 2,
       "version_minor": 0
      },
      "text/plain": [
       "Epoch: 10:   0%|          | 0/399 [00:00<?, ?it/s]"
      ]
     },
     "metadata": {},
     "output_type": "display_data"
    },
    {
     "name": "stdout",
     "output_type": "stream",
     "text": [
      "Epoch [10], val_loss: 1.505e+00, train_loss: 1.326e+00, lrate: 1.000e-04\n"
     ]
    },
    {
     "data": {
      "application/vnd.jupyter.widget-view+json": {
       "model_id": "59cca63f89c845bca44e29bd86bf5183",
       "version_major": 2,
       "version_minor": 0
      },
      "text/plain": [
       "Epoch: 11:   0%|          | 0/399 [00:00<?, ?it/s]"
      ]
     },
     "metadata": {},
     "output_type": "display_data"
    },
    {
     "name": "stdout",
     "output_type": "stream",
     "text": [
      "Epoch [11], val_loss: 1.528e+00, train_loss: 1.316e+00, lrate: 1.000e-04\n"
     ]
    },
    {
     "data": {
      "application/vnd.jupyter.widget-view+json": {
       "model_id": "ad04909283c34e25a5fc7e85fe7c1ef6",
       "version_major": 2,
       "version_minor": 0
      },
      "text/plain": [
       "Epoch: 12:   0%|          | 0/399 [00:00<?, ?it/s]"
      ]
     },
     "metadata": {},
     "output_type": "display_data"
    },
    {
     "name": "stdout",
     "output_type": "stream",
     "text": [
      "Epoch [12], val_loss: 1.511e+00, train_loss: 1.308e+00, lrate: 1.000e-04\n"
     ]
    },
    {
     "data": {
      "application/vnd.jupyter.widget-view+json": {
       "model_id": "8dcdd15050d9400eae7b9c702c7ff506",
       "version_major": 2,
       "version_minor": 0
      },
      "text/plain": [
       "Epoch: 13:   0%|          | 0/399 [00:00<?, ?it/s]"
      ]
     },
     "metadata": {},
     "output_type": "display_data"
    },
    {
     "name": "stdout",
     "output_type": "stream",
     "text": [
      "Epoch [13], val_loss: 1.507e+00, train_loss: 1.296e+00, lrate: 1.000e-04\n"
     ]
    },
    {
     "data": {
      "application/vnd.jupyter.widget-view+json": {
       "model_id": "1a03392709ed4f93a2c5ef23b61501ce",
       "version_major": 2,
       "version_minor": 0
      },
      "text/plain": [
       "Epoch: 14:   0%|          | 0/399 [00:00<?, ?it/s]"
      ]
     },
     "metadata": {},
     "output_type": "display_data"
    },
    {
     "name": "stdout",
     "output_type": "stream",
     "text": [
      "Epoch [14], val_loss: 1.509e+00, train_loss: 1.289e+00, lrate: 5.000e-05\n"
     ]
    },
    {
     "data": {
      "application/vnd.jupyter.widget-view+json": {
       "model_id": "3f96b5c19b2b4cb0a58cb798b0119551",
       "version_major": 2,
       "version_minor": 0
      },
      "text/plain": [
       "Epoch: 15:   0%|          | 0/399 [00:00<?, ?it/s]"
      ]
     },
     "metadata": {},
     "output_type": "display_data"
    },
    {
     "name": "stdout",
     "output_type": "stream",
     "text": [
      "Epoch [15], val_loss: 1.499e+00, train_loss: 1.271e+00, lrate: 5.000e-05\n"
     ]
    },
    {
     "data": {
      "application/vnd.jupyter.widget-view+json": {
       "model_id": "b7f3e6460cf84a38ba8db49491e3d96a",
       "version_major": 2,
       "version_minor": 0
      },
      "text/plain": [
       "Epoch: 16:   0%|          | 0/399 [00:00<?, ?it/s]"
      ]
     },
     "metadata": {},
     "output_type": "display_data"
    },
    {
     "name": "stdout",
     "output_type": "stream",
     "text": [
      "Epoch [16], val_loss: 1.506e+00, train_loss: 1.265e+00, lrate: 5.000e-05\n"
     ]
    },
    {
     "data": {
      "application/vnd.jupyter.widget-view+json": {
       "model_id": "db133332d7f74a8fa7a4a1c95b590637",
       "version_major": 2,
       "version_minor": 0
      },
      "text/plain": [
       "Epoch: 17:   0%|          | 0/399 [00:00<?, ?it/s]"
      ]
     },
     "metadata": {},
     "output_type": "display_data"
    },
    {
     "name": "stdout",
     "output_type": "stream",
     "text": [
      "Epoch [17], val_loss: 1.503e+00, train_loss: 1.261e+00, lrate: 5.000e-05\n"
     ]
    },
    {
     "data": {
      "application/vnd.jupyter.widget-view+json": {
       "model_id": "73ae917a7f4949bb8723bb60bedfbd8f",
       "version_major": 2,
       "version_minor": 0
      },
      "text/plain": [
       "Epoch: 18:   0%|          | 0/399 [00:00<?, ?it/s]"
      ]
     },
     "metadata": {},
     "output_type": "display_data"
    },
    {
     "name": "stdout",
     "output_type": "stream",
     "text": [
      "Epoch [18], val_loss: 1.503e+00, train_loss: 1.257e+00, lrate: 5.000e-05\n"
     ]
    },
    {
     "data": {
      "application/vnd.jupyter.widget-view+json": {
       "model_id": "c6cfc7557b334ac587d92a52d4cecdbf",
       "version_major": 2,
       "version_minor": 0
      },
      "text/plain": [
       "Epoch: 19:   0%|          | 0/399 [00:00<?, ?it/s]"
      ]
     },
     "metadata": {},
     "output_type": "display_data"
    },
    {
     "name": "stdout",
     "output_type": "stream",
     "text": [
      "Epoch [19], val_loss: 1.508e+00, train_loss: 1.254e+00, lrate: 2.500e-05\n"
     ]
    },
    {
     "data": {
      "application/vnd.jupyter.widget-view+json": {
       "model_id": "2aebc0ced99549a0a5f3311b6d1ffbae",
       "version_major": 2,
       "version_minor": 0
      },
      "text/plain": [
       "Epoch: 20:   0%|          | 0/399 [00:00<?, ?it/s]"
      ]
     },
     "metadata": {},
     "output_type": "display_data"
    },
    {
     "name": "stdout",
     "output_type": "stream",
     "text": [
      "Early stopping\n",
      "------------fold no---------4----------------------\n"
     ]
    },
    {
     "data": {
      "application/vnd.jupyter.widget-view+json": {
       "model_id": "18b35c22c68541b69b46155208afa3bd",
       "version_major": 2,
       "version_minor": 0
      },
      "text/plain": [
       "Current Epoch:   0%|          | 0/100 [00:00<?, ?it/s]"
      ]
     },
     "metadata": {},
     "output_type": "display_data"
    },
    {
     "data": {
      "application/vnd.jupyter.widget-view+json": {
       "model_id": "136287dee149431abc64705d799383f7",
       "version_major": 2,
       "version_minor": 0
      },
      "text/plain": [
       "Epoch: 0:   0%|          | 0/399 [00:00<?, ?it/s]"
      ]
     },
     "metadata": {},
     "output_type": "display_data"
    },
    {
     "name": "stdout",
     "output_type": "stream",
     "text": [
      "Epoch [0], val_loss: 1.675e+00, train_loss: 1.766e+00, lrate: 1.000e-04\n"
     ]
    },
    {
     "data": {
      "application/vnd.jupyter.widget-view+json": {
       "model_id": "3af0706cb74144d1b2e15aaf106bd90c",
       "version_major": 2,
       "version_minor": 0
      },
      "text/plain": [
       "Epoch: 1:   0%|          | 0/399 [00:00<?, ?it/s]"
      ]
     },
     "metadata": {},
     "output_type": "display_data"
    },
    {
     "name": "stdout",
     "output_type": "stream",
     "text": [
      "Epoch [1], val_loss: 1.604e+00, train_loss: 1.606e+00, lrate: 1.000e-04\n"
     ]
    },
    {
     "data": {
      "application/vnd.jupyter.widget-view+json": {
       "model_id": "c709f4ed885f462880b2a0b2096245e9",
       "version_major": 2,
       "version_minor": 0
      },
      "text/plain": [
       "Epoch: 2:   0%|          | 0/399 [00:00<?, ?it/s]"
      ]
     },
     "metadata": {},
     "output_type": "display_data"
    },
    {
     "name": "stdout",
     "output_type": "stream",
     "text": [
      "Epoch [2], val_loss: 1.574e+00, train_loss: 1.543e+00, lrate: 1.000e-04\n"
     ]
    },
    {
     "data": {
      "application/vnd.jupyter.widget-view+json": {
       "model_id": "7c624cfad8f24055bbe53884ec3373cd",
       "version_major": 2,
       "version_minor": 0
      },
      "text/plain": [
       "Epoch: 3:   0%|          | 0/399 [00:00<?, ?it/s]"
      ]
     },
     "metadata": {},
     "output_type": "display_data"
    },
    {
     "name": "stdout",
     "output_type": "stream",
     "text": [
      "Epoch [3], val_loss: 1.555e+00, train_loss: 1.493e+00, lrate: 1.000e-04\n"
     ]
    },
    {
     "data": {
      "application/vnd.jupyter.widget-view+json": {
       "model_id": "128417d7cf7e48a4a9a68851773e95dc",
       "version_major": 2,
       "version_minor": 0
      },
      "text/plain": [
       "Epoch: 4:   0%|          | 0/399 [00:00<?, ?it/s]"
      ]
     },
     "metadata": {},
     "output_type": "display_data"
    },
    {
     "name": "stdout",
     "output_type": "stream",
     "text": [
      "Epoch [4], val_loss: 1.561e+00, train_loss: 1.458e+00, lrate: 1.000e-04\n"
     ]
    },
    {
     "data": {
      "application/vnd.jupyter.widget-view+json": {
       "model_id": "d474866eda5d415d9934ceae9725b463",
       "version_major": 2,
       "version_minor": 0
      },
      "text/plain": [
       "Epoch: 5:   0%|          | 0/399 [00:00<?, ?it/s]"
      ]
     },
     "metadata": {},
     "output_type": "display_data"
    },
    {
     "name": "stdout",
     "output_type": "stream",
     "text": [
      "Epoch [5], val_loss: 1.545e+00, train_loss: 1.428e+00, lrate: 1.000e-04\n"
     ]
    },
    {
     "data": {
      "application/vnd.jupyter.widget-view+json": {
       "model_id": "144d4bcf4339419e9a885ad411e96952",
       "version_major": 2,
       "version_minor": 0
      },
      "text/plain": [
       "Epoch: 6:   0%|          | 0/399 [00:00<?, ?it/s]"
      ]
     },
     "metadata": {},
     "output_type": "display_data"
    },
    {
     "name": "stdout",
     "output_type": "stream",
     "text": [
      "Epoch [6], val_loss: 1.543e+00, train_loss: 1.399e+00, lrate: 1.000e-04\n"
     ]
    },
    {
     "data": {
      "application/vnd.jupyter.widget-view+json": {
       "model_id": "58c8f3a61d084a08908310061b11f7e5",
       "version_major": 2,
       "version_minor": 0
      },
      "text/plain": [
       "Epoch: 7:   0%|          | 0/399 [00:00<?, ?it/s]"
      ]
     },
     "metadata": {},
     "output_type": "display_data"
    },
    {
     "name": "stdout",
     "output_type": "stream",
     "text": [
      "Epoch [7], val_loss: 1.528e+00, train_loss: 1.378e+00, lrate: 1.000e-04\n"
     ]
    },
    {
     "data": {
      "application/vnd.jupyter.widget-view+json": {
       "model_id": "93af905140304a8096a8c8e07e87fddb",
       "version_major": 2,
       "version_minor": 0
      },
      "text/plain": [
       "Epoch: 8:   0%|          | 0/399 [00:00<?, ?it/s]"
      ]
     },
     "metadata": {},
     "output_type": "display_data"
    },
    {
     "name": "stdout",
     "output_type": "stream",
     "text": [
      "Epoch [8], val_loss: 1.523e+00, train_loss: 1.356e+00, lrate: 1.000e-04\n"
     ]
    },
    {
     "data": {
      "application/vnd.jupyter.widget-view+json": {
       "model_id": "5c19b07a38c84c55bdd263e97c381b6a",
       "version_major": 2,
       "version_minor": 0
      },
      "text/plain": [
       "Epoch: 9:   0%|          | 0/399 [00:00<?, ?it/s]"
      ]
     },
     "metadata": {},
     "output_type": "display_data"
    },
    {
     "name": "stdout",
     "output_type": "stream",
     "text": [
      "Epoch [9], val_loss: 1.520e+00, train_loss: 1.338e+00, lrate: 1.000e-04\n"
     ]
    },
    {
     "data": {
      "application/vnd.jupyter.widget-view+json": {
       "model_id": "e85bd4aae24446f487099c7cf1581c15",
       "version_major": 2,
       "version_minor": 0
      },
      "text/plain": [
       "Epoch: 10:   0%|          | 0/399 [00:00<?, ?it/s]"
      ]
     },
     "metadata": {},
     "output_type": "display_data"
    },
    {
     "name": "stdout",
     "output_type": "stream",
     "text": [
      "Epoch [10], val_loss: 1.534e+00, train_loss: 1.324e+00, lrate: 1.000e-04\n"
     ]
    },
    {
     "data": {
      "application/vnd.jupyter.widget-view+json": {
       "model_id": "4a9f66cb6a8b4718a907ad5482d26c7e",
       "version_major": 2,
       "version_minor": 0
      },
      "text/plain": [
       "Epoch: 11:   0%|          | 0/399 [00:00<?, ?it/s]"
      ]
     },
     "metadata": {},
     "output_type": "display_data"
    },
    {
     "name": "stdout",
     "output_type": "stream",
     "text": [
      "Epoch [11], val_loss: 1.516e+00, train_loss: 1.313e+00, lrate: 1.000e-04\n"
     ]
    },
    {
     "data": {
      "application/vnd.jupyter.widget-view+json": {
       "model_id": "fe9aad149d304e2e91610a9fcdf9343b",
       "version_major": 2,
       "version_minor": 0
      },
      "text/plain": [
       "Epoch: 12:   0%|          | 0/399 [00:00<?, ?it/s]"
      ]
     },
     "metadata": {},
     "output_type": "display_data"
    },
    {
     "name": "stdout",
     "output_type": "stream",
     "text": [
      "Epoch [12], val_loss: 1.528e+00, train_loss: 1.301e+00, lrate: 1.000e-04\n"
     ]
    },
    {
     "data": {
      "application/vnd.jupyter.widget-view+json": {
       "model_id": "169ba639bf5849f59250fd1698feaac2",
       "version_major": 2,
       "version_minor": 0
      },
      "text/plain": [
       "Epoch: 13:   0%|          | 0/399 [00:00<?, ?it/s]"
      ]
     },
     "metadata": {},
     "output_type": "display_data"
    },
    {
     "name": "stdout",
     "output_type": "stream",
     "text": [
      "Epoch [13], val_loss: 1.520e+00, train_loss: 1.297e+00, lrate: 1.000e-04\n"
     ]
    },
    {
     "data": {
      "application/vnd.jupyter.widget-view+json": {
       "model_id": "1d2835dcba4a44fe98b673e3f056aaf1",
       "version_major": 2,
       "version_minor": 0
      },
      "text/plain": [
       "Epoch: 14:   0%|          | 0/399 [00:00<?, ?it/s]"
      ]
     },
     "metadata": {},
     "output_type": "display_data"
    },
    {
     "name": "stdout",
     "output_type": "stream",
     "text": [
      "Epoch [14], val_loss: 1.524e+00, train_loss: 1.285e+00, lrate: 1.000e-04\n"
     ]
    },
    {
     "data": {
      "application/vnd.jupyter.widget-view+json": {
       "model_id": "5d9ac9098dd54efdbb8fdb73ffb623fe",
       "version_major": 2,
       "version_minor": 0
      },
      "text/plain": [
       "Epoch: 15:   0%|          | 0/399 [00:00<?, ?it/s]"
      ]
     },
     "metadata": {},
     "output_type": "display_data"
    },
    {
     "name": "stdout",
     "output_type": "stream",
     "text": [
      "Epoch [15], val_loss: 1.527e+00, train_loss: 1.283e+00, lrate: 5.000e-05\n"
     ]
    },
    {
     "data": {
      "application/vnd.jupyter.widget-view+json": {
       "model_id": "9596eaac6b294fee92ccdc7ae9c963c4",
       "version_major": 2,
       "version_minor": 0
      },
      "text/plain": [
       "Epoch: 16:   0%|          | 0/399 [00:00<?, ?it/s]"
      ]
     },
     "metadata": {},
     "output_type": "display_data"
    },
    {
     "name": "stdout",
     "output_type": "stream",
     "text": [
      "Epoch [16], val_loss: 1.509e+00, train_loss: 1.265e+00, lrate: 5.000e-05\n"
     ]
    },
    {
     "data": {
      "application/vnd.jupyter.widget-view+json": {
       "model_id": "048ef46846b94e08b0face76930f7824",
       "version_major": 2,
       "version_minor": 0
      },
      "text/plain": [
       "Epoch: 17:   0%|          | 0/399 [00:00<?, ?it/s]"
      ]
     },
     "metadata": {},
     "output_type": "display_data"
    },
    {
     "name": "stdout",
     "output_type": "stream",
     "text": [
      "Epoch [17], val_loss: 1.513e+00, train_loss: 1.258e+00, lrate: 5.000e-05\n"
     ]
    },
    {
     "data": {
      "application/vnd.jupyter.widget-view+json": {
       "model_id": "5116b53150f248abbcc5994647731538",
       "version_major": 2,
       "version_minor": 0
      },
      "text/plain": [
       "Epoch: 18:   0%|          | 0/399 [00:00<?, ?it/s]"
      ]
     },
     "metadata": {},
     "output_type": "display_data"
    },
    {
     "name": "stdout",
     "output_type": "stream",
     "text": [
      "Epoch [18], val_loss: 1.509e+00, train_loss: 1.256e+00, lrate: 5.000e-05\n"
     ]
    },
    {
     "data": {
      "application/vnd.jupyter.widget-view+json": {
       "model_id": "c1a507664b614323be1ad4914c65f920",
       "version_major": 2,
       "version_minor": 0
      },
      "text/plain": [
       "Epoch: 19:   0%|          | 0/399 [00:00<?, ?it/s]"
      ]
     },
     "metadata": {},
     "output_type": "display_data"
    },
    {
     "name": "stdout",
     "output_type": "stream",
     "text": [
      "Epoch [19], val_loss: 1.505e+00, train_loss: 1.252e+00, lrate: 5.000e-05\n"
     ]
    },
    {
     "data": {
      "application/vnd.jupyter.widget-view+json": {
       "model_id": "29d290eff5204c9c83cad28ab3965a4e",
       "version_major": 2,
       "version_minor": 0
      },
      "text/plain": [
       "Epoch: 20:   0%|          | 0/399 [00:00<?, ?it/s]"
      ]
     },
     "metadata": {},
     "output_type": "display_data"
    },
    {
     "name": "stdout",
     "output_type": "stream",
     "text": [
      "Epoch [20], val_loss: 1.502e+00, train_loss: 1.250e+00, lrate: 5.000e-05\n"
     ]
    },
    {
     "data": {
      "application/vnd.jupyter.widget-view+json": {
       "model_id": "b9d4a6d76d4544e4b10554174a8a8294",
       "version_major": 2,
       "version_minor": 0
      },
      "text/plain": [
       "Epoch: 21:   0%|          | 0/399 [00:00<?, ?it/s]"
      ]
     },
     "metadata": {},
     "output_type": "display_data"
    },
    {
     "name": "stdout",
     "output_type": "stream",
     "text": [
      "Epoch [21], val_loss: 1.513e+00, train_loss: 1.249e+00, lrate: 5.000e-05\n"
     ]
    },
    {
     "data": {
      "application/vnd.jupyter.widget-view+json": {
       "model_id": "56edb6170ca248f18974ba94eae722e2",
       "version_major": 2,
       "version_minor": 0
      },
      "text/plain": [
       "Epoch: 22:   0%|          | 0/399 [00:00<?, ?it/s]"
      ]
     },
     "metadata": {},
     "output_type": "display_data"
    },
    {
     "name": "stdout",
     "output_type": "stream",
     "text": [
      "Epoch [22], val_loss: 1.514e+00, train_loss: 1.246e+00, lrate: 5.000e-05\n"
     ]
    },
    {
     "data": {
      "application/vnd.jupyter.widget-view+json": {
       "model_id": "c85aa84cb60040509e228ec1cd0667af",
       "version_major": 2,
       "version_minor": 0
      },
      "text/plain": [
       "Epoch: 23:   0%|          | 0/399 [00:00<?, ?it/s]"
      ]
     },
     "metadata": {},
     "output_type": "display_data"
    },
    {
     "name": "stdout",
     "output_type": "stream",
     "text": [
      "Epoch [23], val_loss: 1.508e+00, train_loss: 1.246e+00, lrate: 5.000e-05\n"
     ]
    },
    {
     "data": {
      "application/vnd.jupyter.widget-view+json": {
       "model_id": "a91776affdf9433b8c29cea1948ed1ea",
       "version_major": 2,
       "version_minor": 0
      },
      "text/plain": [
       "Epoch: 24:   0%|          | 0/399 [00:00<?, ?it/s]"
      ]
     },
     "metadata": {},
     "output_type": "display_data"
    },
    {
     "name": "stdout",
     "output_type": "stream",
     "text": [
      "Epoch [24], val_loss: 1.508e+00, train_loss: 1.244e+00, lrate: 2.500e-05\n"
     ]
    },
    {
     "data": {
      "application/vnd.jupyter.widget-view+json": {
       "model_id": "464112d087a54b9d822a6029aa37927b",
       "version_major": 2,
       "version_minor": 0
      },
      "text/plain": [
       "Epoch: 25:   0%|          | 0/399 [00:00<?, ?it/s]"
      ]
     },
     "metadata": {},
     "output_type": "display_data"
    },
    {
     "name": "stdout",
     "output_type": "stream",
     "text": [
      "Early stopping\n",
      "------------fold no---------5----------------------\n"
     ]
    },
    {
     "data": {
      "application/vnd.jupyter.widget-view+json": {
       "model_id": "3808c228c0034e65b8d30f01bd2b6577",
       "version_major": 2,
       "version_minor": 0
      },
      "text/plain": [
       "Current Epoch:   0%|          | 0/100 [00:00<?, ?it/s]"
      ]
     },
     "metadata": {},
     "output_type": "display_data"
    },
    {
     "data": {
      "application/vnd.jupyter.widget-view+json": {
       "model_id": "dbce3bf40eb3498f8886edcbee89893f",
       "version_major": 2,
       "version_minor": 0
      },
      "text/plain": [
       "Epoch: 0:   0%|          | 0/399 [00:00<?, ?it/s]"
      ]
     },
     "metadata": {},
     "output_type": "display_data"
    },
    {
     "name": "stdout",
     "output_type": "stream",
     "text": [
      "Epoch [0], val_loss: 1.661e+00, train_loss: 1.758e+00, lrate: 1.000e-04\n"
     ]
    },
    {
     "data": {
      "application/vnd.jupyter.widget-view+json": {
       "model_id": "feef7ab872ab4644b8e1b7df84b4541a",
       "version_major": 2,
       "version_minor": 0
      },
      "text/plain": [
       "Epoch: 1:   0%|          | 0/399 [00:00<?, ?it/s]"
      ]
     },
     "metadata": {},
     "output_type": "display_data"
    },
    {
     "name": "stdout",
     "output_type": "stream",
     "text": [
      "Epoch [1], val_loss: 1.595e+00, train_loss: 1.596e+00, lrate: 1.000e-04\n"
     ]
    },
    {
     "data": {
      "application/vnd.jupyter.widget-view+json": {
       "model_id": "24633bbb65a142a6a9d8f2cef63effaf",
       "version_major": 2,
       "version_minor": 0
      },
      "text/plain": [
       "Epoch: 2:   0%|          | 0/399 [00:00<?, ?it/s]"
      ]
     },
     "metadata": {},
     "output_type": "display_data"
    },
    {
     "name": "stdout",
     "output_type": "stream",
     "text": [
      "Epoch [2], val_loss: 1.581e+00, train_loss: 1.532e+00, lrate: 1.000e-04\n"
     ]
    },
    {
     "data": {
      "application/vnd.jupyter.widget-view+json": {
       "model_id": "846ae5631f7c464dbfd2abdc4258a4d5",
       "version_major": 2,
       "version_minor": 0
      },
      "text/plain": [
       "Epoch: 3:   0%|          | 0/399 [00:00<?, ?it/s]"
      ]
     },
     "metadata": {},
     "output_type": "display_data"
    },
    {
     "name": "stdout",
     "output_type": "stream",
     "text": [
      "Epoch [3], val_loss: 1.558e+00, train_loss: 1.489e+00, lrate: 1.000e-04\n"
     ]
    },
    {
     "data": {
      "application/vnd.jupyter.widget-view+json": {
       "model_id": "c000957f9f534af193a1204c0b929b4d",
       "version_major": 2,
       "version_minor": 0
      },
      "text/plain": [
       "Epoch: 4:   0%|          | 0/399 [00:00<?, ?it/s]"
      ]
     },
     "metadata": {},
     "output_type": "display_data"
    },
    {
     "name": "stdout",
     "output_type": "stream",
     "text": [
      "Epoch [4], val_loss: 1.544e+00, train_loss: 1.456e+00, lrate: 1.000e-04\n"
     ]
    },
    {
     "data": {
      "application/vnd.jupyter.widget-view+json": {
       "model_id": "3e5b72c0d75a4bcab8ba25ea3663d79b",
       "version_major": 2,
       "version_minor": 0
      },
      "text/plain": [
       "Epoch: 5:   0%|          | 0/399 [00:00<?, ?it/s]"
      ]
     },
     "metadata": {},
     "output_type": "display_data"
    },
    {
     "name": "stdout",
     "output_type": "stream",
     "text": [
      "Epoch [5], val_loss: 1.536e+00, train_loss: 1.425e+00, lrate: 1.000e-04\n"
     ]
    },
    {
     "data": {
      "application/vnd.jupyter.widget-view+json": {
       "model_id": "38e970c039a045a98be04729c5c22410",
       "version_major": 2,
       "version_minor": 0
      },
      "text/plain": [
       "Epoch: 6:   0%|          | 0/399 [00:00<?, ?it/s]"
      ]
     },
     "metadata": {},
     "output_type": "display_data"
    },
    {
     "name": "stdout",
     "output_type": "stream",
     "text": [
      "Epoch [6], val_loss: 1.548e+00, train_loss: 1.403e+00, lrate: 1.000e-04\n"
     ]
    },
    {
     "data": {
      "application/vnd.jupyter.widget-view+json": {
       "model_id": "c06ea28e3c884516aa6676af5df451b8",
       "version_major": 2,
       "version_minor": 0
      },
      "text/plain": [
       "Epoch: 7:   0%|          | 0/399 [00:00<?, ?it/s]"
      ]
     },
     "metadata": {},
     "output_type": "display_data"
    },
    {
     "name": "stdout",
     "output_type": "stream",
     "text": [
      "Epoch [7], val_loss: 1.524e+00, train_loss: 1.380e+00, lrate: 1.000e-04\n"
     ]
    },
    {
     "data": {
      "application/vnd.jupyter.widget-view+json": {
       "model_id": "0d6f7b1b3abc4df1977c61bddf13f3bb",
       "version_major": 2,
       "version_minor": 0
      },
      "text/plain": [
       "Epoch: 8:   0%|          | 0/399 [00:00<?, ?it/s]"
      ]
     },
     "metadata": {},
     "output_type": "display_data"
    },
    {
     "name": "stdout",
     "output_type": "stream",
     "text": [
      "Epoch [8], val_loss: 1.519e+00, train_loss: 1.364e+00, lrate: 1.000e-04\n"
     ]
    },
    {
     "data": {
      "application/vnd.jupyter.widget-view+json": {
       "model_id": "45fa208091654ae3bf703c7b218648c6",
       "version_major": 2,
       "version_minor": 0
      },
      "text/plain": [
       "Epoch: 9:   0%|          | 0/399 [00:00<?, ?it/s]"
      ]
     },
     "metadata": {},
     "output_type": "display_data"
    },
    {
     "name": "stdout",
     "output_type": "stream",
     "text": [
      "Epoch [9], val_loss: 1.511e+00, train_loss: 1.345e+00, lrate: 1.000e-04\n"
     ]
    },
    {
     "data": {
      "application/vnd.jupyter.widget-view+json": {
       "model_id": "cff811ebda034f50b60b1e2a6675188a",
       "version_major": 2,
       "version_minor": 0
      },
      "text/plain": [
       "Epoch: 10:   0%|          | 0/399 [00:00<?, ?it/s]"
      ]
     },
     "metadata": {},
     "output_type": "display_data"
    },
    {
     "name": "stdout",
     "output_type": "stream",
     "text": [
      "Epoch [10], val_loss: 1.511e+00, train_loss: 1.330e+00, lrate: 1.000e-04\n"
     ]
    },
    {
     "data": {
      "application/vnd.jupyter.widget-view+json": {
       "model_id": "5a75ae866c0f4fcdb7e9397ee5baace8",
       "version_major": 2,
       "version_minor": 0
      },
      "text/plain": [
       "Epoch: 11:   0%|          | 0/399 [00:00<?, ?it/s]"
      ]
     },
     "metadata": {},
     "output_type": "display_data"
    },
    {
     "name": "stdout",
     "output_type": "stream",
     "text": [
      "Epoch [11], val_loss: 1.524e+00, train_loss: 1.317e+00, lrate: 1.000e-04\n"
     ]
    },
    {
     "data": {
      "application/vnd.jupyter.widget-view+json": {
       "model_id": "b631614ceded4b3bb9dc881da5c22667",
       "version_major": 2,
       "version_minor": 0
      },
      "text/plain": [
       "Epoch: 12:   0%|          | 0/399 [00:00<?, ?it/s]"
      ]
     },
     "metadata": {},
     "output_type": "display_data"
    },
    {
     "name": "stdout",
     "output_type": "stream",
     "text": [
      "Epoch [12], val_loss: 1.510e+00, train_loss: 1.306e+00, lrate: 1.000e-04\n"
     ]
    },
    {
     "data": {
      "application/vnd.jupyter.widget-view+json": {
       "model_id": "d13e543b0dc749d5b53cf98f4bfb6341",
       "version_major": 2,
       "version_minor": 0
      },
      "text/plain": [
       "Epoch: 13:   0%|          | 0/399 [00:00<?, ?it/s]"
      ]
     },
     "metadata": {},
     "output_type": "display_data"
    },
    {
     "name": "stdout",
     "output_type": "stream",
     "text": [
      "Epoch [13], val_loss: 1.502e+00, train_loss: 1.295e+00, lrate: 1.000e-04\n"
     ]
    },
    {
     "data": {
      "application/vnd.jupyter.widget-view+json": {
       "model_id": "1f7b73c5cdf146eeabd302c4ae2b0a6e",
       "version_major": 2,
       "version_minor": 0
      },
      "text/plain": [
       "Epoch: 14:   0%|          | 0/399 [00:00<?, ?it/s]"
      ]
     },
     "metadata": {},
     "output_type": "display_data"
    },
    {
     "name": "stdout",
     "output_type": "stream",
     "text": [
      "Epoch [14], val_loss: 1.514e+00, train_loss: 1.287e+00, lrate: 1.000e-04\n"
     ]
    },
    {
     "data": {
      "application/vnd.jupyter.widget-view+json": {
       "model_id": "3fd1306b3436403eace034d42ddfb07a",
       "version_major": 2,
       "version_minor": 0
      },
      "text/plain": [
       "Epoch: 15:   0%|          | 0/399 [00:00<?, ?it/s]"
      ]
     },
     "metadata": {},
     "output_type": "display_data"
    },
    {
     "name": "stdout",
     "output_type": "stream",
     "text": [
      "Epoch [15], val_loss: 1.516e+00, train_loss: 1.282e+00, lrate: 1.000e-04\n"
     ]
    },
    {
     "data": {
      "application/vnd.jupyter.widget-view+json": {
       "model_id": "4f33ef86efb84306a070e3ec82c7a847",
       "version_major": 2,
       "version_minor": 0
      },
      "text/plain": [
       "Epoch: 16:   0%|          | 0/399 [00:00<?, ?it/s]"
      ]
     },
     "metadata": {},
     "output_type": "display_data"
    },
    {
     "name": "stdout",
     "output_type": "stream",
     "text": [
      "Epoch [16], val_loss: 1.517e+00, train_loss: 1.281e+00, lrate: 1.000e-04\n"
     ]
    },
    {
     "data": {
      "application/vnd.jupyter.widget-view+json": {
       "model_id": "f54f73086432451ea185246039f8e93a",
       "version_major": 2,
       "version_minor": 0
      },
      "text/plain": [
       "Epoch: 17:   0%|          | 0/399 [00:00<?, ?it/s]"
      ]
     },
     "metadata": {},
     "output_type": "display_data"
    },
    {
     "name": "stdout",
     "output_type": "stream",
     "text": [
      "Epoch [17], val_loss: 1.503e+00, train_loss: 1.269e+00, lrate: 5.000e-05\n"
     ]
    },
    {
     "data": {
      "application/vnd.jupyter.widget-view+json": {
       "model_id": "3a60eebcb4734473873fec83e143c60a",
       "version_major": 2,
       "version_minor": 0
      },
      "text/plain": [
       "Epoch: 18:   0%|          | 0/399 [00:00<?, ?it/s]"
      ]
     },
     "metadata": {},
     "output_type": "display_data"
    },
    {
     "name": "stdout",
     "output_type": "stream",
     "text": [
      "Epoch [18], val_loss: 1.502e+00, train_loss: 1.258e+00, lrate: 5.000e-05\n"
     ]
    },
    {
     "data": {
      "application/vnd.jupyter.widget-view+json": {
       "model_id": "2126973d19d7453dad138800ab83b701",
       "version_major": 2,
       "version_minor": 0
      },
      "text/plain": [
       "Epoch: 19:   0%|          | 0/399 [00:00<?, ?it/s]"
      ]
     },
     "metadata": {},
     "output_type": "display_data"
    },
    {
     "name": "stdout",
     "output_type": "stream",
     "text": [
      "Epoch [19], val_loss: 1.505e+00, train_loss: 1.252e+00, lrate: 5.000e-05\n"
     ]
    },
    {
     "data": {
      "application/vnd.jupyter.widget-view+json": {
       "model_id": "51e9788a0e314055aad92e0a7dc640bb",
       "version_major": 2,
       "version_minor": 0
      },
      "text/plain": [
       "Epoch: 20:   0%|          | 0/399 [00:00<?, ?it/s]"
      ]
     },
     "metadata": {},
     "output_type": "display_data"
    },
    {
     "name": "stdout",
     "output_type": "stream",
     "text": [
      "Epoch [20], val_loss: 1.507e+00, train_loss: 1.250e+00, lrate: 5.000e-05\n"
     ]
    },
    {
     "data": {
      "application/vnd.jupyter.widget-view+json": {
       "model_id": "bcd350162c9644ff8993391a7ecd6bae",
       "version_major": 2,
       "version_minor": 0
      },
      "text/plain": [
       "Epoch: 21:   0%|          | 0/399 [00:00<?, ?it/s]"
      ]
     },
     "metadata": {},
     "output_type": "display_data"
    },
    {
     "name": "stdout",
     "output_type": "stream",
     "text": [
      "Epoch [21], val_loss: 1.496e+00, train_loss: 1.248e+00, lrate: 5.000e-05\n"
     ]
    },
    {
     "data": {
      "application/vnd.jupyter.widget-view+json": {
       "model_id": "508f5473a5aa4f009d4b2eaa493bf2e4",
       "version_major": 2,
       "version_minor": 0
      },
      "text/plain": [
       "Epoch: 22:   0%|          | 0/399 [00:00<?, ?it/s]"
      ]
     },
     "metadata": {},
     "output_type": "display_data"
    },
    {
     "name": "stdout",
     "output_type": "stream",
     "text": [
      "Epoch [22], val_loss: 1.503e+00, train_loss: 1.246e+00, lrate: 5.000e-05\n"
     ]
    },
    {
     "data": {
      "application/vnd.jupyter.widget-view+json": {
       "model_id": "5c7c9959c0584c5cb93df5de887594f0",
       "version_major": 2,
       "version_minor": 0
      },
      "text/plain": [
       "Epoch: 23:   0%|          | 0/399 [00:00<?, ?it/s]"
      ]
     },
     "metadata": {},
     "output_type": "display_data"
    },
    {
     "name": "stdout",
     "output_type": "stream",
     "text": [
      "Epoch [23], val_loss: 1.511e+00, train_loss: 1.246e+00, lrate: 5.000e-05\n"
     ]
    },
    {
     "data": {
      "application/vnd.jupyter.widget-view+json": {
       "model_id": "80e69bf0e8b9493db18fe628873740ac",
       "version_major": 2,
       "version_minor": 0
      },
      "text/plain": [
       "Epoch: 24:   0%|          | 0/399 [00:00<?, ?it/s]"
      ]
     },
     "metadata": {},
     "output_type": "display_data"
    },
    {
     "name": "stdout",
     "output_type": "stream",
     "text": [
      "Epoch [24], val_loss: 1.504e+00, train_loss: 1.244e+00, lrate: 5.000e-05\n"
     ]
    },
    {
     "data": {
      "application/vnd.jupyter.widget-view+json": {
       "model_id": "101ca8d051ce462b8cfa126ea7dd2683",
       "version_major": 2,
       "version_minor": 0
      },
      "text/plain": [
       "Epoch: 25:   0%|          | 0/399 [00:00<?, ?it/s]"
      ]
     },
     "metadata": {},
     "output_type": "display_data"
    },
    {
     "name": "stdout",
     "output_type": "stream",
     "text": [
      "Epoch [25], val_loss: 1.499e+00, train_loss: 1.242e+00, lrate: 2.500e-05\n"
     ]
    },
    {
     "data": {
      "application/vnd.jupyter.widget-view+json": {
       "model_id": "38eb3a8e4a804273a1b4ec6092be3941",
       "version_major": 2,
       "version_minor": 0
      },
      "text/plain": [
       "Epoch: 26:   0%|          | 0/399 [00:00<?, ?it/s]"
      ]
     },
     "metadata": {},
     "output_type": "display_data"
    },
    {
     "name": "stdout",
     "output_type": "stream",
     "text": [
      "Early stopping\n",
      "------------fold no---------6----------------------\n"
     ]
    },
    {
     "data": {
      "application/vnd.jupyter.widget-view+json": {
       "model_id": "3d298cbc228940d0aaff552067f1fe8e",
       "version_major": 2,
       "version_minor": 0
      },
      "text/plain": [
       "Current Epoch:   0%|          | 0/100 [00:00<?, ?it/s]"
      ]
     },
     "metadata": {},
     "output_type": "display_data"
    },
    {
     "data": {
      "application/vnd.jupyter.widget-view+json": {
       "model_id": "b6c378c76b73445b925519cb545dbba0",
       "version_major": 2,
       "version_minor": 0
      },
      "text/plain": [
       "Epoch: 0:   0%|          | 0/399 [00:00<?, ?it/s]"
      ]
     },
     "metadata": {},
     "output_type": "display_data"
    },
    {
     "name": "stdout",
     "output_type": "stream",
     "text": [
      "Epoch [0], val_loss: 1.637e+00, train_loss: 1.735e+00, lrate: 1.000e-04\n"
     ]
    },
    {
     "data": {
      "application/vnd.jupyter.widget-view+json": {
       "model_id": "b4d4bc1d87cb474e853598dae594522a",
       "version_major": 2,
       "version_minor": 0
      },
      "text/plain": [
       "Epoch: 1:   0%|          | 0/399 [00:00<?, ?it/s]"
      ]
     },
     "metadata": {},
     "output_type": "display_data"
    },
    {
     "name": "stdout",
     "output_type": "stream",
     "text": [
      "Epoch [1], val_loss: 1.594e+00, train_loss: 1.585e+00, lrate: 1.000e-04\n"
     ]
    },
    {
     "data": {
      "application/vnd.jupyter.widget-view+json": {
       "model_id": "1848b79d1c9b403dadac31b1d1e6fb3a",
       "version_major": 2,
       "version_minor": 0
      },
      "text/plain": [
       "Epoch: 2:   0%|          | 0/399 [00:00<?, ?it/s]"
      ]
     },
     "metadata": {},
     "output_type": "display_data"
    },
    {
     "name": "stdout",
     "output_type": "stream",
     "text": [
      "Epoch [2], val_loss: 1.559e+00, train_loss: 1.523e+00, lrate: 1.000e-04\n"
     ]
    },
    {
     "data": {
      "application/vnd.jupyter.widget-view+json": {
       "model_id": "13d650c1202b4617880c51a0eb9da4c8",
       "version_major": 2,
       "version_minor": 0
      },
      "text/plain": [
       "Epoch: 3:   0%|          | 0/399 [00:00<?, ?it/s]"
      ]
     },
     "metadata": {},
     "output_type": "display_data"
    },
    {
     "name": "stdout",
     "output_type": "stream",
     "text": [
      "Epoch [3], val_loss: 1.543e+00, train_loss: 1.483e+00, lrate: 1.000e-04\n"
     ]
    },
    {
     "data": {
      "application/vnd.jupyter.widget-view+json": {
       "model_id": "0534da0c370c4af6b88b5c9600ae456a",
       "version_major": 2,
       "version_minor": 0
      },
      "text/plain": [
       "Epoch: 4:   0%|          | 0/399 [00:00<?, ?it/s]"
      ]
     },
     "metadata": {},
     "output_type": "display_data"
    },
    {
     "name": "stdout",
     "output_type": "stream",
     "text": [
      "Epoch [4], val_loss: 1.533e+00, train_loss: 1.450e+00, lrate: 1.000e-04\n"
     ]
    },
    {
     "data": {
      "application/vnd.jupyter.widget-view+json": {
       "model_id": "e86cd301dc4a4649a9e2ddac53574598",
       "version_major": 2,
       "version_minor": 0
      },
      "text/plain": [
       "Epoch: 5:   0%|          | 0/399 [00:00<?, ?it/s]"
      ]
     },
     "metadata": {},
     "output_type": "display_data"
    },
    {
     "name": "stdout",
     "output_type": "stream",
     "text": [
      "Epoch [5], val_loss: 1.520e+00, train_loss: 1.426e+00, lrate: 1.000e-04\n"
     ]
    },
    {
     "data": {
      "application/vnd.jupyter.widget-view+json": {
       "model_id": "be8a21f12c7749859409b539ac2c326c",
       "version_major": 2,
       "version_minor": 0
      },
      "text/plain": [
       "Epoch: 6:   0%|          | 0/399 [00:00<?, ?it/s]"
      ]
     },
     "metadata": {},
     "output_type": "display_data"
    },
    {
     "name": "stdout",
     "output_type": "stream",
     "text": [
      "Epoch [6], val_loss: 1.520e+00, train_loss: 1.402e+00, lrate: 1.000e-04\n"
     ]
    },
    {
     "data": {
      "application/vnd.jupyter.widget-view+json": {
       "model_id": "38148dd5ecda49e1b45f86f02fb70ccf",
       "version_major": 2,
       "version_minor": 0
      },
      "text/plain": [
       "Epoch: 7:   0%|          | 0/399 [00:00<?, ?it/s]"
      ]
     },
     "metadata": {},
     "output_type": "display_data"
    },
    {
     "name": "stdout",
     "output_type": "stream",
     "text": [
      "Epoch [7], val_loss: 1.522e+00, train_loss: 1.378e+00, lrate: 1.000e-04\n"
     ]
    },
    {
     "data": {
      "application/vnd.jupyter.widget-view+json": {
       "model_id": "4cb494d668404c1296b49f03a8d76905",
       "version_major": 2,
       "version_minor": 0
      },
      "text/plain": [
       "Epoch: 8:   0%|          | 0/399 [00:00<?, ?it/s]"
      ]
     },
     "metadata": {},
     "output_type": "display_data"
    },
    {
     "name": "stdout",
     "output_type": "stream",
     "text": [
      "Epoch [8], val_loss: 1.511e+00, train_loss: 1.362e+00, lrate: 1.000e-04\n"
     ]
    },
    {
     "data": {
      "application/vnd.jupyter.widget-view+json": {
       "model_id": "f4db4b257a0f4344811c6e0cff73b9c5",
       "version_major": 2,
       "version_minor": 0
      },
      "text/plain": [
       "Epoch: 9:   0%|          | 0/399 [00:00<?, ?it/s]"
      ]
     },
     "metadata": {},
     "output_type": "display_data"
    },
    {
     "name": "stdout",
     "output_type": "stream",
     "text": [
      "Epoch [9], val_loss: 1.517e+00, train_loss: 1.343e+00, lrate: 1.000e-04\n"
     ]
    },
    {
     "data": {
      "application/vnd.jupyter.widget-view+json": {
       "model_id": "4eeaaf81021a4e238db6552f17bd6577",
       "version_major": 2,
       "version_minor": 0
      },
      "text/plain": [
       "Epoch: 10:   0%|          | 0/399 [00:00<?, ?it/s]"
      ]
     },
     "metadata": {},
     "output_type": "display_data"
    },
    {
     "name": "stdout",
     "output_type": "stream",
     "text": [
      "Epoch [10], val_loss: 1.507e+00, train_loss: 1.327e+00, lrate: 1.000e-04\n"
     ]
    },
    {
     "data": {
      "application/vnd.jupyter.widget-view+json": {
       "model_id": "51ee29ac6cab4f63ae7547a0dfa01210",
       "version_major": 2,
       "version_minor": 0
      },
      "text/plain": [
       "Epoch: 11:   0%|          | 0/399 [00:00<?, ?it/s]"
      ]
     },
     "metadata": {},
     "output_type": "display_data"
    },
    {
     "name": "stdout",
     "output_type": "stream",
     "text": [
      "Epoch [11], val_loss: 1.508e+00, train_loss: 1.313e+00, lrate: 1.000e-04\n"
     ]
    },
    {
     "data": {
      "application/vnd.jupyter.widget-view+json": {
       "model_id": "ee30c077ca884145b2684a081b126d9b",
       "version_major": 2,
       "version_minor": 0
      },
      "text/plain": [
       "Epoch: 12:   0%|          | 0/399 [00:00<?, ?it/s]"
      ]
     },
     "metadata": {},
     "output_type": "display_data"
    },
    {
     "name": "stdout",
     "output_type": "stream",
     "text": [
      "Epoch [12], val_loss: 1.501e+00, train_loss: 1.303e+00, lrate: 1.000e-04\n"
     ]
    },
    {
     "data": {
      "application/vnd.jupyter.widget-view+json": {
       "model_id": "42818c1e22b9492f95f22baefa05aceb",
       "version_major": 2,
       "version_minor": 0
      },
      "text/plain": [
       "Epoch: 13:   0%|          | 0/399 [00:00<?, ?it/s]"
      ]
     },
     "metadata": {},
     "output_type": "display_data"
    },
    {
     "name": "stdout",
     "output_type": "stream",
     "text": [
      "Epoch [13], val_loss: 1.500e+00, train_loss: 1.298e+00, lrate: 1.000e-04\n"
     ]
    },
    {
     "data": {
      "application/vnd.jupyter.widget-view+json": {
       "model_id": "102f9438dab041e6ac09d3c8fae616a8",
       "version_major": 2,
       "version_minor": 0
      },
      "text/plain": [
       "Epoch: 14:   0%|          | 0/399 [00:00<?, ?it/s]"
      ]
     },
     "metadata": {},
     "output_type": "display_data"
    },
    {
     "name": "stdout",
     "output_type": "stream",
     "text": [
      "Epoch [14], val_loss: 1.497e+00, train_loss: 1.286e+00, lrate: 1.000e-04\n"
     ]
    },
    {
     "data": {
      "application/vnd.jupyter.widget-view+json": {
       "model_id": "0737e4a063f94cbcb600f8c609f4ddc3",
       "version_major": 2,
       "version_minor": 0
      },
      "text/plain": [
       "Epoch: 15:   0%|          | 0/399 [00:00<?, ?it/s]"
      ]
     },
     "metadata": {},
     "output_type": "display_data"
    },
    {
     "name": "stdout",
     "output_type": "stream",
     "text": [
      "Epoch [15], val_loss: 1.508e+00, train_loss: 1.284e+00, lrate: 1.000e-04\n"
     ]
    },
    {
     "data": {
      "application/vnd.jupyter.widget-view+json": {
       "model_id": "a8c626d24fca49f6b12f9195785956a3",
       "version_major": 2,
       "version_minor": 0
      },
      "text/plain": [
       "Epoch: 16:   0%|          | 0/399 [00:00<?, ?it/s]"
      ]
     },
     "metadata": {},
     "output_type": "display_data"
    },
    {
     "name": "stdout",
     "output_type": "stream",
     "text": [
      "Epoch [16], val_loss: 1.488e+00, train_loss: 1.279e+00, lrate: 1.000e-04\n"
     ]
    },
    {
     "data": {
      "application/vnd.jupyter.widget-view+json": {
       "model_id": "1cfa21a5bfb54da3b090717c96d9f478",
       "version_major": 2,
       "version_minor": 0
      },
      "text/plain": [
       "Epoch: 17:   0%|          | 0/399 [00:00<?, ?it/s]"
      ]
     },
     "metadata": {},
     "output_type": "display_data"
    },
    {
     "name": "stdout",
     "output_type": "stream",
     "text": [
      "Epoch [17], val_loss: 1.500e+00, train_loss: 1.274e+00, lrate: 1.000e-04\n"
     ]
    },
    {
     "data": {
      "application/vnd.jupyter.widget-view+json": {
       "model_id": "c9bdfb2a245e4f13b4c0aedc43477f3b",
       "version_major": 2,
       "version_minor": 0
      },
      "text/plain": [
       "Epoch: 18:   0%|          | 0/399 [00:00<?, ?it/s]"
      ]
     },
     "metadata": {},
     "output_type": "display_data"
    },
    {
     "name": "stdout",
     "output_type": "stream",
     "text": [
      "Epoch [18], val_loss: 1.503e+00, train_loss: 1.276e+00, lrate: 1.000e-04\n"
     ]
    },
    {
     "data": {
      "application/vnd.jupyter.widget-view+json": {
       "model_id": "df5923e6e0fd4f1088ffd25f64ea3db6",
       "version_major": 2,
       "version_minor": 0
      },
      "text/plain": [
       "Epoch: 19:   0%|          | 0/399 [00:00<?, ?it/s]"
      ]
     },
     "metadata": {},
     "output_type": "display_data"
    },
    {
     "name": "stdout",
     "output_type": "stream",
     "text": [
      "Epoch [19], val_loss: 1.496e+00, train_loss: 1.266e+00, lrate: 1.000e-04\n"
     ]
    },
    {
     "data": {
      "application/vnd.jupyter.widget-view+json": {
       "model_id": "a296f1dbd96a4ca5ad8854e38a0644ec",
       "version_major": 2,
       "version_minor": 0
      },
      "text/plain": [
       "Epoch: 20:   0%|          | 0/399 [00:00<?, ?it/s]"
      ]
     },
     "metadata": {},
     "output_type": "display_data"
    },
    {
     "name": "stdout",
     "output_type": "stream",
     "text": [
      "Epoch [20], val_loss: 1.510e+00, train_loss: 1.257e+00, lrate: 5.000e-05\n"
     ]
    },
    {
     "data": {
      "application/vnd.jupyter.widget-view+json": {
       "model_id": "d5970642cb6b435fb353bb41238e05cc",
       "version_major": 2,
       "version_minor": 0
      },
      "text/plain": [
       "Epoch: 21:   0%|          | 0/399 [00:00<?, ?it/s]"
      ]
     },
     "metadata": {},
     "output_type": "display_data"
    },
    {
     "name": "stdout",
     "output_type": "stream",
     "text": [
      "Early stopping\n",
      "------------fold no---------7----------------------\n"
     ]
    },
    {
     "data": {
      "application/vnd.jupyter.widget-view+json": {
       "model_id": "79204494b1744919a6b829b57fb6c3a6",
       "version_major": 2,
       "version_minor": 0
      },
      "text/plain": [
       "Current Epoch:   0%|          | 0/100 [00:00<?, ?it/s]"
      ]
     },
     "metadata": {},
     "output_type": "display_data"
    },
    {
     "data": {
      "application/vnd.jupyter.widget-view+json": {
       "model_id": "e36e154f9d4f42aca3024d84da109aaa",
       "version_major": 2,
       "version_minor": 0
      },
      "text/plain": [
       "Epoch: 0:   0%|          | 0/399 [00:00<?, ?it/s]"
      ]
     },
     "metadata": {},
     "output_type": "display_data"
    },
    {
     "name": "stdout",
     "output_type": "stream",
     "text": [
      "Epoch [0], val_loss: 1.656e+00, train_loss: 1.743e+00, lrate: 1.000e-04\n"
     ]
    },
    {
     "data": {
      "application/vnd.jupyter.widget-view+json": {
       "model_id": "2760e1b568b94fc99ef1198e91abb040",
       "version_major": 2,
       "version_minor": 0
      },
      "text/plain": [
       "Epoch: 1:   0%|          | 0/399 [00:00<?, ?it/s]"
      ]
     },
     "metadata": {},
     "output_type": "display_data"
    },
    {
     "name": "stdout",
     "output_type": "stream",
     "text": [
      "Epoch [1], val_loss: 1.608e+00, train_loss: 1.586e+00, lrate: 1.000e-04\n"
     ]
    },
    {
     "data": {
      "application/vnd.jupyter.widget-view+json": {
       "model_id": "b63d32fda7984b1a8751736a04c09b1d",
       "version_major": 2,
       "version_minor": 0
      },
      "text/plain": [
       "Epoch: 2:   0%|          | 0/399 [00:00<?, ?it/s]"
      ]
     },
     "metadata": {},
     "output_type": "display_data"
    },
    {
     "name": "stdout",
     "output_type": "stream",
     "text": [
      "Epoch [2], val_loss: 1.576e+00, train_loss: 1.525e+00, lrate: 1.000e-04\n"
     ]
    },
    {
     "data": {
      "application/vnd.jupyter.widget-view+json": {
       "model_id": "b132597f4b2e48a58d2120ec8906a34a",
       "version_major": 2,
       "version_minor": 0
      },
      "text/plain": [
       "Epoch: 3:   0%|          | 0/399 [00:00<?, ?it/s]"
      ]
     },
     "metadata": {},
     "output_type": "display_data"
    },
    {
     "name": "stdout",
     "output_type": "stream",
     "text": [
      "Epoch [3], val_loss: 1.561e+00, train_loss: 1.484e+00, lrate: 1.000e-04\n"
     ]
    },
    {
     "data": {
      "application/vnd.jupyter.widget-view+json": {
       "model_id": "4bef1a4c38374611a8117619e664294f",
       "version_major": 2,
       "version_minor": 0
      },
      "text/plain": [
       "Epoch: 4:   0%|          | 0/399 [00:00<?, ?it/s]"
      ]
     },
     "metadata": {},
     "output_type": "display_data"
    },
    {
     "name": "stdout",
     "output_type": "stream",
     "text": [
      "Epoch [4], val_loss: 1.549e+00, train_loss: 1.450e+00, lrate: 1.000e-04\n"
     ]
    },
    {
     "data": {
      "application/vnd.jupyter.widget-view+json": {
       "model_id": "1f47cfe15bf445d298c7551f768d1f33",
       "version_major": 2,
       "version_minor": 0
      },
      "text/plain": [
       "Epoch: 5:   0%|          | 0/399 [00:00<?, ?it/s]"
      ]
     },
     "metadata": {},
     "output_type": "display_data"
    },
    {
     "name": "stdout",
     "output_type": "stream",
     "text": [
      "Epoch [5], val_loss: 1.536e+00, train_loss: 1.421e+00, lrate: 1.000e-04\n"
     ]
    },
    {
     "data": {
      "application/vnd.jupyter.widget-view+json": {
       "model_id": "1484f980320e4fe881b82eb6897287fc",
       "version_major": 2,
       "version_minor": 0
      },
      "text/plain": [
       "Epoch: 6:   0%|          | 0/399 [00:00<?, ?it/s]"
      ]
     },
     "metadata": {},
     "output_type": "display_data"
    },
    {
     "name": "stdout",
     "output_type": "stream",
     "text": [
      "Epoch [6], val_loss: 1.520e+00, train_loss: 1.399e+00, lrate: 1.000e-04\n"
     ]
    },
    {
     "data": {
      "application/vnd.jupyter.widget-view+json": {
       "model_id": "5019e47782544daa8cfdde00f40db219",
       "version_major": 2,
       "version_minor": 0
      },
      "text/plain": [
       "Epoch: 7:   0%|          | 0/399 [00:00<?, ?it/s]"
      ]
     },
     "metadata": {},
     "output_type": "display_data"
    },
    {
     "name": "stdout",
     "output_type": "stream",
     "text": [
      "Epoch [7], val_loss: 1.524e+00, train_loss: 1.376e+00, lrate: 1.000e-04\n"
     ]
    },
    {
     "data": {
      "application/vnd.jupyter.widget-view+json": {
       "model_id": "ef78f1ecad3e481aa544958ac874357f",
       "version_major": 2,
       "version_minor": 0
      },
      "text/plain": [
       "Epoch: 8:   0%|          | 0/399 [00:00<?, ?it/s]"
      ]
     },
     "metadata": {},
     "output_type": "display_data"
    },
    {
     "name": "stdout",
     "output_type": "stream",
     "text": [
      "Epoch [8], val_loss: 1.514e+00, train_loss: 1.351e+00, lrate: 1.000e-04\n"
     ]
    },
    {
     "data": {
      "application/vnd.jupyter.widget-view+json": {
       "model_id": "a2ec3caa6ff94d4886fbeb4d56375ab0",
       "version_major": 2,
       "version_minor": 0
      },
      "text/plain": [
       "Epoch: 9:   0%|          | 0/399 [00:00<?, ?it/s]"
      ]
     },
     "metadata": {},
     "output_type": "display_data"
    },
    {
     "name": "stdout",
     "output_type": "stream",
     "text": [
      "Epoch [9], val_loss: 1.522e+00, train_loss: 1.334e+00, lrate: 1.000e-04\n"
     ]
    },
    {
     "data": {
      "application/vnd.jupyter.widget-view+json": {
       "model_id": "4fd9b81d6de645d09ddafefc4dfdcd3b",
       "version_major": 2,
       "version_minor": 0
      },
      "text/plain": [
       "Epoch: 10:   0%|          | 0/399 [00:00<?, ?it/s]"
      ]
     },
     "metadata": {},
     "output_type": "display_data"
    },
    {
     "name": "stdout",
     "output_type": "stream",
     "text": [
      "Epoch [10], val_loss: 1.510e+00, train_loss: 1.323e+00, lrate: 1.000e-04\n"
     ]
    },
    {
     "data": {
      "application/vnd.jupyter.widget-view+json": {
       "model_id": "3e7a9b72cb314d1d865a082746858fbb",
       "version_major": 2,
       "version_minor": 0
      },
      "text/plain": [
       "Epoch: 11:   0%|          | 0/399 [00:00<?, ?it/s]"
      ]
     },
     "metadata": {},
     "output_type": "display_data"
    },
    {
     "name": "stdout",
     "output_type": "stream",
     "text": [
      "Epoch [11], val_loss: 1.510e+00, train_loss: 1.310e+00, lrate: 1.000e-04\n"
     ]
    },
    {
     "data": {
      "application/vnd.jupyter.widget-view+json": {
       "model_id": "f91e9417e8f747b485dd5d8ab41cde4d",
       "version_major": 2,
       "version_minor": 0
      },
      "text/plain": [
       "Epoch: 12:   0%|          | 0/399 [00:00<?, ?it/s]"
      ]
     },
     "metadata": {},
     "output_type": "display_data"
    },
    {
     "name": "stdout",
     "output_type": "stream",
     "text": [
      "Epoch [12], val_loss: 1.516e+00, train_loss: 1.300e+00, lrate: 1.000e-04\n"
     ]
    },
    {
     "data": {
      "application/vnd.jupyter.widget-view+json": {
       "model_id": "65d9c857125140869050e25aa82bca87",
       "version_major": 2,
       "version_minor": 0
      },
      "text/plain": [
       "Epoch: 13:   0%|          | 0/399 [00:00<?, ?it/s]"
      ]
     },
     "metadata": {},
     "output_type": "display_data"
    },
    {
     "name": "stdout",
     "output_type": "stream",
     "text": [
      "Epoch [13], val_loss: 1.498e+00, train_loss: 1.290e+00, lrate: 1.000e-04\n"
     ]
    },
    {
     "data": {
      "application/vnd.jupyter.widget-view+json": {
       "model_id": "424d0cb792b34e19a4422850d6e2af67",
       "version_major": 2,
       "version_minor": 0
      },
      "text/plain": [
       "Epoch: 14:   0%|          | 0/399 [00:00<?, ?it/s]"
      ]
     },
     "metadata": {},
     "output_type": "display_data"
    },
    {
     "name": "stdout",
     "output_type": "stream",
     "text": [
      "Epoch [14], val_loss: 1.491e+00, train_loss: 1.289e+00, lrate: 1.000e-04\n"
     ]
    },
    {
     "data": {
      "application/vnd.jupyter.widget-view+json": {
       "model_id": "f5a970e8b72644c0aa04b5ac23302fb8",
       "version_major": 2,
       "version_minor": 0
      },
      "text/plain": [
       "Epoch: 15:   0%|          | 0/399 [00:00<?, ?it/s]"
      ]
     },
     "metadata": {},
     "output_type": "display_data"
    },
    {
     "name": "stdout",
     "output_type": "stream",
     "text": [
      "Epoch [15], val_loss: 1.506e+00, train_loss: 1.283e+00, lrate: 1.000e-04\n"
     ]
    },
    {
     "data": {
      "application/vnd.jupyter.widget-view+json": {
       "model_id": "33d02ebd9e3d4435b1b93e5d05f821c2",
       "version_major": 2,
       "version_minor": 0
      },
      "text/plain": [
       "Epoch: 16:   0%|          | 0/399 [00:00<?, ?it/s]"
      ]
     },
     "metadata": {},
     "output_type": "display_data"
    },
    {
     "name": "stdout",
     "output_type": "stream",
     "text": [
      "Epoch [16], val_loss: 1.492e+00, train_loss: 1.275e+00, lrate: 1.000e-04\n"
     ]
    },
    {
     "data": {
      "application/vnd.jupyter.widget-view+json": {
       "model_id": "d533e577822942f69fc3f9af277238a9",
       "version_major": 2,
       "version_minor": 0
      },
      "text/plain": [
       "Epoch: 17:   0%|          | 0/399 [00:00<?, ?it/s]"
      ]
     },
     "metadata": {},
     "output_type": "display_data"
    },
    {
     "name": "stdout",
     "output_type": "stream",
     "text": [
      "Epoch [17], val_loss: 1.499e+00, train_loss: 1.266e+00, lrate: 1.000e-04\n"
     ]
    },
    {
     "data": {
      "application/vnd.jupyter.widget-view+json": {
       "model_id": "8e134a2f6ecd45a2b46eb6d9487ee3be",
       "version_major": 2,
       "version_minor": 0
      },
      "text/plain": [
       "Epoch: 18:   0%|          | 0/399 [00:00<?, ?it/s]"
      ]
     },
     "metadata": {},
     "output_type": "display_data"
    },
    {
     "name": "stdout",
     "output_type": "stream",
     "text": [
      "Epoch [18], val_loss: 1.497e+00, train_loss: 1.262e+00, lrate: 5.000e-05\n"
     ]
    },
    {
     "data": {
      "application/vnd.jupyter.widget-view+json": {
       "model_id": "a5689accfe0641debd7e749e69ab3409",
       "version_major": 2,
       "version_minor": 0
      },
      "text/plain": [
       "Epoch: 19:   0%|          | 0/399 [00:00<?, ?it/s]"
      ]
     },
     "metadata": {},
     "output_type": "display_data"
    },
    {
     "name": "stdout",
     "output_type": "stream",
     "text": [
      "Early stopping\n",
      "------------fold no---------8----------------------\n"
     ]
    },
    {
     "data": {
      "application/vnd.jupyter.widget-view+json": {
       "model_id": "7985b7083821495581cb715243113a27",
       "version_major": 2,
       "version_minor": 0
      },
      "text/plain": [
       "Current Epoch:   0%|          | 0/100 [00:00<?, ?it/s]"
      ]
     },
     "metadata": {},
     "output_type": "display_data"
    },
    {
     "data": {
      "application/vnd.jupyter.widget-view+json": {
       "model_id": "3b6b024094574183934b39a326076887",
       "version_major": 2,
       "version_minor": 0
      },
      "text/plain": [
       "Epoch: 0:   0%|          | 0/399 [00:00<?, ?it/s]"
      ]
     },
     "metadata": {},
     "output_type": "display_data"
    },
    {
     "name": "stdout",
     "output_type": "stream",
     "text": [
      "Epoch [0], val_loss: 1.604e+00, train_loss: 1.738e+00, lrate: 1.000e-04\n"
     ]
    },
    {
     "data": {
      "application/vnd.jupyter.widget-view+json": {
       "model_id": "2f16075faa4d43c38f581871f6e51f17",
       "version_major": 2,
       "version_minor": 0
      },
      "text/plain": [
       "Epoch: 1:   0%|          | 0/399 [00:00<?, ?it/s]"
      ]
     },
     "metadata": {},
     "output_type": "display_data"
    },
    {
     "name": "stdout",
     "output_type": "stream",
     "text": [
      "Epoch [1], val_loss: 1.554e+00, train_loss: 1.585e+00, lrate: 1.000e-04\n"
     ]
    },
    {
     "data": {
      "application/vnd.jupyter.widget-view+json": {
       "model_id": "efc785ae7b1b49f383fa60e8bcdb0415",
       "version_major": 2,
       "version_minor": 0
      },
      "text/plain": [
       "Epoch: 2:   0%|          | 0/399 [00:00<?, ?it/s]"
      ]
     },
     "metadata": {},
     "output_type": "display_data"
    },
    {
     "name": "stdout",
     "output_type": "stream",
     "text": [
      "Epoch [2], val_loss: 1.564e+00, train_loss: 1.519e+00, lrate: 1.000e-04\n"
     ]
    },
    {
     "data": {
      "application/vnd.jupyter.widget-view+json": {
       "model_id": "54c2de892f894f8c854312d3c62210d0",
       "version_major": 2,
       "version_minor": 0
      },
      "text/plain": [
       "Epoch: 3:   0%|          | 0/399 [00:00<?, ?it/s]"
      ]
     },
     "metadata": {},
     "output_type": "display_data"
    },
    {
     "name": "stdout",
     "output_type": "stream",
     "text": [
      "Epoch [3], val_loss: 1.539e+00, train_loss: 1.478e+00, lrate: 1.000e-04\n"
     ]
    },
    {
     "data": {
      "application/vnd.jupyter.widget-view+json": {
       "model_id": "cde4694c81284918aff37a643a11b312",
       "version_major": 2,
       "version_minor": 0
      },
      "text/plain": [
       "Epoch: 4:   0%|          | 0/399 [00:00<?, ?it/s]"
      ]
     },
     "metadata": {},
     "output_type": "display_data"
    },
    {
     "name": "stdout",
     "output_type": "stream",
     "text": [
      "Epoch [4], val_loss: 1.526e+00, train_loss: 1.445e+00, lrate: 1.000e-04\n"
     ]
    },
    {
     "data": {
      "application/vnd.jupyter.widget-view+json": {
       "model_id": "945ee25f9f1d45799816d5712b8cd5f0",
       "version_major": 2,
       "version_minor": 0
      },
      "text/plain": [
       "Epoch: 5:   0%|          | 0/399 [00:00<?, ?it/s]"
      ]
     },
     "metadata": {},
     "output_type": "display_data"
    },
    {
     "name": "stdout",
     "output_type": "stream",
     "text": [
      "Epoch [5], val_loss: 1.519e+00, train_loss: 1.419e+00, lrate: 1.000e-04\n"
     ]
    },
    {
     "data": {
      "application/vnd.jupyter.widget-view+json": {
       "model_id": "0a0a609d5cdf450d9b3b692b48fb2787",
       "version_major": 2,
       "version_minor": 0
      },
      "text/plain": [
       "Epoch: 6:   0%|          | 0/399 [00:00<?, ?it/s]"
      ]
     },
     "metadata": {},
     "output_type": "display_data"
    },
    {
     "name": "stdout",
     "output_type": "stream",
     "text": [
      "Epoch [6], val_loss: 1.501e+00, train_loss: 1.395e+00, lrate: 1.000e-04\n"
     ]
    },
    {
     "data": {
      "application/vnd.jupyter.widget-view+json": {
       "model_id": "ae790724b81948e8b95644586a88652d",
       "version_major": 2,
       "version_minor": 0
      },
      "text/plain": [
       "Epoch: 7:   0%|          | 0/399 [00:00<?, ?it/s]"
      ]
     },
     "metadata": {},
     "output_type": "display_data"
    },
    {
     "name": "stdout",
     "output_type": "stream",
     "text": [
      "Epoch [7], val_loss: 1.511e+00, train_loss: 1.374e+00, lrate: 1.000e-04\n"
     ]
    },
    {
     "data": {
      "application/vnd.jupyter.widget-view+json": {
       "model_id": "5877cd6cd1e34054ae3845de2b9023b4",
       "version_major": 2,
       "version_minor": 0
      },
      "text/plain": [
       "Epoch: 8:   0%|          | 0/399 [00:00<?, ?it/s]"
      ]
     },
     "metadata": {},
     "output_type": "display_data"
    },
    {
     "name": "stdout",
     "output_type": "stream",
     "text": [
      "Epoch [8], val_loss: 1.505e+00, train_loss: 1.354e+00, lrate: 1.000e-04\n"
     ]
    },
    {
     "data": {
      "application/vnd.jupyter.widget-view+json": {
       "model_id": "c8852918896840889c363464f9703f68",
       "version_major": 2,
       "version_minor": 0
      },
      "text/plain": [
       "Epoch: 9:   0%|          | 0/399 [00:00<?, ?it/s]"
      ]
     },
     "metadata": {},
     "output_type": "display_data"
    },
    {
     "name": "stdout",
     "output_type": "stream",
     "text": [
      "Epoch [9], val_loss: 1.508e+00, train_loss: 1.338e+00, lrate: 1.000e-04\n"
     ]
    },
    {
     "data": {
      "application/vnd.jupyter.widget-view+json": {
       "model_id": "57368f744e96448e82d61947955a49ab",
       "version_major": 2,
       "version_minor": 0
      },
      "text/plain": [
       "Epoch: 10:   0%|          | 0/399 [00:00<?, ?it/s]"
      ]
     },
     "metadata": {},
     "output_type": "display_data"
    },
    {
     "name": "stdout",
     "output_type": "stream",
     "text": [
      "Epoch [10], val_loss: 1.490e+00, train_loss: 1.324e+00, lrate: 1.000e-04\n"
     ]
    },
    {
     "data": {
      "application/vnd.jupyter.widget-view+json": {
       "model_id": "ec3dad8c470f44849b4e760ca644a6bc",
       "version_major": 2,
       "version_minor": 0
      },
      "text/plain": [
       "Epoch: 11:   0%|          | 0/399 [00:00<?, ?it/s]"
      ]
     },
     "metadata": {},
     "output_type": "display_data"
    },
    {
     "name": "stdout",
     "output_type": "stream",
     "text": [
      "Epoch [11], val_loss: 1.495e+00, train_loss: 1.312e+00, lrate: 1.000e-04\n"
     ]
    },
    {
     "data": {
      "application/vnd.jupyter.widget-view+json": {
       "model_id": "52bfedafce31423cafdeebbe73bb3916",
       "version_major": 2,
       "version_minor": 0
      },
      "text/plain": [
       "Epoch: 12:   0%|          | 0/399 [00:00<?, ?it/s]"
      ]
     },
     "metadata": {},
     "output_type": "display_data"
    },
    {
     "name": "stdout",
     "output_type": "stream",
     "text": [
      "Epoch [12], val_loss: 1.492e+00, train_loss: 1.303e+00, lrate: 1.000e-04\n"
     ]
    },
    {
     "data": {
      "application/vnd.jupyter.widget-view+json": {
       "model_id": "a6424aec49b04dc8a657e164260aace3",
       "version_major": 2,
       "version_minor": 0
      },
      "text/plain": [
       "Epoch: 13:   0%|          | 0/399 [00:00<?, ?it/s]"
      ]
     },
     "metadata": {},
     "output_type": "display_data"
    },
    {
     "name": "stdout",
     "output_type": "stream",
     "text": [
      "Epoch [13], val_loss: 1.495e+00, train_loss: 1.292e+00, lrate: 1.000e-04\n"
     ]
    },
    {
     "data": {
      "application/vnd.jupyter.widget-view+json": {
       "model_id": "39fbd028160d4c5f90550dc5791df675",
       "version_major": 2,
       "version_minor": 0
      },
      "text/plain": [
       "Epoch: 14:   0%|          | 0/399 [00:00<?, ?it/s]"
      ]
     },
     "metadata": {},
     "output_type": "display_data"
    },
    {
     "name": "stdout",
     "output_type": "stream",
     "text": [
      "Epoch [14], val_loss: 1.490e+00, train_loss: 1.284e+00, lrate: 1.000e-04\n"
     ]
    },
    {
     "data": {
      "application/vnd.jupyter.widget-view+json": {
       "model_id": "5ce9d0fdb40646e9b18ada19ef973fcb",
       "version_major": 2,
       "version_minor": 0
      },
      "text/plain": [
       "Epoch: 15:   0%|          | 0/399 [00:00<?, ?it/s]"
      ]
     },
     "metadata": {},
     "output_type": "display_data"
    },
    {
     "name": "stdout",
     "output_type": "stream",
     "text": [
      "Epoch [15], val_loss: 1.505e+00, train_loss: 1.281e+00, lrate: 1.000e-04\n"
     ]
    },
    {
     "data": {
      "application/vnd.jupyter.widget-view+json": {
       "model_id": "b96fabbf15f54fe5b93fff0c5d373e37",
       "version_major": 2,
       "version_minor": 0
      },
      "text/plain": [
       "Epoch: 16:   0%|          | 0/399 [00:00<?, ?it/s]"
      ]
     },
     "metadata": {},
     "output_type": "display_data"
    },
    {
     "name": "stdout",
     "output_type": "stream",
     "text": [
      "Epoch [16], val_loss: 1.491e+00, train_loss: 1.274e+00, lrate: 1.000e-04\n"
     ]
    },
    {
     "data": {
      "application/vnd.jupyter.widget-view+json": {
       "model_id": "09285b59b02542db86b3faa7c13fca45",
       "version_major": 2,
       "version_minor": 0
      },
      "text/plain": [
       "Epoch: 17:   0%|          | 0/399 [00:00<?, ?it/s]"
      ]
     },
     "metadata": {},
     "output_type": "display_data"
    },
    {
     "name": "stdout",
     "output_type": "stream",
     "text": [
      "Epoch [17], val_loss: 1.477e+00, train_loss: 1.276e+00, lrate: 1.000e-04\n"
     ]
    },
    {
     "data": {
      "application/vnd.jupyter.widget-view+json": {
       "model_id": "ed7ebaa6c7694b56add00e33f90934d4",
       "version_major": 2,
       "version_minor": 0
      },
      "text/plain": [
       "Epoch: 18:   0%|          | 0/399 [00:00<?, ?it/s]"
      ]
     },
     "metadata": {},
     "output_type": "display_data"
    },
    {
     "name": "stdout",
     "output_type": "stream",
     "text": [
      "Epoch [18], val_loss: 1.478e+00, train_loss: 1.268e+00, lrate: 1.000e-04\n"
     ]
    },
    {
     "data": {
      "application/vnd.jupyter.widget-view+json": {
       "model_id": "5cfa01db7e7a493cb29d86c8857a03fd",
       "version_major": 2,
       "version_minor": 0
      },
      "text/plain": [
       "Epoch: 19:   0%|          | 0/399 [00:00<?, ?it/s]"
      ]
     },
     "metadata": {},
     "output_type": "display_data"
    },
    {
     "name": "stdout",
     "output_type": "stream",
     "text": [
      "Epoch [19], val_loss: 1.477e+00, train_loss: 1.259e+00, lrate: 1.000e-04\n"
     ]
    },
    {
     "data": {
      "application/vnd.jupyter.widget-view+json": {
       "model_id": "4be459c5cb0646b5962efac3c8b60385",
       "version_major": 2,
       "version_minor": 0
      },
      "text/plain": [
       "Epoch: 20:   0%|          | 0/399 [00:00<?, ?it/s]"
      ]
     },
     "metadata": {},
     "output_type": "display_data"
    },
    {
     "name": "stdout",
     "output_type": "stream",
     "text": [
      "Epoch [20], val_loss: 1.481e+00, train_loss: 1.259e+00, lrate: 1.000e-04\n"
     ]
    },
    {
     "data": {
      "application/vnd.jupyter.widget-view+json": {
       "model_id": "e85c5af867634700b485577909e1ea79",
       "version_major": 2,
       "version_minor": 0
      },
      "text/plain": [
       "Epoch: 21:   0%|          | 0/399 [00:00<?, ?it/s]"
      ]
     },
     "metadata": {},
     "output_type": "display_data"
    },
    {
     "name": "stdout",
     "output_type": "stream",
     "text": [
      "Epoch [21], val_loss: 1.493e+00, train_loss: 1.257e+00, lrate: 5.000e-05\n"
     ]
    },
    {
     "data": {
      "application/vnd.jupyter.widget-view+json": {
       "model_id": "3079ba128c3c4f2b8663de1d1d058b5f",
       "version_major": 2,
       "version_minor": 0
      },
      "text/plain": [
       "Epoch: 22:   0%|          | 0/399 [00:00<?, ?it/s]"
      ]
     },
     "metadata": {},
     "output_type": "display_data"
    },
    {
     "name": "stdout",
     "output_type": "stream",
     "text": [
      "Early stopping\n",
      "------------fold no---------9----------------------\n"
     ]
    },
    {
     "data": {
      "application/vnd.jupyter.widget-view+json": {
       "model_id": "aa3224e144cb40c8a6012c9bc963732b",
       "version_major": 2,
       "version_minor": 0
      },
      "text/plain": [
       "Current Epoch:   0%|          | 0/100 [00:00<?, ?it/s]"
      ]
     },
     "metadata": {},
     "output_type": "display_data"
    },
    {
     "data": {
      "application/vnd.jupyter.widget-view+json": {
       "model_id": "2f9a89a4fa6b4535b4016777efe16b11",
       "version_major": 2,
       "version_minor": 0
      },
      "text/plain": [
       "Epoch: 0:   0%|          | 0/399 [00:00<?, ?it/s]"
      ]
     },
     "metadata": {},
     "output_type": "display_data"
    },
    {
     "name": "stdout",
     "output_type": "stream",
     "text": [
      "Epoch [0], val_loss: 1.660e+00, train_loss: 1.750e+00, lrate: 1.000e-04\n"
     ]
    },
    {
     "data": {
      "application/vnd.jupyter.widget-view+json": {
       "model_id": "9bf8138d1a36423e957a04d4c03dee51",
       "version_major": 2,
       "version_minor": 0
      },
      "text/plain": [
       "Epoch: 1:   0%|          | 0/399 [00:00<?, ?it/s]"
      ]
     },
     "metadata": {},
     "output_type": "display_data"
    },
    {
     "name": "stdout",
     "output_type": "stream",
     "text": [
      "Epoch [1], val_loss: 1.597e+00, train_loss: 1.586e+00, lrate: 1.000e-04\n"
     ]
    },
    {
     "data": {
      "application/vnd.jupyter.widget-view+json": {
       "model_id": "1110a1a3c8fc440c9f30cf6e21fb0d9f",
       "version_major": 2,
       "version_minor": 0
      },
      "text/plain": [
       "Epoch: 2:   0%|          | 0/399 [00:00<?, ?it/s]"
      ]
     },
     "metadata": {},
     "output_type": "display_data"
    },
    {
     "name": "stdout",
     "output_type": "stream",
     "text": [
      "Epoch [2], val_loss: 1.579e+00, train_loss: 1.526e+00, lrate: 1.000e-04\n"
     ]
    },
    {
     "data": {
      "application/vnd.jupyter.widget-view+json": {
       "model_id": "d446d47b69a74f61aba147f95b9d9d5c",
       "version_major": 2,
       "version_minor": 0
      },
      "text/plain": [
       "Epoch: 3:   0%|          | 0/399 [00:00<?, ?it/s]"
      ]
     },
     "metadata": {},
     "output_type": "display_data"
    },
    {
     "name": "stdout",
     "output_type": "stream",
     "text": [
      "Epoch [3], val_loss: 1.566e+00, train_loss: 1.486e+00, lrate: 1.000e-04\n"
     ]
    },
    {
     "data": {
      "application/vnd.jupyter.widget-view+json": {
       "model_id": "d0a60d88a3c448fdb1b2adadc3f1562d",
       "version_major": 2,
       "version_minor": 0
      },
      "text/plain": [
       "Epoch: 4:   0%|          | 0/399 [00:00<?, ?it/s]"
      ]
     },
     "metadata": {},
     "output_type": "display_data"
    },
    {
     "name": "stdout",
     "output_type": "stream",
     "text": [
      "Epoch [4], val_loss: 1.569e+00, train_loss: 1.453e+00, lrate: 1.000e-04\n"
     ]
    },
    {
     "data": {
      "application/vnd.jupyter.widget-view+json": {
       "model_id": "e030d49bfab847488b49e77b25cdcb75",
       "version_major": 2,
       "version_minor": 0
      },
      "text/plain": [
       "Epoch: 5:   0%|          | 0/399 [00:00<?, ?it/s]"
      ]
     },
     "metadata": {},
     "output_type": "display_data"
    },
    {
     "name": "stdout",
     "output_type": "stream",
     "text": [
      "Epoch [5], val_loss: 1.539e+00, train_loss: 1.421e+00, lrate: 1.000e-04\n"
     ]
    },
    {
     "data": {
      "application/vnd.jupyter.widget-view+json": {
       "model_id": "ad61cbdab56941789c4f3335a78187b2",
       "version_major": 2,
       "version_minor": 0
      },
      "text/plain": [
       "Epoch: 6:   0%|          | 0/399 [00:00<?, ?it/s]"
      ]
     },
     "metadata": {},
     "output_type": "display_data"
    },
    {
     "name": "stdout",
     "output_type": "stream",
     "text": [
      "Epoch [6], val_loss: 1.541e+00, train_loss: 1.396e+00, lrate: 1.000e-04\n"
     ]
    },
    {
     "data": {
      "application/vnd.jupyter.widget-view+json": {
       "model_id": "4b56a6836dfd4c25925c769b214cf9d0",
       "version_major": 2,
       "version_minor": 0
      },
      "text/plain": [
       "Epoch: 7:   0%|          | 0/399 [00:00<?, ?it/s]"
      ]
     },
     "metadata": {},
     "output_type": "display_data"
    },
    {
     "name": "stdout",
     "output_type": "stream",
     "text": [
      "Epoch [7], val_loss: 1.533e+00, train_loss: 1.375e+00, lrate: 1.000e-04\n"
     ]
    },
    {
     "data": {
      "application/vnd.jupyter.widget-view+json": {
       "model_id": "3e46a82753de4049ab79fd4c1c2e5f37",
       "version_major": 2,
       "version_minor": 0
      },
      "text/plain": [
       "Epoch: 8:   0%|          | 0/399 [00:00<?, ?it/s]"
      ]
     },
     "metadata": {},
     "output_type": "display_data"
    },
    {
     "name": "stdout",
     "output_type": "stream",
     "text": [
      "Epoch [8], val_loss: 1.521e+00, train_loss: 1.360e+00, lrate: 1.000e-04\n"
     ]
    },
    {
     "data": {
      "application/vnd.jupyter.widget-view+json": {
       "model_id": "0756e96e50f94dd88d1429d0cf312a12",
       "version_major": 2,
       "version_minor": 0
      },
      "text/plain": [
       "Epoch: 9:   0%|          | 0/399 [00:00<?, ?it/s]"
      ]
     },
     "metadata": {},
     "output_type": "display_data"
    },
    {
     "name": "stdout",
     "output_type": "stream",
     "text": [
      "Epoch [9], val_loss: 1.526e+00, train_loss: 1.344e+00, lrate: 1.000e-04\n"
     ]
    },
    {
     "data": {
      "application/vnd.jupyter.widget-view+json": {
       "model_id": "6f485b7904154b7fba593316bd738f6f",
       "version_major": 2,
       "version_minor": 0
      },
      "text/plain": [
       "Epoch: 10:   0%|          | 0/399 [00:00<?, ?it/s]"
      ]
     },
     "metadata": {},
     "output_type": "display_data"
    },
    {
     "name": "stdout",
     "output_type": "stream",
     "text": [
      "Epoch [10], val_loss: 1.521e+00, train_loss: 1.326e+00, lrate: 1.000e-04\n"
     ]
    },
    {
     "data": {
      "application/vnd.jupyter.widget-view+json": {
       "model_id": "f8f81ac1db5d47c7985437e490547f61",
       "version_major": 2,
       "version_minor": 0
      },
      "text/plain": [
       "Epoch: 11:   0%|          | 0/399 [00:00<?, ?it/s]"
      ]
     },
     "metadata": {},
     "output_type": "display_data"
    },
    {
     "name": "stdout",
     "output_type": "stream",
     "text": [
      "Epoch [11], val_loss: 1.523e+00, train_loss: 1.314e+00, lrate: 1.000e-04\n"
     ]
    },
    {
     "data": {
      "application/vnd.jupyter.widget-view+json": {
       "model_id": "e137a5bb4ea14cb8b470bb0869eeaa52",
       "version_major": 2,
       "version_minor": 0
      },
      "text/plain": [
       "Epoch: 12:   0%|          | 0/399 [00:00<?, ?it/s]"
      ]
     },
     "metadata": {},
     "output_type": "display_data"
    },
    {
     "name": "stdout",
     "output_type": "stream",
     "text": [
      "Epoch [12], val_loss: 1.515e+00, train_loss: 1.303e+00, lrate: 1.000e-04\n"
     ]
    },
    {
     "data": {
      "application/vnd.jupyter.widget-view+json": {
       "model_id": "13e152ee7e2645ed9e5283a0ec3e6e96",
       "version_major": 2,
       "version_minor": 0
      },
      "text/plain": [
       "Epoch: 13:   0%|          | 0/399 [00:00<?, ?it/s]"
      ]
     },
     "metadata": {},
     "output_type": "display_data"
    },
    {
     "name": "stdout",
     "output_type": "stream",
     "text": [
      "Epoch [13], val_loss: 1.520e+00, train_loss: 1.295e+00, lrate: 1.000e-04\n"
     ]
    },
    {
     "data": {
      "application/vnd.jupyter.widget-view+json": {
       "model_id": "9e48fc9ec7bc490fabc6d74058ceb87b",
       "version_major": 2,
       "version_minor": 0
      },
      "text/plain": [
       "Epoch: 14:   0%|          | 0/399 [00:00<?, ?it/s]"
      ]
     },
     "metadata": {},
     "output_type": "display_data"
    },
    {
     "name": "stdout",
     "output_type": "stream",
     "text": [
      "Epoch [14], val_loss: 1.520e+00, train_loss: 1.287e+00, lrate: 1.000e-04\n"
     ]
    },
    {
     "data": {
      "application/vnd.jupyter.widget-view+json": {
       "model_id": "e862e4f5a439437290f0817aa0c9c880",
       "version_major": 2,
       "version_minor": 0
      },
      "text/plain": [
       "Epoch: 15:   0%|          | 0/399 [00:00<?, ?it/s]"
      ]
     },
     "metadata": {},
     "output_type": "display_data"
    },
    {
     "name": "stdout",
     "output_type": "stream",
     "text": [
      "Epoch [15], val_loss: 1.511e+00, train_loss: 1.282e+00, lrate: 1.000e-04\n"
     ]
    },
    {
     "data": {
      "application/vnd.jupyter.widget-view+json": {
       "model_id": "a7f247bba2074853828c66204039d94a",
       "version_major": 2,
       "version_minor": 0
      },
      "text/plain": [
       "Epoch: 16:   0%|          | 0/399 [00:00<?, ?it/s]"
      ]
     },
     "metadata": {},
     "output_type": "display_data"
    },
    {
     "name": "stdout",
     "output_type": "stream",
     "text": [
      "Epoch [16], val_loss: 1.519e+00, train_loss: 1.276e+00, lrate: 1.000e-04\n"
     ]
    },
    {
     "data": {
      "application/vnd.jupyter.widget-view+json": {
       "model_id": "2385ac80a7084bfeb4d41114a438ba46",
       "version_major": 2,
       "version_minor": 0
      },
      "text/plain": [
       "Epoch: 17:   0%|          | 0/399 [00:00<?, ?it/s]"
      ]
     },
     "metadata": {},
     "output_type": "display_data"
    },
    {
     "name": "stdout",
     "output_type": "stream",
     "text": [
      "Epoch [17], val_loss: 1.525e+00, train_loss: 1.276e+00, lrate: 1.000e-04\n"
     ]
    },
    {
     "data": {
      "application/vnd.jupyter.widget-view+json": {
       "model_id": "526125d5efcc4ee397bbcd771efefe66",
       "version_major": 2,
       "version_minor": 0
      },
      "text/plain": [
       "Epoch: 18:   0%|          | 0/399 [00:00<?, ?it/s]"
      ]
     },
     "metadata": {},
     "output_type": "display_data"
    },
    {
     "name": "stdout",
     "output_type": "stream",
     "text": [
      "Epoch [18], val_loss: 1.521e+00, train_loss: 1.270e+00, lrate: 1.000e-04\n"
     ]
    },
    {
     "data": {
      "application/vnd.jupyter.widget-view+json": {
       "model_id": "8a3763194eaf41f7ad273555c3b1f3e9",
       "version_major": 2,
       "version_minor": 0
      },
      "text/plain": [
       "Epoch: 19:   0%|          | 0/399 [00:00<?, ?it/s]"
      ]
     },
     "metadata": {},
     "output_type": "display_data"
    },
    {
     "name": "stdout",
     "output_type": "stream",
     "text": [
      "Epoch [19], val_loss: 1.521e+00, train_loss: 1.265e+00, lrate: 5.000e-05\n"
     ]
    },
    {
     "data": {
      "application/vnd.jupyter.widget-view+json": {
       "model_id": "4430ce21d468428e9a94d345366538b4",
       "version_major": 2,
       "version_minor": 0
      },
      "text/plain": [
       "Epoch: 20:   0%|          | 0/399 [00:00<?, ?it/s]"
      ]
     },
     "metadata": {},
     "output_type": "display_data"
    },
    {
     "name": "stdout",
     "output_type": "stream",
     "text": [
      "Epoch [20], val_loss: 1.505e+00, train_loss: 1.254e+00, lrate: 5.000e-05\n"
     ]
    },
    {
     "data": {
      "application/vnd.jupyter.widget-view+json": {
       "model_id": "1bb7ec0b8acf4353b558236706d3b660",
       "version_major": 2,
       "version_minor": 0
      },
      "text/plain": [
       "Epoch: 21:   0%|          | 0/399 [00:00<?, ?it/s]"
      ]
     },
     "metadata": {},
     "output_type": "display_data"
    },
    {
     "name": "stdout",
     "output_type": "stream",
     "text": [
      "Epoch [21], val_loss: 1.514e+00, train_loss: 1.249e+00, lrate: 5.000e-05\n"
     ]
    },
    {
     "data": {
      "application/vnd.jupyter.widget-view+json": {
       "model_id": "994be7db1efc4dedba3469f31f82577d",
       "version_major": 2,
       "version_minor": 0
      },
      "text/plain": [
       "Epoch: 22:   0%|          | 0/399 [00:00<?, ?it/s]"
      ]
     },
     "metadata": {},
     "output_type": "display_data"
    },
    {
     "name": "stdout",
     "output_type": "stream",
     "text": [
      "Epoch [22], val_loss: 1.513e+00, train_loss: 1.249e+00, lrate: 5.000e-05\n"
     ]
    },
    {
     "data": {
      "application/vnd.jupyter.widget-view+json": {
       "model_id": "b8d69634bd6e4d4a81bc07ce7c85860e",
       "version_major": 2,
       "version_minor": 0
      },
      "text/plain": [
       "Epoch: 23:   0%|          | 0/399 [00:00<?, ?it/s]"
      ]
     },
     "metadata": {},
     "output_type": "display_data"
    },
    {
     "name": "stdout",
     "output_type": "stream",
     "text": [
      "Epoch [23], val_loss: 1.511e+00, train_loss: 1.247e+00, lrate: 5.000e-05\n"
     ]
    },
    {
     "data": {
      "application/vnd.jupyter.widget-view+json": {
       "model_id": "f8e4449ae1a942f7a7a1cf2c5614e66f",
       "version_major": 2,
       "version_minor": 0
      },
      "text/plain": [
       "Epoch: 24:   0%|          | 0/399 [00:00<?, ?it/s]"
      ]
     },
     "metadata": {},
     "output_type": "display_data"
    },
    {
     "name": "stdout",
     "output_type": "stream",
     "text": [
      "Epoch [24], val_loss: 1.512e+00, train_loss: 1.245e+00, lrate: 2.500e-05\n"
     ]
    },
    {
     "data": {
      "application/vnd.jupyter.widget-view+json": {
       "model_id": "41bcc84b37294a7f8449b005610bb549",
       "version_major": 2,
       "version_minor": 0
      },
      "text/plain": [
       "Epoch: 25:   0%|          | 0/399 [00:00<?, ?it/s]"
      ]
     },
     "metadata": {},
     "output_type": "display_data"
    },
    {
     "name": "stdout",
     "output_type": "stream",
     "text": [
      "Early stopping\n",
      "----------------------------------------------------------------\n",
      "        Layer (type)               Output Shape         Param #\n",
      "================================================================\n",
      "            Conv2d-1           [-1, 32, 46, 46]             320\n",
      "         MaxPool2d-2           [-1, 32, 23, 23]               0\n",
      "       BatchNorm2d-3           [-1, 32, 23, 23]              64\n",
      "            Conv2d-4           [-1, 64, 21, 21]          18,496\n",
      "         MaxPool2d-5           [-1, 64, 11, 11]               0\n",
      "       BatchNorm2d-6           [-1, 64, 11, 11]             128\n",
      "            Conv2d-7            [-1, 128, 9, 9]          73,856\n",
      "         MaxPool2d-8            [-1, 128, 5, 5]               0\n",
      "       BatchNorm2d-9            [-1, 128, 5, 5]             256\n",
      "           Linear-10                  [-1, 256]         819,456\n",
      "           Linear-11                  [-1, 256]          65,792\n",
      "           Linear-12                    [-1, 7]           1,799\n",
      "================================================================\n",
      "Total params: 980,167\n",
      "Trainable params: 980,167\n",
      "Non-trainable params: 0\n",
      "----------------------------------------------------------------\n",
      "Input size (MB): 0.01\n",
      "Forward/backward pass size (MB): 1.24\n",
      "Params size (MB): 3.74\n",
      "Estimated Total Size (MB): 4.99\n",
      "----------------------------------------------------------------\n"
     ]
    }
   ],
   "source": [
    "splits = 10\n",
    "skf = StratifiedKFold(n_splits=splits, random_state=seed, shuffle=True)\n",
    "histories = []\n",
    "\n",
    "for fold,(train_idx,val_idx) in enumerate(skf.split(df_train,train_dl.dl.dataset.targets)):\n",
    "    print('------------fold no---------{}----------------------'.format(fold))\n",
    "    \n",
    "    net = Net(loss_function, metrics, len(classes))\n",
    "    net.to(device)\n",
    "    #summary(net,(1,48,48))\n",
    "    train_subsampler = torch.utils.data.SubsetRandomSampler(train_idx)\n",
    "    val_subsampler = torch.utils.data.SubsetRandomSampler(val_idx)\n",
    "\n",
    "    train_fold_dl = DeviceDataLoader(DataLoader(df_train, batch_size=batch_size,  sampler=train_subsampler),device)\n",
    "    val_fold_dl = DeviceDataLoader(DataLoader(df_train, batch_size=batch_size,  sampler=val_subsampler),device)\n",
    "    #print(np.unique(np.array(train_fold_dl.dl.dataset.targets)[train_subsampler.indices],return_counts=True))\n",
    "    #print(np.unique(np.array(train_fold_dl.dl.dataset.targets)[test_subsampler.indices],return_counts=True))\n",
    "    #print(train_dl[train_subsampler.indices])\n",
    "    history = dict()\n",
    "    history[\"losses\"], history[\"epoch\"] = fit(num_epochs, patience, lr, net, train_fold_dl, val_fold_dl, optimizer, scheduler, fold)\n",
    "    history[\"model\"] = net\n",
    "    histories.append(history)\n",
    "\n",
    "summary(net,(1,48,48))"
   ]
  },
  {
   "cell_type": "markdown",
   "id": "bb2ca953",
   "metadata": {},
   "source": [
    "## Save/Load model"
   ]
  },
  {
   "cell_type": "code",
   "execution_count": 19,
   "id": "5f28e342",
   "metadata": {},
   "outputs": [],
   "source": [
    "if save_model:\n",
    "    for fold,h in enumerate(histories):\n",
    "        model_path = os.path.join(models_directory_data,f\"classifier_fold_{fold}.pt\")\n",
    "        torch.save(h[\"model\"].state_dict(), model_path)"
   ]
  },
  {
   "cell_type": "code",
   "execution_count": 20,
   "id": "e9cc002d",
   "metadata": {},
   "outputs": [],
   "source": [
    "if load_model:\n",
    "    histories = []\n",
    "    for fold, model in enumerate(os.listdir(models_directory_data)):\n",
    "        net = Net(loss_function, metrics, len(classes))\n",
    "        net.load_state_dict(torch.load(os.path.join(models_directory_data,model)))\n",
    "        net.eval()\n",
    "        net.cuda()\n",
    "        histories.append( {\"model\": net } )"
   ]
  },
  {
   "cell_type": "markdown",
   "id": "236fc3f4",
   "metadata": {},
   "source": [
    "## Model testing"
   ]
  },
  {
   "cell_type": "code",
   "execution_count": 21,
   "id": "1403cef9-c12a-4e66-9565-7f8b7eaf2f38",
   "metadata": {},
   "outputs": [],
   "source": [
    "def get_model_predicitons(model, dataset):\n",
    "    y_test = []\n",
    "    y_scores = []\n",
    "\n",
    "    # since we're not training, we don't need to calculate the gradients for our outputs\n",
    "    with torch.no_grad():\n",
    "        for data in tqdm(dataset):\n",
    "            images, labels = data[0].to(device), data[1].to(device)\n",
    "            # calculate outputs by running images through the network\n",
    "            outputs = model(images)\n",
    "\n",
    "            # the class with the highest energy is what we choose as prediction\n",
    "            _, predicted = torch.max(outputs.data, 1)\n",
    "\n",
    "            y_test.extend(labels.tolist())\n",
    "            y_scores.extend(outputs.tolist())\n",
    "\n",
    "    y_test = np.array(y_test)\n",
    "    y_scores = np.array(y_scores)\n",
    "\n",
    "    return y_test, y_scores\n"
   ]
  },
  {
   "cell_type": "markdown",
   "id": "fdc366c3",
   "metadata": {},
   "source": [
    "### Network PRECuracy"
   ]
  },
  {
   "cell_type": "code",
   "execution_count": 22,
   "id": "158b7789-29fe-43c3-9821-11cb5215fb60",
   "metadata": {},
   "outputs": [],
   "source": [
    "def evaluate_accuracy(y_test, y_scores, classes, verbose=False):\n",
    "    # Overall accuracy\n",
    "\n",
    "    n_test = y_test.shape[0]\n",
    "    predicted = np.argmax(y_scores,axis=1)\n",
    "    mean_acc = np.sum(predicted == y_test) / n_test\n",
    "    class_acc = []\n",
    "    \n",
    "    # Accuracy per class\n",
    "\n",
    "    correct_pred = {classname: 0 for classname in classes}\n",
    "    total_pred = {classname: 0 for classname in classes}\n",
    "\n",
    "    # collect the correct predictions for each class\n",
    "    for label, prediction in zip(y_test, predicted):\n",
    "        if label == prediction:\n",
    "            correct_pred[classes[label]] += 1\n",
    "        total_pred[classes[label]] += 1\n",
    "\n",
    "    for classname, correct_count in correct_pred.items():\n",
    "        accuracy = float(correct_count) / total_pred[classname]\n",
    "        class_acc.append(accuracy)\n",
    "\n",
    "    if verbose:\n",
    "        print(f'Overall accuracy: {100 * mean_acc } %')\n",
    "\n",
    "        print(\"Accuracy per class:\")\n",
    "        for i,c in enumerate(classes):\n",
    "            print(f'{c:9s} : {class_acc[i] * 100:.1f} %')\n",
    "        \n",
    "    return mean_acc, class_acc"
   ]
  },
  {
   "cell_type": "markdown",
   "id": "7478b8a1",
   "metadata": {},
   "source": [
    "# ROC/AUC"
   ]
  },
  {
   "cell_type": "code",
   "execution_count": 23,
   "id": "a8017ba3",
   "metadata": {},
   "outputs": [],
   "source": [
    "\n",
    "def evaluate_roc_auc(y_test, y_scores, classes, plot=False, verbose=False):\n",
    "    # Compute ROC curve and ROC area for each class\n",
    "    fpr = dict()\n",
    "    tpr = dict()\n",
    "    ths = dict()\n",
    "    roc_auc = dict()\n",
    "    for i,_ in enumerate(classes):\n",
    "        fpr[i], tpr[i], ths[i] = roc_curve(y_test == i, y_scores[:,i])\n",
    "        roc_auc[i] = auc(fpr[i], tpr[i])\n",
    "\n",
    "    if plot:\n",
    "        # Plot of a ROC curve for a specific class\n",
    "        for i,c in enumerate(classes):\n",
    "            plt.figure()\n",
    "            plt.plot(fpr[i], tpr[i], label='ROC curve (area = %0.2f)' % roc_auc[i])\n",
    "            plt.plot([0, 1], [0, 1], 'k--')\n",
    "            plt.xlim([0.0, 1.0])\n",
    "            plt.ylim([0.0, 1.05])\n",
    "            plt.xlabel('False Positive Rate')\n",
    "            plt.ylabel('True Positive Rate')\n",
    "            plt.title(f'ROC {c}')\n",
    "            plt.legend(loc=\"lower right\")\n",
    "            plt.show()\n",
    "\n",
    "    mean_auc = np.mean(list(roc_auc.values()))\n",
    "\n",
    "    if verbose:\n",
    "        print(f\"Mean AUC: { mean_auc * 100} %\")\n",
    "\n",
    "        print(\"Per classs AUC:\")\n",
    "        for i,c in enumerate(classes):\n",
    "            print(f'{c:9s} : {roc_auc[i]*100:.2f} %')\n",
    "\n",
    "    return mean_auc, roc_auc"
   ]
  },
  {
   "cell_type": "code",
   "execution_count": 24,
   "id": "686e4867",
   "metadata": {},
   "outputs": [
    {
     "data": {
      "application/vnd.jupyter.widget-view+json": {
       "model_id": "ce4b7b57ec574567954529e46dc1aa42",
       "version_major": 2,
       "version_minor": 0
      },
      "text/plain": [
       "  0%|          | 0/11 [00:00<?, ?it/s]"
      ]
     },
     "metadata": {},
     "output_type": "display_data"
    },
    {
     "data": {
      "application/vnd.jupyter.widget-view+json": {
       "model_id": "087263f80a194829837fe8e378c142d4",
       "version_major": 2,
       "version_minor": 0
      },
      "text/plain": [
       "  0%|          | 0/11 [00:00<?, ?it/s]"
      ]
     },
     "metadata": {},
     "output_type": "display_data"
    },
    {
     "data": {
      "application/vnd.jupyter.widget-view+json": {
       "model_id": "6989bf8ca4e04c3fbe322938329677d7",
       "version_major": 2,
       "version_minor": 0
      },
      "text/plain": [
       "  0%|          | 0/11 [00:00<?, ?it/s]"
      ]
     },
     "metadata": {},
     "output_type": "display_data"
    },
    {
     "data": {
      "application/vnd.jupyter.widget-view+json": {
       "model_id": "bb16481f1fef4ebcad4a8709cdd50378",
       "version_major": 2,
       "version_minor": 0
      },
      "text/plain": [
       "  0%|          | 0/11 [00:00<?, ?it/s]"
      ]
     },
     "metadata": {},
     "output_type": "display_data"
    },
    {
     "data": {
      "application/vnd.jupyter.widget-view+json": {
       "model_id": "c27d864b0d9348beb4bbf058c6d3a240",
       "version_major": 2,
       "version_minor": 0
      },
      "text/plain": [
       "  0%|          | 0/11 [00:00<?, ?it/s]"
      ]
     },
     "metadata": {},
     "output_type": "display_data"
    },
    {
     "data": {
      "application/vnd.jupyter.widget-view+json": {
       "model_id": "b71f92a505354abca6e6e84a65330b45",
       "version_major": 2,
       "version_minor": 0
      },
      "text/plain": [
       "  0%|          | 0/11 [00:00<?, ?it/s]"
      ]
     },
     "metadata": {},
     "output_type": "display_data"
    },
    {
     "data": {
      "application/vnd.jupyter.widget-view+json": {
       "model_id": "aa1d68caec6441aca5c4c12e8075b628",
       "version_major": 2,
       "version_minor": 0
      },
      "text/plain": [
       "  0%|          | 0/11 [00:00<?, ?it/s]"
      ]
     },
     "metadata": {},
     "output_type": "display_data"
    },
    {
     "data": {
      "application/vnd.jupyter.widget-view+json": {
       "model_id": "1a7c002b86d34dfa86051ae2af62d8ff",
       "version_major": 2,
       "version_minor": 0
      },
      "text/plain": [
       "  0%|          | 0/11 [00:00<?, ?it/s]"
      ]
     },
     "metadata": {},
     "output_type": "display_data"
    },
    {
     "data": {
      "application/vnd.jupyter.widget-view+json": {
       "model_id": "ec4ac753fd8b45cfa8d10532e61139df",
       "version_major": 2,
       "version_minor": 0
      },
      "text/plain": [
       "  0%|          | 0/11 [00:00<?, ?it/s]"
      ]
     },
     "metadata": {},
     "output_type": "display_data"
    },
    {
     "data": {
      "application/vnd.jupyter.widget-view+json": {
       "model_id": "e3e01e1111e644188eeb7754f87d0d2d",
       "version_major": 2,
       "version_minor": 0
      },
      "text/plain": [
       "  0%|          | 0/11 [00:00<?, ?it/s]"
      ]
     },
     "metadata": {},
     "output_type": "display_data"
    }
   ],
   "source": [
    "y_test = dict()\n",
    "y_scores = dict()\n",
    "\n",
    "for fold,h in enumerate(histories):\n",
    "    y_test[fold], y_scores[fold] = get_model_predicitons(h[\"model\"],test_dl)"
   ]
  },
  {
   "cell_type": "code",
   "execution_count": 25,
   "id": "aa2f66f9",
   "metadata": {},
   "outputs": [
    {
     "data": {
      "text/html": [
       "<div>\n",
       "<style scoped>\n",
       "    .dataframe tbody tr th:only-of-type {\n",
       "        vertical-align: middle;\n",
       "    }\n",
       "\n",
       "    .dataframe tbody tr th {\n",
       "        vertical-align: top;\n",
       "    }\n",
       "\n",
       "    .dataframe thead th {\n",
       "        text-align: right;\n",
       "    }\n",
       "</style>\n",
       "<table border=\"1\" class=\"dataframe\">\n",
       "  <thead>\n",
       "    <tr style=\"text-align: right;\">\n",
       "      <th></th>\n",
       "      <th>mean AUC</th>\n",
       "      <th>angry AUC</th>\n",
       "      <th>disgust AUC</th>\n",
       "      <th>fear AUC</th>\n",
       "      <th>happy AUC</th>\n",
       "      <th>neautral AUC</th>\n",
       "      <th>sad AUC</th>\n",
       "      <th>surprise AUC</th>\n",
       "      <th>mean ACC</th>\n",
       "      <th>angry ACC</th>\n",
       "      <th>disgust ACC</th>\n",
       "      <th>fear ACC</th>\n",
       "      <th>happy ACC</th>\n",
       "      <th>neautral ACC</th>\n",
       "      <th>sad ACC</th>\n",
       "      <th>surprise ACC</th>\n",
       "    </tr>\n",
       "  </thead>\n",
       "  <tbody>\n",
       "    <tr>\n",
       "      <th>Fer2013_filtered_uniform_aug_surprise100_identity05 fold 0</th>\n",
       "      <td>0.904400</td>\n",
       "      <td>0.880458</td>\n",
       "      <td>0.918250</td>\n",
       "      <td>0.822625</td>\n",
       "      <td>0.958708</td>\n",
       "      <td>0.918308</td>\n",
       "      <td>0.855508</td>\n",
       "      <td>0.976942</td>\n",
       "      <td>0.631429</td>\n",
       "      <td>0.560</td>\n",
       "      <td>0.490</td>\n",
       "      <td>0.470</td>\n",
       "      <td>0.830</td>\n",
       "      <td>0.610</td>\n",
       "      <td>0.590</td>\n",
       "      <td>0.87</td>\n",
       "    </tr>\n",
       "    <tr>\n",
       "      <th>Fer2013_filtered_uniform_aug_surprise100_identity05 fold 1</th>\n",
       "      <td>0.918169</td>\n",
       "      <td>0.871175</td>\n",
       "      <td>0.951533</td>\n",
       "      <td>0.864100</td>\n",
       "      <td>0.964583</td>\n",
       "      <td>0.940117</td>\n",
       "      <td>0.861192</td>\n",
       "      <td>0.974483</td>\n",
       "      <td>0.665714</td>\n",
       "      <td>0.510</td>\n",
       "      <td>0.600</td>\n",
       "      <td>0.510</td>\n",
       "      <td>0.840</td>\n",
       "      <td>0.700</td>\n",
       "      <td>0.670</td>\n",
       "      <td>0.83</td>\n",
       "    </tr>\n",
       "    <tr>\n",
       "      <th>Fer2013_filtered_uniform_aug_surprise100_identity05 fold 2</th>\n",
       "      <td>0.909468</td>\n",
       "      <td>0.880100</td>\n",
       "      <td>0.941883</td>\n",
       "      <td>0.847567</td>\n",
       "      <td>0.952892</td>\n",
       "      <td>0.923108</td>\n",
       "      <td>0.850592</td>\n",
       "      <td>0.970133</td>\n",
       "      <td>0.645714</td>\n",
       "      <td>0.610</td>\n",
       "      <td>0.510</td>\n",
       "      <td>0.480</td>\n",
       "      <td>0.820</td>\n",
       "      <td>0.690</td>\n",
       "      <td>0.610</td>\n",
       "      <td>0.80</td>\n",
       "    </tr>\n",
       "    <tr>\n",
       "      <th>Fer2013_filtered_uniform_aug_surprise100_identity05 fold 3</th>\n",
       "      <td>0.909938</td>\n",
       "      <td>0.886833</td>\n",
       "      <td>0.957050</td>\n",
       "      <td>0.821167</td>\n",
       "      <td>0.965142</td>\n",
       "      <td>0.914950</td>\n",
       "      <td>0.848417</td>\n",
       "      <td>0.976008</td>\n",
       "      <td>0.631429</td>\n",
       "      <td>0.570</td>\n",
       "      <td>0.560</td>\n",
       "      <td>0.400</td>\n",
       "      <td>0.840</td>\n",
       "      <td>0.650</td>\n",
       "      <td>0.600</td>\n",
       "      <td>0.80</td>\n",
       "    </tr>\n",
       "    <tr>\n",
       "      <th>Fer2013_filtered_uniform_aug_surprise100_identity05 fold 4</th>\n",
       "      <td>0.907782</td>\n",
       "      <td>0.887475</td>\n",
       "      <td>0.937867</td>\n",
       "      <td>0.830308</td>\n",
       "      <td>0.969675</td>\n",
       "      <td>0.907367</td>\n",
       "      <td>0.857875</td>\n",
       "      <td>0.963908</td>\n",
       "      <td>0.627143</td>\n",
       "      <td>0.500</td>\n",
       "      <td>0.550</td>\n",
       "      <td>0.410</td>\n",
       "      <td>0.860</td>\n",
       "      <td>0.600</td>\n",
       "      <td>0.670</td>\n",
       "      <td>0.80</td>\n",
       "    </tr>\n",
       "    <tr>\n",
       "      <th>Fer2013_filtered_uniform_aug_surprise100_identity05 fold 5</th>\n",
       "      <td>0.913864</td>\n",
       "      <td>0.878442</td>\n",
       "      <td>0.939583</td>\n",
       "      <td>0.868683</td>\n",
       "      <td>0.964808</td>\n",
       "      <td>0.916217</td>\n",
       "      <td>0.855383</td>\n",
       "      <td>0.973933</td>\n",
       "      <td>0.640000</td>\n",
       "      <td>0.580</td>\n",
       "      <td>0.490</td>\n",
       "      <td>0.530</td>\n",
       "      <td>0.850</td>\n",
       "      <td>0.640</td>\n",
       "      <td>0.580</td>\n",
       "      <td>0.81</td>\n",
       "    </tr>\n",
       "    <tr>\n",
       "      <th>Fer2013_filtered_uniform_aug_surprise100_identity05 fold 6</th>\n",
       "      <td>0.914963</td>\n",
       "      <td>0.883100</td>\n",
       "      <td>0.963817</td>\n",
       "      <td>0.855433</td>\n",
       "      <td>0.960483</td>\n",
       "      <td>0.906758</td>\n",
       "      <td>0.861767</td>\n",
       "      <td>0.973383</td>\n",
       "      <td>0.647143</td>\n",
       "      <td>0.600</td>\n",
       "      <td>0.540</td>\n",
       "      <td>0.470</td>\n",
       "      <td>0.740</td>\n",
       "      <td>0.720</td>\n",
       "      <td>0.670</td>\n",
       "      <td>0.79</td>\n",
       "    </tr>\n",
       "    <tr>\n",
       "      <th>Fer2013_filtered_uniform_aug_surprise100_identity05 fold 7</th>\n",
       "      <td>0.911121</td>\n",
       "      <td>0.904892</td>\n",
       "      <td>0.950367</td>\n",
       "      <td>0.805167</td>\n",
       "      <td>0.964533</td>\n",
       "      <td>0.917517</td>\n",
       "      <td>0.857467</td>\n",
       "      <td>0.977908</td>\n",
       "      <td>0.644286</td>\n",
       "      <td>0.620</td>\n",
       "      <td>0.520</td>\n",
       "      <td>0.470</td>\n",
       "      <td>0.800</td>\n",
       "      <td>0.650</td>\n",
       "      <td>0.590</td>\n",
       "      <td>0.86</td>\n",
       "    </tr>\n",
       "    <tr>\n",
       "      <th>Fer2013_filtered_uniform_aug_surprise100_identity05 fold 8</th>\n",
       "      <td>0.920614</td>\n",
       "      <td>0.913875</td>\n",
       "      <td>0.930550</td>\n",
       "      <td>0.861967</td>\n",
       "      <td>0.961742</td>\n",
       "      <td>0.921992</td>\n",
       "      <td>0.877317</td>\n",
       "      <td>0.976858</td>\n",
       "      <td>0.672857</td>\n",
       "      <td>0.570</td>\n",
       "      <td>0.590</td>\n",
       "      <td>0.540</td>\n",
       "      <td>0.770</td>\n",
       "      <td>0.730</td>\n",
       "      <td>0.610</td>\n",
       "      <td>0.90</td>\n",
       "    </tr>\n",
       "    <tr>\n",
       "      <th>Fer2013_filtered_uniform_aug_surprise100_identity05 fold 9</th>\n",
       "      <td>0.911614</td>\n",
       "      <td>0.873017</td>\n",
       "      <td>0.952383</td>\n",
       "      <td>0.841842</td>\n",
       "      <td>0.961708</td>\n",
       "      <td>0.922700</td>\n",
       "      <td>0.854000</td>\n",
       "      <td>0.975650</td>\n",
       "      <td>0.648571</td>\n",
       "      <td>0.560</td>\n",
       "      <td>0.580</td>\n",
       "      <td>0.450</td>\n",
       "      <td>0.820</td>\n",
       "      <td>0.730</td>\n",
       "      <td>0.560</td>\n",
       "      <td>0.84</td>\n",
       "    </tr>\n",
       "    <tr>\n",
       "      <th>Fer2013_filtered_uniform_aug_surprise100_identity05 mean</th>\n",
       "      <td>0.912193</td>\n",
       "      <td>0.885937</td>\n",
       "      <td>0.944328</td>\n",
       "      <td>0.841886</td>\n",
       "      <td>0.962428</td>\n",
       "      <td>0.918903</td>\n",
       "      <td>0.857952</td>\n",
       "      <td>0.973921</td>\n",
       "      <td>0.645429</td>\n",
       "      <td>0.568</td>\n",
       "      <td>0.543</td>\n",
       "      <td>0.473</td>\n",
       "      <td>0.817</td>\n",
       "      <td>0.672</td>\n",
       "      <td>0.615</td>\n",
       "      <td>0.83</td>\n",
       "    </tr>\n",
       "  </tbody>\n",
       "</table>\n",
       "</div>"
      ],
      "text/plain": [
       "                                                    mean AUC  angry AUC  \\\n",
       "Fer2013_filtered_uniform_aug_surprise100_identi...  0.904400   0.880458   \n",
       "Fer2013_filtered_uniform_aug_surprise100_identi...  0.918169   0.871175   \n",
       "Fer2013_filtered_uniform_aug_surprise100_identi...  0.909468   0.880100   \n",
       "Fer2013_filtered_uniform_aug_surprise100_identi...  0.909938   0.886833   \n",
       "Fer2013_filtered_uniform_aug_surprise100_identi...  0.907782   0.887475   \n",
       "Fer2013_filtered_uniform_aug_surprise100_identi...  0.913864   0.878442   \n",
       "Fer2013_filtered_uniform_aug_surprise100_identi...  0.914963   0.883100   \n",
       "Fer2013_filtered_uniform_aug_surprise100_identi...  0.911121   0.904892   \n",
       "Fer2013_filtered_uniform_aug_surprise100_identi...  0.920614   0.913875   \n",
       "Fer2013_filtered_uniform_aug_surprise100_identi...  0.911614   0.873017   \n",
       "Fer2013_filtered_uniform_aug_surprise100_identi...  0.912193   0.885937   \n",
       "\n",
       "                                                    disgust AUC  fear AUC  \\\n",
       "Fer2013_filtered_uniform_aug_surprise100_identi...     0.918250  0.822625   \n",
       "Fer2013_filtered_uniform_aug_surprise100_identi...     0.951533  0.864100   \n",
       "Fer2013_filtered_uniform_aug_surprise100_identi...     0.941883  0.847567   \n",
       "Fer2013_filtered_uniform_aug_surprise100_identi...     0.957050  0.821167   \n",
       "Fer2013_filtered_uniform_aug_surprise100_identi...     0.937867  0.830308   \n",
       "Fer2013_filtered_uniform_aug_surprise100_identi...     0.939583  0.868683   \n",
       "Fer2013_filtered_uniform_aug_surprise100_identi...     0.963817  0.855433   \n",
       "Fer2013_filtered_uniform_aug_surprise100_identi...     0.950367  0.805167   \n",
       "Fer2013_filtered_uniform_aug_surprise100_identi...     0.930550  0.861967   \n",
       "Fer2013_filtered_uniform_aug_surprise100_identi...     0.952383  0.841842   \n",
       "Fer2013_filtered_uniform_aug_surprise100_identi...     0.944328  0.841886   \n",
       "\n",
       "                                                    happy AUC  neautral AUC  \\\n",
       "Fer2013_filtered_uniform_aug_surprise100_identi...   0.958708      0.918308   \n",
       "Fer2013_filtered_uniform_aug_surprise100_identi...   0.964583      0.940117   \n",
       "Fer2013_filtered_uniform_aug_surprise100_identi...   0.952892      0.923108   \n",
       "Fer2013_filtered_uniform_aug_surprise100_identi...   0.965142      0.914950   \n",
       "Fer2013_filtered_uniform_aug_surprise100_identi...   0.969675      0.907367   \n",
       "Fer2013_filtered_uniform_aug_surprise100_identi...   0.964808      0.916217   \n",
       "Fer2013_filtered_uniform_aug_surprise100_identi...   0.960483      0.906758   \n",
       "Fer2013_filtered_uniform_aug_surprise100_identi...   0.964533      0.917517   \n",
       "Fer2013_filtered_uniform_aug_surprise100_identi...   0.961742      0.921992   \n",
       "Fer2013_filtered_uniform_aug_surprise100_identi...   0.961708      0.922700   \n",
       "Fer2013_filtered_uniform_aug_surprise100_identi...   0.962428      0.918903   \n",
       "\n",
       "                                                     sad AUC  surprise AUC  \\\n",
       "Fer2013_filtered_uniform_aug_surprise100_identi...  0.855508      0.976942   \n",
       "Fer2013_filtered_uniform_aug_surprise100_identi...  0.861192      0.974483   \n",
       "Fer2013_filtered_uniform_aug_surprise100_identi...  0.850592      0.970133   \n",
       "Fer2013_filtered_uniform_aug_surprise100_identi...  0.848417      0.976008   \n",
       "Fer2013_filtered_uniform_aug_surprise100_identi...  0.857875      0.963908   \n",
       "Fer2013_filtered_uniform_aug_surprise100_identi...  0.855383      0.973933   \n",
       "Fer2013_filtered_uniform_aug_surprise100_identi...  0.861767      0.973383   \n",
       "Fer2013_filtered_uniform_aug_surprise100_identi...  0.857467      0.977908   \n",
       "Fer2013_filtered_uniform_aug_surprise100_identi...  0.877317      0.976858   \n",
       "Fer2013_filtered_uniform_aug_surprise100_identi...  0.854000      0.975650   \n",
       "Fer2013_filtered_uniform_aug_surprise100_identi...  0.857952      0.973921   \n",
       "\n",
       "                                                    mean ACC  angry ACC  \\\n",
       "Fer2013_filtered_uniform_aug_surprise100_identi...  0.631429      0.560   \n",
       "Fer2013_filtered_uniform_aug_surprise100_identi...  0.665714      0.510   \n",
       "Fer2013_filtered_uniform_aug_surprise100_identi...  0.645714      0.610   \n",
       "Fer2013_filtered_uniform_aug_surprise100_identi...  0.631429      0.570   \n",
       "Fer2013_filtered_uniform_aug_surprise100_identi...  0.627143      0.500   \n",
       "Fer2013_filtered_uniform_aug_surprise100_identi...  0.640000      0.580   \n",
       "Fer2013_filtered_uniform_aug_surprise100_identi...  0.647143      0.600   \n",
       "Fer2013_filtered_uniform_aug_surprise100_identi...  0.644286      0.620   \n",
       "Fer2013_filtered_uniform_aug_surprise100_identi...  0.672857      0.570   \n",
       "Fer2013_filtered_uniform_aug_surprise100_identi...  0.648571      0.560   \n",
       "Fer2013_filtered_uniform_aug_surprise100_identi...  0.645429      0.568   \n",
       "\n",
       "                                                    disgust ACC  fear ACC  \\\n",
       "Fer2013_filtered_uniform_aug_surprise100_identi...        0.490     0.470   \n",
       "Fer2013_filtered_uniform_aug_surprise100_identi...        0.600     0.510   \n",
       "Fer2013_filtered_uniform_aug_surprise100_identi...        0.510     0.480   \n",
       "Fer2013_filtered_uniform_aug_surprise100_identi...        0.560     0.400   \n",
       "Fer2013_filtered_uniform_aug_surprise100_identi...        0.550     0.410   \n",
       "Fer2013_filtered_uniform_aug_surprise100_identi...        0.490     0.530   \n",
       "Fer2013_filtered_uniform_aug_surprise100_identi...        0.540     0.470   \n",
       "Fer2013_filtered_uniform_aug_surprise100_identi...        0.520     0.470   \n",
       "Fer2013_filtered_uniform_aug_surprise100_identi...        0.590     0.540   \n",
       "Fer2013_filtered_uniform_aug_surprise100_identi...        0.580     0.450   \n",
       "Fer2013_filtered_uniform_aug_surprise100_identi...        0.543     0.473   \n",
       "\n",
       "                                                    happy ACC  neautral ACC  \\\n",
       "Fer2013_filtered_uniform_aug_surprise100_identi...      0.830         0.610   \n",
       "Fer2013_filtered_uniform_aug_surprise100_identi...      0.840         0.700   \n",
       "Fer2013_filtered_uniform_aug_surprise100_identi...      0.820         0.690   \n",
       "Fer2013_filtered_uniform_aug_surprise100_identi...      0.840         0.650   \n",
       "Fer2013_filtered_uniform_aug_surprise100_identi...      0.860         0.600   \n",
       "Fer2013_filtered_uniform_aug_surprise100_identi...      0.850         0.640   \n",
       "Fer2013_filtered_uniform_aug_surprise100_identi...      0.740         0.720   \n",
       "Fer2013_filtered_uniform_aug_surprise100_identi...      0.800         0.650   \n",
       "Fer2013_filtered_uniform_aug_surprise100_identi...      0.770         0.730   \n",
       "Fer2013_filtered_uniform_aug_surprise100_identi...      0.820         0.730   \n",
       "Fer2013_filtered_uniform_aug_surprise100_identi...      0.817         0.672   \n",
       "\n",
       "                                                    sad ACC  surprise ACC  \n",
       "Fer2013_filtered_uniform_aug_surprise100_identi...    0.590          0.87  \n",
       "Fer2013_filtered_uniform_aug_surprise100_identi...    0.670          0.83  \n",
       "Fer2013_filtered_uniform_aug_surprise100_identi...    0.610          0.80  \n",
       "Fer2013_filtered_uniform_aug_surprise100_identi...    0.600          0.80  \n",
       "Fer2013_filtered_uniform_aug_surprise100_identi...    0.670          0.80  \n",
       "Fer2013_filtered_uniform_aug_surprise100_identi...    0.580          0.81  \n",
       "Fer2013_filtered_uniform_aug_surprise100_identi...    0.670          0.79  \n",
       "Fer2013_filtered_uniform_aug_surprise100_identi...    0.590          0.86  \n",
       "Fer2013_filtered_uniform_aug_surprise100_identi...    0.610          0.90  \n",
       "Fer2013_filtered_uniform_aug_surprise100_identi...    0.560          0.84  \n",
       "Fer2013_filtered_uniform_aug_surprise100_identi...    0.615          0.83  "
      ]
     },
     "execution_count": 25,
     "metadata": {},
     "output_type": "execute_result"
    }
   ],
   "source": [
    "columns=[\"mean AUC\", \"angry AUC\", \"disgust AUC\", \"fear AUC\", \"happy AUC\", \"neautral AUC\", \"sad AUC\", \"surprise AUC\", \"mean PREC\", \"angry PREC\", \"disgust PREC\", \"fear PREC\", \"happy PREC\", \"neautral PREC\", \"sad PREC\", \"surprise PREC\"]\n",
    "df = pd.DataFrame(columns = columns)\n",
    "\n",
    "for fold,_ in enumerate(histories):\n",
    "    mean_acc,class_acc = evaluate_accuracy(y_test[fold], y_scores[fold], classes)\n",
    "    mean_auc,roc_auc = evaluate_roc_auc(y_test[fold], y_scores[fold], classes)\n",
    "\n",
    "    exp = [mean_auc]\n",
    "    exp += list(roc_auc.values())\n",
    "    exp += [mean_acc]\n",
    "    exp += class_acc\n",
    "\n",
    "    df_new = pd.DataFrame( np.array([exp]),[f\"{dataset_name} fold {fold}\"], columns=columns)\n",
    "    df = pd.concat([df,df_new])\n",
    "    df = df.astype('float')\n",
    "\n",
    "mean_df = df.mean(0).to_frame().transpose().set_index(pd.Index([f\"{dataset_name} mean\"]))\n",
    "df = pd.concat([df,mean_df])\n",
    "df\n"
   ]
  },
  {
   "cell_type": "markdown",
   "id": "bbe8f59a",
   "metadata": {},
   "source": [
    "## Save metrics"
   ]
  },
  {
   "cell_type": "code",
   "execution_count": 26,
   "id": "6dfac9df",
   "metadata": {},
   "outputs": [
    {
     "data": {
      "text/html": [
       "<div>\n",
       "<style scoped>\n",
       "    .dataframe tbody tr th:only-of-type {\n",
       "        vertical-align: middle;\n",
       "    }\n",
       "\n",
       "    .dataframe tbody tr th {\n",
       "        vertical-align: top;\n",
       "    }\n",
       "\n",
       "    .dataframe thead th {\n",
       "        text-align: right;\n",
       "    }\n",
       "</style>\n",
       "<table border=\"1\" class=\"dataframe\">\n",
       "  <thead>\n",
       "    <tr style=\"text-align: right;\">\n",
       "      <th></th>\n",
       "      <th>mean AUC</th>\n",
       "      <th>angry AUC</th>\n",
       "      <th>disgust AUC</th>\n",
       "      <th>fear AUC</th>\n",
       "      <th>happy AUC</th>\n",
       "      <th>neautral AUC</th>\n",
       "      <th>sad AUC</th>\n",
       "      <th>surprise AUC</th>\n",
       "      <th>mean PREC</th>\n",
       "      <th>angry PREC</th>\n",
       "      <th>disgust PREC</th>\n",
       "      <th>fear PREC</th>\n",
       "      <th>happy PREC</th>\n",
       "      <th>neautral PREC</th>\n",
       "      <th>sad PREC</th>\n",
       "      <th>surprise PREC</th>\n",
       "    </tr>\n",
       "  </thead>\n",
       "  <tbody>\n",
       "    <tr>\n",
       "      <th>Fer2013_filtered_uniform xval-10</th>\n",
       "      <td>0.913137</td>\n",
       "      <td>0.882769</td>\n",
       "      <td>0.947797</td>\n",
       "      <td>0.845343</td>\n",
       "      <td>0.964072</td>\n",
       "      <td>0.922568</td>\n",
       "      <td>0.854387</td>\n",
       "      <td>0.975025</td>\n",
       "      <td>0.637857</td>\n",
       "      <td>0.544</td>\n",
       "      <td>0.535</td>\n",
       "      <td>0.487</td>\n",
       "      <td>0.837</td>\n",
       "      <td>0.657</td>\n",
       "      <td>0.594</td>\n",
       "      <td>0.811</td>\n",
       "    </tr>\n",
       "    <tr>\n",
       "      <th>Fer2013_filtered_uniform_aug_disgust100_residual07_identity03 xval-10</th>\n",
       "      <td>0.910634</td>\n",
       "      <td>0.877640</td>\n",
       "      <td>0.948825</td>\n",
       "      <td>0.844880</td>\n",
       "      <td>0.963346</td>\n",
       "      <td>0.915373</td>\n",
       "      <td>0.848816</td>\n",
       "      <td>0.975559</td>\n",
       "      <td>0.639000</td>\n",
       "      <td>0.564</td>\n",
       "      <td>0.572</td>\n",
       "      <td>0.471</td>\n",
       "      <td>0.835</td>\n",
       "      <td>0.645</td>\n",
       "      <td>0.564</td>\n",
       "      <td>0.822</td>\n",
       "    </tr>\n",
       "    <tr>\n",
       "      <th>Fer2013_filtered_uniform_aug_disgust100_residual03_identity05 xval-10</th>\n",
       "      <td>0.913648</td>\n",
       "      <td>0.876134</td>\n",
       "      <td>0.948275</td>\n",
       "      <td>0.856259</td>\n",
       "      <td>0.963064</td>\n",
       "      <td>0.920421</td>\n",
       "      <td>0.857468</td>\n",
       "      <td>0.973912</td>\n",
       "      <td>0.636286</td>\n",
       "      <td>0.546</td>\n",
       "      <td>0.573</td>\n",
       "      <td>0.476</td>\n",
       "      <td>0.827</td>\n",
       "      <td>0.657</td>\n",
       "      <td>0.583</td>\n",
       "      <td>0.792</td>\n",
       "    </tr>\n",
       "    <tr>\n",
       "      <th>Fer2013_filtered_uniform_aug_disgust100_residual07_identity03 xval-10</th>\n",
       "      <td>0.913458</td>\n",
       "      <td>0.881824</td>\n",
       "      <td>0.944403</td>\n",
       "      <td>0.851962</td>\n",
       "      <td>0.963165</td>\n",
       "      <td>0.919623</td>\n",
       "      <td>0.855662</td>\n",
       "      <td>0.977569</td>\n",
       "      <td>0.639000</td>\n",
       "      <td>0.549</td>\n",
       "      <td>0.585</td>\n",
       "      <td>0.461</td>\n",
       "      <td>0.828</td>\n",
       "      <td>0.639</td>\n",
       "      <td>0.587</td>\n",
       "      <td>0.824</td>\n",
       "    </tr>\n",
       "    <tr>\n",
       "      <th>Fer2013_filtered_uniform_aug_disgust100_residual07_identity03 xval-10</th>\n",
       "      <td>0.915024</td>\n",
       "      <td>0.876282</td>\n",
       "      <td>0.948898</td>\n",
       "      <td>0.850682</td>\n",
       "      <td>0.965239</td>\n",
       "      <td>0.923594</td>\n",
       "      <td>0.863687</td>\n",
       "      <td>0.976787</td>\n",
       "      <td>0.643857</td>\n",
       "      <td>0.572</td>\n",
       "      <td>0.606</td>\n",
       "      <td>0.475</td>\n",
       "      <td>0.827</td>\n",
       "      <td>0.646</td>\n",
       "      <td>0.571</td>\n",
       "      <td>0.810</td>\n",
       "    </tr>\n",
       "    <tr>\n",
       "      <th>Fer2013_filtered_uniform_aug_disgust100_residual05_identity05 xval-10</th>\n",
       "      <td>0.914427</td>\n",
       "      <td>0.881619</td>\n",
       "      <td>0.949027</td>\n",
       "      <td>0.857508</td>\n",
       "      <td>0.963788</td>\n",
       "      <td>0.916292</td>\n",
       "      <td>0.859655</td>\n",
       "      <td>0.973098</td>\n",
       "      <td>0.647286</td>\n",
       "      <td>0.557</td>\n",
       "      <td>0.596</td>\n",
       "      <td>0.472</td>\n",
       "      <td>0.831</td>\n",
       "      <td>0.669</td>\n",
       "      <td>0.596</td>\n",
       "      <td>0.810</td>\n",
       "    </tr>\n",
       "    <tr>\n",
       "      <th>Fer2013_filtered_uniform_aug_disgust100_identity03 xval-10</th>\n",
       "      <td>0.915294</td>\n",
       "      <td>0.876576</td>\n",
       "      <td>0.952008</td>\n",
       "      <td>0.851192</td>\n",
       "      <td>0.963053</td>\n",
       "      <td>0.923192</td>\n",
       "      <td>0.862476</td>\n",
       "      <td>0.978560</td>\n",
       "      <td>0.645429</td>\n",
       "      <td>0.542</td>\n",
       "      <td>0.579</td>\n",
       "      <td>0.481</td>\n",
       "      <td>0.840</td>\n",
       "      <td>0.683</td>\n",
       "      <td>0.578</td>\n",
       "      <td>0.815</td>\n",
       "    </tr>\n",
       "    <tr>\n",
       "      <th>Fer2013_filtered_uniform_aug_disgust100_identity03 xval-10</th>\n",
       "      <td>0.911934</td>\n",
       "      <td>0.881547</td>\n",
       "      <td>0.950238</td>\n",
       "      <td>0.844635</td>\n",
       "      <td>0.960252</td>\n",
       "      <td>0.917508</td>\n",
       "      <td>0.853189</td>\n",
       "      <td>0.976167</td>\n",
       "      <td>0.638714</td>\n",
       "      <td>0.569</td>\n",
       "      <td>0.566</td>\n",
       "      <td>0.471</td>\n",
       "      <td>0.814</td>\n",
       "      <td>0.658</td>\n",
       "      <td>0.577</td>\n",
       "      <td>0.816</td>\n",
       "    </tr>\n",
       "    <tr>\n",
       "      <th>Fer2013_filtered_uniform_aug_disgust100_identity03 xval-10</th>\n",
       "      <td>0.910994</td>\n",
       "      <td>0.878423</td>\n",
       "      <td>0.947222</td>\n",
       "      <td>0.852984</td>\n",
       "      <td>0.961429</td>\n",
       "      <td>0.912841</td>\n",
       "      <td>0.850608</td>\n",
       "      <td>0.973453</td>\n",
       "      <td>0.636286</td>\n",
       "      <td>0.548</td>\n",
       "      <td>0.576</td>\n",
       "      <td>0.473</td>\n",
       "      <td>0.831</td>\n",
       "      <td>0.667</td>\n",
       "      <td>0.554</td>\n",
       "      <td>0.805</td>\n",
       "    </tr>\n",
       "    <tr>\n",
       "      <th>Fer2013_filtered_uniform_aug_disgust100_residual05_identity05 xval-10</th>\n",
       "      <td>0.914170</td>\n",
       "      <td>0.889486</td>\n",
       "      <td>0.947455</td>\n",
       "      <td>0.849964</td>\n",
       "      <td>0.963292</td>\n",
       "      <td>0.917965</td>\n",
       "      <td>0.856163</td>\n",
       "      <td>0.974864</td>\n",
       "      <td>0.641000</td>\n",
       "      <td>0.564</td>\n",
       "      <td>0.594</td>\n",
       "      <td>0.473</td>\n",
       "      <td>0.815</td>\n",
       "      <td>0.641</td>\n",
       "      <td>0.588</td>\n",
       "      <td>0.812</td>\n",
       "    </tr>\n",
       "    <tr>\n",
       "      <th>Fer2013_filtered_uniform_aug_disgust100_residual05_identity05 xval-10</th>\n",
       "      <td>0.914464</td>\n",
       "      <td>0.878498</td>\n",
       "      <td>0.953938</td>\n",
       "      <td>0.851328</td>\n",
       "      <td>0.965696</td>\n",
       "      <td>0.919801</td>\n",
       "      <td>0.854846</td>\n",
       "      <td>0.977138</td>\n",
       "      <td>0.647143</td>\n",
       "      <td>0.582</td>\n",
       "      <td>0.558</td>\n",
       "      <td>0.472</td>\n",
       "      <td>0.836</td>\n",
       "      <td>0.668</td>\n",
       "      <td>0.593</td>\n",
       "      <td>0.821</td>\n",
       "    </tr>\n",
       "    <tr>\n",
       "      <th>Fer2013_filtered_uniform xval-10</th>\n",
       "      <td>0.914381</td>\n",
       "      <td>0.879258</td>\n",
       "      <td>0.950218</td>\n",
       "      <td>0.846412</td>\n",
       "      <td>0.966658</td>\n",
       "      <td>0.924275</td>\n",
       "      <td>0.859469</td>\n",
       "      <td>0.974378</td>\n",
       "      <td>0.641857</td>\n",
       "      <td>0.569</td>\n",
       "      <td>0.547</td>\n",
       "      <td>0.486</td>\n",
       "      <td>0.846</td>\n",
       "      <td>0.657</td>\n",
       "      <td>0.602</td>\n",
       "      <td>0.786</td>\n",
       "    </tr>\n",
       "    <tr>\n",
       "      <th>Fer2013_filtered_uniform xval-10</th>\n",
       "      <td>0.911200</td>\n",
       "      <td>0.871695</td>\n",
       "      <td>0.946988</td>\n",
       "      <td>0.854422</td>\n",
       "      <td>0.959406</td>\n",
       "      <td>0.916182</td>\n",
       "      <td>0.855532</td>\n",
       "      <td>0.974173</td>\n",
       "      <td>0.636286</td>\n",
       "      <td>0.560</td>\n",
       "      <td>0.546</td>\n",
       "      <td>0.478</td>\n",
       "      <td>0.811</td>\n",
       "      <td>0.670</td>\n",
       "      <td>0.585</td>\n",
       "      <td>0.804</td>\n",
       "    </tr>\n",
       "    <tr>\n",
       "      <th>Fer2013_filtered_uniform_aug_disgust100_residual03_identity05 xval-10</th>\n",
       "      <td>0.914178</td>\n",
       "      <td>0.879924</td>\n",
       "      <td>0.953368</td>\n",
       "      <td>0.848205</td>\n",
       "      <td>0.963971</td>\n",
       "      <td>0.919146</td>\n",
       "      <td>0.859974</td>\n",
       "      <td>0.974657</td>\n",
       "      <td>0.642429</td>\n",
       "      <td>0.558</td>\n",
       "      <td>0.589</td>\n",
       "      <td>0.457</td>\n",
       "      <td>0.831</td>\n",
       "      <td>0.657</td>\n",
       "      <td>0.585</td>\n",
       "      <td>0.820</td>\n",
       "    </tr>\n",
       "    <tr>\n",
       "      <th>Fer2013_filtered_uniform_aug_disgust100_residual03_identity05 xval-10</th>\n",
       "      <td>0.910091</td>\n",
       "      <td>0.871675</td>\n",
       "      <td>0.947948</td>\n",
       "      <td>0.839583</td>\n",
       "      <td>0.962295</td>\n",
       "      <td>0.917501</td>\n",
       "      <td>0.854655</td>\n",
       "      <td>0.976978</td>\n",
       "      <td>0.634286</td>\n",
       "      <td>0.562</td>\n",
       "      <td>0.558</td>\n",
       "      <td>0.464</td>\n",
       "      <td>0.830</td>\n",
       "      <td>0.643</td>\n",
       "      <td>0.568</td>\n",
       "      <td>0.815</td>\n",
       "    </tr>\n",
       "    <tr>\n",
       "      <th>Fer2013_filtered_uniform_aug_disgust200_residual05_identity05 xval-10</th>\n",
       "      <td>0.911938</td>\n",
       "      <td>0.879127</td>\n",
       "      <td>0.943203</td>\n",
       "      <td>0.854557</td>\n",
       "      <td>0.961367</td>\n",
       "      <td>0.916866</td>\n",
       "      <td>0.853707</td>\n",
       "      <td>0.974738</td>\n",
       "      <td>0.643000</td>\n",
       "      <td>0.562</td>\n",
       "      <td>0.568</td>\n",
       "      <td>0.478</td>\n",
       "      <td>0.820</td>\n",
       "      <td>0.662</td>\n",
       "      <td>0.596</td>\n",
       "      <td>0.815</td>\n",
       "    </tr>\n",
       "    <tr>\n",
       "      <th>Fer2013_filtered_uniform_aug_disgust200_residual05_identity05 xval-10</th>\n",
       "      <td>0.915086</td>\n",
       "      <td>0.891808</td>\n",
       "      <td>0.943340</td>\n",
       "      <td>0.845947</td>\n",
       "      <td>0.965096</td>\n",
       "      <td>0.918108</td>\n",
       "      <td>0.865717</td>\n",
       "      <td>0.975588</td>\n",
       "      <td>0.648857</td>\n",
       "      <td>0.583</td>\n",
       "      <td>0.597</td>\n",
       "      <td>0.498</td>\n",
       "      <td>0.822</td>\n",
       "      <td>0.632</td>\n",
       "      <td>0.591</td>\n",
       "      <td>0.819</td>\n",
       "    </tr>\n",
       "    <tr>\n",
       "      <th>Fer2013_filtered_uniform_aug_disgust200_residual05_identity05 xval-10</th>\n",
       "      <td>0.910714</td>\n",
       "      <td>0.882841</td>\n",
       "      <td>0.941868</td>\n",
       "      <td>0.847588</td>\n",
       "      <td>0.960477</td>\n",
       "      <td>0.913739</td>\n",
       "      <td>0.854942</td>\n",
       "      <td>0.973542</td>\n",
       "      <td>0.634857</td>\n",
       "      <td>0.565</td>\n",
       "      <td>0.575</td>\n",
       "      <td>0.481</td>\n",
       "      <td>0.812</td>\n",
       "      <td>0.640</td>\n",
       "      <td>0.567</td>\n",
       "      <td>0.804</td>\n",
       "    </tr>\n",
       "    <tr>\n",
       "      <th>Fer2013_filtered_uniform_aug_disgust100_residual07_identity05 xval-10</th>\n",
       "      <td>0.913062</td>\n",
       "      <td>0.873278</td>\n",
       "      <td>0.948582</td>\n",
       "      <td>0.850750</td>\n",
       "      <td>0.965934</td>\n",
       "      <td>0.919406</td>\n",
       "      <td>0.859143</td>\n",
       "      <td>0.974344</td>\n",
       "      <td>0.636857</td>\n",
       "      <td>0.536</td>\n",
       "      <td>0.579</td>\n",
       "      <td>0.486</td>\n",
       "      <td>0.827</td>\n",
       "      <td>0.641</td>\n",
       "      <td>0.588</td>\n",
       "      <td>0.801</td>\n",
       "    </tr>\n",
       "    <tr>\n",
       "      <th>Fer2013_filtered_uniform_aug_disgust100_residual07_identity05 xval-10</th>\n",
       "      <td>0.912444</td>\n",
       "      <td>0.881952</td>\n",
       "      <td>0.942338</td>\n",
       "      <td>0.854015</td>\n",
       "      <td>0.963248</td>\n",
       "      <td>0.915849</td>\n",
       "      <td>0.853721</td>\n",
       "      <td>0.975982</td>\n",
       "      <td>0.644714</td>\n",
       "      <td>0.561</td>\n",
       "      <td>0.566</td>\n",
       "      <td>0.480</td>\n",
       "      <td>0.854</td>\n",
       "      <td>0.662</td>\n",
       "      <td>0.570</td>\n",
       "      <td>0.820</td>\n",
       "    </tr>\n",
       "    <tr>\n",
       "      <th>Fer2013_filtered_uniform_aug_disgust100_resisudal07_identity05 xval-10</th>\n",
       "      <td>0.914854</td>\n",
       "      <td>0.883661</td>\n",
       "      <td>0.947233</td>\n",
       "      <td>0.843760</td>\n",
       "      <td>0.965465</td>\n",
       "      <td>0.924010</td>\n",
       "      <td>0.865355</td>\n",
       "      <td>0.974494</td>\n",
       "      <td>0.646857</td>\n",
       "      <td>0.598</td>\n",
       "      <td>0.579</td>\n",
       "      <td>0.472</td>\n",
       "      <td>0.828</td>\n",
       "      <td>0.660</td>\n",
       "      <td>0.584</td>\n",
       "      <td>0.807</td>\n",
       "    </tr>\n",
       "    <tr>\n",
       "      <th>Fer2013_filtered_uniform_aug_disgust100_identity0.5 xval-10</th>\n",
       "      <td>0.911867</td>\n",
       "      <td>0.878198</td>\n",
       "      <td>0.942283</td>\n",
       "      <td>0.849933</td>\n",
       "      <td>0.964438</td>\n",
       "      <td>0.919130</td>\n",
       "      <td>0.856001</td>\n",
       "      <td>0.973087</td>\n",
       "      <td>0.640857</td>\n",
       "      <td>0.564</td>\n",
       "      <td>0.578</td>\n",
       "      <td>0.481</td>\n",
       "      <td>0.841</td>\n",
       "      <td>0.662</td>\n",
       "      <td>0.570</td>\n",
       "      <td>0.790</td>\n",
       "    </tr>\n",
       "    <tr>\n",
       "      <th>Fer2013_filtered_uniform_aug_disgust100_identity0.5 xval-10</th>\n",
       "      <td>0.911699</td>\n",
       "      <td>0.877810</td>\n",
       "      <td>0.945560</td>\n",
       "      <td>0.854055</td>\n",
       "      <td>0.963354</td>\n",
       "      <td>0.915940</td>\n",
       "      <td>0.849497</td>\n",
       "      <td>0.975677</td>\n",
       "      <td>0.639429</td>\n",
       "      <td>0.550</td>\n",
       "      <td>0.591</td>\n",
       "      <td>0.461</td>\n",
       "      <td>0.834</td>\n",
       "      <td>0.659</td>\n",
       "      <td>0.582</td>\n",
       "      <td>0.799</td>\n",
       "    </tr>\n",
       "    <tr>\n",
       "      <th>Fer2013_filtered_uniform_aug_disgust100_identity0.5 xval-10</th>\n",
       "      <td>0.910543</td>\n",
       "      <td>0.875542</td>\n",
       "      <td>0.947010</td>\n",
       "      <td>0.846450</td>\n",
       "      <td>0.962219</td>\n",
       "      <td>0.916484</td>\n",
       "      <td>0.851853</td>\n",
       "      <td>0.974244</td>\n",
       "      <td>0.637429</td>\n",
       "      <td>0.549</td>\n",
       "      <td>0.585</td>\n",
       "      <td>0.482</td>\n",
       "      <td>0.814</td>\n",
       "      <td>0.652</td>\n",
       "      <td>0.574</td>\n",
       "      <td>0.806</td>\n",
       "    </tr>\n",
       "    <tr>\n",
       "      <th>Fer2013_filtered_uniform_aug_disgust100_identity00 xval-10</th>\n",
       "      <td>0.915121</td>\n",
       "      <td>0.880861</td>\n",
       "      <td>0.954353</td>\n",
       "      <td>0.844516</td>\n",
       "      <td>0.963356</td>\n",
       "      <td>0.917976</td>\n",
       "      <td>0.865387</td>\n",
       "      <td>0.979400</td>\n",
       "      <td>0.643286</td>\n",
       "      <td>0.573</td>\n",
       "      <td>0.566</td>\n",
       "      <td>0.466</td>\n",
       "      <td>0.818</td>\n",
       "      <td>0.646</td>\n",
       "      <td>0.607</td>\n",
       "      <td>0.827</td>\n",
       "    </tr>\n",
       "    <tr>\n",
       "      <th>Fer2013_filtered_uniform_aug_disgust100_identity00 xval-10</th>\n",
       "      <td>0.913686</td>\n",
       "      <td>0.880125</td>\n",
       "      <td>0.953922</td>\n",
       "      <td>0.854801</td>\n",
       "      <td>0.963232</td>\n",
       "      <td>0.914302</td>\n",
       "      <td>0.854207</td>\n",
       "      <td>0.975217</td>\n",
       "      <td>0.637000</td>\n",
       "      <td>0.549</td>\n",
       "      <td>0.579</td>\n",
       "      <td>0.476</td>\n",
       "      <td>0.810</td>\n",
       "      <td>0.654</td>\n",
       "      <td>0.571</td>\n",
       "      <td>0.820</td>\n",
       "    </tr>\n",
       "    <tr>\n",
       "      <th>Fer2013_filtered_uniform_aug_disgust100_identity00 xval-10</th>\n",
       "      <td>0.911053</td>\n",
       "      <td>0.878810</td>\n",
       "      <td>0.953173</td>\n",
       "      <td>0.846325</td>\n",
       "      <td>0.962533</td>\n",
       "      <td>0.912112</td>\n",
       "      <td>0.850128</td>\n",
       "      <td>0.974292</td>\n",
       "      <td>0.628857</td>\n",
       "      <td>0.542</td>\n",
       "      <td>0.581</td>\n",
       "      <td>0.447</td>\n",
       "      <td>0.817</td>\n",
       "      <td>0.653</td>\n",
       "      <td>0.564</td>\n",
       "      <td>0.798</td>\n",
       "    </tr>\n",
       "    <tr>\n",
       "      <th>Fer2013_filtered_uniform_aug_disgust100_residual05_identity05_in005 xval-10</th>\n",
       "      <td>0.911343</td>\n",
       "      <td>0.876815</td>\n",
       "      <td>0.945248</td>\n",
       "      <td>0.843721</td>\n",
       "      <td>0.963858</td>\n",
       "      <td>0.917198</td>\n",
       "      <td>0.857880</td>\n",
       "      <td>0.974677</td>\n",
       "      <td>0.637429</td>\n",
       "      <td>0.552</td>\n",
       "      <td>0.565</td>\n",
       "      <td>0.470</td>\n",
       "      <td>0.826</td>\n",
       "      <td>0.661</td>\n",
       "      <td>0.582</td>\n",
       "      <td>0.806</td>\n",
       "    </tr>\n",
       "    <tr>\n",
       "      <th>Fer2013_filtered_uniform_aug_disgust100_residual05_identity05_in005 xval-10</th>\n",
       "      <td>0.915219</td>\n",
       "      <td>0.881481</td>\n",
       "      <td>0.945537</td>\n",
       "      <td>0.855107</td>\n",
       "      <td>0.965324</td>\n",
       "      <td>0.923231</td>\n",
       "      <td>0.859734</td>\n",
       "      <td>0.976118</td>\n",
       "      <td>0.646714</td>\n",
       "      <td>0.570</td>\n",
       "      <td>0.559</td>\n",
       "      <td>0.497</td>\n",
       "      <td>0.822</td>\n",
       "      <td>0.647</td>\n",
       "      <td>0.607</td>\n",
       "      <td>0.825</td>\n",
       "    </tr>\n",
       "    <tr>\n",
       "      <th>Fer2013_filtered_uniform_aug_disgust100_residual05_identity05_in005 xval-10</th>\n",
       "      <td>0.909742</td>\n",
       "      <td>0.878896</td>\n",
       "      <td>0.945230</td>\n",
       "      <td>0.842424</td>\n",
       "      <td>0.963190</td>\n",
       "      <td>0.913098</td>\n",
       "      <td>0.851973</td>\n",
       "      <td>0.973384</td>\n",
       "      <td>0.632286</td>\n",
       "      <td>0.563</td>\n",
       "      <td>0.546</td>\n",
       "      <td>0.465</td>\n",
       "      <td>0.823</td>\n",
       "      <td>0.657</td>\n",
       "      <td>0.574</td>\n",
       "      <td>0.798</td>\n",
       "    </tr>\n",
       "    <tr>\n",
       "      <th>Fer2013_filtered_uniform_aug_disgust100_residual05_identity05_ls01 xval-10</th>\n",
       "      <td>0.911909</td>\n",
       "      <td>0.879580</td>\n",
       "      <td>0.945183</td>\n",
       "      <td>0.846008</td>\n",
       "      <td>0.964723</td>\n",
       "      <td>0.920014</td>\n",
       "      <td>0.850127</td>\n",
       "      <td>0.977727</td>\n",
       "      <td>0.637857</td>\n",
       "      <td>0.555</td>\n",
       "      <td>0.549</td>\n",
       "      <td>0.474</td>\n",
       "      <td>0.832</td>\n",
       "      <td>0.662</td>\n",
       "      <td>0.571</td>\n",
       "      <td>0.822</td>\n",
       "    </tr>\n",
       "    <tr>\n",
       "      <th>Fer2013_filtered_uniform_aug_disgust100_residual05_identity05_ls01 xval-10</th>\n",
       "      <td>0.913752</td>\n",
       "      <td>0.879683</td>\n",
       "      <td>0.944340</td>\n",
       "      <td>0.853474</td>\n",
       "      <td>0.966297</td>\n",
       "      <td>0.918256</td>\n",
       "      <td>0.862022</td>\n",
       "      <td>0.972192</td>\n",
       "      <td>0.642143</td>\n",
       "      <td>0.551</td>\n",
       "      <td>0.562</td>\n",
       "      <td>0.477</td>\n",
       "      <td>0.838</td>\n",
       "      <td>0.646</td>\n",
       "      <td>0.602</td>\n",
       "      <td>0.819</td>\n",
       "    </tr>\n",
       "    <tr>\n",
       "      <th>Fer2013_filtered_uniform_aug_disgust100_residual05_identity05_ls01 xval-10</th>\n",
       "      <td>0.912501</td>\n",
       "      <td>0.869730</td>\n",
       "      <td>0.951838</td>\n",
       "      <td>0.852397</td>\n",
       "      <td>0.961178</td>\n",
       "      <td>0.919172</td>\n",
       "      <td>0.859343</td>\n",
       "      <td>0.973851</td>\n",
       "      <td>0.639857</td>\n",
       "      <td>0.535</td>\n",
       "      <td>0.604</td>\n",
       "      <td>0.455</td>\n",
       "      <td>0.815</td>\n",
       "      <td>0.670</td>\n",
       "      <td>0.594</td>\n",
       "      <td>0.806</td>\n",
       "    </tr>\n",
       "    <tr>\n",
       "      <th>Fer2013_filtered_uniform_aug_surprise100_residual05_identity05 xval-10</th>\n",
       "      <td>0.910220</td>\n",
       "      <td>0.873388</td>\n",
       "      <td>0.945757</td>\n",
       "      <td>0.850629</td>\n",
       "      <td>0.959014</td>\n",
       "      <td>0.915828</td>\n",
       "      <td>0.852598</td>\n",
       "      <td>0.974329</td>\n",
       "      <td>0.637714</td>\n",
       "      <td>0.529</td>\n",
       "      <td>0.559</td>\n",
       "      <td>0.504</td>\n",
       "      <td>0.822</td>\n",
       "      <td>0.656</td>\n",
       "      <td>0.586</td>\n",
       "      <td>0.808</td>\n",
       "    </tr>\n",
       "    <tr>\n",
       "      <th>Fer2013_filtered_uniform_aug_surprise100_residual05_identity05 xval-10</th>\n",
       "      <td>0.910815</td>\n",
       "      <td>0.876361</td>\n",
       "      <td>0.944985</td>\n",
       "      <td>0.845678</td>\n",
       "      <td>0.961329</td>\n",
       "      <td>0.918685</td>\n",
       "      <td>0.855305</td>\n",
       "      <td>0.973363</td>\n",
       "      <td>0.641143</td>\n",
       "      <td>0.521</td>\n",
       "      <td>0.592</td>\n",
       "      <td>0.501</td>\n",
       "      <td>0.833</td>\n",
       "      <td>0.656</td>\n",
       "      <td>0.575</td>\n",
       "      <td>0.810</td>\n",
       "    </tr>\n",
       "    <tr>\n",
       "      <th>Fer2013_filtered_uniform_aug_surprise100_residual05_identity05 xval-10</th>\n",
       "      <td>0.909212</td>\n",
       "      <td>0.872319</td>\n",
       "      <td>0.945893</td>\n",
       "      <td>0.836523</td>\n",
       "      <td>0.962504</td>\n",
       "      <td>0.919319</td>\n",
       "      <td>0.856182</td>\n",
       "      <td>0.971740</td>\n",
       "      <td>0.637857</td>\n",
       "      <td>0.542</td>\n",
       "      <td>0.597</td>\n",
       "      <td>0.476</td>\n",
       "      <td>0.809</td>\n",
       "      <td>0.678</td>\n",
       "      <td>0.551</td>\n",
       "      <td>0.812</td>\n",
       "    </tr>\n",
       "    <tr>\n",
       "      <th>Fer2013_filtered_uniform_aug_disgust100_residual05_identity05_alternate10 xval-10</th>\n",
       "      <td>0.908725</td>\n",
       "      <td>0.873806</td>\n",
       "      <td>0.941975</td>\n",
       "      <td>0.832474</td>\n",
       "      <td>0.959896</td>\n",
       "      <td>0.918168</td>\n",
       "      <td>0.859574</td>\n",
       "      <td>0.975185</td>\n",
       "      <td>0.635429</td>\n",
       "      <td>0.554</td>\n",
       "      <td>0.569</td>\n",
       "      <td>0.461</td>\n",
       "      <td>0.810</td>\n",
       "      <td>0.646</td>\n",
       "      <td>0.604</td>\n",
       "      <td>0.804</td>\n",
       "    </tr>\n",
       "    <tr>\n",
       "      <th>Fer2013_filtered_uniform_aug_disgust100_residual05_identity05_alternate10 xval-10</th>\n",
       "      <td>0.909436</td>\n",
       "      <td>0.875989</td>\n",
       "      <td>0.944572</td>\n",
       "      <td>0.847388</td>\n",
       "      <td>0.960854</td>\n",
       "      <td>0.910368</td>\n",
       "      <td>0.850389</td>\n",
       "      <td>0.976491</td>\n",
       "      <td>0.627857</td>\n",
       "      <td>0.529</td>\n",
       "      <td>0.557</td>\n",
       "      <td>0.479</td>\n",
       "      <td>0.817</td>\n",
       "      <td>0.640</td>\n",
       "      <td>0.565</td>\n",
       "      <td>0.808</td>\n",
       "    </tr>\n",
       "    <tr>\n",
       "      <th>Fer2013_filtered_uniform_aug_disgust100_residual05_identity05_alternate10 xval-10</th>\n",
       "      <td>0.915659</td>\n",
       "      <td>0.878786</td>\n",
       "      <td>0.953367</td>\n",
       "      <td>0.852685</td>\n",
       "      <td>0.964613</td>\n",
       "      <td>0.921157</td>\n",
       "      <td>0.864861</td>\n",
       "      <td>0.974146</td>\n",
       "      <td>0.646286</td>\n",
       "      <td>0.562</td>\n",
       "      <td>0.578</td>\n",
       "      <td>0.485</td>\n",
       "      <td>0.831</td>\n",
       "      <td>0.667</td>\n",
       "      <td>0.593</td>\n",
       "      <td>0.808</td>\n",
       "    </tr>\n",
       "    <tr>\n",
       "      <th>Fer2013_filtered_uniform_aug_surprise1000_residual05_identity05 xval-10</th>\n",
       "      <td>0.909863</td>\n",
       "      <td>0.878579</td>\n",
       "      <td>0.942483</td>\n",
       "      <td>0.841173</td>\n",
       "      <td>0.961132</td>\n",
       "      <td>0.917946</td>\n",
       "      <td>0.855154</td>\n",
       "      <td>0.972573</td>\n",
       "      <td>0.639000</td>\n",
       "      <td>0.560</td>\n",
       "      <td>0.546</td>\n",
       "      <td>0.456</td>\n",
       "      <td>0.830</td>\n",
       "      <td>0.656</td>\n",
       "      <td>0.600</td>\n",
       "      <td>0.825</td>\n",
       "    </tr>\n",
       "    <tr>\n",
       "      <th>Fer2013_filtered_uniform_aug_surprise1000_residual05_identity05 xval-10</th>\n",
       "      <td>0.910725</td>\n",
       "      <td>0.877727</td>\n",
       "      <td>0.949430</td>\n",
       "      <td>0.846831</td>\n",
       "      <td>0.961463</td>\n",
       "      <td>0.915561</td>\n",
       "      <td>0.852301</td>\n",
       "      <td>0.971760</td>\n",
       "      <td>0.637714</td>\n",
       "      <td>0.538</td>\n",
       "      <td>0.580</td>\n",
       "      <td>0.471</td>\n",
       "      <td>0.822</td>\n",
       "      <td>0.651</td>\n",
       "      <td>0.572</td>\n",
       "      <td>0.830</td>\n",
       "    </tr>\n",
       "    <tr>\n",
       "      <th>Fer2013_filtered_uniform_aug_surprise1000_residual05_identity05 xval-10</th>\n",
       "      <td>0.912245</td>\n",
       "      <td>0.871536</td>\n",
       "      <td>0.950525</td>\n",
       "      <td>0.850187</td>\n",
       "      <td>0.961472</td>\n",
       "      <td>0.915796</td>\n",
       "      <td>0.863858</td>\n",
       "      <td>0.972342</td>\n",
       "      <td>0.642000</td>\n",
       "      <td>0.528</td>\n",
       "      <td>0.582</td>\n",
       "      <td>0.479</td>\n",
       "      <td>0.815</td>\n",
       "      <td>0.665</td>\n",
       "      <td>0.614</td>\n",
       "      <td>0.811</td>\n",
       "    </tr>\n",
       "    <tr>\n",
       "      <th>Fer2013_filtered_uniform_aug_surprise1000selected_residual05_identity05 xval-10</th>\n",
       "      <td>0.910035</td>\n",
       "      <td>0.875196</td>\n",
       "      <td>0.949495</td>\n",
       "      <td>0.840707</td>\n",
       "      <td>0.960076</td>\n",
       "      <td>0.919953</td>\n",
       "      <td>0.853320</td>\n",
       "      <td>0.971498</td>\n",
       "      <td>0.636714</td>\n",
       "      <td>0.549</td>\n",
       "      <td>0.565</td>\n",
       "      <td>0.467</td>\n",
       "      <td>0.836</td>\n",
       "      <td>0.655</td>\n",
       "      <td>0.577</td>\n",
       "      <td>0.808</td>\n",
       "    </tr>\n",
       "    <tr>\n",
       "      <th>Fer2013_filtered_uniform_aug_surprise1000selected_residual05_identity05 xval-10</th>\n",
       "      <td>0.909452</td>\n",
       "      <td>0.880825</td>\n",
       "      <td>0.943860</td>\n",
       "      <td>0.846498</td>\n",
       "      <td>0.959932</td>\n",
       "      <td>0.910432</td>\n",
       "      <td>0.851163</td>\n",
       "      <td>0.973457</td>\n",
       "      <td>0.630857</td>\n",
       "      <td>0.554</td>\n",
       "      <td>0.561</td>\n",
       "      <td>0.474</td>\n",
       "      <td>0.827</td>\n",
       "      <td>0.631</td>\n",
       "      <td>0.578</td>\n",
       "      <td>0.791</td>\n",
       "    </tr>\n",
       "    <tr>\n",
       "      <th>Fer2013_filtered_uniform_aug_surprise1000selected_residual05_identity05 xval-10</th>\n",
       "      <td>0.909376</td>\n",
       "      <td>0.880874</td>\n",
       "      <td>0.943896</td>\n",
       "      <td>0.844174</td>\n",
       "      <td>0.960939</td>\n",
       "      <td>0.910187</td>\n",
       "      <td>0.851456</td>\n",
       "      <td>0.974108</td>\n",
       "      <td>0.637714</td>\n",
       "      <td>0.573</td>\n",
       "      <td>0.550</td>\n",
       "      <td>0.463</td>\n",
       "      <td>0.821</td>\n",
       "      <td>0.641</td>\n",
       "      <td>0.603</td>\n",
       "      <td>0.813</td>\n",
       "    </tr>\n",
       "    <tr>\n",
       "      <th>Fer2013_filtered_uniform_aug_disgust100_residual05_identity03 xval-10</th>\n",
       "      <td>0.913886</td>\n",
       "      <td>0.884001</td>\n",
       "      <td>0.949463</td>\n",
       "      <td>0.847595</td>\n",
       "      <td>0.960775</td>\n",
       "      <td>0.921398</td>\n",
       "      <td>0.856634</td>\n",
       "      <td>0.977334</td>\n",
       "      <td>0.648286</td>\n",
       "      <td>0.590</td>\n",
       "      <td>0.577</td>\n",
       "      <td>0.492</td>\n",
       "      <td>0.811</td>\n",
       "      <td>0.687</td>\n",
       "      <td>0.571</td>\n",
       "      <td>0.810</td>\n",
       "    </tr>\n",
       "    <tr>\n",
       "      <th>Fer2013_filtered_uniform_aug_disgust100_residual05_identity03 xval-10</th>\n",
       "      <td>0.911496</td>\n",
       "      <td>0.884864</td>\n",
       "      <td>0.943033</td>\n",
       "      <td>0.844009</td>\n",
       "      <td>0.961162</td>\n",
       "      <td>0.919363</td>\n",
       "      <td>0.854122</td>\n",
       "      <td>0.973919</td>\n",
       "      <td>0.641286</td>\n",
       "      <td>0.560</td>\n",
       "      <td>0.594</td>\n",
       "      <td>0.502</td>\n",
       "      <td>0.815</td>\n",
       "      <td>0.662</td>\n",
       "      <td>0.569</td>\n",
       "      <td>0.787</td>\n",
       "    </tr>\n",
       "    <tr>\n",
       "      <th>Fer2013_filtered_uniform_aug_disgust100_residual05_identity03 xval-10</th>\n",
       "      <td>0.915495</td>\n",
       "      <td>0.886123</td>\n",
       "      <td>0.949707</td>\n",
       "      <td>0.855691</td>\n",
       "      <td>0.961600</td>\n",
       "      <td>0.921932</td>\n",
       "      <td>0.857847</td>\n",
       "      <td>0.975567</td>\n",
       "      <td>0.650857</td>\n",
       "      <td>0.561</td>\n",
       "      <td>0.598</td>\n",
       "      <td>0.504</td>\n",
       "      <td>0.823</td>\n",
       "      <td>0.684</td>\n",
       "      <td>0.571</td>\n",
       "      <td>0.815</td>\n",
       "    </tr>\n",
       "    <tr>\n",
       "      <th>Fer2013_filtered_uniform_aug_disgust100_residual05_identity05_late_in005 xval-10</th>\n",
       "      <td>0.911458</td>\n",
       "      <td>0.876319</td>\n",
       "      <td>0.947427</td>\n",
       "      <td>0.848239</td>\n",
       "      <td>0.964142</td>\n",
       "      <td>0.914047</td>\n",
       "      <td>0.854527</td>\n",
       "      <td>0.975505</td>\n",
       "      <td>0.636286</td>\n",
       "      <td>0.563</td>\n",
       "      <td>0.565</td>\n",
       "      <td>0.462</td>\n",
       "      <td>0.819</td>\n",
       "      <td>0.662</td>\n",
       "      <td>0.568</td>\n",
       "      <td>0.815</td>\n",
       "    </tr>\n",
       "    <tr>\n",
       "      <th>Fer2013_filtered_uniform_aug_disgust100_residual05_identity05_late_in005 xval-10</th>\n",
       "      <td>0.914513</td>\n",
       "      <td>0.885387</td>\n",
       "      <td>0.949810</td>\n",
       "      <td>0.849110</td>\n",
       "      <td>0.963531</td>\n",
       "      <td>0.923408</td>\n",
       "      <td>0.855682</td>\n",
       "      <td>0.974666</td>\n",
       "      <td>0.645286</td>\n",
       "      <td>0.585</td>\n",
       "      <td>0.565</td>\n",
       "      <td>0.478</td>\n",
       "      <td>0.837</td>\n",
       "      <td>0.679</td>\n",
       "      <td>0.564</td>\n",
       "      <td>0.809</td>\n",
       "    </tr>\n",
       "    <tr>\n",
       "      <th>Fer2013_filtered_uniform_aug_disgust100_residual05_identity05_late_in005 xval-10</th>\n",
       "      <td>0.913784</td>\n",
       "      <td>0.878688</td>\n",
       "      <td>0.944738</td>\n",
       "      <td>0.845413</td>\n",
       "      <td>0.962750</td>\n",
       "      <td>0.925673</td>\n",
       "      <td>0.862313</td>\n",
       "      <td>0.976917</td>\n",
       "      <td>0.640286</td>\n",
       "      <td>0.546</td>\n",
       "      <td>0.566</td>\n",
       "      <td>0.473</td>\n",
       "      <td>0.812</td>\n",
       "      <td>0.683</td>\n",
       "      <td>0.584</td>\n",
       "      <td>0.818</td>\n",
       "    </tr>\n",
       "  </tbody>\n",
       "</table>\n",
       "</div>"
      ],
      "text/plain": [
       "                                                    mean AUC  angry AUC  \\\n",
       "Fer2013_filtered_uniform xval-10                    0.913137   0.882769   \n",
       "Fer2013_filtered_uniform_aug_disgust100_residua...  0.910634   0.877640   \n",
       "Fer2013_filtered_uniform_aug_disgust100_residua...  0.913648   0.876134   \n",
       "Fer2013_filtered_uniform_aug_disgust100_residua...  0.913458   0.881824   \n",
       "Fer2013_filtered_uniform_aug_disgust100_residua...  0.915024   0.876282   \n",
       "Fer2013_filtered_uniform_aug_disgust100_residua...  0.914427   0.881619   \n",
       "Fer2013_filtered_uniform_aug_disgust100_identit...  0.915294   0.876576   \n",
       "Fer2013_filtered_uniform_aug_disgust100_identit...  0.911934   0.881547   \n",
       "Fer2013_filtered_uniform_aug_disgust100_identit...  0.910994   0.878423   \n",
       "Fer2013_filtered_uniform_aug_disgust100_residua...  0.914170   0.889486   \n",
       "Fer2013_filtered_uniform_aug_disgust100_residua...  0.914464   0.878498   \n",
       "Fer2013_filtered_uniform xval-10                    0.914381   0.879258   \n",
       "Fer2013_filtered_uniform xval-10                    0.911200   0.871695   \n",
       "Fer2013_filtered_uniform_aug_disgust100_residua...  0.914178   0.879924   \n",
       "Fer2013_filtered_uniform_aug_disgust100_residua...  0.910091   0.871675   \n",
       "Fer2013_filtered_uniform_aug_disgust200_residua...  0.911938   0.879127   \n",
       "Fer2013_filtered_uniform_aug_disgust200_residua...  0.915086   0.891808   \n",
       "Fer2013_filtered_uniform_aug_disgust200_residua...  0.910714   0.882841   \n",
       "Fer2013_filtered_uniform_aug_disgust100_residua...  0.913062   0.873278   \n",
       "Fer2013_filtered_uniform_aug_disgust100_residua...  0.912444   0.881952   \n",
       "Fer2013_filtered_uniform_aug_disgust100_resisud...  0.914854   0.883661   \n",
       "Fer2013_filtered_uniform_aug_disgust100_identit...  0.911867   0.878198   \n",
       "Fer2013_filtered_uniform_aug_disgust100_identit...  0.911699   0.877810   \n",
       "Fer2013_filtered_uniform_aug_disgust100_identit...  0.910543   0.875542   \n",
       "Fer2013_filtered_uniform_aug_disgust100_identit...  0.915121   0.880861   \n",
       "Fer2013_filtered_uniform_aug_disgust100_identit...  0.913686   0.880125   \n",
       "Fer2013_filtered_uniform_aug_disgust100_identit...  0.911053   0.878810   \n",
       "Fer2013_filtered_uniform_aug_disgust100_residua...  0.911343   0.876815   \n",
       "Fer2013_filtered_uniform_aug_disgust100_residua...  0.915219   0.881481   \n",
       "Fer2013_filtered_uniform_aug_disgust100_residua...  0.909742   0.878896   \n",
       "Fer2013_filtered_uniform_aug_disgust100_residua...  0.911909   0.879580   \n",
       "Fer2013_filtered_uniform_aug_disgust100_residua...  0.913752   0.879683   \n",
       "Fer2013_filtered_uniform_aug_disgust100_residua...  0.912501   0.869730   \n",
       "Fer2013_filtered_uniform_aug_surprise100_residu...  0.910220   0.873388   \n",
       "Fer2013_filtered_uniform_aug_surprise100_residu...  0.910815   0.876361   \n",
       "Fer2013_filtered_uniform_aug_surprise100_residu...  0.909212   0.872319   \n",
       "Fer2013_filtered_uniform_aug_disgust100_residua...  0.908725   0.873806   \n",
       "Fer2013_filtered_uniform_aug_disgust100_residua...  0.909436   0.875989   \n",
       "Fer2013_filtered_uniform_aug_disgust100_residua...  0.915659   0.878786   \n",
       "Fer2013_filtered_uniform_aug_surprise1000_resid...  0.909863   0.878579   \n",
       "Fer2013_filtered_uniform_aug_surprise1000_resid...  0.910725   0.877727   \n",
       "Fer2013_filtered_uniform_aug_surprise1000_resid...  0.912245   0.871536   \n",
       "Fer2013_filtered_uniform_aug_surprise1000select...  0.910035   0.875196   \n",
       "Fer2013_filtered_uniform_aug_surprise1000select...  0.909452   0.880825   \n",
       "Fer2013_filtered_uniform_aug_surprise1000select...  0.909376   0.880874   \n",
       "Fer2013_filtered_uniform_aug_disgust100_residua...  0.913886   0.884001   \n",
       "Fer2013_filtered_uniform_aug_disgust100_residua...  0.911496   0.884864   \n",
       "Fer2013_filtered_uniform_aug_disgust100_residua...  0.915495   0.886123   \n",
       "Fer2013_filtered_uniform_aug_disgust100_residua...  0.911458   0.876319   \n",
       "Fer2013_filtered_uniform_aug_disgust100_residua...  0.914513   0.885387   \n",
       "Fer2013_filtered_uniform_aug_disgust100_residua...  0.913784   0.878688   \n",
       "\n",
       "                                                    disgust AUC  fear AUC  \\\n",
       "Fer2013_filtered_uniform xval-10                       0.947797  0.845343   \n",
       "Fer2013_filtered_uniform_aug_disgust100_residua...     0.948825  0.844880   \n",
       "Fer2013_filtered_uniform_aug_disgust100_residua...     0.948275  0.856259   \n",
       "Fer2013_filtered_uniform_aug_disgust100_residua...     0.944403  0.851962   \n",
       "Fer2013_filtered_uniform_aug_disgust100_residua...     0.948898  0.850682   \n",
       "Fer2013_filtered_uniform_aug_disgust100_residua...     0.949027  0.857508   \n",
       "Fer2013_filtered_uniform_aug_disgust100_identit...     0.952008  0.851192   \n",
       "Fer2013_filtered_uniform_aug_disgust100_identit...     0.950238  0.844635   \n",
       "Fer2013_filtered_uniform_aug_disgust100_identit...     0.947222  0.852984   \n",
       "Fer2013_filtered_uniform_aug_disgust100_residua...     0.947455  0.849964   \n",
       "Fer2013_filtered_uniform_aug_disgust100_residua...     0.953938  0.851328   \n",
       "Fer2013_filtered_uniform xval-10                       0.950218  0.846412   \n",
       "Fer2013_filtered_uniform xval-10                       0.946988  0.854422   \n",
       "Fer2013_filtered_uniform_aug_disgust100_residua...     0.953368  0.848205   \n",
       "Fer2013_filtered_uniform_aug_disgust100_residua...     0.947948  0.839583   \n",
       "Fer2013_filtered_uniform_aug_disgust200_residua...     0.943203  0.854557   \n",
       "Fer2013_filtered_uniform_aug_disgust200_residua...     0.943340  0.845947   \n",
       "Fer2013_filtered_uniform_aug_disgust200_residua...     0.941868  0.847588   \n",
       "Fer2013_filtered_uniform_aug_disgust100_residua...     0.948582  0.850750   \n",
       "Fer2013_filtered_uniform_aug_disgust100_residua...     0.942338  0.854015   \n",
       "Fer2013_filtered_uniform_aug_disgust100_resisud...     0.947233  0.843760   \n",
       "Fer2013_filtered_uniform_aug_disgust100_identit...     0.942283  0.849933   \n",
       "Fer2013_filtered_uniform_aug_disgust100_identit...     0.945560  0.854055   \n",
       "Fer2013_filtered_uniform_aug_disgust100_identit...     0.947010  0.846450   \n",
       "Fer2013_filtered_uniform_aug_disgust100_identit...     0.954353  0.844516   \n",
       "Fer2013_filtered_uniform_aug_disgust100_identit...     0.953922  0.854801   \n",
       "Fer2013_filtered_uniform_aug_disgust100_identit...     0.953173  0.846325   \n",
       "Fer2013_filtered_uniform_aug_disgust100_residua...     0.945248  0.843721   \n",
       "Fer2013_filtered_uniform_aug_disgust100_residua...     0.945537  0.855107   \n",
       "Fer2013_filtered_uniform_aug_disgust100_residua...     0.945230  0.842424   \n",
       "Fer2013_filtered_uniform_aug_disgust100_residua...     0.945183  0.846008   \n",
       "Fer2013_filtered_uniform_aug_disgust100_residua...     0.944340  0.853474   \n",
       "Fer2013_filtered_uniform_aug_disgust100_residua...     0.951838  0.852397   \n",
       "Fer2013_filtered_uniform_aug_surprise100_residu...     0.945757  0.850629   \n",
       "Fer2013_filtered_uniform_aug_surprise100_residu...     0.944985  0.845678   \n",
       "Fer2013_filtered_uniform_aug_surprise100_residu...     0.945893  0.836523   \n",
       "Fer2013_filtered_uniform_aug_disgust100_residua...     0.941975  0.832474   \n",
       "Fer2013_filtered_uniform_aug_disgust100_residua...     0.944572  0.847388   \n",
       "Fer2013_filtered_uniform_aug_disgust100_residua...     0.953367  0.852685   \n",
       "Fer2013_filtered_uniform_aug_surprise1000_resid...     0.942483  0.841173   \n",
       "Fer2013_filtered_uniform_aug_surprise1000_resid...     0.949430  0.846831   \n",
       "Fer2013_filtered_uniform_aug_surprise1000_resid...     0.950525  0.850187   \n",
       "Fer2013_filtered_uniform_aug_surprise1000select...     0.949495  0.840707   \n",
       "Fer2013_filtered_uniform_aug_surprise1000select...     0.943860  0.846498   \n",
       "Fer2013_filtered_uniform_aug_surprise1000select...     0.943896  0.844174   \n",
       "Fer2013_filtered_uniform_aug_disgust100_residua...     0.949463  0.847595   \n",
       "Fer2013_filtered_uniform_aug_disgust100_residua...     0.943033  0.844009   \n",
       "Fer2013_filtered_uniform_aug_disgust100_residua...     0.949707  0.855691   \n",
       "Fer2013_filtered_uniform_aug_disgust100_residua...     0.947427  0.848239   \n",
       "Fer2013_filtered_uniform_aug_disgust100_residua...     0.949810  0.849110   \n",
       "Fer2013_filtered_uniform_aug_disgust100_residua...     0.944738  0.845413   \n",
       "\n",
       "                                                    happy AUC  neautral AUC  \\\n",
       "Fer2013_filtered_uniform xval-10                     0.964072      0.922568   \n",
       "Fer2013_filtered_uniform_aug_disgust100_residua...   0.963346      0.915373   \n",
       "Fer2013_filtered_uniform_aug_disgust100_residua...   0.963064      0.920421   \n",
       "Fer2013_filtered_uniform_aug_disgust100_residua...   0.963165      0.919623   \n",
       "Fer2013_filtered_uniform_aug_disgust100_residua...   0.965239      0.923594   \n",
       "Fer2013_filtered_uniform_aug_disgust100_residua...   0.963788      0.916292   \n",
       "Fer2013_filtered_uniform_aug_disgust100_identit...   0.963053      0.923192   \n",
       "Fer2013_filtered_uniform_aug_disgust100_identit...   0.960252      0.917508   \n",
       "Fer2013_filtered_uniform_aug_disgust100_identit...   0.961429      0.912841   \n",
       "Fer2013_filtered_uniform_aug_disgust100_residua...   0.963292      0.917965   \n",
       "Fer2013_filtered_uniform_aug_disgust100_residua...   0.965696      0.919801   \n",
       "Fer2013_filtered_uniform xval-10                     0.966658      0.924275   \n",
       "Fer2013_filtered_uniform xval-10                     0.959406      0.916182   \n",
       "Fer2013_filtered_uniform_aug_disgust100_residua...   0.963971      0.919146   \n",
       "Fer2013_filtered_uniform_aug_disgust100_residua...   0.962295      0.917501   \n",
       "Fer2013_filtered_uniform_aug_disgust200_residua...   0.961367      0.916866   \n",
       "Fer2013_filtered_uniform_aug_disgust200_residua...   0.965096      0.918108   \n",
       "Fer2013_filtered_uniform_aug_disgust200_residua...   0.960477      0.913739   \n",
       "Fer2013_filtered_uniform_aug_disgust100_residua...   0.965934      0.919406   \n",
       "Fer2013_filtered_uniform_aug_disgust100_residua...   0.963248      0.915849   \n",
       "Fer2013_filtered_uniform_aug_disgust100_resisud...   0.965465      0.924010   \n",
       "Fer2013_filtered_uniform_aug_disgust100_identit...   0.964438      0.919130   \n",
       "Fer2013_filtered_uniform_aug_disgust100_identit...   0.963354      0.915940   \n",
       "Fer2013_filtered_uniform_aug_disgust100_identit...   0.962219      0.916484   \n",
       "Fer2013_filtered_uniform_aug_disgust100_identit...   0.963356      0.917976   \n",
       "Fer2013_filtered_uniform_aug_disgust100_identit...   0.963232      0.914302   \n",
       "Fer2013_filtered_uniform_aug_disgust100_identit...   0.962533      0.912112   \n",
       "Fer2013_filtered_uniform_aug_disgust100_residua...   0.963858      0.917198   \n",
       "Fer2013_filtered_uniform_aug_disgust100_residua...   0.965324      0.923231   \n",
       "Fer2013_filtered_uniform_aug_disgust100_residua...   0.963190      0.913098   \n",
       "Fer2013_filtered_uniform_aug_disgust100_residua...   0.964723      0.920014   \n",
       "Fer2013_filtered_uniform_aug_disgust100_residua...   0.966297      0.918256   \n",
       "Fer2013_filtered_uniform_aug_disgust100_residua...   0.961178      0.919172   \n",
       "Fer2013_filtered_uniform_aug_surprise100_residu...   0.959014      0.915828   \n",
       "Fer2013_filtered_uniform_aug_surprise100_residu...   0.961329      0.918685   \n",
       "Fer2013_filtered_uniform_aug_surprise100_residu...   0.962504      0.919319   \n",
       "Fer2013_filtered_uniform_aug_disgust100_residua...   0.959896      0.918168   \n",
       "Fer2013_filtered_uniform_aug_disgust100_residua...   0.960854      0.910368   \n",
       "Fer2013_filtered_uniform_aug_disgust100_residua...   0.964613      0.921157   \n",
       "Fer2013_filtered_uniform_aug_surprise1000_resid...   0.961132      0.917946   \n",
       "Fer2013_filtered_uniform_aug_surprise1000_resid...   0.961463      0.915561   \n",
       "Fer2013_filtered_uniform_aug_surprise1000_resid...   0.961472      0.915796   \n",
       "Fer2013_filtered_uniform_aug_surprise1000select...   0.960076      0.919953   \n",
       "Fer2013_filtered_uniform_aug_surprise1000select...   0.959932      0.910432   \n",
       "Fer2013_filtered_uniform_aug_surprise1000select...   0.960939      0.910187   \n",
       "Fer2013_filtered_uniform_aug_disgust100_residua...   0.960775      0.921398   \n",
       "Fer2013_filtered_uniform_aug_disgust100_residua...   0.961162      0.919363   \n",
       "Fer2013_filtered_uniform_aug_disgust100_residua...   0.961600      0.921932   \n",
       "Fer2013_filtered_uniform_aug_disgust100_residua...   0.964142      0.914047   \n",
       "Fer2013_filtered_uniform_aug_disgust100_residua...   0.963531      0.923408   \n",
       "Fer2013_filtered_uniform_aug_disgust100_residua...   0.962750      0.925673   \n",
       "\n",
       "                                                     sad AUC  surprise AUC  \\\n",
       "Fer2013_filtered_uniform xval-10                    0.854387      0.975025   \n",
       "Fer2013_filtered_uniform_aug_disgust100_residua...  0.848816      0.975559   \n",
       "Fer2013_filtered_uniform_aug_disgust100_residua...  0.857468      0.973912   \n",
       "Fer2013_filtered_uniform_aug_disgust100_residua...  0.855662      0.977569   \n",
       "Fer2013_filtered_uniform_aug_disgust100_residua...  0.863687      0.976787   \n",
       "Fer2013_filtered_uniform_aug_disgust100_residua...  0.859655      0.973098   \n",
       "Fer2013_filtered_uniform_aug_disgust100_identit...  0.862476      0.978560   \n",
       "Fer2013_filtered_uniform_aug_disgust100_identit...  0.853189      0.976167   \n",
       "Fer2013_filtered_uniform_aug_disgust100_identit...  0.850608      0.973453   \n",
       "Fer2013_filtered_uniform_aug_disgust100_residua...  0.856163      0.974864   \n",
       "Fer2013_filtered_uniform_aug_disgust100_residua...  0.854846      0.977138   \n",
       "Fer2013_filtered_uniform xval-10                    0.859469      0.974378   \n",
       "Fer2013_filtered_uniform xval-10                    0.855532      0.974173   \n",
       "Fer2013_filtered_uniform_aug_disgust100_residua...  0.859974      0.974657   \n",
       "Fer2013_filtered_uniform_aug_disgust100_residua...  0.854655      0.976978   \n",
       "Fer2013_filtered_uniform_aug_disgust200_residua...  0.853707      0.974738   \n",
       "Fer2013_filtered_uniform_aug_disgust200_residua...  0.865717      0.975588   \n",
       "Fer2013_filtered_uniform_aug_disgust200_residua...  0.854942      0.973542   \n",
       "Fer2013_filtered_uniform_aug_disgust100_residua...  0.859143      0.974344   \n",
       "Fer2013_filtered_uniform_aug_disgust100_residua...  0.853721      0.975982   \n",
       "Fer2013_filtered_uniform_aug_disgust100_resisud...  0.865355      0.974494   \n",
       "Fer2013_filtered_uniform_aug_disgust100_identit...  0.856001      0.973087   \n",
       "Fer2013_filtered_uniform_aug_disgust100_identit...  0.849497      0.975677   \n",
       "Fer2013_filtered_uniform_aug_disgust100_identit...  0.851853      0.974244   \n",
       "Fer2013_filtered_uniform_aug_disgust100_identit...  0.865387      0.979400   \n",
       "Fer2013_filtered_uniform_aug_disgust100_identit...  0.854207      0.975217   \n",
       "Fer2013_filtered_uniform_aug_disgust100_identit...  0.850128      0.974292   \n",
       "Fer2013_filtered_uniform_aug_disgust100_residua...  0.857880      0.974677   \n",
       "Fer2013_filtered_uniform_aug_disgust100_residua...  0.859734      0.976118   \n",
       "Fer2013_filtered_uniform_aug_disgust100_residua...  0.851973      0.973384   \n",
       "Fer2013_filtered_uniform_aug_disgust100_residua...  0.850127      0.977727   \n",
       "Fer2013_filtered_uniform_aug_disgust100_residua...  0.862022      0.972192   \n",
       "Fer2013_filtered_uniform_aug_disgust100_residua...  0.859343      0.973851   \n",
       "Fer2013_filtered_uniform_aug_surprise100_residu...  0.852598      0.974329   \n",
       "Fer2013_filtered_uniform_aug_surprise100_residu...  0.855305      0.973363   \n",
       "Fer2013_filtered_uniform_aug_surprise100_residu...  0.856182      0.971740   \n",
       "Fer2013_filtered_uniform_aug_disgust100_residua...  0.859574      0.975185   \n",
       "Fer2013_filtered_uniform_aug_disgust100_residua...  0.850389      0.976491   \n",
       "Fer2013_filtered_uniform_aug_disgust100_residua...  0.864861      0.974146   \n",
       "Fer2013_filtered_uniform_aug_surprise1000_resid...  0.855154      0.972573   \n",
       "Fer2013_filtered_uniform_aug_surprise1000_resid...  0.852301      0.971760   \n",
       "Fer2013_filtered_uniform_aug_surprise1000_resid...  0.863858      0.972342   \n",
       "Fer2013_filtered_uniform_aug_surprise1000select...  0.853320      0.971498   \n",
       "Fer2013_filtered_uniform_aug_surprise1000select...  0.851163      0.973457   \n",
       "Fer2013_filtered_uniform_aug_surprise1000select...  0.851456      0.974108   \n",
       "Fer2013_filtered_uniform_aug_disgust100_residua...  0.856634      0.977334   \n",
       "Fer2013_filtered_uniform_aug_disgust100_residua...  0.854122      0.973919   \n",
       "Fer2013_filtered_uniform_aug_disgust100_residua...  0.857847      0.975567   \n",
       "Fer2013_filtered_uniform_aug_disgust100_residua...  0.854527      0.975505   \n",
       "Fer2013_filtered_uniform_aug_disgust100_residua...  0.855682      0.974666   \n",
       "Fer2013_filtered_uniform_aug_disgust100_residua...  0.862313      0.976917   \n",
       "\n",
       "                                                    mean PREC  angry PREC  \\\n",
       "Fer2013_filtered_uniform xval-10                     0.637857       0.544   \n",
       "Fer2013_filtered_uniform_aug_disgust100_residua...   0.639000       0.564   \n",
       "Fer2013_filtered_uniform_aug_disgust100_residua...   0.636286       0.546   \n",
       "Fer2013_filtered_uniform_aug_disgust100_residua...   0.639000       0.549   \n",
       "Fer2013_filtered_uniform_aug_disgust100_residua...   0.643857       0.572   \n",
       "Fer2013_filtered_uniform_aug_disgust100_residua...   0.647286       0.557   \n",
       "Fer2013_filtered_uniform_aug_disgust100_identit...   0.645429       0.542   \n",
       "Fer2013_filtered_uniform_aug_disgust100_identit...   0.638714       0.569   \n",
       "Fer2013_filtered_uniform_aug_disgust100_identit...   0.636286       0.548   \n",
       "Fer2013_filtered_uniform_aug_disgust100_residua...   0.641000       0.564   \n",
       "Fer2013_filtered_uniform_aug_disgust100_residua...   0.647143       0.582   \n",
       "Fer2013_filtered_uniform xval-10                     0.641857       0.569   \n",
       "Fer2013_filtered_uniform xval-10                     0.636286       0.560   \n",
       "Fer2013_filtered_uniform_aug_disgust100_residua...   0.642429       0.558   \n",
       "Fer2013_filtered_uniform_aug_disgust100_residua...   0.634286       0.562   \n",
       "Fer2013_filtered_uniform_aug_disgust200_residua...   0.643000       0.562   \n",
       "Fer2013_filtered_uniform_aug_disgust200_residua...   0.648857       0.583   \n",
       "Fer2013_filtered_uniform_aug_disgust200_residua...   0.634857       0.565   \n",
       "Fer2013_filtered_uniform_aug_disgust100_residua...   0.636857       0.536   \n",
       "Fer2013_filtered_uniform_aug_disgust100_residua...   0.644714       0.561   \n",
       "Fer2013_filtered_uniform_aug_disgust100_resisud...   0.646857       0.598   \n",
       "Fer2013_filtered_uniform_aug_disgust100_identit...   0.640857       0.564   \n",
       "Fer2013_filtered_uniform_aug_disgust100_identit...   0.639429       0.550   \n",
       "Fer2013_filtered_uniform_aug_disgust100_identit...   0.637429       0.549   \n",
       "Fer2013_filtered_uniform_aug_disgust100_identit...   0.643286       0.573   \n",
       "Fer2013_filtered_uniform_aug_disgust100_identit...   0.637000       0.549   \n",
       "Fer2013_filtered_uniform_aug_disgust100_identit...   0.628857       0.542   \n",
       "Fer2013_filtered_uniform_aug_disgust100_residua...   0.637429       0.552   \n",
       "Fer2013_filtered_uniform_aug_disgust100_residua...   0.646714       0.570   \n",
       "Fer2013_filtered_uniform_aug_disgust100_residua...   0.632286       0.563   \n",
       "Fer2013_filtered_uniform_aug_disgust100_residua...   0.637857       0.555   \n",
       "Fer2013_filtered_uniform_aug_disgust100_residua...   0.642143       0.551   \n",
       "Fer2013_filtered_uniform_aug_disgust100_residua...   0.639857       0.535   \n",
       "Fer2013_filtered_uniform_aug_surprise100_residu...   0.637714       0.529   \n",
       "Fer2013_filtered_uniform_aug_surprise100_residu...   0.641143       0.521   \n",
       "Fer2013_filtered_uniform_aug_surprise100_residu...   0.637857       0.542   \n",
       "Fer2013_filtered_uniform_aug_disgust100_residua...   0.635429       0.554   \n",
       "Fer2013_filtered_uniform_aug_disgust100_residua...   0.627857       0.529   \n",
       "Fer2013_filtered_uniform_aug_disgust100_residua...   0.646286       0.562   \n",
       "Fer2013_filtered_uniform_aug_surprise1000_resid...   0.639000       0.560   \n",
       "Fer2013_filtered_uniform_aug_surprise1000_resid...   0.637714       0.538   \n",
       "Fer2013_filtered_uniform_aug_surprise1000_resid...   0.642000       0.528   \n",
       "Fer2013_filtered_uniform_aug_surprise1000select...   0.636714       0.549   \n",
       "Fer2013_filtered_uniform_aug_surprise1000select...   0.630857       0.554   \n",
       "Fer2013_filtered_uniform_aug_surprise1000select...   0.637714       0.573   \n",
       "Fer2013_filtered_uniform_aug_disgust100_residua...   0.648286       0.590   \n",
       "Fer2013_filtered_uniform_aug_disgust100_residua...   0.641286       0.560   \n",
       "Fer2013_filtered_uniform_aug_disgust100_residua...   0.650857       0.561   \n",
       "Fer2013_filtered_uniform_aug_disgust100_residua...   0.636286       0.563   \n",
       "Fer2013_filtered_uniform_aug_disgust100_residua...   0.645286       0.585   \n",
       "Fer2013_filtered_uniform_aug_disgust100_residua...   0.640286       0.546   \n",
       "\n",
       "                                                    disgust PREC  fear PREC  \\\n",
       "Fer2013_filtered_uniform xval-10                           0.535      0.487   \n",
       "Fer2013_filtered_uniform_aug_disgust100_residua...         0.572      0.471   \n",
       "Fer2013_filtered_uniform_aug_disgust100_residua...         0.573      0.476   \n",
       "Fer2013_filtered_uniform_aug_disgust100_residua...         0.585      0.461   \n",
       "Fer2013_filtered_uniform_aug_disgust100_residua...         0.606      0.475   \n",
       "Fer2013_filtered_uniform_aug_disgust100_residua...         0.596      0.472   \n",
       "Fer2013_filtered_uniform_aug_disgust100_identit...         0.579      0.481   \n",
       "Fer2013_filtered_uniform_aug_disgust100_identit...         0.566      0.471   \n",
       "Fer2013_filtered_uniform_aug_disgust100_identit...         0.576      0.473   \n",
       "Fer2013_filtered_uniform_aug_disgust100_residua...         0.594      0.473   \n",
       "Fer2013_filtered_uniform_aug_disgust100_residua...         0.558      0.472   \n",
       "Fer2013_filtered_uniform xval-10                           0.547      0.486   \n",
       "Fer2013_filtered_uniform xval-10                           0.546      0.478   \n",
       "Fer2013_filtered_uniform_aug_disgust100_residua...         0.589      0.457   \n",
       "Fer2013_filtered_uniform_aug_disgust100_residua...         0.558      0.464   \n",
       "Fer2013_filtered_uniform_aug_disgust200_residua...         0.568      0.478   \n",
       "Fer2013_filtered_uniform_aug_disgust200_residua...         0.597      0.498   \n",
       "Fer2013_filtered_uniform_aug_disgust200_residua...         0.575      0.481   \n",
       "Fer2013_filtered_uniform_aug_disgust100_residua...         0.579      0.486   \n",
       "Fer2013_filtered_uniform_aug_disgust100_residua...         0.566      0.480   \n",
       "Fer2013_filtered_uniform_aug_disgust100_resisud...         0.579      0.472   \n",
       "Fer2013_filtered_uniform_aug_disgust100_identit...         0.578      0.481   \n",
       "Fer2013_filtered_uniform_aug_disgust100_identit...         0.591      0.461   \n",
       "Fer2013_filtered_uniform_aug_disgust100_identit...         0.585      0.482   \n",
       "Fer2013_filtered_uniform_aug_disgust100_identit...         0.566      0.466   \n",
       "Fer2013_filtered_uniform_aug_disgust100_identit...         0.579      0.476   \n",
       "Fer2013_filtered_uniform_aug_disgust100_identit...         0.581      0.447   \n",
       "Fer2013_filtered_uniform_aug_disgust100_residua...         0.565      0.470   \n",
       "Fer2013_filtered_uniform_aug_disgust100_residua...         0.559      0.497   \n",
       "Fer2013_filtered_uniform_aug_disgust100_residua...         0.546      0.465   \n",
       "Fer2013_filtered_uniform_aug_disgust100_residua...         0.549      0.474   \n",
       "Fer2013_filtered_uniform_aug_disgust100_residua...         0.562      0.477   \n",
       "Fer2013_filtered_uniform_aug_disgust100_residua...         0.604      0.455   \n",
       "Fer2013_filtered_uniform_aug_surprise100_residu...         0.559      0.504   \n",
       "Fer2013_filtered_uniform_aug_surprise100_residu...         0.592      0.501   \n",
       "Fer2013_filtered_uniform_aug_surprise100_residu...         0.597      0.476   \n",
       "Fer2013_filtered_uniform_aug_disgust100_residua...         0.569      0.461   \n",
       "Fer2013_filtered_uniform_aug_disgust100_residua...         0.557      0.479   \n",
       "Fer2013_filtered_uniform_aug_disgust100_residua...         0.578      0.485   \n",
       "Fer2013_filtered_uniform_aug_surprise1000_resid...         0.546      0.456   \n",
       "Fer2013_filtered_uniform_aug_surprise1000_resid...         0.580      0.471   \n",
       "Fer2013_filtered_uniform_aug_surprise1000_resid...         0.582      0.479   \n",
       "Fer2013_filtered_uniform_aug_surprise1000select...         0.565      0.467   \n",
       "Fer2013_filtered_uniform_aug_surprise1000select...         0.561      0.474   \n",
       "Fer2013_filtered_uniform_aug_surprise1000select...         0.550      0.463   \n",
       "Fer2013_filtered_uniform_aug_disgust100_residua...         0.577      0.492   \n",
       "Fer2013_filtered_uniform_aug_disgust100_residua...         0.594      0.502   \n",
       "Fer2013_filtered_uniform_aug_disgust100_residua...         0.598      0.504   \n",
       "Fer2013_filtered_uniform_aug_disgust100_residua...         0.565      0.462   \n",
       "Fer2013_filtered_uniform_aug_disgust100_residua...         0.565      0.478   \n",
       "Fer2013_filtered_uniform_aug_disgust100_residua...         0.566      0.473   \n",
       "\n",
       "                                                    happy PREC  neautral PREC  \\\n",
       "Fer2013_filtered_uniform xval-10                         0.837          0.657   \n",
       "Fer2013_filtered_uniform_aug_disgust100_residua...       0.835          0.645   \n",
       "Fer2013_filtered_uniform_aug_disgust100_residua...       0.827          0.657   \n",
       "Fer2013_filtered_uniform_aug_disgust100_residua...       0.828          0.639   \n",
       "Fer2013_filtered_uniform_aug_disgust100_residua...       0.827          0.646   \n",
       "Fer2013_filtered_uniform_aug_disgust100_residua...       0.831          0.669   \n",
       "Fer2013_filtered_uniform_aug_disgust100_identit...       0.840          0.683   \n",
       "Fer2013_filtered_uniform_aug_disgust100_identit...       0.814          0.658   \n",
       "Fer2013_filtered_uniform_aug_disgust100_identit...       0.831          0.667   \n",
       "Fer2013_filtered_uniform_aug_disgust100_residua...       0.815          0.641   \n",
       "Fer2013_filtered_uniform_aug_disgust100_residua...       0.836          0.668   \n",
       "Fer2013_filtered_uniform xval-10                         0.846          0.657   \n",
       "Fer2013_filtered_uniform xval-10                         0.811          0.670   \n",
       "Fer2013_filtered_uniform_aug_disgust100_residua...       0.831          0.657   \n",
       "Fer2013_filtered_uniform_aug_disgust100_residua...       0.830          0.643   \n",
       "Fer2013_filtered_uniform_aug_disgust200_residua...       0.820          0.662   \n",
       "Fer2013_filtered_uniform_aug_disgust200_residua...       0.822          0.632   \n",
       "Fer2013_filtered_uniform_aug_disgust200_residua...       0.812          0.640   \n",
       "Fer2013_filtered_uniform_aug_disgust100_residua...       0.827          0.641   \n",
       "Fer2013_filtered_uniform_aug_disgust100_residua...       0.854          0.662   \n",
       "Fer2013_filtered_uniform_aug_disgust100_resisud...       0.828          0.660   \n",
       "Fer2013_filtered_uniform_aug_disgust100_identit...       0.841          0.662   \n",
       "Fer2013_filtered_uniform_aug_disgust100_identit...       0.834          0.659   \n",
       "Fer2013_filtered_uniform_aug_disgust100_identit...       0.814          0.652   \n",
       "Fer2013_filtered_uniform_aug_disgust100_identit...       0.818          0.646   \n",
       "Fer2013_filtered_uniform_aug_disgust100_identit...       0.810          0.654   \n",
       "Fer2013_filtered_uniform_aug_disgust100_identit...       0.817          0.653   \n",
       "Fer2013_filtered_uniform_aug_disgust100_residua...       0.826          0.661   \n",
       "Fer2013_filtered_uniform_aug_disgust100_residua...       0.822          0.647   \n",
       "Fer2013_filtered_uniform_aug_disgust100_residua...       0.823          0.657   \n",
       "Fer2013_filtered_uniform_aug_disgust100_residua...       0.832          0.662   \n",
       "Fer2013_filtered_uniform_aug_disgust100_residua...       0.838          0.646   \n",
       "Fer2013_filtered_uniform_aug_disgust100_residua...       0.815          0.670   \n",
       "Fer2013_filtered_uniform_aug_surprise100_residu...       0.822          0.656   \n",
       "Fer2013_filtered_uniform_aug_surprise100_residu...       0.833          0.656   \n",
       "Fer2013_filtered_uniform_aug_surprise100_residu...       0.809          0.678   \n",
       "Fer2013_filtered_uniform_aug_disgust100_residua...       0.810          0.646   \n",
       "Fer2013_filtered_uniform_aug_disgust100_residua...       0.817          0.640   \n",
       "Fer2013_filtered_uniform_aug_disgust100_residua...       0.831          0.667   \n",
       "Fer2013_filtered_uniform_aug_surprise1000_resid...       0.830          0.656   \n",
       "Fer2013_filtered_uniform_aug_surprise1000_resid...       0.822          0.651   \n",
       "Fer2013_filtered_uniform_aug_surprise1000_resid...       0.815          0.665   \n",
       "Fer2013_filtered_uniform_aug_surprise1000select...       0.836          0.655   \n",
       "Fer2013_filtered_uniform_aug_surprise1000select...       0.827          0.631   \n",
       "Fer2013_filtered_uniform_aug_surprise1000select...       0.821          0.641   \n",
       "Fer2013_filtered_uniform_aug_disgust100_residua...       0.811          0.687   \n",
       "Fer2013_filtered_uniform_aug_disgust100_residua...       0.815          0.662   \n",
       "Fer2013_filtered_uniform_aug_disgust100_residua...       0.823          0.684   \n",
       "Fer2013_filtered_uniform_aug_disgust100_residua...       0.819          0.662   \n",
       "Fer2013_filtered_uniform_aug_disgust100_residua...       0.837          0.679   \n",
       "Fer2013_filtered_uniform_aug_disgust100_residua...       0.812          0.683   \n",
       "\n",
       "                                                    sad PREC  surprise PREC  \n",
       "Fer2013_filtered_uniform xval-10                       0.594          0.811  \n",
       "Fer2013_filtered_uniform_aug_disgust100_residua...     0.564          0.822  \n",
       "Fer2013_filtered_uniform_aug_disgust100_residua...     0.583          0.792  \n",
       "Fer2013_filtered_uniform_aug_disgust100_residua...     0.587          0.824  \n",
       "Fer2013_filtered_uniform_aug_disgust100_residua...     0.571          0.810  \n",
       "Fer2013_filtered_uniform_aug_disgust100_residua...     0.596          0.810  \n",
       "Fer2013_filtered_uniform_aug_disgust100_identit...     0.578          0.815  \n",
       "Fer2013_filtered_uniform_aug_disgust100_identit...     0.577          0.816  \n",
       "Fer2013_filtered_uniform_aug_disgust100_identit...     0.554          0.805  \n",
       "Fer2013_filtered_uniform_aug_disgust100_residua...     0.588          0.812  \n",
       "Fer2013_filtered_uniform_aug_disgust100_residua...     0.593          0.821  \n",
       "Fer2013_filtered_uniform xval-10                       0.602          0.786  \n",
       "Fer2013_filtered_uniform xval-10                       0.585          0.804  \n",
       "Fer2013_filtered_uniform_aug_disgust100_residua...     0.585          0.820  \n",
       "Fer2013_filtered_uniform_aug_disgust100_residua...     0.568          0.815  \n",
       "Fer2013_filtered_uniform_aug_disgust200_residua...     0.596          0.815  \n",
       "Fer2013_filtered_uniform_aug_disgust200_residua...     0.591          0.819  \n",
       "Fer2013_filtered_uniform_aug_disgust200_residua...     0.567          0.804  \n",
       "Fer2013_filtered_uniform_aug_disgust100_residua...     0.588          0.801  \n",
       "Fer2013_filtered_uniform_aug_disgust100_residua...     0.570          0.820  \n",
       "Fer2013_filtered_uniform_aug_disgust100_resisud...     0.584          0.807  \n",
       "Fer2013_filtered_uniform_aug_disgust100_identit...     0.570          0.790  \n",
       "Fer2013_filtered_uniform_aug_disgust100_identit...     0.582          0.799  \n",
       "Fer2013_filtered_uniform_aug_disgust100_identit...     0.574          0.806  \n",
       "Fer2013_filtered_uniform_aug_disgust100_identit...     0.607          0.827  \n",
       "Fer2013_filtered_uniform_aug_disgust100_identit...     0.571          0.820  \n",
       "Fer2013_filtered_uniform_aug_disgust100_identit...     0.564          0.798  \n",
       "Fer2013_filtered_uniform_aug_disgust100_residua...     0.582          0.806  \n",
       "Fer2013_filtered_uniform_aug_disgust100_residua...     0.607          0.825  \n",
       "Fer2013_filtered_uniform_aug_disgust100_residua...     0.574          0.798  \n",
       "Fer2013_filtered_uniform_aug_disgust100_residua...     0.571          0.822  \n",
       "Fer2013_filtered_uniform_aug_disgust100_residua...     0.602          0.819  \n",
       "Fer2013_filtered_uniform_aug_disgust100_residua...     0.594          0.806  \n",
       "Fer2013_filtered_uniform_aug_surprise100_residu...     0.586          0.808  \n",
       "Fer2013_filtered_uniform_aug_surprise100_residu...     0.575          0.810  \n",
       "Fer2013_filtered_uniform_aug_surprise100_residu...     0.551          0.812  \n",
       "Fer2013_filtered_uniform_aug_disgust100_residua...     0.604          0.804  \n",
       "Fer2013_filtered_uniform_aug_disgust100_residua...     0.565          0.808  \n",
       "Fer2013_filtered_uniform_aug_disgust100_residua...     0.593          0.808  \n",
       "Fer2013_filtered_uniform_aug_surprise1000_resid...     0.600          0.825  \n",
       "Fer2013_filtered_uniform_aug_surprise1000_resid...     0.572          0.830  \n",
       "Fer2013_filtered_uniform_aug_surprise1000_resid...     0.614          0.811  \n",
       "Fer2013_filtered_uniform_aug_surprise1000select...     0.577          0.808  \n",
       "Fer2013_filtered_uniform_aug_surprise1000select...     0.578          0.791  \n",
       "Fer2013_filtered_uniform_aug_surprise1000select...     0.603          0.813  \n",
       "Fer2013_filtered_uniform_aug_disgust100_residua...     0.571          0.810  \n",
       "Fer2013_filtered_uniform_aug_disgust100_residua...     0.569          0.787  \n",
       "Fer2013_filtered_uniform_aug_disgust100_residua...     0.571          0.815  \n",
       "Fer2013_filtered_uniform_aug_disgust100_residua...     0.568          0.815  \n",
       "Fer2013_filtered_uniform_aug_disgust100_residua...     0.564          0.809  \n",
       "Fer2013_filtered_uniform_aug_disgust100_residua...     0.584          0.818  "
      ]
     },
     "execution_count": 26,
     "metadata": {},
     "output_type": "execute_result"
    }
   ],
   "source": [
    "try:\n",
    "    stored_df = pd.read_csv(os.path.join(metrics_directory, metrics_name),index_col=0)\n",
    "except FileNotFoundError:\n",
    "    stored_df = pd.DataFrame(columns = columns)\n",
    "stored_df"
   ]
  },
  {
   "cell_type": "code",
   "execution_count": 27,
   "id": "417b7565",
   "metadata": {},
   "outputs": [
    {
     "data": {
      "text/html": [
       "<div>\n",
       "<style scoped>\n",
       "    .dataframe tbody tr th:only-of-type {\n",
       "        vertical-align: middle;\n",
       "    }\n",
       "\n",
       "    .dataframe tbody tr th {\n",
       "        vertical-align: top;\n",
       "    }\n",
       "\n",
       "    .dataframe thead th {\n",
       "        text-align: right;\n",
       "    }\n",
       "</style>\n",
       "<table border=\"1\" class=\"dataframe\">\n",
       "  <thead>\n",
       "    <tr style=\"text-align: right;\">\n",
       "      <th></th>\n",
       "      <th>mean AUC</th>\n",
       "      <th>angry AUC</th>\n",
       "      <th>disgust AUC</th>\n",
       "      <th>fear AUC</th>\n",
       "      <th>happy AUC</th>\n",
       "      <th>neautral AUC</th>\n",
       "      <th>sad AUC</th>\n",
       "      <th>surprise AUC</th>\n",
       "      <th>mean PREC</th>\n",
       "      <th>angry PREC</th>\n",
       "      <th>...</th>\n",
       "      <th>sad PREC</th>\n",
       "      <th>surprise PREC</th>\n",
       "      <th>mean ACC</th>\n",
       "      <th>angry ACC</th>\n",
       "      <th>disgust ACC</th>\n",
       "      <th>fear ACC</th>\n",
       "      <th>happy ACC</th>\n",
       "      <th>neautral ACC</th>\n",
       "      <th>sad ACC</th>\n",
       "      <th>surprise ACC</th>\n",
       "    </tr>\n",
       "  </thead>\n",
       "  <tbody>\n",
       "    <tr>\n",
       "      <th>Fer2013_filtered_uniform xval-10</th>\n",
       "      <td>0.913137</td>\n",
       "      <td>0.882769</td>\n",
       "      <td>0.947797</td>\n",
       "      <td>0.845343</td>\n",
       "      <td>0.964072</td>\n",
       "      <td>0.922568</td>\n",
       "      <td>0.854387</td>\n",
       "      <td>0.975025</td>\n",
       "      <td>0.637857</td>\n",
       "      <td>0.544</td>\n",
       "      <td>...</td>\n",
       "      <td>0.594</td>\n",
       "      <td>0.811</td>\n",
       "      <td>NaN</td>\n",
       "      <td>NaN</td>\n",
       "      <td>NaN</td>\n",
       "      <td>NaN</td>\n",
       "      <td>NaN</td>\n",
       "      <td>NaN</td>\n",
       "      <td>NaN</td>\n",
       "      <td>NaN</td>\n",
       "    </tr>\n",
       "    <tr>\n",
       "      <th>Fer2013_filtered_uniform_aug_disgust100_residual07_identity03 xval-10</th>\n",
       "      <td>0.910634</td>\n",
       "      <td>0.877640</td>\n",
       "      <td>0.948825</td>\n",
       "      <td>0.844880</td>\n",
       "      <td>0.963346</td>\n",
       "      <td>0.915373</td>\n",
       "      <td>0.848816</td>\n",
       "      <td>0.975559</td>\n",
       "      <td>0.639000</td>\n",
       "      <td>0.564</td>\n",
       "      <td>...</td>\n",
       "      <td>0.564</td>\n",
       "      <td>0.822</td>\n",
       "      <td>NaN</td>\n",
       "      <td>NaN</td>\n",
       "      <td>NaN</td>\n",
       "      <td>NaN</td>\n",
       "      <td>NaN</td>\n",
       "      <td>NaN</td>\n",
       "      <td>NaN</td>\n",
       "      <td>NaN</td>\n",
       "    </tr>\n",
       "    <tr>\n",
       "      <th>Fer2013_filtered_uniform_aug_disgust100_residual03_identity05 xval-10</th>\n",
       "      <td>0.913648</td>\n",
       "      <td>0.876134</td>\n",
       "      <td>0.948275</td>\n",
       "      <td>0.856259</td>\n",
       "      <td>0.963064</td>\n",
       "      <td>0.920421</td>\n",
       "      <td>0.857468</td>\n",
       "      <td>0.973912</td>\n",
       "      <td>0.636286</td>\n",
       "      <td>0.546</td>\n",
       "      <td>...</td>\n",
       "      <td>0.583</td>\n",
       "      <td>0.792</td>\n",
       "      <td>NaN</td>\n",
       "      <td>NaN</td>\n",
       "      <td>NaN</td>\n",
       "      <td>NaN</td>\n",
       "      <td>NaN</td>\n",
       "      <td>NaN</td>\n",
       "      <td>NaN</td>\n",
       "      <td>NaN</td>\n",
       "    </tr>\n",
       "    <tr>\n",
       "      <th>Fer2013_filtered_uniform_aug_disgust100_residual07_identity03 xval-10</th>\n",
       "      <td>0.913458</td>\n",
       "      <td>0.881824</td>\n",
       "      <td>0.944403</td>\n",
       "      <td>0.851962</td>\n",
       "      <td>0.963165</td>\n",
       "      <td>0.919623</td>\n",
       "      <td>0.855662</td>\n",
       "      <td>0.977569</td>\n",
       "      <td>0.639000</td>\n",
       "      <td>0.549</td>\n",
       "      <td>...</td>\n",
       "      <td>0.587</td>\n",
       "      <td>0.824</td>\n",
       "      <td>NaN</td>\n",
       "      <td>NaN</td>\n",
       "      <td>NaN</td>\n",
       "      <td>NaN</td>\n",
       "      <td>NaN</td>\n",
       "      <td>NaN</td>\n",
       "      <td>NaN</td>\n",
       "      <td>NaN</td>\n",
       "    </tr>\n",
       "    <tr>\n",
       "      <th>Fer2013_filtered_uniform_aug_disgust100_residual07_identity03 xval-10</th>\n",
       "      <td>0.915024</td>\n",
       "      <td>0.876282</td>\n",
       "      <td>0.948898</td>\n",
       "      <td>0.850682</td>\n",
       "      <td>0.965239</td>\n",
       "      <td>0.923594</td>\n",
       "      <td>0.863687</td>\n",
       "      <td>0.976787</td>\n",
       "      <td>0.643857</td>\n",
       "      <td>0.572</td>\n",
       "      <td>...</td>\n",
       "      <td>0.571</td>\n",
       "      <td>0.810</td>\n",
       "      <td>NaN</td>\n",
       "      <td>NaN</td>\n",
       "      <td>NaN</td>\n",
       "      <td>NaN</td>\n",
       "      <td>NaN</td>\n",
       "      <td>NaN</td>\n",
       "      <td>NaN</td>\n",
       "      <td>NaN</td>\n",
       "    </tr>\n",
       "    <tr>\n",
       "      <th>Fer2013_filtered_uniform_aug_disgust100_residual05_identity05 xval-10</th>\n",
       "      <td>0.914427</td>\n",
       "      <td>0.881619</td>\n",
       "      <td>0.949027</td>\n",
       "      <td>0.857508</td>\n",
       "      <td>0.963788</td>\n",
       "      <td>0.916292</td>\n",
       "      <td>0.859655</td>\n",
       "      <td>0.973098</td>\n",
       "      <td>0.647286</td>\n",
       "      <td>0.557</td>\n",
       "      <td>...</td>\n",
       "      <td>0.596</td>\n",
       "      <td>0.810</td>\n",
       "      <td>NaN</td>\n",
       "      <td>NaN</td>\n",
       "      <td>NaN</td>\n",
       "      <td>NaN</td>\n",
       "      <td>NaN</td>\n",
       "      <td>NaN</td>\n",
       "      <td>NaN</td>\n",
       "      <td>NaN</td>\n",
       "    </tr>\n",
       "    <tr>\n",
       "      <th>Fer2013_filtered_uniform_aug_disgust100_identity03 xval-10</th>\n",
       "      <td>0.915294</td>\n",
       "      <td>0.876576</td>\n",
       "      <td>0.952008</td>\n",
       "      <td>0.851192</td>\n",
       "      <td>0.963053</td>\n",
       "      <td>0.923192</td>\n",
       "      <td>0.862476</td>\n",
       "      <td>0.978560</td>\n",
       "      <td>0.645429</td>\n",
       "      <td>0.542</td>\n",
       "      <td>...</td>\n",
       "      <td>0.578</td>\n",
       "      <td>0.815</td>\n",
       "      <td>NaN</td>\n",
       "      <td>NaN</td>\n",
       "      <td>NaN</td>\n",
       "      <td>NaN</td>\n",
       "      <td>NaN</td>\n",
       "      <td>NaN</td>\n",
       "      <td>NaN</td>\n",
       "      <td>NaN</td>\n",
       "    </tr>\n",
       "    <tr>\n",
       "      <th>Fer2013_filtered_uniform_aug_disgust100_identity03 xval-10</th>\n",
       "      <td>0.911934</td>\n",
       "      <td>0.881547</td>\n",
       "      <td>0.950238</td>\n",
       "      <td>0.844635</td>\n",
       "      <td>0.960252</td>\n",
       "      <td>0.917508</td>\n",
       "      <td>0.853189</td>\n",
       "      <td>0.976167</td>\n",
       "      <td>0.638714</td>\n",
       "      <td>0.569</td>\n",
       "      <td>...</td>\n",
       "      <td>0.577</td>\n",
       "      <td>0.816</td>\n",
       "      <td>NaN</td>\n",
       "      <td>NaN</td>\n",
       "      <td>NaN</td>\n",
       "      <td>NaN</td>\n",
       "      <td>NaN</td>\n",
       "      <td>NaN</td>\n",
       "      <td>NaN</td>\n",
       "      <td>NaN</td>\n",
       "    </tr>\n",
       "    <tr>\n",
       "      <th>Fer2013_filtered_uniform_aug_disgust100_identity03 xval-10</th>\n",
       "      <td>0.910994</td>\n",
       "      <td>0.878423</td>\n",
       "      <td>0.947222</td>\n",
       "      <td>0.852984</td>\n",
       "      <td>0.961429</td>\n",
       "      <td>0.912841</td>\n",
       "      <td>0.850608</td>\n",
       "      <td>0.973453</td>\n",
       "      <td>0.636286</td>\n",
       "      <td>0.548</td>\n",
       "      <td>...</td>\n",
       "      <td>0.554</td>\n",
       "      <td>0.805</td>\n",
       "      <td>NaN</td>\n",
       "      <td>NaN</td>\n",
       "      <td>NaN</td>\n",
       "      <td>NaN</td>\n",
       "      <td>NaN</td>\n",
       "      <td>NaN</td>\n",
       "      <td>NaN</td>\n",
       "      <td>NaN</td>\n",
       "    </tr>\n",
       "    <tr>\n",
       "      <th>Fer2013_filtered_uniform_aug_disgust100_residual05_identity05 xval-10</th>\n",
       "      <td>0.914170</td>\n",
       "      <td>0.889486</td>\n",
       "      <td>0.947455</td>\n",
       "      <td>0.849964</td>\n",
       "      <td>0.963292</td>\n",
       "      <td>0.917965</td>\n",
       "      <td>0.856163</td>\n",
       "      <td>0.974864</td>\n",
       "      <td>0.641000</td>\n",
       "      <td>0.564</td>\n",
       "      <td>...</td>\n",
       "      <td>0.588</td>\n",
       "      <td>0.812</td>\n",
       "      <td>NaN</td>\n",
       "      <td>NaN</td>\n",
       "      <td>NaN</td>\n",
       "      <td>NaN</td>\n",
       "      <td>NaN</td>\n",
       "      <td>NaN</td>\n",
       "      <td>NaN</td>\n",
       "      <td>NaN</td>\n",
       "    </tr>\n",
       "    <tr>\n",
       "      <th>Fer2013_filtered_uniform_aug_disgust100_residual05_identity05 xval-10</th>\n",
       "      <td>0.914464</td>\n",
       "      <td>0.878498</td>\n",
       "      <td>0.953938</td>\n",
       "      <td>0.851328</td>\n",
       "      <td>0.965696</td>\n",
       "      <td>0.919801</td>\n",
       "      <td>0.854846</td>\n",
       "      <td>0.977138</td>\n",
       "      <td>0.647143</td>\n",
       "      <td>0.582</td>\n",
       "      <td>...</td>\n",
       "      <td>0.593</td>\n",
       "      <td>0.821</td>\n",
       "      <td>NaN</td>\n",
       "      <td>NaN</td>\n",
       "      <td>NaN</td>\n",
       "      <td>NaN</td>\n",
       "      <td>NaN</td>\n",
       "      <td>NaN</td>\n",
       "      <td>NaN</td>\n",
       "      <td>NaN</td>\n",
       "    </tr>\n",
       "    <tr>\n",
       "      <th>Fer2013_filtered_uniform xval-10</th>\n",
       "      <td>0.914381</td>\n",
       "      <td>0.879258</td>\n",
       "      <td>0.950218</td>\n",
       "      <td>0.846412</td>\n",
       "      <td>0.966658</td>\n",
       "      <td>0.924275</td>\n",
       "      <td>0.859469</td>\n",
       "      <td>0.974378</td>\n",
       "      <td>0.641857</td>\n",
       "      <td>0.569</td>\n",
       "      <td>...</td>\n",
       "      <td>0.602</td>\n",
       "      <td>0.786</td>\n",
       "      <td>NaN</td>\n",
       "      <td>NaN</td>\n",
       "      <td>NaN</td>\n",
       "      <td>NaN</td>\n",
       "      <td>NaN</td>\n",
       "      <td>NaN</td>\n",
       "      <td>NaN</td>\n",
       "      <td>NaN</td>\n",
       "    </tr>\n",
       "    <tr>\n",
       "      <th>Fer2013_filtered_uniform xval-10</th>\n",
       "      <td>0.911200</td>\n",
       "      <td>0.871695</td>\n",
       "      <td>0.946988</td>\n",
       "      <td>0.854422</td>\n",
       "      <td>0.959406</td>\n",
       "      <td>0.916182</td>\n",
       "      <td>0.855532</td>\n",
       "      <td>0.974173</td>\n",
       "      <td>0.636286</td>\n",
       "      <td>0.560</td>\n",
       "      <td>...</td>\n",
       "      <td>0.585</td>\n",
       "      <td>0.804</td>\n",
       "      <td>NaN</td>\n",
       "      <td>NaN</td>\n",
       "      <td>NaN</td>\n",
       "      <td>NaN</td>\n",
       "      <td>NaN</td>\n",
       "      <td>NaN</td>\n",
       "      <td>NaN</td>\n",
       "      <td>NaN</td>\n",
       "    </tr>\n",
       "    <tr>\n",
       "      <th>Fer2013_filtered_uniform_aug_disgust100_residual03_identity05 xval-10</th>\n",
       "      <td>0.914178</td>\n",
       "      <td>0.879924</td>\n",
       "      <td>0.953368</td>\n",
       "      <td>0.848205</td>\n",
       "      <td>0.963971</td>\n",
       "      <td>0.919146</td>\n",
       "      <td>0.859974</td>\n",
       "      <td>0.974657</td>\n",
       "      <td>0.642429</td>\n",
       "      <td>0.558</td>\n",
       "      <td>...</td>\n",
       "      <td>0.585</td>\n",
       "      <td>0.820</td>\n",
       "      <td>NaN</td>\n",
       "      <td>NaN</td>\n",
       "      <td>NaN</td>\n",
       "      <td>NaN</td>\n",
       "      <td>NaN</td>\n",
       "      <td>NaN</td>\n",
       "      <td>NaN</td>\n",
       "      <td>NaN</td>\n",
       "    </tr>\n",
       "    <tr>\n",
       "      <th>Fer2013_filtered_uniform_aug_disgust100_residual03_identity05 xval-10</th>\n",
       "      <td>0.910091</td>\n",
       "      <td>0.871675</td>\n",
       "      <td>0.947948</td>\n",
       "      <td>0.839583</td>\n",
       "      <td>0.962295</td>\n",
       "      <td>0.917501</td>\n",
       "      <td>0.854655</td>\n",
       "      <td>0.976978</td>\n",
       "      <td>0.634286</td>\n",
       "      <td>0.562</td>\n",
       "      <td>...</td>\n",
       "      <td>0.568</td>\n",
       "      <td>0.815</td>\n",
       "      <td>NaN</td>\n",
       "      <td>NaN</td>\n",
       "      <td>NaN</td>\n",
       "      <td>NaN</td>\n",
       "      <td>NaN</td>\n",
       "      <td>NaN</td>\n",
       "      <td>NaN</td>\n",
       "      <td>NaN</td>\n",
       "    </tr>\n",
       "    <tr>\n",
       "      <th>Fer2013_filtered_uniform_aug_disgust200_residual05_identity05 xval-10</th>\n",
       "      <td>0.911938</td>\n",
       "      <td>0.879127</td>\n",
       "      <td>0.943203</td>\n",
       "      <td>0.854557</td>\n",
       "      <td>0.961367</td>\n",
       "      <td>0.916866</td>\n",
       "      <td>0.853707</td>\n",
       "      <td>0.974738</td>\n",
       "      <td>0.643000</td>\n",
       "      <td>0.562</td>\n",
       "      <td>...</td>\n",
       "      <td>0.596</td>\n",
       "      <td>0.815</td>\n",
       "      <td>NaN</td>\n",
       "      <td>NaN</td>\n",
       "      <td>NaN</td>\n",
       "      <td>NaN</td>\n",
       "      <td>NaN</td>\n",
       "      <td>NaN</td>\n",
       "      <td>NaN</td>\n",
       "      <td>NaN</td>\n",
       "    </tr>\n",
       "    <tr>\n",
       "      <th>Fer2013_filtered_uniform_aug_disgust200_residual05_identity05 xval-10</th>\n",
       "      <td>0.915086</td>\n",
       "      <td>0.891808</td>\n",
       "      <td>0.943340</td>\n",
       "      <td>0.845947</td>\n",
       "      <td>0.965096</td>\n",
       "      <td>0.918108</td>\n",
       "      <td>0.865717</td>\n",
       "      <td>0.975588</td>\n",
       "      <td>0.648857</td>\n",
       "      <td>0.583</td>\n",
       "      <td>...</td>\n",
       "      <td>0.591</td>\n",
       "      <td>0.819</td>\n",
       "      <td>NaN</td>\n",
       "      <td>NaN</td>\n",
       "      <td>NaN</td>\n",
       "      <td>NaN</td>\n",
       "      <td>NaN</td>\n",
       "      <td>NaN</td>\n",
       "      <td>NaN</td>\n",
       "      <td>NaN</td>\n",
       "    </tr>\n",
       "    <tr>\n",
       "      <th>Fer2013_filtered_uniform_aug_disgust200_residual05_identity05 xval-10</th>\n",
       "      <td>0.910714</td>\n",
       "      <td>0.882841</td>\n",
       "      <td>0.941868</td>\n",
       "      <td>0.847588</td>\n",
       "      <td>0.960477</td>\n",
       "      <td>0.913739</td>\n",
       "      <td>0.854942</td>\n",
       "      <td>0.973542</td>\n",
       "      <td>0.634857</td>\n",
       "      <td>0.565</td>\n",
       "      <td>...</td>\n",
       "      <td>0.567</td>\n",
       "      <td>0.804</td>\n",
       "      <td>NaN</td>\n",
       "      <td>NaN</td>\n",
       "      <td>NaN</td>\n",
       "      <td>NaN</td>\n",
       "      <td>NaN</td>\n",
       "      <td>NaN</td>\n",
       "      <td>NaN</td>\n",
       "      <td>NaN</td>\n",
       "    </tr>\n",
       "    <tr>\n",
       "      <th>Fer2013_filtered_uniform_aug_disgust100_residual07_identity05 xval-10</th>\n",
       "      <td>0.913062</td>\n",
       "      <td>0.873278</td>\n",
       "      <td>0.948582</td>\n",
       "      <td>0.850750</td>\n",
       "      <td>0.965934</td>\n",
       "      <td>0.919406</td>\n",
       "      <td>0.859143</td>\n",
       "      <td>0.974344</td>\n",
       "      <td>0.636857</td>\n",
       "      <td>0.536</td>\n",
       "      <td>...</td>\n",
       "      <td>0.588</td>\n",
       "      <td>0.801</td>\n",
       "      <td>NaN</td>\n",
       "      <td>NaN</td>\n",
       "      <td>NaN</td>\n",
       "      <td>NaN</td>\n",
       "      <td>NaN</td>\n",
       "      <td>NaN</td>\n",
       "      <td>NaN</td>\n",
       "      <td>NaN</td>\n",
       "    </tr>\n",
       "    <tr>\n",
       "      <th>Fer2013_filtered_uniform_aug_disgust100_residual07_identity05 xval-10</th>\n",
       "      <td>0.912444</td>\n",
       "      <td>0.881952</td>\n",
       "      <td>0.942338</td>\n",
       "      <td>0.854015</td>\n",
       "      <td>0.963248</td>\n",
       "      <td>0.915849</td>\n",
       "      <td>0.853721</td>\n",
       "      <td>0.975982</td>\n",
       "      <td>0.644714</td>\n",
       "      <td>0.561</td>\n",
       "      <td>...</td>\n",
       "      <td>0.570</td>\n",
       "      <td>0.820</td>\n",
       "      <td>NaN</td>\n",
       "      <td>NaN</td>\n",
       "      <td>NaN</td>\n",
       "      <td>NaN</td>\n",
       "      <td>NaN</td>\n",
       "      <td>NaN</td>\n",
       "      <td>NaN</td>\n",
       "      <td>NaN</td>\n",
       "    </tr>\n",
       "    <tr>\n",
       "      <th>Fer2013_filtered_uniform_aug_disgust100_resisudal07_identity05 xval-10</th>\n",
       "      <td>0.914854</td>\n",
       "      <td>0.883661</td>\n",
       "      <td>0.947233</td>\n",
       "      <td>0.843760</td>\n",
       "      <td>0.965465</td>\n",
       "      <td>0.924010</td>\n",
       "      <td>0.865355</td>\n",
       "      <td>0.974494</td>\n",
       "      <td>0.646857</td>\n",
       "      <td>0.598</td>\n",
       "      <td>...</td>\n",
       "      <td>0.584</td>\n",
       "      <td>0.807</td>\n",
       "      <td>NaN</td>\n",
       "      <td>NaN</td>\n",
       "      <td>NaN</td>\n",
       "      <td>NaN</td>\n",
       "      <td>NaN</td>\n",
       "      <td>NaN</td>\n",
       "      <td>NaN</td>\n",
       "      <td>NaN</td>\n",
       "    </tr>\n",
       "    <tr>\n",
       "      <th>Fer2013_filtered_uniform_aug_disgust100_identity0.5 xval-10</th>\n",
       "      <td>0.911867</td>\n",
       "      <td>0.878198</td>\n",
       "      <td>0.942283</td>\n",
       "      <td>0.849933</td>\n",
       "      <td>0.964438</td>\n",
       "      <td>0.919130</td>\n",
       "      <td>0.856001</td>\n",
       "      <td>0.973087</td>\n",
       "      <td>0.640857</td>\n",
       "      <td>0.564</td>\n",
       "      <td>...</td>\n",
       "      <td>0.570</td>\n",
       "      <td>0.790</td>\n",
       "      <td>NaN</td>\n",
       "      <td>NaN</td>\n",
       "      <td>NaN</td>\n",
       "      <td>NaN</td>\n",
       "      <td>NaN</td>\n",
       "      <td>NaN</td>\n",
       "      <td>NaN</td>\n",
       "      <td>NaN</td>\n",
       "    </tr>\n",
       "    <tr>\n",
       "      <th>Fer2013_filtered_uniform_aug_disgust100_identity0.5 xval-10</th>\n",
       "      <td>0.911699</td>\n",
       "      <td>0.877810</td>\n",
       "      <td>0.945560</td>\n",
       "      <td>0.854055</td>\n",
       "      <td>0.963354</td>\n",
       "      <td>0.915940</td>\n",
       "      <td>0.849497</td>\n",
       "      <td>0.975677</td>\n",
       "      <td>0.639429</td>\n",
       "      <td>0.550</td>\n",
       "      <td>...</td>\n",
       "      <td>0.582</td>\n",
       "      <td>0.799</td>\n",
       "      <td>NaN</td>\n",
       "      <td>NaN</td>\n",
       "      <td>NaN</td>\n",
       "      <td>NaN</td>\n",
       "      <td>NaN</td>\n",
       "      <td>NaN</td>\n",
       "      <td>NaN</td>\n",
       "      <td>NaN</td>\n",
       "    </tr>\n",
       "    <tr>\n",
       "      <th>Fer2013_filtered_uniform_aug_disgust100_identity0.5 xval-10</th>\n",
       "      <td>0.910543</td>\n",
       "      <td>0.875542</td>\n",
       "      <td>0.947010</td>\n",
       "      <td>0.846450</td>\n",
       "      <td>0.962219</td>\n",
       "      <td>0.916484</td>\n",
       "      <td>0.851853</td>\n",
       "      <td>0.974244</td>\n",
       "      <td>0.637429</td>\n",
       "      <td>0.549</td>\n",
       "      <td>...</td>\n",
       "      <td>0.574</td>\n",
       "      <td>0.806</td>\n",
       "      <td>NaN</td>\n",
       "      <td>NaN</td>\n",
       "      <td>NaN</td>\n",
       "      <td>NaN</td>\n",
       "      <td>NaN</td>\n",
       "      <td>NaN</td>\n",
       "      <td>NaN</td>\n",
       "      <td>NaN</td>\n",
       "    </tr>\n",
       "    <tr>\n",
       "      <th>Fer2013_filtered_uniform_aug_disgust100_identity00 xval-10</th>\n",
       "      <td>0.915121</td>\n",
       "      <td>0.880861</td>\n",
       "      <td>0.954353</td>\n",
       "      <td>0.844516</td>\n",
       "      <td>0.963356</td>\n",
       "      <td>0.917976</td>\n",
       "      <td>0.865387</td>\n",
       "      <td>0.979400</td>\n",
       "      <td>0.643286</td>\n",
       "      <td>0.573</td>\n",
       "      <td>...</td>\n",
       "      <td>0.607</td>\n",
       "      <td>0.827</td>\n",
       "      <td>NaN</td>\n",
       "      <td>NaN</td>\n",
       "      <td>NaN</td>\n",
       "      <td>NaN</td>\n",
       "      <td>NaN</td>\n",
       "      <td>NaN</td>\n",
       "      <td>NaN</td>\n",
       "      <td>NaN</td>\n",
       "    </tr>\n",
       "    <tr>\n",
       "      <th>Fer2013_filtered_uniform_aug_disgust100_identity00 xval-10</th>\n",
       "      <td>0.913686</td>\n",
       "      <td>0.880125</td>\n",
       "      <td>0.953922</td>\n",
       "      <td>0.854801</td>\n",
       "      <td>0.963232</td>\n",
       "      <td>0.914302</td>\n",
       "      <td>0.854207</td>\n",
       "      <td>0.975217</td>\n",
       "      <td>0.637000</td>\n",
       "      <td>0.549</td>\n",
       "      <td>...</td>\n",
       "      <td>0.571</td>\n",
       "      <td>0.820</td>\n",
       "      <td>NaN</td>\n",
       "      <td>NaN</td>\n",
       "      <td>NaN</td>\n",
       "      <td>NaN</td>\n",
       "      <td>NaN</td>\n",
       "      <td>NaN</td>\n",
       "      <td>NaN</td>\n",
       "      <td>NaN</td>\n",
       "    </tr>\n",
       "    <tr>\n",
       "      <th>Fer2013_filtered_uniform_aug_disgust100_identity00 xval-10</th>\n",
       "      <td>0.911053</td>\n",
       "      <td>0.878810</td>\n",
       "      <td>0.953173</td>\n",
       "      <td>0.846325</td>\n",
       "      <td>0.962533</td>\n",
       "      <td>0.912112</td>\n",
       "      <td>0.850128</td>\n",
       "      <td>0.974292</td>\n",
       "      <td>0.628857</td>\n",
       "      <td>0.542</td>\n",
       "      <td>...</td>\n",
       "      <td>0.564</td>\n",
       "      <td>0.798</td>\n",
       "      <td>NaN</td>\n",
       "      <td>NaN</td>\n",
       "      <td>NaN</td>\n",
       "      <td>NaN</td>\n",
       "      <td>NaN</td>\n",
       "      <td>NaN</td>\n",
       "      <td>NaN</td>\n",
       "      <td>NaN</td>\n",
       "    </tr>\n",
       "    <tr>\n",
       "      <th>Fer2013_filtered_uniform_aug_disgust100_residual05_identity05_in005 xval-10</th>\n",
       "      <td>0.911343</td>\n",
       "      <td>0.876815</td>\n",
       "      <td>0.945248</td>\n",
       "      <td>0.843721</td>\n",
       "      <td>0.963858</td>\n",
       "      <td>0.917198</td>\n",
       "      <td>0.857880</td>\n",
       "      <td>0.974677</td>\n",
       "      <td>0.637429</td>\n",
       "      <td>0.552</td>\n",
       "      <td>...</td>\n",
       "      <td>0.582</td>\n",
       "      <td>0.806</td>\n",
       "      <td>NaN</td>\n",
       "      <td>NaN</td>\n",
       "      <td>NaN</td>\n",
       "      <td>NaN</td>\n",
       "      <td>NaN</td>\n",
       "      <td>NaN</td>\n",
       "      <td>NaN</td>\n",
       "      <td>NaN</td>\n",
       "    </tr>\n",
       "    <tr>\n",
       "      <th>Fer2013_filtered_uniform_aug_disgust100_residual05_identity05_in005 xval-10</th>\n",
       "      <td>0.915219</td>\n",
       "      <td>0.881481</td>\n",
       "      <td>0.945537</td>\n",
       "      <td>0.855107</td>\n",
       "      <td>0.965324</td>\n",
       "      <td>0.923231</td>\n",
       "      <td>0.859734</td>\n",
       "      <td>0.976118</td>\n",
       "      <td>0.646714</td>\n",
       "      <td>0.570</td>\n",
       "      <td>...</td>\n",
       "      <td>0.607</td>\n",
       "      <td>0.825</td>\n",
       "      <td>NaN</td>\n",
       "      <td>NaN</td>\n",
       "      <td>NaN</td>\n",
       "      <td>NaN</td>\n",
       "      <td>NaN</td>\n",
       "      <td>NaN</td>\n",
       "      <td>NaN</td>\n",
       "      <td>NaN</td>\n",
       "    </tr>\n",
       "    <tr>\n",
       "      <th>Fer2013_filtered_uniform_aug_disgust100_residual05_identity05_in005 xval-10</th>\n",
       "      <td>0.909742</td>\n",
       "      <td>0.878896</td>\n",
       "      <td>0.945230</td>\n",
       "      <td>0.842424</td>\n",
       "      <td>0.963190</td>\n",
       "      <td>0.913098</td>\n",
       "      <td>0.851973</td>\n",
       "      <td>0.973384</td>\n",
       "      <td>0.632286</td>\n",
       "      <td>0.563</td>\n",
       "      <td>...</td>\n",
       "      <td>0.574</td>\n",
       "      <td>0.798</td>\n",
       "      <td>NaN</td>\n",
       "      <td>NaN</td>\n",
       "      <td>NaN</td>\n",
       "      <td>NaN</td>\n",
       "      <td>NaN</td>\n",
       "      <td>NaN</td>\n",
       "      <td>NaN</td>\n",
       "      <td>NaN</td>\n",
       "    </tr>\n",
       "    <tr>\n",
       "      <th>Fer2013_filtered_uniform_aug_disgust100_residual05_identity05_ls01 xval-10</th>\n",
       "      <td>0.911909</td>\n",
       "      <td>0.879580</td>\n",
       "      <td>0.945183</td>\n",
       "      <td>0.846008</td>\n",
       "      <td>0.964723</td>\n",
       "      <td>0.920014</td>\n",
       "      <td>0.850127</td>\n",
       "      <td>0.977727</td>\n",
       "      <td>0.637857</td>\n",
       "      <td>0.555</td>\n",
       "      <td>...</td>\n",
       "      <td>0.571</td>\n",
       "      <td>0.822</td>\n",
       "      <td>NaN</td>\n",
       "      <td>NaN</td>\n",
       "      <td>NaN</td>\n",
       "      <td>NaN</td>\n",
       "      <td>NaN</td>\n",
       "      <td>NaN</td>\n",
       "      <td>NaN</td>\n",
       "      <td>NaN</td>\n",
       "    </tr>\n",
       "    <tr>\n",
       "      <th>Fer2013_filtered_uniform_aug_disgust100_residual05_identity05_ls01 xval-10</th>\n",
       "      <td>0.913752</td>\n",
       "      <td>0.879683</td>\n",
       "      <td>0.944340</td>\n",
       "      <td>0.853474</td>\n",
       "      <td>0.966297</td>\n",
       "      <td>0.918256</td>\n",
       "      <td>0.862022</td>\n",
       "      <td>0.972192</td>\n",
       "      <td>0.642143</td>\n",
       "      <td>0.551</td>\n",
       "      <td>...</td>\n",
       "      <td>0.602</td>\n",
       "      <td>0.819</td>\n",
       "      <td>NaN</td>\n",
       "      <td>NaN</td>\n",
       "      <td>NaN</td>\n",
       "      <td>NaN</td>\n",
       "      <td>NaN</td>\n",
       "      <td>NaN</td>\n",
       "      <td>NaN</td>\n",
       "      <td>NaN</td>\n",
       "    </tr>\n",
       "    <tr>\n",
       "      <th>Fer2013_filtered_uniform_aug_disgust100_residual05_identity05_ls01 xval-10</th>\n",
       "      <td>0.912501</td>\n",
       "      <td>0.869730</td>\n",
       "      <td>0.951838</td>\n",
       "      <td>0.852397</td>\n",
       "      <td>0.961178</td>\n",
       "      <td>0.919172</td>\n",
       "      <td>0.859343</td>\n",
       "      <td>0.973851</td>\n",
       "      <td>0.639857</td>\n",
       "      <td>0.535</td>\n",
       "      <td>...</td>\n",
       "      <td>0.594</td>\n",
       "      <td>0.806</td>\n",
       "      <td>NaN</td>\n",
       "      <td>NaN</td>\n",
       "      <td>NaN</td>\n",
       "      <td>NaN</td>\n",
       "      <td>NaN</td>\n",
       "      <td>NaN</td>\n",
       "      <td>NaN</td>\n",
       "      <td>NaN</td>\n",
       "    </tr>\n",
       "    <tr>\n",
       "      <th>Fer2013_filtered_uniform_aug_surprise100_residual05_identity05 xval-10</th>\n",
       "      <td>0.910220</td>\n",
       "      <td>0.873388</td>\n",
       "      <td>0.945757</td>\n",
       "      <td>0.850629</td>\n",
       "      <td>0.959014</td>\n",
       "      <td>0.915828</td>\n",
       "      <td>0.852598</td>\n",
       "      <td>0.974329</td>\n",
       "      <td>0.637714</td>\n",
       "      <td>0.529</td>\n",
       "      <td>...</td>\n",
       "      <td>0.586</td>\n",
       "      <td>0.808</td>\n",
       "      <td>NaN</td>\n",
       "      <td>NaN</td>\n",
       "      <td>NaN</td>\n",
       "      <td>NaN</td>\n",
       "      <td>NaN</td>\n",
       "      <td>NaN</td>\n",
       "      <td>NaN</td>\n",
       "      <td>NaN</td>\n",
       "    </tr>\n",
       "    <tr>\n",
       "      <th>Fer2013_filtered_uniform_aug_surprise100_residual05_identity05 xval-10</th>\n",
       "      <td>0.910815</td>\n",
       "      <td>0.876361</td>\n",
       "      <td>0.944985</td>\n",
       "      <td>0.845678</td>\n",
       "      <td>0.961329</td>\n",
       "      <td>0.918685</td>\n",
       "      <td>0.855305</td>\n",
       "      <td>0.973363</td>\n",
       "      <td>0.641143</td>\n",
       "      <td>0.521</td>\n",
       "      <td>...</td>\n",
       "      <td>0.575</td>\n",
       "      <td>0.810</td>\n",
       "      <td>NaN</td>\n",
       "      <td>NaN</td>\n",
       "      <td>NaN</td>\n",
       "      <td>NaN</td>\n",
       "      <td>NaN</td>\n",
       "      <td>NaN</td>\n",
       "      <td>NaN</td>\n",
       "      <td>NaN</td>\n",
       "    </tr>\n",
       "    <tr>\n",
       "      <th>Fer2013_filtered_uniform_aug_surprise100_residual05_identity05 xval-10</th>\n",
       "      <td>0.909212</td>\n",
       "      <td>0.872319</td>\n",
       "      <td>0.945893</td>\n",
       "      <td>0.836523</td>\n",
       "      <td>0.962504</td>\n",
       "      <td>0.919319</td>\n",
       "      <td>0.856182</td>\n",
       "      <td>0.971740</td>\n",
       "      <td>0.637857</td>\n",
       "      <td>0.542</td>\n",
       "      <td>...</td>\n",
       "      <td>0.551</td>\n",
       "      <td>0.812</td>\n",
       "      <td>NaN</td>\n",
       "      <td>NaN</td>\n",
       "      <td>NaN</td>\n",
       "      <td>NaN</td>\n",
       "      <td>NaN</td>\n",
       "      <td>NaN</td>\n",
       "      <td>NaN</td>\n",
       "      <td>NaN</td>\n",
       "    </tr>\n",
       "    <tr>\n",
       "      <th>Fer2013_filtered_uniform_aug_disgust100_residual05_identity05_alternate10 xval-10</th>\n",
       "      <td>0.908725</td>\n",
       "      <td>0.873806</td>\n",
       "      <td>0.941975</td>\n",
       "      <td>0.832474</td>\n",
       "      <td>0.959896</td>\n",
       "      <td>0.918168</td>\n",
       "      <td>0.859574</td>\n",
       "      <td>0.975185</td>\n",
       "      <td>0.635429</td>\n",
       "      <td>0.554</td>\n",
       "      <td>...</td>\n",
       "      <td>0.604</td>\n",
       "      <td>0.804</td>\n",
       "      <td>NaN</td>\n",
       "      <td>NaN</td>\n",
       "      <td>NaN</td>\n",
       "      <td>NaN</td>\n",
       "      <td>NaN</td>\n",
       "      <td>NaN</td>\n",
       "      <td>NaN</td>\n",
       "      <td>NaN</td>\n",
       "    </tr>\n",
       "    <tr>\n",
       "      <th>Fer2013_filtered_uniform_aug_disgust100_residual05_identity05_alternate10 xval-10</th>\n",
       "      <td>0.909436</td>\n",
       "      <td>0.875989</td>\n",
       "      <td>0.944572</td>\n",
       "      <td>0.847388</td>\n",
       "      <td>0.960854</td>\n",
       "      <td>0.910368</td>\n",
       "      <td>0.850389</td>\n",
       "      <td>0.976491</td>\n",
       "      <td>0.627857</td>\n",
       "      <td>0.529</td>\n",
       "      <td>...</td>\n",
       "      <td>0.565</td>\n",
       "      <td>0.808</td>\n",
       "      <td>NaN</td>\n",
       "      <td>NaN</td>\n",
       "      <td>NaN</td>\n",
       "      <td>NaN</td>\n",
       "      <td>NaN</td>\n",
       "      <td>NaN</td>\n",
       "      <td>NaN</td>\n",
       "      <td>NaN</td>\n",
       "    </tr>\n",
       "    <tr>\n",
       "      <th>Fer2013_filtered_uniform_aug_disgust100_residual05_identity05_alternate10 xval-10</th>\n",
       "      <td>0.915659</td>\n",
       "      <td>0.878786</td>\n",
       "      <td>0.953367</td>\n",
       "      <td>0.852685</td>\n",
       "      <td>0.964613</td>\n",
       "      <td>0.921157</td>\n",
       "      <td>0.864861</td>\n",
       "      <td>0.974146</td>\n",
       "      <td>0.646286</td>\n",
       "      <td>0.562</td>\n",
       "      <td>...</td>\n",
       "      <td>0.593</td>\n",
       "      <td>0.808</td>\n",
       "      <td>NaN</td>\n",
       "      <td>NaN</td>\n",
       "      <td>NaN</td>\n",
       "      <td>NaN</td>\n",
       "      <td>NaN</td>\n",
       "      <td>NaN</td>\n",
       "      <td>NaN</td>\n",
       "      <td>NaN</td>\n",
       "    </tr>\n",
       "    <tr>\n",
       "      <th>Fer2013_filtered_uniform_aug_surprise1000_residual05_identity05 xval-10</th>\n",
       "      <td>0.909863</td>\n",
       "      <td>0.878579</td>\n",
       "      <td>0.942483</td>\n",
       "      <td>0.841173</td>\n",
       "      <td>0.961132</td>\n",
       "      <td>0.917946</td>\n",
       "      <td>0.855154</td>\n",
       "      <td>0.972573</td>\n",
       "      <td>0.639000</td>\n",
       "      <td>0.560</td>\n",
       "      <td>...</td>\n",
       "      <td>0.600</td>\n",
       "      <td>0.825</td>\n",
       "      <td>NaN</td>\n",
       "      <td>NaN</td>\n",
       "      <td>NaN</td>\n",
       "      <td>NaN</td>\n",
       "      <td>NaN</td>\n",
       "      <td>NaN</td>\n",
       "      <td>NaN</td>\n",
       "      <td>NaN</td>\n",
       "    </tr>\n",
       "    <tr>\n",
       "      <th>Fer2013_filtered_uniform_aug_surprise1000_residual05_identity05 xval-10</th>\n",
       "      <td>0.910725</td>\n",
       "      <td>0.877727</td>\n",
       "      <td>0.949430</td>\n",
       "      <td>0.846831</td>\n",
       "      <td>0.961463</td>\n",
       "      <td>0.915561</td>\n",
       "      <td>0.852301</td>\n",
       "      <td>0.971760</td>\n",
       "      <td>0.637714</td>\n",
       "      <td>0.538</td>\n",
       "      <td>...</td>\n",
       "      <td>0.572</td>\n",
       "      <td>0.830</td>\n",
       "      <td>NaN</td>\n",
       "      <td>NaN</td>\n",
       "      <td>NaN</td>\n",
       "      <td>NaN</td>\n",
       "      <td>NaN</td>\n",
       "      <td>NaN</td>\n",
       "      <td>NaN</td>\n",
       "      <td>NaN</td>\n",
       "    </tr>\n",
       "    <tr>\n",
       "      <th>Fer2013_filtered_uniform_aug_surprise1000_residual05_identity05 xval-10</th>\n",
       "      <td>0.912245</td>\n",
       "      <td>0.871536</td>\n",
       "      <td>0.950525</td>\n",
       "      <td>0.850187</td>\n",
       "      <td>0.961472</td>\n",
       "      <td>0.915796</td>\n",
       "      <td>0.863858</td>\n",
       "      <td>0.972342</td>\n",
       "      <td>0.642000</td>\n",
       "      <td>0.528</td>\n",
       "      <td>...</td>\n",
       "      <td>0.614</td>\n",
       "      <td>0.811</td>\n",
       "      <td>NaN</td>\n",
       "      <td>NaN</td>\n",
       "      <td>NaN</td>\n",
       "      <td>NaN</td>\n",
       "      <td>NaN</td>\n",
       "      <td>NaN</td>\n",
       "      <td>NaN</td>\n",
       "      <td>NaN</td>\n",
       "    </tr>\n",
       "    <tr>\n",
       "      <th>Fer2013_filtered_uniform_aug_surprise1000selected_residual05_identity05 xval-10</th>\n",
       "      <td>0.910035</td>\n",
       "      <td>0.875196</td>\n",
       "      <td>0.949495</td>\n",
       "      <td>0.840707</td>\n",
       "      <td>0.960076</td>\n",
       "      <td>0.919953</td>\n",
       "      <td>0.853320</td>\n",
       "      <td>0.971498</td>\n",
       "      <td>0.636714</td>\n",
       "      <td>0.549</td>\n",
       "      <td>...</td>\n",
       "      <td>0.577</td>\n",
       "      <td>0.808</td>\n",
       "      <td>NaN</td>\n",
       "      <td>NaN</td>\n",
       "      <td>NaN</td>\n",
       "      <td>NaN</td>\n",
       "      <td>NaN</td>\n",
       "      <td>NaN</td>\n",
       "      <td>NaN</td>\n",
       "      <td>NaN</td>\n",
       "    </tr>\n",
       "    <tr>\n",
       "      <th>Fer2013_filtered_uniform_aug_surprise1000selected_residual05_identity05 xval-10</th>\n",
       "      <td>0.909452</td>\n",
       "      <td>0.880825</td>\n",
       "      <td>0.943860</td>\n",
       "      <td>0.846498</td>\n",
       "      <td>0.959932</td>\n",
       "      <td>0.910432</td>\n",
       "      <td>0.851163</td>\n",
       "      <td>0.973457</td>\n",
       "      <td>0.630857</td>\n",
       "      <td>0.554</td>\n",
       "      <td>...</td>\n",
       "      <td>0.578</td>\n",
       "      <td>0.791</td>\n",
       "      <td>NaN</td>\n",
       "      <td>NaN</td>\n",
       "      <td>NaN</td>\n",
       "      <td>NaN</td>\n",
       "      <td>NaN</td>\n",
       "      <td>NaN</td>\n",
       "      <td>NaN</td>\n",
       "      <td>NaN</td>\n",
       "    </tr>\n",
       "    <tr>\n",
       "      <th>Fer2013_filtered_uniform_aug_surprise1000selected_residual05_identity05 xval-10</th>\n",
       "      <td>0.909376</td>\n",
       "      <td>0.880874</td>\n",
       "      <td>0.943896</td>\n",
       "      <td>0.844174</td>\n",
       "      <td>0.960939</td>\n",
       "      <td>0.910187</td>\n",
       "      <td>0.851456</td>\n",
       "      <td>0.974108</td>\n",
       "      <td>0.637714</td>\n",
       "      <td>0.573</td>\n",
       "      <td>...</td>\n",
       "      <td>0.603</td>\n",
       "      <td>0.813</td>\n",
       "      <td>NaN</td>\n",
       "      <td>NaN</td>\n",
       "      <td>NaN</td>\n",
       "      <td>NaN</td>\n",
       "      <td>NaN</td>\n",
       "      <td>NaN</td>\n",
       "      <td>NaN</td>\n",
       "      <td>NaN</td>\n",
       "    </tr>\n",
       "    <tr>\n",
       "      <th>Fer2013_filtered_uniform_aug_disgust100_residual05_identity03 xval-10</th>\n",
       "      <td>0.913886</td>\n",
       "      <td>0.884001</td>\n",
       "      <td>0.949463</td>\n",
       "      <td>0.847595</td>\n",
       "      <td>0.960775</td>\n",
       "      <td>0.921398</td>\n",
       "      <td>0.856634</td>\n",
       "      <td>0.977334</td>\n",
       "      <td>0.648286</td>\n",
       "      <td>0.590</td>\n",
       "      <td>...</td>\n",
       "      <td>0.571</td>\n",
       "      <td>0.810</td>\n",
       "      <td>NaN</td>\n",
       "      <td>NaN</td>\n",
       "      <td>NaN</td>\n",
       "      <td>NaN</td>\n",
       "      <td>NaN</td>\n",
       "      <td>NaN</td>\n",
       "      <td>NaN</td>\n",
       "      <td>NaN</td>\n",
       "    </tr>\n",
       "    <tr>\n",
       "      <th>Fer2013_filtered_uniform_aug_disgust100_residual05_identity03 xval-10</th>\n",
       "      <td>0.911496</td>\n",
       "      <td>0.884864</td>\n",
       "      <td>0.943033</td>\n",
       "      <td>0.844009</td>\n",
       "      <td>0.961162</td>\n",
       "      <td>0.919363</td>\n",
       "      <td>0.854122</td>\n",
       "      <td>0.973919</td>\n",
       "      <td>0.641286</td>\n",
       "      <td>0.560</td>\n",
       "      <td>...</td>\n",
       "      <td>0.569</td>\n",
       "      <td>0.787</td>\n",
       "      <td>NaN</td>\n",
       "      <td>NaN</td>\n",
       "      <td>NaN</td>\n",
       "      <td>NaN</td>\n",
       "      <td>NaN</td>\n",
       "      <td>NaN</td>\n",
       "      <td>NaN</td>\n",
       "      <td>NaN</td>\n",
       "    </tr>\n",
       "    <tr>\n",
       "      <th>Fer2013_filtered_uniform_aug_disgust100_residual05_identity03 xval-10</th>\n",
       "      <td>0.915495</td>\n",
       "      <td>0.886123</td>\n",
       "      <td>0.949707</td>\n",
       "      <td>0.855691</td>\n",
       "      <td>0.961600</td>\n",
       "      <td>0.921932</td>\n",
       "      <td>0.857847</td>\n",
       "      <td>0.975567</td>\n",
       "      <td>0.650857</td>\n",
       "      <td>0.561</td>\n",
       "      <td>...</td>\n",
       "      <td>0.571</td>\n",
       "      <td>0.815</td>\n",
       "      <td>NaN</td>\n",
       "      <td>NaN</td>\n",
       "      <td>NaN</td>\n",
       "      <td>NaN</td>\n",
       "      <td>NaN</td>\n",
       "      <td>NaN</td>\n",
       "      <td>NaN</td>\n",
       "      <td>NaN</td>\n",
       "    </tr>\n",
       "    <tr>\n",
       "      <th>Fer2013_filtered_uniform_aug_disgust100_residual05_identity05_late_in005 xval-10</th>\n",
       "      <td>0.911458</td>\n",
       "      <td>0.876319</td>\n",
       "      <td>0.947427</td>\n",
       "      <td>0.848239</td>\n",
       "      <td>0.964142</td>\n",
       "      <td>0.914047</td>\n",
       "      <td>0.854527</td>\n",
       "      <td>0.975505</td>\n",
       "      <td>0.636286</td>\n",
       "      <td>0.563</td>\n",
       "      <td>...</td>\n",
       "      <td>0.568</td>\n",
       "      <td>0.815</td>\n",
       "      <td>NaN</td>\n",
       "      <td>NaN</td>\n",
       "      <td>NaN</td>\n",
       "      <td>NaN</td>\n",
       "      <td>NaN</td>\n",
       "      <td>NaN</td>\n",
       "      <td>NaN</td>\n",
       "      <td>NaN</td>\n",
       "    </tr>\n",
       "    <tr>\n",
       "      <th>Fer2013_filtered_uniform_aug_disgust100_residual05_identity05_late_in005 xval-10</th>\n",
       "      <td>0.914513</td>\n",
       "      <td>0.885387</td>\n",
       "      <td>0.949810</td>\n",
       "      <td>0.849110</td>\n",
       "      <td>0.963531</td>\n",
       "      <td>0.923408</td>\n",
       "      <td>0.855682</td>\n",
       "      <td>0.974666</td>\n",
       "      <td>0.645286</td>\n",
       "      <td>0.585</td>\n",
       "      <td>...</td>\n",
       "      <td>0.564</td>\n",
       "      <td>0.809</td>\n",
       "      <td>NaN</td>\n",
       "      <td>NaN</td>\n",
       "      <td>NaN</td>\n",
       "      <td>NaN</td>\n",
       "      <td>NaN</td>\n",
       "      <td>NaN</td>\n",
       "      <td>NaN</td>\n",
       "      <td>NaN</td>\n",
       "    </tr>\n",
       "    <tr>\n",
       "      <th>Fer2013_filtered_uniform_aug_disgust100_residual05_identity05_late_in005 xval-10</th>\n",
       "      <td>0.913784</td>\n",
       "      <td>0.878688</td>\n",
       "      <td>0.944738</td>\n",
       "      <td>0.845413</td>\n",
       "      <td>0.962750</td>\n",
       "      <td>0.925673</td>\n",
       "      <td>0.862313</td>\n",
       "      <td>0.976917</td>\n",
       "      <td>0.640286</td>\n",
       "      <td>0.546</td>\n",
       "      <td>...</td>\n",
       "      <td>0.584</td>\n",
       "      <td>0.818</td>\n",
       "      <td>NaN</td>\n",
       "      <td>NaN</td>\n",
       "      <td>NaN</td>\n",
       "      <td>NaN</td>\n",
       "      <td>NaN</td>\n",
       "      <td>NaN</td>\n",
       "      <td>NaN</td>\n",
       "      <td>NaN</td>\n",
       "    </tr>\n",
       "    <tr>\n",
       "      <th>Fer2013_filtered_uniform_aug_surprise100_identity05 xval-10</th>\n",
       "      <td>0.912193</td>\n",
       "      <td>0.885937</td>\n",
       "      <td>0.944328</td>\n",
       "      <td>0.841886</td>\n",
       "      <td>0.962428</td>\n",
       "      <td>0.918903</td>\n",
       "      <td>0.857952</td>\n",
       "      <td>0.973921</td>\n",
       "      <td>NaN</td>\n",
       "      <td>NaN</td>\n",
       "      <td>...</td>\n",
       "      <td>NaN</td>\n",
       "      <td>NaN</td>\n",
       "      <td>0.645429</td>\n",
       "      <td>0.568</td>\n",
       "      <td>0.543</td>\n",
       "      <td>0.473</td>\n",
       "      <td>0.817</td>\n",
       "      <td>0.672</td>\n",
       "      <td>0.615</td>\n",
       "      <td>0.83</td>\n",
       "    </tr>\n",
       "  </tbody>\n",
       "</table>\n",
       "<p>52 rows × 24 columns</p>\n",
       "</div>"
      ],
      "text/plain": [
       "                                                    mean AUC  angry AUC  \\\n",
       "Fer2013_filtered_uniform xval-10                    0.913137   0.882769   \n",
       "Fer2013_filtered_uniform_aug_disgust100_residua...  0.910634   0.877640   \n",
       "Fer2013_filtered_uniform_aug_disgust100_residua...  0.913648   0.876134   \n",
       "Fer2013_filtered_uniform_aug_disgust100_residua...  0.913458   0.881824   \n",
       "Fer2013_filtered_uniform_aug_disgust100_residua...  0.915024   0.876282   \n",
       "Fer2013_filtered_uniform_aug_disgust100_residua...  0.914427   0.881619   \n",
       "Fer2013_filtered_uniform_aug_disgust100_identit...  0.915294   0.876576   \n",
       "Fer2013_filtered_uniform_aug_disgust100_identit...  0.911934   0.881547   \n",
       "Fer2013_filtered_uniform_aug_disgust100_identit...  0.910994   0.878423   \n",
       "Fer2013_filtered_uniform_aug_disgust100_residua...  0.914170   0.889486   \n",
       "Fer2013_filtered_uniform_aug_disgust100_residua...  0.914464   0.878498   \n",
       "Fer2013_filtered_uniform xval-10                    0.914381   0.879258   \n",
       "Fer2013_filtered_uniform xval-10                    0.911200   0.871695   \n",
       "Fer2013_filtered_uniform_aug_disgust100_residua...  0.914178   0.879924   \n",
       "Fer2013_filtered_uniform_aug_disgust100_residua...  0.910091   0.871675   \n",
       "Fer2013_filtered_uniform_aug_disgust200_residua...  0.911938   0.879127   \n",
       "Fer2013_filtered_uniform_aug_disgust200_residua...  0.915086   0.891808   \n",
       "Fer2013_filtered_uniform_aug_disgust200_residua...  0.910714   0.882841   \n",
       "Fer2013_filtered_uniform_aug_disgust100_residua...  0.913062   0.873278   \n",
       "Fer2013_filtered_uniform_aug_disgust100_residua...  0.912444   0.881952   \n",
       "Fer2013_filtered_uniform_aug_disgust100_resisud...  0.914854   0.883661   \n",
       "Fer2013_filtered_uniform_aug_disgust100_identit...  0.911867   0.878198   \n",
       "Fer2013_filtered_uniform_aug_disgust100_identit...  0.911699   0.877810   \n",
       "Fer2013_filtered_uniform_aug_disgust100_identit...  0.910543   0.875542   \n",
       "Fer2013_filtered_uniform_aug_disgust100_identit...  0.915121   0.880861   \n",
       "Fer2013_filtered_uniform_aug_disgust100_identit...  0.913686   0.880125   \n",
       "Fer2013_filtered_uniform_aug_disgust100_identit...  0.911053   0.878810   \n",
       "Fer2013_filtered_uniform_aug_disgust100_residua...  0.911343   0.876815   \n",
       "Fer2013_filtered_uniform_aug_disgust100_residua...  0.915219   0.881481   \n",
       "Fer2013_filtered_uniform_aug_disgust100_residua...  0.909742   0.878896   \n",
       "Fer2013_filtered_uniform_aug_disgust100_residua...  0.911909   0.879580   \n",
       "Fer2013_filtered_uniform_aug_disgust100_residua...  0.913752   0.879683   \n",
       "Fer2013_filtered_uniform_aug_disgust100_residua...  0.912501   0.869730   \n",
       "Fer2013_filtered_uniform_aug_surprise100_residu...  0.910220   0.873388   \n",
       "Fer2013_filtered_uniform_aug_surprise100_residu...  0.910815   0.876361   \n",
       "Fer2013_filtered_uniform_aug_surprise100_residu...  0.909212   0.872319   \n",
       "Fer2013_filtered_uniform_aug_disgust100_residua...  0.908725   0.873806   \n",
       "Fer2013_filtered_uniform_aug_disgust100_residua...  0.909436   0.875989   \n",
       "Fer2013_filtered_uniform_aug_disgust100_residua...  0.915659   0.878786   \n",
       "Fer2013_filtered_uniform_aug_surprise1000_resid...  0.909863   0.878579   \n",
       "Fer2013_filtered_uniform_aug_surprise1000_resid...  0.910725   0.877727   \n",
       "Fer2013_filtered_uniform_aug_surprise1000_resid...  0.912245   0.871536   \n",
       "Fer2013_filtered_uniform_aug_surprise1000select...  0.910035   0.875196   \n",
       "Fer2013_filtered_uniform_aug_surprise1000select...  0.909452   0.880825   \n",
       "Fer2013_filtered_uniform_aug_surprise1000select...  0.909376   0.880874   \n",
       "Fer2013_filtered_uniform_aug_disgust100_residua...  0.913886   0.884001   \n",
       "Fer2013_filtered_uniform_aug_disgust100_residua...  0.911496   0.884864   \n",
       "Fer2013_filtered_uniform_aug_disgust100_residua...  0.915495   0.886123   \n",
       "Fer2013_filtered_uniform_aug_disgust100_residua...  0.911458   0.876319   \n",
       "Fer2013_filtered_uniform_aug_disgust100_residua...  0.914513   0.885387   \n",
       "Fer2013_filtered_uniform_aug_disgust100_residua...  0.913784   0.878688   \n",
       "Fer2013_filtered_uniform_aug_surprise100_identi...  0.912193   0.885937   \n",
       "\n",
       "                                                    disgust AUC  fear AUC  \\\n",
       "Fer2013_filtered_uniform xval-10                       0.947797  0.845343   \n",
       "Fer2013_filtered_uniform_aug_disgust100_residua...     0.948825  0.844880   \n",
       "Fer2013_filtered_uniform_aug_disgust100_residua...     0.948275  0.856259   \n",
       "Fer2013_filtered_uniform_aug_disgust100_residua...     0.944403  0.851962   \n",
       "Fer2013_filtered_uniform_aug_disgust100_residua...     0.948898  0.850682   \n",
       "Fer2013_filtered_uniform_aug_disgust100_residua...     0.949027  0.857508   \n",
       "Fer2013_filtered_uniform_aug_disgust100_identit...     0.952008  0.851192   \n",
       "Fer2013_filtered_uniform_aug_disgust100_identit...     0.950238  0.844635   \n",
       "Fer2013_filtered_uniform_aug_disgust100_identit...     0.947222  0.852984   \n",
       "Fer2013_filtered_uniform_aug_disgust100_residua...     0.947455  0.849964   \n",
       "Fer2013_filtered_uniform_aug_disgust100_residua...     0.953938  0.851328   \n",
       "Fer2013_filtered_uniform xval-10                       0.950218  0.846412   \n",
       "Fer2013_filtered_uniform xval-10                       0.946988  0.854422   \n",
       "Fer2013_filtered_uniform_aug_disgust100_residua...     0.953368  0.848205   \n",
       "Fer2013_filtered_uniform_aug_disgust100_residua...     0.947948  0.839583   \n",
       "Fer2013_filtered_uniform_aug_disgust200_residua...     0.943203  0.854557   \n",
       "Fer2013_filtered_uniform_aug_disgust200_residua...     0.943340  0.845947   \n",
       "Fer2013_filtered_uniform_aug_disgust200_residua...     0.941868  0.847588   \n",
       "Fer2013_filtered_uniform_aug_disgust100_residua...     0.948582  0.850750   \n",
       "Fer2013_filtered_uniform_aug_disgust100_residua...     0.942338  0.854015   \n",
       "Fer2013_filtered_uniform_aug_disgust100_resisud...     0.947233  0.843760   \n",
       "Fer2013_filtered_uniform_aug_disgust100_identit...     0.942283  0.849933   \n",
       "Fer2013_filtered_uniform_aug_disgust100_identit...     0.945560  0.854055   \n",
       "Fer2013_filtered_uniform_aug_disgust100_identit...     0.947010  0.846450   \n",
       "Fer2013_filtered_uniform_aug_disgust100_identit...     0.954353  0.844516   \n",
       "Fer2013_filtered_uniform_aug_disgust100_identit...     0.953922  0.854801   \n",
       "Fer2013_filtered_uniform_aug_disgust100_identit...     0.953173  0.846325   \n",
       "Fer2013_filtered_uniform_aug_disgust100_residua...     0.945248  0.843721   \n",
       "Fer2013_filtered_uniform_aug_disgust100_residua...     0.945537  0.855107   \n",
       "Fer2013_filtered_uniform_aug_disgust100_residua...     0.945230  0.842424   \n",
       "Fer2013_filtered_uniform_aug_disgust100_residua...     0.945183  0.846008   \n",
       "Fer2013_filtered_uniform_aug_disgust100_residua...     0.944340  0.853474   \n",
       "Fer2013_filtered_uniform_aug_disgust100_residua...     0.951838  0.852397   \n",
       "Fer2013_filtered_uniform_aug_surprise100_residu...     0.945757  0.850629   \n",
       "Fer2013_filtered_uniform_aug_surprise100_residu...     0.944985  0.845678   \n",
       "Fer2013_filtered_uniform_aug_surprise100_residu...     0.945893  0.836523   \n",
       "Fer2013_filtered_uniform_aug_disgust100_residua...     0.941975  0.832474   \n",
       "Fer2013_filtered_uniform_aug_disgust100_residua...     0.944572  0.847388   \n",
       "Fer2013_filtered_uniform_aug_disgust100_residua...     0.953367  0.852685   \n",
       "Fer2013_filtered_uniform_aug_surprise1000_resid...     0.942483  0.841173   \n",
       "Fer2013_filtered_uniform_aug_surprise1000_resid...     0.949430  0.846831   \n",
       "Fer2013_filtered_uniform_aug_surprise1000_resid...     0.950525  0.850187   \n",
       "Fer2013_filtered_uniform_aug_surprise1000select...     0.949495  0.840707   \n",
       "Fer2013_filtered_uniform_aug_surprise1000select...     0.943860  0.846498   \n",
       "Fer2013_filtered_uniform_aug_surprise1000select...     0.943896  0.844174   \n",
       "Fer2013_filtered_uniform_aug_disgust100_residua...     0.949463  0.847595   \n",
       "Fer2013_filtered_uniform_aug_disgust100_residua...     0.943033  0.844009   \n",
       "Fer2013_filtered_uniform_aug_disgust100_residua...     0.949707  0.855691   \n",
       "Fer2013_filtered_uniform_aug_disgust100_residua...     0.947427  0.848239   \n",
       "Fer2013_filtered_uniform_aug_disgust100_residua...     0.949810  0.849110   \n",
       "Fer2013_filtered_uniform_aug_disgust100_residua...     0.944738  0.845413   \n",
       "Fer2013_filtered_uniform_aug_surprise100_identi...     0.944328  0.841886   \n",
       "\n",
       "                                                    happy AUC  neautral AUC  \\\n",
       "Fer2013_filtered_uniform xval-10                     0.964072      0.922568   \n",
       "Fer2013_filtered_uniform_aug_disgust100_residua...   0.963346      0.915373   \n",
       "Fer2013_filtered_uniform_aug_disgust100_residua...   0.963064      0.920421   \n",
       "Fer2013_filtered_uniform_aug_disgust100_residua...   0.963165      0.919623   \n",
       "Fer2013_filtered_uniform_aug_disgust100_residua...   0.965239      0.923594   \n",
       "Fer2013_filtered_uniform_aug_disgust100_residua...   0.963788      0.916292   \n",
       "Fer2013_filtered_uniform_aug_disgust100_identit...   0.963053      0.923192   \n",
       "Fer2013_filtered_uniform_aug_disgust100_identit...   0.960252      0.917508   \n",
       "Fer2013_filtered_uniform_aug_disgust100_identit...   0.961429      0.912841   \n",
       "Fer2013_filtered_uniform_aug_disgust100_residua...   0.963292      0.917965   \n",
       "Fer2013_filtered_uniform_aug_disgust100_residua...   0.965696      0.919801   \n",
       "Fer2013_filtered_uniform xval-10                     0.966658      0.924275   \n",
       "Fer2013_filtered_uniform xval-10                     0.959406      0.916182   \n",
       "Fer2013_filtered_uniform_aug_disgust100_residua...   0.963971      0.919146   \n",
       "Fer2013_filtered_uniform_aug_disgust100_residua...   0.962295      0.917501   \n",
       "Fer2013_filtered_uniform_aug_disgust200_residua...   0.961367      0.916866   \n",
       "Fer2013_filtered_uniform_aug_disgust200_residua...   0.965096      0.918108   \n",
       "Fer2013_filtered_uniform_aug_disgust200_residua...   0.960477      0.913739   \n",
       "Fer2013_filtered_uniform_aug_disgust100_residua...   0.965934      0.919406   \n",
       "Fer2013_filtered_uniform_aug_disgust100_residua...   0.963248      0.915849   \n",
       "Fer2013_filtered_uniform_aug_disgust100_resisud...   0.965465      0.924010   \n",
       "Fer2013_filtered_uniform_aug_disgust100_identit...   0.964438      0.919130   \n",
       "Fer2013_filtered_uniform_aug_disgust100_identit...   0.963354      0.915940   \n",
       "Fer2013_filtered_uniform_aug_disgust100_identit...   0.962219      0.916484   \n",
       "Fer2013_filtered_uniform_aug_disgust100_identit...   0.963356      0.917976   \n",
       "Fer2013_filtered_uniform_aug_disgust100_identit...   0.963232      0.914302   \n",
       "Fer2013_filtered_uniform_aug_disgust100_identit...   0.962533      0.912112   \n",
       "Fer2013_filtered_uniform_aug_disgust100_residua...   0.963858      0.917198   \n",
       "Fer2013_filtered_uniform_aug_disgust100_residua...   0.965324      0.923231   \n",
       "Fer2013_filtered_uniform_aug_disgust100_residua...   0.963190      0.913098   \n",
       "Fer2013_filtered_uniform_aug_disgust100_residua...   0.964723      0.920014   \n",
       "Fer2013_filtered_uniform_aug_disgust100_residua...   0.966297      0.918256   \n",
       "Fer2013_filtered_uniform_aug_disgust100_residua...   0.961178      0.919172   \n",
       "Fer2013_filtered_uniform_aug_surprise100_residu...   0.959014      0.915828   \n",
       "Fer2013_filtered_uniform_aug_surprise100_residu...   0.961329      0.918685   \n",
       "Fer2013_filtered_uniform_aug_surprise100_residu...   0.962504      0.919319   \n",
       "Fer2013_filtered_uniform_aug_disgust100_residua...   0.959896      0.918168   \n",
       "Fer2013_filtered_uniform_aug_disgust100_residua...   0.960854      0.910368   \n",
       "Fer2013_filtered_uniform_aug_disgust100_residua...   0.964613      0.921157   \n",
       "Fer2013_filtered_uniform_aug_surprise1000_resid...   0.961132      0.917946   \n",
       "Fer2013_filtered_uniform_aug_surprise1000_resid...   0.961463      0.915561   \n",
       "Fer2013_filtered_uniform_aug_surprise1000_resid...   0.961472      0.915796   \n",
       "Fer2013_filtered_uniform_aug_surprise1000select...   0.960076      0.919953   \n",
       "Fer2013_filtered_uniform_aug_surprise1000select...   0.959932      0.910432   \n",
       "Fer2013_filtered_uniform_aug_surprise1000select...   0.960939      0.910187   \n",
       "Fer2013_filtered_uniform_aug_disgust100_residua...   0.960775      0.921398   \n",
       "Fer2013_filtered_uniform_aug_disgust100_residua...   0.961162      0.919363   \n",
       "Fer2013_filtered_uniform_aug_disgust100_residua...   0.961600      0.921932   \n",
       "Fer2013_filtered_uniform_aug_disgust100_residua...   0.964142      0.914047   \n",
       "Fer2013_filtered_uniform_aug_disgust100_residua...   0.963531      0.923408   \n",
       "Fer2013_filtered_uniform_aug_disgust100_residua...   0.962750      0.925673   \n",
       "Fer2013_filtered_uniform_aug_surprise100_identi...   0.962428      0.918903   \n",
       "\n",
       "                                                     sad AUC  surprise AUC  \\\n",
       "Fer2013_filtered_uniform xval-10                    0.854387      0.975025   \n",
       "Fer2013_filtered_uniform_aug_disgust100_residua...  0.848816      0.975559   \n",
       "Fer2013_filtered_uniform_aug_disgust100_residua...  0.857468      0.973912   \n",
       "Fer2013_filtered_uniform_aug_disgust100_residua...  0.855662      0.977569   \n",
       "Fer2013_filtered_uniform_aug_disgust100_residua...  0.863687      0.976787   \n",
       "Fer2013_filtered_uniform_aug_disgust100_residua...  0.859655      0.973098   \n",
       "Fer2013_filtered_uniform_aug_disgust100_identit...  0.862476      0.978560   \n",
       "Fer2013_filtered_uniform_aug_disgust100_identit...  0.853189      0.976167   \n",
       "Fer2013_filtered_uniform_aug_disgust100_identit...  0.850608      0.973453   \n",
       "Fer2013_filtered_uniform_aug_disgust100_residua...  0.856163      0.974864   \n",
       "Fer2013_filtered_uniform_aug_disgust100_residua...  0.854846      0.977138   \n",
       "Fer2013_filtered_uniform xval-10                    0.859469      0.974378   \n",
       "Fer2013_filtered_uniform xval-10                    0.855532      0.974173   \n",
       "Fer2013_filtered_uniform_aug_disgust100_residua...  0.859974      0.974657   \n",
       "Fer2013_filtered_uniform_aug_disgust100_residua...  0.854655      0.976978   \n",
       "Fer2013_filtered_uniform_aug_disgust200_residua...  0.853707      0.974738   \n",
       "Fer2013_filtered_uniform_aug_disgust200_residua...  0.865717      0.975588   \n",
       "Fer2013_filtered_uniform_aug_disgust200_residua...  0.854942      0.973542   \n",
       "Fer2013_filtered_uniform_aug_disgust100_residua...  0.859143      0.974344   \n",
       "Fer2013_filtered_uniform_aug_disgust100_residua...  0.853721      0.975982   \n",
       "Fer2013_filtered_uniform_aug_disgust100_resisud...  0.865355      0.974494   \n",
       "Fer2013_filtered_uniform_aug_disgust100_identit...  0.856001      0.973087   \n",
       "Fer2013_filtered_uniform_aug_disgust100_identit...  0.849497      0.975677   \n",
       "Fer2013_filtered_uniform_aug_disgust100_identit...  0.851853      0.974244   \n",
       "Fer2013_filtered_uniform_aug_disgust100_identit...  0.865387      0.979400   \n",
       "Fer2013_filtered_uniform_aug_disgust100_identit...  0.854207      0.975217   \n",
       "Fer2013_filtered_uniform_aug_disgust100_identit...  0.850128      0.974292   \n",
       "Fer2013_filtered_uniform_aug_disgust100_residua...  0.857880      0.974677   \n",
       "Fer2013_filtered_uniform_aug_disgust100_residua...  0.859734      0.976118   \n",
       "Fer2013_filtered_uniform_aug_disgust100_residua...  0.851973      0.973384   \n",
       "Fer2013_filtered_uniform_aug_disgust100_residua...  0.850127      0.977727   \n",
       "Fer2013_filtered_uniform_aug_disgust100_residua...  0.862022      0.972192   \n",
       "Fer2013_filtered_uniform_aug_disgust100_residua...  0.859343      0.973851   \n",
       "Fer2013_filtered_uniform_aug_surprise100_residu...  0.852598      0.974329   \n",
       "Fer2013_filtered_uniform_aug_surprise100_residu...  0.855305      0.973363   \n",
       "Fer2013_filtered_uniform_aug_surprise100_residu...  0.856182      0.971740   \n",
       "Fer2013_filtered_uniform_aug_disgust100_residua...  0.859574      0.975185   \n",
       "Fer2013_filtered_uniform_aug_disgust100_residua...  0.850389      0.976491   \n",
       "Fer2013_filtered_uniform_aug_disgust100_residua...  0.864861      0.974146   \n",
       "Fer2013_filtered_uniform_aug_surprise1000_resid...  0.855154      0.972573   \n",
       "Fer2013_filtered_uniform_aug_surprise1000_resid...  0.852301      0.971760   \n",
       "Fer2013_filtered_uniform_aug_surprise1000_resid...  0.863858      0.972342   \n",
       "Fer2013_filtered_uniform_aug_surprise1000select...  0.853320      0.971498   \n",
       "Fer2013_filtered_uniform_aug_surprise1000select...  0.851163      0.973457   \n",
       "Fer2013_filtered_uniform_aug_surprise1000select...  0.851456      0.974108   \n",
       "Fer2013_filtered_uniform_aug_disgust100_residua...  0.856634      0.977334   \n",
       "Fer2013_filtered_uniform_aug_disgust100_residua...  0.854122      0.973919   \n",
       "Fer2013_filtered_uniform_aug_disgust100_residua...  0.857847      0.975567   \n",
       "Fer2013_filtered_uniform_aug_disgust100_residua...  0.854527      0.975505   \n",
       "Fer2013_filtered_uniform_aug_disgust100_residua...  0.855682      0.974666   \n",
       "Fer2013_filtered_uniform_aug_disgust100_residua...  0.862313      0.976917   \n",
       "Fer2013_filtered_uniform_aug_surprise100_identi...  0.857952      0.973921   \n",
       "\n",
       "                                                    mean PREC  angry PREC  \\\n",
       "Fer2013_filtered_uniform xval-10                     0.637857       0.544   \n",
       "Fer2013_filtered_uniform_aug_disgust100_residua...   0.639000       0.564   \n",
       "Fer2013_filtered_uniform_aug_disgust100_residua...   0.636286       0.546   \n",
       "Fer2013_filtered_uniform_aug_disgust100_residua...   0.639000       0.549   \n",
       "Fer2013_filtered_uniform_aug_disgust100_residua...   0.643857       0.572   \n",
       "Fer2013_filtered_uniform_aug_disgust100_residua...   0.647286       0.557   \n",
       "Fer2013_filtered_uniform_aug_disgust100_identit...   0.645429       0.542   \n",
       "Fer2013_filtered_uniform_aug_disgust100_identit...   0.638714       0.569   \n",
       "Fer2013_filtered_uniform_aug_disgust100_identit...   0.636286       0.548   \n",
       "Fer2013_filtered_uniform_aug_disgust100_residua...   0.641000       0.564   \n",
       "Fer2013_filtered_uniform_aug_disgust100_residua...   0.647143       0.582   \n",
       "Fer2013_filtered_uniform xval-10                     0.641857       0.569   \n",
       "Fer2013_filtered_uniform xval-10                     0.636286       0.560   \n",
       "Fer2013_filtered_uniform_aug_disgust100_residua...   0.642429       0.558   \n",
       "Fer2013_filtered_uniform_aug_disgust100_residua...   0.634286       0.562   \n",
       "Fer2013_filtered_uniform_aug_disgust200_residua...   0.643000       0.562   \n",
       "Fer2013_filtered_uniform_aug_disgust200_residua...   0.648857       0.583   \n",
       "Fer2013_filtered_uniform_aug_disgust200_residua...   0.634857       0.565   \n",
       "Fer2013_filtered_uniform_aug_disgust100_residua...   0.636857       0.536   \n",
       "Fer2013_filtered_uniform_aug_disgust100_residua...   0.644714       0.561   \n",
       "Fer2013_filtered_uniform_aug_disgust100_resisud...   0.646857       0.598   \n",
       "Fer2013_filtered_uniform_aug_disgust100_identit...   0.640857       0.564   \n",
       "Fer2013_filtered_uniform_aug_disgust100_identit...   0.639429       0.550   \n",
       "Fer2013_filtered_uniform_aug_disgust100_identit...   0.637429       0.549   \n",
       "Fer2013_filtered_uniform_aug_disgust100_identit...   0.643286       0.573   \n",
       "Fer2013_filtered_uniform_aug_disgust100_identit...   0.637000       0.549   \n",
       "Fer2013_filtered_uniform_aug_disgust100_identit...   0.628857       0.542   \n",
       "Fer2013_filtered_uniform_aug_disgust100_residua...   0.637429       0.552   \n",
       "Fer2013_filtered_uniform_aug_disgust100_residua...   0.646714       0.570   \n",
       "Fer2013_filtered_uniform_aug_disgust100_residua...   0.632286       0.563   \n",
       "Fer2013_filtered_uniform_aug_disgust100_residua...   0.637857       0.555   \n",
       "Fer2013_filtered_uniform_aug_disgust100_residua...   0.642143       0.551   \n",
       "Fer2013_filtered_uniform_aug_disgust100_residua...   0.639857       0.535   \n",
       "Fer2013_filtered_uniform_aug_surprise100_residu...   0.637714       0.529   \n",
       "Fer2013_filtered_uniform_aug_surprise100_residu...   0.641143       0.521   \n",
       "Fer2013_filtered_uniform_aug_surprise100_residu...   0.637857       0.542   \n",
       "Fer2013_filtered_uniform_aug_disgust100_residua...   0.635429       0.554   \n",
       "Fer2013_filtered_uniform_aug_disgust100_residua...   0.627857       0.529   \n",
       "Fer2013_filtered_uniform_aug_disgust100_residua...   0.646286       0.562   \n",
       "Fer2013_filtered_uniform_aug_surprise1000_resid...   0.639000       0.560   \n",
       "Fer2013_filtered_uniform_aug_surprise1000_resid...   0.637714       0.538   \n",
       "Fer2013_filtered_uniform_aug_surprise1000_resid...   0.642000       0.528   \n",
       "Fer2013_filtered_uniform_aug_surprise1000select...   0.636714       0.549   \n",
       "Fer2013_filtered_uniform_aug_surprise1000select...   0.630857       0.554   \n",
       "Fer2013_filtered_uniform_aug_surprise1000select...   0.637714       0.573   \n",
       "Fer2013_filtered_uniform_aug_disgust100_residua...   0.648286       0.590   \n",
       "Fer2013_filtered_uniform_aug_disgust100_residua...   0.641286       0.560   \n",
       "Fer2013_filtered_uniform_aug_disgust100_residua...   0.650857       0.561   \n",
       "Fer2013_filtered_uniform_aug_disgust100_residua...   0.636286       0.563   \n",
       "Fer2013_filtered_uniform_aug_disgust100_residua...   0.645286       0.585   \n",
       "Fer2013_filtered_uniform_aug_disgust100_residua...   0.640286       0.546   \n",
       "Fer2013_filtered_uniform_aug_surprise100_identi...        NaN         NaN   \n",
       "\n",
       "                                                    ...  sad PREC  \\\n",
       "Fer2013_filtered_uniform xval-10                    ...     0.594   \n",
       "Fer2013_filtered_uniform_aug_disgust100_residua...  ...     0.564   \n",
       "Fer2013_filtered_uniform_aug_disgust100_residua...  ...     0.583   \n",
       "Fer2013_filtered_uniform_aug_disgust100_residua...  ...     0.587   \n",
       "Fer2013_filtered_uniform_aug_disgust100_residua...  ...     0.571   \n",
       "Fer2013_filtered_uniform_aug_disgust100_residua...  ...     0.596   \n",
       "Fer2013_filtered_uniform_aug_disgust100_identit...  ...     0.578   \n",
       "Fer2013_filtered_uniform_aug_disgust100_identit...  ...     0.577   \n",
       "Fer2013_filtered_uniform_aug_disgust100_identit...  ...     0.554   \n",
       "Fer2013_filtered_uniform_aug_disgust100_residua...  ...     0.588   \n",
       "Fer2013_filtered_uniform_aug_disgust100_residua...  ...     0.593   \n",
       "Fer2013_filtered_uniform xval-10                    ...     0.602   \n",
       "Fer2013_filtered_uniform xval-10                    ...     0.585   \n",
       "Fer2013_filtered_uniform_aug_disgust100_residua...  ...     0.585   \n",
       "Fer2013_filtered_uniform_aug_disgust100_residua...  ...     0.568   \n",
       "Fer2013_filtered_uniform_aug_disgust200_residua...  ...     0.596   \n",
       "Fer2013_filtered_uniform_aug_disgust200_residua...  ...     0.591   \n",
       "Fer2013_filtered_uniform_aug_disgust200_residua...  ...     0.567   \n",
       "Fer2013_filtered_uniform_aug_disgust100_residua...  ...     0.588   \n",
       "Fer2013_filtered_uniform_aug_disgust100_residua...  ...     0.570   \n",
       "Fer2013_filtered_uniform_aug_disgust100_resisud...  ...     0.584   \n",
       "Fer2013_filtered_uniform_aug_disgust100_identit...  ...     0.570   \n",
       "Fer2013_filtered_uniform_aug_disgust100_identit...  ...     0.582   \n",
       "Fer2013_filtered_uniform_aug_disgust100_identit...  ...     0.574   \n",
       "Fer2013_filtered_uniform_aug_disgust100_identit...  ...     0.607   \n",
       "Fer2013_filtered_uniform_aug_disgust100_identit...  ...     0.571   \n",
       "Fer2013_filtered_uniform_aug_disgust100_identit...  ...     0.564   \n",
       "Fer2013_filtered_uniform_aug_disgust100_residua...  ...     0.582   \n",
       "Fer2013_filtered_uniform_aug_disgust100_residua...  ...     0.607   \n",
       "Fer2013_filtered_uniform_aug_disgust100_residua...  ...     0.574   \n",
       "Fer2013_filtered_uniform_aug_disgust100_residua...  ...     0.571   \n",
       "Fer2013_filtered_uniform_aug_disgust100_residua...  ...     0.602   \n",
       "Fer2013_filtered_uniform_aug_disgust100_residua...  ...     0.594   \n",
       "Fer2013_filtered_uniform_aug_surprise100_residu...  ...     0.586   \n",
       "Fer2013_filtered_uniform_aug_surprise100_residu...  ...     0.575   \n",
       "Fer2013_filtered_uniform_aug_surprise100_residu...  ...     0.551   \n",
       "Fer2013_filtered_uniform_aug_disgust100_residua...  ...     0.604   \n",
       "Fer2013_filtered_uniform_aug_disgust100_residua...  ...     0.565   \n",
       "Fer2013_filtered_uniform_aug_disgust100_residua...  ...     0.593   \n",
       "Fer2013_filtered_uniform_aug_surprise1000_resid...  ...     0.600   \n",
       "Fer2013_filtered_uniform_aug_surprise1000_resid...  ...     0.572   \n",
       "Fer2013_filtered_uniform_aug_surprise1000_resid...  ...     0.614   \n",
       "Fer2013_filtered_uniform_aug_surprise1000select...  ...     0.577   \n",
       "Fer2013_filtered_uniform_aug_surprise1000select...  ...     0.578   \n",
       "Fer2013_filtered_uniform_aug_surprise1000select...  ...     0.603   \n",
       "Fer2013_filtered_uniform_aug_disgust100_residua...  ...     0.571   \n",
       "Fer2013_filtered_uniform_aug_disgust100_residua...  ...     0.569   \n",
       "Fer2013_filtered_uniform_aug_disgust100_residua...  ...     0.571   \n",
       "Fer2013_filtered_uniform_aug_disgust100_residua...  ...     0.568   \n",
       "Fer2013_filtered_uniform_aug_disgust100_residua...  ...     0.564   \n",
       "Fer2013_filtered_uniform_aug_disgust100_residua...  ...     0.584   \n",
       "Fer2013_filtered_uniform_aug_surprise100_identi...  ...       NaN   \n",
       "\n",
       "                                                    surprise PREC  mean ACC  \\\n",
       "Fer2013_filtered_uniform xval-10                            0.811       NaN   \n",
       "Fer2013_filtered_uniform_aug_disgust100_residua...          0.822       NaN   \n",
       "Fer2013_filtered_uniform_aug_disgust100_residua...          0.792       NaN   \n",
       "Fer2013_filtered_uniform_aug_disgust100_residua...          0.824       NaN   \n",
       "Fer2013_filtered_uniform_aug_disgust100_residua...          0.810       NaN   \n",
       "Fer2013_filtered_uniform_aug_disgust100_residua...          0.810       NaN   \n",
       "Fer2013_filtered_uniform_aug_disgust100_identit...          0.815       NaN   \n",
       "Fer2013_filtered_uniform_aug_disgust100_identit...          0.816       NaN   \n",
       "Fer2013_filtered_uniform_aug_disgust100_identit...          0.805       NaN   \n",
       "Fer2013_filtered_uniform_aug_disgust100_residua...          0.812       NaN   \n",
       "Fer2013_filtered_uniform_aug_disgust100_residua...          0.821       NaN   \n",
       "Fer2013_filtered_uniform xval-10                            0.786       NaN   \n",
       "Fer2013_filtered_uniform xval-10                            0.804       NaN   \n",
       "Fer2013_filtered_uniform_aug_disgust100_residua...          0.820       NaN   \n",
       "Fer2013_filtered_uniform_aug_disgust100_residua...          0.815       NaN   \n",
       "Fer2013_filtered_uniform_aug_disgust200_residua...          0.815       NaN   \n",
       "Fer2013_filtered_uniform_aug_disgust200_residua...          0.819       NaN   \n",
       "Fer2013_filtered_uniform_aug_disgust200_residua...          0.804       NaN   \n",
       "Fer2013_filtered_uniform_aug_disgust100_residua...          0.801       NaN   \n",
       "Fer2013_filtered_uniform_aug_disgust100_residua...          0.820       NaN   \n",
       "Fer2013_filtered_uniform_aug_disgust100_resisud...          0.807       NaN   \n",
       "Fer2013_filtered_uniform_aug_disgust100_identit...          0.790       NaN   \n",
       "Fer2013_filtered_uniform_aug_disgust100_identit...          0.799       NaN   \n",
       "Fer2013_filtered_uniform_aug_disgust100_identit...          0.806       NaN   \n",
       "Fer2013_filtered_uniform_aug_disgust100_identit...          0.827       NaN   \n",
       "Fer2013_filtered_uniform_aug_disgust100_identit...          0.820       NaN   \n",
       "Fer2013_filtered_uniform_aug_disgust100_identit...          0.798       NaN   \n",
       "Fer2013_filtered_uniform_aug_disgust100_residua...          0.806       NaN   \n",
       "Fer2013_filtered_uniform_aug_disgust100_residua...          0.825       NaN   \n",
       "Fer2013_filtered_uniform_aug_disgust100_residua...          0.798       NaN   \n",
       "Fer2013_filtered_uniform_aug_disgust100_residua...          0.822       NaN   \n",
       "Fer2013_filtered_uniform_aug_disgust100_residua...          0.819       NaN   \n",
       "Fer2013_filtered_uniform_aug_disgust100_residua...          0.806       NaN   \n",
       "Fer2013_filtered_uniform_aug_surprise100_residu...          0.808       NaN   \n",
       "Fer2013_filtered_uniform_aug_surprise100_residu...          0.810       NaN   \n",
       "Fer2013_filtered_uniform_aug_surprise100_residu...          0.812       NaN   \n",
       "Fer2013_filtered_uniform_aug_disgust100_residua...          0.804       NaN   \n",
       "Fer2013_filtered_uniform_aug_disgust100_residua...          0.808       NaN   \n",
       "Fer2013_filtered_uniform_aug_disgust100_residua...          0.808       NaN   \n",
       "Fer2013_filtered_uniform_aug_surprise1000_resid...          0.825       NaN   \n",
       "Fer2013_filtered_uniform_aug_surprise1000_resid...          0.830       NaN   \n",
       "Fer2013_filtered_uniform_aug_surprise1000_resid...          0.811       NaN   \n",
       "Fer2013_filtered_uniform_aug_surprise1000select...          0.808       NaN   \n",
       "Fer2013_filtered_uniform_aug_surprise1000select...          0.791       NaN   \n",
       "Fer2013_filtered_uniform_aug_surprise1000select...          0.813       NaN   \n",
       "Fer2013_filtered_uniform_aug_disgust100_residua...          0.810       NaN   \n",
       "Fer2013_filtered_uniform_aug_disgust100_residua...          0.787       NaN   \n",
       "Fer2013_filtered_uniform_aug_disgust100_residua...          0.815       NaN   \n",
       "Fer2013_filtered_uniform_aug_disgust100_residua...          0.815       NaN   \n",
       "Fer2013_filtered_uniform_aug_disgust100_residua...          0.809       NaN   \n",
       "Fer2013_filtered_uniform_aug_disgust100_residua...          0.818       NaN   \n",
       "Fer2013_filtered_uniform_aug_surprise100_identi...            NaN  0.645429   \n",
       "\n",
       "                                                    angry ACC  disgust ACC  \\\n",
       "Fer2013_filtered_uniform xval-10                          NaN          NaN   \n",
       "Fer2013_filtered_uniform_aug_disgust100_residua...        NaN          NaN   \n",
       "Fer2013_filtered_uniform_aug_disgust100_residua...        NaN          NaN   \n",
       "Fer2013_filtered_uniform_aug_disgust100_residua...        NaN          NaN   \n",
       "Fer2013_filtered_uniform_aug_disgust100_residua...        NaN          NaN   \n",
       "Fer2013_filtered_uniform_aug_disgust100_residua...        NaN          NaN   \n",
       "Fer2013_filtered_uniform_aug_disgust100_identit...        NaN          NaN   \n",
       "Fer2013_filtered_uniform_aug_disgust100_identit...        NaN          NaN   \n",
       "Fer2013_filtered_uniform_aug_disgust100_identit...        NaN          NaN   \n",
       "Fer2013_filtered_uniform_aug_disgust100_residua...        NaN          NaN   \n",
       "Fer2013_filtered_uniform_aug_disgust100_residua...        NaN          NaN   \n",
       "Fer2013_filtered_uniform xval-10                          NaN          NaN   \n",
       "Fer2013_filtered_uniform xval-10                          NaN          NaN   \n",
       "Fer2013_filtered_uniform_aug_disgust100_residua...        NaN          NaN   \n",
       "Fer2013_filtered_uniform_aug_disgust100_residua...        NaN          NaN   \n",
       "Fer2013_filtered_uniform_aug_disgust200_residua...        NaN          NaN   \n",
       "Fer2013_filtered_uniform_aug_disgust200_residua...        NaN          NaN   \n",
       "Fer2013_filtered_uniform_aug_disgust200_residua...        NaN          NaN   \n",
       "Fer2013_filtered_uniform_aug_disgust100_residua...        NaN          NaN   \n",
       "Fer2013_filtered_uniform_aug_disgust100_residua...        NaN          NaN   \n",
       "Fer2013_filtered_uniform_aug_disgust100_resisud...        NaN          NaN   \n",
       "Fer2013_filtered_uniform_aug_disgust100_identit...        NaN          NaN   \n",
       "Fer2013_filtered_uniform_aug_disgust100_identit...        NaN          NaN   \n",
       "Fer2013_filtered_uniform_aug_disgust100_identit...        NaN          NaN   \n",
       "Fer2013_filtered_uniform_aug_disgust100_identit...        NaN          NaN   \n",
       "Fer2013_filtered_uniform_aug_disgust100_identit...        NaN          NaN   \n",
       "Fer2013_filtered_uniform_aug_disgust100_identit...        NaN          NaN   \n",
       "Fer2013_filtered_uniform_aug_disgust100_residua...        NaN          NaN   \n",
       "Fer2013_filtered_uniform_aug_disgust100_residua...        NaN          NaN   \n",
       "Fer2013_filtered_uniform_aug_disgust100_residua...        NaN          NaN   \n",
       "Fer2013_filtered_uniform_aug_disgust100_residua...        NaN          NaN   \n",
       "Fer2013_filtered_uniform_aug_disgust100_residua...        NaN          NaN   \n",
       "Fer2013_filtered_uniform_aug_disgust100_residua...        NaN          NaN   \n",
       "Fer2013_filtered_uniform_aug_surprise100_residu...        NaN          NaN   \n",
       "Fer2013_filtered_uniform_aug_surprise100_residu...        NaN          NaN   \n",
       "Fer2013_filtered_uniform_aug_surprise100_residu...        NaN          NaN   \n",
       "Fer2013_filtered_uniform_aug_disgust100_residua...        NaN          NaN   \n",
       "Fer2013_filtered_uniform_aug_disgust100_residua...        NaN          NaN   \n",
       "Fer2013_filtered_uniform_aug_disgust100_residua...        NaN          NaN   \n",
       "Fer2013_filtered_uniform_aug_surprise1000_resid...        NaN          NaN   \n",
       "Fer2013_filtered_uniform_aug_surprise1000_resid...        NaN          NaN   \n",
       "Fer2013_filtered_uniform_aug_surprise1000_resid...        NaN          NaN   \n",
       "Fer2013_filtered_uniform_aug_surprise1000select...        NaN          NaN   \n",
       "Fer2013_filtered_uniform_aug_surprise1000select...        NaN          NaN   \n",
       "Fer2013_filtered_uniform_aug_surprise1000select...        NaN          NaN   \n",
       "Fer2013_filtered_uniform_aug_disgust100_residua...        NaN          NaN   \n",
       "Fer2013_filtered_uniform_aug_disgust100_residua...        NaN          NaN   \n",
       "Fer2013_filtered_uniform_aug_disgust100_residua...        NaN          NaN   \n",
       "Fer2013_filtered_uniform_aug_disgust100_residua...        NaN          NaN   \n",
       "Fer2013_filtered_uniform_aug_disgust100_residua...        NaN          NaN   \n",
       "Fer2013_filtered_uniform_aug_disgust100_residua...        NaN          NaN   \n",
       "Fer2013_filtered_uniform_aug_surprise100_identi...      0.568        0.543   \n",
       "\n",
       "                                                    fear ACC  happy ACC  \\\n",
       "Fer2013_filtered_uniform xval-10                         NaN        NaN   \n",
       "Fer2013_filtered_uniform_aug_disgust100_residua...       NaN        NaN   \n",
       "Fer2013_filtered_uniform_aug_disgust100_residua...       NaN        NaN   \n",
       "Fer2013_filtered_uniform_aug_disgust100_residua...       NaN        NaN   \n",
       "Fer2013_filtered_uniform_aug_disgust100_residua...       NaN        NaN   \n",
       "Fer2013_filtered_uniform_aug_disgust100_residua...       NaN        NaN   \n",
       "Fer2013_filtered_uniform_aug_disgust100_identit...       NaN        NaN   \n",
       "Fer2013_filtered_uniform_aug_disgust100_identit...       NaN        NaN   \n",
       "Fer2013_filtered_uniform_aug_disgust100_identit...       NaN        NaN   \n",
       "Fer2013_filtered_uniform_aug_disgust100_residua...       NaN        NaN   \n",
       "Fer2013_filtered_uniform_aug_disgust100_residua...       NaN        NaN   \n",
       "Fer2013_filtered_uniform xval-10                         NaN        NaN   \n",
       "Fer2013_filtered_uniform xval-10                         NaN        NaN   \n",
       "Fer2013_filtered_uniform_aug_disgust100_residua...       NaN        NaN   \n",
       "Fer2013_filtered_uniform_aug_disgust100_residua...       NaN        NaN   \n",
       "Fer2013_filtered_uniform_aug_disgust200_residua...       NaN        NaN   \n",
       "Fer2013_filtered_uniform_aug_disgust200_residua...       NaN        NaN   \n",
       "Fer2013_filtered_uniform_aug_disgust200_residua...       NaN        NaN   \n",
       "Fer2013_filtered_uniform_aug_disgust100_residua...       NaN        NaN   \n",
       "Fer2013_filtered_uniform_aug_disgust100_residua...       NaN        NaN   \n",
       "Fer2013_filtered_uniform_aug_disgust100_resisud...       NaN        NaN   \n",
       "Fer2013_filtered_uniform_aug_disgust100_identit...       NaN        NaN   \n",
       "Fer2013_filtered_uniform_aug_disgust100_identit...       NaN        NaN   \n",
       "Fer2013_filtered_uniform_aug_disgust100_identit...       NaN        NaN   \n",
       "Fer2013_filtered_uniform_aug_disgust100_identit...       NaN        NaN   \n",
       "Fer2013_filtered_uniform_aug_disgust100_identit...       NaN        NaN   \n",
       "Fer2013_filtered_uniform_aug_disgust100_identit...       NaN        NaN   \n",
       "Fer2013_filtered_uniform_aug_disgust100_residua...       NaN        NaN   \n",
       "Fer2013_filtered_uniform_aug_disgust100_residua...       NaN        NaN   \n",
       "Fer2013_filtered_uniform_aug_disgust100_residua...       NaN        NaN   \n",
       "Fer2013_filtered_uniform_aug_disgust100_residua...       NaN        NaN   \n",
       "Fer2013_filtered_uniform_aug_disgust100_residua...       NaN        NaN   \n",
       "Fer2013_filtered_uniform_aug_disgust100_residua...       NaN        NaN   \n",
       "Fer2013_filtered_uniform_aug_surprise100_residu...       NaN        NaN   \n",
       "Fer2013_filtered_uniform_aug_surprise100_residu...       NaN        NaN   \n",
       "Fer2013_filtered_uniform_aug_surprise100_residu...       NaN        NaN   \n",
       "Fer2013_filtered_uniform_aug_disgust100_residua...       NaN        NaN   \n",
       "Fer2013_filtered_uniform_aug_disgust100_residua...       NaN        NaN   \n",
       "Fer2013_filtered_uniform_aug_disgust100_residua...       NaN        NaN   \n",
       "Fer2013_filtered_uniform_aug_surprise1000_resid...       NaN        NaN   \n",
       "Fer2013_filtered_uniform_aug_surprise1000_resid...       NaN        NaN   \n",
       "Fer2013_filtered_uniform_aug_surprise1000_resid...       NaN        NaN   \n",
       "Fer2013_filtered_uniform_aug_surprise1000select...       NaN        NaN   \n",
       "Fer2013_filtered_uniform_aug_surprise1000select...       NaN        NaN   \n",
       "Fer2013_filtered_uniform_aug_surprise1000select...       NaN        NaN   \n",
       "Fer2013_filtered_uniform_aug_disgust100_residua...       NaN        NaN   \n",
       "Fer2013_filtered_uniform_aug_disgust100_residua...       NaN        NaN   \n",
       "Fer2013_filtered_uniform_aug_disgust100_residua...       NaN        NaN   \n",
       "Fer2013_filtered_uniform_aug_disgust100_residua...       NaN        NaN   \n",
       "Fer2013_filtered_uniform_aug_disgust100_residua...       NaN        NaN   \n",
       "Fer2013_filtered_uniform_aug_disgust100_residua...       NaN        NaN   \n",
       "Fer2013_filtered_uniform_aug_surprise100_identi...     0.473      0.817   \n",
       "\n",
       "                                                    neautral ACC  sad ACC  \\\n",
       "Fer2013_filtered_uniform xval-10                             NaN      NaN   \n",
       "Fer2013_filtered_uniform_aug_disgust100_residua...           NaN      NaN   \n",
       "Fer2013_filtered_uniform_aug_disgust100_residua...           NaN      NaN   \n",
       "Fer2013_filtered_uniform_aug_disgust100_residua...           NaN      NaN   \n",
       "Fer2013_filtered_uniform_aug_disgust100_residua...           NaN      NaN   \n",
       "Fer2013_filtered_uniform_aug_disgust100_residua...           NaN      NaN   \n",
       "Fer2013_filtered_uniform_aug_disgust100_identit...           NaN      NaN   \n",
       "Fer2013_filtered_uniform_aug_disgust100_identit...           NaN      NaN   \n",
       "Fer2013_filtered_uniform_aug_disgust100_identit...           NaN      NaN   \n",
       "Fer2013_filtered_uniform_aug_disgust100_residua...           NaN      NaN   \n",
       "Fer2013_filtered_uniform_aug_disgust100_residua...           NaN      NaN   \n",
       "Fer2013_filtered_uniform xval-10                             NaN      NaN   \n",
       "Fer2013_filtered_uniform xval-10                             NaN      NaN   \n",
       "Fer2013_filtered_uniform_aug_disgust100_residua...           NaN      NaN   \n",
       "Fer2013_filtered_uniform_aug_disgust100_residua...           NaN      NaN   \n",
       "Fer2013_filtered_uniform_aug_disgust200_residua...           NaN      NaN   \n",
       "Fer2013_filtered_uniform_aug_disgust200_residua...           NaN      NaN   \n",
       "Fer2013_filtered_uniform_aug_disgust200_residua...           NaN      NaN   \n",
       "Fer2013_filtered_uniform_aug_disgust100_residua...           NaN      NaN   \n",
       "Fer2013_filtered_uniform_aug_disgust100_residua...           NaN      NaN   \n",
       "Fer2013_filtered_uniform_aug_disgust100_resisud...           NaN      NaN   \n",
       "Fer2013_filtered_uniform_aug_disgust100_identit...           NaN      NaN   \n",
       "Fer2013_filtered_uniform_aug_disgust100_identit...           NaN      NaN   \n",
       "Fer2013_filtered_uniform_aug_disgust100_identit...           NaN      NaN   \n",
       "Fer2013_filtered_uniform_aug_disgust100_identit...           NaN      NaN   \n",
       "Fer2013_filtered_uniform_aug_disgust100_identit...           NaN      NaN   \n",
       "Fer2013_filtered_uniform_aug_disgust100_identit...           NaN      NaN   \n",
       "Fer2013_filtered_uniform_aug_disgust100_residua...           NaN      NaN   \n",
       "Fer2013_filtered_uniform_aug_disgust100_residua...           NaN      NaN   \n",
       "Fer2013_filtered_uniform_aug_disgust100_residua...           NaN      NaN   \n",
       "Fer2013_filtered_uniform_aug_disgust100_residua...           NaN      NaN   \n",
       "Fer2013_filtered_uniform_aug_disgust100_residua...           NaN      NaN   \n",
       "Fer2013_filtered_uniform_aug_disgust100_residua...           NaN      NaN   \n",
       "Fer2013_filtered_uniform_aug_surprise100_residu...           NaN      NaN   \n",
       "Fer2013_filtered_uniform_aug_surprise100_residu...           NaN      NaN   \n",
       "Fer2013_filtered_uniform_aug_surprise100_residu...           NaN      NaN   \n",
       "Fer2013_filtered_uniform_aug_disgust100_residua...           NaN      NaN   \n",
       "Fer2013_filtered_uniform_aug_disgust100_residua...           NaN      NaN   \n",
       "Fer2013_filtered_uniform_aug_disgust100_residua...           NaN      NaN   \n",
       "Fer2013_filtered_uniform_aug_surprise1000_resid...           NaN      NaN   \n",
       "Fer2013_filtered_uniform_aug_surprise1000_resid...           NaN      NaN   \n",
       "Fer2013_filtered_uniform_aug_surprise1000_resid...           NaN      NaN   \n",
       "Fer2013_filtered_uniform_aug_surprise1000select...           NaN      NaN   \n",
       "Fer2013_filtered_uniform_aug_surprise1000select...           NaN      NaN   \n",
       "Fer2013_filtered_uniform_aug_surprise1000select...           NaN      NaN   \n",
       "Fer2013_filtered_uniform_aug_disgust100_residua...           NaN      NaN   \n",
       "Fer2013_filtered_uniform_aug_disgust100_residua...           NaN      NaN   \n",
       "Fer2013_filtered_uniform_aug_disgust100_residua...           NaN      NaN   \n",
       "Fer2013_filtered_uniform_aug_disgust100_residua...           NaN      NaN   \n",
       "Fer2013_filtered_uniform_aug_disgust100_residua...           NaN      NaN   \n",
       "Fer2013_filtered_uniform_aug_disgust100_residua...           NaN      NaN   \n",
       "Fer2013_filtered_uniform_aug_surprise100_identi...         0.672    0.615   \n",
       "\n",
       "                                                    surprise ACC  \n",
       "Fer2013_filtered_uniform xval-10                             NaN  \n",
       "Fer2013_filtered_uniform_aug_disgust100_residua...           NaN  \n",
       "Fer2013_filtered_uniform_aug_disgust100_residua...           NaN  \n",
       "Fer2013_filtered_uniform_aug_disgust100_residua...           NaN  \n",
       "Fer2013_filtered_uniform_aug_disgust100_residua...           NaN  \n",
       "Fer2013_filtered_uniform_aug_disgust100_residua...           NaN  \n",
       "Fer2013_filtered_uniform_aug_disgust100_identit...           NaN  \n",
       "Fer2013_filtered_uniform_aug_disgust100_identit...           NaN  \n",
       "Fer2013_filtered_uniform_aug_disgust100_identit...           NaN  \n",
       "Fer2013_filtered_uniform_aug_disgust100_residua...           NaN  \n",
       "Fer2013_filtered_uniform_aug_disgust100_residua...           NaN  \n",
       "Fer2013_filtered_uniform xval-10                             NaN  \n",
       "Fer2013_filtered_uniform xval-10                             NaN  \n",
       "Fer2013_filtered_uniform_aug_disgust100_residua...           NaN  \n",
       "Fer2013_filtered_uniform_aug_disgust100_residua...           NaN  \n",
       "Fer2013_filtered_uniform_aug_disgust200_residua...           NaN  \n",
       "Fer2013_filtered_uniform_aug_disgust200_residua...           NaN  \n",
       "Fer2013_filtered_uniform_aug_disgust200_residua...           NaN  \n",
       "Fer2013_filtered_uniform_aug_disgust100_residua...           NaN  \n",
       "Fer2013_filtered_uniform_aug_disgust100_residua...           NaN  \n",
       "Fer2013_filtered_uniform_aug_disgust100_resisud...           NaN  \n",
       "Fer2013_filtered_uniform_aug_disgust100_identit...           NaN  \n",
       "Fer2013_filtered_uniform_aug_disgust100_identit...           NaN  \n",
       "Fer2013_filtered_uniform_aug_disgust100_identit...           NaN  \n",
       "Fer2013_filtered_uniform_aug_disgust100_identit...           NaN  \n",
       "Fer2013_filtered_uniform_aug_disgust100_identit...           NaN  \n",
       "Fer2013_filtered_uniform_aug_disgust100_identit...           NaN  \n",
       "Fer2013_filtered_uniform_aug_disgust100_residua...           NaN  \n",
       "Fer2013_filtered_uniform_aug_disgust100_residua...           NaN  \n",
       "Fer2013_filtered_uniform_aug_disgust100_residua...           NaN  \n",
       "Fer2013_filtered_uniform_aug_disgust100_residua...           NaN  \n",
       "Fer2013_filtered_uniform_aug_disgust100_residua...           NaN  \n",
       "Fer2013_filtered_uniform_aug_disgust100_residua...           NaN  \n",
       "Fer2013_filtered_uniform_aug_surprise100_residu...           NaN  \n",
       "Fer2013_filtered_uniform_aug_surprise100_residu...           NaN  \n",
       "Fer2013_filtered_uniform_aug_surprise100_residu...           NaN  \n",
       "Fer2013_filtered_uniform_aug_disgust100_residua...           NaN  \n",
       "Fer2013_filtered_uniform_aug_disgust100_residua...           NaN  \n",
       "Fer2013_filtered_uniform_aug_disgust100_residua...           NaN  \n",
       "Fer2013_filtered_uniform_aug_surprise1000_resid...           NaN  \n",
       "Fer2013_filtered_uniform_aug_surprise1000_resid...           NaN  \n",
       "Fer2013_filtered_uniform_aug_surprise1000_resid...           NaN  \n",
       "Fer2013_filtered_uniform_aug_surprise1000select...           NaN  \n",
       "Fer2013_filtered_uniform_aug_surprise1000select...           NaN  \n",
       "Fer2013_filtered_uniform_aug_surprise1000select...           NaN  \n",
       "Fer2013_filtered_uniform_aug_disgust100_residua...           NaN  \n",
       "Fer2013_filtered_uniform_aug_disgust100_residua...           NaN  \n",
       "Fer2013_filtered_uniform_aug_disgust100_residua...           NaN  \n",
       "Fer2013_filtered_uniform_aug_disgust100_residua...           NaN  \n",
       "Fer2013_filtered_uniform_aug_disgust100_residua...           NaN  \n",
       "Fer2013_filtered_uniform_aug_disgust100_residua...           NaN  \n",
       "Fer2013_filtered_uniform_aug_surprise100_identi...          0.83  \n",
       "\n",
       "[52 rows x 24 columns]"
      ]
     },
     "execution_count": 27,
     "metadata": {},
     "output_type": "execute_result"
    }
   ],
   "source": [
    "stored_df = pd.concat([stored_df,mean_df.set_index(pd.Index([f\"{dataset_name} xval-{splits}\"]))])\n",
    "stored_df"
   ]
  },
  {
   "cell_type": "code",
   "execution_count": 28,
   "id": "d202fe7c",
   "metadata": {},
   "outputs": [],
   "source": [
    "if not os.path.isdir(metrics_directory):\n",
    "    os.makedirs(name = metrics_directory)\n",
    "stored_df.to_csv(os.path.join(metrics_directory, metrics_name))"
   ]
  },
  {
   "cell_type": "code",
   "execution_count": 29,
   "id": "af48bbbe",
   "metadata": {},
   "outputs": [
    {
     "data": {
      "text/html": [
       "<div>\n",
       "<style scoped>\n",
       "    .dataframe tbody tr th:only-of-type {\n",
       "        vertical-align: middle;\n",
       "    }\n",
       "\n",
       "    .dataframe tbody tr th {\n",
       "        vertical-align: top;\n",
       "    }\n",
       "\n",
       "    .dataframe thead th {\n",
       "        text-align: right;\n",
       "    }\n",
       "</style>\n",
       "<table border=\"1\" class=\"dataframe\">\n",
       "  <thead>\n",
       "    <tr style=\"text-align: right;\">\n",
       "      <th></th>\n",
       "      <th>mean AUC</th>\n",
       "      <th>angry AUC</th>\n",
       "      <th>disgust AUC</th>\n",
       "      <th>fear AUC</th>\n",
       "      <th>happy AUC</th>\n",
       "      <th>neautral AUC</th>\n",
       "      <th>sad AUC</th>\n",
       "      <th>surprise AUC</th>\n",
       "      <th>mean PREC</th>\n",
       "      <th>angry PREC</th>\n",
       "      <th>...</th>\n",
       "      <th>sad PREC</th>\n",
       "      <th>surprise PREC</th>\n",
       "      <th>mean ACC</th>\n",
       "      <th>angry ACC</th>\n",
       "      <th>disgust ACC</th>\n",
       "      <th>fear ACC</th>\n",
       "      <th>happy ACC</th>\n",
       "      <th>neautral ACC</th>\n",
       "      <th>sad ACC</th>\n",
       "      <th>surprise ACC</th>\n",
       "    </tr>\n",
       "    <tr>\n",
       "      <th>Method</th>\n",
       "      <th></th>\n",
       "      <th></th>\n",
       "      <th></th>\n",
       "      <th></th>\n",
       "      <th></th>\n",
       "      <th></th>\n",
       "      <th></th>\n",
       "      <th></th>\n",
       "      <th></th>\n",
       "      <th></th>\n",
       "      <th></th>\n",
       "      <th></th>\n",
       "      <th></th>\n",
       "      <th></th>\n",
       "      <th></th>\n",
       "      <th></th>\n",
       "      <th></th>\n",
       "      <th></th>\n",
       "      <th></th>\n",
       "      <th></th>\n",
       "      <th></th>\n",
       "    </tr>\n",
       "  </thead>\n",
       "  <tbody>\n",
       "    <tr>\n",
       "      <th>Fer2013_filtered_uniform xval-10</th>\n",
       "      <td>0.912906</td>\n",
       "      <td>0.877908</td>\n",
       "      <td>0.948334</td>\n",
       "      <td>0.848726</td>\n",
       "      <td>0.963379</td>\n",
       "      <td>0.921008</td>\n",
       "      <td>0.856463</td>\n",
       "      <td>0.974525</td>\n",
       "      <td>0.638667</td>\n",
       "      <td>0.557667</td>\n",
       "      <td>...</td>\n",
       "      <td>0.593667</td>\n",
       "      <td>0.800333</td>\n",
       "      <td>NaN</td>\n",
       "      <td>NaN</td>\n",
       "      <td>NaN</td>\n",
       "      <td>NaN</td>\n",
       "      <td>NaN</td>\n",
       "      <td>NaN</td>\n",
       "      <td>NaN</td>\n",
       "      <td>NaN</td>\n",
       "    </tr>\n",
       "    <tr>\n",
       "      <th>Fer2013_filtered_uniform_aug_disgust100_identity0.5 xval-10</th>\n",
       "      <td>0.911370</td>\n",
       "      <td>0.877183</td>\n",
       "      <td>0.944951</td>\n",
       "      <td>0.850146</td>\n",
       "      <td>0.963337</td>\n",
       "      <td>0.917185</td>\n",
       "      <td>0.852450</td>\n",
       "      <td>0.974336</td>\n",
       "      <td>0.639238</td>\n",
       "      <td>0.554333</td>\n",
       "      <td>...</td>\n",
       "      <td>0.575333</td>\n",
       "      <td>0.798333</td>\n",
       "      <td>NaN</td>\n",
       "      <td>NaN</td>\n",
       "      <td>NaN</td>\n",
       "      <td>NaN</td>\n",
       "      <td>NaN</td>\n",
       "      <td>NaN</td>\n",
       "      <td>NaN</td>\n",
       "      <td>NaN</td>\n",
       "    </tr>\n",
       "    <tr>\n",
       "      <th>Fer2013_filtered_uniform_aug_disgust100_identity00 xval-10</th>\n",
       "      <td>0.913287</td>\n",
       "      <td>0.879932</td>\n",
       "      <td>0.953816</td>\n",
       "      <td>0.848547</td>\n",
       "      <td>0.963040</td>\n",
       "      <td>0.914796</td>\n",
       "      <td>0.856574</td>\n",
       "      <td>0.976303</td>\n",
       "      <td>0.636381</td>\n",
       "      <td>0.554667</td>\n",
       "      <td>...</td>\n",
       "      <td>0.580667</td>\n",
       "      <td>0.815000</td>\n",
       "      <td>NaN</td>\n",
       "      <td>NaN</td>\n",
       "      <td>NaN</td>\n",
       "      <td>NaN</td>\n",
       "      <td>NaN</td>\n",
       "      <td>NaN</td>\n",
       "      <td>NaN</td>\n",
       "      <td>NaN</td>\n",
       "    </tr>\n",
       "    <tr>\n",
       "      <th>Fer2013_filtered_uniform_aug_disgust100_identity03 xval-10</th>\n",
       "      <td>0.912741</td>\n",
       "      <td>0.878849</td>\n",
       "      <td>0.949823</td>\n",
       "      <td>0.849604</td>\n",
       "      <td>0.961578</td>\n",
       "      <td>0.917847</td>\n",
       "      <td>0.855424</td>\n",
       "      <td>0.976060</td>\n",
       "      <td>0.640143</td>\n",
       "      <td>0.553000</td>\n",
       "      <td>...</td>\n",
       "      <td>0.569667</td>\n",
       "      <td>0.812000</td>\n",
       "      <td>NaN</td>\n",
       "      <td>NaN</td>\n",
       "      <td>NaN</td>\n",
       "      <td>NaN</td>\n",
       "      <td>NaN</td>\n",
       "      <td>NaN</td>\n",
       "      <td>NaN</td>\n",
       "      <td>NaN</td>\n",
       "    </tr>\n",
       "    <tr>\n",
       "      <th>Fer2013_filtered_uniform_aug_disgust100_residual03_identity05 xval-10</th>\n",
       "      <td>0.912639</td>\n",
       "      <td>0.875911</td>\n",
       "      <td>0.949864</td>\n",
       "      <td>0.848016</td>\n",
       "      <td>0.963110</td>\n",
       "      <td>0.919022</td>\n",
       "      <td>0.857366</td>\n",
       "      <td>0.975182</td>\n",
       "      <td>0.637667</td>\n",
       "      <td>0.555333</td>\n",
       "      <td>...</td>\n",
       "      <td>0.578667</td>\n",
       "      <td>0.809000</td>\n",
       "      <td>NaN</td>\n",
       "      <td>NaN</td>\n",
       "      <td>NaN</td>\n",
       "      <td>NaN</td>\n",
       "      <td>NaN</td>\n",
       "      <td>NaN</td>\n",
       "      <td>NaN</td>\n",
       "      <td>NaN</td>\n",
       "    </tr>\n",
       "    <tr>\n",
       "      <th>Fer2013_filtered_uniform_aug_disgust100_residual05_identity03 xval-10</th>\n",
       "      <td>0.913626</td>\n",
       "      <td>0.884996</td>\n",
       "      <td>0.947401</td>\n",
       "      <td>0.849098</td>\n",
       "      <td>0.961179</td>\n",
       "      <td>0.920898</td>\n",
       "      <td>0.856201</td>\n",
       "      <td>0.975607</td>\n",
       "      <td>0.646810</td>\n",
       "      <td>0.570333</td>\n",
       "      <td>...</td>\n",
       "      <td>0.570333</td>\n",
       "      <td>0.804000</td>\n",
       "      <td>NaN</td>\n",
       "      <td>NaN</td>\n",
       "      <td>NaN</td>\n",
       "      <td>NaN</td>\n",
       "      <td>NaN</td>\n",
       "      <td>NaN</td>\n",
       "      <td>NaN</td>\n",
       "      <td>NaN</td>\n",
       "    </tr>\n",
       "    <tr>\n",
       "      <th>Fer2013_filtered_uniform_aug_disgust100_residual05_identity05 xval-10</th>\n",
       "      <td>0.914353</td>\n",
       "      <td>0.883201</td>\n",
       "      <td>0.950140</td>\n",
       "      <td>0.852933</td>\n",
       "      <td>0.964259</td>\n",
       "      <td>0.918019</td>\n",
       "      <td>0.856888</td>\n",
       "      <td>0.975034</td>\n",
       "      <td>0.645143</td>\n",
       "      <td>0.567667</td>\n",
       "      <td>...</td>\n",
       "      <td>0.592333</td>\n",
       "      <td>0.814333</td>\n",
       "      <td>NaN</td>\n",
       "      <td>NaN</td>\n",
       "      <td>NaN</td>\n",
       "      <td>NaN</td>\n",
       "      <td>NaN</td>\n",
       "      <td>NaN</td>\n",
       "      <td>NaN</td>\n",
       "      <td>NaN</td>\n",
       "    </tr>\n",
       "    <tr>\n",
       "      <th>Fer2013_filtered_uniform_aug_disgust100_residual05_identity05_alternate10 xval-10</th>\n",
       "      <td>0.911274</td>\n",
       "      <td>0.876194</td>\n",
       "      <td>0.946638</td>\n",
       "      <td>0.844182</td>\n",
       "      <td>0.961788</td>\n",
       "      <td>0.916565</td>\n",
       "      <td>0.858275</td>\n",
       "      <td>0.975274</td>\n",
       "      <td>0.636524</td>\n",
       "      <td>0.548333</td>\n",
       "      <td>...</td>\n",
       "      <td>0.587333</td>\n",
       "      <td>0.806667</td>\n",
       "      <td>NaN</td>\n",
       "      <td>NaN</td>\n",
       "      <td>NaN</td>\n",
       "      <td>NaN</td>\n",
       "      <td>NaN</td>\n",
       "      <td>NaN</td>\n",
       "      <td>NaN</td>\n",
       "      <td>NaN</td>\n",
       "    </tr>\n",
       "    <tr>\n",
       "      <th>Fer2013_filtered_uniform_aug_disgust100_residual05_identity05_in005 xval-10</th>\n",
       "      <td>0.912101</td>\n",
       "      <td>0.879064</td>\n",
       "      <td>0.945338</td>\n",
       "      <td>0.847084</td>\n",
       "      <td>0.964124</td>\n",
       "      <td>0.917842</td>\n",
       "      <td>0.856529</td>\n",
       "      <td>0.974726</td>\n",
       "      <td>0.638810</td>\n",
       "      <td>0.561667</td>\n",
       "      <td>...</td>\n",
       "      <td>0.587667</td>\n",
       "      <td>0.809667</td>\n",
       "      <td>NaN</td>\n",
       "      <td>NaN</td>\n",
       "      <td>NaN</td>\n",
       "      <td>NaN</td>\n",
       "      <td>NaN</td>\n",
       "      <td>NaN</td>\n",
       "      <td>NaN</td>\n",
       "      <td>NaN</td>\n",
       "    </tr>\n",
       "    <tr>\n",
       "      <th>Fer2013_filtered_uniform_aug_disgust100_residual05_identity05_late_in005 xval-10</th>\n",
       "      <td>0.913252</td>\n",
       "      <td>0.880131</td>\n",
       "      <td>0.947325</td>\n",
       "      <td>0.847587</td>\n",
       "      <td>0.963474</td>\n",
       "      <td>0.921042</td>\n",
       "      <td>0.857507</td>\n",
       "      <td>0.975696</td>\n",
       "      <td>0.640619</td>\n",
       "      <td>0.564667</td>\n",
       "      <td>...</td>\n",
       "      <td>0.572000</td>\n",
       "      <td>0.814000</td>\n",
       "      <td>NaN</td>\n",
       "      <td>NaN</td>\n",
       "      <td>NaN</td>\n",
       "      <td>NaN</td>\n",
       "      <td>NaN</td>\n",
       "      <td>NaN</td>\n",
       "      <td>NaN</td>\n",
       "      <td>NaN</td>\n",
       "    </tr>\n",
       "    <tr>\n",
       "      <th>Fer2013_filtered_uniform_aug_disgust100_residual05_identity05_ls01 xval-10</th>\n",
       "      <td>0.912721</td>\n",
       "      <td>0.876331</td>\n",
       "      <td>0.947121</td>\n",
       "      <td>0.850626</td>\n",
       "      <td>0.964066</td>\n",
       "      <td>0.919147</td>\n",
       "      <td>0.857164</td>\n",
       "      <td>0.974590</td>\n",
       "      <td>0.639952</td>\n",
       "      <td>0.547000</td>\n",
       "      <td>...</td>\n",
       "      <td>0.589000</td>\n",
       "      <td>0.815667</td>\n",
       "      <td>NaN</td>\n",
       "      <td>NaN</td>\n",
       "      <td>NaN</td>\n",
       "      <td>NaN</td>\n",
       "      <td>NaN</td>\n",
       "      <td>NaN</td>\n",
       "      <td>NaN</td>\n",
       "      <td>NaN</td>\n",
       "    </tr>\n",
       "    <tr>\n",
       "      <th>Fer2013_filtered_uniform_aug_disgust100_residual07_identity03 xval-10</th>\n",
       "      <td>0.913039</td>\n",
       "      <td>0.878582</td>\n",
       "      <td>0.947376</td>\n",
       "      <td>0.849175</td>\n",
       "      <td>0.963917</td>\n",
       "      <td>0.919530</td>\n",
       "      <td>0.856055</td>\n",
       "      <td>0.976638</td>\n",
       "      <td>0.640619</td>\n",
       "      <td>0.561667</td>\n",
       "      <td>...</td>\n",
       "      <td>0.574000</td>\n",
       "      <td>0.818667</td>\n",
       "      <td>NaN</td>\n",
       "      <td>NaN</td>\n",
       "      <td>NaN</td>\n",
       "      <td>NaN</td>\n",
       "      <td>NaN</td>\n",
       "      <td>NaN</td>\n",
       "      <td>NaN</td>\n",
       "      <td>NaN</td>\n",
       "    </tr>\n",
       "    <tr>\n",
       "      <th>Fer2013_filtered_uniform_aug_disgust100_residual07_identity05 xval-10</th>\n",
       "      <td>0.912753</td>\n",
       "      <td>0.877615</td>\n",
       "      <td>0.945460</td>\n",
       "      <td>0.852383</td>\n",
       "      <td>0.964591</td>\n",
       "      <td>0.917627</td>\n",
       "      <td>0.856432</td>\n",
       "      <td>0.975163</td>\n",
       "      <td>0.640786</td>\n",
       "      <td>0.548500</td>\n",
       "      <td>...</td>\n",
       "      <td>0.579000</td>\n",
       "      <td>0.810500</td>\n",
       "      <td>NaN</td>\n",
       "      <td>NaN</td>\n",
       "      <td>NaN</td>\n",
       "      <td>NaN</td>\n",
       "      <td>NaN</td>\n",
       "      <td>NaN</td>\n",
       "      <td>NaN</td>\n",
       "      <td>NaN</td>\n",
       "    </tr>\n",
       "    <tr>\n",
       "      <th>Fer2013_filtered_uniform_aug_disgust100_resisudal07_identity05 xval-10</th>\n",
       "      <td>0.914854</td>\n",
       "      <td>0.883661</td>\n",
       "      <td>0.947233</td>\n",
       "      <td>0.843760</td>\n",
       "      <td>0.965465</td>\n",
       "      <td>0.924010</td>\n",
       "      <td>0.865355</td>\n",
       "      <td>0.974494</td>\n",
       "      <td>0.646857</td>\n",
       "      <td>0.598000</td>\n",
       "      <td>...</td>\n",
       "      <td>0.584000</td>\n",
       "      <td>0.807000</td>\n",
       "      <td>NaN</td>\n",
       "      <td>NaN</td>\n",
       "      <td>NaN</td>\n",
       "      <td>NaN</td>\n",
       "      <td>NaN</td>\n",
       "      <td>NaN</td>\n",
       "      <td>NaN</td>\n",
       "      <td>NaN</td>\n",
       "    </tr>\n",
       "    <tr>\n",
       "      <th>Fer2013_filtered_uniform_aug_disgust200_residual05_identity05 xval-10</th>\n",
       "      <td>0.912579</td>\n",
       "      <td>0.884592</td>\n",
       "      <td>0.942804</td>\n",
       "      <td>0.849364</td>\n",
       "      <td>0.962313</td>\n",
       "      <td>0.916238</td>\n",
       "      <td>0.858122</td>\n",
       "      <td>0.974623</td>\n",
       "      <td>0.642238</td>\n",
       "      <td>0.570000</td>\n",
       "      <td>...</td>\n",
       "      <td>0.584667</td>\n",
       "      <td>0.812667</td>\n",
       "      <td>NaN</td>\n",
       "      <td>NaN</td>\n",
       "      <td>NaN</td>\n",
       "      <td>NaN</td>\n",
       "      <td>NaN</td>\n",
       "      <td>NaN</td>\n",
       "      <td>NaN</td>\n",
       "      <td>NaN</td>\n",
       "    </tr>\n",
       "    <tr>\n",
       "      <th>Fer2013_filtered_uniform_aug_surprise1000_residual05_identity05 xval-10</th>\n",
       "      <td>0.910944</td>\n",
       "      <td>0.875947</td>\n",
       "      <td>0.947479</td>\n",
       "      <td>0.846063</td>\n",
       "      <td>0.961356</td>\n",
       "      <td>0.916434</td>\n",
       "      <td>0.857104</td>\n",
       "      <td>0.972225</td>\n",
       "      <td>0.639571</td>\n",
       "      <td>0.542000</td>\n",
       "      <td>...</td>\n",
       "      <td>0.595333</td>\n",
       "      <td>0.822000</td>\n",
       "      <td>NaN</td>\n",
       "      <td>NaN</td>\n",
       "      <td>NaN</td>\n",
       "      <td>NaN</td>\n",
       "      <td>NaN</td>\n",
       "      <td>NaN</td>\n",
       "      <td>NaN</td>\n",
       "      <td>NaN</td>\n",
       "    </tr>\n",
       "    <tr>\n",
       "      <th>Fer2013_filtered_uniform_aug_surprise1000selected_residual05_identity05 xval-10</th>\n",
       "      <td>0.909621</td>\n",
       "      <td>0.878965</td>\n",
       "      <td>0.945750</td>\n",
       "      <td>0.843793</td>\n",
       "      <td>0.960316</td>\n",
       "      <td>0.913524</td>\n",
       "      <td>0.851980</td>\n",
       "      <td>0.973021</td>\n",
       "      <td>0.635095</td>\n",
       "      <td>0.558667</td>\n",
       "      <td>...</td>\n",
       "      <td>0.586000</td>\n",
       "      <td>0.804000</td>\n",
       "      <td>NaN</td>\n",
       "      <td>NaN</td>\n",
       "      <td>NaN</td>\n",
       "      <td>NaN</td>\n",
       "      <td>NaN</td>\n",
       "      <td>NaN</td>\n",
       "      <td>NaN</td>\n",
       "      <td>NaN</td>\n",
       "    </tr>\n",
       "    <tr>\n",
       "      <th>Fer2013_filtered_uniform_aug_surprise100_identity05 xval-10</th>\n",
       "      <td>0.912193</td>\n",
       "      <td>0.885937</td>\n",
       "      <td>0.944328</td>\n",
       "      <td>0.841886</td>\n",
       "      <td>0.962428</td>\n",
       "      <td>0.918903</td>\n",
       "      <td>0.857952</td>\n",
       "      <td>0.973921</td>\n",
       "      <td>NaN</td>\n",
       "      <td>NaN</td>\n",
       "      <td>...</td>\n",
       "      <td>NaN</td>\n",
       "      <td>NaN</td>\n",
       "      <td>0.645429</td>\n",
       "      <td>0.568</td>\n",
       "      <td>0.543</td>\n",
       "      <td>0.473</td>\n",
       "      <td>0.817</td>\n",
       "      <td>0.672</td>\n",
       "      <td>0.615</td>\n",
       "      <td>0.83</td>\n",
       "    </tr>\n",
       "    <tr>\n",
       "      <th>Fer2013_filtered_uniform_aug_surprise100_residual05_identity05 xval-10</th>\n",
       "      <td>0.910082</td>\n",
       "      <td>0.874023</td>\n",
       "      <td>0.945545</td>\n",
       "      <td>0.844277</td>\n",
       "      <td>0.960949</td>\n",
       "      <td>0.917944</td>\n",
       "      <td>0.854695</td>\n",
       "      <td>0.973144</td>\n",
       "      <td>0.638905</td>\n",
       "      <td>0.530667</td>\n",
       "      <td>...</td>\n",
       "      <td>0.570667</td>\n",
       "      <td>0.810000</td>\n",
       "      <td>NaN</td>\n",
       "      <td>NaN</td>\n",
       "      <td>NaN</td>\n",
       "      <td>NaN</td>\n",
       "      <td>NaN</td>\n",
       "      <td>NaN</td>\n",
       "      <td>NaN</td>\n",
       "      <td>NaN</td>\n",
       "    </tr>\n",
       "  </tbody>\n",
       "</table>\n",
       "<p>19 rows × 24 columns</p>\n",
       "</div>"
      ],
      "text/plain": [
       "                                                    mean AUC  angry AUC  \\\n",
       "Method                                                                    \n",
       "Fer2013_filtered_uniform xval-10                    0.912906   0.877908   \n",
       "Fer2013_filtered_uniform_aug_disgust100_identit...  0.911370   0.877183   \n",
       "Fer2013_filtered_uniform_aug_disgust100_identit...  0.913287   0.879932   \n",
       "Fer2013_filtered_uniform_aug_disgust100_identit...  0.912741   0.878849   \n",
       "Fer2013_filtered_uniform_aug_disgust100_residua...  0.912639   0.875911   \n",
       "Fer2013_filtered_uniform_aug_disgust100_residua...  0.913626   0.884996   \n",
       "Fer2013_filtered_uniform_aug_disgust100_residua...  0.914353   0.883201   \n",
       "Fer2013_filtered_uniform_aug_disgust100_residua...  0.911274   0.876194   \n",
       "Fer2013_filtered_uniform_aug_disgust100_residua...  0.912101   0.879064   \n",
       "Fer2013_filtered_uniform_aug_disgust100_residua...  0.913252   0.880131   \n",
       "Fer2013_filtered_uniform_aug_disgust100_residua...  0.912721   0.876331   \n",
       "Fer2013_filtered_uniform_aug_disgust100_residua...  0.913039   0.878582   \n",
       "Fer2013_filtered_uniform_aug_disgust100_residua...  0.912753   0.877615   \n",
       "Fer2013_filtered_uniform_aug_disgust100_resisud...  0.914854   0.883661   \n",
       "Fer2013_filtered_uniform_aug_disgust200_residua...  0.912579   0.884592   \n",
       "Fer2013_filtered_uniform_aug_surprise1000_resid...  0.910944   0.875947   \n",
       "Fer2013_filtered_uniform_aug_surprise1000select...  0.909621   0.878965   \n",
       "Fer2013_filtered_uniform_aug_surprise100_identi...  0.912193   0.885937   \n",
       "Fer2013_filtered_uniform_aug_surprise100_residu...  0.910082   0.874023   \n",
       "\n",
       "                                                    disgust AUC  fear AUC  \\\n",
       "Method                                                                      \n",
       "Fer2013_filtered_uniform xval-10                       0.948334  0.848726   \n",
       "Fer2013_filtered_uniform_aug_disgust100_identit...     0.944951  0.850146   \n",
       "Fer2013_filtered_uniform_aug_disgust100_identit...     0.953816  0.848547   \n",
       "Fer2013_filtered_uniform_aug_disgust100_identit...     0.949823  0.849604   \n",
       "Fer2013_filtered_uniform_aug_disgust100_residua...     0.949864  0.848016   \n",
       "Fer2013_filtered_uniform_aug_disgust100_residua...     0.947401  0.849098   \n",
       "Fer2013_filtered_uniform_aug_disgust100_residua...     0.950140  0.852933   \n",
       "Fer2013_filtered_uniform_aug_disgust100_residua...     0.946638  0.844182   \n",
       "Fer2013_filtered_uniform_aug_disgust100_residua...     0.945338  0.847084   \n",
       "Fer2013_filtered_uniform_aug_disgust100_residua...     0.947325  0.847587   \n",
       "Fer2013_filtered_uniform_aug_disgust100_residua...     0.947121  0.850626   \n",
       "Fer2013_filtered_uniform_aug_disgust100_residua...     0.947376  0.849175   \n",
       "Fer2013_filtered_uniform_aug_disgust100_residua...     0.945460  0.852383   \n",
       "Fer2013_filtered_uniform_aug_disgust100_resisud...     0.947233  0.843760   \n",
       "Fer2013_filtered_uniform_aug_disgust200_residua...     0.942804  0.849364   \n",
       "Fer2013_filtered_uniform_aug_surprise1000_resid...     0.947479  0.846063   \n",
       "Fer2013_filtered_uniform_aug_surprise1000select...     0.945750  0.843793   \n",
       "Fer2013_filtered_uniform_aug_surprise100_identi...     0.944328  0.841886   \n",
       "Fer2013_filtered_uniform_aug_surprise100_residu...     0.945545  0.844277   \n",
       "\n",
       "                                                    happy AUC  neautral AUC  \\\n",
       "Method                                                                        \n",
       "Fer2013_filtered_uniform xval-10                     0.963379      0.921008   \n",
       "Fer2013_filtered_uniform_aug_disgust100_identit...   0.963337      0.917185   \n",
       "Fer2013_filtered_uniform_aug_disgust100_identit...   0.963040      0.914796   \n",
       "Fer2013_filtered_uniform_aug_disgust100_identit...   0.961578      0.917847   \n",
       "Fer2013_filtered_uniform_aug_disgust100_residua...   0.963110      0.919022   \n",
       "Fer2013_filtered_uniform_aug_disgust100_residua...   0.961179      0.920898   \n",
       "Fer2013_filtered_uniform_aug_disgust100_residua...   0.964259      0.918019   \n",
       "Fer2013_filtered_uniform_aug_disgust100_residua...   0.961788      0.916565   \n",
       "Fer2013_filtered_uniform_aug_disgust100_residua...   0.964124      0.917842   \n",
       "Fer2013_filtered_uniform_aug_disgust100_residua...   0.963474      0.921042   \n",
       "Fer2013_filtered_uniform_aug_disgust100_residua...   0.964066      0.919147   \n",
       "Fer2013_filtered_uniform_aug_disgust100_residua...   0.963917      0.919530   \n",
       "Fer2013_filtered_uniform_aug_disgust100_residua...   0.964591      0.917627   \n",
       "Fer2013_filtered_uniform_aug_disgust100_resisud...   0.965465      0.924010   \n",
       "Fer2013_filtered_uniform_aug_disgust200_residua...   0.962313      0.916238   \n",
       "Fer2013_filtered_uniform_aug_surprise1000_resid...   0.961356      0.916434   \n",
       "Fer2013_filtered_uniform_aug_surprise1000select...   0.960316      0.913524   \n",
       "Fer2013_filtered_uniform_aug_surprise100_identi...   0.962428      0.918903   \n",
       "Fer2013_filtered_uniform_aug_surprise100_residu...   0.960949      0.917944   \n",
       "\n",
       "                                                     sad AUC  surprise AUC  \\\n",
       "Method                                                                       \n",
       "Fer2013_filtered_uniform xval-10                    0.856463      0.974525   \n",
       "Fer2013_filtered_uniform_aug_disgust100_identit...  0.852450      0.974336   \n",
       "Fer2013_filtered_uniform_aug_disgust100_identit...  0.856574      0.976303   \n",
       "Fer2013_filtered_uniform_aug_disgust100_identit...  0.855424      0.976060   \n",
       "Fer2013_filtered_uniform_aug_disgust100_residua...  0.857366      0.975182   \n",
       "Fer2013_filtered_uniform_aug_disgust100_residua...  0.856201      0.975607   \n",
       "Fer2013_filtered_uniform_aug_disgust100_residua...  0.856888      0.975034   \n",
       "Fer2013_filtered_uniform_aug_disgust100_residua...  0.858275      0.975274   \n",
       "Fer2013_filtered_uniform_aug_disgust100_residua...  0.856529      0.974726   \n",
       "Fer2013_filtered_uniform_aug_disgust100_residua...  0.857507      0.975696   \n",
       "Fer2013_filtered_uniform_aug_disgust100_residua...  0.857164      0.974590   \n",
       "Fer2013_filtered_uniform_aug_disgust100_residua...  0.856055      0.976638   \n",
       "Fer2013_filtered_uniform_aug_disgust100_residua...  0.856432      0.975163   \n",
       "Fer2013_filtered_uniform_aug_disgust100_resisud...  0.865355      0.974494   \n",
       "Fer2013_filtered_uniform_aug_disgust200_residua...  0.858122      0.974623   \n",
       "Fer2013_filtered_uniform_aug_surprise1000_resid...  0.857104      0.972225   \n",
       "Fer2013_filtered_uniform_aug_surprise1000select...  0.851980      0.973021   \n",
       "Fer2013_filtered_uniform_aug_surprise100_identi...  0.857952      0.973921   \n",
       "Fer2013_filtered_uniform_aug_surprise100_residu...  0.854695      0.973144   \n",
       "\n",
       "                                                    mean PREC  angry PREC  \\\n",
       "Method                                                                      \n",
       "Fer2013_filtered_uniform xval-10                     0.638667    0.557667   \n",
       "Fer2013_filtered_uniform_aug_disgust100_identit...   0.639238    0.554333   \n",
       "Fer2013_filtered_uniform_aug_disgust100_identit...   0.636381    0.554667   \n",
       "Fer2013_filtered_uniform_aug_disgust100_identit...   0.640143    0.553000   \n",
       "Fer2013_filtered_uniform_aug_disgust100_residua...   0.637667    0.555333   \n",
       "Fer2013_filtered_uniform_aug_disgust100_residua...   0.646810    0.570333   \n",
       "Fer2013_filtered_uniform_aug_disgust100_residua...   0.645143    0.567667   \n",
       "Fer2013_filtered_uniform_aug_disgust100_residua...   0.636524    0.548333   \n",
       "Fer2013_filtered_uniform_aug_disgust100_residua...   0.638810    0.561667   \n",
       "Fer2013_filtered_uniform_aug_disgust100_residua...   0.640619    0.564667   \n",
       "Fer2013_filtered_uniform_aug_disgust100_residua...   0.639952    0.547000   \n",
       "Fer2013_filtered_uniform_aug_disgust100_residua...   0.640619    0.561667   \n",
       "Fer2013_filtered_uniform_aug_disgust100_residua...   0.640786    0.548500   \n",
       "Fer2013_filtered_uniform_aug_disgust100_resisud...   0.646857    0.598000   \n",
       "Fer2013_filtered_uniform_aug_disgust200_residua...   0.642238    0.570000   \n",
       "Fer2013_filtered_uniform_aug_surprise1000_resid...   0.639571    0.542000   \n",
       "Fer2013_filtered_uniform_aug_surprise1000select...   0.635095    0.558667   \n",
       "Fer2013_filtered_uniform_aug_surprise100_identi...        NaN         NaN   \n",
       "Fer2013_filtered_uniform_aug_surprise100_residu...   0.638905    0.530667   \n",
       "\n",
       "                                                    ...  sad PREC  \\\n",
       "Method                                              ...             \n",
       "Fer2013_filtered_uniform xval-10                    ...  0.593667   \n",
       "Fer2013_filtered_uniform_aug_disgust100_identit...  ...  0.575333   \n",
       "Fer2013_filtered_uniform_aug_disgust100_identit...  ...  0.580667   \n",
       "Fer2013_filtered_uniform_aug_disgust100_identit...  ...  0.569667   \n",
       "Fer2013_filtered_uniform_aug_disgust100_residua...  ...  0.578667   \n",
       "Fer2013_filtered_uniform_aug_disgust100_residua...  ...  0.570333   \n",
       "Fer2013_filtered_uniform_aug_disgust100_residua...  ...  0.592333   \n",
       "Fer2013_filtered_uniform_aug_disgust100_residua...  ...  0.587333   \n",
       "Fer2013_filtered_uniform_aug_disgust100_residua...  ...  0.587667   \n",
       "Fer2013_filtered_uniform_aug_disgust100_residua...  ...  0.572000   \n",
       "Fer2013_filtered_uniform_aug_disgust100_residua...  ...  0.589000   \n",
       "Fer2013_filtered_uniform_aug_disgust100_residua...  ...  0.574000   \n",
       "Fer2013_filtered_uniform_aug_disgust100_residua...  ...  0.579000   \n",
       "Fer2013_filtered_uniform_aug_disgust100_resisud...  ...  0.584000   \n",
       "Fer2013_filtered_uniform_aug_disgust200_residua...  ...  0.584667   \n",
       "Fer2013_filtered_uniform_aug_surprise1000_resid...  ...  0.595333   \n",
       "Fer2013_filtered_uniform_aug_surprise1000select...  ...  0.586000   \n",
       "Fer2013_filtered_uniform_aug_surprise100_identi...  ...       NaN   \n",
       "Fer2013_filtered_uniform_aug_surprise100_residu...  ...  0.570667   \n",
       "\n",
       "                                                    surprise PREC  mean ACC  \\\n",
       "Method                                                                        \n",
       "Fer2013_filtered_uniform xval-10                         0.800333       NaN   \n",
       "Fer2013_filtered_uniform_aug_disgust100_identit...       0.798333       NaN   \n",
       "Fer2013_filtered_uniform_aug_disgust100_identit...       0.815000       NaN   \n",
       "Fer2013_filtered_uniform_aug_disgust100_identit...       0.812000       NaN   \n",
       "Fer2013_filtered_uniform_aug_disgust100_residua...       0.809000       NaN   \n",
       "Fer2013_filtered_uniform_aug_disgust100_residua...       0.804000       NaN   \n",
       "Fer2013_filtered_uniform_aug_disgust100_residua...       0.814333       NaN   \n",
       "Fer2013_filtered_uniform_aug_disgust100_residua...       0.806667       NaN   \n",
       "Fer2013_filtered_uniform_aug_disgust100_residua...       0.809667       NaN   \n",
       "Fer2013_filtered_uniform_aug_disgust100_residua...       0.814000       NaN   \n",
       "Fer2013_filtered_uniform_aug_disgust100_residua...       0.815667       NaN   \n",
       "Fer2013_filtered_uniform_aug_disgust100_residua...       0.818667       NaN   \n",
       "Fer2013_filtered_uniform_aug_disgust100_residua...       0.810500       NaN   \n",
       "Fer2013_filtered_uniform_aug_disgust100_resisud...       0.807000       NaN   \n",
       "Fer2013_filtered_uniform_aug_disgust200_residua...       0.812667       NaN   \n",
       "Fer2013_filtered_uniform_aug_surprise1000_resid...       0.822000       NaN   \n",
       "Fer2013_filtered_uniform_aug_surprise1000select...       0.804000       NaN   \n",
       "Fer2013_filtered_uniform_aug_surprise100_identi...            NaN  0.645429   \n",
       "Fer2013_filtered_uniform_aug_surprise100_residu...       0.810000       NaN   \n",
       "\n",
       "                                                    angry ACC  disgust ACC  \\\n",
       "Method                                                                       \n",
       "Fer2013_filtered_uniform xval-10                          NaN          NaN   \n",
       "Fer2013_filtered_uniform_aug_disgust100_identit...        NaN          NaN   \n",
       "Fer2013_filtered_uniform_aug_disgust100_identit...        NaN          NaN   \n",
       "Fer2013_filtered_uniform_aug_disgust100_identit...        NaN          NaN   \n",
       "Fer2013_filtered_uniform_aug_disgust100_residua...        NaN          NaN   \n",
       "Fer2013_filtered_uniform_aug_disgust100_residua...        NaN          NaN   \n",
       "Fer2013_filtered_uniform_aug_disgust100_residua...        NaN          NaN   \n",
       "Fer2013_filtered_uniform_aug_disgust100_residua...        NaN          NaN   \n",
       "Fer2013_filtered_uniform_aug_disgust100_residua...        NaN          NaN   \n",
       "Fer2013_filtered_uniform_aug_disgust100_residua...        NaN          NaN   \n",
       "Fer2013_filtered_uniform_aug_disgust100_residua...        NaN          NaN   \n",
       "Fer2013_filtered_uniform_aug_disgust100_residua...        NaN          NaN   \n",
       "Fer2013_filtered_uniform_aug_disgust100_residua...        NaN          NaN   \n",
       "Fer2013_filtered_uniform_aug_disgust100_resisud...        NaN          NaN   \n",
       "Fer2013_filtered_uniform_aug_disgust200_residua...        NaN          NaN   \n",
       "Fer2013_filtered_uniform_aug_surprise1000_resid...        NaN          NaN   \n",
       "Fer2013_filtered_uniform_aug_surprise1000select...        NaN          NaN   \n",
       "Fer2013_filtered_uniform_aug_surprise100_identi...      0.568        0.543   \n",
       "Fer2013_filtered_uniform_aug_surprise100_residu...        NaN          NaN   \n",
       "\n",
       "                                                    fear ACC  happy ACC  \\\n",
       "Method                                                                    \n",
       "Fer2013_filtered_uniform xval-10                         NaN        NaN   \n",
       "Fer2013_filtered_uniform_aug_disgust100_identit...       NaN        NaN   \n",
       "Fer2013_filtered_uniform_aug_disgust100_identit...       NaN        NaN   \n",
       "Fer2013_filtered_uniform_aug_disgust100_identit...       NaN        NaN   \n",
       "Fer2013_filtered_uniform_aug_disgust100_residua...       NaN        NaN   \n",
       "Fer2013_filtered_uniform_aug_disgust100_residua...       NaN        NaN   \n",
       "Fer2013_filtered_uniform_aug_disgust100_residua...       NaN        NaN   \n",
       "Fer2013_filtered_uniform_aug_disgust100_residua...       NaN        NaN   \n",
       "Fer2013_filtered_uniform_aug_disgust100_residua...       NaN        NaN   \n",
       "Fer2013_filtered_uniform_aug_disgust100_residua...       NaN        NaN   \n",
       "Fer2013_filtered_uniform_aug_disgust100_residua...       NaN        NaN   \n",
       "Fer2013_filtered_uniform_aug_disgust100_residua...       NaN        NaN   \n",
       "Fer2013_filtered_uniform_aug_disgust100_residua...       NaN        NaN   \n",
       "Fer2013_filtered_uniform_aug_disgust100_resisud...       NaN        NaN   \n",
       "Fer2013_filtered_uniform_aug_disgust200_residua...       NaN        NaN   \n",
       "Fer2013_filtered_uniform_aug_surprise1000_resid...       NaN        NaN   \n",
       "Fer2013_filtered_uniform_aug_surprise1000select...       NaN        NaN   \n",
       "Fer2013_filtered_uniform_aug_surprise100_identi...     0.473      0.817   \n",
       "Fer2013_filtered_uniform_aug_surprise100_residu...       NaN        NaN   \n",
       "\n",
       "                                                    neautral ACC  sad ACC  \\\n",
       "Method                                                                      \n",
       "Fer2013_filtered_uniform xval-10                             NaN      NaN   \n",
       "Fer2013_filtered_uniform_aug_disgust100_identit...           NaN      NaN   \n",
       "Fer2013_filtered_uniform_aug_disgust100_identit...           NaN      NaN   \n",
       "Fer2013_filtered_uniform_aug_disgust100_identit...           NaN      NaN   \n",
       "Fer2013_filtered_uniform_aug_disgust100_residua...           NaN      NaN   \n",
       "Fer2013_filtered_uniform_aug_disgust100_residua...           NaN      NaN   \n",
       "Fer2013_filtered_uniform_aug_disgust100_residua...           NaN      NaN   \n",
       "Fer2013_filtered_uniform_aug_disgust100_residua...           NaN      NaN   \n",
       "Fer2013_filtered_uniform_aug_disgust100_residua...           NaN      NaN   \n",
       "Fer2013_filtered_uniform_aug_disgust100_residua...           NaN      NaN   \n",
       "Fer2013_filtered_uniform_aug_disgust100_residua...           NaN      NaN   \n",
       "Fer2013_filtered_uniform_aug_disgust100_residua...           NaN      NaN   \n",
       "Fer2013_filtered_uniform_aug_disgust100_residua...           NaN      NaN   \n",
       "Fer2013_filtered_uniform_aug_disgust100_resisud...           NaN      NaN   \n",
       "Fer2013_filtered_uniform_aug_disgust200_residua...           NaN      NaN   \n",
       "Fer2013_filtered_uniform_aug_surprise1000_resid...           NaN      NaN   \n",
       "Fer2013_filtered_uniform_aug_surprise1000select...           NaN      NaN   \n",
       "Fer2013_filtered_uniform_aug_surprise100_identi...         0.672    0.615   \n",
       "Fer2013_filtered_uniform_aug_surprise100_residu...           NaN      NaN   \n",
       "\n",
       "                                                    surprise ACC  \n",
       "Method                                                            \n",
       "Fer2013_filtered_uniform xval-10                             NaN  \n",
       "Fer2013_filtered_uniform_aug_disgust100_identit...           NaN  \n",
       "Fer2013_filtered_uniform_aug_disgust100_identit...           NaN  \n",
       "Fer2013_filtered_uniform_aug_disgust100_identit...           NaN  \n",
       "Fer2013_filtered_uniform_aug_disgust100_residua...           NaN  \n",
       "Fer2013_filtered_uniform_aug_disgust100_residua...           NaN  \n",
       "Fer2013_filtered_uniform_aug_disgust100_residua...           NaN  \n",
       "Fer2013_filtered_uniform_aug_disgust100_residua...           NaN  \n",
       "Fer2013_filtered_uniform_aug_disgust100_residua...           NaN  \n",
       "Fer2013_filtered_uniform_aug_disgust100_residua...           NaN  \n",
       "Fer2013_filtered_uniform_aug_disgust100_residua...           NaN  \n",
       "Fer2013_filtered_uniform_aug_disgust100_residua...           NaN  \n",
       "Fer2013_filtered_uniform_aug_disgust100_residua...           NaN  \n",
       "Fer2013_filtered_uniform_aug_disgust100_resisud...           NaN  \n",
       "Fer2013_filtered_uniform_aug_disgust200_residua...           NaN  \n",
       "Fer2013_filtered_uniform_aug_surprise1000_resid...           NaN  \n",
       "Fer2013_filtered_uniform_aug_surprise1000select...           NaN  \n",
       "Fer2013_filtered_uniform_aug_surprise100_identi...          0.83  \n",
       "Fer2013_filtered_uniform_aug_surprise100_residu...           NaN  \n",
       "\n",
       "[19 rows x 24 columns]"
      ]
     },
     "execution_count": 29,
     "metadata": {},
     "output_type": "execute_result"
    }
   ],
   "source": [
    "stored_df.index.name = \"Method\"\n",
    "stored_df.groupby(\"Method\").mean()"
   ]
  },
  {
   "cell_type": "code",
   "execution_count": 30,
   "id": "4f6a75c8",
   "metadata": {},
   "outputs": [],
   "source": [
    "winsound.Beep(400, 2000)"
   ]
  },
  {
   "cell_type": "code",
   "execution_count": 31,
   "id": "cbfaa498",
   "metadata": {},
   "outputs": [],
   "source": [
    "winsound.Beep(400, 2000)"
   ]
  },
  {
   "cell_type": "code",
   "execution_count": null,
   "id": "99818dc5",
   "metadata": {},
   "outputs": [],
   "source": []
  }
 ],
 "metadata": {
  "kernelspec": {
   "display_name": "Python 3.9.8 ('adlmam': venv)",
   "language": "python",
   "name": "python3"
  },
  "language_info": {
   "codemirror_mode": {
    "name": "ipython",
    "version": 3
   },
   "file_extension": ".py",
   "mimetype": "text/x-python",
   "name": "python",
   "nbconvert_exporter": "python",
   "pygments_lexer": "ipython3",
   "version": "3.9.8"
  },
  "vscode": {
   "interpreter": {
    "hash": "106c4f8174829cec3852d25fc2502034183f8bb6abf498d99bcfdbdcf1e0115d"
   }
  }
 },
 "nbformat": 4,
 "nbformat_minor": 5
}
