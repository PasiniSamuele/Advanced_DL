{
 "cells": [
  {
   "cell_type": "code",
   "execution_count": 2,
   "id": "ede9928a-a00a-45df-98c2-dddcca5f547a",
   "metadata": {},
   "outputs": [],
   "source": [
    "import torch"
   ]
  },
  {
   "cell_type": "code",
   "execution_count": 3,
   "id": "2f7acde5-9934-4f2b-b8be-e7a59e087415",
   "metadata": {},
   "outputs": [
    {
     "name": "stdout",
     "output_type": "stream",
     "text": [
      "tensor([ 0.9834,  0.5204, -0.2948], requires_grad=True)\n"
     ]
    }
   ],
   "source": [
    "x = torch.randn(3, requires_grad=True)\n",
    "print(x)"
   ]
  },
  {
   "cell_type": "code",
   "execution_count": 4,
   "id": "97fc9f32-8579-4e88-9718-3810dbfe80b2",
   "metadata": {},
   "outputs": [
    {
     "data": {
      "text/plain": [
       "tensor([ 0.9834,  0.5204, -0.2948])"
      ]
     },
     "execution_count": 4,
     "metadata": {},
     "output_type": "execute_result"
    }
   ],
   "source": [
    "# both are used to avoid computing the gradient for the var.\n",
    "\n",
    "x.requires_grad_(False) # underscore: modify variable in place.\n",
    "x.detach()"
   ]
  },
  {
   "cell_type": "code",
   "execution_count": 6,
   "id": "d7aac1b5-a6e5-4172-b4b5-976f51a3a261",
   "metadata": {},
   "outputs": [
    {
     "name": "stdout",
     "output_type": "stream",
     "text": [
      "tensor([2.9834, 2.5204, 1.7052])\n"
     ]
    }
   ],
   "source": [
    "#another method to avoid computing gradient.\n",
    "with torch.no_grad():\n",
    "    y = x + 2\n",
    "    print(y)"
   ]
  },
  {
   "cell_type": "code",
   "execution_count": 5,
   "id": "2d923616-7a27-401c-9231-816a7a33c0b9",
   "metadata": {},
   "outputs": [
    {
     "name": "stdout",
     "output_type": "stream",
     "text": [
      "tensor([ 0.9834,  0.5204, -0.2948])\n"
     ]
    }
   ],
   "source": [
    "print(x)"
   ]
  },
  {
   "cell_type": "markdown",
   "id": "62189e36-403b-4304-9072-e526d4d5f761",
   "metadata": {},
   "source": [
    "# Training loop"
   ]
  },
  {
   "cell_type": "code",
   "execution_count": 11,
   "id": "ae0fa005-02da-4301-8ba9-d11cbc5a52a3",
   "metadata": {},
   "outputs": [
    {
     "name": "stdout",
     "output_type": "stream",
     "text": [
      "tensor([3., 3., 3., 3.])\n",
      "tensor([3., 3., 3., 3.])\n",
      "tensor([3., 3., 3., 3.])\n"
     ]
    }
   ],
   "source": [
    "weights = torch.ones(4, requires_grad = True)\n",
    "\n",
    "for epoch in range(3):\n",
    "    model_output = (weights * 3).sum()\n",
    "    \n",
    "    model_output.backward()\n",
    "    # every time this is called the previous gradients are accumulated, they should be emptied.\n",
    "    \n",
    "    print(weights.grad)\n",
    "    \n",
    "    #emptie gradients:\n",
    "    weights.grad.zero_()"
   ]
  },
  {
   "cell_type": "code",
   "execution_count": null,
   "id": "cf657830-aacd-4aad-ae28-d0c126f51d92",
   "metadata": {},
   "outputs": [],
   "source": []
  }
 ],
 "metadata": {
  "kernelspec": {
   "display_name": "Python 3 (ipykernel)",
   "language": "python",
   "name": "python3"
  },
  "language_info": {
   "codemirror_mode": {
    "name": "ipython",
    "version": 3
   },
   "file_extension": ".py",
   "mimetype": "text/x-python",
   "name": "python",
   "nbconvert_exporter": "python",
   "pygments_lexer": "ipython3",
   "version": "3.9.13"
  }
 },
 "nbformat": 4,
 "nbformat_minor": 5
}
