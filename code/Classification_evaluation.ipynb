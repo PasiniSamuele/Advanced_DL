{
 "cells": [
  {
   "cell_type": "markdown",
   "id": "64b0897f",
   "metadata": {},
   "source": [
    "# Classifier"
   ]
  },
  {
   "cell_type": "markdown",
   "id": "08a9de04",
   "metadata": {},
   "source": [
    "## Import libraries"
   ]
  },
  {
   "cell_type": "code",
   "execution_count": 68,
   "id": "f30487ab-c2a7-4231-80cd-942fbc97e0a4",
   "metadata": {},
   "outputs": [],
   "source": [
    "import os\n",
    "import pandas as pd\n",
    "import plotly\n",
    "import plotly.graph_objects as go\n",
    "import numpy as np\n"
   ]
  },
  {
   "cell_type": "code",
   "execution_count": 69,
   "id": "b0cc28d1",
   "metadata": {},
   "outputs": [],
   "source": [
    "seed = 23\n",
    "save_model = True\n",
    "load_model = False\n",
    "\n",
    "metrics_directory = \"final_metrics\"\n",
    "metrics_name = \"metrics_filtered_early.csv\""
   ]
  },
  {
   "cell_type": "code",
   "execution_count": 70,
   "id": "aa2f66f9",
   "metadata": {},
   "outputs": [],
   "source": [
    "columns=[\"mean AUC\", \"angry AUC\", \"disgust AUC\", \"fear AUC\", \"happy AUC\", \"neautral AUC\", \"sad AUC\", \"surprise AUC\", \"mean PREC\", \"angry PREC\", \"disgust PREC\", \"fear PREC\", \"happy PREC\", \"neautral PREC\", \"sad PREC\", \"surprise PREC\"]"
   ]
  },
  {
   "cell_type": "markdown",
   "id": "bbe8f59a",
   "metadata": {},
   "source": [
    "## Save metrics"
   ]
  },
  {
   "cell_type": "code",
   "execution_count": 71,
   "id": "6dfac9df",
   "metadata": {},
   "outputs": [
    {
     "data": {
      "text/html": [
       "<div>\n",
       "<style scoped>\n",
       "    .dataframe tbody tr th:only-of-type {\n",
       "        vertical-align: middle;\n",
       "    }\n",
       "\n",
       "    .dataframe tbody tr th {\n",
       "        vertical-align: top;\n",
       "    }\n",
       "\n",
       "    .dataframe thead th {\n",
       "        text-align: right;\n",
       "    }\n",
       "</style>\n",
       "<table border=\"1\" class=\"dataframe\">\n",
       "  <thead>\n",
       "    <tr style=\"text-align: right;\">\n",
       "      <th></th>\n",
       "      <th>mean AUC</th>\n",
       "      <th>angry AUC</th>\n",
       "      <th>disgust AUC</th>\n",
       "      <th>fear AUC</th>\n",
       "      <th>happy AUC</th>\n",
       "      <th>neautral AUC</th>\n",
       "      <th>sad AUC</th>\n",
       "      <th>surprise AUC</th>\n",
       "      <th>mean ACC</th>\n",
       "      <th>angry ACC</th>\n",
       "      <th>disgust ACC</th>\n",
       "      <th>fear ACC</th>\n",
       "      <th>happy ACC</th>\n",
       "      <th>neautral ACC</th>\n",
       "      <th>sad ACC</th>\n",
       "      <th>surprise ACC</th>\n",
       "    </tr>\n",
       "  </thead>\n",
       "  <tbody>\n",
       "    <tr>\n",
       "      <th>Fer2013_filtered_uniform xval-10</th>\n",
       "      <td>0.913137</td>\n",
       "      <td>0.882769</td>\n",
       "      <td>0.947797</td>\n",
       "      <td>0.845343</td>\n",
       "      <td>0.964072</td>\n",
       "      <td>0.922568</td>\n",
       "      <td>0.854387</td>\n",
       "      <td>0.975025</td>\n",
       "      <td>0.637857</td>\n",
       "      <td>0.544</td>\n",
       "      <td>0.535</td>\n",
       "      <td>0.487</td>\n",
       "      <td>0.837</td>\n",
       "      <td>0.657</td>\n",
       "      <td>0.594</td>\n",
       "      <td>0.811</td>\n",
       "    </tr>\n",
       "    <tr>\n",
       "      <th>Fer2013_filtered_uniform_aug_disgust100_residual07_identity03 xval-10</th>\n",
       "      <td>0.910634</td>\n",
       "      <td>0.877640</td>\n",
       "      <td>0.948825</td>\n",
       "      <td>0.844880</td>\n",
       "      <td>0.963346</td>\n",
       "      <td>0.915373</td>\n",
       "      <td>0.848816</td>\n",
       "      <td>0.975559</td>\n",
       "      <td>0.639000</td>\n",
       "      <td>0.564</td>\n",
       "      <td>0.572</td>\n",
       "      <td>0.471</td>\n",
       "      <td>0.835</td>\n",
       "      <td>0.645</td>\n",
       "      <td>0.564</td>\n",
       "      <td>0.822</td>\n",
       "    </tr>\n",
       "    <tr>\n",
       "      <th>Fer2013_filtered_uniform_aug_disgust100_residual03_identity05 xval-10</th>\n",
       "      <td>0.913648</td>\n",
       "      <td>0.876134</td>\n",
       "      <td>0.948275</td>\n",
       "      <td>0.856259</td>\n",
       "      <td>0.963064</td>\n",
       "      <td>0.920421</td>\n",
       "      <td>0.857468</td>\n",
       "      <td>0.973912</td>\n",
       "      <td>0.636286</td>\n",
       "      <td>0.546</td>\n",
       "      <td>0.573</td>\n",
       "      <td>0.476</td>\n",
       "      <td>0.827</td>\n",
       "      <td>0.657</td>\n",
       "      <td>0.583</td>\n",
       "      <td>0.792</td>\n",
       "    </tr>\n",
       "    <tr>\n",
       "      <th>Fer2013_filtered_uniform_aug_disgust100_residual07_identity03 xval-10</th>\n",
       "      <td>0.913458</td>\n",
       "      <td>0.881824</td>\n",
       "      <td>0.944403</td>\n",
       "      <td>0.851962</td>\n",
       "      <td>0.963165</td>\n",
       "      <td>0.919623</td>\n",
       "      <td>0.855662</td>\n",
       "      <td>0.977569</td>\n",
       "      <td>0.639000</td>\n",
       "      <td>0.549</td>\n",
       "      <td>0.585</td>\n",
       "      <td>0.461</td>\n",
       "      <td>0.828</td>\n",
       "      <td>0.639</td>\n",
       "      <td>0.587</td>\n",
       "      <td>0.824</td>\n",
       "    </tr>\n",
       "    <tr>\n",
       "      <th>Fer2013_filtered_uniform_aug_disgust100_residual07_identity03 xval-10</th>\n",
       "      <td>0.915024</td>\n",
       "      <td>0.876282</td>\n",
       "      <td>0.948898</td>\n",
       "      <td>0.850682</td>\n",
       "      <td>0.965239</td>\n",
       "      <td>0.923594</td>\n",
       "      <td>0.863687</td>\n",
       "      <td>0.976787</td>\n",
       "      <td>0.643857</td>\n",
       "      <td>0.572</td>\n",
       "      <td>0.606</td>\n",
       "      <td>0.475</td>\n",
       "      <td>0.827</td>\n",
       "      <td>0.646</td>\n",
       "      <td>0.571</td>\n",
       "      <td>0.810</td>\n",
       "    </tr>\n",
       "    <tr>\n",
       "      <th>Fer2013_filtered_uniform_aug_disgust100_residual05_identity05 xval-10</th>\n",
       "      <td>0.914427</td>\n",
       "      <td>0.881619</td>\n",
       "      <td>0.949027</td>\n",
       "      <td>0.857508</td>\n",
       "      <td>0.963788</td>\n",
       "      <td>0.916292</td>\n",
       "      <td>0.859655</td>\n",
       "      <td>0.973098</td>\n",
       "      <td>0.647286</td>\n",
       "      <td>0.557</td>\n",
       "      <td>0.596</td>\n",
       "      <td>0.472</td>\n",
       "      <td>0.831</td>\n",
       "      <td>0.669</td>\n",
       "      <td>0.596</td>\n",
       "      <td>0.810</td>\n",
       "    </tr>\n",
       "    <tr>\n",
       "      <th>Fer2013_filtered_uniform_aug_disgust100_identity03 xval-10</th>\n",
       "      <td>0.915294</td>\n",
       "      <td>0.876576</td>\n",
       "      <td>0.952008</td>\n",
       "      <td>0.851192</td>\n",
       "      <td>0.963053</td>\n",
       "      <td>0.923192</td>\n",
       "      <td>0.862476</td>\n",
       "      <td>0.978560</td>\n",
       "      <td>0.645429</td>\n",
       "      <td>0.542</td>\n",
       "      <td>0.579</td>\n",
       "      <td>0.481</td>\n",
       "      <td>0.840</td>\n",
       "      <td>0.683</td>\n",
       "      <td>0.578</td>\n",
       "      <td>0.815</td>\n",
       "    </tr>\n",
       "    <tr>\n",
       "      <th>Fer2013_filtered_uniform_aug_disgust100_identity03 xval-10</th>\n",
       "      <td>0.911934</td>\n",
       "      <td>0.881547</td>\n",
       "      <td>0.950238</td>\n",
       "      <td>0.844635</td>\n",
       "      <td>0.960252</td>\n",
       "      <td>0.917508</td>\n",
       "      <td>0.853189</td>\n",
       "      <td>0.976167</td>\n",
       "      <td>0.638714</td>\n",
       "      <td>0.569</td>\n",
       "      <td>0.566</td>\n",
       "      <td>0.471</td>\n",
       "      <td>0.814</td>\n",
       "      <td>0.658</td>\n",
       "      <td>0.577</td>\n",
       "      <td>0.816</td>\n",
       "    </tr>\n",
       "    <tr>\n",
       "      <th>Fer2013_filtered_uniform_aug_disgust100_identity03 xval-10</th>\n",
       "      <td>0.910994</td>\n",
       "      <td>0.878423</td>\n",
       "      <td>0.947222</td>\n",
       "      <td>0.852984</td>\n",
       "      <td>0.961429</td>\n",
       "      <td>0.912841</td>\n",
       "      <td>0.850608</td>\n",
       "      <td>0.973453</td>\n",
       "      <td>0.636286</td>\n",
       "      <td>0.548</td>\n",
       "      <td>0.576</td>\n",
       "      <td>0.473</td>\n",
       "      <td>0.831</td>\n",
       "      <td>0.667</td>\n",
       "      <td>0.554</td>\n",
       "      <td>0.805</td>\n",
       "    </tr>\n",
       "    <tr>\n",
       "      <th>Fer2013_filtered_uniform_aug_disgust100_residual05_identity05 xval-10</th>\n",
       "      <td>0.914170</td>\n",
       "      <td>0.889486</td>\n",
       "      <td>0.947455</td>\n",
       "      <td>0.849964</td>\n",
       "      <td>0.963292</td>\n",
       "      <td>0.917965</td>\n",
       "      <td>0.856163</td>\n",
       "      <td>0.974864</td>\n",
       "      <td>0.641000</td>\n",
       "      <td>0.564</td>\n",
       "      <td>0.594</td>\n",
       "      <td>0.473</td>\n",
       "      <td>0.815</td>\n",
       "      <td>0.641</td>\n",
       "      <td>0.588</td>\n",
       "      <td>0.812</td>\n",
       "    </tr>\n",
       "    <tr>\n",
       "      <th>Fer2013_filtered_uniform_aug_disgust100_residual05_identity05 xval-10</th>\n",
       "      <td>0.914464</td>\n",
       "      <td>0.878498</td>\n",
       "      <td>0.953938</td>\n",
       "      <td>0.851328</td>\n",
       "      <td>0.965696</td>\n",
       "      <td>0.919801</td>\n",
       "      <td>0.854846</td>\n",
       "      <td>0.977138</td>\n",
       "      <td>0.647143</td>\n",
       "      <td>0.582</td>\n",
       "      <td>0.558</td>\n",
       "      <td>0.472</td>\n",
       "      <td>0.836</td>\n",
       "      <td>0.668</td>\n",
       "      <td>0.593</td>\n",
       "      <td>0.821</td>\n",
       "    </tr>\n",
       "    <tr>\n",
       "      <th>Fer2013_filtered_uniform xval-10</th>\n",
       "      <td>0.914381</td>\n",
       "      <td>0.879258</td>\n",
       "      <td>0.950218</td>\n",
       "      <td>0.846412</td>\n",
       "      <td>0.966658</td>\n",
       "      <td>0.924275</td>\n",
       "      <td>0.859469</td>\n",
       "      <td>0.974378</td>\n",
       "      <td>0.641857</td>\n",
       "      <td>0.569</td>\n",
       "      <td>0.547</td>\n",
       "      <td>0.486</td>\n",
       "      <td>0.846</td>\n",
       "      <td>0.657</td>\n",
       "      <td>0.602</td>\n",
       "      <td>0.786</td>\n",
       "    </tr>\n",
       "    <tr>\n",
       "      <th>Fer2013_filtered_uniform xval-10</th>\n",
       "      <td>0.911200</td>\n",
       "      <td>0.871695</td>\n",
       "      <td>0.946988</td>\n",
       "      <td>0.854422</td>\n",
       "      <td>0.959406</td>\n",
       "      <td>0.916182</td>\n",
       "      <td>0.855532</td>\n",
       "      <td>0.974173</td>\n",
       "      <td>0.636286</td>\n",
       "      <td>0.560</td>\n",
       "      <td>0.546</td>\n",
       "      <td>0.478</td>\n",
       "      <td>0.811</td>\n",
       "      <td>0.670</td>\n",
       "      <td>0.585</td>\n",
       "      <td>0.804</td>\n",
       "    </tr>\n",
       "    <tr>\n",
       "      <th>Fer2013_filtered_uniform_aug_disgust100_residual03_identity05 xval-10</th>\n",
       "      <td>0.914178</td>\n",
       "      <td>0.879924</td>\n",
       "      <td>0.953368</td>\n",
       "      <td>0.848205</td>\n",
       "      <td>0.963971</td>\n",
       "      <td>0.919146</td>\n",
       "      <td>0.859974</td>\n",
       "      <td>0.974657</td>\n",
       "      <td>0.642429</td>\n",
       "      <td>0.558</td>\n",
       "      <td>0.589</td>\n",
       "      <td>0.457</td>\n",
       "      <td>0.831</td>\n",
       "      <td>0.657</td>\n",
       "      <td>0.585</td>\n",
       "      <td>0.820</td>\n",
       "    </tr>\n",
       "    <tr>\n",
       "      <th>Fer2013_filtered_uniform_aug_disgust100_residual03_identity05 xval-10</th>\n",
       "      <td>0.910091</td>\n",
       "      <td>0.871675</td>\n",
       "      <td>0.947948</td>\n",
       "      <td>0.839583</td>\n",
       "      <td>0.962295</td>\n",
       "      <td>0.917501</td>\n",
       "      <td>0.854655</td>\n",
       "      <td>0.976978</td>\n",
       "      <td>0.634286</td>\n",
       "      <td>0.562</td>\n",
       "      <td>0.558</td>\n",
       "      <td>0.464</td>\n",
       "      <td>0.830</td>\n",
       "      <td>0.643</td>\n",
       "      <td>0.568</td>\n",
       "      <td>0.815</td>\n",
       "    </tr>\n",
       "    <tr>\n",
       "      <th>Fer2013_filtered_uniform_aug_disgust200_residual05_identity05 xval-10</th>\n",
       "      <td>0.911938</td>\n",
       "      <td>0.879127</td>\n",
       "      <td>0.943203</td>\n",
       "      <td>0.854557</td>\n",
       "      <td>0.961367</td>\n",
       "      <td>0.916866</td>\n",
       "      <td>0.853707</td>\n",
       "      <td>0.974738</td>\n",
       "      <td>0.643000</td>\n",
       "      <td>0.562</td>\n",
       "      <td>0.568</td>\n",
       "      <td>0.478</td>\n",
       "      <td>0.820</td>\n",
       "      <td>0.662</td>\n",
       "      <td>0.596</td>\n",
       "      <td>0.815</td>\n",
       "    </tr>\n",
       "    <tr>\n",
       "      <th>Fer2013_filtered_uniform_aug_disgust200_residual05_identity05 xval-10</th>\n",
       "      <td>0.915086</td>\n",
       "      <td>0.891808</td>\n",
       "      <td>0.943340</td>\n",
       "      <td>0.845947</td>\n",
       "      <td>0.965096</td>\n",
       "      <td>0.918108</td>\n",
       "      <td>0.865717</td>\n",
       "      <td>0.975588</td>\n",
       "      <td>0.648857</td>\n",
       "      <td>0.583</td>\n",
       "      <td>0.597</td>\n",
       "      <td>0.498</td>\n",
       "      <td>0.822</td>\n",
       "      <td>0.632</td>\n",
       "      <td>0.591</td>\n",
       "      <td>0.819</td>\n",
       "    </tr>\n",
       "    <tr>\n",
       "      <th>Fer2013_filtered_uniform_aug_disgust200_residual05_identity05 xval-10</th>\n",
       "      <td>0.910714</td>\n",
       "      <td>0.882841</td>\n",
       "      <td>0.941868</td>\n",
       "      <td>0.847588</td>\n",
       "      <td>0.960477</td>\n",
       "      <td>0.913739</td>\n",
       "      <td>0.854942</td>\n",
       "      <td>0.973542</td>\n",
       "      <td>0.634857</td>\n",
       "      <td>0.565</td>\n",
       "      <td>0.575</td>\n",
       "      <td>0.481</td>\n",
       "      <td>0.812</td>\n",
       "      <td>0.640</td>\n",
       "      <td>0.567</td>\n",
       "      <td>0.804</td>\n",
       "    </tr>\n",
       "    <tr>\n",
       "      <th>Fer2013_filtered_uniform_aug_disgust100_res0.7_idt0.5 xval-10</th>\n",
       "      <td>0.913062</td>\n",
       "      <td>0.873278</td>\n",
       "      <td>0.948582</td>\n",
       "      <td>0.850750</td>\n",
       "      <td>0.965934</td>\n",
       "      <td>0.919406</td>\n",
       "      <td>0.859143</td>\n",
       "      <td>0.974344</td>\n",
       "      <td>0.636857</td>\n",
       "      <td>0.536</td>\n",
       "      <td>0.579</td>\n",
       "      <td>0.486</td>\n",
       "      <td>0.827</td>\n",
       "      <td>0.641</td>\n",
       "      <td>0.588</td>\n",
       "      <td>0.801</td>\n",
       "    </tr>\n",
       "    <tr>\n",
       "      <th>Fer2013_filtered_uniform_aug_disgust100_res0.7_idt0.5 xval-10</th>\n",
       "      <td>0.912444</td>\n",
       "      <td>0.881952</td>\n",
       "      <td>0.942338</td>\n",
       "      <td>0.854015</td>\n",
       "      <td>0.963248</td>\n",
       "      <td>0.915849</td>\n",
       "      <td>0.853721</td>\n",
       "      <td>0.975982</td>\n",
       "      <td>0.644714</td>\n",
       "      <td>0.561</td>\n",
       "      <td>0.566</td>\n",
       "      <td>0.480</td>\n",
       "      <td>0.854</td>\n",
       "      <td>0.662</td>\n",
       "      <td>0.570</td>\n",
       "      <td>0.820</td>\n",
       "    </tr>\n",
       "    <tr>\n",
       "      <th>Fer2013_filtered_uniform_aug_disgust100_res0.7_idt0.5 xval-10</th>\n",
       "      <td>0.914854</td>\n",
       "      <td>0.883661</td>\n",
       "      <td>0.947233</td>\n",
       "      <td>0.843760</td>\n",
       "      <td>0.965465</td>\n",
       "      <td>0.924010</td>\n",
       "      <td>0.865355</td>\n",
       "      <td>0.974494</td>\n",
       "      <td>0.646857</td>\n",
       "      <td>0.598</td>\n",
       "      <td>0.579</td>\n",
       "      <td>0.472</td>\n",
       "      <td>0.828</td>\n",
       "      <td>0.660</td>\n",
       "      <td>0.584</td>\n",
       "      <td>0.807</td>\n",
       "    </tr>\n",
       "    <tr>\n",
       "      <th>Fer2013_filtered_uniform_aug_disgust100_identity0.5 xval-10</th>\n",
       "      <td>0.911867</td>\n",
       "      <td>0.878198</td>\n",
       "      <td>0.942283</td>\n",
       "      <td>0.849933</td>\n",
       "      <td>0.964438</td>\n",
       "      <td>0.919130</td>\n",
       "      <td>0.856001</td>\n",
       "      <td>0.973087</td>\n",
       "      <td>0.640857</td>\n",
       "      <td>0.564</td>\n",
       "      <td>0.578</td>\n",
       "      <td>0.481</td>\n",
       "      <td>0.841</td>\n",
       "      <td>0.662</td>\n",
       "      <td>0.570</td>\n",
       "      <td>0.790</td>\n",
       "    </tr>\n",
       "    <tr>\n",
       "      <th>Fer2013_filtered_uniform_aug_disgust100_identity0.5 xval-10</th>\n",
       "      <td>0.911699</td>\n",
       "      <td>0.877810</td>\n",
       "      <td>0.945560</td>\n",
       "      <td>0.854055</td>\n",
       "      <td>0.963354</td>\n",
       "      <td>0.915940</td>\n",
       "      <td>0.849497</td>\n",
       "      <td>0.975677</td>\n",
       "      <td>0.639429</td>\n",
       "      <td>0.550</td>\n",
       "      <td>0.591</td>\n",
       "      <td>0.461</td>\n",
       "      <td>0.834</td>\n",
       "      <td>0.659</td>\n",
       "      <td>0.582</td>\n",
       "      <td>0.799</td>\n",
       "    </tr>\n",
       "    <tr>\n",
       "      <th>Fer2013_filtered_uniform_aug_disgust100_identity0.5 xval-10</th>\n",
       "      <td>0.910543</td>\n",
       "      <td>0.875542</td>\n",
       "      <td>0.947010</td>\n",
       "      <td>0.846450</td>\n",
       "      <td>0.962219</td>\n",
       "      <td>0.916484</td>\n",
       "      <td>0.851853</td>\n",
       "      <td>0.974244</td>\n",
       "      <td>0.637429</td>\n",
       "      <td>0.549</td>\n",
       "      <td>0.585</td>\n",
       "      <td>0.482</td>\n",
       "      <td>0.814</td>\n",
       "      <td>0.652</td>\n",
       "      <td>0.574</td>\n",
       "      <td>0.806</td>\n",
       "    </tr>\n",
       "    <tr>\n",
       "      <th>Fer2013_filtered_uniform_aug_disgust100_indentity00 xval-10</th>\n",
       "      <td>0.915121</td>\n",
       "      <td>0.880861</td>\n",
       "      <td>0.954353</td>\n",
       "      <td>0.844516</td>\n",
       "      <td>0.963356</td>\n",
       "      <td>0.917976</td>\n",
       "      <td>0.865387</td>\n",
       "      <td>0.979400</td>\n",
       "      <td>0.643286</td>\n",
       "      <td>0.573</td>\n",
       "      <td>0.566</td>\n",
       "      <td>0.466</td>\n",
       "      <td>0.818</td>\n",
       "      <td>0.646</td>\n",
       "      <td>0.607</td>\n",
       "      <td>0.827</td>\n",
       "    </tr>\n",
       "    <tr>\n",
       "      <th>Fer2013_filtered_uniform_aug_disgust100_indentity00 xval-10</th>\n",
       "      <td>0.913686</td>\n",
       "      <td>0.880125</td>\n",
       "      <td>0.953922</td>\n",
       "      <td>0.854801</td>\n",
       "      <td>0.963232</td>\n",
       "      <td>0.914302</td>\n",
       "      <td>0.854207</td>\n",
       "      <td>0.975217</td>\n",
       "      <td>0.637000</td>\n",
       "      <td>0.549</td>\n",
       "      <td>0.579</td>\n",
       "      <td>0.476</td>\n",
       "      <td>0.810</td>\n",
       "      <td>0.654</td>\n",
       "      <td>0.571</td>\n",
       "      <td>0.820</td>\n",
       "    </tr>\n",
       "    <tr>\n",
       "      <th>Fer2013_filtered_uniform_aug_disgust100_indentity00 xval-10</th>\n",
       "      <td>0.911053</td>\n",
       "      <td>0.878810</td>\n",
       "      <td>0.953173</td>\n",
       "      <td>0.846325</td>\n",
       "      <td>0.962533</td>\n",
       "      <td>0.912112</td>\n",
       "      <td>0.850128</td>\n",
       "      <td>0.974292</td>\n",
       "      <td>0.628857</td>\n",
       "      <td>0.542</td>\n",
       "      <td>0.581</td>\n",
       "      <td>0.447</td>\n",
       "      <td>0.817</td>\n",
       "      <td>0.653</td>\n",
       "      <td>0.564</td>\n",
       "      <td>0.798</td>\n",
       "    </tr>\n",
       "    <tr>\n",
       "      <th>Fer2013_filtered_uniform_aug_disgust100_residual05_identity05_in005 xval-10</th>\n",
       "      <td>0.911343</td>\n",
       "      <td>0.876815</td>\n",
       "      <td>0.945248</td>\n",
       "      <td>0.843721</td>\n",
       "      <td>0.963858</td>\n",
       "      <td>0.917198</td>\n",
       "      <td>0.857880</td>\n",
       "      <td>0.974677</td>\n",
       "      <td>0.637429</td>\n",
       "      <td>0.552</td>\n",
       "      <td>0.565</td>\n",
       "      <td>0.470</td>\n",
       "      <td>0.826</td>\n",
       "      <td>0.661</td>\n",
       "      <td>0.582</td>\n",
       "      <td>0.806</td>\n",
       "    </tr>\n",
       "    <tr>\n",
       "      <th>Fer2013_filtered_uniform_aug_disgust100_residual05_identity05_in005 xval-10</th>\n",
       "      <td>0.915219</td>\n",
       "      <td>0.881481</td>\n",
       "      <td>0.945537</td>\n",
       "      <td>0.855107</td>\n",
       "      <td>0.965324</td>\n",
       "      <td>0.923231</td>\n",
       "      <td>0.859734</td>\n",
       "      <td>0.976118</td>\n",
       "      <td>0.646714</td>\n",
       "      <td>0.570</td>\n",
       "      <td>0.559</td>\n",
       "      <td>0.497</td>\n",
       "      <td>0.822</td>\n",
       "      <td>0.647</td>\n",
       "      <td>0.607</td>\n",
       "      <td>0.825</td>\n",
       "    </tr>\n",
       "    <tr>\n",
       "      <th>Fer2013_filtered_uniform_aug_disgust100_residual05_identity05_in005 xval-10</th>\n",
       "      <td>0.909742</td>\n",
       "      <td>0.878896</td>\n",
       "      <td>0.945230</td>\n",
       "      <td>0.842424</td>\n",
       "      <td>0.963190</td>\n",
       "      <td>0.913098</td>\n",
       "      <td>0.851973</td>\n",
       "      <td>0.973384</td>\n",
       "      <td>0.632286</td>\n",
       "      <td>0.563</td>\n",
       "      <td>0.546</td>\n",
       "      <td>0.465</td>\n",
       "      <td>0.823</td>\n",
       "      <td>0.657</td>\n",
       "      <td>0.574</td>\n",
       "      <td>0.798</td>\n",
       "    </tr>\n",
       "    <tr>\n",
       "      <th>Fer2013_filtered_uniform_aug_disgust100_residual05_identity05_ls01 xval-10</th>\n",
       "      <td>0.911909</td>\n",
       "      <td>0.879580</td>\n",
       "      <td>0.945183</td>\n",
       "      <td>0.846008</td>\n",
       "      <td>0.964723</td>\n",
       "      <td>0.920014</td>\n",
       "      <td>0.850127</td>\n",
       "      <td>0.977727</td>\n",
       "      <td>0.637857</td>\n",
       "      <td>0.555</td>\n",
       "      <td>0.549</td>\n",
       "      <td>0.474</td>\n",
       "      <td>0.832</td>\n",
       "      <td>0.662</td>\n",
       "      <td>0.571</td>\n",
       "      <td>0.822</td>\n",
       "    </tr>\n",
       "    <tr>\n",
       "      <th>Fer2013_filtered_uniform_aug_disgust100_residual05_identity05_ls01 xval-10</th>\n",
       "      <td>0.913752</td>\n",
       "      <td>0.879683</td>\n",
       "      <td>0.944340</td>\n",
       "      <td>0.853474</td>\n",
       "      <td>0.966297</td>\n",
       "      <td>0.918256</td>\n",
       "      <td>0.862022</td>\n",
       "      <td>0.972192</td>\n",
       "      <td>0.642143</td>\n",
       "      <td>0.551</td>\n",
       "      <td>0.562</td>\n",
       "      <td>0.477</td>\n",
       "      <td>0.838</td>\n",
       "      <td>0.646</td>\n",
       "      <td>0.602</td>\n",
       "      <td>0.819</td>\n",
       "    </tr>\n",
       "    <tr>\n",
       "      <th>Fer2013_filtered_uniform_aug_disgust100_residual05_identity05_ls01 xval-10</th>\n",
       "      <td>0.912501</td>\n",
       "      <td>0.869730</td>\n",
       "      <td>0.951838</td>\n",
       "      <td>0.852397</td>\n",
       "      <td>0.961178</td>\n",
       "      <td>0.919172</td>\n",
       "      <td>0.859343</td>\n",
       "      <td>0.973851</td>\n",
       "      <td>0.639857</td>\n",
       "      <td>0.535</td>\n",
       "      <td>0.604</td>\n",
       "      <td>0.455</td>\n",
       "      <td>0.815</td>\n",
       "      <td>0.670</td>\n",
       "      <td>0.594</td>\n",
       "      <td>0.806</td>\n",
       "    </tr>\n",
       "    <tr>\n",
       "      <th>Fer2013_filtered_uniform_aug_surprise100_residual05_identity05 xval-10</th>\n",
       "      <td>0.910220</td>\n",
       "      <td>0.873388</td>\n",
       "      <td>0.945757</td>\n",
       "      <td>0.850629</td>\n",
       "      <td>0.959014</td>\n",
       "      <td>0.915828</td>\n",
       "      <td>0.852598</td>\n",
       "      <td>0.974329</td>\n",
       "      <td>0.637714</td>\n",
       "      <td>0.529</td>\n",
       "      <td>0.559</td>\n",
       "      <td>0.504</td>\n",
       "      <td>0.822</td>\n",
       "      <td>0.656</td>\n",
       "      <td>0.586</td>\n",
       "      <td>0.808</td>\n",
       "    </tr>\n",
       "    <tr>\n",
       "      <th>Fer2013_filtered_uniform_aug_surprise100_residual05_identity05 xval-10</th>\n",
       "      <td>0.910815</td>\n",
       "      <td>0.876361</td>\n",
       "      <td>0.944985</td>\n",
       "      <td>0.845678</td>\n",
       "      <td>0.961329</td>\n",
       "      <td>0.918685</td>\n",
       "      <td>0.855305</td>\n",
       "      <td>0.973363</td>\n",
       "      <td>0.641143</td>\n",
       "      <td>0.521</td>\n",
       "      <td>0.592</td>\n",
       "      <td>0.501</td>\n",
       "      <td>0.833</td>\n",
       "      <td>0.656</td>\n",
       "      <td>0.575</td>\n",
       "      <td>0.810</td>\n",
       "    </tr>\n",
       "    <tr>\n",
       "      <th>Fer2013_filtered_uniform_aug_surprise100_residual05_identity05 xval-10</th>\n",
       "      <td>0.909212</td>\n",
       "      <td>0.872319</td>\n",
       "      <td>0.945893</td>\n",
       "      <td>0.836523</td>\n",
       "      <td>0.962504</td>\n",
       "      <td>0.919319</td>\n",
       "      <td>0.856182</td>\n",
       "      <td>0.971740</td>\n",
       "      <td>0.637857</td>\n",
       "      <td>0.542</td>\n",
       "      <td>0.597</td>\n",
       "      <td>0.476</td>\n",
       "      <td>0.809</td>\n",
       "      <td>0.678</td>\n",
       "      <td>0.551</td>\n",
       "      <td>0.812</td>\n",
       "    </tr>\n",
       "    <tr>\n",
       "      <th>Fer2013_filtered_uniform_aug_disgust100_residual05_identity05_alternate10 xval-10</th>\n",
       "      <td>0.908725</td>\n",
       "      <td>0.873806</td>\n",
       "      <td>0.941975</td>\n",
       "      <td>0.832474</td>\n",
       "      <td>0.959896</td>\n",
       "      <td>0.918168</td>\n",
       "      <td>0.859574</td>\n",
       "      <td>0.975185</td>\n",
       "      <td>0.635429</td>\n",
       "      <td>0.554</td>\n",
       "      <td>0.569</td>\n",
       "      <td>0.461</td>\n",
       "      <td>0.810</td>\n",
       "      <td>0.646</td>\n",
       "      <td>0.604</td>\n",
       "      <td>0.804</td>\n",
       "    </tr>\n",
       "    <tr>\n",
       "      <th>Fer2013_filtered_uniform_aug_disgust100_residual05_identity05_alternate10 xval-10</th>\n",
       "      <td>0.909436</td>\n",
       "      <td>0.875989</td>\n",
       "      <td>0.944572</td>\n",
       "      <td>0.847388</td>\n",
       "      <td>0.960854</td>\n",
       "      <td>0.910368</td>\n",
       "      <td>0.850389</td>\n",
       "      <td>0.976491</td>\n",
       "      <td>0.627857</td>\n",
       "      <td>0.529</td>\n",
       "      <td>0.557</td>\n",
       "      <td>0.479</td>\n",
       "      <td>0.817</td>\n",
       "      <td>0.640</td>\n",
       "      <td>0.565</td>\n",
       "      <td>0.808</td>\n",
       "    </tr>\n",
       "    <tr>\n",
       "      <th>Fer2013_filtered_uniform_aug_disgust100_residual05_identity05_alternate10 xval-10</th>\n",
       "      <td>0.915659</td>\n",
       "      <td>0.878786</td>\n",
       "      <td>0.953367</td>\n",
       "      <td>0.852685</td>\n",
       "      <td>0.964613</td>\n",
       "      <td>0.921157</td>\n",
       "      <td>0.864861</td>\n",
       "      <td>0.974146</td>\n",
       "      <td>0.646286</td>\n",
       "      <td>0.562</td>\n",
       "      <td>0.578</td>\n",
       "      <td>0.485</td>\n",
       "      <td>0.831</td>\n",
       "      <td>0.667</td>\n",
       "      <td>0.593</td>\n",
       "      <td>0.808</td>\n",
       "    </tr>\n",
       "    <tr>\n",
       "      <th>Fer2013_filtered_uniform_aug_surprise1000_residual05_identity05 xval-10</th>\n",
       "      <td>0.909863</td>\n",
       "      <td>0.878579</td>\n",
       "      <td>0.942483</td>\n",
       "      <td>0.841173</td>\n",
       "      <td>0.961132</td>\n",
       "      <td>0.917946</td>\n",
       "      <td>0.855154</td>\n",
       "      <td>0.972573</td>\n",
       "      <td>0.639000</td>\n",
       "      <td>0.560</td>\n",
       "      <td>0.546</td>\n",
       "      <td>0.456</td>\n",
       "      <td>0.830</td>\n",
       "      <td>0.656</td>\n",
       "      <td>0.600</td>\n",
       "      <td>0.825</td>\n",
       "    </tr>\n",
       "    <tr>\n",
       "      <th>Fer2013_filtered_uniform_aug_surprise1000_residual05_identity05 xval-10</th>\n",
       "      <td>0.910725</td>\n",
       "      <td>0.877727</td>\n",
       "      <td>0.949430</td>\n",
       "      <td>0.846831</td>\n",
       "      <td>0.961463</td>\n",
       "      <td>0.915561</td>\n",
       "      <td>0.852301</td>\n",
       "      <td>0.971760</td>\n",
       "      <td>0.637714</td>\n",
       "      <td>0.538</td>\n",
       "      <td>0.580</td>\n",
       "      <td>0.471</td>\n",
       "      <td>0.822</td>\n",
       "      <td>0.651</td>\n",
       "      <td>0.572</td>\n",
       "      <td>0.830</td>\n",
       "    </tr>\n",
       "    <tr>\n",
       "      <th>Fer2013_filtered_uniform_aug_surprise1000_residual05_identity05 xval-10</th>\n",
       "      <td>0.912245</td>\n",
       "      <td>0.871536</td>\n",
       "      <td>0.950525</td>\n",
       "      <td>0.850187</td>\n",
       "      <td>0.961472</td>\n",
       "      <td>0.915796</td>\n",
       "      <td>0.863858</td>\n",
       "      <td>0.972342</td>\n",
       "      <td>0.642000</td>\n",
       "      <td>0.528</td>\n",
       "      <td>0.582</td>\n",
       "      <td>0.479</td>\n",
       "      <td>0.815</td>\n",
       "      <td>0.665</td>\n",
       "      <td>0.614</td>\n",
       "      <td>0.811</td>\n",
       "    </tr>\n",
       "    <tr>\n",
       "      <th>Fer2013_filtered_uniform_aug_surprise1000selected_residual05_identity05 xval-10</th>\n",
       "      <td>0.910035</td>\n",
       "      <td>0.875196</td>\n",
       "      <td>0.949495</td>\n",
       "      <td>0.840707</td>\n",
       "      <td>0.960076</td>\n",
       "      <td>0.919953</td>\n",
       "      <td>0.853320</td>\n",
       "      <td>0.971498</td>\n",
       "      <td>0.636714</td>\n",
       "      <td>0.549</td>\n",
       "      <td>0.565</td>\n",
       "      <td>0.467</td>\n",
       "      <td>0.836</td>\n",
       "      <td>0.655</td>\n",
       "      <td>0.577</td>\n",
       "      <td>0.808</td>\n",
       "    </tr>\n",
       "    <tr>\n",
       "      <th>Fer2013_filtered_uniform_aug_surprise1000selected_residual05_identity05 xval-10</th>\n",
       "      <td>0.909452</td>\n",
       "      <td>0.880825</td>\n",
       "      <td>0.943860</td>\n",
       "      <td>0.846498</td>\n",
       "      <td>0.959932</td>\n",
       "      <td>0.910432</td>\n",
       "      <td>0.851163</td>\n",
       "      <td>0.973457</td>\n",
       "      <td>0.630857</td>\n",
       "      <td>0.554</td>\n",
       "      <td>0.561</td>\n",
       "      <td>0.474</td>\n",
       "      <td>0.827</td>\n",
       "      <td>0.631</td>\n",
       "      <td>0.578</td>\n",
       "      <td>0.791</td>\n",
       "    </tr>\n",
       "    <tr>\n",
       "      <th>Fer2013_filtered_uniform_aug_surprise1000selected_residual05_identity05 xval-10</th>\n",
       "      <td>0.909376</td>\n",
       "      <td>0.880874</td>\n",
       "      <td>0.943896</td>\n",
       "      <td>0.844174</td>\n",
       "      <td>0.960939</td>\n",
       "      <td>0.910187</td>\n",
       "      <td>0.851456</td>\n",
       "      <td>0.974108</td>\n",
       "      <td>0.637714</td>\n",
       "      <td>0.573</td>\n",
       "      <td>0.550</td>\n",
       "      <td>0.463</td>\n",
       "      <td>0.821</td>\n",
       "      <td>0.641</td>\n",
       "      <td>0.603</td>\n",
       "      <td>0.813</td>\n",
       "    </tr>\n",
       "    <tr>\n",
       "      <th>Fer2013_filtered_uniform_aug_disgust100_residual05_identity03 xval-10</th>\n",
       "      <td>0.913886</td>\n",
       "      <td>0.884001</td>\n",
       "      <td>0.949463</td>\n",
       "      <td>0.847595</td>\n",
       "      <td>0.960775</td>\n",
       "      <td>0.921398</td>\n",
       "      <td>0.856634</td>\n",
       "      <td>0.977334</td>\n",
       "      <td>0.648286</td>\n",
       "      <td>0.590</td>\n",
       "      <td>0.577</td>\n",
       "      <td>0.492</td>\n",
       "      <td>0.811</td>\n",
       "      <td>0.687</td>\n",
       "      <td>0.571</td>\n",
       "      <td>0.810</td>\n",
       "    </tr>\n",
       "    <tr>\n",
       "      <th>Fer2013_filtered_uniform_aug_disgust100_residual05_identity03 xval-10</th>\n",
       "      <td>0.911496</td>\n",
       "      <td>0.884864</td>\n",
       "      <td>0.943033</td>\n",
       "      <td>0.844009</td>\n",
       "      <td>0.961162</td>\n",
       "      <td>0.919363</td>\n",
       "      <td>0.854122</td>\n",
       "      <td>0.973919</td>\n",
       "      <td>0.641286</td>\n",
       "      <td>0.560</td>\n",
       "      <td>0.594</td>\n",
       "      <td>0.502</td>\n",
       "      <td>0.815</td>\n",
       "      <td>0.662</td>\n",
       "      <td>0.569</td>\n",
       "      <td>0.787</td>\n",
       "    </tr>\n",
       "    <tr>\n",
       "      <th>Fer2013_filtered_uniform_aug_disgust100_residual05_identity03 xval-10</th>\n",
       "      <td>0.915495</td>\n",
       "      <td>0.886123</td>\n",
       "      <td>0.949707</td>\n",
       "      <td>0.855691</td>\n",
       "      <td>0.961600</td>\n",
       "      <td>0.921932</td>\n",
       "      <td>0.857847</td>\n",
       "      <td>0.975567</td>\n",
       "      <td>0.650857</td>\n",
       "      <td>0.561</td>\n",
       "      <td>0.598</td>\n",
       "      <td>0.504</td>\n",
       "      <td>0.823</td>\n",
       "      <td>0.684</td>\n",
       "      <td>0.571</td>\n",
       "      <td>0.815</td>\n",
       "    </tr>\n",
       "  </tbody>\n",
       "</table>\n",
       "</div>"
      ],
      "text/plain": [
       "                                                    mean AUC  angry AUC  \\\n",
       "Fer2013_filtered_uniform xval-10                    0.913137   0.882769   \n",
       "Fer2013_filtered_uniform_aug_disgust100_residua...  0.910634   0.877640   \n",
       "Fer2013_filtered_uniform_aug_disgust100_residua...  0.913648   0.876134   \n",
       "Fer2013_filtered_uniform_aug_disgust100_residua...  0.913458   0.881824   \n",
       "Fer2013_filtered_uniform_aug_disgust100_residua...  0.915024   0.876282   \n",
       "Fer2013_filtered_uniform_aug_disgust100_residua...  0.914427   0.881619   \n",
       "Fer2013_filtered_uniform_aug_disgust100_identit...  0.915294   0.876576   \n",
       "Fer2013_filtered_uniform_aug_disgust100_identit...  0.911934   0.881547   \n",
       "Fer2013_filtered_uniform_aug_disgust100_identit...  0.910994   0.878423   \n",
       "Fer2013_filtered_uniform_aug_disgust100_residua...  0.914170   0.889486   \n",
       "Fer2013_filtered_uniform_aug_disgust100_residua...  0.914464   0.878498   \n",
       "Fer2013_filtered_uniform xval-10                    0.914381   0.879258   \n",
       "Fer2013_filtered_uniform xval-10                    0.911200   0.871695   \n",
       "Fer2013_filtered_uniform_aug_disgust100_residua...  0.914178   0.879924   \n",
       "Fer2013_filtered_uniform_aug_disgust100_residua...  0.910091   0.871675   \n",
       "Fer2013_filtered_uniform_aug_disgust200_residua...  0.911938   0.879127   \n",
       "Fer2013_filtered_uniform_aug_disgust200_residua...  0.915086   0.891808   \n",
       "Fer2013_filtered_uniform_aug_disgust200_residua...  0.910714   0.882841   \n",
       "Fer2013_filtered_uniform_aug_disgust100_res0.7_...  0.913062   0.873278   \n",
       "Fer2013_filtered_uniform_aug_disgust100_res0.7_...  0.912444   0.881952   \n",
       "Fer2013_filtered_uniform_aug_disgust100_res0.7_...  0.914854   0.883661   \n",
       "Fer2013_filtered_uniform_aug_disgust100_identit...  0.911867   0.878198   \n",
       "Fer2013_filtered_uniform_aug_disgust100_identit...  0.911699   0.877810   \n",
       "Fer2013_filtered_uniform_aug_disgust100_identit...  0.910543   0.875542   \n",
       "Fer2013_filtered_uniform_aug_disgust100_indenti...  0.915121   0.880861   \n",
       "Fer2013_filtered_uniform_aug_disgust100_indenti...  0.913686   0.880125   \n",
       "Fer2013_filtered_uniform_aug_disgust100_indenti...  0.911053   0.878810   \n",
       "Fer2013_filtered_uniform_aug_disgust100_residua...  0.911343   0.876815   \n",
       "Fer2013_filtered_uniform_aug_disgust100_residua...  0.915219   0.881481   \n",
       "Fer2013_filtered_uniform_aug_disgust100_residua...  0.909742   0.878896   \n",
       "Fer2013_filtered_uniform_aug_disgust100_residua...  0.911909   0.879580   \n",
       "Fer2013_filtered_uniform_aug_disgust100_residua...  0.913752   0.879683   \n",
       "Fer2013_filtered_uniform_aug_disgust100_residua...  0.912501   0.869730   \n",
       "Fer2013_filtered_uniform_aug_surprise100_residu...  0.910220   0.873388   \n",
       "Fer2013_filtered_uniform_aug_surprise100_residu...  0.910815   0.876361   \n",
       "Fer2013_filtered_uniform_aug_surprise100_residu...  0.909212   0.872319   \n",
       "Fer2013_filtered_uniform_aug_disgust100_residua...  0.908725   0.873806   \n",
       "Fer2013_filtered_uniform_aug_disgust100_residua...  0.909436   0.875989   \n",
       "Fer2013_filtered_uniform_aug_disgust100_residua...  0.915659   0.878786   \n",
       "Fer2013_filtered_uniform_aug_surprise1000_resid...  0.909863   0.878579   \n",
       "Fer2013_filtered_uniform_aug_surprise1000_resid...  0.910725   0.877727   \n",
       "Fer2013_filtered_uniform_aug_surprise1000_resid...  0.912245   0.871536   \n",
       "Fer2013_filtered_uniform_aug_surprise1000select...  0.910035   0.875196   \n",
       "Fer2013_filtered_uniform_aug_surprise1000select...  0.909452   0.880825   \n",
       "Fer2013_filtered_uniform_aug_surprise1000select...  0.909376   0.880874   \n",
       "Fer2013_filtered_uniform_aug_disgust100_residua...  0.913886   0.884001   \n",
       "Fer2013_filtered_uniform_aug_disgust100_residua...  0.911496   0.884864   \n",
       "Fer2013_filtered_uniform_aug_disgust100_residua...  0.915495   0.886123   \n",
       "\n",
       "                                                    disgust AUC  fear AUC  \\\n",
       "Fer2013_filtered_uniform xval-10                       0.947797  0.845343   \n",
       "Fer2013_filtered_uniform_aug_disgust100_residua...     0.948825  0.844880   \n",
       "Fer2013_filtered_uniform_aug_disgust100_residua...     0.948275  0.856259   \n",
       "Fer2013_filtered_uniform_aug_disgust100_residua...     0.944403  0.851962   \n",
       "Fer2013_filtered_uniform_aug_disgust100_residua...     0.948898  0.850682   \n",
       "Fer2013_filtered_uniform_aug_disgust100_residua...     0.949027  0.857508   \n",
       "Fer2013_filtered_uniform_aug_disgust100_identit...     0.952008  0.851192   \n",
       "Fer2013_filtered_uniform_aug_disgust100_identit...     0.950238  0.844635   \n",
       "Fer2013_filtered_uniform_aug_disgust100_identit...     0.947222  0.852984   \n",
       "Fer2013_filtered_uniform_aug_disgust100_residua...     0.947455  0.849964   \n",
       "Fer2013_filtered_uniform_aug_disgust100_residua...     0.953938  0.851328   \n",
       "Fer2013_filtered_uniform xval-10                       0.950218  0.846412   \n",
       "Fer2013_filtered_uniform xval-10                       0.946988  0.854422   \n",
       "Fer2013_filtered_uniform_aug_disgust100_residua...     0.953368  0.848205   \n",
       "Fer2013_filtered_uniform_aug_disgust100_residua...     0.947948  0.839583   \n",
       "Fer2013_filtered_uniform_aug_disgust200_residua...     0.943203  0.854557   \n",
       "Fer2013_filtered_uniform_aug_disgust200_residua...     0.943340  0.845947   \n",
       "Fer2013_filtered_uniform_aug_disgust200_residua...     0.941868  0.847588   \n",
       "Fer2013_filtered_uniform_aug_disgust100_res0.7_...     0.948582  0.850750   \n",
       "Fer2013_filtered_uniform_aug_disgust100_res0.7_...     0.942338  0.854015   \n",
       "Fer2013_filtered_uniform_aug_disgust100_res0.7_...     0.947233  0.843760   \n",
       "Fer2013_filtered_uniform_aug_disgust100_identit...     0.942283  0.849933   \n",
       "Fer2013_filtered_uniform_aug_disgust100_identit...     0.945560  0.854055   \n",
       "Fer2013_filtered_uniform_aug_disgust100_identit...     0.947010  0.846450   \n",
       "Fer2013_filtered_uniform_aug_disgust100_indenti...     0.954353  0.844516   \n",
       "Fer2013_filtered_uniform_aug_disgust100_indenti...     0.953922  0.854801   \n",
       "Fer2013_filtered_uniform_aug_disgust100_indenti...     0.953173  0.846325   \n",
       "Fer2013_filtered_uniform_aug_disgust100_residua...     0.945248  0.843721   \n",
       "Fer2013_filtered_uniform_aug_disgust100_residua...     0.945537  0.855107   \n",
       "Fer2013_filtered_uniform_aug_disgust100_residua...     0.945230  0.842424   \n",
       "Fer2013_filtered_uniform_aug_disgust100_residua...     0.945183  0.846008   \n",
       "Fer2013_filtered_uniform_aug_disgust100_residua...     0.944340  0.853474   \n",
       "Fer2013_filtered_uniform_aug_disgust100_residua...     0.951838  0.852397   \n",
       "Fer2013_filtered_uniform_aug_surprise100_residu...     0.945757  0.850629   \n",
       "Fer2013_filtered_uniform_aug_surprise100_residu...     0.944985  0.845678   \n",
       "Fer2013_filtered_uniform_aug_surprise100_residu...     0.945893  0.836523   \n",
       "Fer2013_filtered_uniform_aug_disgust100_residua...     0.941975  0.832474   \n",
       "Fer2013_filtered_uniform_aug_disgust100_residua...     0.944572  0.847388   \n",
       "Fer2013_filtered_uniform_aug_disgust100_residua...     0.953367  0.852685   \n",
       "Fer2013_filtered_uniform_aug_surprise1000_resid...     0.942483  0.841173   \n",
       "Fer2013_filtered_uniform_aug_surprise1000_resid...     0.949430  0.846831   \n",
       "Fer2013_filtered_uniform_aug_surprise1000_resid...     0.950525  0.850187   \n",
       "Fer2013_filtered_uniform_aug_surprise1000select...     0.949495  0.840707   \n",
       "Fer2013_filtered_uniform_aug_surprise1000select...     0.943860  0.846498   \n",
       "Fer2013_filtered_uniform_aug_surprise1000select...     0.943896  0.844174   \n",
       "Fer2013_filtered_uniform_aug_disgust100_residua...     0.949463  0.847595   \n",
       "Fer2013_filtered_uniform_aug_disgust100_residua...     0.943033  0.844009   \n",
       "Fer2013_filtered_uniform_aug_disgust100_residua...     0.949707  0.855691   \n",
       "\n",
       "                                                    happy AUC  neautral AUC  \\\n",
       "Fer2013_filtered_uniform xval-10                     0.964072      0.922568   \n",
       "Fer2013_filtered_uniform_aug_disgust100_residua...   0.963346      0.915373   \n",
       "Fer2013_filtered_uniform_aug_disgust100_residua...   0.963064      0.920421   \n",
       "Fer2013_filtered_uniform_aug_disgust100_residua...   0.963165      0.919623   \n",
       "Fer2013_filtered_uniform_aug_disgust100_residua...   0.965239      0.923594   \n",
       "Fer2013_filtered_uniform_aug_disgust100_residua...   0.963788      0.916292   \n",
       "Fer2013_filtered_uniform_aug_disgust100_identit...   0.963053      0.923192   \n",
       "Fer2013_filtered_uniform_aug_disgust100_identit...   0.960252      0.917508   \n",
       "Fer2013_filtered_uniform_aug_disgust100_identit...   0.961429      0.912841   \n",
       "Fer2013_filtered_uniform_aug_disgust100_residua...   0.963292      0.917965   \n",
       "Fer2013_filtered_uniform_aug_disgust100_residua...   0.965696      0.919801   \n",
       "Fer2013_filtered_uniform xval-10                     0.966658      0.924275   \n",
       "Fer2013_filtered_uniform xval-10                     0.959406      0.916182   \n",
       "Fer2013_filtered_uniform_aug_disgust100_residua...   0.963971      0.919146   \n",
       "Fer2013_filtered_uniform_aug_disgust100_residua...   0.962295      0.917501   \n",
       "Fer2013_filtered_uniform_aug_disgust200_residua...   0.961367      0.916866   \n",
       "Fer2013_filtered_uniform_aug_disgust200_residua...   0.965096      0.918108   \n",
       "Fer2013_filtered_uniform_aug_disgust200_residua...   0.960477      0.913739   \n",
       "Fer2013_filtered_uniform_aug_disgust100_res0.7_...   0.965934      0.919406   \n",
       "Fer2013_filtered_uniform_aug_disgust100_res0.7_...   0.963248      0.915849   \n",
       "Fer2013_filtered_uniform_aug_disgust100_res0.7_...   0.965465      0.924010   \n",
       "Fer2013_filtered_uniform_aug_disgust100_identit...   0.964438      0.919130   \n",
       "Fer2013_filtered_uniform_aug_disgust100_identit...   0.963354      0.915940   \n",
       "Fer2013_filtered_uniform_aug_disgust100_identit...   0.962219      0.916484   \n",
       "Fer2013_filtered_uniform_aug_disgust100_indenti...   0.963356      0.917976   \n",
       "Fer2013_filtered_uniform_aug_disgust100_indenti...   0.963232      0.914302   \n",
       "Fer2013_filtered_uniform_aug_disgust100_indenti...   0.962533      0.912112   \n",
       "Fer2013_filtered_uniform_aug_disgust100_residua...   0.963858      0.917198   \n",
       "Fer2013_filtered_uniform_aug_disgust100_residua...   0.965324      0.923231   \n",
       "Fer2013_filtered_uniform_aug_disgust100_residua...   0.963190      0.913098   \n",
       "Fer2013_filtered_uniform_aug_disgust100_residua...   0.964723      0.920014   \n",
       "Fer2013_filtered_uniform_aug_disgust100_residua...   0.966297      0.918256   \n",
       "Fer2013_filtered_uniform_aug_disgust100_residua...   0.961178      0.919172   \n",
       "Fer2013_filtered_uniform_aug_surprise100_residu...   0.959014      0.915828   \n",
       "Fer2013_filtered_uniform_aug_surprise100_residu...   0.961329      0.918685   \n",
       "Fer2013_filtered_uniform_aug_surprise100_residu...   0.962504      0.919319   \n",
       "Fer2013_filtered_uniform_aug_disgust100_residua...   0.959896      0.918168   \n",
       "Fer2013_filtered_uniform_aug_disgust100_residua...   0.960854      0.910368   \n",
       "Fer2013_filtered_uniform_aug_disgust100_residua...   0.964613      0.921157   \n",
       "Fer2013_filtered_uniform_aug_surprise1000_resid...   0.961132      0.917946   \n",
       "Fer2013_filtered_uniform_aug_surprise1000_resid...   0.961463      0.915561   \n",
       "Fer2013_filtered_uniform_aug_surprise1000_resid...   0.961472      0.915796   \n",
       "Fer2013_filtered_uniform_aug_surprise1000select...   0.960076      0.919953   \n",
       "Fer2013_filtered_uniform_aug_surprise1000select...   0.959932      0.910432   \n",
       "Fer2013_filtered_uniform_aug_surprise1000select...   0.960939      0.910187   \n",
       "Fer2013_filtered_uniform_aug_disgust100_residua...   0.960775      0.921398   \n",
       "Fer2013_filtered_uniform_aug_disgust100_residua...   0.961162      0.919363   \n",
       "Fer2013_filtered_uniform_aug_disgust100_residua...   0.961600      0.921932   \n",
       "\n",
       "                                                     sad AUC  surprise AUC  \\\n",
       "Fer2013_filtered_uniform xval-10                    0.854387      0.975025   \n",
       "Fer2013_filtered_uniform_aug_disgust100_residua...  0.848816      0.975559   \n",
       "Fer2013_filtered_uniform_aug_disgust100_residua...  0.857468      0.973912   \n",
       "Fer2013_filtered_uniform_aug_disgust100_residua...  0.855662      0.977569   \n",
       "Fer2013_filtered_uniform_aug_disgust100_residua...  0.863687      0.976787   \n",
       "Fer2013_filtered_uniform_aug_disgust100_residua...  0.859655      0.973098   \n",
       "Fer2013_filtered_uniform_aug_disgust100_identit...  0.862476      0.978560   \n",
       "Fer2013_filtered_uniform_aug_disgust100_identit...  0.853189      0.976167   \n",
       "Fer2013_filtered_uniform_aug_disgust100_identit...  0.850608      0.973453   \n",
       "Fer2013_filtered_uniform_aug_disgust100_residua...  0.856163      0.974864   \n",
       "Fer2013_filtered_uniform_aug_disgust100_residua...  0.854846      0.977138   \n",
       "Fer2013_filtered_uniform xval-10                    0.859469      0.974378   \n",
       "Fer2013_filtered_uniform xval-10                    0.855532      0.974173   \n",
       "Fer2013_filtered_uniform_aug_disgust100_residua...  0.859974      0.974657   \n",
       "Fer2013_filtered_uniform_aug_disgust100_residua...  0.854655      0.976978   \n",
       "Fer2013_filtered_uniform_aug_disgust200_residua...  0.853707      0.974738   \n",
       "Fer2013_filtered_uniform_aug_disgust200_residua...  0.865717      0.975588   \n",
       "Fer2013_filtered_uniform_aug_disgust200_residua...  0.854942      0.973542   \n",
       "Fer2013_filtered_uniform_aug_disgust100_res0.7_...  0.859143      0.974344   \n",
       "Fer2013_filtered_uniform_aug_disgust100_res0.7_...  0.853721      0.975982   \n",
       "Fer2013_filtered_uniform_aug_disgust100_res0.7_...  0.865355      0.974494   \n",
       "Fer2013_filtered_uniform_aug_disgust100_identit...  0.856001      0.973087   \n",
       "Fer2013_filtered_uniform_aug_disgust100_identit...  0.849497      0.975677   \n",
       "Fer2013_filtered_uniform_aug_disgust100_identit...  0.851853      0.974244   \n",
       "Fer2013_filtered_uniform_aug_disgust100_indenti...  0.865387      0.979400   \n",
       "Fer2013_filtered_uniform_aug_disgust100_indenti...  0.854207      0.975217   \n",
       "Fer2013_filtered_uniform_aug_disgust100_indenti...  0.850128      0.974292   \n",
       "Fer2013_filtered_uniform_aug_disgust100_residua...  0.857880      0.974677   \n",
       "Fer2013_filtered_uniform_aug_disgust100_residua...  0.859734      0.976118   \n",
       "Fer2013_filtered_uniform_aug_disgust100_residua...  0.851973      0.973384   \n",
       "Fer2013_filtered_uniform_aug_disgust100_residua...  0.850127      0.977727   \n",
       "Fer2013_filtered_uniform_aug_disgust100_residua...  0.862022      0.972192   \n",
       "Fer2013_filtered_uniform_aug_disgust100_residua...  0.859343      0.973851   \n",
       "Fer2013_filtered_uniform_aug_surprise100_residu...  0.852598      0.974329   \n",
       "Fer2013_filtered_uniform_aug_surprise100_residu...  0.855305      0.973363   \n",
       "Fer2013_filtered_uniform_aug_surprise100_residu...  0.856182      0.971740   \n",
       "Fer2013_filtered_uniform_aug_disgust100_residua...  0.859574      0.975185   \n",
       "Fer2013_filtered_uniform_aug_disgust100_residua...  0.850389      0.976491   \n",
       "Fer2013_filtered_uniform_aug_disgust100_residua...  0.864861      0.974146   \n",
       "Fer2013_filtered_uniform_aug_surprise1000_resid...  0.855154      0.972573   \n",
       "Fer2013_filtered_uniform_aug_surprise1000_resid...  0.852301      0.971760   \n",
       "Fer2013_filtered_uniform_aug_surprise1000_resid...  0.863858      0.972342   \n",
       "Fer2013_filtered_uniform_aug_surprise1000select...  0.853320      0.971498   \n",
       "Fer2013_filtered_uniform_aug_surprise1000select...  0.851163      0.973457   \n",
       "Fer2013_filtered_uniform_aug_surprise1000select...  0.851456      0.974108   \n",
       "Fer2013_filtered_uniform_aug_disgust100_residua...  0.856634      0.977334   \n",
       "Fer2013_filtered_uniform_aug_disgust100_residua...  0.854122      0.973919   \n",
       "Fer2013_filtered_uniform_aug_disgust100_residua...  0.857847      0.975567   \n",
       "\n",
       "                                                    mean ACC  angry ACC  \\\n",
       "Fer2013_filtered_uniform xval-10                    0.637857      0.544   \n",
       "Fer2013_filtered_uniform_aug_disgust100_residua...  0.639000      0.564   \n",
       "Fer2013_filtered_uniform_aug_disgust100_residua...  0.636286      0.546   \n",
       "Fer2013_filtered_uniform_aug_disgust100_residua...  0.639000      0.549   \n",
       "Fer2013_filtered_uniform_aug_disgust100_residua...  0.643857      0.572   \n",
       "Fer2013_filtered_uniform_aug_disgust100_residua...  0.647286      0.557   \n",
       "Fer2013_filtered_uniform_aug_disgust100_identit...  0.645429      0.542   \n",
       "Fer2013_filtered_uniform_aug_disgust100_identit...  0.638714      0.569   \n",
       "Fer2013_filtered_uniform_aug_disgust100_identit...  0.636286      0.548   \n",
       "Fer2013_filtered_uniform_aug_disgust100_residua...  0.641000      0.564   \n",
       "Fer2013_filtered_uniform_aug_disgust100_residua...  0.647143      0.582   \n",
       "Fer2013_filtered_uniform xval-10                    0.641857      0.569   \n",
       "Fer2013_filtered_uniform xval-10                    0.636286      0.560   \n",
       "Fer2013_filtered_uniform_aug_disgust100_residua...  0.642429      0.558   \n",
       "Fer2013_filtered_uniform_aug_disgust100_residua...  0.634286      0.562   \n",
       "Fer2013_filtered_uniform_aug_disgust200_residua...  0.643000      0.562   \n",
       "Fer2013_filtered_uniform_aug_disgust200_residua...  0.648857      0.583   \n",
       "Fer2013_filtered_uniform_aug_disgust200_residua...  0.634857      0.565   \n",
       "Fer2013_filtered_uniform_aug_disgust100_res0.7_...  0.636857      0.536   \n",
       "Fer2013_filtered_uniform_aug_disgust100_res0.7_...  0.644714      0.561   \n",
       "Fer2013_filtered_uniform_aug_disgust100_res0.7_...  0.646857      0.598   \n",
       "Fer2013_filtered_uniform_aug_disgust100_identit...  0.640857      0.564   \n",
       "Fer2013_filtered_uniform_aug_disgust100_identit...  0.639429      0.550   \n",
       "Fer2013_filtered_uniform_aug_disgust100_identit...  0.637429      0.549   \n",
       "Fer2013_filtered_uniform_aug_disgust100_indenti...  0.643286      0.573   \n",
       "Fer2013_filtered_uniform_aug_disgust100_indenti...  0.637000      0.549   \n",
       "Fer2013_filtered_uniform_aug_disgust100_indenti...  0.628857      0.542   \n",
       "Fer2013_filtered_uniform_aug_disgust100_residua...  0.637429      0.552   \n",
       "Fer2013_filtered_uniform_aug_disgust100_residua...  0.646714      0.570   \n",
       "Fer2013_filtered_uniform_aug_disgust100_residua...  0.632286      0.563   \n",
       "Fer2013_filtered_uniform_aug_disgust100_residua...  0.637857      0.555   \n",
       "Fer2013_filtered_uniform_aug_disgust100_residua...  0.642143      0.551   \n",
       "Fer2013_filtered_uniform_aug_disgust100_residua...  0.639857      0.535   \n",
       "Fer2013_filtered_uniform_aug_surprise100_residu...  0.637714      0.529   \n",
       "Fer2013_filtered_uniform_aug_surprise100_residu...  0.641143      0.521   \n",
       "Fer2013_filtered_uniform_aug_surprise100_residu...  0.637857      0.542   \n",
       "Fer2013_filtered_uniform_aug_disgust100_residua...  0.635429      0.554   \n",
       "Fer2013_filtered_uniform_aug_disgust100_residua...  0.627857      0.529   \n",
       "Fer2013_filtered_uniform_aug_disgust100_residua...  0.646286      0.562   \n",
       "Fer2013_filtered_uniform_aug_surprise1000_resid...  0.639000      0.560   \n",
       "Fer2013_filtered_uniform_aug_surprise1000_resid...  0.637714      0.538   \n",
       "Fer2013_filtered_uniform_aug_surprise1000_resid...  0.642000      0.528   \n",
       "Fer2013_filtered_uniform_aug_surprise1000select...  0.636714      0.549   \n",
       "Fer2013_filtered_uniform_aug_surprise1000select...  0.630857      0.554   \n",
       "Fer2013_filtered_uniform_aug_surprise1000select...  0.637714      0.573   \n",
       "Fer2013_filtered_uniform_aug_disgust100_residua...  0.648286      0.590   \n",
       "Fer2013_filtered_uniform_aug_disgust100_residua...  0.641286      0.560   \n",
       "Fer2013_filtered_uniform_aug_disgust100_residua...  0.650857      0.561   \n",
       "\n",
       "                                                    disgust ACC  fear ACC  \\\n",
       "Fer2013_filtered_uniform xval-10                          0.535     0.487   \n",
       "Fer2013_filtered_uniform_aug_disgust100_residua...        0.572     0.471   \n",
       "Fer2013_filtered_uniform_aug_disgust100_residua...        0.573     0.476   \n",
       "Fer2013_filtered_uniform_aug_disgust100_residua...        0.585     0.461   \n",
       "Fer2013_filtered_uniform_aug_disgust100_residua...        0.606     0.475   \n",
       "Fer2013_filtered_uniform_aug_disgust100_residua...        0.596     0.472   \n",
       "Fer2013_filtered_uniform_aug_disgust100_identit...        0.579     0.481   \n",
       "Fer2013_filtered_uniform_aug_disgust100_identit...        0.566     0.471   \n",
       "Fer2013_filtered_uniform_aug_disgust100_identit...        0.576     0.473   \n",
       "Fer2013_filtered_uniform_aug_disgust100_residua...        0.594     0.473   \n",
       "Fer2013_filtered_uniform_aug_disgust100_residua...        0.558     0.472   \n",
       "Fer2013_filtered_uniform xval-10                          0.547     0.486   \n",
       "Fer2013_filtered_uniform xval-10                          0.546     0.478   \n",
       "Fer2013_filtered_uniform_aug_disgust100_residua...        0.589     0.457   \n",
       "Fer2013_filtered_uniform_aug_disgust100_residua...        0.558     0.464   \n",
       "Fer2013_filtered_uniform_aug_disgust200_residua...        0.568     0.478   \n",
       "Fer2013_filtered_uniform_aug_disgust200_residua...        0.597     0.498   \n",
       "Fer2013_filtered_uniform_aug_disgust200_residua...        0.575     0.481   \n",
       "Fer2013_filtered_uniform_aug_disgust100_res0.7_...        0.579     0.486   \n",
       "Fer2013_filtered_uniform_aug_disgust100_res0.7_...        0.566     0.480   \n",
       "Fer2013_filtered_uniform_aug_disgust100_res0.7_...        0.579     0.472   \n",
       "Fer2013_filtered_uniform_aug_disgust100_identit...        0.578     0.481   \n",
       "Fer2013_filtered_uniform_aug_disgust100_identit...        0.591     0.461   \n",
       "Fer2013_filtered_uniform_aug_disgust100_identit...        0.585     0.482   \n",
       "Fer2013_filtered_uniform_aug_disgust100_indenti...        0.566     0.466   \n",
       "Fer2013_filtered_uniform_aug_disgust100_indenti...        0.579     0.476   \n",
       "Fer2013_filtered_uniform_aug_disgust100_indenti...        0.581     0.447   \n",
       "Fer2013_filtered_uniform_aug_disgust100_residua...        0.565     0.470   \n",
       "Fer2013_filtered_uniform_aug_disgust100_residua...        0.559     0.497   \n",
       "Fer2013_filtered_uniform_aug_disgust100_residua...        0.546     0.465   \n",
       "Fer2013_filtered_uniform_aug_disgust100_residua...        0.549     0.474   \n",
       "Fer2013_filtered_uniform_aug_disgust100_residua...        0.562     0.477   \n",
       "Fer2013_filtered_uniform_aug_disgust100_residua...        0.604     0.455   \n",
       "Fer2013_filtered_uniform_aug_surprise100_residu...        0.559     0.504   \n",
       "Fer2013_filtered_uniform_aug_surprise100_residu...        0.592     0.501   \n",
       "Fer2013_filtered_uniform_aug_surprise100_residu...        0.597     0.476   \n",
       "Fer2013_filtered_uniform_aug_disgust100_residua...        0.569     0.461   \n",
       "Fer2013_filtered_uniform_aug_disgust100_residua...        0.557     0.479   \n",
       "Fer2013_filtered_uniform_aug_disgust100_residua...        0.578     0.485   \n",
       "Fer2013_filtered_uniform_aug_surprise1000_resid...        0.546     0.456   \n",
       "Fer2013_filtered_uniform_aug_surprise1000_resid...        0.580     0.471   \n",
       "Fer2013_filtered_uniform_aug_surprise1000_resid...        0.582     0.479   \n",
       "Fer2013_filtered_uniform_aug_surprise1000select...        0.565     0.467   \n",
       "Fer2013_filtered_uniform_aug_surprise1000select...        0.561     0.474   \n",
       "Fer2013_filtered_uniform_aug_surprise1000select...        0.550     0.463   \n",
       "Fer2013_filtered_uniform_aug_disgust100_residua...        0.577     0.492   \n",
       "Fer2013_filtered_uniform_aug_disgust100_residua...        0.594     0.502   \n",
       "Fer2013_filtered_uniform_aug_disgust100_residua...        0.598     0.504   \n",
       "\n",
       "                                                    happy ACC  neautral ACC  \\\n",
       "Fer2013_filtered_uniform xval-10                        0.837         0.657   \n",
       "Fer2013_filtered_uniform_aug_disgust100_residua...      0.835         0.645   \n",
       "Fer2013_filtered_uniform_aug_disgust100_residua...      0.827         0.657   \n",
       "Fer2013_filtered_uniform_aug_disgust100_residua...      0.828         0.639   \n",
       "Fer2013_filtered_uniform_aug_disgust100_residua...      0.827         0.646   \n",
       "Fer2013_filtered_uniform_aug_disgust100_residua...      0.831         0.669   \n",
       "Fer2013_filtered_uniform_aug_disgust100_identit...      0.840         0.683   \n",
       "Fer2013_filtered_uniform_aug_disgust100_identit...      0.814         0.658   \n",
       "Fer2013_filtered_uniform_aug_disgust100_identit...      0.831         0.667   \n",
       "Fer2013_filtered_uniform_aug_disgust100_residua...      0.815         0.641   \n",
       "Fer2013_filtered_uniform_aug_disgust100_residua...      0.836         0.668   \n",
       "Fer2013_filtered_uniform xval-10                        0.846         0.657   \n",
       "Fer2013_filtered_uniform xval-10                        0.811         0.670   \n",
       "Fer2013_filtered_uniform_aug_disgust100_residua...      0.831         0.657   \n",
       "Fer2013_filtered_uniform_aug_disgust100_residua...      0.830         0.643   \n",
       "Fer2013_filtered_uniform_aug_disgust200_residua...      0.820         0.662   \n",
       "Fer2013_filtered_uniform_aug_disgust200_residua...      0.822         0.632   \n",
       "Fer2013_filtered_uniform_aug_disgust200_residua...      0.812         0.640   \n",
       "Fer2013_filtered_uniform_aug_disgust100_res0.7_...      0.827         0.641   \n",
       "Fer2013_filtered_uniform_aug_disgust100_res0.7_...      0.854         0.662   \n",
       "Fer2013_filtered_uniform_aug_disgust100_res0.7_...      0.828         0.660   \n",
       "Fer2013_filtered_uniform_aug_disgust100_identit...      0.841         0.662   \n",
       "Fer2013_filtered_uniform_aug_disgust100_identit...      0.834         0.659   \n",
       "Fer2013_filtered_uniform_aug_disgust100_identit...      0.814         0.652   \n",
       "Fer2013_filtered_uniform_aug_disgust100_indenti...      0.818         0.646   \n",
       "Fer2013_filtered_uniform_aug_disgust100_indenti...      0.810         0.654   \n",
       "Fer2013_filtered_uniform_aug_disgust100_indenti...      0.817         0.653   \n",
       "Fer2013_filtered_uniform_aug_disgust100_residua...      0.826         0.661   \n",
       "Fer2013_filtered_uniform_aug_disgust100_residua...      0.822         0.647   \n",
       "Fer2013_filtered_uniform_aug_disgust100_residua...      0.823         0.657   \n",
       "Fer2013_filtered_uniform_aug_disgust100_residua...      0.832         0.662   \n",
       "Fer2013_filtered_uniform_aug_disgust100_residua...      0.838         0.646   \n",
       "Fer2013_filtered_uniform_aug_disgust100_residua...      0.815         0.670   \n",
       "Fer2013_filtered_uniform_aug_surprise100_residu...      0.822         0.656   \n",
       "Fer2013_filtered_uniform_aug_surprise100_residu...      0.833         0.656   \n",
       "Fer2013_filtered_uniform_aug_surprise100_residu...      0.809         0.678   \n",
       "Fer2013_filtered_uniform_aug_disgust100_residua...      0.810         0.646   \n",
       "Fer2013_filtered_uniform_aug_disgust100_residua...      0.817         0.640   \n",
       "Fer2013_filtered_uniform_aug_disgust100_residua...      0.831         0.667   \n",
       "Fer2013_filtered_uniform_aug_surprise1000_resid...      0.830         0.656   \n",
       "Fer2013_filtered_uniform_aug_surprise1000_resid...      0.822         0.651   \n",
       "Fer2013_filtered_uniform_aug_surprise1000_resid...      0.815         0.665   \n",
       "Fer2013_filtered_uniform_aug_surprise1000select...      0.836         0.655   \n",
       "Fer2013_filtered_uniform_aug_surprise1000select...      0.827         0.631   \n",
       "Fer2013_filtered_uniform_aug_surprise1000select...      0.821         0.641   \n",
       "Fer2013_filtered_uniform_aug_disgust100_residua...      0.811         0.687   \n",
       "Fer2013_filtered_uniform_aug_disgust100_residua...      0.815         0.662   \n",
       "Fer2013_filtered_uniform_aug_disgust100_residua...      0.823         0.684   \n",
       "\n",
       "                                                    sad ACC  surprise ACC  \n",
       "Fer2013_filtered_uniform xval-10                      0.594         0.811  \n",
       "Fer2013_filtered_uniform_aug_disgust100_residua...    0.564         0.822  \n",
       "Fer2013_filtered_uniform_aug_disgust100_residua...    0.583         0.792  \n",
       "Fer2013_filtered_uniform_aug_disgust100_residua...    0.587         0.824  \n",
       "Fer2013_filtered_uniform_aug_disgust100_residua...    0.571         0.810  \n",
       "Fer2013_filtered_uniform_aug_disgust100_residua...    0.596         0.810  \n",
       "Fer2013_filtered_uniform_aug_disgust100_identit...    0.578         0.815  \n",
       "Fer2013_filtered_uniform_aug_disgust100_identit...    0.577         0.816  \n",
       "Fer2013_filtered_uniform_aug_disgust100_identit...    0.554         0.805  \n",
       "Fer2013_filtered_uniform_aug_disgust100_residua...    0.588         0.812  \n",
       "Fer2013_filtered_uniform_aug_disgust100_residua...    0.593         0.821  \n",
       "Fer2013_filtered_uniform xval-10                      0.602         0.786  \n",
       "Fer2013_filtered_uniform xval-10                      0.585         0.804  \n",
       "Fer2013_filtered_uniform_aug_disgust100_residua...    0.585         0.820  \n",
       "Fer2013_filtered_uniform_aug_disgust100_residua...    0.568         0.815  \n",
       "Fer2013_filtered_uniform_aug_disgust200_residua...    0.596         0.815  \n",
       "Fer2013_filtered_uniform_aug_disgust200_residua...    0.591         0.819  \n",
       "Fer2013_filtered_uniform_aug_disgust200_residua...    0.567         0.804  \n",
       "Fer2013_filtered_uniform_aug_disgust100_res0.7_...    0.588         0.801  \n",
       "Fer2013_filtered_uniform_aug_disgust100_res0.7_...    0.570         0.820  \n",
       "Fer2013_filtered_uniform_aug_disgust100_res0.7_...    0.584         0.807  \n",
       "Fer2013_filtered_uniform_aug_disgust100_identit...    0.570         0.790  \n",
       "Fer2013_filtered_uniform_aug_disgust100_identit...    0.582         0.799  \n",
       "Fer2013_filtered_uniform_aug_disgust100_identit...    0.574         0.806  \n",
       "Fer2013_filtered_uniform_aug_disgust100_indenti...    0.607         0.827  \n",
       "Fer2013_filtered_uniform_aug_disgust100_indenti...    0.571         0.820  \n",
       "Fer2013_filtered_uniform_aug_disgust100_indenti...    0.564         0.798  \n",
       "Fer2013_filtered_uniform_aug_disgust100_residua...    0.582         0.806  \n",
       "Fer2013_filtered_uniform_aug_disgust100_residua...    0.607         0.825  \n",
       "Fer2013_filtered_uniform_aug_disgust100_residua...    0.574         0.798  \n",
       "Fer2013_filtered_uniform_aug_disgust100_residua...    0.571         0.822  \n",
       "Fer2013_filtered_uniform_aug_disgust100_residua...    0.602         0.819  \n",
       "Fer2013_filtered_uniform_aug_disgust100_residua...    0.594         0.806  \n",
       "Fer2013_filtered_uniform_aug_surprise100_residu...    0.586         0.808  \n",
       "Fer2013_filtered_uniform_aug_surprise100_residu...    0.575         0.810  \n",
       "Fer2013_filtered_uniform_aug_surprise100_residu...    0.551         0.812  \n",
       "Fer2013_filtered_uniform_aug_disgust100_residua...    0.604         0.804  \n",
       "Fer2013_filtered_uniform_aug_disgust100_residua...    0.565         0.808  \n",
       "Fer2013_filtered_uniform_aug_disgust100_residua...    0.593         0.808  \n",
       "Fer2013_filtered_uniform_aug_surprise1000_resid...    0.600         0.825  \n",
       "Fer2013_filtered_uniform_aug_surprise1000_resid...    0.572         0.830  \n",
       "Fer2013_filtered_uniform_aug_surprise1000_resid...    0.614         0.811  \n",
       "Fer2013_filtered_uniform_aug_surprise1000select...    0.577         0.808  \n",
       "Fer2013_filtered_uniform_aug_surprise1000select...    0.578         0.791  \n",
       "Fer2013_filtered_uniform_aug_surprise1000select...    0.603         0.813  \n",
       "Fer2013_filtered_uniform_aug_disgust100_residua...    0.571         0.810  \n",
       "Fer2013_filtered_uniform_aug_disgust100_residua...    0.569         0.787  \n",
       "Fer2013_filtered_uniform_aug_disgust100_residua...    0.571         0.815  "
      ]
     },
     "execution_count": 71,
     "metadata": {},
     "output_type": "execute_result"
    }
   ],
   "source": [
    "try:\n",
    "    stored_df = pd.read_csv(os.path.join(metrics_directory, metrics_name),index_col=0)\n",
    "except FileNotFoundError:\n",
    "    stored_df = pd.DataFrame(columns = columns)\n",
    "stored_df"
   ]
  },
  {
   "cell_type": "code",
   "execution_count": 72,
   "id": "af48bbbe",
   "metadata": {},
   "outputs": [],
   "source": [
    "stored_df.index.name = \"Method\"\n",
    "stored_df = stored_df.groupby(\"Method\").mean()"
   ]
  },
  {
   "cell_type": "code",
   "execution_count": 73,
   "id": "14176e96",
   "metadata": {},
   "outputs": [],
   "source": [
    "methods_names = {\"Fer2013_filtered_uniform xval-10\": \"Baseline\",\n",
    "\"Fer2013_filtered_uniform_aug_disgust100_indentity00 xval-10\": \"CycleGAN\",\n",
    "\"Fer2013_filtered_uniform_aug_disgust100_residual05_identity05 xval-10\": \"ECycleGAN\",\n",
    "\"Fer2013_filtered_uniform_aug_disgust100_residual05_identity05_ls01 xval-10\": \"ECycleGAN + Label Smoothing\",\n",
    "\"Fer2013_filtered_uniform_aug_disgust100_residual05_identity05_in005 xval-10\": \"ECycleGAN + Instance Noise\",\n",
    "\"Fer2013_filtered_uniform_aug_disgust100_residual05_identity05_alternate10 xval-10\": \"ECycleGAN + Alternate Training\"\n",
    "}"
   ]
  },
  {
   "cell_type": "code",
   "execution_count": 87,
   "id": "fcf72265",
   "metadata": {},
   "outputs": [
    {
     "data": {
      "application/vnd.plotly.v1+json": {
       "config": {
        "plotlyServerURL": "https://plot.ly"
       },
       "data": [
        {
         "name": "Baseline",
         "type": "bar",
         "x": [
          "mean AUC",
          "angry AUC",
          "disgust AUC",
          "fear AUC",
          "happy AUC",
          "neautral AUC",
          "sad AUC",
          "surprise AUC",
          "mean ACC",
          "angry ACC",
          "disgust ACC",
          "fear ACC",
          "happy ACC",
          "neautral ACC",
          "sad ACC",
          "surprise ACC"
         ],
         "y": [
          0.9129060317460317,
          0.8779075000000001,
          0.9483344444444444,
          0.8487255555555556,
          0.9633786111111112,
          0.9210083333333334,
          0.8564625,
          0.9745252777777779,
          0.6386666666666666,
          0.5576666666666666,
          0.5426666666666666,
          0.48366666666666663,
          0.8313333333333333,
          0.6613333333333333,
          0.5936666666666667,
          0.8003333333333332
         ]
        },
        {
         "name": "CycleGAN",
         "type": "bar",
         "x": [
          "mean AUC",
          "angry AUC",
          "disgust AUC",
          "fear AUC",
          "happy AUC",
          "neautral AUC",
          "sad AUC",
          "surprise AUC",
          "mean ACC",
          "angry ACC",
          "disgust ACC",
          "fear ACC",
          "happy ACC",
          "neautral ACC",
          "sad ACC",
          "surprise ACC"
         ],
         "y": [
          0.9132869444444446,
          0.8799319444444444,
          0.9538161111111111,
          0.8485472222222222,
          0.9630400000000002,
          0.9147963888888887,
          0.8565738888888889,
          0.9763030555555555,
          0.6363809523809524,
          0.5546666666666665,
          0.5753333333333334,
          0.463,
          0.815,
          0.651,
          0.5806666666666667,
          0.815
         ]
        },
        {
         "name": "ECycleGAN",
         "type": "bar",
         "x": [
          "mean AUC",
          "angry AUC",
          "disgust AUC",
          "fear AUC",
          "happy AUC",
          "neautral AUC",
          "sad AUC",
          "surprise AUC",
          "mean ACC",
          "angry ACC",
          "disgust ACC",
          "fear ACC",
          "happy ACC",
          "neautral ACC",
          "sad ACC",
          "surprise ACC"
         ],
         "y": [
          0.9143534126984129,
          0.8832011111111111,
          0.9501400000000001,
          0.8529333333333332,
          0.9642586111111111,
          0.9180191666666667,
          0.8568880555555555,
          0.9750336111111112,
          0.6451428571428571,
          0.5676666666666668,
          0.5826666666666668,
          0.47233333333333344,
          0.8273333333333334,
          0.6593333333333332,
          0.5923333333333334,
          0.8143333333333334
         ]
        },
        {
         "name": "ECycleGAN + Label Smoothing",
         "type": "bar",
         "x": [
          "mean AUC",
          "angry AUC",
          "disgust AUC",
          "fear AUC",
          "happy AUC",
          "neautral AUC",
          "sad AUC",
          "surprise AUC",
          "mean ACC",
          "angry ACC",
          "disgust ACC",
          "fear ACC",
          "happy ACC",
          "neautral ACC",
          "sad ACC",
          "surprise ACC"
         ],
         "y": [
          0.9127207142857143,
          0.8763311111111111,
          0.9471205555555557,
          0.8506261111111112,
          0.9640661111111112,
          0.9191472222222222,
          0.857163888888889,
          0.9745900000000001,
          0.6399523809523809,
          0.547,
          0.5716666666666668,
          0.4686666666666666,
          0.8283333333333335,
          0.6593333333333333,
          0.589,
          0.8156666666666667
         ]
        },
        {
         "name": "ECycleGAN + Instance Noise",
         "type": "bar",
         "x": [
          "mean AUC",
          "angry AUC",
          "disgust AUC",
          "fear AUC",
          "happy AUC",
          "neautral AUC",
          "sad AUC",
          "surprise AUC",
          "mean ACC",
          "angry ACC",
          "disgust ACC",
          "fear ACC",
          "happy ACC",
          "neautral ACC",
          "sad ACC",
          "surprise ACC"
         ],
         "y": [
          0.9121011111111111,
          0.879063888888889,
          0.9453383333333334,
          0.8470838888888889,
          0.9641238888888889,
          0.9178422222222222,
          0.8565291666666667,
          0.974726388888889,
          0.6388095238095238,
          0.5616666666666666,
          0.5566666666666666,
          0.47733333333333333,
          0.8236666666666667,
          0.6549999999999999,
          0.5876666666666667,
          0.8096666666666668
         ]
        },
        {
         "name": "ECycleGAN + Alternate Training",
         "type": "bar",
         "x": [
          "mean AUC",
          "angry AUC",
          "disgust AUC",
          "fear AUC",
          "happy AUC",
          "neautral AUC",
          "sad AUC",
          "surprise AUC",
          "mean ACC",
          "angry ACC",
          "disgust ACC",
          "fear ACC",
          "happy ACC",
          "neautral ACC",
          "sad ACC",
          "surprise ACC"
         ],
         "y": [
          0.9112735714285715,
          0.8761936111111112,
          0.9466377777777778,
          0.8441825,
          0.9617877777777778,
          0.9165647222222222,
          0.8582747222222221,
          0.9752738888888889,
          0.6365238095238096,
          0.5483333333333333,
          0.5680000000000001,
          0.4749999999999999,
          0.8193333333333334,
          0.651,
          0.5873333333333334,
          0.8066666666666666
         ]
        }
       ],
       "layout": {
        "barmode": "group",
        "template": {
         "data": {
          "bar": [
           {
            "error_x": {
             "color": "#2a3f5f"
            },
            "error_y": {
             "color": "#2a3f5f"
            },
            "marker": {
             "line": {
              "color": "#E5ECF6",
              "width": 0.5
             },
             "pattern": {
              "fillmode": "overlay",
              "size": 10,
              "solidity": 0.2
             }
            },
            "type": "bar"
           }
          ],
          "barpolar": [
           {
            "marker": {
             "line": {
              "color": "#E5ECF6",
              "width": 0.5
             },
             "pattern": {
              "fillmode": "overlay",
              "size": 10,
              "solidity": 0.2
             }
            },
            "type": "barpolar"
           }
          ],
          "carpet": [
           {
            "aaxis": {
             "endlinecolor": "#2a3f5f",
             "gridcolor": "white",
             "linecolor": "white",
             "minorgridcolor": "white",
             "startlinecolor": "#2a3f5f"
            },
            "baxis": {
             "endlinecolor": "#2a3f5f",
             "gridcolor": "white",
             "linecolor": "white",
             "minorgridcolor": "white",
             "startlinecolor": "#2a3f5f"
            },
            "type": "carpet"
           }
          ],
          "choropleth": [
           {
            "colorbar": {
             "outlinewidth": 0,
             "ticks": ""
            },
            "type": "choropleth"
           }
          ],
          "contour": [
           {
            "colorbar": {
             "outlinewidth": 0,
             "ticks": ""
            },
            "colorscale": [
             [
              0,
              "#0d0887"
             ],
             [
              0.1111111111111111,
              "#46039f"
             ],
             [
              0.2222222222222222,
              "#7201a8"
             ],
             [
              0.3333333333333333,
              "#9c179e"
             ],
             [
              0.4444444444444444,
              "#bd3786"
             ],
             [
              0.5555555555555556,
              "#d8576b"
             ],
             [
              0.6666666666666666,
              "#ed7953"
             ],
             [
              0.7777777777777778,
              "#fb9f3a"
             ],
             [
              0.8888888888888888,
              "#fdca26"
             ],
             [
              1,
              "#f0f921"
             ]
            ],
            "type": "contour"
           }
          ],
          "contourcarpet": [
           {
            "colorbar": {
             "outlinewidth": 0,
             "ticks": ""
            },
            "type": "contourcarpet"
           }
          ],
          "heatmap": [
           {
            "colorbar": {
             "outlinewidth": 0,
             "ticks": ""
            },
            "colorscale": [
             [
              0,
              "#0d0887"
             ],
             [
              0.1111111111111111,
              "#46039f"
             ],
             [
              0.2222222222222222,
              "#7201a8"
             ],
             [
              0.3333333333333333,
              "#9c179e"
             ],
             [
              0.4444444444444444,
              "#bd3786"
             ],
             [
              0.5555555555555556,
              "#d8576b"
             ],
             [
              0.6666666666666666,
              "#ed7953"
             ],
             [
              0.7777777777777778,
              "#fb9f3a"
             ],
             [
              0.8888888888888888,
              "#fdca26"
             ],
             [
              1,
              "#f0f921"
             ]
            ],
            "type": "heatmap"
           }
          ],
          "heatmapgl": [
           {
            "colorbar": {
             "outlinewidth": 0,
             "ticks": ""
            },
            "colorscale": [
             [
              0,
              "#0d0887"
             ],
             [
              0.1111111111111111,
              "#46039f"
             ],
             [
              0.2222222222222222,
              "#7201a8"
             ],
             [
              0.3333333333333333,
              "#9c179e"
             ],
             [
              0.4444444444444444,
              "#bd3786"
             ],
             [
              0.5555555555555556,
              "#d8576b"
             ],
             [
              0.6666666666666666,
              "#ed7953"
             ],
             [
              0.7777777777777778,
              "#fb9f3a"
             ],
             [
              0.8888888888888888,
              "#fdca26"
             ],
             [
              1,
              "#f0f921"
             ]
            ],
            "type": "heatmapgl"
           }
          ],
          "histogram": [
           {
            "marker": {
             "pattern": {
              "fillmode": "overlay",
              "size": 10,
              "solidity": 0.2
             }
            },
            "type": "histogram"
           }
          ],
          "histogram2d": [
           {
            "colorbar": {
             "outlinewidth": 0,
             "ticks": ""
            },
            "colorscale": [
             [
              0,
              "#0d0887"
             ],
             [
              0.1111111111111111,
              "#46039f"
             ],
             [
              0.2222222222222222,
              "#7201a8"
             ],
             [
              0.3333333333333333,
              "#9c179e"
             ],
             [
              0.4444444444444444,
              "#bd3786"
             ],
             [
              0.5555555555555556,
              "#d8576b"
             ],
             [
              0.6666666666666666,
              "#ed7953"
             ],
             [
              0.7777777777777778,
              "#fb9f3a"
             ],
             [
              0.8888888888888888,
              "#fdca26"
             ],
             [
              1,
              "#f0f921"
             ]
            ],
            "type": "histogram2d"
           }
          ],
          "histogram2dcontour": [
           {
            "colorbar": {
             "outlinewidth": 0,
             "ticks": ""
            },
            "colorscale": [
             [
              0,
              "#0d0887"
             ],
             [
              0.1111111111111111,
              "#46039f"
             ],
             [
              0.2222222222222222,
              "#7201a8"
             ],
             [
              0.3333333333333333,
              "#9c179e"
             ],
             [
              0.4444444444444444,
              "#bd3786"
             ],
             [
              0.5555555555555556,
              "#d8576b"
             ],
             [
              0.6666666666666666,
              "#ed7953"
             ],
             [
              0.7777777777777778,
              "#fb9f3a"
             ],
             [
              0.8888888888888888,
              "#fdca26"
             ],
             [
              1,
              "#f0f921"
             ]
            ],
            "type": "histogram2dcontour"
           }
          ],
          "mesh3d": [
           {
            "colorbar": {
             "outlinewidth": 0,
             "ticks": ""
            },
            "type": "mesh3d"
           }
          ],
          "parcoords": [
           {
            "line": {
             "colorbar": {
              "outlinewidth": 0,
              "ticks": ""
             }
            },
            "type": "parcoords"
           }
          ],
          "pie": [
           {
            "automargin": true,
            "type": "pie"
           }
          ],
          "scatter": [
           {
            "fillpattern": {
             "fillmode": "overlay",
             "size": 10,
             "solidity": 0.2
            },
            "type": "scatter"
           }
          ],
          "scatter3d": [
           {
            "line": {
             "colorbar": {
              "outlinewidth": 0,
              "ticks": ""
             }
            },
            "marker": {
             "colorbar": {
              "outlinewidth": 0,
              "ticks": ""
             }
            },
            "type": "scatter3d"
           }
          ],
          "scattercarpet": [
           {
            "marker": {
             "colorbar": {
              "outlinewidth": 0,
              "ticks": ""
             }
            },
            "type": "scattercarpet"
           }
          ],
          "scattergeo": [
           {
            "marker": {
             "colorbar": {
              "outlinewidth": 0,
              "ticks": ""
             }
            },
            "type": "scattergeo"
           }
          ],
          "scattergl": [
           {
            "marker": {
             "colorbar": {
              "outlinewidth": 0,
              "ticks": ""
             }
            },
            "type": "scattergl"
           }
          ],
          "scattermapbox": [
           {
            "marker": {
             "colorbar": {
              "outlinewidth": 0,
              "ticks": ""
             }
            },
            "type": "scattermapbox"
           }
          ],
          "scatterpolar": [
           {
            "marker": {
             "colorbar": {
              "outlinewidth": 0,
              "ticks": ""
             }
            },
            "type": "scatterpolar"
           }
          ],
          "scatterpolargl": [
           {
            "marker": {
             "colorbar": {
              "outlinewidth": 0,
              "ticks": ""
             }
            },
            "type": "scatterpolargl"
           }
          ],
          "scatterternary": [
           {
            "marker": {
             "colorbar": {
              "outlinewidth": 0,
              "ticks": ""
             }
            },
            "type": "scatterternary"
           }
          ],
          "surface": [
           {
            "colorbar": {
             "outlinewidth": 0,
             "ticks": ""
            },
            "colorscale": [
             [
              0,
              "#0d0887"
             ],
             [
              0.1111111111111111,
              "#46039f"
             ],
             [
              0.2222222222222222,
              "#7201a8"
             ],
             [
              0.3333333333333333,
              "#9c179e"
             ],
             [
              0.4444444444444444,
              "#bd3786"
             ],
             [
              0.5555555555555556,
              "#d8576b"
             ],
             [
              0.6666666666666666,
              "#ed7953"
             ],
             [
              0.7777777777777778,
              "#fb9f3a"
             ],
             [
              0.8888888888888888,
              "#fdca26"
             ],
             [
              1,
              "#f0f921"
             ]
            ],
            "type": "surface"
           }
          ],
          "table": [
           {
            "cells": {
             "fill": {
              "color": "#EBF0F8"
             },
             "line": {
              "color": "white"
             }
            },
            "header": {
             "fill": {
              "color": "#C8D4E3"
             },
             "line": {
              "color": "white"
             }
            },
            "type": "table"
           }
          ]
         },
         "layout": {
          "annotationdefaults": {
           "arrowcolor": "#2a3f5f",
           "arrowhead": 0,
           "arrowwidth": 1
          },
          "autotypenumbers": "strict",
          "coloraxis": {
           "colorbar": {
            "outlinewidth": 0,
            "ticks": ""
           }
          },
          "colorscale": {
           "diverging": [
            [
             0,
             "#8e0152"
            ],
            [
             0.1,
             "#c51b7d"
            ],
            [
             0.2,
             "#de77ae"
            ],
            [
             0.3,
             "#f1b6da"
            ],
            [
             0.4,
             "#fde0ef"
            ],
            [
             0.5,
             "#f7f7f7"
            ],
            [
             0.6,
             "#e6f5d0"
            ],
            [
             0.7,
             "#b8e186"
            ],
            [
             0.8,
             "#7fbc41"
            ],
            [
             0.9,
             "#4d9221"
            ],
            [
             1,
             "#276419"
            ]
           ],
           "sequential": [
            [
             0,
             "#0d0887"
            ],
            [
             0.1111111111111111,
             "#46039f"
            ],
            [
             0.2222222222222222,
             "#7201a8"
            ],
            [
             0.3333333333333333,
             "#9c179e"
            ],
            [
             0.4444444444444444,
             "#bd3786"
            ],
            [
             0.5555555555555556,
             "#d8576b"
            ],
            [
             0.6666666666666666,
             "#ed7953"
            ],
            [
             0.7777777777777778,
             "#fb9f3a"
            ],
            [
             0.8888888888888888,
             "#fdca26"
            ],
            [
             1,
             "#f0f921"
            ]
           ],
           "sequentialminus": [
            [
             0,
             "#0d0887"
            ],
            [
             0.1111111111111111,
             "#46039f"
            ],
            [
             0.2222222222222222,
             "#7201a8"
            ],
            [
             0.3333333333333333,
             "#9c179e"
            ],
            [
             0.4444444444444444,
             "#bd3786"
            ],
            [
             0.5555555555555556,
             "#d8576b"
            ],
            [
             0.6666666666666666,
             "#ed7953"
            ],
            [
             0.7777777777777778,
             "#fb9f3a"
            ],
            [
             0.8888888888888888,
             "#fdca26"
            ],
            [
             1,
             "#f0f921"
            ]
           ]
          },
          "colorway": [
           "#636efa",
           "#EF553B",
           "#00cc96",
           "#ab63fa",
           "#FFA15A",
           "#19d3f3",
           "#FF6692",
           "#B6E880",
           "#FF97FF",
           "#FECB52"
          ],
          "font": {
           "color": "#2a3f5f"
          },
          "geo": {
           "bgcolor": "white",
           "lakecolor": "white",
           "landcolor": "#E5ECF6",
           "showlakes": true,
           "showland": true,
           "subunitcolor": "white"
          },
          "hoverlabel": {
           "align": "left"
          },
          "hovermode": "closest",
          "mapbox": {
           "style": "light"
          },
          "paper_bgcolor": "white",
          "plot_bgcolor": "#E5ECF6",
          "polar": {
           "angularaxis": {
            "gridcolor": "white",
            "linecolor": "white",
            "ticks": ""
           },
           "bgcolor": "#E5ECF6",
           "radialaxis": {
            "gridcolor": "white",
            "linecolor": "white",
            "ticks": ""
           }
          },
          "scene": {
           "xaxis": {
            "backgroundcolor": "#E5ECF6",
            "gridcolor": "white",
            "gridwidth": 2,
            "linecolor": "white",
            "showbackground": true,
            "ticks": "",
            "zerolinecolor": "white"
           },
           "yaxis": {
            "backgroundcolor": "#E5ECF6",
            "gridcolor": "white",
            "gridwidth": 2,
            "linecolor": "white",
            "showbackground": true,
            "ticks": "",
            "zerolinecolor": "white"
           },
           "zaxis": {
            "backgroundcolor": "#E5ECF6",
            "gridcolor": "white",
            "gridwidth": 2,
            "linecolor": "white",
            "showbackground": true,
            "ticks": "",
            "zerolinecolor": "white"
           }
          },
          "shapedefaults": {
           "line": {
            "color": "#2a3f5f"
           }
          },
          "ternary": {
           "aaxis": {
            "gridcolor": "white",
            "linecolor": "white",
            "ticks": ""
           },
           "baxis": {
            "gridcolor": "white",
            "linecolor": "white",
            "ticks": ""
           },
           "bgcolor": "#E5ECF6",
           "caxis": {
            "gridcolor": "white",
            "linecolor": "white",
            "ticks": ""
           }
          },
          "title": {
           "x": 0.05
          },
          "xaxis": {
           "automargin": true,
           "gridcolor": "white",
           "linecolor": "white",
           "ticks": "",
           "title": {
            "standoff": 15
           },
           "zerolinecolor": "white",
           "zerolinewidth": 2
          },
          "yaxis": {
           "automargin": true,
           "gridcolor": "white",
           "linecolor": "white",
           "ticks": "",
           "title": {
            "standoff": 15
           },
           "zerolinecolor": "white",
           "zerolinewidth": 2
          }
         }
        },
        "yaxis": {
         "range": [
          0.7,
          1
         ]
        }
       }
      }
     },
     "metadata": {},
     "output_type": "display_data"
    }
   ],
   "source": [
    "methods =list(methods_names.values())\n",
    "metrics = stored_df.columns\n",
    "data = []\n",
    "for i,m in enumerate(methods):\n",
    "    data.append(go.Bar(name=m, x=metrics, y = filtered_df.loc[list(methods_names.keys())[i]].values))\n",
    "\n",
    "fig = go.Figure(data=data)\n",
    "# Change the bar mode\n",
    "fig.update_layout(barmode='group',yaxis_range = [0.70, 1.0])\n",
    "fig.show()"
   ]
  }
 ],
 "metadata": {
  "kernelspec": {
   "display_name": "Python 3.9.8 ('adlmam': venv)",
   "language": "python",
   "name": "python3"
  },
  "language_info": {
   "codemirror_mode": {
    "name": "ipython",
    "version": 3
   },
   "file_extension": ".py",
   "mimetype": "text/x-python",
   "name": "python",
   "nbconvert_exporter": "python",
   "pygments_lexer": "ipython3",
   "version": "3.9.8"
  },
  "vscode": {
   "interpreter": {
    "hash": "106c4f8174829cec3852d25fc2502034183f8bb6abf498d99bcfdbdcf1e0115d"
   }
  }
 },
 "nbformat": 4,
 "nbformat_minor": 5
}
