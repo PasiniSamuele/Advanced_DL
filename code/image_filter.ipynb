{
 "cells": [
  {
   "cell_type": "code",
   "execution_count": 14,
   "metadata": {},
   "outputs": [],
   "source": [
    "import os\n",
    "import numpy as np"
   ]
  },
  {
   "cell_type": "code",
   "execution_count": 15,
   "metadata": {},
   "outputs": [],
   "source": [
    "# load indexes\n",
    "filesdir = \"indexes\"\n",
    "bechdir = os.path.join(filesdir, \"benchmark.npy\")\n",
    "removedir = os.path.join(filesdir, \"toremove.npy\")\n",
    "lastind = os.path.join(filesdir, \"lastind.npy\")"
   ]
  },
  {
   "cell_type": "code",
   "execution_count": 17,
   "metadata": {},
   "outputs": [
    {
     "name": "stdout",
     "output_type": "stream",
     "text": [
      "2 11123843\n",
      "3 11164800\n",
      "benchmarked 11164800\n",
      "4 11239107\n",
      "removed 11239107\n",
      "5 11262548\n",
      "6 1129340\n",
      "7 11724564\n",
      "8 11752870\n",
      "benchmarked 11752870\n",
      "9 11775247\n",
      "removed 11775247\n",
      "10 12091739\n",
      "11 12201145\n",
      "benchmarked 12201145\n",
      "12 12208844\n",
      "removed 12208844\n",
      "13 12372270\n",
      "removed 12372270\n",
      "14 12810304\n",
      "15 13422828\n",
      "16 13501133\n",
      "17 13654203\n",
      "18 13684683\n"
     ]
    }
   ],
   "source": [
    "%run gui.py"
   ]
  },
  {
   "cell_type": "code",
   "execution_count": 18,
   "metadata": {},
   "outputs": [],
   "source": [
    "try:\n",
    "    benchmarks = np.load(bechdir).tolist()\n",
    "except OSError:\n",
    "    benchmarks = []\n",
    "try:\n",
    "    to_remove = np.load(removedir).tolist()\n",
    "except OSError:\n",
    "    to_remove = []\n",
    "try:\n",
    "    base_ind = np.load(lastind)\n",
    "except OSError:\n",
    "    base_ind = 0"
   ]
  },
  {
   "cell_type": "code",
   "execution_count": 19,
   "metadata": {},
   "outputs": [
    {
     "name": "stdout",
     "output_type": "stream",
     "text": [
      "[11164800, 11752870, 12201145]\n",
      "[11239107, 11775247, 12208844, 12372270]\n",
      "18\n"
     ]
    }
   ],
   "source": [
    "print(benchmarks)\n",
    "print(to_remove)\n",
    "print(base_ind)"
   ]
  },
  {
   "cell_type": "markdown",
   "metadata": {},
   "source": [
    "## Manual settings\n",
    "(switch cell to code)"
   ]
  },
  {
   "cell_type": "markdown",
   "metadata": {},
   "source": [
    "# Reset benchmarks\n",
    "np.save(bechdir,[])\n",
    "# Reset to_remove\n",
    "np.save(removedir,[])\n",
    "# Set base index\n",
    "np.save(lastind,0)"
   ]
  },
  {
   "cell_type": "code",
   "execution_count": null,
   "metadata": {},
   "outputs": [],
   "source": []
  }
 ],
 "metadata": {
  "kernelspec": {
   "display_name": "Python 3.9.13 64-bit (system)",
   "language": "python",
   "name": "python3"
  },
  "language_info": {
   "codemirror_mode": {
    "name": "ipython",
    "version": 3
   },
   "file_extension": ".py",
   "mimetype": "text/x-python",
   "name": "python",
   "nbconvert_exporter": "python",
   "pygments_lexer": "ipython3",
   "version": "3.9.13"
  },
  "orig_nbformat": 4,
  "vscode": {
   "interpreter": {
    "hash": "4c1f182555212a9854645afbacc562781dae715ef930cf4cbb779c01705a033a"
   }
  }
 },
 "nbformat": 4,
 "nbformat_minor": 2
}
