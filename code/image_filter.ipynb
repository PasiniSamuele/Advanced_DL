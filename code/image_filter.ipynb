{
 "cells": [
  {
   "cell_type": "code",
   "execution_count": 34,
   "metadata": {},
   "outputs": [],
   "source": [
    "import matplotlib.pyplot as plt\n",
    "import matplotlib.image as mpimg\n",
    "from IPython.display import clear_output\n",
    "import os\n",
    "import numpy as np"
   ]
  },
  {
   "cell_type": "code",
   "execution_count": 35,
   "metadata": {},
   "outputs": [],
   "source": [
    "datadir = \"..\\\\repos\\pytorch-CycleGAN-and-pix2pix\\\\results\\emotions_e03\\\\test_latest\\images\"\n",
    "filesdir = \"indexes\"\n",
    "bechdir = os.path.join(filesdir,\"benchmark.npy\")\n",
    "removedir = os.path.join(filesdir,\"toremove.npy\")\n",
    "lastind = os.path.join(filesdir,\"lastind.npy\")"
   ]
  },
  {
   "cell_type": "code",
   "execution_count": 36,
   "metadata": {},
   "outputs": [
    {
     "data": {
      "text/plain": [
       "['PrivateTest_10086748_fake_A.png',\n",
       " 'PrivateTest_10086748_fake_B.png',\n",
       " 'PrivateTest_10086748_real_A.png',\n",
       " 'PrivateTest_10086748_real_B.png',\n",
       " 'PrivateTest_10086748_rec_A.png',\n",
       " 'PrivateTest_10086748_rec_B.png',\n",
       " 'PrivateTest_10767287_fake_A.png',\n",
       " 'PrivateTest_10767287_fake_B.png',\n",
       " 'PrivateTest_10767287_real_A.png',\n",
       " 'PrivateTest_10767287_real_B.png']"
      ]
     },
     "execution_count": 36,
     "metadata": {},
     "output_type": "execute_result"
    }
   ],
   "source": [
    "imgs = os.listdir(datadir)\n",
    "imgs[:10]"
   ]
  },
  {
   "cell_type": "code",
   "execution_count": 37,
   "metadata": {},
   "outputs": [],
   "source": [
    "f = filter(lambda img: \"fake_B\" in img,imgs)\n",
    "fakebs = list(f)"
   ]
  },
  {
   "cell_type": "code",
   "execution_count": 38,
   "metadata": {},
   "outputs": [],
   "source": [
    "benchmarks = []\n",
    "to_remove = []\n",
    "\n",
    "start = 0\n",
    "# index in the array"
   ]
  },
  {
   "cell_type": "code",
   "execution_count": 39,
   "metadata": {},
   "outputs": [
    {
     "data": {
      "image/png": "[encoded data removed]",
      "text/plain": [
       "<Figure size 432x288 with 1 Axes>"
      ]
     },
     "metadata": {
      "needs_background": "light"
     },
     "output_type": "display_data"
    }
   ],
   "source": [
    "for num, name in enumerate(fakebs[start:]):\n",
    "    index = int(name.split(\"_\")[1])\n",
    "\n",
    "    clear_output(wait=True)\n",
    "    img = mpimg.imread(os.path.join(datadir,name))\n",
    "    imgplot = plt.imshow(img)\n",
    "    plt.show()\n",
    "    res = input(\"b - benchmark, r - remove, e - end, * - skip\")\n",
    "\n",
    "    \n",
    "    if res == \"b\":\n",
    "        benchmarks.append(index)\n",
    "    elif res == \"r\":\n",
    "        to_remove.append(index)\n",
    "    elif res == \"e\":\n",
    "        break"
   ]
  },
  {
   "cell_type": "code",
   "execution_count": 40,
   "metadata": {},
   "outputs": [
    {
     "name": "stdout",
     "output_type": "stream",
     "text": [
      "3\n",
      "[]\n",
      "[]\n"
     ]
    }
   ],
   "source": [
    "print(num)\n",
    "print(benchmarks)\n",
    "print(to_remove)"
   ]
  },
  {
   "cell_type": "code",
   "execution_count": 31,
   "metadata": {},
   "outputs": [],
   "source": [
    "np.save(bechdir,[])\n",
    "np.save(removedir,[])\n",
    "np.save(lastind,0)"
   ]
  },
  {
   "cell_type": "code",
   "execution_count": 32,
   "metadata": {},
   "outputs": [],
   "source": [
    "saved_bench = np.load(bechdir)\n",
    "saved_toremove = np.load(removedir)\n",
    "saved_ind = np.load(lastind)"
   ]
  },
  {
   "cell_type": "code",
   "execution_count": 41,
   "metadata": {},
   "outputs": [
    {
     "data": {
      "text/plain": [
       "array([], dtype=float64)"
      ]
     },
     "execution_count": 41,
     "metadata": {},
     "output_type": "execute_result"
    }
   ],
   "source": [
    "saved_bench"
   ]
  },
  {
   "cell_type": "code",
   "execution_count": 33,
   "metadata": {},
   "outputs": [
    {
     "ename": "TypeError",
     "evalue": "_save_dispatcher() missing 1 required positional argument: 'arr'",
     "output_type": "error",
     "traceback": [
      "\u001b[1;31m---------------------------------------------------------------------------\u001b[0m",
      "\u001b[1;31mTypeError\u001b[0m                                 Traceback (most recent call last)",
      "\u001b[1;32md:\\Documenti\\GitHub\\Advanced_DL\\code\\image_filter.ipynb Cell 10\u001b[0m in \u001b[0;36m<cell line: 1>\u001b[1;34m()\u001b[0m\n\u001b[1;32m----> <a href='vscode-notebook-cell:/d%3A/Documenti/GitHub/Advanced_DL/code/image_filter.ipynb#ch0000006?line=0'>1</a>\u001b[0m np\u001b[39m.\u001b[39;49msave(benchmarks,)\n",
      "File \u001b[1;32m<__array_function__ internals>:179\u001b[0m, in \u001b[0;36msave\u001b[1;34m(*args, **kwargs)\u001b[0m\n",
      "\u001b[1;31mTypeError\u001b[0m: _save_dispatcher() missing 1 required positional argument: 'arr'"
     ]
    }
   ],
   "source": [
    "np.save(benchmarks,)"
   ]
  },
  {
   "cell_type": "code",
   "execution_count": null,
   "metadata": {},
   "outputs": [
    {
     "data": {
      "text/plain": [
       "[11775247, 12201145, 12208844]"
      ]
     },
     "execution_count": 22,
     "metadata": {},
     "output_type": "execute_result"
    }
   ],
   "source": [
    "to_remove"
   ]
  },
  {
   "cell_type": "code",
   "execution_count": null,
   "metadata": {},
   "outputs": [],
   "source": []
  }
 ],
 "metadata": {
  "kernelspec": {
   "display_name": "Python 3.9.13 64-bit (system)",
   "language": "python",
   "name": "python3"
  },
  "language_info": {
   "codemirror_mode": {
    "name": "ipython",
    "version": 3
   },
   "file_extension": ".py",
   "mimetype": "text/x-python",
   "name": "python",
   "nbconvert_exporter": "python",
   "pygments_lexer": "ipython3",
   "version": "3.9.13"
  },
  "orig_nbformat": 4,
  "vscode": {
   "interpreter": {
    "hash": "4c1f182555212a9854645afbacc562781dae715ef930cf4cbb779c01705a033a"
   }
  }
 },
 "nbformat": 4,
 "nbformat_minor": 2
}
