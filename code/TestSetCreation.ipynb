{
 "cells": [
  {
   "cell_type": "markdown",
   "metadata": {},
   "source": [
    "# Creation of uniform test set"
   ]
  },
  {
   "cell_type": "code",
   "execution_count": 1,
   "metadata": {},
   "outputs": [],
   "source": [
    "import torch\n",
    "import torch.nn as nn\n",
    "import torch.nn.functional as F\n",
    "import torch.optim as optim\n",
    "import os\n",
    "import glob\n",
    "import shutil\n",
    "import random\n",
    "\n",
    "from tqdm.notebook import tqdm, trange\n",
    "from torchvision.io import read_image\n",
    "from torchvision.transforms import ToTensor\n",
    "from torchvision import transforms\n",
    "from torchsummary import summary\n",
    "from torch.utils.data import DataLoader\n",
    "from torchvision.datasets import ImageFolder"
   ]
  },
  {
   "cell_type": "code",
   "execution_count": 2,
   "metadata": {},
   "outputs": [],
   "source": [
    "dataset_name = \"Fer2013_filtered\"\n",
    "dataset_folder = \"../datasets\"\n",
    "starting_dataset = f\"{dataset_folder}/{dataset_name}\"\n",
    "ending_dataset = f\"{dataset_folder}/{dataset_name}_uniform\"\n",
    "train_new_df_path = f\"{ending_dataset}/train\"\n",
    "test_new_df_path = f\"{ending_dataset}/test\"\n",
    "batch_size = 32\n",
    "test_size = 100"
   ]
  },
  {
   "cell_type": "code",
   "execution_count": 3,
   "metadata": {},
   "outputs": [],
   "source": [
    "if not os.path.isdir(train_new_df_path):\n",
    "    os.makedirs(name = train_new_df_path, exist_ok=True)\n",
    "if not os.path.isdir(test_new_df_path):\n",
    "    os.makedirs(name = test_new_df_path, exist_ok=True)"
   ]
  },
  {
   "cell_type": "code",
   "execution_count": 4,
   "metadata": {},
   "outputs": [
    {
     "data": {
      "text/plain": [
       "'../datasets/Fer2013_filtered_uniform/train'"
      ]
     },
     "execution_count": 4,
     "metadata": {},
     "output_type": "execute_result"
    }
   ],
   "source": [
    "#Keep training set as is\n",
    "shutil.copytree(starting_dataset,train_new_df_path,dirs_exist_ok=True)"
   ]
  },
  {
   "cell_type": "code",
   "execution_count": 5,
   "metadata": {},
   "outputs": [],
   "source": [
    "#Sample test set\n",
    "for _, dirs, _ in os.walk(train_new_df_path, topdown=False):\n",
    "   for name in dirs:\n",
    "      if not os.path.isdir(f\"{test_new_df_path}/{name}\"):\n",
    "         os.makedirs(name = f\"{test_new_df_path}/{name}\", exist_ok=True)\n",
    "         for image in random.sample(glob.glob(f\"{train_new_df_path}/{name}/*\"), test_size):\n",
    "            shutil.move(image, f\"{test_new_df_path}/{name}\")\n",
    "      "
   ]
  }
 ],
 "metadata": {
  "kernelspec": {
   "display_name": "Python 3.9.13 ('admm')",
   "language": "python",
   "name": "python3"
  },
  "language_info": {
   "codemirror_mode": {
    "name": "ipython",
    "version": 3
   },
   "file_extension": ".py",
   "mimetype": "text/x-python",
   "name": "python",
   "nbconvert_exporter": "python",
   "pygments_lexer": "ipython3",
   "version": "3.9.13"
  },
  "orig_nbformat": 4,
  "vscode": {
   "interpreter": {
    "hash": "4c1f182555212a9854645afbacc562781dae715ef930cf4cbb779c01705a033a"
   }
  }
 },
 "nbformat": 4,
 "nbformat_minor": 2
}
